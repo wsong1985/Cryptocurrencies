{
 "cells": [
  {
   "cell_type": "markdown",
   "metadata": {},
   "source": [
    "# Clustering Crypto"
   ]
  },
  {
   "cell_type": "code",
   "execution_count": 44,
   "metadata": {},
   "outputs": [],
   "source": [
    "# Initial imports\n",
    "import pandas as pd\n",
    "import numpy as np\n",
    "import hvplot.pandas\n",
    "from pathlib import Path\n",
    "import plotly.express as px\n",
    "from sklearn.preprocessing import StandardScaler, MinMaxScaler\n",
    "from sklearn.decomposition import PCA\n",
    "from sklearn.cluster import KMeans\n",
    "import matplotlib.pyplot as plt"
   ]
  },
  {
   "cell_type": "markdown",
   "metadata": {},
   "source": [
    "### Deliverable 1: Preprocessing the Data for PCA"
   ]
  },
  {
   "cell_type": "code",
   "execution_count": 45,
   "metadata": {},
   "outputs": [
    {
     "data": {
      "text/html": [
       "<div>\n",
       "<style scoped>\n",
       "    .dataframe tbody tr th:only-of-type {\n",
       "        vertical-align: middle;\n",
       "    }\n",
       "\n",
       "    .dataframe tbody tr th {\n",
       "        vertical-align: top;\n",
       "    }\n",
       "\n",
       "    .dataframe thead th {\n",
       "        text-align: right;\n",
       "    }\n",
       "</style>\n",
       "<table border=\"1\" class=\"dataframe\">\n",
       "  <thead>\n",
       "    <tr style=\"text-align: right;\">\n",
       "      <th></th>\n",
       "      <th>CoinName</th>\n",
       "      <th>Algorithm</th>\n",
       "      <th>IsTrading</th>\n",
       "      <th>ProofType</th>\n",
       "      <th>TotalCoinsMined</th>\n",
       "      <th>TotalCoinSupply</th>\n",
       "    </tr>\n",
       "  </thead>\n",
       "  <tbody>\n",
       "    <tr>\n",
       "      <th>42</th>\n",
       "      <td>42 Coin</td>\n",
       "      <td>Scrypt</td>\n",
       "      <td>True</td>\n",
       "      <td>PoW/PoS</td>\n",
       "      <td>4.199995e+01</td>\n",
       "      <td>42</td>\n",
       "    </tr>\n",
       "    <tr>\n",
       "      <th>365</th>\n",
       "      <td>365Coin</td>\n",
       "      <td>X11</td>\n",
       "      <td>True</td>\n",
       "      <td>PoW/PoS</td>\n",
       "      <td>NaN</td>\n",
       "      <td>2300000000</td>\n",
       "    </tr>\n",
       "    <tr>\n",
       "      <th>404</th>\n",
       "      <td>404Coin</td>\n",
       "      <td>Scrypt</td>\n",
       "      <td>True</td>\n",
       "      <td>PoW/PoS</td>\n",
       "      <td>1.055185e+09</td>\n",
       "      <td>532000000</td>\n",
       "    </tr>\n",
       "    <tr>\n",
       "      <th>611</th>\n",
       "      <td>SixEleven</td>\n",
       "      <td>SHA-256</td>\n",
       "      <td>True</td>\n",
       "      <td>PoW</td>\n",
       "      <td>NaN</td>\n",
       "      <td>611000</td>\n",
       "    </tr>\n",
       "    <tr>\n",
       "      <th>808</th>\n",
       "      <td>808</td>\n",
       "      <td>SHA-256</td>\n",
       "      <td>True</td>\n",
       "      <td>PoW/PoS</td>\n",
       "      <td>0.000000e+00</td>\n",
       "      <td>0</td>\n",
       "    </tr>\n",
       "    <tr>\n",
       "      <th>1337</th>\n",
       "      <td>EliteCoin</td>\n",
       "      <td>X13</td>\n",
       "      <td>True</td>\n",
       "      <td>PoW/PoS</td>\n",
       "      <td>2.927942e+10</td>\n",
       "      <td>314159265359</td>\n",
       "    </tr>\n",
       "    <tr>\n",
       "      <th>2015</th>\n",
       "      <td>2015 coin</td>\n",
       "      <td>X11</td>\n",
       "      <td>True</td>\n",
       "      <td>PoW/PoS</td>\n",
       "      <td>NaN</td>\n",
       "      <td>0</td>\n",
       "    </tr>\n",
       "    <tr>\n",
       "      <th>BTC</th>\n",
       "      <td>Bitcoin</td>\n",
       "      <td>SHA-256</td>\n",
       "      <td>True</td>\n",
       "      <td>PoW</td>\n",
       "      <td>1.792718e+07</td>\n",
       "      <td>21000000</td>\n",
       "    </tr>\n",
       "    <tr>\n",
       "      <th>ETH</th>\n",
       "      <td>Ethereum</td>\n",
       "      <td>Ethash</td>\n",
       "      <td>True</td>\n",
       "      <td>PoW</td>\n",
       "      <td>1.076842e+08</td>\n",
       "      <td>0</td>\n",
       "    </tr>\n",
       "    <tr>\n",
       "      <th>LTC</th>\n",
       "      <td>Litecoin</td>\n",
       "      <td>Scrypt</td>\n",
       "      <td>True</td>\n",
       "      <td>PoW</td>\n",
       "      <td>6.303924e+07</td>\n",
       "      <td>84000000</td>\n",
       "    </tr>\n",
       "  </tbody>\n",
       "</table>\n",
       "</div>"
      ],
      "text/plain": [
       "       CoinName Algorithm  IsTrading ProofType  TotalCoinsMined  \\\n",
       "42      42 Coin    Scrypt       True   PoW/PoS     4.199995e+01   \n",
       "365     365Coin       X11       True   PoW/PoS              NaN   \n",
       "404     404Coin    Scrypt       True   PoW/PoS     1.055185e+09   \n",
       "611   SixEleven   SHA-256       True       PoW              NaN   \n",
       "808         808   SHA-256       True   PoW/PoS     0.000000e+00   \n",
       "1337  EliteCoin       X13       True   PoW/PoS     2.927942e+10   \n",
       "2015  2015 coin       X11       True   PoW/PoS              NaN   \n",
       "BTC     Bitcoin   SHA-256       True       PoW     1.792718e+07   \n",
       "ETH    Ethereum    Ethash       True       PoW     1.076842e+08   \n",
       "LTC    Litecoin    Scrypt       True       PoW     6.303924e+07   \n",
       "\n",
       "     TotalCoinSupply  \n",
       "42                42  \n",
       "365       2300000000  \n",
       "404        532000000  \n",
       "611           611000  \n",
       "808                0  \n",
       "1337    314159265359  \n",
       "2015               0  \n",
       "BTC         21000000  \n",
       "ETH                0  \n",
       "LTC         84000000  "
      ]
     },
     "execution_count": 45,
     "metadata": {},
     "output_type": "execute_result"
    }
   ],
   "source": [
    "# Load the crypto_data.csv dataset.\n",
    "file = Path('./Resources/crypto_data.csv')\n",
    "crypto_df = pd.read_csv(file).set_index('Unnamed: 0')\n",
    "crypto_df.index.name = None\n",
    "crypto_df.head(10)"
   ]
  },
  {
   "cell_type": "code",
   "execution_count": 46,
   "metadata": {},
   "outputs": [
    {
     "name": "stdout",
     "output_type": "stream",
     "text": [
      "(1144, 6)\n"
     ]
    },
    {
     "data": {
      "text/html": [
       "<div>\n",
       "<style scoped>\n",
       "    .dataframe tbody tr th:only-of-type {\n",
       "        vertical-align: middle;\n",
       "    }\n",
       "\n",
       "    .dataframe tbody tr th {\n",
       "        vertical-align: top;\n",
       "    }\n",
       "\n",
       "    .dataframe thead th {\n",
       "        text-align: right;\n",
       "    }\n",
       "</style>\n",
       "<table border=\"1\" class=\"dataframe\">\n",
       "  <thead>\n",
       "    <tr style=\"text-align: right;\">\n",
       "      <th></th>\n",
       "      <th>CoinName</th>\n",
       "      <th>Algorithm</th>\n",
       "      <th>IsTrading</th>\n",
       "      <th>ProofType</th>\n",
       "      <th>TotalCoinsMined</th>\n",
       "      <th>TotalCoinSupply</th>\n",
       "    </tr>\n",
       "  </thead>\n",
       "  <tbody>\n",
       "    <tr>\n",
       "      <th>42</th>\n",
       "      <td>42 Coin</td>\n",
       "      <td>Scrypt</td>\n",
       "      <td>True</td>\n",
       "      <td>PoW/PoS</td>\n",
       "      <td>4.199995e+01</td>\n",
       "      <td>42</td>\n",
       "    </tr>\n",
       "    <tr>\n",
       "      <th>365</th>\n",
       "      <td>365Coin</td>\n",
       "      <td>X11</td>\n",
       "      <td>True</td>\n",
       "      <td>PoW/PoS</td>\n",
       "      <td>NaN</td>\n",
       "      <td>2300000000</td>\n",
       "    </tr>\n",
       "    <tr>\n",
       "      <th>404</th>\n",
       "      <td>404Coin</td>\n",
       "      <td>Scrypt</td>\n",
       "      <td>True</td>\n",
       "      <td>PoW/PoS</td>\n",
       "      <td>1.055185e+09</td>\n",
       "      <td>532000000</td>\n",
       "    </tr>\n",
       "    <tr>\n",
       "      <th>611</th>\n",
       "      <td>SixEleven</td>\n",
       "      <td>SHA-256</td>\n",
       "      <td>True</td>\n",
       "      <td>PoW</td>\n",
       "      <td>NaN</td>\n",
       "      <td>611000</td>\n",
       "    </tr>\n",
       "    <tr>\n",
       "      <th>808</th>\n",
       "      <td>808</td>\n",
       "      <td>SHA-256</td>\n",
       "      <td>True</td>\n",
       "      <td>PoW/PoS</td>\n",
       "      <td>0.000000e+00</td>\n",
       "      <td>0</td>\n",
       "    </tr>\n",
       "    <tr>\n",
       "      <th>1337</th>\n",
       "      <td>EliteCoin</td>\n",
       "      <td>X13</td>\n",
       "      <td>True</td>\n",
       "      <td>PoW/PoS</td>\n",
       "      <td>2.927942e+10</td>\n",
       "      <td>314159265359</td>\n",
       "    </tr>\n",
       "    <tr>\n",
       "      <th>2015</th>\n",
       "      <td>2015 coin</td>\n",
       "      <td>X11</td>\n",
       "      <td>True</td>\n",
       "      <td>PoW/PoS</td>\n",
       "      <td>NaN</td>\n",
       "      <td>0</td>\n",
       "    </tr>\n",
       "    <tr>\n",
       "      <th>BTC</th>\n",
       "      <td>Bitcoin</td>\n",
       "      <td>SHA-256</td>\n",
       "      <td>True</td>\n",
       "      <td>PoW</td>\n",
       "      <td>1.792718e+07</td>\n",
       "      <td>21000000</td>\n",
       "    </tr>\n",
       "    <tr>\n",
       "      <th>ETH</th>\n",
       "      <td>Ethereum</td>\n",
       "      <td>Ethash</td>\n",
       "      <td>True</td>\n",
       "      <td>PoW</td>\n",
       "      <td>1.076842e+08</td>\n",
       "      <td>0</td>\n",
       "    </tr>\n",
       "    <tr>\n",
       "      <th>LTC</th>\n",
       "      <td>Litecoin</td>\n",
       "      <td>Scrypt</td>\n",
       "      <td>True</td>\n",
       "      <td>PoW</td>\n",
       "      <td>6.303924e+07</td>\n",
       "      <td>84000000</td>\n",
       "    </tr>\n",
       "  </tbody>\n",
       "</table>\n",
       "</div>"
      ],
      "text/plain": [
       "       CoinName Algorithm  IsTrading ProofType  TotalCoinsMined  \\\n",
       "42      42 Coin    Scrypt       True   PoW/PoS     4.199995e+01   \n",
       "365     365Coin       X11       True   PoW/PoS              NaN   \n",
       "404     404Coin    Scrypt       True   PoW/PoS     1.055185e+09   \n",
       "611   SixEleven   SHA-256       True       PoW              NaN   \n",
       "808         808   SHA-256       True   PoW/PoS     0.000000e+00   \n",
       "1337  EliteCoin       X13       True   PoW/PoS     2.927942e+10   \n",
       "2015  2015 coin       X11       True   PoW/PoS              NaN   \n",
       "BTC     Bitcoin   SHA-256       True       PoW     1.792718e+07   \n",
       "ETH    Ethereum    Ethash       True       PoW     1.076842e+08   \n",
       "LTC    Litecoin    Scrypt       True       PoW     6.303924e+07   \n",
       "\n",
       "     TotalCoinSupply  \n",
       "42                42  \n",
       "365       2300000000  \n",
       "404        532000000  \n",
       "611           611000  \n",
       "808                0  \n",
       "1337    314159265359  \n",
       "2015               0  \n",
       "BTC         21000000  \n",
       "ETH                0  \n",
       "LTC         84000000  "
      ]
     },
     "execution_count": 46,
     "metadata": {},
     "output_type": "execute_result"
    }
   ],
   "source": [
    "# Keep all the cryptocurrencies that are being traded.\n",
    "crypto_df = crypto_df[crypto_df['IsTrading']==True]\n",
    "print(crypto_df.shape)\n",
    "crypto_df.head(10)"
   ]
  },
  {
   "cell_type": "code",
   "execution_count": 47,
   "metadata": {},
   "outputs": [
    {
     "name": "stdout",
     "output_type": "stream",
     "text": [
      "(1144, 5)\n"
     ]
    },
    {
     "data": {
      "text/html": [
       "<div>\n",
       "<style scoped>\n",
       "    .dataframe tbody tr th:only-of-type {\n",
       "        vertical-align: middle;\n",
       "    }\n",
       "\n",
       "    .dataframe tbody tr th {\n",
       "        vertical-align: top;\n",
       "    }\n",
       "\n",
       "    .dataframe thead th {\n",
       "        text-align: right;\n",
       "    }\n",
       "</style>\n",
       "<table border=\"1\" class=\"dataframe\">\n",
       "  <thead>\n",
       "    <tr style=\"text-align: right;\">\n",
       "      <th></th>\n",
       "      <th>CoinName</th>\n",
       "      <th>Algorithm</th>\n",
       "      <th>ProofType</th>\n",
       "      <th>TotalCoinsMined</th>\n",
       "      <th>TotalCoinSupply</th>\n",
       "    </tr>\n",
       "  </thead>\n",
       "  <tbody>\n",
       "    <tr>\n",
       "      <th>42</th>\n",
       "      <td>42 Coin</td>\n",
       "      <td>Scrypt</td>\n",
       "      <td>PoW/PoS</td>\n",
       "      <td>4.199995e+01</td>\n",
       "      <td>42</td>\n",
       "    </tr>\n",
       "    <tr>\n",
       "      <th>365</th>\n",
       "      <td>365Coin</td>\n",
       "      <td>X11</td>\n",
       "      <td>PoW/PoS</td>\n",
       "      <td>NaN</td>\n",
       "      <td>2300000000</td>\n",
       "    </tr>\n",
       "    <tr>\n",
       "      <th>404</th>\n",
       "      <td>404Coin</td>\n",
       "      <td>Scrypt</td>\n",
       "      <td>PoW/PoS</td>\n",
       "      <td>1.055185e+09</td>\n",
       "      <td>532000000</td>\n",
       "    </tr>\n",
       "    <tr>\n",
       "      <th>611</th>\n",
       "      <td>SixEleven</td>\n",
       "      <td>SHA-256</td>\n",
       "      <td>PoW</td>\n",
       "      <td>NaN</td>\n",
       "      <td>611000</td>\n",
       "    </tr>\n",
       "    <tr>\n",
       "      <th>808</th>\n",
       "      <td>808</td>\n",
       "      <td>SHA-256</td>\n",
       "      <td>PoW/PoS</td>\n",
       "      <td>0.000000e+00</td>\n",
       "      <td>0</td>\n",
       "    </tr>\n",
       "    <tr>\n",
       "      <th>1337</th>\n",
       "      <td>EliteCoin</td>\n",
       "      <td>X13</td>\n",
       "      <td>PoW/PoS</td>\n",
       "      <td>2.927942e+10</td>\n",
       "      <td>314159265359</td>\n",
       "    </tr>\n",
       "    <tr>\n",
       "      <th>2015</th>\n",
       "      <td>2015 coin</td>\n",
       "      <td>X11</td>\n",
       "      <td>PoW/PoS</td>\n",
       "      <td>NaN</td>\n",
       "      <td>0</td>\n",
       "    </tr>\n",
       "    <tr>\n",
       "      <th>BTC</th>\n",
       "      <td>Bitcoin</td>\n",
       "      <td>SHA-256</td>\n",
       "      <td>PoW</td>\n",
       "      <td>1.792718e+07</td>\n",
       "      <td>21000000</td>\n",
       "    </tr>\n",
       "    <tr>\n",
       "      <th>ETH</th>\n",
       "      <td>Ethereum</td>\n",
       "      <td>Ethash</td>\n",
       "      <td>PoW</td>\n",
       "      <td>1.076842e+08</td>\n",
       "      <td>0</td>\n",
       "    </tr>\n",
       "    <tr>\n",
       "      <th>LTC</th>\n",
       "      <td>Litecoin</td>\n",
       "      <td>Scrypt</td>\n",
       "      <td>PoW</td>\n",
       "      <td>6.303924e+07</td>\n",
       "      <td>84000000</td>\n",
       "    </tr>\n",
       "  </tbody>\n",
       "</table>\n",
       "</div>"
      ],
      "text/plain": [
       "       CoinName Algorithm ProofType  TotalCoinsMined TotalCoinSupply\n",
       "42      42 Coin    Scrypt   PoW/PoS     4.199995e+01              42\n",
       "365     365Coin       X11   PoW/PoS              NaN      2300000000\n",
       "404     404Coin    Scrypt   PoW/PoS     1.055185e+09       532000000\n",
       "611   SixEleven   SHA-256       PoW              NaN          611000\n",
       "808         808   SHA-256   PoW/PoS     0.000000e+00               0\n",
       "1337  EliteCoin       X13   PoW/PoS     2.927942e+10    314159265359\n",
       "2015  2015 coin       X11   PoW/PoS              NaN               0\n",
       "BTC     Bitcoin   SHA-256       PoW     1.792718e+07        21000000\n",
       "ETH    Ethereum    Ethash       PoW     1.076842e+08               0\n",
       "LTC    Litecoin    Scrypt       PoW     6.303924e+07        84000000"
      ]
     },
     "execution_count": 47,
     "metadata": {},
     "output_type": "execute_result"
    }
   ],
   "source": [
    "# Remove the \"IsTrading\" column. \n",
    "crypto_df.drop(['IsTrading'],axis=1,inplace=True)\n",
    "print(crypto_df.shape)\n",
    "crypto_df.head(10)"
   ]
  },
  {
   "cell_type": "code",
   "execution_count": 48,
   "metadata": {},
   "outputs": [
    {
     "name": "stdout",
     "output_type": "stream",
     "text": [
      "(685, 5)\n"
     ]
    },
    {
     "data": {
      "text/html": [
       "<div>\n",
       "<style scoped>\n",
       "    .dataframe tbody tr th:only-of-type {\n",
       "        vertical-align: middle;\n",
       "    }\n",
       "\n",
       "    .dataframe tbody tr th {\n",
       "        vertical-align: top;\n",
       "    }\n",
       "\n",
       "    .dataframe thead th {\n",
       "        text-align: right;\n",
       "    }\n",
       "</style>\n",
       "<table border=\"1\" class=\"dataframe\">\n",
       "  <thead>\n",
       "    <tr style=\"text-align: right;\">\n",
       "      <th></th>\n",
       "      <th>CoinName</th>\n",
       "      <th>Algorithm</th>\n",
       "      <th>ProofType</th>\n",
       "      <th>TotalCoinsMined</th>\n",
       "      <th>TotalCoinSupply</th>\n",
       "    </tr>\n",
       "  </thead>\n",
       "  <tbody>\n",
       "    <tr>\n",
       "      <th>42</th>\n",
       "      <td>42 Coin</td>\n",
       "      <td>Scrypt</td>\n",
       "      <td>PoW/PoS</td>\n",
       "      <td>4.199995e+01</td>\n",
       "      <td>42</td>\n",
       "    </tr>\n",
       "    <tr>\n",
       "      <th>404</th>\n",
       "      <td>404Coin</td>\n",
       "      <td>Scrypt</td>\n",
       "      <td>PoW/PoS</td>\n",
       "      <td>1.055185e+09</td>\n",
       "      <td>532000000</td>\n",
       "    </tr>\n",
       "    <tr>\n",
       "      <th>808</th>\n",
       "      <td>808</td>\n",
       "      <td>SHA-256</td>\n",
       "      <td>PoW/PoS</td>\n",
       "      <td>0.000000e+00</td>\n",
       "      <td>0</td>\n",
       "    </tr>\n",
       "    <tr>\n",
       "      <th>1337</th>\n",
       "      <td>EliteCoin</td>\n",
       "      <td>X13</td>\n",
       "      <td>PoW/PoS</td>\n",
       "      <td>2.927942e+10</td>\n",
       "      <td>314159265359</td>\n",
       "    </tr>\n",
       "    <tr>\n",
       "      <th>BTC</th>\n",
       "      <td>Bitcoin</td>\n",
       "      <td>SHA-256</td>\n",
       "      <td>PoW</td>\n",
       "      <td>1.792718e+07</td>\n",
       "      <td>21000000</td>\n",
       "    </tr>\n",
       "    <tr>\n",
       "      <th>ETH</th>\n",
       "      <td>Ethereum</td>\n",
       "      <td>Ethash</td>\n",
       "      <td>PoW</td>\n",
       "      <td>1.076842e+08</td>\n",
       "      <td>0</td>\n",
       "    </tr>\n",
       "    <tr>\n",
       "      <th>LTC</th>\n",
       "      <td>Litecoin</td>\n",
       "      <td>Scrypt</td>\n",
       "      <td>PoW</td>\n",
       "      <td>6.303924e+07</td>\n",
       "      <td>84000000</td>\n",
       "    </tr>\n",
       "    <tr>\n",
       "      <th>DASH</th>\n",
       "      <td>Dash</td>\n",
       "      <td>X11</td>\n",
       "      <td>PoW/PoS</td>\n",
       "      <td>9.031294e+06</td>\n",
       "      <td>22000000</td>\n",
       "    </tr>\n",
       "    <tr>\n",
       "      <th>XMR</th>\n",
       "      <td>Monero</td>\n",
       "      <td>CryptoNight-V7</td>\n",
       "      <td>PoW</td>\n",
       "      <td>1.720114e+07</td>\n",
       "      <td>0</td>\n",
       "    </tr>\n",
       "    <tr>\n",
       "      <th>ETC</th>\n",
       "      <td>Ethereum Classic</td>\n",
       "      <td>Ethash</td>\n",
       "      <td>PoW</td>\n",
       "      <td>1.133597e+08</td>\n",
       "      <td>210000000</td>\n",
       "    </tr>\n",
       "  </tbody>\n",
       "</table>\n",
       "</div>"
      ],
      "text/plain": [
       "              CoinName       Algorithm ProofType  TotalCoinsMined  \\\n",
       "42             42 Coin          Scrypt   PoW/PoS     4.199995e+01   \n",
       "404            404Coin          Scrypt   PoW/PoS     1.055185e+09   \n",
       "808                808         SHA-256   PoW/PoS     0.000000e+00   \n",
       "1337         EliteCoin             X13   PoW/PoS     2.927942e+10   \n",
       "BTC            Bitcoin         SHA-256       PoW     1.792718e+07   \n",
       "ETH           Ethereum          Ethash       PoW     1.076842e+08   \n",
       "LTC           Litecoin          Scrypt       PoW     6.303924e+07   \n",
       "DASH              Dash             X11   PoW/PoS     9.031294e+06   \n",
       "XMR             Monero  CryptoNight-V7       PoW     1.720114e+07   \n",
       "ETC   Ethereum Classic          Ethash       PoW     1.133597e+08   \n",
       "\n",
       "     TotalCoinSupply  \n",
       "42                42  \n",
       "404        532000000  \n",
       "808                0  \n",
       "1337    314159265359  \n",
       "BTC         21000000  \n",
       "ETH                0  \n",
       "LTC         84000000  \n",
       "DASH        22000000  \n",
       "XMR                0  \n",
       "ETC        210000000  "
      ]
     },
     "execution_count": 48,
     "metadata": {},
     "output_type": "execute_result"
    }
   ],
   "source": [
    "# Remove rows that have at least 1 null value.\n",
    "crypto_df.dropna(inplace=True)\n",
    "print(crypto_df.shape)\n",
    "crypto_df.head(10)"
   ]
  },
  {
   "cell_type": "code",
   "execution_count": 49,
   "metadata": {},
   "outputs": [
    {
     "name": "stdout",
     "output_type": "stream",
     "text": [
      "(532, 5)\n"
     ]
    },
    {
     "data": {
      "text/html": [
       "<div>\n",
       "<style scoped>\n",
       "    .dataframe tbody tr th:only-of-type {\n",
       "        vertical-align: middle;\n",
       "    }\n",
       "\n",
       "    .dataframe tbody tr th {\n",
       "        vertical-align: top;\n",
       "    }\n",
       "\n",
       "    .dataframe thead th {\n",
       "        text-align: right;\n",
       "    }\n",
       "</style>\n",
       "<table border=\"1\" class=\"dataframe\">\n",
       "  <thead>\n",
       "    <tr style=\"text-align: right;\">\n",
       "      <th></th>\n",
       "      <th>CoinName</th>\n",
       "      <th>Algorithm</th>\n",
       "      <th>ProofType</th>\n",
       "      <th>TotalCoinsMined</th>\n",
       "      <th>TotalCoinSupply</th>\n",
       "    </tr>\n",
       "  </thead>\n",
       "  <tbody>\n",
       "    <tr>\n",
       "      <th>42</th>\n",
       "      <td>42 Coin</td>\n",
       "      <td>Scrypt</td>\n",
       "      <td>PoW/PoS</td>\n",
       "      <td>4.199995e+01</td>\n",
       "      <td>42</td>\n",
       "    </tr>\n",
       "    <tr>\n",
       "      <th>404</th>\n",
       "      <td>404Coin</td>\n",
       "      <td>Scrypt</td>\n",
       "      <td>PoW/PoS</td>\n",
       "      <td>1.055185e+09</td>\n",
       "      <td>532000000</td>\n",
       "    </tr>\n",
       "    <tr>\n",
       "      <th>1337</th>\n",
       "      <td>EliteCoin</td>\n",
       "      <td>X13</td>\n",
       "      <td>PoW/PoS</td>\n",
       "      <td>2.927942e+10</td>\n",
       "      <td>314159265359</td>\n",
       "    </tr>\n",
       "    <tr>\n",
       "      <th>BTC</th>\n",
       "      <td>Bitcoin</td>\n",
       "      <td>SHA-256</td>\n",
       "      <td>PoW</td>\n",
       "      <td>1.792718e+07</td>\n",
       "      <td>21000000</td>\n",
       "    </tr>\n",
       "    <tr>\n",
       "      <th>ETH</th>\n",
       "      <td>Ethereum</td>\n",
       "      <td>Ethash</td>\n",
       "      <td>PoW</td>\n",
       "      <td>1.076842e+08</td>\n",
       "      <td>0</td>\n",
       "    </tr>\n",
       "    <tr>\n",
       "      <th>LTC</th>\n",
       "      <td>Litecoin</td>\n",
       "      <td>Scrypt</td>\n",
       "      <td>PoW</td>\n",
       "      <td>6.303924e+07</td>\n",
       "      <td>84000000</td>\n",
       "    </tr>\n",
       "    <tr>\n",
       "      <th>DASH</th>\n",
       "      <td>Dash</td>\n",
       "      <td>X11</td>\n",
       "      <td>PoW/PoS</td>\n",
       "      <td>9.031294e+06</td>\n",
       "      <td>22000000</td>\n",
       "    </tr>\n",
       "    <tr>\n",
       "      <th>XMR</th>\n",
       "      <td>Monero</td>\n",
       "      <td>CryptoNight-V7</td>\n",
       "      <td>PoW</td>\n",
       "      <td>1.720114e+07</td>\n",
       "      <td>0</td>\n",
       "    </tr>\n",
       "    <tr>\n",
       "      <th>ETC</th>\n",
       "      <td>Ethereum Classic</td>\n",
       "      <td>Ethash</td>\n",
       "      <td>PoW</td>\n",
       "      <td>1.133597e+08</td>\n",
       "      <td>210000000</td>\n",
       "    </tr>\n",
       "    <tr>\n",
       "      <th>ZEC</th>\n",
       "      <td>ZCash</td>\n",
       "      <td>Equihash</td>\n",
       "      <td>PoW</td>\n",
       "      <td>7.383056e+06</td>\n",
       "      <td>21000000</td>\n",
       "    </tr>\n",
       "  </tbody>\n",
       "</table>\n",
       "</div>"
      ],
      "text/plain": [
       "              CoinName       Algorithm ProofType  TotalCoinsMined  \\\n",
       "42             42 Coin          Scrypt   PoW/PoS     4.199995e+01   \n",
       "404            404Coin          Scrypt   PoW/PoS     1.055185e+09   \n",
       "1337         EliteCoin             X13   PoW/PoS     2.927942e+10   \n",
       "BTC            Bitcoin         SHA-256       PoW     1.792718e+07   \n",
       "ETH           Ethereum          Ethash       PoW     1.076842e+08   \n",
       "LTC           Litecoin          Scrypt       PoW     6.303924e+07   \n",
       "DASH              Dash             X11   PoW/PoS     9.031294e+06   \n",
       "XMR             Monero  CryptoNight-V7       PoW     1.720114e+07   \n",
       "ETC   Ethereum Classic          Ethash       PoW     1.133597e+08   \n",
       "ZEC              ZCash        Equihash       PoW     7.383056e+06   \n",
       "\n",
       "     TotalCoinSupply  \n",
       "42                42  \n",
       "404        532000000  \n",
       "1337    314159265359  \n",
       "BTC         21000000  \n",
       "ETH                0  \n",
       "LTC         84000000  \n",
       "DASH        22000000  \n",
       "XMR                0  \n",
       "ETC        210000000  \n",
       "ZEC         21000000  "
      ]
     },
     "execution_count": 49,
     "metadata": {},
     "output_type": "execute_result"
    }
   ],
   "source": [
    "# Keep the rows where coins are mined.\n",
    "crypto_df = crypto_df[crypto_df[\"TotalCoinsMined\"]>0]\n",
    "print(crypto_df.shape)\n",
    "crypto_df.head(10)"
   ]
  },
  {
   "cell_type": "code",
   "execution_count": 50,
   "metadata": {},
   "outputs": [
    {
     "name": "stdout",
     "output_type": "stream",
     "text": [
      "(532, 1)\n"
     ]
    },
    {
     "data": {
      "text/html": [
       "<div>\n",
       "<style scoped>\n",
       "    .dataframe tbody tr th:only-of-type {\n",
       "        vertical-align: middle;\n",
       "    }\n",
       "\n",
       "    .dataframe tbody tr th {\n",
       "        vertical-align: top;\n",
       "    }\n",
       "\n",
       "    .dataframe thead th {\n",
       "        text-align: right;\n",
       "    }\n",
       "</style>\n",
       "<table border=\"1\" class=\"dataframe\">\n",
       "  <thead>\n",
       "    <tr style=\"text-align: right;\">\n",
       "      <th></th>\n",
       "      <th>CoinName</th>\n",
       "    </tr>\n",
       "  </thead>\n",
       "  <tbody>\n",
       "    <tr>\n",
       "      <th>42</th>\n",
       "      <td>42 Coin</td>\n",
       "    </tr>\n",
       "    <tr>\n",
       "      <th>404</th>\n",
       "      <td>404Coin</td>\n",
       "    </tr>\n",
       "    <tr>\n",
       "      <th>1337</th>\n",
       "      <td>EliteCoin</td>\n",
       "    </tr>\n",
       "    <tr>\n",
       "      <th>BTC</th>\n",
       "      <td>Bitcoin</td>\n",
       "    </tr>\n",
       "    <tr>\n",
       "      <th>ETH</th>\n",
       "      <td>Ethereum</td>\n",
       "    </tr>\n",
       "  </tbody>\n",
       "</table>\n",
       "</div>"
      ],
      "text/plain": [
       "       CoinName\n",
       "42      42 Coin\n",
       "404     404Coin\n",
       "1337  EliteCoin\n",
       "BTC     Bitcoin\n",
       "ETH    Ethereum"
      ]
     },
     "execution_count": 50,
     "metadata": {},
     "output_type": "execute_result"
    }
   ],
   "source": [
    "# Create a new DataFrame that holds only the cryptocurrencies names.\n",
    "crypto_name_df = crypto_df.drop(columns = [\"Algorithm\",\"ProofType\",\"TotalCoinsMined\",\"TotalCoinSupply\"])\n",
    "print(crypto_name_df.shape)\n",
    "crypto_name_df.head()"
   ]
  },
  {
   "cell_type": "code",
   "execution_count": 51,
   "metadata": {},
   "outputs": [
    {
     "name": "stdout",
     "output_type": "stream",
     "text": [
      "(532, 4)\n"
     ]
    },
    {
     "data": {
      "text/html": [
       "<div>\n",
       "<style scoped>\n",
       "    .dataframe tbody tr th:only-of-type {\n",
       "        vertical-align: middle;\n",
       "    }\n",
       "\n",
       "    .dataframe tbody tr th {\n",
       "        vertical-align: top;\n",
       "    }\n",
       "\n",
       "    .dataframe thead th {\n",
       "        text-align: right;\n",
       "    }\n",
       "</style>\n",
       "<table border=\"1\" class=\"dataframe\">\n",
       "  <thead>\n",
       "    <tr style=\"text-align: right;\">\n",
       "      <th></th>\n",
       "      <th>Algorithm</th>\n",
       "      <th>ProofType</th>\n",
       "      <th>TotalCoinsMined</th>\n",
       "      <th>TotalCoinSupply</th>\n",
       "    </tr>\n",
       "  </thead>\n",
       "  <tbody>\n",
       "    <tr>\n",
       "      <th>42</th>\n",
       "      <td>Scrypt</td>\n",
       "      <td>PoW/PoS</td>\n",
       "      <td>4.199995e+01</td>\n",
       "      <td>42</td>\n",
       "    </tr>\n",
       "    <tr>\n",
       "      <th>404</th>\n",
       "      <td>Scrypt</td>\n",
       "      <td>PoW/PoS</td>\n",
       "      <td>1.055185e+09</td>\n",
       "      <td>532000000</td>\n",
       "    </tr>\n",
       "    <tr>\n",
       "      <th>1337</th>\n",
       "      <td>X13</td>\n",
       "      <td>PoW/PoS</td>\n",
       "      <td>2.927942e+10</td>\n",
       "      <td>314159265359</td>\n",
       "    </tr>\n",
       "    <tr>\n",
       "      <th>BTC</th>\n",
       "      <td>SHA-256</td>\n",
       "      <td>PoW</td>\n",
       "      <td>1.792718e+07</td>\n",
       "      <td>21000000</td>\n",
       "    </tr>\n",
       "    <tr>\n",
       "      <th>ETH</th>\n",
       "      <td>Ethash</td>\n",
       "      <td>PoW</td>\n",
       "      <td>1.076842e+08</td>\n",
       "      <td>0</td>\n",
       "    </tr>\n",
       "    <tr>\n",
       "      <th>LTC</th>\n",
       "      <td>Scrypt</td>\n",
       "      <td>PoW</td>\n",
       "      <td>6.303924e+07</td>\n",
       "      <td>84000000</td>\n",
       "    </tr>\n",
       "    <tr>\n",
       "      <th>DASH</th>\n",
       "      <td>X11</td>\n",
       "      <td>PoW/PoS</td>\n",
       "      <td>9.031294e+06</td>\n",
       "      <td>22000000</td>\n",
       "    </tr>\n",
       "    <tr>\n",
       "      <th>XMR</th>\n",
       "      <td>CryptoNight-V7</td>\n",
       "      <td>PoW</td>\n",
       "      <td>1.720114e+07</td>\n",
       "      <td>0</td>\n",
       "    </tr>\n",
       "    <tr>\n",
       "      <th>ETC</th>\n",
       "      <td>Ethash</td>\n",
       "      <td>PoW</td>\n",
       "      <td>1.133597e+08</td>\n",
       "      <td>210000000</td>\n",
       "    </tr>\n",
       "    <tr>\n",
       "      <th>ZEC</th>\n",
       "      <td>Equihash</td>\n",
       "      <td>PoW</td>\n",
       "      <td>7.383056e+06</td>\n",
       "      <td>21000000</td>\n",
       "    </tr>\n",
       "  </tbody>\n",
       "</table>\n",
       "</div>"
      ],
      "text/plain": [
       "           Algorithm ProofType  TotalCoinsMined TotalCoinSupply\n",
       "42            Scrypt   PoW/PoS     4.199995e+01              42\n",
       "404           Scrypt   PoW/PoS     1.055185e+09       532000000\n",
       "1337             X13   PoW/PoS     2.927942e+10    314159265359\n",
       "BTC          SHA-256       PoW     1.792718e+07        21000000\n",
       "ETH           Ethash       PoW     1.076842e+08               0\n",
       "LTC           Scrypt       PoW     6.303924e+07        84000000\n",
       "DASH             X11   PoW/PoS     9.031294e+06        22000000\n",
       "XMR   CryptoNight-V7       PoW     1.720114e+07               0\n",
       "ETC           Ethash       PoW     1.133597e+08       210000000\n",
       "ZEC         Equihash       PoW     7.383056e+06        21000000"
      ]
     },
     "execution_count": 51,
     "metadata": {},
     "output_type": "execute_result"
    }
   ],
   "source": [
    "# Drop the 'CoinName' column since it's not going to be used on the clustering algorithm.\n",
    "crypto_df.drop(columns = [\"CoinName\"],inplace=True)\n",
    "print(crypto_df.shape)\n",
    "crypto_df.head(10)"
   ]
  },
  {
   "cell_type": "code",
   "execution_count": 52,
   "metadata": {},
   "outputs": [
    {
     "name": "stdout",
     "output_type": "stream",
     "text": [
      "(532, 98)\n"
     ]
    },
    {
     "data": {
      "text/html": [
       "<div>\n",
       "<style scoped>\n",
       "    .dataframe tbody tr th:only-of-type {\n",
       "        vertical-align: middle;\n",
       "    }\n",
       "\n",
       "    .dataframe tbody tr th {\n",
       "        vertical-align: top;\n",
       "    }\n",
       "\n",
       "    .dataframe thead th {\n",
       "        text-align: right;\n",
       "    }\n",
       "</style>\n",
       "<table border=\"1\" class=\"dataframe\">\n",
       "  <thead>\n",
       "    <tr style=\"text-align: right;\">\n",
       "      <th></th>\n",
       "      <th>TotalCoinsMined</th>\n",
       "      <th>TotalCoinSupply</th>\n",
       "      <th>Algorithm_1GB AES Pattern Search</th>\n",
       "      <th>Algorithm_536</th>\n",
       "      <th>Algorithm_Argon2d</th>\n",
       "      <th>Algorithm_BLAKE256</th>\n",
       "      <th>Algorithm_Blake</th>\n",
       "      <th>Algorithm_Blake2S</th>\n",
       "      <th>Algorithm_Blake2b</th>\n",
       "      <th>Algorithm_C11</th>\n",
       "      <th>...</th>\n",
       "      <th>ProofType_PoW/PoS</th>\n",
       "      <th>ProofType_PoW/PoS</th>\n",
       "      <th>ProofType_PoW/PoW</th>\n",
       "      <th>ProofType_PoW/nPoS</th>\n",
       "      <th>ProofType_Pos</th>\n",
       "      <th>ProofType_Proof of Authority</th>\n",
       "      <th>ProofType_Proof of Trust</th>\n",
       "      <th>ProofType_TPoS</th>\n",
       "      <th>ProofType_Zero-Knowledge Proof</th>\n",
       "      <th>ProofType_dPoW/PoW</th>\n",
       "    </tr>\n",
       "  </thead>\n",
       "  <tbody>\n",
       "    <tr>\n",
       "      <th>42</th>\n",
       "      <td>4.199995e+01</td>\n",
       "      <td>42</td>\n",
       "      <td>0</td>\n",
       "      <td>0</td>\n",
       "      <td>0</td>\n",
       "      <td>0</td>\n",
       "      <td>0</td>\n",
       "      <td>0</td>\n",
       "      <td>0</td>\n",
       "      <td>0</td>\n",
       "      <td>...</td>\n",
       "      <td>1</td>\n",
       "      <td>0</td>\n",
       "      <td>0</td>\n",
       "      <td>0</td>\n",
       "      <td>0</td>\n",
       "      <td>0</td>\n",
       "      <td>0</td>\n",
       "      <td>0</td>\n",
       "      <td>0</td>\n",
       "      <td>0</td>\n",
       "    </tr>\n",
       "    <tr>\n",
       "      <th>404</th>\n",
       "      <td>1.055185e+09</td>\n",
       "      <td>532000000</td>\n",
       "      <td>0</td>\n",
       "      <td>0</td>\n",
       "      <td>0</td>\n",
       "      <td>0</td>\n",
       "      <td>0</td>\n",
       "      <td>0</td>\n",
       "      <td>0</td>\n",
       "      <td>0</td>\n",
       "      <td>...</td>\n",
       "      <td>1</td>\n",
       "      <td>0</td>\n",
       "      <td>0</td>\n",
       "      <td>0</td>\n",
       "      <td>0</td>\n",
       "      <td>0</td>\n",
       "      <td>0</td>\n",
       "      <td>0</td>\n",
       "      <td>0</td>\n",
       "      <td>0</td>\n",
       "    </tr>\n",
       "    <tr>\n",
       "      <th>1337</th>\n",
       "      <td>2.927942e+10</td>\n",
       "      <td>314159265359</td>\n",
       "      <td>0</td>\n",
       "      <td>0</td>\n",
       "      <td>0</td>\n",
       "      <td>0</td>\n",
       "      <td>0</td>\n",
       "      <td>0</td>\n",
       "      <td>0</td>\n",
       "      <td>0</td>\n",
       "      <td>...</td>\n",
       "      <td>1</td>\n",
       "      <td>0</td>\n",
       "      <td>0</td>\n",
       "      <td>0</td>\n",
       "      <td>0</td>\n",
       "      <td>0</td>\n",
       "      <td>0</td>\n",
       "      <td>0</td>\n",
       "      <td>0</td>\n",
       "      <td>0</td>\n",
       "    </tr>\n",
       "    <tr>\n",
       "      <th>BTC</th>\n",
       "      <td>1.792718e+07</td>\n",
       "      <td>21000000</td>\n",
       "      <td>0</td>\n",
       "      <td>0</td>\n",
       "      <td>0</td>\n",
       "      <td>0</td>\n",
       "      <td>0</td>\n",
       "      <td>0</td>\n",
       "      <td>0</td>\n",
       "      <td>0</td>\n",
       "      <td>...</td>\n",
       "      <td>0</td>\n",
       "      <td>0</td>\n",
       "      <td>0</td>\n",
       "      <td>0</td>\n",
       "      <td>0</td>\n",
       "      <td>0</td>\n",
       "      <td>0</td>\n",
       "      <td>0</td>\n",
       "      <td>0</td>\n",
       "      <td>0</td>\n",
       "    </tr>\n",
       "    <tr>\n",
       "      <th>ETH</th>\n",
       "      <td>1.076842e+08</td>\n",
       "      <td>0</td>\n",
       "      <td>0</td>\n",
       "      <td>0</td>\n",
       "      <td>0</td>\n",
       "      <td>0</td>\n",
       "      <td>0</td>\n",
       "      <td>0</td>\n",
       "      <td>0</td>\n",
       "      <td>0</td>\n",
       "      <td>...</td>\n",
       "      <td>0</td>\n",
       "      <td>0</td>\n",
       "      <td>0</td>\n",
       "      <td>0</td>\n",
       "      <td>0</td>\n",
       "      <td>0</td>\n",
       "      <td>0</td>\n",
       "      <td>0</td>\n",
       "      <td>0</td>\n",
       "      <td>0</td>\n",
       "    </tr>\n",
       "    <tr>\n",
       "      <th>LTC</th>\n",
       "      <td>6.303924e+07</td>\n",
       "      <td>84000000</td>\n",
       "      <td>0</td>\n",
       "      <td>0</td>\n",
       "      <td>0</td>\n",
       "      <td>0</td>\n",
       "      <td>0</td>\n",
       "      <td>0</td>\n",
       "      <td>0</td>\n",
       "      <td>0</td>\n",
       "      <td>...</td>\n",
       "      <td>0</td>\n",
       "      <td>0</td>\n",
       "      <td>0</td>\n",
       "      <td>0</td>\n",
       "      <td>0</td>\n",
       "      <td>0</td>\n",
       "      <td>0</td>\n",
       "      <td>0</td>\n",
       "      <td>0</td>\n",
       "      <td>0</td>\n",
       "    </tr>\n",
       "    <tr>\n",
       "      <th>DASH</th>\n",
       "      <td>9.031294e+06</td>\n",
       "      <td>22000000</td>\n",
       "      <td>0</td>\n",
       "      <td>0</td>\n",
       "      <td>0</td>\n",
       "      <td>0</td>\n",
       "      <td>0</td>\n",
       "      <td>0</td>\n",
       "      <td>0</td>\n",
       "      <td>0</td>\n",
       "      <td>...</td>\n",
       "      <td>1</td>\n",
       "      <td>0</td>\n",
       "      <td>0</td>\n",
       "      <td>0</td>\n",
       "      <td>0</td>\n",
       "      <td>0</td>\n",
       "      <td>0</td>\n",
       "      <td>0</td>\n",
       "      <td>0</td>\n",
       "      <td>0</td>\n",
       "    </tr>\n",
       "    <tr>\n",
       "      <th>XMR</th>\n",
       "      <td>1.720114e+07</td>\n",
       "      <td>0</td>\n",
       "      <td>0</td>\n",
       "      <td>0</td>\n",
       "      <td>0</td>\n",
       "      <td>0</td>\n",
       "      <td>0</td>\n",
       "      <td>0</td>\n",
       "      <td>0</td>\n",
       "      <td>0</td>\n",
       "      <td>...</td>\n",
       "      <td>0</td>\n",
       "      <td>0</td>\n",
       "      <td>0</td>\n",
       "      <td>0</td>\n",
       "      <td>0</td>\n",
       "      <td>0</td>\n",
       "      <td>0</td>\n",
       "      <td>0</td>\n",
       "      <td>0</td>\n",
       "      <td>0</td>\n",
       "    </tr>\n",
       "    <tr>\n",
       "      <th>ETC</th>\n",
       "      <td>1.133597e+08</td>\n",
       "      <td>210000000</td>\n",
       "      <td>0</td>\n",
       "      <td>0</td>\n",
       "      <td>0</td>\n",
       "      <td>0</td>\n",
       "      <td>0</td>\n",
       "      <td>0</td>\n",
       "      <td>0</td>\n",
       "      <td>0</td>\n",
       "      <td>...</td>\n",
       "      <td>0</td>\n",
       "      <td>0</td>\n",
       "      <td>0</td>\n",
       "      <td>0</td>\n",
       "      <td>0</td>\n",
       "      <td>0</td>\n",
       "      <td>0</td>\n",
       "      <td>0</td>\n",
       "      <td>0</td>\n",
       "      <td>0</td>\n",
       "    </tr>\n",
       "    <tr>\n",
       "      <th>ZEC</th>\n",
       "      <td>7.383056e+06</td>\n",
       "      <td>21000000</td>\n",
       "      <td>0</td>\n",
       "      <td>0</td>\n",
       "      <td>0</td>\n",
       "      <td>0</td>\n",
       "      <td>0</td>\n",
       "      <td>0</td>\n",
       "      <td>0</td>\n",
       "      <td>0</td>\n",
       "      <td>...</td>\n",
       "      <td>0</td>\n",
       "      <td>0</td>\n",
       "      <td>0</td>\n",
       "      <td>0</td>\n",
       "      <td>0</td>\n",
       "      <td>0</td>\n",
       "      <td>0</td>\n",
       "      <td>0</td>\n",
       "      <td>0</td>\n",
       "      <td>0</td>\n",
       "    </tr>\n",
       "  </tbody>\n",
       "</table>\n",
       "<p>10 rows × 98 columns</p>\n",
       "</div>"
      ],
      "text/plain": [
       "      TotalCoinsMined TotalCoinSupply  Algorithm_1GB AES Pattern Search  \\\n",
       "42       4.199995e+01              42                                 0   \n",
       "404      1.055185e+09       532000000                                 0   \n",
       "1337     2.927942e+10    314159265359                                 0   \n",
       "BTC      1.792718e+07        21000000                                 0   \n",
       "ETH      1.076842e+08               0                                 0   \n",
       "LTC      6.303924e+07        84000000                                 0   \n",
       "DASH     9.031294e+06        22000000                                 0   \n",
       "XMR      1.720114e+07               0                                 0   \n",
       "ETC      1.133597e+08       210000000                                 0   \n",
       "ZEC      7.383056e+06        21000000                                 0   \n",
       "\n",
       "      Algorithm_536  Algorithm_Argon2d  Algorithm_BLAKE256  Algorithm_Blake  \\\n",
       "42                0                  0                   0                0   \n",
       "404               0                  0                   0                0   \n",
       "1337              0                  0                   0                0   \n",
       "BTC               0                  0                   0                0   \n",
       "ETH               0                  0                   0                0   \n",
       "LTC               0                  0                   0                0   \n",
       "DASH              0                  0                   0                0   \n",
       "XMR               0                  0                   0                0   \n",
       "ETC               0                  0                   0                0   \n",
       "ZEC               0                  0                   0                0   \n",
       "\n",
       "      Algorithm_Blake2S  Algorithm_Blake2b  Algorithm_C11  ...  \\\n",
       "42                    0                  0              0  ...   \n",
       "404                   0                  0              0  ...   \n",
       "1337                  0                  0              0  ...   \n",
       "BTC                   0                  0              0  ...   \n",
       "ETH                   0                  0              0  ...   \n",
       "LTC                   0                  0              0  ...   \n",
       "DASH                  0                  0              0  ...   \n",
       "XMR                   0                  0              0  ...   \n",
       "ETC                   0                  0              0  ...   \n",
       "ZEC                   0                  0              0  ...   \n",
       "\n",
       "      ProofType_PoW/PoS  ProofType_PoW/PoS   ProofType_PoW/PoW  \\\n",
       "42                    1                   0                  0   \n",
       "404                   1                   0                  0   \n",
       "1337                  1                   0                  0   \n",
       "BTC                   0                   0                  0   \n",
       "ETH                   0                   0                  0   \n",
       "LTC                   0                   0                  0   \n",
       "DASH                  1                   0                  0   \n",
       "XMR                   0                   0                  0   \n",
       "ETC                   0                   0                  0   \n",
       "ZEC                   0                   0                  0   \n",
       "\n",
       "      ProofType_PoW/nPoS  ProofType_Pos  ProofType_Proof of Authority  \\\n",
       "42                     0              0                             0   \n",
       "404                    0              0                             0   \n",
       "1337                   0              0                             0   \n",
       "BTC                    0              0                             0   \n",
       "ETH                    0              0                             0   \n",
       "LTC                    0              0                             0   \n",
       "DASH                   0              0                             0   \n",
       "XMR                    0              0                             0   \n",
       "ETC                    0              0                             0   \n",
       "ZEC                    0              0                             0   \n",
       "\n",
       "      ProofType_Proof of Trust  ProofType_TPoS  \\\n",
       "42                           0               0   \n",
       "404                          0               0   \n",
       "1337                         0               0   \n",
       "BTC                          0               0   \n",
       "ETH                          0               0   \n",
       "LTC                          0               0   \n",
       "DASH                         0               0   \n",
       "XMR                          0               0   \n",
       "ETC                          0               0   \n",
       "ZEC                          0               0   \n",
       "\n",
       "      ProofType_Zero-Knowledge Proof  ProofType_dPoW/PoW  \n",
       "42                                 0                   0  \n",
       "404                                0                   0  \n",
       "1337                               0                   0  \n",
       "BTC                                0                   0  \n",
       "ETH                                0                   0  \n",
       "LTC                                0                   0  \n",
       "DASH                               0                   0  \n",
       "XMR                                0                   0  \n",
       "ETC                                0                   0  \n",
       "ZEC                                0                   0  \n",
       "\n",
       "[10 rows x 98 columns]"
      ]
     },
     "execution_count": 52,
     "metadata": {},
     "output_type": "execute_result"
    }
   ],
   "source": [
    "# Use get_dummies() to create variables for text features.\n",
    "X = pd.get_dummies(crypto_df, columns=[\"Algorithm\",\"ProofType\"], dtype=np.int64)\n",
    "print(X.shape)\n",
    "X.head(10)"
   ]
  },
  {
   "cell_type": "code",
   "execution_count": 53,
   "metadata": {},
   "outputs": [
    {
     "data": {
      "text/plain": [
       "array([[-0.11710817, -0.1528703 , -0.0433963 , ..., -0.0433963 ,\n",
       "        -0.0433963 , -0.0433963 ],\n",
       "       [-0.09396955, -0.145009  , -0.0433963 , ..., -0.0433963 ,\n",
       "        -0.0433963 , -0.0433963 ],\n",
       "       [ 0.52494561,  4.48942416, -0.0433963 , ..., -0.0433963 ,\n",
       "        -0.0433963 , -0.0433963 ],\n",
       "       ...,\n",
       "       [-0.09561336, -0.13217937, -0.0433963 , ..., -0.0433963 ,\n",
       "        -0.0433963 , -0.0433963 ],\n",
       "       [-0.11694817, -0.15255998, -0.0433963 , ..., -0.0433963 ,\n",
       "        -0.0433963 , -0.0433963 ],\n",
       "       [-0.11710536, -0.15285552, -0.0433963 , ..., -0.0433963 ,\n",
       "        -0.0433963 , -0.0433963 ]])"
      ]
     },
     "execution_count": 53,
     "metadata": {},
     "output_type": "execute_result"
    }
   ],
   "source": [
    "# Standardize the data with StandardScaler().\n",
    "X_scaled = StandardScaler().fit_transform(X)\n",
    "X_scaled"
   ]
  },
  {
   "cell_type": "markdown",
   "metadata": {},
   "source": [
    "### Deliverable 2: Reducing Data Dimensions Using PCA"
   ]
  },
  {
   "cell_type": "code",
   "execution_count": 54,
   "metadata": {},
   "outputs": [
    {
     "data": {
      "text/plain": [
       "array([[-0.33750039,  1.04188296, -0.60079469],\n",
       "       [-0.32086316,  1.04194266, -0.60118791],\n",
       "       [ 2.30834376,  1.61003657, -0.67961133],\n",
       "       ...,\n",
       "       [ 0.32426669, -2.3210892 ,  0.41287551],\n",
       "       [-0.13427852, -2.00636918,  0.31881904],\n",
       "       [-0.30844842,  0.78511213, -0.28551608]])"
      ]
     },
     "execution_count": 54,
     "metadata": {},
     "output_type": "execute_result"
    }
   ],
   "source": [
    "# Using PCA to reduce dimension to three principal components.\n",
    "pca = PCA(n_components=3)\n",
    "X_pca = pca.fit_transform(X_scaled)\n",
    "X_pca"
   ]
  },
  {
   "cell_type": "code",
   "execution_count": 55,
   "metadata": {},
   "outputs": [
    {
     "name": "stdout",
     "output_type": "stream",
     "text": [
      "(532, 3)\n"
     ]
    },
    {
     "data": {
      "text/html": [
       "<div>\n",
       "<style scoped>\n",
       "    .dataframe tbody tr th:only-of-type {\n",
       "        vertical-align: middle;\n",
       "    }\n",
       "\n",
       "    .dataframe tbody tr th {\n",
       "        vertical-align: top;\n",
       "    }\n",
       "\n",
       "    .dataframe thead th {\n",
       "        text-align: right;\n",
       "    }\n",
       "</style>\n",
       "<table border=\"1\" class=\"dataframe\">\n",
       "  <thead>\n",
       "    <tr style=\"text-align: right;\">\n",
       "      <th></th>\n",
       "      <th>PC 1</th>\n",
       "      <th>PC 2</th>\n",
       "      <th>PC 3</th>\n",
       "    </tr>\n",
       "  </thead>\n",
       "  <tbody>\n",
       "    <tr>\n",
       "      <th>42</th>\n",
       "      <td>-0.337500</td>\n",
       "      <td>1.041883</td>\n",
       "      <td>-0.600795</td>\n",
       "    </tr>\n",
       "    <tr>\n",
       "      <th>404</th>\n",
       "      <td>-0.320863</td>\n",
       "      <td>1.041943</td>\n",
       "      <td>-0.601188</td>\n",
       "    </tr>\n",
       "    <tr>\n",
       "      <th>1337</th>\n",
       "      <td>2.308344</td>\n",
       "      <td>1.610037</td>\n",
       "      <td>-0.679611</td>\n",
       "    </tr>\n",
       "    <tr>\n",
       "      <th>BTC</th>\n",
       "      <td>-0.144727</td>\n",
       "      <td>-1.356216</td>\n",
       "      <td>0.231304</td>\n",
       "    </tr>\n",
       "    <tr>\n",
       "      <th>ETH</th>\n",
       "      <td>-0.146269</td>\n",
       "      <td>-1.954530</td>\n",
       "      <td>0.421203</td>\n",
       "    </tr>\n",
       "    <tr>\n",
       "      <th>LTC</th>\n",
       "      <td>-0.170189</td>\n",
       "      <td>-1.110761</td>\n",
       "      <td>-0.017437</td>\n",
       "    </tr>\n",
       "    <tr>\n",
       "      <th>DASH</th>\n",
       "      <td>-0.383729</td>\n",
       "      <td>1.247217</td>\n",
       "      <td>-0.494792</td>\n",
       "    </tr>\n",
       "    <tr>\n",
       "      <th>XMR</th>\n",
       "      <td>-0.134837</td>\n",
       "      <td>-2.170139</td>\n",
       "      <td>0.397581</td>\n",
       "    </tr>\n",
       "    <tr>\n",
       "      <th>ETC</th>\n",
       "      <td>-0.144714</td>\n",
       "      <td>-1.954640</td>\n",
       "      <td>0.421181</td>\n",
       "    </tr>\n",
       "    <tr>\n",
       "      <th>ZEC</th>\n",
       "      <td>-0.134277</td>\n",
       "      <td>-2.006369</td>\n",
       "      <td>0.318819</td>\n",
       "    </tr>\n",
       "  </tbody>\n",
       "</table>\n",
       "</div>"
      ],
      "text/plain": [
       "          PC 1      PC 2      PC 3\n",
       "42   -0.337500  1.041883 -0.600795\n",
       "404  -0.320863  1.041943 -0.601188\n",
       "1337  2.308344  1.610037 -0.679611\n",
       "BTC  -0.144727 -1.356216  0.231304\n",
       "ETH  -0.146269 -1.954530  0.421203\n",
       "LTC  -0.170189 -1.110761 -0.017437\n",
       "DASH -0.383729  1.247217 -0.494792\n",
       "XMR  -0.134837 -2.170139  0.397581\n",
       "ETC  -0.144714 -1.954640  0.421181\n",
       "ZEC  -0.134277 -2.006369  0.318819"
      ]
     },
     "execution_count": 55,
     "metadata": {},
     "output_type": "execute_result"
    }
   ],
   "source": [
    "# Create a DataFrame with the three principal components.\n",
    "pcs_df = pd.DataFrame(\n",
    "    data=X_pca, columns=[\"PC 1\", \"PC 2\", \"PC 3\"],index=crypto_df.index\n",
    ")\n",
    "print(pcs_df.shape)\n",
    "pcs_df.head(10)"
   ]
  },
  {
   "cell_type": "markdown",
   "metadata": {},
   "source": [
    "### Deliverable 3: Clustering Crytocurrencies Using K-Means\n",
    "\n",
    "#### Finding the Best Value for `k` Using the Elbow Curve"
   ]
  },
  {
   "cell_type": "code",
   "execution_count": 56,
   "metadata": {},
   "outputs": [
    {
     "data": {
      "image/png": "[encoded data removed]",
      "text/plain": [
       "<Figure size 640x480 with 1 Axes>"
      ]
     },
     "metadata": {},
     "output_type": "display_data"
    },
    {
     "data": {},
     "metadata": {},
     "output_type": "display_data"
    },
    {
     "data": {
      "application/vnd.holoviews_exec.v0+json": "",
      "text/html": [
       "<div id='2199'>\n",
       "  <div class=\"bk-root\" id=\"dd7cd2ae-df3b-4469-83a5-1583e1ea4732\" data-root-id=\"2199\"></div>\n",
       "</div>\n",
       "<script type=\"application/javascript\">(function(root) {\n",
       "  function embed_document(root) {\n",
       "    var docs_json = {\"a4aa2e76-8651-47e9-a306-04aefb9dd05b\":{\"defs\":[{\"extends\":null,\"module\":null,\"name\":\"ReactiveHTML1\",\"overrides\":[],\"properties\":[]},{\"extends\":null,\"module\":null,\"name\":\"FlexBox1\",\"overrides\":[],\"properties\":[{\"default\":\"flex-start\",\"kind\":null,\"name\":\"align_content\"},{\"default\":\"flex-start\",\"kind\":null,\"name\":\"align_items\"},{\"default\":\"row\",\"kind\":null,\"name\":\"flex_direction\"},{\"default\":\"wrap\",\"kind\":null,\"name\":\"flex_wrap\"},{\"default\":\"flex-start\",\"kind\":null,\"name\":\"justify_content\"}]},{\"extends\":null,\"module\":null,\"name\":\"GridStack1\",\"overrides\":[],\"properties\":[{\"default\":\"warn\",\"kind\":null,\"name\":\"mode\"},{\"default\":null,\"kind\":null,\"name\":\"ncols\"},{\"default\":null,\"kind\":null,\"name\":\"nrows\"},{\"default\":true,\"kind\":null,\"name\":\"allow_resize\"},{\"default\":true,\"kind\":null,\"name\":\"allow_drag\"},{\"default\":[],\"kind\":null,\"name\":\"state\"}]},{\"extends\":null,\"module\":null,\"name\":\"click1\",\"overrides\":[],\"properties\":[{\"default\":\"\",\"kind\":null,\"name\":\"terminal_output\"},{\"default\":\"\",\"kind\":null,\"name\":\"debug_name\"},{\"default\":0,\"kind\":null,\"name\":\"clears\"}]},{\"extends\":null,\"module\":null,\"name\":\"NotificationAreaBase1\",\"overrides\":[],\"properties\":[{\"default\":\"bottom-right\",\"kind\":null,\"name\":\"position\"},{\"default\":0,\"kind\":null,\"name\":\"_clear\"}]},{\"extends\":null,\"module\":null,\"name\":\"NotificationArea1\",\"overrides\":[],\"properties\":[{\"default\":[],\"kind\":null,\"name\":\"notifications\"},{\"default\":\"bottom-right\",\"kind\":null,\"name\":\"position\"},{\"default\":0,\"kind\":null,\"name\":\"_clear\"},{\"default\":[{\"background\":\"#ffc107\",\"icon\":{\"className\":\"fas fa-exclamation-triangle\",\"color\":\"white\",\"tagName\":\"i\"},\"type\":\"warning\"},{\"background\":\"#007bff\",\"icon\":{\"className\":\"fas fa-info-circle\",\"color\":\"white\",\"tagName\":\"i\"},\"type\":\"info\"}],\"kind\":null,\"name\":\"types\"}]},{\"extends\":null,\"module\":null,\"name\":\"Notification\",\"overrides\":[],\"properties\":[{\"default\":null,\"kind\":null,\"name\":\"background\"},{\"default\":3000,\"kind\":null,\"name\":\"duration\"},{\"default\":null,\"kind\":null,\"name\":\"icon\"},{\"default\":\"\",\"kind\":null,\"name\":\"message\"},{\"default\":null,\"kind\":null,\"name\":\"notification_type\"},{\"default\":false,\"kind\":null,\"name\":\"_destroyed\"}]},{\"extends\":null,\"module\":null,\"name\":\"TemplateActions1\",\"overrides\":[],\"properties\":[{\"default\":0,\"kind\":null,\"name\":\"open_modal\"},{\"default\":0,\"kind\":null,\"name\":\"close_modal\"}]},{\"extends\":null,\"module\":null,\"name\":\"MaterialTemplateActions1\",\"overrides\":[],\"properties\":[{\"default\":0,\"kind\":null,\"name\":\"open_modal\"},{\"default\":0,\"kind\":null,\"name\":\"close_modal\"}]}],\"roots\":{\"references\":[{\"attributes\":{},\"id\":\"2242\",\"type\":\"Selection\"},{\"attributes\":{\"line_color\":\"#30a2da\",\"line_width\":2,\"x\":{\"field\":\"index\"},\"y\":{\"field\":\"value\"}},\"id\":\"2261\",\"type\":\"Line\"},{\"attributes\":{},\"id\":\"2224\",\"type\":\"WheelZoomTool\"},{\"attributes\":{},\"id\":\"2239\",\"type\":\"BasicTickFormatter\"},{\"attributes\":{},\"id\":\"2240\",\"type\":\"AllLabels\"},{\"attributes\":{},\"id\":\"2256\",\"type\":\"UnionRenderers\"},{\"attributes\":{},\"id\":\"2219\",\"type\":\"BasicTicker\"},{\"attributes\":{\"coordinates\":null,\"group\":null,\"text_color\":\"black\",\"text_font_size\":\"12pt\"},\"id\":\"2207\",\"type\":\"Title\"},{\"attributes\":{\"line_alpha\":0.1,\"line_color\":\"#e5ae38\",\"line_width\":2,\"x\":{\"field\":\"index\"},\"y\":{\"field\":\"value\"}},\"id\":\"2288\",\"type\":\"Line\"},{\"attributes\":{\"margin\":[5,5,5,5],\"name\":\"HSpacer02239\",\"sizing_mode\":\"stretch_width\"},\"id\":\"2322\",\"type\":\"Spacer\"},{\"attributes\":{\"line_alpha\":0.2,\"line_color\":\"#30a2da\",\"line_width\":2,\"x\":{\"field\":\"index\"},\"y\":{\"field\":\"value\"}},\"id\":\"2246\",\"type\":\"Line\"},{\"attributes\":{\"axis\":{\"id\":\"2218\"},\"coordinates\":null,\"dimension\":1,\"grid_line_color\":null,\"group\":null,\"ticker\":null},\"id\":\"2221\",\"type\":\"Grid\"},{\"attributes\":{\"axis_label\":\"\",\"coordinates\":null,\"formatter\":{\"id\":\"2236\"},\"group\":null,\"major_label_policy\":{\"id\":\"2237\"},\"ticker\":{\"id\":\"2216\"}},\"id\":\"2215\",\"type\":\"CategoricalAxis\"},{\"attributes\":{\"below\":[{\"id\":\"2215\"}],\"center\":[{\"id\":\"2217\"},{\"id\":\"2221\"}],\"height\":300,\"left\":[{\"id\":\"2218\"}],\"margin\":[5,5,5,5],\"min_border_bottom\":10,\"min_border_left\":10,\"min_border_right\":10,\"min_border_top\":10,\"renderers\":[{\"id\":\"2247\"},{\"id\":\"2268\"},{\"id\":\"2290\"}],\"right\":[{\"id\":\"2259\"}],\"sizing_mode\":\"fixed\",\"title\":{\"id\":\"2207\"},\"toolbar\":{\"id\":\"2228\"},\"width\":700,\"x_range\":{\"id\":\"2201\"},\"x_scale\":{\"id\":\"2211\"},\"y_range\":{\"id\":\"2202\"},\"y_scale\":{\"id\":\"2213\"}},\"id\":\"2206\",\"subtype\":\"Figure\",\"type\":\"Plot\"},{\"attributes\":{\"coordinates\":null,\"data_source\":{\"id\":\"2241\"},\"glyph\":{\"id\":\"2244\"},\"group\":null,\"hover_glyph\":null,\"muted_glyph\":{\"id\":\"2246\"},\"nonselection_glyph\":{\"id\":\"2245\"},\"selection_glyph\":{\"id\":\"2261\"},\"view\":{\"id\":\"2248\"}},\"id\":\"2247\",\"type\":\"GlyphRenderer\"},{\"attributes\":{\"line_color\":\"#30a2da\",\"line_width\":2,\"x\":{\"field\":\"index\"},\"y\":{\"field\":\"value\"}},\"id\":\"2244\",\"type\":\"Line\"},{\"attributes\":{\"data\":{\"Variable\":[\"PC 2\",\"PC 2\",\"PC 2\",\"PC 2\",\"PC 2\",\"PC 2\",\"PC 2\",\"PC 2\",\"PC 2\",\"PC 2\",\"PC 2\",\"PC 2\",\"PC 2\",\"PC 2\",\"PC 2\",\"PC 2\",\"PC 2\",\"PC 2\",\"PC 2\",\"PC 2\",\"PC 2\",\"PC 2\",\"PC 2\",\"PC 2\",\"PC 2\",\"PC 2\",\"PC 2\",\"PC 2\",\"PC 2\",\"PC 2\",\"PC 2\",\"PC 2\",\"PC 2\",\"PC 2\",\"PC 2\",\"PC 2\",\"PC 2\",\"PC 2\",\"PC 2\",\"PC 2\",\"PC 2\",\"PC 2\",\"PC 2\",\"PC 2\",\"PC 2\",\"PC 2\",\"PC 2\",\"PC 2\",\"PC 2\",\"PC 2\",\"PC 2\",\"PC 2\",\"PC 2\",\"PC 2\",\"PC 2\",\"PC 2\",\"PC 2\",\"PC 2\",\"PC 2\",\"PC 2\",\"PC 2\",\"PC 2\",\"PC 2\",\"PC 2\",\"PC 2\",\"PC 2\",\"PC 2\",\"PC 2\",\"PC 2\",\"PC 2\",\"PC 2\",\"PC 2\",\"PC 2\",\"PC 2\",\"PC 2\",\"PC 2\",\"PC 2\",\"PC 2\",\"PC 2\",\"PC 2\",\"PC 2\",\"PC 2\",\"PC 2\",\"PC 2\",\"PC 2\",\"PC 2\",\"PC 2\",\"PC 2\",\"PC 2\",\"PC 2\",\"PC 2\",\"PC 2\",\"PC 2\",\"PC 2\",\"PC 2\",\"PC 2\",\"PC 2\",\"PC 2\",\"PC 2\",\"PC 2\",\"PC 2\",\"PC 2\",\"PC 2\",\"PC 2\",\"PC 2\",\"PC 2\",\"PC 2\",\"PC 2\",\"PC 2\",\"PC 2\",\"PC 2\",\"PC 2\",\"PC 2\",\"PC 2\",\"PC 2\",\"PC 2\",\"PC 2\",\"PC 2\",\"PC 2\",\"PC 2\",\"PC 2\",\"PC 2\",\"PC 2\",\"PC 2\",\"PC 2\",\"PC 2\",\"PC 2\",\"PC 2\",\"PC 2\",\"PC 2\",\"PC 2\",\"PC 2\",\"PC 2\",\"PC 2\",\"PC 2\",\"PC 2\",\"PC 2\",\"PC 2\",\"PC 2\",\"PC 2\",\"PC 2\",\"PC 2\",\"PC 2\",\"PC 2\",\"PC 2\",\"PC 2\",\"PC 2\",\"PC 2\",\"PC 2\",\"PC 2\",\"PC 2\",\"PC 2\",\"PC 2\",\"PC 2\",\"PC 2\",\"PC 2\",\"PC 2\",\"PC 2\",\"PC 2\",\"PC 2\",\"PC 2\",\"PC 2\",\"PC 2\",\"PC 2\",\"PC 2\",\"PC 2\",\"PC 2\",\"PC 2\",\"PC 2\",\"PC 2\",\"PC 2\",\"PC 2\",\"PC 2\",\"PC 2\",\"PC 2\",\"PC 2\",\"PC 2\",\"PC 2\",\"PC 2\",\"PC 2\",\"PC 2\",\"PC 2\",\"PC 2\",\"PC 2\",\"PC 2\",\"PC 2\",\"PC 2\",\"PC 2\",\"PC 2\",\"PC 2\",\"PC 2\",\"PC 2\",\"PC 2\",\"PC 2\",\"PC 2\",\"PC 2\",\"PC 2\",\"PC 2\",\"PC 2\",\"PC 2\",\"PC 2\",\"PC 2\",\"PC 2\",\"PC 2\",\"PC 2\",\"PC 2\",\"PC 2\",\"PC 2\",\"PC 2\",\"PC 2\",\"PC 2\",\"PC 2\",\"PC 2\",\"PC 2\",\"PC 2\",\"PC 2\",\"PC 2\",\"PC 2\",\"PC 2\",\"PC 2\",\"PC 2\",\"PC 2\",\"PC 2\",\"PC 2\",\"PC 2\",\"PC 2\",\"PC 2\",\"PC 2\",\"PC 2\",\"PC 2\",\"PC 2\",\"PC 2\",\"PC 2\",\"PC 2\",\"PC 2\",\"PC 2\",\"PC 2\",\"PC 2\",\"PC 2\",\"PC 2\",\"PC 2\",\"PC 2\",\"PC 2\",\"PC 2\",\"PC 2\",\"PC 2\",\"PC 2\",\"PC 2\",\"PC 2\",\"PC 2\",\"PC 2\",\"PC 2\",\"PC 2\",\"PC 2\",\"PC 2\",\"PC 2\",\"PC 2\",\"PC 2\",\"PC 2\",\"PC 2\",\"PC 2\",\"PC 2\",\"PC 2\",\"PC 2\",\"PC 2\",\"PC 2\",\"PC 2\",\"PC 2\",\"PC 2\",\"PC 2\",\"PC 2\",\"PC 2\",\"PC 2\",\"PC 2\",\"PC 2\",\"PC 2\",\"PC 2\",\"PC 2\",\"PC 2\",\"PC 2\",\"PC 2\",\"PC 2\",\"PC 2\",\"PC 2\",\"PC 2\",\"PC 2\",\"PC 2\",\"PC 2\",\"PC 2\",\"PC 2\",\"PC 2\",\"PC 2\",\"PC 2\",\"PC 2\",\"PC 2\",\"PC 2\",\"PC 2\",\"PC 2\",\"PC 2\",\"PC 2\",\"PC 2\",\"PC 2\",\"PC 2\",\"PC 2\",\"PC 2\",\"PC 2\",\"PC 2\",\"PC 2\",\"PC 2\",\"PC 2\",\"PC 2\",\"PC 2\",\"PC 2\",\"PC 2\",\"PC 2\",\"PC 2\",\"PC 2\",\"PC 2\",\"PC 2\",\"PC 2\",\"PC 2\",\"PC 2\",\"PC 2\",\"PC 2\",\"PC 2\",\"PC 2\",\"PC 2\",\"PC 2\",\"PC 2\",\"PC 2\",\"PC 2\",\"PC 2\",\"PC 2\",\"PC 2\",\"PC 2\",\"PC 2\",\"PC 2\",\"PC 2\",\"PC 2\",\"PC 2\",\"PC 2\",\"PC 2\",\"PC 2\",\"PC 2\",\"PC 2\",\"PC 2\",\"PC 2\",\"PC 2\",\"PC 2\",\"PC 2\",\"PC 2\",\"PC 2\",\"PC 2\",\"PC 2\",\"PC 2\",\"PC 2\",\"PC 2\",\"PC 2\",\"PC 2\",\"PC 2\",\"PC 2\",\"PC 2\",\"PC 2\",\"PC 2\",\"PC 2\",\"PC 2\",\"PC 2\",\"PC 2\",\"PC 2\",\"PC 2\",\"PC 2\",\"PC 2\",\"PC 2\",\"PC 2\",\"PC 2\",\"PC 2\",\"PC 2\",\"PC 2\",\"PC 2\",\"PC 2\",\"PC 2\",\"PC 2\",\"PC 2\",\"PC 2\",\"PC 2\",\"PC 2\",\"PC 2\",\"PC 2\",\"PC 2\",\"PC 2\",\"PC 2\",\"PC 2\",\"PC 2\",\"PC 2\",\"PC 2\",\"PC 2\",\"PC 2\",\"PC 2\",\"PC 2\",\"PC 2\",\"PC 2\",\"PC 2\",\"PC 2\",\"PC 2\",\"PC 2\",\"PC 2\",\"PC 2\",\"PC 2\",\"PC 2\",\"PC 2\",\"PC 2\",\"PC 2\",\"PC 2\",\"PC 2\",\"PC 2\",\"PC 2\",\"PC 2\",\"PC 2\",\"PC 2\",\"PC 2\",\"PC 2\",\"PC 2\",\"PC 2\",\"PC 2\",\"PC 2\",\"PC 2\",\"PC 2\",\"PC 2\",\"PC 2\",\"PC 2\",\"PC 2\",\"PC 2\",\"PC 2\",\"PC 2\",\"PC 2\",\"PC 2\",\"PC 2\",\"PC 2\",\"PC 2\",\"PC 2\",\"PC 2\",\"PC 2\",\"PC 2\",\"PC 2\",\"PC 2\",\"PC 2\",\"PC 2\",\"PC 2\",\"PC 2\",\"PC 2\",\"PC 2\",\"PC 2\",\"PC 2\",\"PC 2\",\"PC 2\",\"PC 2\",\"PC 2\",\"PC 2\",\"PC 2\",\"PC 2\",\"PC 2\",\"PC 2\",\"PC 2\",\"PC 2\",\"PC 2\",\"PC 2\",\"PC 2\",\"PC 2\",\"PC 2\",\"PC 2\",\"PC 2\",\"PC 2\",\"PC 2\",\"PC 2\",\"PC 2\",\"PC 2\",\"PC 2\",\"PC 2\",\"PC 2\",\"PC 2\",\"PC 2\",\"PC 2\",\"PC 2\",\"PC 2\",\"PC 2\",\"PC 2\",\"PC 2\",\"PC 2\",\"PC 2\",\"PC 2\",\"PC 2\",\"PC 2\",\"PC 2\",\"PC 2\",\"PC 2\",\"PC 2\",\"PC 2\",\"PC 2\",\"PC 2\",\"PC 2\",\"PC 2\",\"PC 2\",\"PC 2\",\"PC 2\",\"PC 2\",\"PC 2\",\"PC 2\",\"PC 2\",\"PC 2\",\"PC 2\",\"PC 2\",\"PC 2\",\"PC 2\",\"PC 2\",\"PC 2\",\"PC 2\",\"PC 2\",\"PC 2\",\"PC 2\",\"PC 2\",\"PC 2\",\"PC 2\",\"PC 2\",\"PC 2\",\"PC 2\",\"PC 2\",\"PC 2\",\"PC 2\",\"PC 2\",\"PC 2\",\"PC 2\",\"PC 2\"],\"index\":[\"42\",\"404\",\"1337\",\"BTC\",\"ETH\",\"LTC\",\"DASH\",\"XMR\",\"ETC\",\"ZEC\",\"BTS\",\"DGB\",\"BTCD\",\"XPY\",\"PRC\",\"KOBO\",\"SPR\",\"ARG\",\"AUR\",\"BLU\",\"XMY\",\"MOON\",\"ZET\",\"SXC\",\"QTL\",\"ENRG\",\"QRK\",\"RIC\",\"DGC\",\"BTB\",\"CAT\",\"CBX\",\"CCN\",\"CRYPT\",\"CSC\",\"DMD\",\"XVG\",\"DVC\",\"EAC\",\"EFL\",\"EMC2\",\"EMD\",\"EXCL\",\"FLT\",\"FRK\",\"FTC\",\"GDC\",\"GLC\",\"GLD\",\"HBN\",\"HYP\",\"IFC\",\"IOC\",\"IXC\",\"KGC\",\"LKY\",\"LTB\",\"MAX\",\"MEC\",\"MED\",\"MINT\",\"MINC\",\"MZC\",\"NAUT\",\"NAV\",\"NOBL\",\"NMC\",\"NYAN\",\"OPAL\",\"ORB\",\"POT\",\"PXC\",\"RDD\",\"RPC\",\"SBC\",\"SMC\",\"SUPER\",\"SYNC\",\"SYS\",\"TES\",\"TGC\",\"TIT\",\"TOR\",\"TRC\",\"UNB\",\"UNO\",\"URO\",\"USDE\",\"UTC\",\"VIA\",\"VRC\",\"VTC\",\"WDC\",\"XC\",\"XCR\",\"XJO\",\"XST\",\"ZCC\",\"BCN\",\"XDN\",\"BURST\",\"SJCX\",\"MONA\",\"NTRN\",\"FAIR\",\"NLG\",\"RBY\",\"PTC\",\"KORE\",\"WBB\",\"NOTE\",\"FLO\",\"8BIT\",\"STV\",\"ABY\",\"FLDC\",\"U\",\"UIS\",\"CYP\",\"OMC\",\"VTR\",\"GRE\",\"XCN\",\"MSC\",\"SOON\",\"1CR\",\"ISL\",\"NXS\",\"MARS\",\"CTO\",\"ACP\",\"DRZ\",\"BSC\",\"SQL\",\"SONG\",\"ZNY\",\"DIGS\",\"EXP\",\"CON\",\"SC\",\"EMC\",\"EGC\",\"MND\",\"I0C\",\"DCR\",\"RVR\",\"HODL\",\"EDRC\",\"HTC\",\"GAME\",\"DBIC\",\"DIEM\",\"PWR\",\"BLRY\",\"GPU\",\"ADZ\",\"SOIL\",\"YOC\",\"SIB\",\"ERC\",\"ZEIT\",\"SWING\",\"SAFEX\",\"NEBU\",\"FRN\",\"BOLI\",\"XRA\",\"REV\",\"CKC\",\"VIP\",\"BSD\",\"OMNI\",\"LIR\",\"PUT\",\"IBANK\",\"FRWC\",\"MUDRA\",\"PIZZA\",\"LC\",\"KMD\",\"GB\",\"CTC\",\"KRB\",\"BXT\",\"ZYD\",\"MST\",\"ZNE\",\"COVAL\",\"ROOT\",\"DOPE\",\"BTCR\",\"DLC\",\"SCN\",\"SH\",\"BUZZ\",\"XPO\",\"PSB\",\"HALLO\",\"XZC\",\"CFC\",\"ROYAL\",\"GNJ\",\"TEAM\",\"LANA\",\"ELE\",\"ZCL\",\"ARK\",\"INSANE\",\"KLC\",\"ATX\",\"EMB\",\"XEN\",\"FRE\",\"PLNC\",\"ARCO\",\"KURT\",\"XCRE\",\"ENT\",\"EUC\",\"BCF\",\"XSN\",\"BCCOIN\",\"MONEY\",\"XNG\",\"XCI\",\"RC\",\"PND\",\"UNITS\",\"GAKH\",\"ASAFE2\",\"LTCR\",\"OS76\",\"BIC\",\"HXX\",\"KED\",\"IOP\",\"KUSH\",\"PRX\",\"PAC\",\"IMPCH\",\"CTL\",\"ZBC\",\"FRST\",\"BVC\",\"FIND\",\"VLTC\",\"ZER\",\"CHAT\",\"CDN\",\"ZOI\",\"RNS\",\"DBIX\",\"XVP\",\"TAJ\",\"IMX\",\"EB3\",\"ATMOS\",\"HPC\",\"CXT\",\"MCRN\",\"RAIN\",\"IMS\",\"ARGUS\",\"LMC\",\"PROC\",\"XGR\",\"BENJI\",\"GRW\",\"ILC\",\"PHR\",\"DEA\",\"HTML5\",\"USC\",\"EQT\",\"QTUM\",\"QRL\",\"ESP\",\"DYN\",\"NANO\",\"CHAN\",\"DCY\",\"DNR\",\"DP\",\"VUC\",\"BTPL\",\"UNIFY\",\"BRIT\",\"SOCC\",\"ARC\",\"DAS\",\"LINDA\",\"XLC\",\"ONION\",\"BTX\",\"GCN\",\"SMART\",\"SIGT\",\"ONX\",\"CRM\",\"BCH\",\"XMCC\",\"DFT\",\"VET\",\"SOJ\",\"STCN\",\"NYC\",\"FRAZ\",\"KRONE\",\"ACC\",\"LINX\",\"XCXT\",\"ETHD\",\"SUMO\",\"ODN\",\"ADA\",\"REC\",\"BTCZ\",\"TZC\",\"ELM\",\"TER\",\"VIVO\",\"RUP\",\"BTG\",\"WOMEN\",\"MAY\",\"NAMO\",\"LUX\",\"PIRL\",\"XIOS\",\"BTDX\",\"EBST\",\"KEK\",\"BLHC\",\"XIN\",\"PURA\",\"INN\",\"ELLA\",\"GBX\",\"MAG\",\"TAU\",\"ECA\",\"BCD\",\"XSH\",\"CNBC\",\"XUN\",\"COAL\",\"DAXX\",\"BWK\",\"KLKS\",\"AC3\",\"LTHN\",\"GER\",\"LTCU\",\"POP\",\"PNX\",\"PHO\",\"SUCR\",\"SPK\",\"WAGE\",\"GUN\",\"IRL\",\"TROLL\",\"LCP\",\"MONK\",\"PCOIN\",\"UBTC\",\"ITZ\",\"TPAY\",\"MCT\",\"MBC\",\"TRTL\",\"MUN\",\"USX\",\"NBR\",\"SSS\",\"TRF\",\"KREDS\",\"TOKC\",\"BBP\",\"LCC\",\"FLIP\",\"LOT\",\"CIF\",\"SPD\",\"POA\",\"PUSHI\",\"ELP\",\"VLX\",\"ONT\",\"CLO\",\"TUBE\",\"PSD\",\"ADK\",\"BSX\",\"BRIA\",\"IC\",\"BTL\",\"MEDIC\",\"ALPS\",\"BITG\",\"DEV\",\"ABJ\",\"SEM\",\"FTO\",\"CARE\",\"NZL\",\"XMC\",\"PROTON\",\"DEAL\",\"JUMP\",\"INFX\",\"XBI\",\"KEC\",\"HWC\",\"GIN\",\"PLTC\",\"LOKI\",\"NCP\",\"SIC\",\"XT3\",\"MGD\",\"VIG\",\"PLURA\",\"EMAR\",\"DKD\",\"LYNX\",\"POSQ\",\"BWS\",\"MUSE\",\"XMN\",\"PLUS1\",\"AXE\",\"TRVC\",\"DTEM\",\"GIC\",\"PNY\",\"ABS\",\"VITAE\",\"HEX\",\"TPC\",\"WEBC\",\"RYO\",\"URALS\",\"QWC\",\"ARE\",\"EUNO\",\"MMO\",\"KETAN\",\"PPAI\",\"XDNA\",\"PAXEX\",\"AZART\",\"TSC\",\"KCASH\",\"XCG\",\"AAC\",\"CRYP\",\"BTXC\",\"ACM\",\"BSV\",\"BITM\",\"JMC\",\"FRED\",\"HERB\",\"UMO\",\"LIT\",\"PIRATE\",\"EXO\",\"BLTG\",\"OWC\",\"BEAM\",\"GALI\",\"BTH\",\"CSPN\",\"CREDIT\",\"SLC\",\"DASHP\",\"NSD\",\"BEET\",\"TTN\",\"AWR\",\"BLAST\",\"XRC\",\"GLT\",\"INSN\",\"ALX\",\"LDOGE\",\"SLR\",\"TRK\",\"UFO\",\"OC\",\"BLC\",\"BITS\",\"NEOS\",\"HYPER\",\"PINK\",\"CESC\",\"ADC\",\"NKA\",\"PIGGY\",\"CRW\",\"GEN\",\"SMLY\",\"MI\",\"GRS\",\"CPC\",\"CLUB\",\"RADS\",\"BTA\",\"PAK\",\"CRB\",\"OK\",\"LSK\",\"XHI\",\"XWC\",\"FSC\",\"J\",\"TRI\",\"VOLLAR\",\"EOS\",\"RCC\",\"OXY\",\"TCH\",\"WAVES\",\"PART\",\"BTT\",\"NXT\",\"ZEPH\",\"GAP\",\"BDX\",\"ZEN\",\"XBC\"],\"value\":{\"__ndarray__\":\"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\",\"dtype\":\"float64\",\"order\":\"little\",\"shape\":[532]}},\"selected\":{\"id\":\"2263\"},\"selection_policy\":{\"id\":\"2279\"}},\"id\":\"2262\",\"type\":\"ColumnDataSource\"},{\"attributes\":{\"overlay\":{\"id\":\"2227\"}},\"id\":\"2225\",\"type\":\"BoxZoomTool\"},{\"attributes\":{\"label\":{\"value\":\"PC 1\"},\"renderers\":[{\"id\":\"2247\"}]},\"id\":\"2260\",\"type\":\"LegendItem\"},{\"attributes\":{},\"id\":\"2263\",\"type\":\"Selection\"},{\"attributes\":{\"line_alpha\":0.1,\"line_color\":\"#30a2da\",\"line_width\":2,\"x\":{\"field\":\"index\"},\"y\":{\"field\":\"value\"}},\"id\":\"2245\",\"type\":\"Line\"},{\"attributes\":{\"axis_label\":\"\",\"coordinates\":null,\"formatter\":{\"id\":\"2239\"},\"group\":null,\"major_label_policy\":{\"id\":\"2240\"},\"ticker\":{\"id\":\"2219\"}},\"id\":\"2218\",\"type\":\"LinearAxis\"},{\"attributes\":{},\"id\":\"2223\",\"type\":\"PanTool\"},{\"attributes\":{\"source\":{\"id\":\"2262\"}},\"id\":\"2269\",\"type\":\"CDSView\"},{\"attributes\":{\"coordinates\":null,\"data_source\":{\"id\":\"2262\"},\"glyph\":{\"id\":\"2265\"},\"group\":null,\"hover_glyph\":null,\"muted_glyph\":{\"id\":\"2267\"},\"nonselection_glyph\":{\"id\":\"2266\"},\"selection_glyph\":{\"id\":\"2283\"},\"view\":{\"id\":\"2269\"}},\"id\":\"2268\",\"type\":\"GlyphRenderer\"},{\"attributes\":{\"line_color\":\"#e5ae38\",\"line_width\":2,\"x\":{\"field\":\"index\"},\"y\":{\"field\":\"value\"}},\"id\":\"2307\",\"type\":\"Line\"},{\"attributes\":{\"line_alpha\":0.2,\"line_color\":\"#fc4f30\",\"line_width\":2,\"x\":{\"field\":\"index\"},\"y\":{\"field\":\"value\"}},\"id\":\"2267\",\"type\":\"Line\"},{\"attributes\":{\"callback\":null,\"renderers\":[{\"id\":\"2247\"},{\"id\":\"2268\"},{\"id\":\"2290\"}],\"tags\":[\"hv_created\"],\"tooltips\":[[\"Variable\",\"@{Variable}\"],[\"index\",\"@{index}\"],[\"value\",\"@{value}\"]]},\"id\":\"2203\",\"type\":\"HoverTool\"},{\"attributes\":{},\"id\":\"2285\",\"type\":\"Selection\"},{\"attributes\":{\"children\":[{\"id\":\"2200\"},{\"id\":\"2206\"},{\"id\":\"2322\"}],\"margin\":[0,0,0,0],\"name\":\"Row02234\",\"tags\":[\"embedded\"]},\"id\":\"2199\",\"type\":\"Row\"},{\"attributes\":{\"label\":{\"value\":\"PC 2\"},\"renderers\":[{\"id\":\"2268\"}]},\"id\":\"2282\",\"type\":\"LegendItem\"},{\"attributes\":{\"line_color\":\"#e5ae38\",\"line_width\":2,\"x\":{\"field\":\"index\"},\"y\":{\"field\":\"value\"}},\"id\":\"2287\",\"type\":\"Line\"},{\"attributes\":{\"label\":{\"value\":\"PC 3\"},\"renderers\":[{\"id\":\"2290\"}]},\"id\":\"2306\",\"type\":\"LegendItem\"},{\"attributes\":{},\"id\":\"2236\",\"type\":\"CategoricalTickFormatter\"},{\"attributes\":{\"line_alpha\":0.2,\"line_color\":\"#e5ae38\",\"line_width\":2,\"x\":{\"field\":\"index\"},\"y\":{\"field\":\"value\"}},\"id\":\"2289\",\"type\":\"Line\"},{\"attributes\":{\"margin\":[5,5,5,5],\"name\":\"HSpacer02238\",\"sizing_mode\":\"stretch_width\"},\"id\":\"2200\",\"type\":\"Spacer\"},{\"attributes\":{},\"id\":\"2237\",\"type\":\"AllLabels\"},{\"attributes\":{},\"id\":\"2303\",\"type\":\"UnionRenderers\"},{\"attributes\":{\"line_alpha\":0.1,\"line_color\":\"#fc4f30\",\"line_width\":2,\"x\":{\"field\":\"index\"},\"y\":{\"field\":\"value\"}},\"id\":\"2266\",\"type\":\"Line\"},{\"attributes\":{\"source\":{\"id\":\"2241\"}},\"id\":\"2248\",\"type\":\"CDSView\"},{\"attributes\":{\"data\":{\"Variable\":[\"PC 3\",\"PC 3\",\"PC 3\",\"PC 3\",\"PC 3\",\"PC 3\",\"PC 3\",\"PC 3\",\"PC 3\",\"PC 3\",\"PC 3\",\"PC 3\",\"PC 3\",\"PC 3\",\"PC 3\",\"PC 3\",\"PC 3\",\"PC 3\",\"PC 3\",\"PC 3\",\"PC 3\",\"PC 3\",\"PC 3\",\"PC 3\",\"PC 3\",\"PC 3\",\"PC 3\",\"PC 3\",\"PC 3\",\"PC 3\",\"PC 3\",\"PC 3\",\"PC 3\",\"PC 3\",\"PC 3\",\"PC 3\",\"PC 3\",\"PC 3\",\"PC 3\",\"PC 3\",\"PC 3\",\"PC 3\",\"PC 3\",\"PC 3\",\"PC 3\",\"PC 3\",\"PC 3\",\"PC 3\",\"PC 3\",\"PC 3\",\"PC 3\",\"PC 3\",\"PC 3\",\"PC 3\",\"PC 3\",\"PC 3\",\"PC 3\",\"PC 3\",\"PC 3\",\"PC 3\",\"PC 3\",\"PC 3\",\"PC 3\",\"PC 3\",\"PC 3\",\"PC 3\",\"PC 3\",\"PC 3\",\"PC 3\",\"PC 3\",\"PC 3\",\"PC 3\",\"PC 3\",\"PC 3\",\"PC 3\",\"PC 3\",\"PC 3\",\"PC 3\",\"PC 3\",\"PC 3\",\"PC 3\",\"PC 3\",\"PC 3\",\"PC 3\",\"PC 3\",\"PC 3\",\"PC 3\",\"PC 3\",\"PC 3\",\"PC 3\",\"PC 3\",\"PC 3\",\"PC 3\",\"PC 3\",\"PC 3\",\"PC 3\",\"PC 3\",\"PC 3\",\"PC 3\",\"PC 3\",\"PC 3\",\"PC 3\",\"PC 3\",\"PC 3\",\"PC 3\",\"PC 3\",\"PC 3\",\"PC 3\",\"PC 3\",\"PC 3\",\"PC 3\",\"PC 3\",\"PC 3\",\"PC 3\",\"PC 3\",\"PC 3\",\"PC 3\",\"PC 3\",\"PC 3\",\"PC 3\",\"PC 3\",\"PC 3\",\"PC 3\",\"PC 3\",\"PC 3\",\"PC 3\",\"PC 3\",\"PC 3\",\"PC 3\",\"PC 3\",\"PC 3\",\"PC 3\",\"PC 3\",\"PC 3\",\"PC 3\",\"PC 3\",\"PC 3\",\"PC 3\",\"PC 3\",\"PC 3\",\"PC 3\",\"PC 3\",\"PC 3\",\"PC 3\",\"PC 3\",\"PC 3\",\"PC 3\",\"PC 3\",\"PC 3\",\"PC 3\",\"PC 3\",\"PC 3\",\"PC 3\",\"PC 3\",\"PC 3\",\"PC 3\",\"PC 3\",\"PC 3\",\"PC 3\",\"PC 3\",\"PC 3\",\"PC 3\",\"PC 3\",\"PC 3\",\"PC 3\",\"PC 3\",\"PC 3\",\"PC 3\",\"PC 3\",\"PC 3\",\"PC 3\",\"PC 3\",\"PC 3\",\"PC 3\",\"PC 3\",\"PC 3\",\"PC 3\",\"PC 3\",\"PC 3\",\"PC 3\",\"PC 3\",\"PC 3\",\"PC 3\",\"PC 3\",\"PC 3\",\"PC 3\",\"PC 3\",\"PC 3\",\"PC 3\",\"PC 3\",\"PC 3\",\"PC 3\",\"PC 3\",\"PC 3\",\"PC 3\",\"PC 3\",\"PC 3\",\"PC 3\",\"PC 3\",\"PC 3\",\"PC 3\",\"PC 3\",\"PC 3\",\"PC 3\",\"PC 3\",\"PC 3\",\"PC 3\",\"PC 3\",\"PC 3\",\"PC 3\",\"PC 3\",\"PC 3\",\"PC 3\",\"PC 3\",\"PC 3\",\"PC 3\",\"PC 3\",\"PC 3\",\"PC 3\",\"PC 3\",\"PC 3\",\"PC 3\",\"PC 3\",\"PC 3\",\"PC 3\",\"PC 3\",\"PC 3\",\"PC 3\",\"PC 3\",\"PC 3\",\"PC 3\",\"PC 3\",\"PC 3\",\"PC 3\",\"PC 3\",\"PC 3\",\"PC 3\",\"PC 3\",\"PC 3\",\"PC 3\",\"PC 3\",\"PC 3\",\"PC 3\",\"PC 3\",\"PC 3\",\"PC 3\",\"PC 3\",\"PC 3\",\"PC 3\",\"PC 3\",\"PC 3\",\"PC 3\",\"PC 3\",\"PC 3\",\"PC 3\",\"PC 3\",\"PC 3\",\"PC 3\",\"PC 3\",\"PC 3\",\"PC 3\",\"PC 3\",\"PC 3\",\"PC 3\",\"PC 3\",\"PC 3\",\"PC 3\",\"PC 3\",\"PC 3\",\"PC 3\",\"PC 3\",\"PC 3\",\"PC 3\",\"PC 3\",\"PC 3\",\"PC 3\",\"PC 3\",\"PC 3\",\"PC 3\",\"PC 3\",\"PC 3\",\"PC 3\",\"PC 3\",\"PC 3\",\"PC 3\",\"PC 3\",\"PC 3\",\"PC 3\",\"PC 3\",\"PC 3\",\"PC 3\",\"PC 3\",\"PC 3\",\"PC 3\",\"PC 3\",\"PC 3\",\"PC 3\",\"PC 3\",\"PC 3\",\"PC 3\",\"PC 3\",\"PC 3\",\"PC 3\",\"PC 3\",\"PC 3\",\"PC 3\",\"PC 3\",\"PC 3\",\"PC 3\",\"PC 3\",\"PC 3\",\"PC 3\",\"PC 3\",\"PC 3\",\"PC 3\",\"PC 3\",\"PC 3\",\"PC 3\",\"PC 3\",\"PC 3\",\"PC 3\",\"PC 3\",\"PC 3\",\"PC 3\",\"PC 3\",\"PC 3\",\"PC 3\",\"PC 3\",\"PC 3\",\"PC 3\",\"PC 3\",\"PC 3\",\"PC 3\",\"PC 3\",\"PC 3\",\"PC 3\",\"PC 3\",\"PC 3\",\"PC 3\",\"PC 3\",\"PC 3\",\"PC 3\",\"PC 3\",\"PC 3\",\"PC 3\",\"PC 3\",\"PC 3\",\"PC 3\",\"PC 3\",\"PC 3\",\"PC 3\",\"PC 3\",\"PC 3\",\"PC 3\",\"PC 3\",\"PC 3\",\"PC 3\",\"PC 3\",\"PC 3\",\"PC 3\",\"PC 3\",\"PC 3\",\"PC 3\",\"PC 3\",\"PC 3\",\"PC 3\",\"PC 3\",\"PC 3\",\"PC 3\",\"PC 3\",\"PC 3\",\"PC 3\",\"PC 3\",\"PC 3\",\"PC 3\",\"PC 3\",\"PC 3\",\"PC 3\",\"PC 3\",\"PC 3\",\"PC 3\",\"PC 3\",\"PC 3\",\"PC 3\",\"PC 3\",\"PC 3\",\"PC 3\",\"PC 3\",\"PC 3\",\"PC 3\",\"PC 3\",\"PC 3\",\"PC 3\",\"PC 3\",\"PC 3\",\"PC 3\",\"PC 3\",\"PC 3\",\"PC 3\",\"PC 3\",\"PC 3\",\"PC 3\",\"PC 3\",\"PC 3\",\"PC 3\",\"PC 3\",\"PC 3\",\"PC 3\",\"PC 3\",\"PC 3\",\"PC 3\",\"PC 3\",\"PC 3\",\"PC 3\",\"PC 3\",\"PC 3\",\"PC 3\",\"PC 3\",\"PC 3\",\"PC 3\",\"PC 3\",\"PC 3\",\"PC 3\",\"PC 3\",\"PC 3\",\"PC 3\",\"PC 3\",\"PC 3\",\"PC 3\",\"PC 3\",\"PC 3\",\"PC 3\",\"PC 3\",\"PC 3\",\"PC 3\",\"PC 3\",\"PC 3\",\"PC 3\",\"PC 3\",\"PC 3\",\"PC 3\",\"PC 3\",\"PC 3\",\"PC 3\",\"PC 3\",\"PC 3\",\"PC 3\",\"PC 3\",\"PC 3\",\"PC 3\",\"PC 3\",\"PC 3\",\"PC 3\",\"PC 3\",\"PC 3\",\"PC 3\",\"PC 3\",\"PC 3\",\"PC 3\",\"PC 3\",\"PC 3\",\"PC 3\",\"PC 3\",\"PC 3\",\"PC 3\",\"PC 3\",\"PC 3\",\"PC 3\",\"PC 3\",\"PC 3\",\"PC 3\",\"PC 3\",\"PC 3\",\"PC 3\",\"PC 3\",\"PC 3\",\"PC 3\",\"PC 3\",\"PC 3\",\"PC 3\",\"PC 3\",\"PC 3\",\"PC 3\",\"PC 3\",\"PC 3\",\"PC 3\",\"PC 3\",\"PC 3\",\"PC 3\",\"PC 3\",\"PC 3\",\"PC 3\",\"PC 3\",\"PC 3\",\"PC 3\",\"PC 3\",\"PC 3\",\"PC 3\",\"PC 3\",\"PC 3\",\"PC 3\",\"PC 3\",\"PC 3\",\"PC 3\",\"PC 3\",\"PC 3\",\"PC 3\",\"PC 3\",\"PC 3\",\"PC 3\",\"PC 3\",\"PC 3\",\"PC 3\",\"PC 3\",\"PC 3\",\"PC 3\",\"PC 3\",\"PC 3\",\"PC 3\",\"PC 3\",\"PC 3\",\"PC 3\",\"PC 3\",\"PC 3\",\"PC 3\",\"PC 3\",\"PC 3\",\"PC 3\",\"PC 3\",\"PC 3\",\"PC 3\",\"PC 3\"],\"index\":[\"42\",\"404\",\"1337\",\"BTC\",\"ETH\",\"LTC\",\"DASH\",\"XMR\",\"ETC\",\"ZEC\",\"BTS\",\"DGB\",\"BTCD\",\"XPY\",\"PRC\",\"KOBO\",\"SPR\",\"ARG\",\"AUR\",\"BLU\",\"XMY\",\"MOON\",\"ZET\",\"SXC\",\"QTL\",\"ENRG\",\"QRK\",\"RIC\",\"DGC\",\"BTB\",\"CAT\",\"CBX\",\"CCN\",\"CRYPT\",\"CSC\",\"DMD\",\"XVG\",\"DVC\",\"EAC\",\"EFL\",\"EMC2\",\"EMD\",\"EXCL\",\"FLT\",\"FRK\",\"FTC\",\"GDC\",\"GLC\",\"GLD\",\"HBN\",\"HYP\",\"IFC\",\"IOC\",\"IXC\",\"KGC\",\"LKY\",\"LTB\",\"MAX\",\"MEC\",\"MED\",\"MINT\",\"MINC\",\"MZC\",\"NAUT\",\"NAV\",\"NOBL\",\"NMC\",\"NYAN\",\"OPAL\",\"ORB\",\"POT\",\"PXC\",\"RDD\",\"RPC\",\"SBC\",\"SMC\",\"SUPER\",\"SYNC\",\"SYS\",\"TES\",\"TGC\",\"TIT\",\"TOR\",\"TRC\",\"UNB\",\"UNO\",\"URO\",\"USDE\",\"UTC\",\"VIA\",\"VRC\",\"VTC\",\"WDC\",\"XC\",\"XCR\",\"XJO\",\"XST\",\"ZCC\",\"BCN\",\"XDN\",\"BURST\",\"SJCX\",\"MONA\",\"NTRN\",\"FAIR\",\"NLG\",\"RBY\",\"PTC\",\"KORE\",\"WBB\",\"NOTE\",\"FLO\",\"8BIT\",\"STV\",\"ABY\",\"FLDC\",\"U\",\"UIS\",\"CYP\",\"OMC\",\"VTR\",\"GRE\",\"XCN\",\"MSC\",\"SOON\",\"1CR\",\"ISL\",\"NXS\",\"MARS\",\"CTO\",\"ACP\",\"DRZ\",\"BSC\",\"SQL\",\"SONG\",\"ZNY\",\"DIGS\",\"EXP\",\"CON\",\"SC\",\"EMC\",\"EGC\",\"MND\",\"I0C\",\"DCR\",\"RVR\",\"HODL\",\"EDRC\",\"HTC\",\"GAME\",\"DBIC\",\"DIEM\",\"PWR\",\"BLRY\",\"GPU\",\"ADZ\",\"SOIL\",\"YOC\",\"SIB\",\"ERC\",\"ZEIT\",\"SWING\",\"SAFEX\",\"NEBU\",\"FRN\",\"BOLI\",\"XRA\",\"REV\",\"CKC\",\"VIP\",\"BSD\",\"OMNI\",\"LIR\",\"PUT\",\"IBANK\",\"FRWC\",\"MUDRA\",\"PIZZA\",\"LC\",\"KMD\",\"GB\",\"CTC\",\"KRB\",\"BXT\",\"ZYD\",\"MST\",\"ZNE\",\"COVAL\",\"ROOT\",\"DOPE\",\"BTCR\",\"DLC\",\"SCN\",\"SH\",\"BUZZ\",\"XPO\",\"PSB\",\"HALLO\",\"XZC\",\"CFC\",\"ROYAL\",\"GNJ\",\"TEAM\",\"LANA\",\"ELE\",\"ZCL\",\"ARK\",\"INSANE\",\"KLC\",\"ATX\",\"EMB\",\"XEN\",\"FRE\",\"PLNC\",\"ARCO\",\"KURT\",\"XCRE\",\"ENT\",\"EUC\",\"BCF\",\"XSN\",\"BCCOIN\",\"MONEY\",\"XNG\",\"XCI\",\"RC\",\"PND\",\"UNITS\",\"GAKH\",\"ASAFE2\",\"LTCR\",\"OS76\",\"BIC\",\"HXX\",\"KED\",\"IOP\",\"KUSH\",\"PRX\",\"PAC\",\"IMPCH\",\"CTL\",\"ZBC\",\"FRST\",\"BVC\",\"FIND\",\"VLTC\",\"ZER\",\"CHAT\",\"CDN\",\"ZOI\",\"RNS\",\"DBIX\",\"XVP\",\"TAJ\",\"IMX\",\"EB3\",\"ATMOS\",\"HPC\",\"CXT\",\"MCRN\",\"RAIN\",\"IMS\",\"ARGUS\",\"LMC\",\"PROC\",\"XGR\",\"BENJI\",\"GRW\",\"ILC\",\"PHR\",\"DEA\",\"HTML5\",\"USC\",\"EQT\",\"QTUM\",\"QRL\",\"ESP\",\"DYN\",\"NANO\",\"CHAN\",\"DCY\",\"DNR\",\"DP\",\"VUC\",\"BTPL\",\"UNIFY\",\"BRIT\",\"SOCC\",\"ARC\",\"DAS\",\"LINDA\",\"XLC\",\"ONION\",\"BTX\",\"GCN\",\"SMART\",\"SIGT\",\"ONX\",\"CRM\",\"BCH\",\"XMCC\",\"DFT\",\"VET\",\"SOJ\",\"STCN\",\"NYC\",\"FRAZ\",\"KRONE\",\"ACC\",\"LINX\",\"XCXT\",\"ETHD\",\"SUMO\",\"ODN\",\"ADA\",\"REC\",\"BTCZ\",\"TZC\",\"ELM\",\"TER\",\"VIVO\",\"RUP\",\"BTG\",\"WOMEN\",\"MAY\",\"NAMO\",\"LUX\",\"PIRL\",\"XIOS\",\"BTDX\",\"EBST\",\"KEK\",\"BLHC\",\"XIN\",\"PURA\",\"INN\",\"ELLA\",\"GBX\",\"MAG\",\"TAU\",\"ECA\",\"BCD\",\"XSH\",\"CNBC\",\"XUN\",\"COAL\",\"DAXX\",\"BWK\",\"KLKS\",\"AC3\",\"LTHN\",\"GER\",\"LTCU\",\"POP\",\"PNX\",\"PHO\",\"SUCR\",\"SPK\",\"WAGE\",\"GUN\",\"IRL\",\"TROLL\",\"LCP\",\"MONK\",\"PCOIN\",\"UBTC\",\"ITZ\",\"TPAY\",\"MCT\",\"MBC\",\"TRTL\",\"MUN\",\"USX\",\"NBR\",\"SSS\",\"TRF\",\"KREDS\",\"TOKC\",\"BBP\",\"LCC\",\"FLIP\",\"LOT\",\"CIF\",\"SPD\",\"POA\",\"PUSHI\",\"ELP\",\"VLX\",\"ONT\",\"CLO\",\"TUBE\",\"PSD\",\"ADK\",\"BSX\",\"BRIA\",\"IC\",\"BTL\",\"MEDIC\",\"ALPS\",\"BITG\",\"DEV\",\"ABJ\",\"SEM\",\"FTO\",\"CARE\",\"NZL\",\"XMC\",\"PROTON\",\"DEAL\",\"JUMP\",\"INFX\",\"XBI\",\"KEC\",\"HWC\",\"GIN\",\"PLTC\",\"LOKI\",\"NCP\",\"SIC\",\"XT3\",\"MGD\",\"VIG\",\"PLURA\",\"EMAR\",\"DKD\",\"LYNX\",\"POSQ\",\"BWS\",\"MUSE\",\"XMN\",\"PLUS1\",\"AXE\",\"TRVC\",\"DTEM\",\"GIC\",\"PNY\",\"ABS\",\"VITAE\",\"HEX\",\"TPC\",\"WEBC\",\"RYO\",\"URALS\",\"QWC\",\"ARE\",\"EUNO\",\"MMO\",\"KETAN\",\"PPAI\",\"XDNA\",\"PAXEX\",\"AZART\",\"TSC\",\"KCASH\",\"XCG\",\"AAC\",\"CRYP\",\"BTXC\",\"ACM\",\"BSV\",\"BITM\",\"JMC\",\"FRED\",\"HERB\",\"UMO\",\"LIT\",\"PIRATE\",\"EXO\",\"BLTG\",\"OWC\",\"BEAM\",\"GALI\",\"BTH\",\"CSPN\",\"CREDIT\",\"SLC\",\"DASHP\",\"NSD\",\"BEET\",\"TTN\",\"AWR\",\"BLAST\",\"XRC\",\"GLT\",\"INSN\",\"ALX\",\"LDOGE\",\"SLR\",\"TRK\",\"UFO\",\"OC\",\"BLC\",\"BITS\",\"NEOS\",\"HYPER\",\"PINK\",\"CESC\",\"ADC\",\"NKA\",\"PIGGY\",\"CRW\",\"GEN\",\"SMLY\",\"MI\",\"GRS\",\"CPC\",\"CLUB\",\"RADS\",\"BTA\",\"PAK\",\"CRB\",\"OK\",\"LSK\",\"XHI\",\"XWC\",\"FSC\",\"J\",\"TRI\",\"VOLLAR\",\"EOS\",\"RCC\",\"OXY\",\"TCH\",\"WAVES\",\"PART\",\"BTT\",\"NXT\",\"ZEPH\",\"GAP\",\"BDX\",\"ZEN\",\"XBC\"],\"value\":{\"__ndarray__\":\"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\",\"dtype\":\"float64\",\"order\":\"little\",\"shape\":[532]}},\"selected\":{\"id\":\"2285\"},\"selection_policy\":{\"id\":\"2303\"}},\"id\":\"2284\",\"type\":\"ColumnDataSource\"},{\"attributes\":{},\"id\":\"2279\",\"type\":\"UnionRenderers\"},{\"attributes\":{},\"id\":\"2213\",\"type\":\"LinearScale\"},{\"attributes\":{\"click_policy\":\"mute\",\"coordinates\":null,\"group\":null,\"items\":[{\"id\":\"2260\"},{\"id\":\"2282\"},{\"id\":\"2306\"}],\"location\":[0,0],\"title\":\"Variable\"},\"id\":\"2259\",\"type\":\"Legend\"},{\"attributes\":{\"source\":{\"id\":\"2284\"}},\"id\":\"2291\",\"type\":\"CDSView\"},{\"attributes\":{\"factors\":[\"42\",\"404\",\"1337\",\"BTC\",\"ETH\",\"LTC\",\"DASH\",\"XMR\",\"ETC\",\"ZEC\",\"BTS\",\"DGB\",\"BTCD\",\"XPY\",\"PRC\",\"KOBO\",\"SPR\",\"ARG\",\"AUR\",\"BLU\",\"XMY\",\"MOON\",\"ZET\",\"SXC\",\"QTL\",\"ENRG\",\"QRK\",\"RIC\",\"DGC\",\"BTB\",\"CAT\",\"CBX\",\"CCN\",\"CRYPT\",\"CSC\",\"DMD\",\"XVG\",\"DVC\",\"EAC\",\"EFL\",\"EMC2\",\"EMD\",\"EXCL\",\"FLT\",\"FRK\",\"FTC\",\"GDC\",\"GLC\",\"GLD\",\"HBN\",\"HYP\",\"IFC\",\"IOC\",\"IXC\",\"KGC\",\"LKY\",\"LTB\",\"MAX\",\"MEC\",\"MED\",\"MINT\",\"MINC\",\"MZC\",\"NAUT\",\"NAV\",\"NOBL\",\"NMC\",\"NYAN\",\"OPAL\",\"ORB\",\"POT\",\"PXC\",\"RDD\",\"RPC\",\"SBC\",\"SMC\",\"SUPER\",\"SYNC\",\"SYS\",\"TES\",\"TGC\",\"TIT\",\"TOR\",\"TRC\",\"UNB\",\"UNO\",\"URO\",\"USDE\",\"UTC\",\"VIA\",\"VRC\",\"VTC\",\"WDC\",\"XC\",\"XCR\",\"XJO\",\"XST\",\"ZCC\",\"BCN\",\"XDN\",\"BURST\",\"SJCX\",\"MONA\",\"NTRN\",\"FAIR\",\"NLG\",\"RBY\",\"PTC\",\"KORE\",\"WBB\",\"NOTE\",\"FLO\",\"8BIT\",\"STV\",\"ABY\",\"FLDC\",\"U\",\"UIS\",\"CYP\",\"OMC\",\"VTR\",\"GRE\",\"XCN\",\"MSC\",\"SOON\",\"1CR\",\"ISL\",\"NXS\",\"MARS\",\"CTO\",\"ACP\",\"DRZ\",\"BSC\",\"SQL\",\"SONG\",\"ZNY\",\"DIGS\",\"EXP\",\"CON\",\"SC\",\"EMC\",\"EGC\",\"MND\",\"I0C\",\"DCR\",\"RVR\",\"HODL\",\"EDRC\",\"HTC\",\"GAME\",\"DBIC\",\"DIEM\",\"PWR\",\"BLRY\",\"GPU\",\"ADZ\",\"SOIL\",\"YOC\",\"SIB\",\"ERC\",\"ZEIT\",\"SWING\",\"SAFEX\",\"NEBU\",\"FRN\",\"BOLI\",\"XRA\",\"REV\",\"CKC\",\"VIP\",\"BSD\",\"OMNI\",\"LIR\",\"PUT\",\"IBANK\",\"FRWC\",\"MUDRA\",\"PIZZA\",\"LC\",\"KMD\",\"GB\",\"CTC\",\"KRB\",\"BXT\",\"ZYD\",\"MST\",\"ZNE\",\"COVAL\",\"ROOT\",\"DOPE\",\"BTCR\",\"DLC\",\"SCN\",\"SH\",\"BUZZ\",\"XPO\",\"PSB\",\"HALLO\",\"XZC\",\"CFC\",\"ROYAL\",\"GNJ\",\"TEAM\",\"LANA\",\"ELE\",\"ZCL\",\"ARK\",\"INSANE\",\"KLC\",\"ATX\",\"EMB\",\"XEN\",\"FRE\",\"PLNC\",\"ARCO\",\"KURT\",\"XCRE\",\"ENT\",\"EUC\",\"BCF\",\"XSN\",\"BCCOIN\",\"MONEY\",\"XNG\",\"XCI\",\"RC\",\"PND\",\"UNITS\",\"GAKH\",\"ASAFE2\",\"LTCR\",\"OS76\",\"BIC\",\"HXX\",\"KED\",\"IOP\",\"KUSH\",\"PRX\",\"PAC\",\"IMPCH\",\"CTL\",\"ZBC\",\"FRST\",\"BVC\",\"FIND\",\"VLTC\",\"ZER\",\"CHAT\",\"CDN\",\"ZOI\",\"RNS\",\"DBIX\",\"XVP\",\"TAJ\",\"IMX\",\"EB3\",\"ATMOS\",\"HPC\",\"CXT\",\"MCRN\",\"RAIN\",\"IMS\",\"ARGUS\",\"LMC\",\"PROC\",\"XGR\",\"BENJI\",\"GRW\",\"ILC\",\"PHR\",\"DEA\",\"HTML5\",\"USC\",\"EQT\",\"QTUM\",\"QRL\",\"ESP\",\"DYN\",\"NANO\",\"CHAN\",\"DCY\",\"DNR\",\"DP\",\"VUC\",\"BTPL\",\"UNIFY\",\"BRIT\",\"SOCC\",\"ARC\",\"DAS\",\"LINDA\",\"XLC\",\"ONION\",\"BTX\",\"GCN\",\"SMART\",\"SIGT\",\"ONX\",\"CRM\",\"BCH\",\"XMCC\",\"DFT\",\"VET\",\"SOJ\",\"STCN\",\"NYC\",\"FRAZ\",\"KRONE\",\"ACC\",\"LINX\",\"XCXT\",\"ETHD\",\"SUMO\",\"ODN\",\"ADA\",\"REC\",\"BTCZ\",\"TZC\",\"ELM\",\"TER\",\"VIVO\",\"RUP\",\"BTG\",\"WOMEN\",\"MAY\",\"NAMO\",\"LUX\",\"PIRL\",\"XIOS\",\"BTDX\",\"EBST\",\"KEK\",\"BLHC\",\"XIN\",\"PURA\",\"INN\",\"ELLA\",\"GBX\",\"MAG\",\"TAU\",\"ECA\",\"BCD\",\"XSH\",\"CNBC\",\"XUN\",\"COAL\",\"DAXX\",\"BWK\",\"KLKS\",\"AC3\",\"LTHN\",\"GER\",\"LTCU\",\"POP\",\"PNX\",\"PHO\",\"SUCR\",\"SPK\",\"WAGE\",\"GUN\",\"IRL\",\"TROLL\",\"LCP\",\"MONK\",\"PCOIN\",\"UBTC\",\"ITZ\",\"TPAY\",\"MCT\",\"MBC\",\"TRTL\",\"MUN\",\"USX\",\"NBR\",\"SSS\",\"TRF\",\"KREDS\",\"TOKC\",\"BBP\",\"LCC\",\"FLIP\",\"LOT\",\"CIF\",\"SPD\",\"POA\",\"PUSHI\",\"ELP\",\"VLX\",\"ONT\",\"CLO\",\"TUBE\",\"PSD\",\"ADK\",\"BSX\",\"BRIA\",\"IC\",\"BTL\",\"MEDIC\",\"ALPS\",\"BITG\",\"DEV\",\"ABJ\",\"SEM\",\"FTO\",\"CARE\",\"NZL\",\"XMC\",\"PROTON\",\"DEAL\",\"JUMP\",\"INFX\",\"XBI\",\"KEC\",\"HWC\",\"GIN\",\"PLTC\",\"LOKI\",\"NCP\",\"SIC\",\"XT3\",\"MGD\",\"VIG\",\"PLURA\",\"EMAR\",\"DKD\",\"LYNX\",\"POSQ\",\"BWS\",\"MUSE\",\"XMN\",\"PLUS1\",\"AXE\",\"TRVC\",\"DTEM\",\"GIC\",\"PNY\",\"ABS\",\"VITAE\",\"HEX\",\"TPC\",\"WEBC\",\"RYO\",\"URALS\",\"QWC\",\"ARE\",\"EUNO\",\"MMO\",\"KETAN\",\"PPAI\",\"XDNA\",\"PAXEX\",\"AZART\",\"TSC\",\"KCASH\",\"XCG\",\"AAC\",\"CRYP\",\"BTXC\",\"ACM\",\"BSV\",\"BITM\",\"JMC\",\"FRED\",\"HERB\",\"UMO\",\"LIT\",\"PIRATE\",\"EXO\",\"BLTG\",\"OWC\",\"BEAM\",\"GALI\",\"BTH\",\"CSPN\",\"CREDIT\",\"SLC\",\"DASHP\",\"NSD\",\"BEET\",\"TTN\",\"AWR\",\"BLAST\",\"XRC\",\"GLT\",\"INSN\",\"ALX\",\"LDOGE\",\"SLR\",\"TRK\",\"UFO\",\"OC\",\"BLC\",\"BITS\",\"NEOS\",\"HYPER\",\"PINK\",\"CESC\",\"ADC\",\"NKA\",\"PIGGY\",\"CRW\",\"GEN\",\"SMLY\",\"MI\",\"GRS\",\"CPC\",\"CLUB\",\"RADS\",\"BTA\",\"PAK\",\"CRB\",\"OK\",\"LSK\",\"XHI\",\"XWC\",\"FSC\",\"J\",\"TRI\",\"VOLLAR\",\"EOS\",\"RCC\",\"OXY\",\"TCH\",\"WAVES\",\"PART\",\"BTT\",\"NXT\",\"ZEPH\",\"GAP\",\"BDX\",\"ZEN\",\"XBC\"],\"tags\":[[[\"index\",\"index\",null]]]},\"id\":\"2201\",\"type\":\"FactorRange\"},{\"attributes\":{\"bottom_units\":\"screen\",\"coordinates\":null,\"fill_alpha\":0.5,\"fill_color\":\"lightgrey\",\"group\":null,\"left_units\":\"screen\",\"level\":\"overlay\",\"line_alpha\":1.0,\"line_color\":\"black\",\"line_dash\":[4,4],\"line_width\":2,\"right_units\":\"screen\",\"syncable\":false,\"top_units\":\"screen\"},\"id\":\"2227\",\"type\":\"BoxAnnotation\"},{\"attributes\":{},\"id\":\"2226\",\"type\":\"ResetTool\"},{\"attributes\":{\"coordinates\":null,\"data_source\":{\"id\":\"2284\"},\"glyph\":{\"id\":\"2287\"},\"group\":null,\"hover_glyph\":null,\"muted_glyph\":{\"id\":\"2289\"},\"nonselection_glyph\":{\"id\":\"2288\"},\"selection_glyph\":{\"id\":\"2307\"},\"view\":{\"id\":\"2291\"}},\"id\":\"2290\",\"type\":\"GlyphRenderer\"},{\"attributes\":{},\"id\":\"2216\",\"type\":\"CategoricalTicker\"},{\"attributes\":{},\"id\":\"2211\",\"type\":\"CategoricalScale\"},{\"attributes\":{\"tools\":[{\"id\":\"2203\"},{\"id\":\"2222\"},{\"id\":\"2223\"},{\"id\":\"2224\"},{\"id\":\"2225\"},{\"id\":\"2226\"}]},\"id\":\"2228\",\"type\":\"Toolbar\"},{\"attributes\":{\"line_color\":\"#fc4f30\",\"line_width\":2,\"x\":{\"field\":\"index\"},\"y\":{\"field\":\"value\"}},\"id\":\"2283\",\"type\":\"Line\"},{\"attributes\":{},\"id\":\"2222\",\"type\":\"SaveTool\"},{\"attributes\":{\"data\":{\"Variable\":[\"PC 1\",\"PC 1\",\"PC 1\",\"PC 1\",\"PC 1\",\"PC 1\",\"PC 1\",\"PC 1\",\"PC 1\",\"PC 1\",\"PC 1\",\"PC 1\",\"PC 1\",\"PC 1\",\"PC 1\",\"PC 1\",\"PC 1\",\"PC 1\",\"PC 1\",\"PC 1\",\"PC 1\",\"PC 1\",\"PC 1\",\"PC 1\",\"PC 1\",\"PC 1\",\"PC 1\",\"PC 1\",\"PC 1\",\"PC 1\",\"PC 1\",\"PC 1\",\"PC 1\",\"PC 1\",\"PC 1\",\"PC 1\",\"PC 1\",\"PC 1\",\"PC 1\",\"PC 1\",\"PC 1\",\"PC 1\",\"PC 1\",\"PC 1\",\"PC 1\",\"PC 1\",\"PC 1\",\"PC 1\",\"PC 1\",\"PC 1\",\"PC 1\",\"PC 1\",\"PC 1\",\"PC 1\",\"PC 1\",\"PC 1\",\"PC 1\",\"PC 1\",\"PC 1\",\"PC 1\",\"PC 1\",\"PC 1\",\"PC 1\",\"PC 1\",\"PC 1\",\"PC 1\",\"PC 1\",\"PC 1\",\"PC 1\",\"PC 1\",\"PC 1\",\"PC 1\",\"PC 1\",\"PC 1\",\"PC 1\",\"PC 1\",\"PC 1\",\"PC 1\",\"PC 1\",\"PC 1\",\"PC 1\",\"PC 1\",\"PC 1\",\"PC 1\",\"PC 1\",\"PC 1\",\"PC 1\",\"PC 1\",\"PC 1\",\"PC 1\",\"PC 1\",\"PC 1\",\"PC 1\",\"PC 1\",\"PC 1\",\"PC 1\",\"PC 1\",\"PC 1\",\"PC 1\",\"PC 1\",\"PC 1\",\"PC 1\",\"PC 1\",\"PC 1\",\"PC 1\",\"PC 1\",\"PC 1\",\"PC 1\",\"PC 1\",\"PC 1\",\"PC 1\",\"PC 1\",\"PC 1\",\"PC 1\",\"PC 1\",\"PC 1\",\"PC 1\",\"PC 1\",\"PC 1\",\"PC 1\",\"PC 1\",\"PC 1\",\"PC 1\",\"PC 1\",\"PC 1\",\"PC 1\",\"PC 1\",\"PC 1\",\"PC 1\",\"PC 1\",\"PC 1\",\"PC 1\",\"PC 1\",\"PC 1\",\"PC 1\",\"PC 1\",\"PC 1\",\"PC 1\",\"PC 1\",\"PC 1\",\"PC 1\",\"PC 1\",\"PC 1\",\"PC 1\",\"PC 1\",\"PC 1\",\"PC 1\",\"PC 1\",\"PC 1\",\"PC 1\",\"PC 1\",\"PC 1\",\"PC 1\",\"PC 1\",\"PC 1\",\"PC 1\",\"PC 1\",\"PC 1\",\"PC 1\",\"PC 1\",\"PC 1\",\"PC 1\",\"PC 1\",\"PC 1\",\"PC 1\",\"PC 1\",\"PC 1\",\"PC 1\",\"PC 1\",\"PC 1\",\"PC 1\",\"PC 1\",\"PC 1\",\"PC 1\",\"PC 1\",\"PC 1\",\"PC 1\",\"PC 1\",\"PC 1\",\"PC 1\",\"PC 1\",\"PC 1\",\"PC 1\",\"PC 1\",\"PC 1\",\"PC 1\",\"PC 1\",\"PC 1\",\"PC 1\",\"PC 1\",\"PC 1\",\"PC 1\",\"PC 1\",\"PC 1\",\"PC 1\",\"PC 1\",\"PC 1\",\"PC 1\",\"PC 1\",\"PC 1\",\"PC 1\",\"PC 1\",\"PC 1\",\"PC 1\",\"PC 1\",\"PC 1\",\"PC 1\",\"PC 1\",\"PC 1\",\"PC 1\",\"PC 1\",\"PC 1\",\"PC 1\",\"PC 1\",\"PC 1\",\"PC 1\",\"PC 1\",\"PC 1\",\"PC 1\",\"PC 1\",\"PC 1\",\"PC 1\",\"PC 1\",\"PC 1\",\"PC 1\",\"PC 1\",\"PC 1\",\"PC 1\",\"PC 1\",\"PC 1\",\"PC 1\",\"PC 1\",\"PC 1\",\"PC 1\",\"PC 1\",\"PC 1\",\"PC 1\",\"PC 1\",\"PC 1\",\"PC 1\",\"PC 1\",\"PC 1\",\"PC 1\",\"PC 1\",\"PC 1\",\"PC 1\",\"PC 1\",\"PC 1\",\"PC 1\",\"PC 1\",\"PC 1\",\"PC 1\",\"PC 1\",\"PC 1\",\"PC 1\",\"PC 1\",\"PC 1\",\"PC 1\",\"PC 1\",\"PC 1\",\"PC 1\",\"PC 1\",\"PC 1\",\"PC 1\",\"PC 1\",\"PC 1\",\"PC 1\",\"PC 1\",\"PC 1\",\"PC 1\",\"PC 1\",\"PC 1\",\"PC 1\",\"PC 1\",\"PC 1\",\"PC 1\",\"PC 1\",\"PC 1\",\"PC 1\",\"PC 1\",\"PC 1\",\"PC 1\",\"PC 1\",\"PC 1\",\"PC 1\",\"PC 1\",\"PC 1\",\"PC 1\",\"PC 1\",\"PC 1\",\"PC 1\",\"PC 1\",\"PC 1\",\"PC 1\",\"PC 1\",\"PC 1\",\"PC 1\",\"PC 1\",\"PC 1\",\"PC 1\",\"PC 1\",\"PC 1\",\"PC 1\",\"PC 1\",\"PC 1\",\"PC 1\",\"PC 1\",\"PC 1\",\"PC 1\",\"PC 1\",\"PC 1\",\"PC 1\",\"PC 1\",\"PC 1\",\"PC 1\",\"PC 1\",\"PC 1\",\"PC 1\",\"PC 1\",\"PC 1\",\"PC 1\",\"PC 1\",\"PC 1\",\"PC 1\",\"PC 1\",\"PC 1\",\"PC 1\",\"PC 1\",\"PC 1\",\"PC 1\",\"PC 1\",\"PC 1\",\"PC 1\",\"PC 1\",\"PC 1\",\"PC 1\",\"PC 1\",\"PC 1\",\"PC 1\",\"PC 1\",\"PC 1\",\"PC 1\",\"PC 1\",\"PC 1\",\"PC 1\",\"PC 1\",\"PC 1\",\"PC 1\",\"PC 1\",\"PC 1\",\"PC 1\",\"PC 1\",\"PC 1\",\"PC 1\",\"PC 1\",\"PC 1\",\"PC 1\",\"PC 1\",\"PC 1\",\"PC 1\",\"PC 1\",\"PC 1\",\"PC 1\",\"PC 1\",\"PC 1\",\"PC 1\",\"PC 1\",\"PC 1\",\"PC 1\",\"PC 1\",\"PC 1\",\"PC 1\",\"PC 1\",\"PC 1\",\"PC 1\",\"PC 1\",\"PC 1\",\"PC 1\",\"PC 1\",\"PC 1\",\"PC 1\",\"PC 1\",\"PC 1\",\"PC 1\",\"PC 1\",\"PC 1\",\"PC 1\",\"PC 1\",\"PC 1\",\"PC 1\",\"PC 1\",\"PC 1\",\"PC 1\",\"PC 1\",\"PC 1\",\"PC 1\",\"PC 1\",\"PC 1\",\"PC 1\",\"PC 1\",\"PC 1\",\"PC 1\",\"PC 1\",\"PC 1\",\"PC 1\",\"PC 1\",\"PC 1\",\"PC 1\",\"PC 1\",\"PC 1\",\"PC 1\",\"PC 1\",\"PC 1\",\"PC 1\",\"PC 1\",\"PC 1\",\"PC 1\",\"PC 1\",\"PC 1\",\"PC 1\",\"PC 1\",\"PC 1\",\"PC 1\",\"PC 1\",\"PC 1\",\"PC 1\",\"PC 1\",\"PC 1\",\"PC 1\",\"PC 1\",\"PC 1\",\"PC 1\",\"PC 1\",\"PC 1\",\"PC 1\",\"PC 1\",\"PC 1\",\"PC 1\",\"PC 1\",\"PC 1\",\"PC 1\",\"PC 1\",\"PC 1\",\"PC 1\",\"PC 1\",\"PC 1\",\"PC 1\",\"PC 1\",\"PC 1\",\"PC 1\",\"PC 1\",\"PC 1\",\"PC 1\",\"PC 1\",\"PC 1\",\"PC 1\",\"PC 1\",\"PC 1\",\"PC 1\",\"PC 1\",\"PC 1\",\"PC 1\",\"PC 1\",\"PC 1\",\"PC 1\",\"PC 1\",\"PC 1\",\"PC 1\",\"PC 1\",\"PC 1\",\"PC 1\",\"PC 1\",\"PC 1\",\"PC 1\",\"PC 1\",\"PC 1\",\"PC 1\",\"PC 1\",\"PC 1\",\"PC 1\",\"PC 1\",\"PC 1\",\"PC 1\",\"PC 1\",\"PC 1\",\"PC 1\",\"PC 1\",\"PC 1\",\"PC 1\",\"PC 1\",\"PC 1\",\"PC 1\",\"PC 1\",\"PC 1\",\"PC 1\",\"PC 1\",\"PC 1\",\"PC 1\",\"PC 1\",\"PC 1\",\"PC 1\",\"PC 1\",\"PC 1\",\"PC 1\",\"PC 1\",\"PC 1\",\"PC 1\",\"PC 1\",\"PC 1\",\"PC 1\",\"PC 1\",\"PC 1\",\"PC 1\",\"PC 1\",\"PC 1\",\"PC 1\",\"PC 1\",\"PC 1\",\"PC 1\",\"PC 1\",\"PC 1\",\"PC 1\",\"PC 1\",\"PC 1\",\"PC 1\",\"PC 1\",\"PC 1\",\"PC 1\",\"PC 1\",\"PC 1\",\"PC 1\",\"PC 1\"],\"index\":[\"42\",\"404\",\"1337\",\"BTC\",\"ETH\",\"LTC\",\"DASH\",\"XMR\",\"ETC\",\"ZEC\",\"BTS\",\"DGB\",\"BTCD\",\"XPY\",\"PRC\",\"KOBO\",\"SPR\",\"ARG\",\"AUR\",\"BLU\",\"XMY\",\"MOON\",\"ZET\",\"SXC\",\"QTL\",\"ENRG\",\"QRK\",\"RIC\",\"DGC\",\"BTB\",\"CAT\",\"CBX\",\"CCN\",\"CRYPT\",\"CSC\",\"DMD\",\"XVG\",\"DVC\",\"EAC\",\"EFL\",\"EMC2\",\"EMD\",\"EXCL\",\"FLT\",\"FRK\",\"FTC\",\"GDC\",\"GLC\",\"GLD\",\"HBN\",\"HYP\",\"IFC\",\"IOC\",\"IXC\",\"KGC\",\"LKY\",\"LTB\",\"MAX\",\"MEC\",\"MED\",\"MINT\",\"MINC\",\"MZC\",\"NAUT\",\"NAV\",\"NOBL\",\"NMC\",\"NYAN\",\"OPAL\",\"ORB\",\"POT\",\"PXC\",\"RDD\",\"RPC\",\"SBC\",\"SMC\",\"SUPER\",\"SYNC\",\"SYS\",\"TES\",\"TGC\",\"TIT\",\"TOR\",\"TRC\",\"UNB\",\"UNO\",\"URO\",\"USDE\",\"UTC\",\"VIA\",\"VRC\",\"VTC\",\"WDC\",\"XC\",\"XCR\",\"XJO\",\"XST\",\"ZCC\",\"BCN\",\"XDN\",\"BURST\",\"SJCX\",\"MONA\",\"NTRN\",\"FAIR\",\"NLG\",\"RBY\",\"PTC\",\"KORE\",\"WBB\",\"NOTE\",\"FLO\",\"8BIT\",\"STV\",\"ABY\",\"FLDC\",\"U\",\"UIS\",\"CYP\",\"OMC\",\"VTR\",\"GRE\",\"XCN\",\"MSC\",\"SOON\",\"1CR\",\"ISL\",\"NXS\",\"MARS\",\"CTO\",\"ACP\",\"DRZ\",\"BSC\",\"SQL\",\"SONG\",\"ZNY\",\"DIGS\",\"EXP\",\"CON\",\"SC\",\"EMC\",\"EGC\",\"MND\",\"I0C\",\"DCR\",\"RVR\",\"HODL\",\"EDRC\",\"HTC\",\"GAME\",\"DBIC\",\"DIEM\",\"PWR\",\"BLRY\",\"GPU\",\"ADZ\",\"SOIL\",\"YOC\",\"SIB\",\"ERC\",\"ZEIT\",\"SWING\",\"SAFEX\",\"NEBU\",\"FRN\",\"BOLI\",\"XRA\",\"REV\",\"CKC\",\"VIP\",\"BSD\",\"OMNI\",\"LIR\",\"PUT\",\"IBANK\",\"FRWC\",\"MUDRA\",\"PIZZA\",\"LC\",\"KMD\",\"GB\",\"CTC\",\"KRB\",\"BXT\",\"ZYD\",\"MST\",\"ZNE\",\"COVAL\",\"ROOT\",\"DOPE\",\"BTCR\",\"DLC\",\"SCN\",\"SH\",\"BUZZ\",\"XPO\",\"PSB\",\"HALLO\",\"XZC\",\"CFC\",\"ROYAL\",\"GNJ\",\"TEAM\",\"LANA\",\"ELE\",\"ZCL\",\"ARK\",\"INSANE\",\"KLC\",\"ATX\",\"EMB\",\"XEN\",\"FRE\",\"PLNC\",\"ARCO\",\"KURT\",\"XCRE\",\"ENT\",\"EUC\",\"BCF\",\"XSN\",\"BCCOIN\",\"MONEY\",\"XNG\",\"XCI\",\"RC\",\"PND\",\"UNITS\",\"GAKH\",\"ASAFE2\",\"LTCR\",\"OS76\",\"BIC\",\"HXX\",\"KED\",\"IOP\",\"KUSH\",\"PRX\",\"PAC\",\"IMPCH\",\"CTL\",\"ZBC\",\"FRST\",\"BVC\",\"FIND\",\"VLTC\",\"ZER\",\"CHAT\",\"CDN\",\"ZOI\",\"RNS\",\"DBIX\",\"XVP\",\"TAJ\",\"IMX\",\"EB3\",\"ATMOS\",\"HPC\",\"CXT\",\"MCRN\",\"RAIN\",\"IMS\",\"ARGUS\",\"LMC\",\"PROC\",\"XGR\",\"BENJI\",\"GRW\",\"ILC\",\"PHR\",\"DEA\",\"HTML5\",\"USC\",\"EQT\",\"QTUM\",\"QRL\",\"ESP\",\"DYN\",\"NANO\",\"CHAN\",\"DCY\",\"DNR\",\"DP\",\"VUC\",\"BTPL\",\"UNIFY\",\"BRIT\",\"SOCC\",\"ARC\",\"DAS\",\"LINDA\",\"XLC\",\"ONION\",\"BTX\",\"GCN\",\"SMART\",\"SIGT\",\"ONX\",\"CRM\",\"BCH\",\"XMCC\",\"DFT\",\"VET\",\"SOJ\",\"STCN\",\"NYC\",\"FRAZ\",\"KRONE\",\"ACC\",\"LINX\",\"XCXT\",\"ETHD\",\"SUMO\",\"ODN\",\"ADA\",\"REC\",\"BTCZ\",\"TZC\",\"ELM\",\"TER\",\"VIVO\",\"RUP\",\"BTG\",\"WOMEN\",\"MAY\",\"NAMO\",\"LUX\",\"PIRL\",\"XIOS\",\"BTDX\",\"EBST\",\"KEK\",\"BLHC\",\"XIN\",\"PURA\",\"INN\",\"ELLA\",\"GBX\",\"MAG\",\"TAU\",\"ECA\",\"BCD\",\"XSH\",\"CNBC\",\"XUN\",\"COAL\",\"DAXX\",\"BWK\",\"KLKS\",\"AC3\",\"LTHN\",\"GER\",\"LTCU\",\"POP\",\"PNX\",\"PHO\",\"SUCR\",\"SPK\",\"WAGE\",\"GUN\",\"IRL\",\"TROLL\",\"LCP\",\"MONK\",\"PCOIN\",\"UBTC\",\"ITZ\",\"TPAY\",\"MCT\",\"MBC\",\"TRTL\",\"MUN\",\"USX\",\"NBR\",\"SSS\",\"TRF\",\"KREDS\",\"TOKC\",\"BBP\",\"LCC\",\"FLIP\",\"LOT\",\"CIF\",\"SPD\",\"POA\",\"PUSHI\",\"ELP\",\"VLX\",\"ONT\",\"CLO\",\"TUBE\",\"PSD\",\"ADK\",\"BSX\",\"BRIA\",\"IC\",\"BTL\",\"MEDIC\",\"ALPS\",\"BITG\",\"DEV\",\"ABJ\",\"SEM\",\"FTO\",\"CARE\",\"NZL\",\"XMC\",\"PROTON\",\"DEAL\",\"JUMP\",\"INFX\",\"XBI\",\"KEC\",\"HWC\",\"GIN\",\"PLTC\",\"LOKI\",\"NCP\",\"SIC\",\"XT3\",\"MGD\",\"VIG\",\"PLURA\",\"EMAR\",\"DKD\",\"LYNX\",\"POSQ\",\"BWS\",\"MUSE\",\"XMN\",\"PLUS1\",\"AXE\",\"TRVC\",\"DTEM\",\"GIC\",\"PNY\",\"ABS\",\"VITAE\",\"HEX\",\"TPC\",\"WEBC\",\"RYO\",\"URALS\",\"QWC\",\"ARE\",\"EUNO\",\"MMO\",\"KETAN\",\"PPAI\",\"XDNA\",\"PAXEX\",\"AZART\",\"TSC\",\"KCASH\",\"XCG\",\"AAC\",\"CRYP\",\"BTXC\",\"ACM\",\"BSV\",\"BITM\",\"JMC\",\"FRED\",\"HERB\",\"UMO\",\"LIT\",\"PIRATE\",\"EXO\",\"BLTG\",\"OWC\",\"BEAM\",\"GALI\",\"BTH\",\"CSPN\",\"CREDIT\",\"SLC\",\"DASHP\",\"NSD\",\"BEET\",\"TTN\",\"AWR\",\"BLAST\",\"XRC\",\"GLT\",\"INSN\",\"ALX\",\"LDOGE\",\"SLR\",\"TRK\",\"UFO\",\"OC\",\"BLC\",\"BITS\",\"NEOS\",\"HYPER\",\"PINK\",\"CESC\",\"ADC\",\"NKA\",\"PIGGY\",\"CRW\",\"GEN\",\"SMLY\",\"MI\",\"GRS\",\"CPC\",\"CLUB\",\"RADS\",\"BTA\",\"PAK\",\"CRB\",\"OK\",\"LSK\",\"XHI\",\"XWC\",\"FSC\",\"J\",\"TRI\",\"VOLLAR\",\"EOS\",\"RCC\",\"OXY\",\"TCH\",\"WAVES\",\"PART\",\"BTT\",\"NXT\",\"ZEPH\",\"GAP\",\"BDX\",\"ZEN\",\"XBC\"],\"value\":{\"__ndarray__\":\"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\",\"dtype\":\"float64\",\"order\":\"little\",\"shape\":[532]}},\"selected\":{\"id\":\"2242\"},\"selection_policy\":{\"id\":\"2256\"}},\"id\":\"2241\",\"type\":\"ColumnDataSource\"},{\"attributes\":{\"axis\":{\"id\":\"2215\"},\"coordinates\":null,\"grid_line_color\":null,\"group\":null,\"ticker\":null},\"id\":\"2217\",\"type\":\"Grid\"},{\"attributes\":{\"line_color\":\"#fc4f30\",\"line_width\":2,\"x\":{\"field\":\"index\"},\"y\":{\"field\":\"value\"}},\"id\":\"2265\",\"type\":\"Line\"},{\"attributes\":{\"end\":37.71748458672716,\"reset_end\":37.71748458672716,\"reset_start\":-6.520663740885759,\"start\":-6.520663740885759,\"tags\":[[[\"value\",\"value\",null]]]},\"id\":\"2202\",\"type\":\"Range1d\"}],\"root_ids\":[\"2199\"]},\"title\":\"Bokeh Application\",\"version\":\"2.4.3\"}};\n",
       "    var render_items = [{\"docid\":\"a4aa2e76-8651-47e9-a306-04aefb9dd05b\",\"root_ids\":[\"2199\"],\"roots\":{\"2199\":\"dd7cd2ae-df3b-4469-83a5-1583e1ea4732\"}}];\n",
       "    root.Bokeh.embed.embed_items_notebook(docs_json, render_items);\n",
       "    for (const render_item of render_items) {\n",
       "      for (const root_id of render_item.root_ids) {\n",
       "\tconst id_el = document.getElementById(root_id)\n",
       "\tif (id_el.children.length && (id_el.children[0].className === 'bk-root')) {\n",
       "\t  const root_el = id_el.children[0]\n",
       "\t  root_el.id = root_el.id + '-rendered'\n",
       "\t}\n",
       "      }\n",
       "    }\n",
       "  }\n",
       "  if (root.Bokeh !== undefined && root.Bokeh.Panel !== undefined) {\n",
       "    embed_document(root);\n",
       "  } else {\n",
       "    var attempts = 0;\n",
       "    var timer = setInterval(function(root) {\n",
       "      if (root.Bokeh !== undefined && root.Bokeh.Panel !== undefined) {\n",
       "        clearInterval(timer);\n",
       "        embed_document(root);\n",
       "      } else if (document.readyState == \"complete\") {\n",
       "        attempts++;\n",
       "        if (attempts > 200) {\n",
       "          clearInterval(timer);\n",
       "          console.log(\"Bokeh: ERROR: Unable to run BokehJS code because BokehJS library is missing\");\n",
       "        }\n",
       "      }\n",
       "    }, 25, root)\n",
       "  }\n",
       "})(window);</script>"
      ],
      "text/plain": [
       ":NdOverlay   [Variable]\n",
       "   :Curve   [index]   (value)"
      ]
     },
     "execution_count": 56,
     "metadata": {
      "application/vnd.holoviews_exec.v0+json": {
       "id": "2199"
      }
     },
     "output_type": "execute_result"
    }
   ],
   "source": [
    "# Create an elbow curve to find the best value for K.\n",
    "inertia = []\n",
    "k = list(range(1,11))\n",
    "\n",
    "# Calculate the inertia for the range of k values\n",
    "for i in k:\n",
    "    km = KMeans(n_clusters=i, random_state=0)\n",
    "    km.fit(pcs_df)\n",
    "    inertia.append(km.inertia_)\n",
    "\n",
    "# Creating the Elbow Curve\n",
    "elbow_data = {\"k\": k, \"inertia\": inertia}\n",
    "df_elbow = pd.DataFrame(elbow_data)\n",
    "\n",
    "plt.plot(df_elbow['k'], df_elbow['inertia'])\n",
    "plt.xticks(list(range(11)))\n",
    "plt.title('Elbow Curve')\n",
    "plt.xlabel('Number of clusters')\n",
    "plt.ylabel('Inertia')\n",
    "plt.show()\n",
    "pcs_df.hvplot()"
   ]
  },
  {
   "cell_type": "markdown",
   "metadata": {},
   "source": [
    "Running K-Means with `k=4`"
   ]
  },
  {
   "cell_type": "code",
   "execution_count": 57,
   "metadata": {},
   "outputs": [],
   "source": [
    "# Initialize the k-means model\n",
    "model = KMeans(n_clusters=4, random_state=0)\n",
    "\n",
    "# Fit the model\n",
    "model.fit(pcs_df)\n",
    "\n",
    "# Predict clusters\n",
    "predictions = model.predict(pcs_df)"
   ]
  },
  {
   "cell_type": "code",
   "execution_count": 58,
   "metadata": {},
   "outputs": [
    {
     "name": "stdout",
     "output_type": "stream",
     "text": [
      "(532, 9)\n"
     ]
    },
    {
     "data": {
      "text/html": [
       "<div>\n",
       "<style scoped>\n",
       "    .dataframe tbody tr th:only-of-type {\n",
       "        vertical-align: middle;\n",
       "    }\n",
       "\n",
       "    .dataframe tbody tr th {\n",
       "        vertical-align: top;\n",
       "    }\n",
       "\n",
       "    .dataframe thead th {\n",
       "        text-align: right;\n",
       "    }\n",
       "</style>\n",
       "<table border=\"1\" class=\"dataframe\">\n",
       "  <thead>\n",
       "    <tr style=\"text-align: right;\">\n",
       "      <th></th>\n",
       "      <th>Algorithm</th>\n",
       "      <th>ProofType</th>\n",
       "      <th>TotalCoinsMined</th>\n",
       "      <th>TotalCoinSupply</th>\n",
       "      <th>PC 1</th>\n",
       "      <th>PC 2</th>\n",
       "      <th>PC 3</th>\n",
       "      <th>CoinName</th>\n",
       "      <th>Class</th>\n",
       "    </tr>\n",
       "  </thead>\n",
       "  <tbody>\n",
       "    <tr>\n",
       "      <th>42</th>\n",
       "      <td>Scrypt</td>\n",
       "      <td>PoW/PoS</td>\n",
       "      <td>4.199995e+01</td>\n",
       "      <td>42</td>\n",
       "      <td>-0.337500</td>\n",
       "      <td>1.041883</td>\n",
       "      <td>-0.600795</td>\n",
       "      <td>42 Coin</td>\n",
       "      <td>0</td>\n",
       "    </tr>\n",
       "    <tr>\n",
       "      <th>404</th>\n",
       "      <td>Scrypt</td>\n",
       "      <td>PoW/PoS</td>\n",
       "      <td>1.055185e+09</td>\n",
       "      <td>532000000</td>\n",
       "      <td>-0.320863</td>\n",
       "      <td>1.041943</td>\n",
       "      <td>-0.601188</td>\n",
       "      <td>404Coin</td>\n",
       "      <td>0</td>\n",
       "    </tr>\n",
       "    <tr>\n",
       "      <th>1337</th>\n",
       "      <td>X13</td>\n",
       "      <td>PoW/PoS</td>\n",
       "      <td>2.927942e+10</td>\n",
       "      <td>314159265359</td>\n",
       "      <td>2.308344</td>\n",
       "      <td>1.610037</td>\n",
       "      <td>-0.679611</td>\n",
       "      <td>EliteCoin</td>\n",
       "      <td>0</td>\n",
       "    </tr>\n",
       "    <tr>\n",
       "      <th>BTC</th>\n",
       "      <td>SHA-256</td>\n",
       "      <td>PoW</td>\n",
       "      <td>1.792718e+07</td>\n",
       "      <td>21000000</td>\n",
       "      <td>-0.144727</td>\n",
       "      <td>-1.356216</td>\n",
       "      <td>0.231304</td>\n",
       "      <td>Bitcoin</td>\n",
       "      <td>3</td>\n",
       "    </tr>\n",
       "    <tr>\n",
       "      <th>ETH</th>\n",
       "      <td>Ethash</td>\n",
       "      <td>PoW</td>\n",
       "      <td>1.076842e+08</td>\n",
       "      <td>0</td>\n",
       "      <td>-0.146269</td>\n",
       "      <td>-1.954530</td>\n",
       "      <td>0.421203</td>\n",
       "      <td>Ethereum</td>\n",
       "      <td>3</td>\n",
       "    </tr>\n",
       "    <tr>\n",
       "      <th>LTC</th>\n",
       "      <td>Scrypt</td>\n",
       "      <td>PoW</td>\n",
       "      <td>6.303924e+07</td>\n",
       "      <td>84000000</td>\n",
       "      <td>-0.170189</td>\n",
       "      <td>-1.110761</td>\n",
       "      <td>-0.017437</td>\n",
       "      <td>Litecoin</td>\n",
       "      <td>3</td>\n",
       "    </tr>\n",
       "    <tr>\n",
       "      <th>DASH</th>\n",
       "      <td>X11</td>\n",
       "      <td>PoW/PoS</td>\n",
       "      <td>9.031294e+06</td>\n",
       "      <td>22000000</td>\n",
       "      <td>-0.383729</td>\n",
       "      <td>1.247217</td>\n",
       "      <td>-0.494792</td>\n",
       "      <td>Dash</td>\n",
       "      <td>0</td>\n",
       "    </tr>\n",
       "    <tr>\n",
       "      <th>XMR</th>\n",
       "      <td>CryptoNight-V7</td>\n",
       "      <td>PoW</td>\n",
       "      <td>1.720114e+07</td>\n",
       "      <td>0</td>\n",
       "      <td>-0.134837</td>\n",
       "      <td>-2.170139</td>\n",
       "      <td>0.397581</td>\n",
       "      <td>Monero</td>\n",
       "      <td>3</td>\n",
       "    </tr>\n",
       "    <tr>\n",
       "      <th>ETC</th>\n",
       "      <td>Ethash</td>\n",
       "      <td>PoW</td>\n",
       "      <td>1.133597e+08</td>\n",
       "      <td>210000000</td>\n",
       "      <td>-0.144714</td>\n",
       "      <td>-1.954640</td>\n",
       "      <td>0.421181</td>\n",
       "      <td>Ethereum Classic</td>\n",
       "      <td>3</td>\n",
       "    </tr>\n",
       "    <tr>\n",
       "      <th>ZEC</th>\n",
       "      <td>Equihash</td>\n",
       "      <td>PoW</td>\n",
       "      <td>7.383056e+06</td>\n",
       "      <td>21000000</td>\n",
       "      <td>-0.134277</td>\n",
       "      <td>-2.006369</td>\n",
       "      <td>0.318819</td>\n",
       "      <td>ZCash</td>\n",
       "      <td>3</td>\n",
       "    </tr>\n",
       "  </tbody>\n",
       "</table>\n",
       "</div>"
      ],
      "text/plain": [
       "           Algorithm ProofType  TotalCoinsMined TotalCoinSupply      PC 1  \\\n",
       "42            Scrypt   PoW/PoS     4.199995e+01              42 -0.337500   \n",
       "404           Scrypt   PoW/PoS     1.055185e+09       532000000 -0.320863   \n",
       "1337             X13   PoW/PoS     2.927942e+10    314159265359  2.308344   \n",
       "BTC          SHA-256       PoW     1.792718e+07        21000000 -0.144727   \n",
       "ETH           Ethash       PoW     1.076842e+08               0 -0.146269   \n",
       "LTC           Scrypt       PoW     6.303924e+07        84000000 -0.170189   \n",
       "DASH             X11   PoW/PoS     9.031294e+06        22000000 -0.383729   \n",
       "XMR   CryptoNight-V7       PoW     1.720114e+07               0 -0.134837   \n",
       "ETC           Ethash       PoW     1.133597e+08       210000000 -0.144714   \n",
       "ZEC         Equihash       PoW     7.383056e+06        21000000 -0.134277   \n",
       "\n",
       "          PC 2      PC 3          CoinName  Class  \n",
       "42    1.041883 -0.600795           42 Coin      0  \n",
       "404   1.041943 -0.601188           404Coin      0  \n",
       "1337  1.610037 -0.679611         EliteCoin      0  \n",
       "BTC  -1.356216  0.231304           Bitcoin      3  \n",
       "ETH  -1.954530  0.421203          Ethereum      3  \n",
       "LTC  -1.110761 -0.017437          Litecoin      3  \n",
       "DASH  1.247217 -0.494792              Dash      0  \n",
       "XMR  -2.170139  0.397581            Monero      3  \n",
       "ETC  -1.954640  0.421181  Ethereum Classic      3  \n",
       "ZEC  -2.006369  0.318819             ZCash      3  "
      ]
     },
     "execution_count": 58,
     "metadata": {},
     "output_type": "execute_result"
    }
   ],
   "source": [
    "# Create a new DataFrame including predicted clusters and cryptocurrencies features.\n",
    "# Concatentate the crypto_df and pcs_df DataFrames on the same columns.\n",
    "clustered_df = crypto_df.join(pcs_df,how='inner')\n",
    "\n",
    "#  Add a new column, \"CoinName\" to the clustered_df DataFrame that holds the names of the cryptocurrencies. \n",
    "clustered_df['CoinName'] = crypto_name_df['CoinName']\n",
    "\n",
    "#  Add a new column, \"Class\" to the clustered_df DataFrame that holds the predictions.\n",
    "clustered_df['Class'] = predictions\n",
    "\n",
    "# Print the shape of the clustered_df\n",
    "print(clustered_df.shape)\n",
    "clustered_df.head(10)"
   ]
  },
  {
   "cell_type": "markdown",
   "metadata": {},
   "source": [
    "### Deliverable 4: Visualizing Cryptocurrencies Results\n",
    "\n",
    "#### 3D-Scatter with Clusters"
   ]
  },
  {
   "cell_type": "code",
   "execution_count": 59,
   "metadata": {},
   "outputs": [
    {
     "data": {
      "application/vnd.plotly.v1+json": {
       "config": {
        "plotlyServerURL": "https://plot.ly"
       },
       "data": [
        {
         "customdata": [
          [
           "Scrypt"
          ],
          [
           "Scrypt"
          ],
          [
           "X13"
          ],
          [
           "X11"
          ],
          [
           "SHA-512"
          ],
          [
           "SHA-256"
          ],
          [
           "SHA-256"
          ],
          [
           "X15"
          ],
          [
           "Scrypt"
          ],
          [
           "Scrypt"
          ],
          [
           "Scrypt"
          ],
          [
           "Scrypt"
          ],
          [
           "Scrypt"
          ],
          [
           "Scrypt"
          ],
          [
           "Groestl"
          ],
          [
           "PoS"
          ],
          [
           "Scrypt"
          ],
          [
           "Scrypt"
          ],
          [
           "X11"
          ],
          [
           "X11"
          ],
          [
           "SHA3"
          ],
          [
           "Scrypt"
          ],
          [
           "SHA-256"
          ],
          [
           "Scrypt"
          ],
          [
           "X13"
          ],
          [
           "X13"
          ],
          [
           "NeoScrypt"
          ],
          [
           "Scrypt"
          ],
          [
           "Scrypt"
          ],
          [
           "Scrypt"
          ],
          [
           "X11"
          ],
          [
           "X11"
          ],
          [
           "Multiple"
          ],
          [
           "PHI1612"
          ],
          [
           "X11"
          ],
          [
           "Scrypt"
          ],
          [
           "Scrypt"
          ],
          [
           "Scrypt"
          ],
          [
           "X11"
          ],
          [
           "Multiple"
          ],
          [
           "X13"
          ],
          [
           "Scrypt"
          ],
          [
           "Shabal256"
          ],
          [
           "Counterparty"
          ],
          [
           "SHA-256"
          ],
          [
           "Groestl"
          ],
          [
           "Scrypt"
          ],
          [
           "X13"
          ],
          [
           "Scrypt"
          ],
          [
           "Scrypt"
          ],
          [
           "X13"
          ],
          [
           "X11"
          ],
          [
           "Scrypt"
          ],
          [
           "X11"
          ],
          [
           "SHA3"
          ],
          [
           "QUAIT"
          ],
          [
           "X11"
          ],
          [
           "Scrypt"
          ],
          [
           "X13"
          ],
          [
           "SHA-256"
          ],
          [
           "X15"
          ],
          [
           "BLAKE256"
          ],
          [
           "SHA-256"
          ],
          [
           "X11"
          ],
          [
           "SHA-256"
          ],
          [
           "NIST5"
          ],
          [
           "Scrypt"
          ],
          [
           "Scrypt"
          ],
          [
           "X11"
          ],
          [
           "Scrypt"
          ],
          [
           "SHA-256"
          ],
          [
           "Scrypt"
          ],
          [
           "PoS"
          ],
          [
           "X11"
          ],
          [
           "SHA-256"
          ],
          [
           "SHA-256"
          ],
          [
           "NIST5"
          ],
          [
           "X11"
          ],
          [
           "POS 3.0"
          ],
          [
           "Scrypt"
          ],
          [
           "Scrypt"
          ],
          [
           "Scrypt"
          ],
          [
           "X13"
          ],
          [
           "X11"
          ],
          [
           "X11"
          ],
          [
           "Scrypt"
          ],
          [
           "SHA-256"
          ],
          [
           "X11"
          ],
          [
           "Scrypt"
          ],
          [
           "Scrypt"
          ],
          [
           "Scrypt"
          ],
          [
           "Scrypt"
          ],
          [
           "SHA-256D"
          ],
          [
           "PoS"
          ],
          [
           "Scrypt"
          ],
          [
           "X11"
          ],
          [
           "PoS"
          ],
          [
           "X13"
          ],
          [
           "X14"
          ],
          [
           "PoS"
          ],
          [
           "SHA-256D"
          ],
          [
           "DPoS"
          ],
          [
           "X11"
          ],
          [
           "X13"
          ],
          [
           "X11"
          ],
          [
           "PoS"
          ],
          [
           "Scrypt"
          ],
          [
           "Scrypt"
          ],
          [
           "PoS"
          ],
          [
           "X11"
          ],
          [
           "SHA-256"
          ],
          [
           "Scrypt"
          ],
          [
           "X11"
          ],
          [
           "Scrypt"
          ],
          [
           "Scrypt"
          ],
          [
           "X11"
          ],
          [
           "Scrypt"
          ],
          [
           "Scrypt"
          ],
          [
           "Scrypt"
          ],
          [
           "Scrypt"
          ],
          [
           "Quark"
          ],
          [
           "QuBit"
          ],
          [
           "Scrypt"
          ],
          [
           "SHA-256"
          ],
          [
           "X11"
          ],
          [
           "Scrypt"
          ],
          [
           "Scrypt"
          ],
          [
           "Scrypt"
          ],
          [
           "Scrypt"
          ],
          [
           "X13"
          ],
          [
           "Scrypt"
          ],
          [
           "Scrypt"
          ],
          [
           "X11"
          ],
          [
           "Blake2S"
          ],
          [
           "X11"
          ],
          [
           "PoS"
          ],
          [
           "X11"
          ],
          [
           "PoS"
          ],
          [
           "X11"
          ],
          [
           "Scrypt"
          ],
          [
           "Scrypt"
          ],
          [
           "Scrypt"
          ],
          [
           "SHA-256"
          ],
          [
           "X11"
          ],
          [
           "Scrypt"
          ],
          [
           "PoS"
          ],
          [
           "Scrypt"
          ],
          [
           "X15"
          ],
          [
           "SHA-256"
          ],
          [
           "POS 3.0"
          ],
          [
           "536"
          ],
          [
           "NIST5"
          ],
          [
           "NIST5"
          ],
          [
           "Skein"
          ],
          [
           "X13"
          ],
          [
           "Scrypt"
          ],
          [
           "X13"
          ],
          [
           "SkunkHash v2 Raptor"
          ],
          [
           "Skein"
          ],
          [
           "X11"
          ],
          [
           "Scrypt"
          ],
          [
           "VeChainThor Authority"
          ],
          [
           "PoS"
          ],
          [
           "Scrypt"
          ],
          [
           "Scrypt"
          ],
          [
           "SHA-512"
          ],
          [
           "Ouroboros"
          ],
          [
           "X11"
          ],
          [
           "NeoScrypt"
          ],
          [
           "Scrypt"
          ],
          [
           "Lyra2REv2"
          ],
          [
           "Scrypt"
          ],
          [
           "SHA-256"
          ],
          [
           "NIST5"
          ],
          [
           "PHI1612"
          ],
          [
           "Scrypt"
          ],
          [
           "Quark"
          ],
          [
           "POS 2.0"
          ],
          [
           "Scrypt"
          ],
          [
           "SHA-256"
          ],
          [
           "X11"
          ],
          [
           "DPoS"
          ],
          [
           "NIST5"
          ],
          [
           "X13"
          ],
          [
           "Scrypt"
          ],
          [
           "NIST5"
          ],
          [
           "Quark"
          ],
          [
           "Scrypt"
          ],
          [
           "Scrypt"
          ],
          [
           "X11"
          ],
          [
           "Quark"
          ],
          [
           "Scrypt"
          ],
          [
           "Scrypt"
          ],
          [
           "X11"
          ],
          [
           "POS 3.0"
          ],
          [
           "Ethash"
          ],
          [
           "Scrypt"
          ],
          [
           "Scrypt"
          ],
          [
           "X13"
          ],
          [
           "C11"
          ],
          [
           "X11"
          ],
          [
           "XEVAN"
          ],
          [
           "Scrypt"
          ],
          [
           "VBFT"
          ],
          [
           "NIST5"
          ],
          [
           "Scrypt"
          ],
          [
           "Scrypt"
          ],
          [
           "Scrypt"
          ],
          [
           "Green Protocol"
          ],
          [
           "PoS"
          ],
          [
           "Scrypt"
          ],
          [
           "Semux BFT consensus"
          ],
          [
           "Quark"
          ],
          [
           "PoS"
          ],
          [
           "X16R"
          ],
          [
           "Scrypt"
          ],
          [
           "XEVAN"
          ],
          [
           "Scrypt"
          ],
          [
           "Scrypt"
          ],
          [
           "Scrypt"
          ],
          [
           "SHA-256D"
          ],
          [
           "Scrypt"
          ],
          [
           "X15"
          ],
          [
           "Scrypt"
          ],
          [
           "Quark"
          ],
          [
           "SHA-256"
          ],
          [
           "DPoS"
          ],
          [
           "X16R"
          ],
          [
           "Quark"
          ],
          [
           "Quark"
          ],
          [
           "Scrypt"
          ],
          [
           "Lyra2REv2"
          ],
          [
           "Quark"
          ],
          [
           "Scrypt"
          ],
          [
           "X11"
          ],
          [
           "X11"
          ],
          [
           "Scrypt"
          ],
          [
           "PoS"
          ],
          [
           "Keccak"
          ],
          [
           "X11"
          ],
          [
           "Scrypt"
          ],
          [
           "SHA-512"
          ],
          [
           "XEVAN"
          ],
          [
           "XEVAN"
          ],
          [
           "X11"
          ],
          [
           "Quark"
          ],
          [
           "Equihash"
          ],
          [
           "Scrypt"
          ],
          [
           "Quark"
          ],
          [
           "Quark"
          ],
          [
           "Scrypt"
          ],
          [
           "X11"
          ],
          [
           "Scrypt"
          ],
          [
           "XEVAN"
          ],
          [
           "SHA-256D"
          ],
          [
           "X11"
          ],
          [
           "X11"
          ],
          [
           "DPoS"
          ],
          [
           "Scrypt"
          ],
          [
           "X11"
          ],
          [
           "Scrypt"
          ],
          [
           "Scrypt"
          ],
          [
           "SHA-256"
          ],
          [
           "Scrypt"
          ],
          [
           "X11"
          ],
          [
           "Scrypt"
          ],
          [
           "SHA-256"
          ],
          [
           "X11"
          ],
          [
           "Scrypt"
          ],
          [
           "Scrypt"
          ],
          [
           "X11"
          ],
          [
           "Scrypt"
          ],
          [
           "PoS"
          ],
          [
           "X11"
          ],
          [
           "SHA-256"
          ],
          [
           "DPoS"
          ],
          [
           "Scrypt"
          ],
          [
           "Scrypt"
          ],
          [
           "NeoScrypt"
          ],
          [
           "X13"
          ],
          [
           "DPoS"
          ],
          [
           "DPoS"
          ],
          [
           "SHA-256"
          ],
          [
           "PoS"
          ],
          [
           "PoS"
          ],
          [
           "SHA-256"
          ],
          [
           "Scrypt"
          ],
          [
           "Scrypt"
          ]
         ],
         "hovertemplate": "<b>%{hovertext}</b><br><br>Class=%{marker.color}<br>PC 1=%{x}<br>PC 2=%{y}<br>PC 3=%{z}<br>Algorithm=%{customdata[0]}<extra></extra>",
         "hovertext": [
          "42 Coin",
          "404Coin",
          "EliteCoin",
          "Dash",
          "Bitshares",
          "BitcoinDark",
          "PayCoin",
          "KoboCoin",
          "Aurora Coin",
          "BlueCoin",
          "EnergyCoin",
          "BitBar",
          "CryptoBullion",
          "CasinoCoin",
          "Diamond",
          "Exclusive Coin",
          "FlutterCoin",
          "HoboNickels",
          "HyperStake",
          "IOCoin",
          "MaxCoin",
          "MintCoin",
          "MazaCoin",
          "Nautilus Coin",
          "NavCoin",
          "OpalCoin",
          "Orbitcoin",
          "PotCoin",
          "PhoenixCoin",
          "Reddcoin",
          "SuperCoin",
          "SyncCoin",
          "TeslaCoin",
          "TittieCoin",
          "TorCoin",
          "UnitaryStatus Dollar",
          "UltraCoin",
          "VeriCoin",
          "X11 Coin",
          "Crypti",
          "StealthCoin",
          "ZCC Coin",
          "BurstCoin",
          "StorjCoin",
          "Neutron",
          "FairCoin",
          "RubyCoin",
          "Kore",
          "Dnotes",
          "8BIT Coin",
          "Sativa Coin",
          "Ucoin",
          "Vtorrent",
          "IslaCoin",
          "Nexus",
          "Droidz",
          "Squall Coin",
          "Diggits",
          "Paycon",
          "Emercoin",
          "EverGreenCoin",
          "Decred",
          "EDRCoin",
          "Hitcoin",
          "DubaiCoin",
          "PWR Coin",
          "BillaryCoin",
          "GPU Coin",
          "EuropeCoin",
          "ZeitCoin",
          "SwingCoin",
          "SafeExchangeCoin",
          "Nebuchadnezzar",
          "Ratecoin",
          "Revenu",
          "Clockcoin",
          "VIP Tokens",
          "BitSend",
          "Let it Ride",
          "PutinCoin",
          "iBankCoin",
          "Frankywillcoin",
          "MudraCoin",
          "Lutetium Coin",
          "GoldBlocks",
          "CarterCoin",
          "BitTokens",
          "MustangCoin",
          "ZoneCoin",
          "RootCoin",
          "BitCurrency",
          "Swiscoin",
          "BuzzCoin",
          "Opair",
          "PesoBit",
          "Halloween Coin",
          "CoffeeCoin",
          "RoyalCoin",
          "GanjaCoin V2",
          "TeamUP",
          "LanaCoin",
          "ARK",
          "InsaneCoin",
          "EmberCoin",
          "XenixCoin",
          "FreeCoin",
          "PLNCoin",
          "AquariusCoin",
          "Creatio",
          "Eternity",
          "Eurocoin",
          "BitcoinFast",
          "Stakenet",
          "BitConnect Coin",
          "MoneyCoin",
          "Enigma",
          "Russiacoin",
          "PandaCoin",
          "GameUnits",
          "GAKHcoin",
          "Allsafe",
          "LiteCreed",
          "Klingon Empire Darsek",
          "Internet of People",
          "KushCoin",
          "Printerium",
          "Impeach",
          "Zilbercoin",
          "FirstCoin",
          "FindCoin",
          "OpenChat",
          "RenosCoin",
          "VirtacoinPlus",
          "TajCoin",
          "Impact",
          "Atmos",
          "HappyCoin",
          "MacronCoin",
          "Condensate",
          "Independent Money System",
          "ArgusCoin",
          "LomoCoin",
          "ProCurrency",
          "GoldReserve",
          "GrowthCoin",
          "Phreak",
          "Degas Coin",
          "HTML5 Coin",
          "Ultimate Secure Cash",
          "QTUM",
          "Espers",
          "Denarius",
          "Virta Unique Coin",
          "Bitcoin Planet",
          "BritCoin",
          "Linda",
          "DeepOnion",
          "Signatum",
          "Cream",
          "Monoeci",
          "Draftcoin",
          "Vechain",
          "Stakecoin",
          "CoinonatX",
          "Ethereum Dark",
          "Obsidian",
          "Cardano",
          "Regalcoin",
          "TrezarCoin",
          "TerraNovaCoin",
          "Rupee",
          "WomenCoin",
          "Theresa May Coin",
          "NamoCoin",
          "LUXCoin",
          "Xios",
          "Bitcloud 2.0",
          "KekCoin",
          "BlackholeCoin",
          "Infinity Economics",
          "Magnet",
          "Lamden Tau",
          "Electra",
          "Bitcoin Diamond",
          "Cash & Back Coin",
          "Bulwark",
          "Kalkulus",
          "GermanCoin",
          "LiteCoin Ultra",
          "PhantomX",
          "Digiwage",
          "Trollcoin",
          "Litecoin Plus",
          "Monkey Project",
          "TokenPay",
          "1717 Masonic Commemorative Token",
          "My Big Coin",
          "Unified Society USDEX",
          "Tokyo Coin",
          "Stipend",
          "Pushi",
          "Ellerium",
          "Velox",
          "Ontology",
          "Bitspace",
          "Briacoin",
          "Ignition",
          "MedicCoin",
          "Bitcoin Green",
          "Deviant Coin",
          "Abjcoin",
          "Semux",
          "Carebit",
          "Zealium",
          "Proton",
          "iDealCash",
          "Bitcoin Incognito",
          "HollyWoodCoin",
          "Swisscoin",
          "Xt3ch",
          "TheVig",
          "EmaratCoin",
          "Dekado",
          "Lynx",
          "Poseidon Quark",
          "BitcoinWSpectrum",
          "Muse",
          "Trivechain",
          "Dystem",
          "Giant",
          "Peony Coin",
          "Absolute Coin",
          "Vitae",
          "TPCash",
          "ARENON",
          "EUNO",
          "MMOCoin",
          "Ketan",
          "XDNA",
          "PAXEX",
          "ThunderStake",
          "Kcash",
          "Bettex coin",
          "BitMoney",
          "Junson Ming Chan Coin",
          "HerbCoin",
          "PirateCash",
          "Oduwa",
          "Galilel",
          "Crypto Sports",
          "Credit",
          "Dash Platinum",
          "Nasdacoin",
          "Beetle Coin",
          "Titan Coin",
          "Award",
          "Insane Coin",
          "ALAX",
          "LiteDoge",
          "TruckCoin",
          "OrangeCoin",
          "BitstarCoin",
          "NeosCoin",
          "HyperCoin",
          "PinkCoin",
          "AudioCoin",
          "IncaKoin",
          "Piggy Coin",
          "Genstake",
          "XiaoMiCoin",
          "CapriCoin",
          " ClubCoin",
          "Radium",
          "Creditbit ",
          "OKCash",
          "Lisk",
          "HiCoin",
          "WhiteCoin",
          "FriendshipCoin",
          "Triangles Coin",
          "EOS",
          "Oxycoin",
          "TigerCash",
          "Particl",
          "Nxt",
          "ZEPHYR",
          "Gapcoin",
          "BitcoinPlus"
         ],
         "legendgroup": "0",
         "marker": {
          "color": [
           0,
           0,
           0,
           0,
           0,
           0,
           0,
           0,
           0,
           0,
           0,
           0,
           0,
           0,
           0,
           0,
           0,
           0,
           0,
           0,
           0,
           0,
           0,
           0,
           0,
           0,
           0,
           0,
           0,
           0,
           0,
           0,
           0,
           0,
           0,
           0,
           0,
           0,
           0,
           0,
           0,
           0,
           0,
           0,
           0,
           0,
           0,
           0,
           0,
           0,
           0,
           0,
           0,
           0,
           0,
           0,
           0,
           0,
           0,
           0,
           0,
           0,
           0,
           0,
           0,
           0,
           0,
           0,
           0,
           0,
           0,
           0,
           0,
           0,
           0,
           0,
           0,
           0,
           0,
           0,
           0,
           0,
           0,
           0,
           0,
           0,
           0,
           0,
           0,
           0,
           0,
           0,
           0,
           0,
           0,
           0,
           0,
           0,
           0,
           0,
           0,
           0,
           0,
           0,
           0,
           0,
           0,
           0,
           0,
           0,
           0,
           0,
           0,
           0,
           0,
           0,
           0,
           0,
           0,
           0,
           0,
           0,
           0,
           0,
           0,
           0,
           0,
           0,
           0,
           0,
           0,
           0,
           0,
           0,
           0,
           0,
           0,
           0,
           0,
           0,
           0,
           0,
           0,
           0,
           0,
           0,
           0,
           0,
           0,
           0,
           0,
           0,
           0,
           0,
           0,
           0,
           0,
           0,
           0,
           0,
           0,
           0,
           0,
           0,
           0,
           0,
           0,
           0,
           0,
           0,
           0,
           0,
           0,
           0,
           0,
           0,
           0,
           0,
           0,
           0,
           0,
           0,
           0,
           0,
           0,
           0,
           0,
           0,
           0,
           0,
           0,
           0,
           0,
           0,
           0,
           0,
           0,
           0,
           0,
           0,
           0,
           0,
           0,
           0,
           0,
           0,
           0,
           0,
           0,
           0,
           0,
           0,
           0,
           0,
           0,
           0,
           0,
           0,
           0,
           0,
           0,
           0,
           0,
           0,
           0,
           0,
           0,
           0,
           0,
           0,
           0,
           0,
           0,
           0,
           0,
           0,
           0,
           0,
           0,
           0,
           0,
           0,
           0,
           0,
           0,
           0,
           0,
           0,
           0,
           0,
           0,
           0,
           0,
           0,
           0,
           0,
           0,
           0,
           0,
           0,
           0,
           0,
           0,
           0,
           0,
           0,
           0,
           0,
           0,
           0,
           0,
           0,
           0,
           0,
           0,
           0,
           0,
           0,
           0,
           0,
           0,
           0,
           0,
           0,
           0,
           0,
           0,
           0
          ],
          "coloraxis": "coloraxis",
          "symbol": "circle"
         },
         "mode": "markers",
         "name": "0",
         "scene": "scene",
         "showlegend": true,
         "type": "scatter3d",
         "x": [
          -0.3375003926411108,
          -0.320863163976233,
          2.3083437630326333,
          -0.3837287592733422,
          -0.3191205470665361,
          -0.3108705990785408,
          -0.2817638876863204,
          -0.2453672919138742,
          -0.3371604909323518,
          -0.3297488203381004,
          -0.3359991431823583,
          -0.3374963355179199,
          -0.3374806401996938,
          0.6851495198035897,
          -0.37265600967725654,
          -0.37623019921588974,
          -0.33762150597500196,
          -0.33556218014890954,
          -0.33447492842303733,
          -0.38362360803253703,
          -0.39229042167776035,
          -0.04869122440878949,
          -0.2742340414345191,
          -0.30814517265466806,
          -0.2713386191469557,
          -0.2719599261072759,
          -0.3408785214705748,
          -0.33181159826863527,
          -0.33590461331617477,
          0.020121915450188623,
          -0.3543327069189021,
          -0.38399460526749263,
          -0.26051031651541423,
          -0.3246236411909491,
          -0.38390638940366617,
          -0.3127709963783224,
          -0.33617987053330606,
          -0.32928059974534013,
          -0.3838709095739503,
          -0.26097721341941893,
          -0.27174110719619604,
          -0.3286180453806062,
          0.08776646806520601,
          -0.4328629442637564,
          -0.3100835318593077,
          -0.37207840396602154,
          -0.3081254342023288,
          -0.27203522323186413,
          -0.30278803800538545,
          -0.33748248717298085,
          -0.2719874747210267,
          -0.35477693932973525,
          -0.33721728664110007,
          -0.3839761609396573,
          -0.3712105741476778,
          -0.3948368167814343,
          -0.3285075629092714,
          -0.30652945291065614,
          -0.27150987108339086,
          -0.3034397206341029,
          -0.2478046679205864,
          -0.025488075914197217,
          -0.31084155519679235,
          -0.061955378764696686,
          -0.3109051384162711,
          -0.22924293845906352,
          -0.33709338298344727,
          -0.30639888666763865,
          -0.3811500972982172,
          0.8431808478489093,
          -0.310705539590015,
          -0.044498001922938124,
          -0.375913964973314,
          -0.3818224076586803,
          -0.3094512055623167,
          -0.3071233169761763,
          -0.35042578593353607,
          -0.3827134155227752,
          -0.37248325920009456,
          -0.3134274196229787,
          -0.3371314292729642,
          -0.33557278697968645,
          -0.24162508880744626,
          -0.34228691811913464,
          -0.38345091178337093,
          -0.3363368844162023,
          -0.3108861353145879,
          -0.3839653731391141,
          -0.33732027871096515,
          -0.3374767286319744,
          -0.30638811600117205,
          -0.24676802009212928,
          0.050921153962867186,
          -0.37487264506790297,
          -0.33709144494855847,
          -0.37015028897157043,
          -0.3742022016395659,
          -0.24305329285620755,
          -0.4331806197723055,
          -0.3739519361559411,
          -0.26312816636536424,
          3.7567262315410277,
          -0.38355855146368334,
          0.8585362424596629,
          -0.3839203497264862,
          -0.3753356830320069,
          -0.3370191685939415,
          -0.33717327663825897,
          -0.375913964973314,
          -0.38349596434493727,
          -0.3107490057297413,
          -0.33701989421277184,
          -0.3482836960338466,
          -0.3371670628905791,
          -0.3327625239308859,
          -0.3839493034511311,
          -0.33637910234754653,
          0.334139728541394,
          -0.3373660252439553,
          -0.3374364780873807,
          -0.368651963185761,
          -0.3476141841993348,
          -0.3336695352089292,
          -0.310862583209352,
          -0.38385939273060626,
          -0.33721463937228485,
          -0.33734141161586456,
          -0.30803217088370854,
          -0.3260330620102548,
          -0.24282150343112816,
          -0.3182243287404731,
          -0.3077736428612828,
          -0.38312635290615865,
          -0.3885013935469611,
          -0.3818665694466131,
          -0.3741632104649136,
          -0.38302438618891976,
          -0.36857172062995575,
          -0.3789719195071581,
          -0.3372847791933319,
          -0.3372839825921218,
          -0.3304172873717955,
          0.2500033725725208,
          -0.3835020717530849,
          -0.29070267156266466,
          -0.3759482260419035,
          -0.3364967509587072,
          0.8847765001265544,
          -0.28045650862514054,
          -0.3712634917688031,
          0.5517963565294263,
          -0.3519590758456015,
          -0.35046365802308566,
          -0.40055482704158596,
          -0.271673058589482,
          0.12668957267445502,
          -0.27174370990178137,
          -0.38974432687298727,
          -0.4000604304381096,
          -0.38377401051894355,
          -0.3081062031258473,
          4.414817158966507,
          -0.37581474667910253,
          -0.33692054916022524,
          -0.33741943397892726,
          -0.37709464334971105,
          0.6434554258572951,
          -0.38371495306104286,
          -0.33588567118671353,
          -0.3373751326584226,
          -0.3321140084640701,
          0.43058469318391973,
          -0.3092113824072408,
          -0.3367499816595632,
          -0.3892090025077643,
          -0.3373255521442248,
          -0.39613970597333087,
          -0.34071525292141197,
          -0.33719612908665164,
          -0.10851409978596314,
          -0.38250955087958644,
          3.7615745790697437,
          0.20667234874570634,
          -0.26841970585773695,
          -0.3346604074747772,
          -0.32267964849821634,
          -0.3685380407121807,
          0.0762656114823817,
          -0.33633613368964516,
          -0.3830896935100466,
          -0.367704154035311,
          -0.32392116667888615,
          -0.3374415330513568,
          -0.3547489111727384,
          -0.3727647528220829,
          -0.284456298574953,
          -0.3063251416186612,
          -0.33299362467611865,
          -0.2346304501879944,
          -0.3388227225471878,
          -0.3837912560901702,
          -0.28894988016735934,
          -0.3072675804921066,
          -0.38238844480229406,
          -0.3515586836747241,
          -0.3374688464461913,
          -0.33745058725865995,
          -0.3016577762072859,
          -0.36900831433647563,
          -0.375409835935762,
          -0.3371675504311278,
          3.967902496986956,
          -0.3948096664993388,
          -0.3755982180747103,
          -0.3201413733984995,
          -0.2841229117505843,
          -0.23361492004517492,
          -0.3078008705914983,
          -0.14088453340629278,
          -0.30805259227953535,
          -0.32833636726698917,
          -0.33664243329962934,
          -0.218106135752157,
          2.2028101831946625,
          -0.3642532350738382,
          -0.28058388601109874,
          1.0244752125286332,
          -0.34852228510459055,
          -0.3686514095528836,
          -0.3978210934137025,
          -0.18898447724996353,
          -0.3610857798605826,
          -0.36737292945551325,
          -0.33035746559994056,
          -0.35432698740103896,
          -0.3832653976198556,
          -0.30530241998640517,
          -0.3746995326712311,
          -0.32600223255614147,
          -0.35418863962562436,
          -0.1971838340791133,
          -0.40325195145225096,
          -0.25989963097802227,
          0.5877214820530847,
          -0.1450064321358141,
          -0.3971168255130524,
          -0.27051341904045617,
          -0.33717150412863706,
          -0.3975722254502743,
          -0.3687682040895408,
          0.5679043256029741,
          -0.354803145233568,
          -0.3366552766079447,
          -0.28341425405676635,
          -0.2831297476880195,
          -0.38083417161387284,
          -0.38349227218352355,
          3.773797706916742,
          0.09707083024743364,
          -0.38103545108495757,
          -0.3360418422421711,
          -0.3368654082305712,
          -0.2817964835047548,
          -0.33738290188184,
          -0.37513302018421385,
          -0.251227811516625,
          -0.09084963567100938,
          -0.3708883495228378,
          -0.3366622948628385,
          -0.32973731063038825,
          -0.3800661541987067,
          -0.3351039831086846,
          -0.37618917760952447,
          -0.37649806448485285,
          -0.30938795277790215,
          3.7571174208465603,
          -0.11563089759504762,
          -0.33230306095142953,
          -0.3405050122724755,
          -0.2721422528804588,
          3.766971324198743,
          3.76821364895954,
          -0.2627226173458686,
          -0.3761251368672316,
          -0.36673035356136413,
          2.4869498031269575,
          -0.33554899711281505,
          -0.308448416906638
         ],
         "y": [
          1.0418829604287558,
          1.0419426638256426,
          1.6100365704777613,
          1.2472165827169972,
          1.4305769192633977,
          0.7963972099206827,
          0.5396353847623718,
          1.9028774276527571,
          1.041879939701749,
          1.0420889358353636,
          1.041922851775216,
          1.0418827088832179,
          1.0418827665585102,
          0.5506756002319921,
          0.9012672821195484,
          1.523958208034245,
          0.3882549920141123,
          1.0418482111315537,
          0.9909990929168971,
          1.2472193768038715,
          2.012913316142563,
          0.7920151407351279,
          0.7956476987105894,
          0.785109280835104,
          1.7672953668413334,
          1.7672788574249179,
          0.5892187788446696,
          1.0417322427345947,
          1.0418549247752107,
          1.0513857279810506,
          0.990471430496846,
          1.2472253307221581,
          -0.003025878044242726,
          1.4912950428027634,
          1.2472204878813975,
          1.04139004976092,
          1.0418461730915807,
          0.383014931257741,
          1.2472246650913805,
          -0.0029664080822032414,
          1.7672846718978814,
          1.0414002190492202,
          1.086435368888105,
          1.3672752004340047,
          0.796385060795499,
          0.9012857784885617,
          0.7851214349254754,
          1.7672682314580175,
          0.7849038787157031,
          1.0418834362444196,
          1.7672709377627767,
          0.9904452510424933,
          1.041876107896875,
          1.2472258215450225,
          2.2013730528672872,
          2.049217817586172,
          1.0426115709258494,
          0.7850919670807706,
          1.7672548781304136,
          0.7958917127739192,
          1.903045326797548,
          0.9954565854930918,
          0.7963979816769465,
          1.2366994030125538,
          0.7964045579227326,
          1.5561429905170348,
          1.0418635874702524,
          0.7850084282441845,
          1.2470249106168596,
          0.7445564154321507,
          0.7963886581452708,
          0.5584943695280726,
          1.5239522357583928,
          1.2472291439562238,
          0.796290652285688,
          0.7961352447852095,
          1.5528582218136315,
          1.2471594671417878,
          1.4020933972795626,
          1.0410851017017202,
          1.0418608993859633,
          1.0418623045625373,
          1.510399085101412,
          0.9903192842915433,
          1.2472038403147974,
          1.0418491885448418,
          0.7963975158544474,
          1.2472239519078132,
          1.0418726524198345,
          1.0418835892608145,
          0.7851675990785612,
          0.4136248537610724,
          1.931316742154117,
          1.52394109254457,
          1.041893827048533,
          1.2465150579419702,
          1.5239833456623781,
          1.510503090519794,
          1.8662782347300417,
          1.523802398304339,
          1.9319520346546655,
          1.9931140247394457,
          1.2472153553814282,
          1.796707539458789,
          1.2472245349329836,
          1.5239460389959258,
          1.0418680464235637,
          1.0418614645299014,
          1.5239522357583928,
          1.247195455536406,
          0.7964018784361659,
          1.0418720090939573,
          0.7838362059320194,
          1.0418716923356397,
          1.0415411847206972,
          1.2472229413851492,
          1.0418092534801444,
          0.7788172082573852,
          1.041877186950039,
          1.0418822755322004,
          1.3712442258876225,
          0.4871758685370232,
          1.041625372385046,
          0.7963981416828022,
          1.2472222010020457,
          1.0418761782403059,
          1.0418714200286598,
          0.7850843811151643,
          0.19785908163165392,
          1.5105006067071298,
          1.0416764016885218,
          0.7851060382846007,
          1.2471765263270151,
          1.8188363008804738,
          1.247202813751903,
          1.5239338597347085,
          1.2471792357944809,
          1.5238742041870732,
          1.2469994127211825,
          1.0418734432508507,
          1.0418681542780275,
          1.041352409452415,
          0.49986724301033075,
          1.247209668526395,
          0.7841468662657408,
          1.5239441377323844,
          1.0418341591013769,
          1.8684705186122574,
          0.5395352958023247,
          1.402078011239328,
          1.8121859989110338,
          1.5528749802219968,
          1.5528356525587874,
          1.9305672360092352,
          1.7672649171759378,
          1.0182792607073838,
          1.767271019404959,
          1.3820483903324605,
          1.9305803731538722,
          1.2472243596191024,
          0.7851094352101796,
          2.975309347090177,
          1.523924971644569,
          1.041863686312482,
          1.0418820928906822,
          1.4315586998699104,
          1.3500007667875613,
          1.24721335575761,
          0.5890666534565153,
          1.0418749803262375,
          0.5647635594356599,
          1.0443234808976272,
          0.7963852351755171,
          1.5524237884921674,
          1.7487309857672788,
          1.0418725122937598,
          1.62792292735306,
          1.4077475163599273,
          1.0418804160957276,
          0.5377791015927124,
          1.2471612904296658,
          1.9929733189689622,
          1.5461632503490093,
          1.76722198802679,
          1.041807484360235,
          1.2960981825221092,
          1.3712436592252402,
          1.016939391325886,
          1.04180608266368,
          1.2472134386345843,
          1.371193940943718,
          1.0415969012544766,
          1.0418816494251926,
          0.9904452770450145,
          1.4020920269018697,
          -0.05871592403991982,
          0.4057087549944654,
          1.0418359614370118,
          1.5101536888824227,
          0.9731562247834287,
          1.2472127657552923,
          1.5974173540424055,
          0.785055103166,
          1.4191217950288246,
          1.5528568689205904,
          1.041881642415386,
          1.041880690072273,
          0.7849339121192785,
          1.4113725224441818,
          1.5239167555738873,
          1.0418702418530241,
          2.0360917483486043,
          1.6279582692644299,
          1.5239174999797824,
          0.600411786044749,
          1.0396198377408559,
          1.3928275841756332,
          0.785111371395286,
          1.0397760611985878,
          0.7850917448783412,
          1.935542482207748,
          1.0418453820593243,
          1.646246612596948,
          0.29513764719369123,
          1.3709046942007463,
          0.5396036595596005,
          1.7047296336992268,
          0.8571727383526053,
          1.3712399280158447,
          1.62801829980908,
          0.7761545242390742,
          0.8215153137172498,
          1.371217117545278,
          1.0413539990411458,
          0.9904320504659169,
          1.2472087698114422,
          0.785009569682097,
          1.5238479406202527,
          0.9025714934913623,
          0.9904033822815195,
          1.0326737140054145,
          1.5368794361393985,
          1.3406543879480015,
          1.454699426706256,
          0.9960336643970458,
          1.6280019027758859,
          -0.11056248690387235,
          1.0418766056694975,
          1.6280149327127806,
          1.3712423087104075,
          1.0121779102430792,
          0.9904447703263449,
          1.0418450407859465,
          1.5972481910426959,
          1.933221773241349,
          1.2470074299207679,
          1.2472171165595665,
          1.9929387309510784,
          1.0282736865832076,
          1.247303962313836,
          1.0417779644074234,
          1.041860835977972,
          0.539628409131257,
          1.0418860824324474,
          1.2471014202497437,
          1.0366283819640767,
          0.8021228715882662,
          1.2468548280528555,
          1.0418944490002915,
          1.0418017361420318,
          1.2471802156696836,
          1.0418316358255892,
          1.5239528291891007,
          0.6223402517142251,
          0.7963769495148971,
          1.9930993213690478,
          0.7830424255930265,
          1.0418054352093764,
          0.5891881668134096,
          1.7672739263721948,
          1.993476103609013,
          1.9935091147582669,
          0.5394315715872015,
          1.5239547938515714,
          1.9378647385454104,
          0.8276369705538794,
          1.0417551221348982,
          0.7851121338403488
         ],
         "z": [
          -0.6007946920870924,
          -0.6011879090998924,
          -0.6796113284643244,
          -0.49479172111570074,
          -0.11271726563300102,
          -0.35207660587110223,
          -0.03680039161735043,
          -0.6288168226209666,
          -0.600802192142471,
          -0.6010003106101719,
          -0.6008345142945327,
          -0.6007947545009183,
          -0.6007951256261741,
          -0.3421238318328287,
          -0.4248359563223319,
          -0.13578646561406402,
          -0.25203156471444954,
          -0.6008352549404071,
          -0.1800510603992769,
          -0.49479451036175237,
          -0.5252102488002418,
          -0.29240649669426133,
          -0.35283167678491295,
          -0.28552274783195025,
          -0.6395884659860629,
          -0.6395719851725963,
          -0.3441829827983398,
          -0.6009076173936037,
          -0.6008281607574921,
          -0.6102809958466009,
          -0.1795243121666772,
          -0.49478665839680797,
          0.1689098043939582,
          -0.18735835150218055,
          -0.4947880943170222,
          -0.6013059950105663,
          -0.6008206784359059,
          -0.3233025545166197,
          -0.4947894423409085,
          0.1689131474424158,
          -0.6395777895718496,
          -0.6009398868159329,
          -0.16392788303350073,
          -0.11917560841652285,
          -0.35209332438416524,
          -0.42485167394894463,
          -0.2855247343907334,
          -0.6395689028127194,
          -0.28562110498917276,
          -0.6007951670520627,
          -0.6395703502291945,
          -0.1795107200643196,
          -0.6008003933965317,
          -0.4947871477422103,
          -0.17619562394940574,
          -0.9067098882689764,
          -0.3330862543440642,
          -0.28555802757715754,
          -0.6395794024114797,
          -0.35218528808891547,
          -0.6287814374255276,
          -0.4743442181454119,
          -0.35207737629027985,
          -0.5009284654752781,
          -0.3520767294951655,
          -0.5632417864885122,
          -0.6008016908568683,
          -0.2855505455517242,
          -0.4948273912101362,
          -0.30711287236660934,
          -0.3520793567077724,
          -0.3261917504781612,
          -0.13579304568079928,
          -0.4948374968803075,
          -0.35209610745183295,
          -0.35213052578266213,
          -0.5600191477031717,
          -0.49480807516811437,
          -0.049214355782623107,
          -0.6012524151905948,
          -0.6008004706623449,
          -0.6008367819587132,
          -0.32430940550251974,
          -0.17978443410974687,
          -0.4947965595836797,
          -0.600817417667084,
          -0.35207628417505515,
          -0.49478716264351325,
          -0.6007975710059597,
          -0.6007953198033532,
          -0.28557081856334676,
          -0.38652353202880435,
          -0.775909857061048,
          -0.13581578516065093,
          -0.6008055398538656,
          -0.4950182652146902,
          -0.13583664361766626,
          -0.3242893786014821,
          -0.6782345688132928,
          -0.13581968286012555,
          -0.7687090643260782,
          -0.036117998903733704,
          -0.49479551270470873,
          -0.6694827161362691,
          -0.4947882797796079,
          -0.1358056726475878,
          -0.6008039723197209,
          -0.6007995715945612,
          -0.13579304568079928,
          -0.49479446032985275,
          -0.352080012098725,
          -0.6008044539919476,
          -0.14239581450959354,
          -0.600801002283551,
          -0.6008615371213188,
          -0.4947874080711514,
          -0.6008114151786144,
          -0.2996215269809891,
          -0.6007970808817926,
          -0.6007960876813371,
          -0.22285602306670416,
          -0.3157083799311559,
          -0.6008511001813489,
          -0.3520769089191476,
          -0.49478939936319505,
          -0.6008004636180908,
          -0.6007969260428448,
          -0.2855222352645832,
          -0.3730037444676199,
          -0.3242944397959677,
          -0.6012155909623695,
          -0.2855309532269813,
          -0.494800647906719,
          -0.7065476924837741,
          -0.4948331607857697,
          -0.13583132235141265,
          -0.4948033526799695,
          -0.13595344721512007,
          -0.4948746810639426,
          -0.6007984934878737,
          -0.6007978466155706,
          -0.6008921600503697,
          -0.04412579340189669,
          -0.4947961067000248,
          -0.28580605374194884,
          -0.13579123268255006,
          -0.6008118207590906,
          -0.6506890190926954,
          -0.03681811007318874,
          -0.049240698534033185,
          -0.7749639918197837,
          -0.559985709095283,
          -0.5600154305433083,
          -0.7016326868064444,
          -0.6395768820686435,
          -0.6085868750000971,
          -0.6395760117813769,
          -0.0005934854776172523,
          -0.7016458011906713,
          -0.49479165035660616,
          -0.28552367069566015,
          4.955088860078736,
          -0.13579191613133917,
          -0.6008057101556383,
          -0.6007964598447681,
          -0.11149673832099333,
          -0.03205021166392845,
          -0.49479163524596353,
          -0.344279596714424,
          -0.6007965921535245,
          -0.04933344090339959,
          -0.6189084786211597,
          -0.35211356565483387,
          -0.5602815477967188,
          -0.5018968546956839,
          -0.6007974311226565,
          -0.5381593136516576,
          -0.16559395640020028,
          -0.6008014258603808,
          -0.04058338372046945,
          -0.494813030795973,
          -0.03621269932453305,
          -0.572092329673328,
          -0.6396469052545686,
          -0.6008510377088309,
          -0.24471161546356077,
          -0.22285859288494744,
          -0.6072493269735576,
          -0.6008120124543073,
          -0.49480614127415407,
          -0.22287167071890904,
          -0.6010735182872798,
          -0.6007958917276376,
          -0.17951137312156507,
          -0.04920765743106167,
          0.15313024548908996,
          -0.4567737372340667,
          -0.6008932616434358,
          -0.32444069430260813,
          -0.622455132282592,
          -0.4947897920662907,
          -0.5998472929868741,
          -0.28553627792455527,
          -0.07330924500277268,
          -0.5599927131630892,
          -0.6007952576302021,
          -0.6007955611365936,
          -0.2856510863591758,
          -0.10287300802647607,
          -0.13580026975117435,
          -0.6008008085134785,
          -0.18659877301150787,
          -0.5381945943323417,
          -0.1357959960691755,
          -0.06579646023577619,
          -0.6017474647382449,
          -0.438146381036468,
          -0.2855309928899689,
          -0.6050878607775255,
          -0.28552268817235427,
          -0.767648990418727,
          -0.6008098551777474,
          -0.3135143029982697,
          -0.3822455994511979,
          -0.22291528798288968,
          -0.036823757038154506,
          -0.0627594547580172,
          -0.38108939114525325,
          -0.22285549523973405,
          -0.5381323311088076,
          -0.28715880327150106,
          -0.3646115166241647,
          -0.22288226517098653,
          -0.6008937468851008,
          -0.1795194908501405,
          -0.4948014805398569,
          -0.28557610889773977,
          -0.13580808019348034,
          -0.45114289493417625,
          -0.17951909182387138,
          -0.6028891968037932,
          -0.07145058586993272,
          -0.2845696262238412,
          -0.4512915275972901,
          -0.18507690936689467,
          -0.5381465956807154,
          0.05070181939749685,
          -0.6008015174065254,
          -0.5381376771258153,
          -0.22285308703841192,
          -0.6180481696631658,
          -0.17951005205109144,
          -0.6008095144956337,
          -0.5999543469665712,
          -0.7684050910273802,
          -0.4948325163916222,
          -0.49479727083156494,
          -0.036491721118200766,
          -0.6091574886898501,
          -0.4948651531303192,
          -0.6008152979022857,
          -0.6008066299410676,
          -0.03679875841975823,
          -0.6007978086555082,
          -0.4949765118620811,
          -0.6021337649029161,
          -0.35789770045831737,
          -0.4950438967789297,
          -0.6008155672246882,
          -0.6009644484066109,
          -0.49487205763310765,
          -0.6008437923425073,
          -0.13578673998586036,
          -0.020965621713095663,
          -0.3521084298481846,
          -0.0361252183280177,
          -0.2897258655552294,
          -0.6009054310878346,
          -0.34418779106712194,
          -0.6395671379150105,
          -0.03640106299146466,
          -0.036434016948131635,
          -0.03721619258009176,
          -0.13578847181378464,
          -0.18250113834574336,
          -0.010956106158924978,
          -0.600823850193231,
          -0.28551607651972716
         ]
        },
        {
         "customdata": [
          [
           "SHA-256"
          ],
          [
           "Ethash"
          ],
          [
           "Scrypt"
          ],
          [
           "CryptoNight-V7"
          ],
          [
           "Ethash"
          ],
          [
           "Equihash"
          ],
          [
           "Multiple"
          ],
          [
           "Scrypt"
          ],
          [
           "X11"
          ],
          [
           "Scrypt"
          ],
          [
           "Multiple"
          ],
          [
           "Scrypt"
          ],
          [
           "SHA-256"
          ],
          [
           "Scrypt"
          ],
          [
           "Scrypt"
          ],
          [
           "Quark"
          ],
          [
           "Groestl"
          ],
          [
           "Scrypt"
          ],
          [
           "Scrypt"
          ],
          [
           "Scrypt"
          ],
          [
           "X11"
          ],
          [
           "Multiple"
          ],
          [
           "SHA-256"
          ],
          [
           "Scrypt"
          ],
          [
           "Scrypt"
          ],
          [
           "Scrypt"
          ],
          [
           "Scrypt"
          ],
          [
           "Scrypt"
          ],
          [
           "NeoScrypt"
          ],
          [
           "Scrypt"
          ],
          [
           "Scrypt"
          ],
          [
           "Scrypt"
          ],
          [
           "Scrypt"
          ],
          [
           "SHA-256"
          ],
          [
           "Scrypt"
          ],
          [
           "Scrypt"
          ],
          [
           "Scrypt"
          ],
          [
           "Scrypt"
          ],
          [
           "HybridScryptHash256"
          ],
          [
           "Scrypt"
          ],
          [
           "Scrypt"
          ],
          [
           "SHA-256"
          ],
          [
           "Scrypt"
          ],
          [
           "Scrypt"
          ],
          [
           "Scrypt"
          ],
          [
           "Scrypt"
          ],
          [
           "SHA-256"
          ],
          [
           "SHA-256"
          ],
          [
           "SHA-256"
          ],
          [
           "SHA-256"
          ],
          [
           "SHA-256"
          ],
          [
           "X11"
          ],
          [
           "Scrypt"
          ],
          [
           "Lyra2REv2"
          ],
          [
           "Scrypt"
          ],
          [
           "SHA-256"
          ],
          [
           "CryptoNight"
          ],
          [
           "CryptoNight"
          ],
          [
           "Scrypt"
          ],
          [
           "Scrypt"
          ],
          [
           "Scrypt"
          ],
          [
           "Scrypt"
          ],
          [
           "Scrypt"
          ],
          [
           "Scrypt"
          ],
          [
           "Stanford Folding"
          ],
          [
           "Multiple"
          ],
          [
           "QuBit"
          ],
          [
           "Scrypt"
          ],
          [
           "Scrypt"
          ],
          [
           "M7 POW"
          ],
          [
           "Scrypt"
          ],
          [
           "SHA-256"
          ],
          [
           "Scrypt"
          ],
          [
           "X11"
          ],
          [
           "Lyra2RE"
          ],
          [
           "SHA-256"
          ],
          [
           "X11"
          ],
          [
           "Scrypt"
          ],
          [
           "Scrypt"
          ],
          [
           "Ethash"
          ],
          [
           "Blake2b"
          ],
          [
           "X11"
          ],
          [
           "SHA-256"
          ],
          [
           "Scrypt"
          ],
          [
           "1GB AES Pattern Search"
          ],
          [
           "Scrypt"
          ],
          [
           "SHA-256"
          ],
          [
           "X11"
          ],
          [
           "Dagger"
          ],
          [
           "Scrypt"
          ],
          [
           "X11GOST"
          ],
          [
           "Scrypt"
          ],
          [
           "X11"
          ],
          [
           "Scrypt"
          ],
          [
           "X11"
          ],
          [
           "Equihash"
          ],
          [
           "CryptoNight"
          ],
          [
           "SHA-256"
          ],
          [
           "Multiple"
          ],
          [
           "Scrypt"
          ],
          [
           "SHA-256"
          ],
          [
           "Scrypt"
          ],
          [
           "Lyra2Z"
          ],
          [
           "Ethash"
          ],
          [
           "Equihash"
          ],
          [
           "Scrypt"
          ],
          [
           "X11"
          ],
          [
           "X11"
          ],
          [
           "CryptoNight"
          ],
          [
           "Scrypt"
          ],
          [
           "CryptoNight"
          ],
          [
           "Lyra2RE"
          ],
          [
           "X11"
          ],
          [
           "CryptoNight-V7"
          ],
          [
           "Scrypt"
          ],
          [
           "X11"
          ],
          [
           "Equihash"
          ],
          [
           "Scrypt"
          ],
          [
           "Lyra2RE"
          ],
          [
           "Dagger-Hashimoto"
          ],
          [
           "Scrypt"
          ],
          [
           "NIST5"
          ],
          [
           "Scrypt"
          ],
          [
           "SHA-256"
          ],
          [
           "Scrypt"
          ],
          [
           "CryptoNight-V7"
          ],
          [
           "Argon2d"
          ],
          [
           "Blake2b"
          ],
          [
           "Cloverhash"
          ],
          [
           "CryptoNight"
          ],
          [
           "X11"
          ],
          [
           "Scrypt"
          ],
          [
           "Scrypt"
          ],
          [
           "X11"
          ],
          [
           "X11"
          ],
          [
           "CryptoNight"
          ],
          [
           "Time Travel"
          ],
          [
           "Scrypt"
          ],
          [
           "Keccak"
          ],
          [
           "X11"
          ],
          [
           "SHA-256"
          ],
          [
           "Scrypt"
          ],
          [
           "Scrypt"
          ],
          [
           "Scrypt"
          ],
          [
           "Scrypt"
          ],
          [
           "Scrypt"
          ],
          [
           "Scrypt"
          ],
          [
           "CryptoNight"
          ],
          [
           "Equihash"
          ],
          [
           "X11"
          ],
          [
           "NeoScrypt"
          ],
          [
           "Equihash"
          ],
          [
           "Dagger"
          ],
          [
           "Scrypt"
          ],
          [
           "X11"
          ],
          [
           "NeoScrypt"
          ],
          [
           "Ethash"
          ],
          [
           "NeoScrypt"
          ],
          [
           "Multiple"
          ],
          [
           "CryptoNight"
          ],
          [
           "CryptoNight"
          ],
          [
           "Ethash"
          ],
          [
           "X11"
          ],
          [
           "CryptoNight-V7"
          ],
          [
           "Scrypt"
          ],
          [
           "BLAKE256"
          ],
          [
           "X11"
          ],
          [
           "NeoScrypt"
          ],
          [
           "NeoScrypt"
          ],
          [
           "Scrypt"
          ],
          [
           "X11"
          ],
          [
           "SHA-256"
          ],
          [
           "C11"
          ],
          [
           "CryptoNight"
          ],
          [
           "SkunkHash"
          ],
          [
           "CryptoNight"
          ],
          [
           "Scrypt"
          ],
          [
           "Dagger"
          ],
          [
           "Lyra2REv2"
          ],
          [
           "Scrypt"
          ],
          [
           "Scrypt"
          ],
          [
           "X11"
          ],
          [
           "Ethash"
          ],
          [
           "CryptoNight"
          ],
          [
           "Scrypt"
          ],
          [
           "IMesh"
          ],
          [
           "Equihash"
          ],
          [
           "Lyra2Z"
          ],
          [
           "X11"
          ],
          [
           "CryptoNight"
          ],
          [
           "NIST5"
          ],
          [
           "Lyra2RE"
          ],
          [
           "Tribus"
          ],
          [
           "Lyra2Z"
          ],
          [
           "CryptoNight"
          ],
          [
           "CryptoNight Heavy"
          ],
          [
           "CryptoNight"
          ],
          [
           "Jump Consistent Hash"
          ],
          [
           "CryptoNight"
          ],
          [
           "X16R"
          ],
          [
           "HMQ1725"
          ],
          [
           "X11"
          ],
          [
           "Scrypt"
          ],
          [
           "CryptoNight-V7"
          ],
          [
           "Cryptonight-GPU"
          ],
          [
           "XEVAN"
          ],
          [
           "CryptoNight Heavy"
          ],
          [
           "SHA-256"
          ],
          [
           "X11"
          ],
          [
           "X16R"
          ],
          [
           "Equihash"
          ],
          [
           "Lyra2Z"
          ],
          [
           "SHA-256"
          ],
          [
           "CryptoNight"
          ],
          [
           "Blake"
          ],
          [
           "Blake"
          ],
          [
           "Exosis"
          ],
          [
           "Scrypt"
          ],
          [
           "Equihash"
          ],
          [
           "Equihash"
          ],
          [
           "QuBit"
          ],
          [
           "SHA-256"
          ],
          [
           "X13"
          ],
          [
           "SHA-256"
          ],
          [
           "Scrypt"
          ],
          [
           "NeoScrypt"
          ],
          [
           "Blake"
          ],
          [
           "Scrypt"
          ],
          [
           "SHA-256"
          ],
          [
           "Scrypt"
          ],
          [
           "Groestl"
          ],
          [
           "Scrypt"
          ],
          [
           "Scrypt"
          ],
          [
           "Multiple"
          ],
          [
           "Equihash+Scrypt"
          ],
          [
           "Ethash"
          ],
          [
           "CryptoNight"
          ],
          [
           "Equihash"
          ]
         ],
         "hovertemplate": "<b>%{hovertext}</b><br><br>Class=%{marker.color}<br>PC 1=%{x}<br>PC 2=%{y}<br>PC 3=%{z}<br>Algorithm=%{customdata[0]}<extra></extra>",
         "hovertext": [
          "Bitcoin",
          "Ethereum",
          "Litecoin",
          "Monero",
          "Ethereum Classic",
          "ZCash",
          "DigiByte",
          "ProsperCoin",
          "Spreadcoin",
          "Argentum",
          "MyriadCoin",
          "MoonCoin",
          "ZetaCoin",
          "SexCoin",
          "Quatloo",
          "QuarkCoin",
          "Riecoin",
          "Digitalcoin ",
          "Catcoin",
          "CannaCoin",
          "CryptCoin",
          "Verge",
          "DevCoin",
          "EarthCoin",
          "E-Gulden",
          "Einsteinium",
          "Emerald",
          "Franko",
          "FeatherCoin",
          "GrandCoin",
          "GlobalCoin",
          "GoldCoin",
          "Infinite Coin",
          "IXcoin",
          "KrugerCoin",
          "LuckyCoin",
          "Litebar ",
          "MegaCoin",
          "MediterraneanCoin",
          "MinCoin",
          "NobleCoin",
          "Namecoin",
          "NyanCoin",
          "RonPaulCoin",
          "StableCoin",
          "SmartCoin",
          "SysCoin",
          "TigerCoin",
          "TerraCoin",
          "UnbreakableCoin",
          "Unobtanium",
          "UroCoin",
          "ViaCoin",
          "Vertcoin",
          "WorldCoin",
          "JouleCoin",
          "ByteCoin",
          "DigitalNote ",
          "MonaCoin",
          "Gulden",
          "PesetaCoin",
          "Wild Beast Coin",
          "Flo",
          "ArtByte",
          "Folding Coin",
          "Unitus",
          "CypherPunkCoin",
          "OmniCron",
          "GreenCoin",
          "Cryptonite",
          "MasterCoin",
          "SoonCoin",
          "1Credit",
          "MarsCoin ",
          "Crypto",
          "Anarchists Prime",
          "BowsCoin",
          "Song Coin",
          "BitZeny",
          "Expanse",
          "Siacoin",
          "MindCoin",
          "I0coin",
          "Revolution VR",
          "HOdlcoin",
          "Gamecredits",
          "CarpeDiemCoin",
          "Adzcoin",
          "SoilCoin",
          "YoCoin",
          "SibCoin",
          "Francs",
          "BolivarCoin",
          "Omni",
          "PizzaCoin",
          "Komodo",
          "Karbo",
          "ZayedCoin",
          "Circuits of Value",
          "DopeCoin",
          "DollarCoin",
          "Shilling",
          "ZCoin",
          "Elementrem",
          "ZClassic",
          "KiloCoin",
          "ArtexCoin",
          "Kurrent",
          "Cannabis Industry Coin",
          "OsmiumCoin",
          "Bikercoins",
          "HexxCoin",
          "PacCoin",
          "Citadel",
          "BeaverCoin",
          "VaultCoin",
          "Zero",
          "Canada eCoin",
          "Zoin",
          "DubaiCoin",
          "EB3coin",
          "Coinonat",
          "BenjiRolls",
          "ILCoin",
          "EquiTrader",
          "Quantum Resistant Ledger",
          "Dynamic",
          "Nano",
          "ChanCoin",
          "Dinastycoin",
          "DigitalPrice",
          "Unify",
          "SocialCoin",
          "ArcticCoin",
          "DAS",
          "LeviarCoin",
          "Bitcore",
          "gCn Coin",
          "SmartCash",
          "Onix",
          "Bitcoin Cash",
          "Sojourn Coin",
          "NewYorkCoin",
          "FrazCoin",
          "Kronecoin",
          "AdCoin",
          "Linx",
          "Sumokoin",
          "BitcoinZ",
          "Elements",
          "VIVO Coin",
          "Bitcoin Gold",
          "Pirl",
          "eBoost",
          "Pura",
          "Innova",
          "Ellaism",
          "GoByte",
          "SHIELD",
          "UltraNote",
          "BitCoal",
          "DaxxCoin",
          "AC3",
          "Lethean",
          "PopularCoin",
          "Photon",
          "Sucre",
          "SparksPay",
          "GunCoin",
          "IrishCoin",
          "Pioneer Coin",
          "UnitedBitcoin",
          "Interzone",
          "TurtleCoin",
          "MUNcoin",
          "Niobio Cash",
          "ShareChain",
          "Travelflex",
          "KREDS",
          "BitFlip",
          "LottoCoin",
          "Crypto Improvement Fund",
          "Callisto Network",
          "BitTube",
          "Poseidon",
          "Aidos Kuneen",
          "Bitrolium",
          "Alpenschillling",
          "FuturoCoin",
          "Monero Classic",
          "Jumpcoin",
          "Infinex",
          "KEYCO",
          "GINcoin",
          "PlatinCoin",
          "Loki",
          "Newton Coin",
          "MassGrid",
          "PluraCoin",
          "Motion",
          "PlusOneCoin",
          "Axe",
          "HexCoin",
          "Webchain",
          "Ryo",
          "Urals Coin",
          "Qwertycoin",
          "Project Pai",
          "Azart",
          "Xchange",
          "CrypticCoin",
          "Actinium",
          "Bitcoin SV",
          "FREDEnergy",
          "Universal Molecule",
          "Lithium",
          "Exosis",
          "Block-Logic",
          "Beam",
          "Bithereum",
          "SLICE",
          "BLAST",
          "Bitcoin Rhodium",
          "GlobalToken",
          "SolarCoin",
          "UFO Coin",
          "BlakeCoin",
          "Crypto Escudo",
          "Crown Coin",
          "SmileyCoin",
          "Groestlcoin",
          "Bata",
          "Pakcoin",
          "JoinCoin",
          "Vollar",
          "Reality Clash",
          "Beldex",
          "Horizen"
         ],
         "legendgroup": "3",
         "marker": {
          "color": [
           3,
           3,
           3,
           3,
           3,
           3,
           3,
           3,
           3,
           3,
           3,
           3,
           3,
           3,
           3,
           3,
           3,
           3,
           3,
           3,
           3,
           3,
           3,
           3,
           3,
           3,
           3,
           3,
           3,
           3,
           3,
           3,
           3,
           3,
           3,
           3,
           3,
           3,
           3,
           3,
           3,
           3,
           3,
           3,
           3,
           3,
           3,
           3,
           3,
           3,
           3,
           3,
           3,
           3,
           3,
           3,
           3,
           3,
           3,
           3,
           3,
           3,
           3,
           3,
           3,
           3,
           3,
           3,
           3,
           3,
           3,
           3,
           3,
           3,
           3,
           3,
           3,
           3,
           3,
           3,
           3,
           3,
           3,
           3,
           3,
           3,
           3,
           3,
           3,
           3,
           3,
           3,
           3,
           3,
           3,
           3,
           3,
           3,
           3,
           3,
           3,
           3,
           3,
           3,
           3,
           3,
           3,
           3,
           3,
           3,
           3,
           3,
           3,
           3,
           3,
           3,
           3,
           3,
           3,
           3,
           3,
           3,
           3,
           3,
           3,
           3,
           3,
           3,
           3,
           3,
           3,
           3,
           3,
           3,
           3,
           3,
           3,
           3,
           3,
           3,
           3,
           3,
           3,
           3,
           3,
           3,
           3,
           3,
           3,
           3,
           3,
           3,
           3,
           3,
           3,
           3,
           3,
           3,
           3,
           3,
           3,
           3,
           3,
           3,
           3,
           3,
           3,
           3,
           3,
           3,
           3,
           3,
           3,
           3,
           3,
           3,
           3,
           3,
           3,
           3,
           3,
           3,
           3,
           3,
           3,
           3,
           3,
           3,
           3,
           3,
           3,
           3,
           3,
           3,
           3,
           3,
           3,
           3,
           3,
           3,
           3,
           3,
           3,
           3,
           3,
           3,
           3,
           3,
           3,
           3,
           3,
           3,
           3,
           3,
           3,
           3,
           3,
           3,
           3,
           3,
           3,
           3,
           3,
           3,
           3,
           3,
           3,
           3,
           3,
           3,
           3,
           3,
           3,
           3,
           3,
           3,
           3,
           3
          ],
          "coloraxis": "coloraxis",
          "symbol": "diamond"
         },
         "mode": "markers",
         "name": "3",
         "scene": "scene",
         "showlegend": true,
         "type": "scatter3d",
         "x": [
          -0.1447266202066885,
          -0.14626909172685937,
          -0.170188821374694,
          -0.13483706979443885,
          -0.14471368483696145,
          -0.13427746472849714,
          0.16246989906381556,
          -0.1713333242335612,
          -0.2177689861878589,
          -0.17095048169256863,
          -0.09054324428909868,
          2.5460182068896953,
          -0.14181595425652654,
          -0.16821009952008673,
          -0.17075485049869554,
          -0.22706730157542332,
          -0.20558031985164957,
          -0.1708034652629391,
          -0.17131561551169514,
          -0.17140193455439756,
          -0.2178581979291179,
          0.18619274535896307,
          0.23254658508942225,
          0.0769514546406925,
          -0.1711486040356191,
          -0.16676064513634692,
          -0.17108800268055055,
          -0.1714588531421423,
          -0.17007296553752085,
          -0.15071314369753855,
          -0.17025577352522042,
          -0.17053282975835224,
          1.5748073442544657,
          -0.14468804466216037,
          -0.16782640589205616,
          -0.17117500629802718,
          -0.1715292834019594,
          -0.1707896565783404,
          -0.13490961727614334,
          -0.17141073342178365,
          -0.03653343059737318,
          -0.14476554465648925,
          -0.16508422082889682,
          -0.17139022250213287,
          -0.16948765527259835,
          -0.1708777470970754,
          -0.13193737494725938,
          -0.14423012003393637,
          -0.1445169074898818,
          -0.14449998018637583,
          -0.1450897118084434,
          -0.21803181452745796,
          -0.17110711908961648,
          -0.1944531441724114,
          -0.16821483255057576,
          -0.14429731559585013,
          3.8533187530386157,
          0.45742344607030105,
          -0.16997646358678334,
          -0.15459993368653038,
          -0.16869720864420606,
          -0.17153149170363882,
          -0.16856242957555329,
          -0.154807094763415,
          -0.12633004923525393,
          -0.12449804821595055,
          -0.18251511689405261,
          -0.17140475135434458,
          -0.044540430204455285,
          -0.08489166706718682,
          -0.17154036822227037,
          -0.14479328263095315,
          0.4795333693800102,
          -0.21741992849095995,
          -0.17101036812936002,
          -0.1445335701720861,
          -0.2177044015585094,
          -0.1696671734745368,
          -0.1688606319995566,
          -0.14733505863333485,
          0.393129635006488,
          -0.2177397395333917,
          -0.14468916541566607,
          -0.16750433573113516,
          -0.12362067583884252,
          -0.17010590612450321,
          0.2731625751812326,
          -0.21690177055606893,
          -0.1635176334912042,
          -0.17035312182372744,
          -0.155671958579657,
          -0.17133061152452242,
          -0.21770305046208985,
          -0.1715404266287465,
          -0.2178528081189965,
          -0.20584752387500665,
          0.3025657130002384,
          -0.14494886129163728,
          -0.10460090315386047,
          -0.16871150627818055,
          -0.1449075513563495,
          -0.1712043553562928,
          -0.14634784707024068,
          -0.14707759815683896,
          -0.13429905103815615,
          -0.0983875934569415,
          -0.20445601537327673,
          -0.21568439215621404,
          0.3025600662082701,
          -0.1715221940253139,
          0.3026905894474492,
          -0.17154994920310865,
          0.4962047879629081,
          -0.1336038459737279,
          -0.1714905273647509,
          -0.21059886105283582,
          -0.13431140142880196,
          -0.16962661312032365,
          -0.17126874856919508,
          -0.155911062421515,
          -0.1424623716547465,
          -0.18566767548669,
          -0.17105358190407768,
          -0.1113261372268994,
          -0.17087596216837567,
          -0.13346164746783545,
          -0.16821804515597064,
          -0.006604725108298505,
          -0.14062074840477337,
          0.3386273246394428,
          -0.2169101795176603,
          -0.1711946793799862,
          -0.17095849184126247,
          -0.21730422986174813,
          -0.2178807904097116,
          0.30295443563512364,
          -0.1504663067089758,
          3.2329676183992135,
          -0.09997809939256526,
          -0.20876774793159872,
          -0.14472578561243082,
          -0.09723782139321598,
          1.57299437218402,
          -0.17129238901653931,
          -0.1707449214659992,
          -0.17044634929431654,
          -0.1704332988036608,
          0.3031377246058507,
          0.07767703064844783,
          -0.17233563727915358,
          -0.1747545060825577,
          -0.13415767845767165,
          -0.1622787103859963,
          -0.16962482482162397,
          -0.21343212182535765,
          -0.1746001686895859,
          -0.1454455603254675,
          -0.17470020868108288,
          -0.11474488565198919,
          1.1391651342206022,
          0.30254287496657406,
          -0.07045828320452863,
          -0.21317440688954067,
          -0.12259073304466109,
          -0.08780775498366877,
          1.1441811897817311,
          -0.2178548275316087,
          -0.17475205790213752,
          -0.1678006502002111,
          -0.17054453053688667,
          -0.21778034653378942,
          -0.1447052108737641,
          -0.1728406254030239,
          8.0276620068645,
          -0.1640786673904932,
          0.3064112407876662,
          0.02120833778208496,
          -0.16178253548554758,
          -0.1800334729825961,
          -0.17111739836048742,
          0.13549073529507694,
          -0.21193040711622527,
          -0.09856155653305815,
          0.3104530465908675,
          -0.1713540394280039,
          -0.12199534778499756,
          -0.13315028812616433,
          -0.14413499057881354,
          -0.21695089404277879,
          0.30272512419897957,
          -0.18572700539442244,
          -0.1713954357357178,
          -0.11765080996464222,
          -0.1464320848484469,
          0.3066467525993723,
          0.6021760034054324,
          2.1083229731858215,
          -0.12728613615775386,
          0.3163090442810225,
          -0.1833534530706872,
          -0.13048602942034043,
          -0.21783701516294526,
          -0.17137858827411226,
          -0.1224720823203603,
          -0.1614077993630879,
          -0.12176547063994109,
          3.1208303797900143,
          -0.10461419610321297,
          -0.21780842838002293,
          -0.18278212358155682,
          -0.029066526866811083,
          -0.14583082003520037,
          -0.14472582312453447,
          0.38235804053349637,
          -0.14558710498021302,
          -0.14597843400745442,
          -0.12090562412281837,
          -0.17027262821732644,
          -0.132220956745262,
          -0.1339907518548484,
          -0.18172738425185606,
          -0.14400306802106827,
          -0.1061675971667937,
          -0.14287279476630665,
          0.5233798748170077,
          -0.10003082503419929,
          -0.09652631677414338,
          -0.15495746706378205,
          -0.14451627883477555,
          0.543194824538484,
          -0.20514197973373233,
          -0.1714552878640112,
          -0.16941420940344243,
          -0.12523189504030321,
          -0.1488073257723786,
          -0.14711070662803596,
          0.32426669365172145,
          -0.13427852017576045
         ],
         "y": [
          -1.35621647474485,
          -1.9545299547935535,
          -1.1107607937766981,
          -2.170138950698895,
          -1.9546395648051837,
          -2.0063691533124723,
          -1.9062956939642584,
          -1.1107459234738357,
          -0.9054012779150591,
          -1.1107666573968353,
          -1.8993622660186025,
          -1.314530464166586,
          -1.356246081191025,
          -1.1108275298221566,
          -1.1107873345673958,
          -0.5246474436274121,
          -1.2513795917903527,
          -1.110751369958529,
          -1.1107454529163139,
          -1.1107420971088988,
          -0.9054022109286698,
          -1.9024704234608432,
          -1.3612704883619888,
          -1.1138366988044992,
          -1.1107410150745045,
          -1.1108248038261943,
          -1.110747311172709,
          -1.110742240893265,
          -1.5635105517056147,
          -1.1112039912083043,
          -1.1107525101408444,
          -1.1107614862283381,
          -1.1294522476503037,
          -1.3562154497125136,
          -1.1108284181987118,
          -1.11074099787363,
          -1.1107370068067854,
          -1.1107465711353501,
          -2.127879332109559,
          -1.1107400739946685,
          -1.1179303736561552,
          -1.3562175090483335,
          -1.1108070011855669,
          -1.1107474353790114,
          -1.1108614771320364,
          -1.1107555245105947,
          -1.3564998061711757,
          -1.3562219781656404,
          -1.3562259962827214,
          -1.3562528595144752,
          -1.3562112084934916,
          -0.9053938865334387,
          -1.1107413502609746,
          -1.331108746146045,
          -1.1108387395018067,
          -1.3562223175614723,
          -2.358897048726927,
          -2.3237321553305454,
          -1.1107703312811912,
          -1.1114937117174541,
          -1.1107803746048306,
          -1.110737984066117,
          -1.1107722032192457,
          -1.111010457016257,
          -2.254467353402302,
          -1.8988269880335924,
          -1.665409636473057,
          -1.1107351505955372,
          -1.1145493171394323,
          -2.461041589258273,
          -1.1107367762806974,
          -1.356218246103928,
          -1.1595622214470485,
          -0.9054013466567756,
          -2.2374741449567424,
          -1.3562348917073836,
          -0.9054002805311375,
          -1.110837669253829,
          -1.1108448158213189,
          -1.9545704314548946,
          -2.1274154994684973,
          -0.9053976257154017,
          -1.3562154794932626,
          -1.110780025659367,
          -2.2668146124261033,
          -1.1107585905462822,
          -1.360641384552771,
          -0.9054242350793074,
          -2.094569899299915,
          -1.1108257882439558,
          -2.277822989663161,
          -1.1107451326276965,
          -0.9054031196850011,
          -1.1107367756548245,
          -0.9054070990569979,
          -1.2779164166247312,
          -2.3206665963280044,
          -1.356214283996356,
          -1.899160796152627,
          -1.1108049150498898,
          -1.3562138348447355,
          -1.1107489653773217,
          -2.223490770526997,
          -1.9545702740821547,
          -2.0063697269055556,
          -1.1159801481098055,
          -0.9053925312651383,
          -0.9054953887975407,
          -2.320674652777075,
          -1.1107377990267473,
          -2.320674059558809,
          -2.237448383558952,
          -0.9582915190496811,
          -2.1702391526882248,
          -1.1107374216936678,
          -0.9059151413464998,
          -2.0063671800257854,
          -1.1107573549568572,
          -2.237448817876842,
          -2.204986391262632,
          -1.1128387235590549,
          -0.5997630000661054,
          -1.1107489268773558,
          -1.3571107700611564,
          -1.1107704273689003,
          -2.1701778730725367,
          -2.29620382368371,
          -2.1382818543371527,
          -2.1575484760166472,
          -2.321138704417917,
          -0.9054359587440897,
          -1.110741000818281,
          -1.1107747766452032,
          -0.9054176789271731,
          -0.9054034581452478,
          -2.320687892768521,
          -2.3583717566280966,
          -1.1640242476017528,
          -1.2517825214319884,
          -0.9059383612501148,
          -1.3562164525679519,
          -1.1163089781906637,
          -1.0643804194998974,
          -1.1107441169762697,
          -1.1107755705111673,
          -1.1107791370496254,
          -1.110778790270982,
          -2.320708099270474,
          -2.0158160284258635,
          -0.9054734190769003,
          -1.5634128519395893,
          -2.0063659703424555,
          -2.094627763250096,
          -1.1107573074380466,
          -0.9055232304834948,
          -1.5634216886233503,
          -1.9547093257248278,
          -1.5634148592112156,
          -1.899042210371335,
          -2.3595241495783243,
          -2.3206690000915575,
          -1.9597031424032678,
          -0.9056601352274516,
          -2.1705319312531968,
          -1.1121052006989467,
          -1.1951657169507368,
          -0.9054034151450933,
          -1.5634084743033976,
          -1.563568048834781,
          -1.1107558704314517,
          -0.9054037360745224,
          -1.3562153064053806,
          -1.1794651104283296,
          -2.8341513802513494,
          -2.344748267782115,
          -2.320798729674464,
          -1.112802235811156,
          -2.0945741076098163,
          -1.3314558495789228,
          -1.1107538423875842,
          -1.1158081481301425,
          -0.905591141378365,
          -1.957934231358248,
          -2.321168589679363,
          -1.1107464739195783,
          -1.884764818108237,
          -2.006374421316403,
          -2.2236322179355907,
          -0.9054370406135875,
          -2.3206683980574834,
          -0.5997449888332138,
          -2.23745597929099,
          -2.2549595876136816,
          -2.2234851743740314,
          -2.320982225658692,
          -2.189824701600151,
          -2.404929231534191,
          -2.209101402546859,
          -2.3210129836575892,
          -1.2954241124841264,
          -2.1433552523326465,
          -0.9054038043500514,
          -1.11074792065647,
          -2.171068223993626,
          -2.2398825249125056,
          -0.5552772175572366,
          -2.255381371774928,
          -1.3566449143143524,
          -0.9054059197951551,
          -1.2954649402408873,
          -2.0090209911990087,
          -2.223522026660261,
          -1.356216453564726,
          -2.3243467725247444,
          -2.1961468259797785,
          -2.196099801499274,
          -2.124146282339592,
          -1.1107888961962926,
          -2.0064883047168958,
          -2.006368640455083,
          -1.6654605811631442,
          -1.3562281553049291,
          -0.385346399477546,
          -1.356272873034771,
          -1.1627815880617287,
          -1.5642829372084321,
          -2.199798969259529,
          -1.111014452720607,
          -1.3562259795780496,
          -1.1276825236879997,
          -1.2513830382233033,
          -1.110737664079613,
          -1.110810649582613,
          -1.8988485004066569,
          -2.197887713425214,
          -1.9545699192978494,
          -2.3210891979196333,
          -2.0063691813578983
         ],
         "z": [
          0.23130390963268294,
          0.421203128540931,
          -0.017437462594034378,
          0.3975812324410161,
          0.42118085769811886,
          0.31881901257609213,
          0.4313181553455921,
          -0.017412799847986986,
          0.08859359021941601,
          -0.017419067137274865,
          0.4363116354317154,
          -0.05477446474900392,
          0.23124015510538284,
          -0.017474940732815386,
          -0.017421001382259122,
          0.04514786241987541,
          0.15852713414089206,
          -0.017424398591916062,
          -0.01741326959025685,
          -0.017411690579433647,
          0.088595775816107,
          0.43028697070801447,
          0.22319324089443843,
          -0.02278005721151957,
          -0.017417699743401457,
          -0.01750888684508509,
          -0.017418312650848446,
          -0.017410352928939842,
          0.2391040097733024,
          -0.017833220599190902,
          -0.01743695248145892,
          -0.017429400223208297,
          -0.055540955244276505,
          0.23130288637623053,
          -0.017483724275588423,
          -0.01741708981470119,
          -0.017409378556144335,
          -0.01742532240381496,
          0.5824427699479323,
          -0.0174117410952805,
          -0.01963412440804661,
          0.2313049421442032,
          -0.017549991483402378,
          -0.017411290562222074,
          -0.017441052237442016,
          -0.017422153858422943,
          0.23104305467663028,
          0.2312930914194055,
          0.23130024557900522,
          0.2313032324781708,
          0.23131166482553023,
          0.08859875363901698,
          -0.0174186193371982,
          0.2187589753594461,
          -0.017473420854391904,
          0.23129469193190416,
          0.33581644520179726,
          0.4101209684599743,
          -0.017441185960716723,
          -0.017706665690021356,
          -0.01746957993212368,
          -0.017409204423448787,
          -0.01747373250143569,
          -0.017762655294851538,
          0.42288492092230806,
          0.4370314843763143,
          0.2676928151754084,
          -0.017412499131439562,
          -0.0198738242954515,
          0.36087750350545944,
          -0.017409150572659342,
          0.2313056779228315,
          -0.026361087363116445,
          0.08858550654497423,
          0.47647864100580783,
          0.2313017508987945,
          0.08859196746371162,
          -0.01743988538093019,
          -0.017457684682050247,
          0.42123293307777515,
          0.3209115221440436,
          0.08859245274637574,
          0.2313029161053832,
          -0.017497278602574863,
          0.442122954939104,
          -0.01743966200730103,
          0.22217248697578026,
          0.08857637322430557,
          0.4219585321642892,
          -0.017425477412373498,
          0.34739194493373166,
          -0.017412962224192655,
          0.08859229329957888,
          -0.01740914929733573,
          0.08859626577722078,
          0.05602758884115665,
          0.4133254473522418,
          0.2313087863315578,
          0.4366121944361871,
          -0.017466161335761166,
          0.2313077721272307,
          -0.017415407112635516,
          0.5005658898342168,
          0.4212269444878411,
          0.31881958517541265,
          -0.01844547227311112,
          0.08828385083174715,
          0.08855710129960506,
          0.41332659174581293,
          -0.017409443252164224,
          0.41332349115621586,
          0.476487909572869,
          0.07869476237230784,
          0.39756524736987225,
          -0.017410224858608606,
          0.08849200559194868,
          0.3188195511072674,
          -0.017450929052422928,
          0.476481445040152,
          0.4721024232475089,
          -0.017818855588506755,
          0.023394445018000518,
          -0.01741890738749203,
          0.23064207522172142,
          -0.017420320494965977,
          0.39755424190446853,
          0.5873677880023603,
          0.33154565980396594,
          0.4072739886171054,
          0.41254880895360263,
          0.08857804298118087,
          -0.017416633356595313,
          -0.017417860053208223,
          0.08858487882543424,
          0.08859645648205638,
          0.4133191145061229,
          0.5641792836148548,
          -0.0896335673655434,
          0.13106832821212774,
          0.08845247528913837,
          0.23130388749419817,
          -0.01843076178504197,
          -0.06368480540947158,
          -0.01741397611597968,
          -0.01742271146060173,
          -0.017429184697638423,
          -0.017429530875479344,
          0.4133174071860597,
          0.3150935945990953,
          0.08754936879727962,
          0.23920025310456886,
          0.3188158351206458,
          0.42193708894028864,
          -0.01745097648890628,
          0.08850838857676009,
          0.2391977866826373,
          0.421206600771162,
          0.23919924681963553,
          0.43683244798549176,
          0.3988184691922917,
          0.413326279201784,
          0.42009635574237014,
          0.08851963617525327,
          0.39734675751453447,
          -0.019178207376528714,
          0.09055262665460455,
          0.08859584916660433,
          0.2391996456513783,
          0.2390585629244143,
          -0.017429835413989254,
          0.08859416282073897,
          0.2313032663185918,
          -0.03906990139978961,
          0.2988271039003779,
          0.4512904107272593,
          0.41325291724827073,
          -0.021617878764572048,
          0.42191883619901427,
          0.21846834405713872,
          -0.017416809549647215,
          -0.02388918941654011,
          0.0884821168483197,
          0.4205253585860228,
          0.4132057422121427,
          -0.01741225035590448,
          0.46207748303990925,
          0.31879354356415707,
          0.5005323821848379,
          0.08857912297631489,
          0.41332197832208123,
          0.023393554713031367,
          0.47648528296017545,
          0.38395899850599,
          0.5005671387642541,
          0.4132705406562507,
          0.3560761743754558,
          0.3820620081578383,
          0.3255274954863404,
          0.4130504057814317,
          0.20231161386009736,
          0.4786495348820269,
          0.08859548517752684,
          -0.01741149923569536,
          0.39741147114357583,
          0.5096358940414243,
          -0.01648072275336348,
          0.3059322357449898,
          0.23042786649046854,
          0.08859508855847642,
          0.2023035045708979,
          0.3167134669044346,
          0.5005578353696485,
          0.23130388848924588,
          0.4119385523816389,
          0.4615672886110255,
          0.4615704453558979,
          0.373807984204385,
          -0.017431984454400532,
          0.3187863248225739,
          0.3188123010988752,
          0.26768096162523064,
          0.23128860466562837,
          -0.05618186149035836,
          0.2312680265444635,
          -0.02697260699763586,
          0.23757736352825853,
          0.4608893267784492,
          -0.017758666513152385,
          0.23130022890327456,
          -0.03184736229385785,
          0.1585174055075631,
          -0.01741101133623216,
          -0.017449148942317288,
          0.437051203599323,
          0.6849265163568902,
          0.421227667421644,
          0.41287550849220667,
          0.3188190405729293
         ]
        },
        {
         "customdata": [
          [
           "Proof-of-BibleHash"
          ],
          [
           "SHA-256 + Hive"
          ],
          [
           "Proof-of-Authority"
          ],
          [
           "ECC 256K1"
          ],
          [
           "Leased POS"
          ]
         ],
         "hovertemplate": "<b>%{hovertext}</b><br><br>Class=%{marker.color}<br>PC 1=%{x}<br>PC 2=%{y}<br>PC 3=%{z}<br>Algorithm=%{customdata[0]}<extra></extra>",
         "hovertext": [
          "BiblePay",
          "LitecoinCash",
          "Poa Network",
          "Acute Angle Cloud",
          "Waves"
         ],
         "legendgroup": "1",
         "marker": {
          "color": [
           1,
           1,
           1,
           1,
           1
          ],
          "coloraxis": "coloraxis",
          "symbol": "square"
         },
         "mode": "markers",
         "name": "1",
         "scene": "scene",
         "showlegend": true,
         "type": "scatter3d",
         "x": [
          -0.3524432100870391,
          -0.3152560327927177,
          -0.36558139904925036,
          -0.40443253996564943,
          -0.2569763428609053
         ],
         "y": [
          1.6384646653765622,
          3.8218308855701384,
          3.296556893495777,
          3.088417318374149,
          4.636294366135786
         ],
         "z": [
          16.23167922838303,
          9.750316471527393,
          16.33747963364286,
          12.585358144307103,
          13.464121980112195
         ]
        },
        {
         "customdata": [
          [
           "TRC10"
          ]
         ],
         "hovertemplate": "<b>%{hovertext}</b><br><br>Class=%{marker.color}<br>PC 1=%{x}<br>PC 2=%{y}<br>PC 3=%{z}<br>Algorithm=%{customdata[0]}<extra></extra>",
         "hovertext": [
          "BitTorrent"
         ],
         "legendgroup": "2",
         "marker": {
          "color": [
           2
          ],
          "coloraxis": "coloraxis",
          "symbol": "x"
         },
         "mode": "markers",
         "name": "2",
         "scene": "scene",
         "showlegend": true,
         "type": "scatter3d",
         "x": [
          34.03097222609275
         ],
         "y": [
          1.5683437773706383
         ],
         "z": [
          -0.858332142216266
         ]
        }
       ],
       "layout": {
        "coloraxis": {
         "colorbar": {
          "title": {
           "text": "Class"
          }
         },
         "colorscale": [
          [
           0,
           "#0d0887"
          ],
          [
           0.1111111111111111,
           "#46039f"
          ],
          [
           0.2222222222222222,
           "#7201a8"
          ],
          [
           0.3333333333333333,
           "#9c179e"
          ],
          [
           0.4444444444444444,
           "#bd3786"
          ],
          [
           0.5555555555555556,
           "#d8576b"
          ],
          [
           0.6666666666666666,
           "#ed7953"
          ],
          [
           0.7777777777777778,
           "#fb9f3a"
          ],
          [
           0.8888888888888888,
           "#fdca26"
          ],
          [
           1,
           "#f0f921"
          ]
         ]
        },
        "legend": {
         "title": {
          "text": "Class"
         },
         "tracegroupgap": 0,
         "x": 0,
         "y": 1
        },
        "margin": {
         "t": 60
        },
        "scene": {
         "domain": {
          "x": [
           0,
           1
          ],
          "y": [
           0,
           1
          ]
         },
         "xaxis": {
          "title": {
           "text": "PC 1"
          }
         },
         "yaxis": {
          "title": {
           "text": "PC 2"
          }
         },
         "zaxis": {
          "title": {
           "text": "PC 3"
          }
         }
        },
        "template": {
         "data": {
          "bar": [
           {
            "error_x": {
             "color": "#2a3f5f"
            },
            "error_y": {
             "color": "#2a3f5f"
            },
            "marker": {
             "line": {
              "color": "#E5ECF6",
              "width": 0.5
             },
             "pattern": {
              "fillmode": "overlay",
              "size": 10,
              "solidity": 0.2
             }
            },
            "type": "bar"
           }
          ],
          "barpolar": [
           {
            "marker": {
             "line": {
              "color": "#E5ECF6",
              "width": 0.5
             },
             "pattern": {
              "fillmode": "overlay",
              "size": 10,
              "solidity": 0.2
             }
            },
            "type": "barpolar"
           }
          ],
          "carpet": [
           {
            "aaxis": {
             "endlinecolor": "#2a3f5f",
             "gridcolor": "white",
             "linecolor": "white",
             "minorgridcolor": "white",
             "startlinecolor": "#2a3f5f"
            },
            "baxis": {
             "endlinecolor": "#2a3f5f",
             "gridcolor": "white",
             "linecolor": "white",
             "minorgridcolor": "white",
             "startlinecolor": "#2a3f5f"
            },
            "type": "carpet"
           }
          ],
          "choropleth": [
           {
            "colorbar": {
             "outlinewidth": 0,
             "ticks": ""
            },
            "type": "choropleth"
           }
          ],
          "contour": [
           {
            "colorbar": {
             "outlinewidth": 0,
             "ticks": ""
            },
            "colorscale": [
             [
              0,
              "#0d0887"
             ],
             [
              0.1111111111111111,
              "#46039f"
             ],
             [
              0.2222222222222222,
              "#7201a8"
             ],
             [
              0.3333333333333333,
              "#9c179e"
             ],
             [
              0.4444444444444444,
              "#bd3786"
             ],
             [
              0.5555555555555556,
              "#d8576b"
             ],
             [
              0.6666666666666666,
              "#ed7953"
             ],
             [
              0.7777777777777778,
              "#fb9f3a"
             ],
             [
              0.8888888888888888,
              "#fdca26"
             ],
             [
              1,
              "#f0f921"
             ]
            ],
            "type": "contour"
           }
          ],
          "contourcarpet": [
           {
            "colorbar": {
             "outlinewidth": 0,
             "ticks": ""
            },
            "type": "contourcarpet"
           }
          ],
          "heatmap": [
           {
            "colorbar": {
             "outlinewidth": 0,
             "ticks": ""
            },
            "colorscale": [
             [
              0,
              "#0d0887"
             ],
             [
              0.1111111111111111,
              "#46039f"
             ],
             [
              0.2222222222222222,
              "#7201a8"
             ],
             [
              0.3333333333333333,
              "#9c179e"
             ],
             [
              0.4444444444444444,
              "#bd3786"
             ],
             [
              0.5555555555555556,
              "#d8576b"
             ],
             [
              0.6666666666666666,
              "#ed7953"
             ],
             [
              0.7777777777777778,
              "#fb9f3a"
             ],
             [
              0.8888888888888888,
              "#fdca26"
             ],
             [
              1,
              "#f0f921"
             ]
            ],
            "type": "heatmap"
           }
          ],
          "heatmapgl": [
           {
            "colorbar": {
             "outlinewidth": 0,
             "ticks": ""
            },
            "colorscale": [
             [
              0,
              "#0d0887"
             ],
             [
              0.1111111111111111,
              "#46039f"
             ],
             [
              0.2222222222222222,
              "#7201a8"
             ],
             [
              0.3333333333333333,
              "#9c179e"
             ],
             [
              0.4444444444444444,
              "#bd3786"
             ],
             [
              0.5555555555555556,
              "#d8576b"
             ],
             [
              0.6666666666666666,
              "#ed7953"
             ],
             [
              0.7777777777777778,
              "#fb9f3a"
             ],
             [
              0.8888888888888888,
              "#fdca26"
             ],
             [
              1,
              "#f0f921"
             ]
            ],
            "type": "heatmapgl"
           }
          ],
          "histogram": [
           {
            "marker": {
             "pattern": {
              "fillmode": "overlay",
              "size": 10,
              "solidity": 0.2
             }
            },
            "type": "histogram"
           }
          ],
          "histogram2d": [
           {
            "colorbar": {
             "outlinewidth": 0,
             "ticks": ""
            },
            "colorscale": [
             [
              0,
              "#0d0887"
             ],
             [
              0.1111111111111111,
              "#46039f"
             ],
             [
              0.2222222222222222,
              "#7201a8"
             ],
             [
              0.3333333333333333,
              "#9c179e"
             ],
             [
              0.4444444444444444,
              "#bd3786"
             ],
             [
              0.5555555555555556,
              "#d8576b"
             ],
             [
              0.6666666666666666,
              "#ed7953"
             ],
             [
              0.7777777777777778,
              "#fb9f3a"
             ],
             [
              0.8888888888888888,
              "#fdca26"
             ],
             [
              1,
              "#f0f921"
             ]
            ],
            "type": "histogram2d"
           }
          ],
          "histogram2dcontour": [
           {
            "colorbar": {
             "outlinewidth": 0,
             "ticks": ""
            },
            "colorscale": [
             [
              0,
              "#0d0887"
             ],
             [
              0.1111111111111111,
              "#46039f"
             ],
             [
              0.2222222222222222,
              "#7201a8"
             ],
             [
              0.3333333333333333,
              "#9c179e"
             ],
             [
              0.4444444444444444,
              "#bd3786"
             ],
             [
              0.5555555555555556,
              "#d8576b"
             ],
             [
              0.6666666666666666,
              "#ed7953"
             ],
             [
              0.7777777777777778,
              "#fb9f3a"
             ],
             [
              0.8888888888888888,
              "#fdca26"
             ],
             [
              1,
              "#f0f921"
             ]
            ],
            "type": "histogram2dcontour"
           }
          ],
          "mesh3d": [
           {
            "colorbar": {
             "outlinewidth": 0,
             "ticks": ""
            },
            "type": "mesh3d"
           }
          ],
          "parcoords": [
           {
            "line": {
             "colorbar": {
              "outlinewidth": 0,
              "ticks": ""
             }
            },
            "type": "parcoords"
           }
          ],
          "pie": [
           {
            "automargin": true,
            "type": "pie"
           }
          ],
          "scatter": [
           {
            "fillpattern": {
             "fillmode": "overlay",
             "size": 10,
             "solidity": 0.2
            },
            "type": "scatter"
           }
          ],
          "scatter3d": [
           {
            "line": {
             "colorbar": {
              "outlinewidth": 0,
              "ticks": ""
             }
            },
            "marker": {
             "colorbar": {
              "outlinewidth": 0,
              "ticks": ""
             }
            },
            "type": "scatter3d"
           }
          ],
          "scattercarpet": [
           {
            "marker": {
             "colorbar": {
              "outlinewidth": 0,
              "ticks": ""
             }
            },
            "type": "scattercarpet"
           }
          ],
          "scattergeo": [
           {
            "marker": {
             "colorbar": {
              "outlinewidth": 0,
              "ticks": ""
             }
            },
            "type": "scattergeo"
           }
          ],
          "scattergl": [
           {
            "marker": {
             "colorbar": {
              "outlinewidth": 0,
              "ticks": ""
             }
            },
            "type": "scattergl"
           }
          ],
          "scattermapbox": [
           {
            "marker": {
             "colorbar": {
              "outlinewidth": 0,
              "ticks": ""
             }
            },
            "type": "scattermapbox"
           }
          ],
          "scatterpolar": [
           {
            "marker": {
             "colorbar": {
              "outlinewidth": 0,
              "ticks": ""
             }
            },
            "type": "scatterpolar"
           }
          ],
          "scatterpolargl": [
           {
            "marker": {
             "colorbar": {
              "outlinewidth": 0,
              "ticks": ""
             }
            },
            "type": "scatterpolargl"
           }
          ],
          "scatterternary": [
           {
            "marker": {
             "colorbar": {
              "outlinewidth": 0,
              "ticks": ""
             }
            },
            "type": "scatterternary"
           }
          ],
          "surface": [
           {
            "colorbar": {
             "outlinewidth": 0,
             "ticks": ""
            },
            "colorscale": [
             [
              0,
              "#0d0887"
             ],
             [
              0.1111111111111111,
              "#46039f"
             ],
             [
              0.2222222222222222,
              "#7201a8"
             ],
             [
              0.3333333333333333,
              "#9c179e"
             ],
             [
              0.4444444444444444,
              "#bd3786"
             ],
             [
              0.5555555555555556,
              "#d8576b"
             ],
             [
              0.6666666666666666,
              "#ed7953"
             ],
             [
              0.7777777777777778,
              "#fb9f3a"
             ],
             [
              0.8888888888888888,
              "#fdca26"
             ],
             [
              1,
              "#f0f921"
             ]
            ],
            "type": "surface"
           }
          ],
          "table": [
           {
            "cells": {
             "fill": {
              "color": "#EBF0F8"
             },
             "line": {
              "color": "white"
             }
            },
            "header": {
             "fill": {
              "color": "#C8D4E3"
             },
             "line": {
              "color": "white"
             }
            },
            "type": "table"
           }
          ]
         },
         "layout": {
          "annotationdefaults": {
           "arrowcolor": "#2a3f5f",
           "arrowhead": 0,
           "arrowwidth": 1
          },
          "autotypenumbers": "strict",
          "coloraxis": {
           "colorbar": {
            "outlinewidth": 0,
            "ticks": ""
           }
          },
          "colorscale": {
           "diverging": [
            [
             0,
             "#8e0152"
            ],
            [
             0.1,
             "#c51b7d"
            ],
            [
             0.2,
             "#de77ae"
            ],
            [
             0.3,
             "#f1b6da"
            ],
            [
             0.4,
             "#fde0ef"
            ],
            [
             0.5,
             "#f7f7f7"
            ],
            [
             0.6,
             "#e6f5d0"
            ],
            [
             0.7,
             "#b8e186"
            ],
            [
             0.8,
             "#7fbc41"
            ],
            [
             0.9,
             "#4d9221"
            ],
            [
             1,
             "#276419"
            ]
           ],
           "sequential": [
            [
             0,
             "#0d0887"
            ],
            [
             0.1111111111111111,
             "#46039f"
            ],
            [
             0.2222222222222222,
             "#7201a8"
            ],
            [
             0.3333333333333333,
             "#9c179e"
            ],
            [
             0.4444444444444444,
             "#bd3786"
            ],
            [
             0.5555555555555556,
             "#d8576b"
            ],
            [
             0.6666666666666666,
             "#ed7953"
            ],
            [
             0.7777777777777778,
             "#fb9f3a"
            ],
            [
             0.8888888888888888,
             "#fdca26"
            ],
            [
             1,
             "#f0f921"
            ]
           ],
           "sequentialminus": [
            [
             0,
             "#0d0887"
            ],
            [
             0.1111111111111111,
             "#46039f"
            ],
            [
             0.2222222222222222,
             "#7201a8"
            ],
            [
             0.3333333333333333,
             "#9c179e"
            ],
            [
             0.4444444444444444,
             "#bd3786"
            ],
            [
             0.5555555555555556,
             "#d8576b"
            ],
            [
             0.6666666666666666,
             "#ed7953"
            ],
            [
             0.7777777777777778,
             "#fb9f3a"
            ],
            [
             0.8888888888888888,
             "#fdca26"
            ],
            [
             1,
             "#f0f921"
            ]
           ]
          },
          "colorway": [
           "#636efa",
           "#EF553B",
           "#00cc96",
           "#ab63fa",
           "#FFA15A",
           "#19d3f3",
           "#FF6692",
           "#B6E880",
           "#FF97FF",
           "#FECB52"
          ],
          "font": {
           "color": "#2a3f5f"
          },
          "geo": {
           "bgcolor": "white",
           "lakecolor": "white",
           "landcolor": "#E5ECF6",
           "showlakes": true,
           "showland": true,
           "subunitcolor": "white"
          },
          "hoverlabel": {
           "align": "left"
          },
          "hovermode": "closest",
          "mapbox": {
           "style": "light"
          },
          "paper_bgcolor": "white",
          "plot_bgcolor": "#E5ECF6",
          "polar": {
           "angularaxis": {
            "gridcolor": "white",
            "linecolor": "white",
            "ticks": ""
           },
           "bgcolor": "#E5ECF6",
           "radialaxis": {
            "gridcolor": "white",
            "linecolor": "white",
            "ticks": ""
           }
          },
          "scene": {
           "xaxis": {
            "backgroundcolor": "#E5ECF6",
            "gridcolor": "white",
            "gridwidth": 2,
            "linecolor": "white",
            "showbackground": true,
            "ticks": "",
            "zerolinecolor": "white"
           },
           "yaxis": {
            "backgroundcolor": "#E5ECF6",
            "gridcolor": "white",
            "gridwidth": 2,
            "linecolor": "white",
            "showbackground": true,
            "ticks": "",
            "zerolinecolor": "white"
           },
           "zaxis": {
            "backgroundcolor": "#E5ECF6",
            "gridcolor": "white",
            "gridwidth": 2,
            "linecolor": "white",
            "showbackground": true,
            "ticks": "",
            "zerolinecolor": "white"
           }
          },
          "shapedefaults": {
           "line": {
            "color": "#2a3f5f"
           }
          },
          "ternary": {
           "aaxis": {
            "gridcolor": "white",
            "linecolor": "white",
            "ticks": ""
           },
           "baxis": {
            "gridcolor": "white",
            "linecolor": "white",
            "ticks": ""
           },
           "bgcolor": "#E5ECF6",
           "caxis": {
            "gridcolor": "white",
            "linecolor": "white",
            "ticks": ""
           }
          },
          "title": {
           "x": 0.05
          },
          "xaxis": {
           "automargin": true,
           "gridcolor": "white",
           "linecolor": "white",
           "ticks": "",
           "title": {
            "standoff": 15
           },
           "zerolinecolor": "white",
           "zerolinewidth": 2
          },
          "yaxis": {
           "automargin": true,
           "gridcolor": "white",
           "linecolor": "white",
           "ticks": "",
           "title": {
            "standoff": 15
           },
           "zerolinecolor": "white",
           "zerolinewidth": 2
          }
         }
        },
        "width": 800
       }
      },
      "text/html": [
       "<div>                            <div id=\"31a71baa-59ac-4bbb-a943-ae9d3c0a8cc9\" class=\"plotly-graph-div\" style=\"height:525px; width:800px;\"></div>            <script type=\"text/javascript\">                require([\"plotly\"], function(Plotly) {                    window.PLOTLYENV=window.PLOTLYENV || {};                                    if (document.getElementById(\"31a71baa-59ac-4bbb-a943-ae9d3c0a8cc9\")) {                    Plotly.newPlot(                        \"31a71baa-59ac-4bbb-a943-ae9d3c0a8cc9\",                        [{\"customdata\":[[\"Scrypt\"],[\"Scrypt\"],[\"X13\"],[\"X11\"],[\"SHA-512\"],[\"SHA-256\"],[\"SHA-256\"],[\"X15\"],[\"Scrypt\"],[\"Scrypt\"],[\"Scrypt\"],[\"Scrypt\"],[\"Scrypt\"],[\"Scrypt\"],[\"Groestl\"],[\"PoS\"],[\"Scrypt\"],[\"Scrypt\"],[\"X11\"],[\"X11\"],[\"SHA3\"],[\"Scrypt\"],[\"SHA-256\"],[\"Scrypt\"],[\"X13\"],[\"X13\"],[\"NeoScrypt\"],[\"Scrypt\"],[\"Scrypt\"],[\"Scrypt\"],[\"X11\"],[\"X11\"],[\"Multiple\"],[\"PHI1612\"],[\"X11\"],[\"Scrypt\"],[\"Scrypt\"],[\"Scrypt\"],[\"X11\"],[\"Multiple\"],[\"X13\"],[\"Scrypt\"],[\"Shabal256\"],[\"Counterparty\"],[\"SHA-256\"],[\"Groestl\"],[\"Scrypt\"],[\"X13\"],[\"Scrypt\"],[\"Scrypt\"],[\"X13\"],[\"X11\"],[\"Scrypt\"],[\"X11\"],[\"SHA3\"],[\"QUAIT\"],[\"X11\"],[\"Scrypt\"],[\"X13\"],[\"SHA-256\"],[\"X15\"],[\"BLAKE256\"],[\"SHA-256\"],[\"X11\"],[\"SHA-256\"],[\"NIST5\"],[\"Scrypt\"],[\"Scrypt\"],[\"X11\"],[\"Scrypt\"],[\"SHA-256\"],[\"Scrypt\"],[\"PoS\"],[\"X11\"],[\"SHA-256\"],[\"SHA-256\"],[\"NIST5\"],[\"X11\"],[\"POS 3.0\"],[\"Scrypt\"],[\"Scrypt\"],[\"Scrypt\"],[\"X13\"],[\"X11\"],[\"X11\"],[\"Scrypt\"],[\"SHA-256\"],[\"X11\"],[\"Scrypt\"],[\"Scrypt\"],[\"Scrypt\"],[\"Scrypt\"],[\"SHA-256D\"],[\"PoS\"],[\"Scrypt\"],[\"X11\"],[\"PoS\"],[\"X13\"],[\"X14\"],[\"PoS\"],[\"SHA-256D\"],[\"DPoS\"],[\"X11\"],[\"X13\"],[\"X11\"],[\"PoS\"],[\"Scrypt\"],[\"Scrypt\"],[\"PoS\"],[\"X11\"],[\"SHA-256\"],[\"Scrypt\"],[\"X11\"],[\"Scrypt\"],[\"Scrypt\"],[\"X11\"],[\"Scrypt\"],[\"Scrypt\"],[\"Scrypt\"],[\"Scrypt\"],[\"Quark\"],[\"QuBit\"],[\"Scrypt\"],[\"SHA-256\"],[\"X11\"],[\"Scrypt\"],[\"Scrypt\"],[\"Scrypt\"],[\"Scrypt\"],[\"X13\"],[\"Scrypt\"],[\"Scrypt\"],[\"X11\"],[\"Blake2S\"],[\"X11\"],[\"PoS\"],[\"X11\"],[\"PoS\"],[\"X11\"],[\"Scrypt\"],[\"Scrypt\"],[\"Scrypt\"],[\"SHA-256\"],[\"X11\"],[\"Scrypt\"],[\"PoS\"],[\"Scrypt\"],[\"X15\"],[\"SHA-256\"],[\"POS 3.0\"],[\"536\"],[\"NIST5\"],[\"NIST5\"],[\"Skein\"],[\"X13\"],[\"Scrypt\"],[\"X13\"],[\"SkunkHash v2 Raptor\"],[\"Skein\"],[\"X11\"],[\"Scrypt\"],[\"VeChainThor Authority\"],[\"PoS\"],[\"Scrypt\"],[\"Scrypt\"],[\"SHA-512\"],[\"Ouroboros\"],[\"X11\"],[\"NeoScrypt\"],[\"Scrypt\"],[\"Lyra2REv2\"],[\"Scrypt\"],[\"SHA-256\"],[\"NIST5\"],[\"PHI1612\"],[\"Scrypt\"],[\"Quark\"],[\"POS 2.0\"],[\"Scrypt\"],[\"SHA-256\"],[\"X11\"],[\"DPoS\"],[\"NIST5\"],[\"X13\"],[\"Scrypt\"],[\"NIST5\"],[\"Quark\"],[\"Scrypt\"],[\"Scrypt\"],[\"X11\"],[\"Quark\"],[\"Scrypt\"],[\"Scrypt\"],[\"X11\"],[\"POS 3.0\"],[\"Ethash\"],[\"Scrypt\"],[\"Scrypt\"],[\"X13\"],[\"C11\"],[\"X11\"],[\"XEVAN\"],[\"Scrypt\"],[\"VBFT\"],[\"NIST5\"],[\"Scrypt\"],[\"Scrypt\"],[\"Scrypt\"],[\"Green Protocol\"],[\"PoS\"],[\"Scrypt\"],[\"Semux BFT consensus\"],[\"Quark\"],[\"PoS\"],[\"X16R\"],[\"Scrypt\"],[\"XEVAN\"],[\"Scrypt\"],[\"Scrypt\"],[\"Scrypt\"],[\"SHA-256D\"],[\"Scrypt\"],[\"X15\"],[\"Scrypt\"],[\"Quark\"],[\"SHA-256\"],[\"DPoS\"],[\"X16R\"],[\"Quark\"],[\"Quark\"],[\"Scrypt\"],[\"Lyra2REv2\"],[\"Quark\"],[\"Scrypt\"],[\"X11\"],[\"X11\"],[\"Scrypt\"],[\"PoS\"],[\"Keccak\"],[\"X11\"],[\"Scrypt\"],[\"SHA-512\"],[\"XEVAN\"],[\"XEVAN\"],[\"X11\"],[\"Quark\"],[\"Equihash\"],[\"Scrypt\"],[\"Quark\"],[\"Quark\"],[\"Scrypt\"],[\"X11\"],[\"Scrypt\"],[\"XEVAN\"],[\"SHA-256D\"],[\"X11\"],[\"X11\"],[\"DPoS\"],[\"Scrypt\"],[\"X11\"],[\"Scrypt\"],[\"Scrypt\"],[\"SHA-256\"],[\"Scrypt\"],[\"X11\"],[\"Scrypt\"],[\"SHA-256\"],[\"X11\"],[\"Scrypt\"],[\"Scrypt\"],[\"X11\"],[\"Scrypt\"],[\"PoS\"],[\"X11\"],[\"SHA-256\"],[\"DPoS\"],[\"Scrypt\"],[\"Scrypt\"],[\"NeoScrypt\"],[\"X13\"],[\"DPoS\"],[\"DPoS\"],[\"SHA-256\"],[\"PoS\"],[\"PoS\"],[\"SHA-256\"],[\"Scrypt\"],[\"Scrypt\"]],\"hovertemplate\":\"<b>%{hovertext}</b><br><br>Class=%{marker.color}<br>PC 1=%{x}<br>PC 2=%{y}<br>PC 3=%{z}<br>Algorithm=%{customdata[0]}<extra></extra>\",\"hovertext\":[\"42 Coin\",\"404Coin\",\"EliteCoin\",\"Dash\",\"Bitshares\",\"BitcoinDark\",\"PayCoin\",\"KoboCoin\",\"Aurora Coin\",\"BlueCoin\",\"EnergyCoin\",\"BitBar\",\"CryptoBullion\",\"CasinoCoin\",\"Diamond\",\"Exclusive Coin\",\"FlutterCoin\",\"HoboNickels\",\"HyperStake\",\"IOCoin\",\"MaxCoin\",\"MintCoin\",\"MazaCoin\",\"Nautilus Coin\",\"NavCoin\",\"OpalCoin\",\"Orbitcoin\",\"PotCoin\",\"PhoenixCoin\",\"Reddcoin\",\"SuperCoin\",\"SyncCoin\",\"TeslaCoin\",\"TittieCoin\",\"TorCoin\",\"UnitaryStatus Dollar\",\"UltraCoin\",\"VeriCoin\",\"X11 Coin\",\"Crypti\",\"StealthCoin\",\"ZCC Coin\",\"BurstCoin\",\"StorjCoin\",\"Neutron\",\"FairCoin\",\"RubyCoin\",\"Kore\",\"Dnotes\",\"8BIT Coin\",\"Sativa Coin\",\"Ucoin\",\"Vtorrent\",\"IslaCoin\",\"Nexus\",\"Droidz\",\"Squall Coin\",\"Diggits\",\"Paycon\",\"Emercoin\",\"EverGreenCoin\",\"Decred\",\"EDRCoin\",\"Hitcoin\",\"DubaiCoin\",\"PWR Coin\",\"BillaryCoin\",\"GPU Coin\",\"EuropeCoin\",\"ZeitCoin\",\"SwingCoin\",\"SafeExchangeCoin\",\"Nebuchadnezzar\",\"Ratecoin\",\"Revenu\",\"Clockcoin\",\"VIP Tokens\",\"BitSend\",\"Let it Ride\",\"PutinCoin\",\"iBankCoin\",\"Frankywillcoin\",\"MudraCoin\",\"Lutetium Coin\",\"GoldBlocks\",\"CarterCoin\",\"BitTokens\",\"MustangCoin\",\"ZoneCoin\",\"RootCoin\",\"BitCurrency\",\"Swiscoin\",\"BuzzCoin\",\"Opair\",\"PesoBit\",\"Halloween Coin\",\"CoffeeCoin\",\"RoyalCoin\",\"GanjaCoin V2\",\"TeamUP\",\"LanaCoin\",\"ARK\",\"InsaneCoin\",\"EmberCoin\",\"XenixCoin\",\"FreeCoin\",\"PLNCoin\",\"AquariusCoin\",\"Creatio\",\"Eternity\",\"Eurocoin\",\"BitcoinFast\",\"Stakenet\",\"BitConnect Coin\",\"MoneyCoin\",\"Enigma\",\"Russiacoin\",\"PandaCoin\",\"GameUnits\",\"GAKHcoin\",\"Allsafe\",\"LiteCreed\",\"Klingon Empire Darsek\",\"Internet of People\",\"KushCoin\",\"Printerium\",\"Impeach\",\"Zilbercoin\",\"FirstCoin\",\"FindCoin\",\"OpenChat\",\"RenosCoin\",\"VirtacoinPlus\",\"TajCoin\",\"Impact\",\"Atmos\",\"HappyCoin\",\"MacronCoin\",\"Condensate\",\"Independent Money System\",\"ArgusCoin\",\"LomoCoin\",\"ProCurrency\",\"GoldReserve\",\"GrowthCoin\",\"Phreak\",\"Degas Coin\",\"HTML5 Coin\",\"Ultimate Secure Cash\",\"QTUM\",\"Espers\",\"Denarius\",\"Virta Unique Coin\",\"Bitcoin Planet\",\"BritCoin\",\"Linda\",\"DeepOnion\",\"Signatum\",\"Cream\",\"Monoeci\",\"Draftcoin\",\"Vechain\",\"Stakecoin\",\"CoinonatX\",\"Ethereum Dark\",\"Obsidian\",\"Cardano\",\"Regalcoin\",\"TrezarCoin\",\"TerraNovaCoin\",\"Rupee\",\"WomenCoin\",\"Theresa May Coin\",\"NamoCoin\",\"LUXCoin\",\"Xios\",\"Bitcloud 2.0\",\"KekCoin\",\"BlackholeCoin\",\"Infinity Economics\",\"Magnet\",\"Lamden Tau\",\"Electra\",\"Bitcoin Diamond\",\"Cash & Back Coin\",\"Bulwark\",\"Kalkulus\",\"GermanCoin\",\"LiteCoin Ultra\",\"PhantomX\",\"Digiwage\",\"Trollcoin\",\"Litecoin Plus\",\"Monkey Project\",\"TokenPay\",\"1717 Masonic Commemorative Token\",\"My Big Coin\",\"Unified Society USDEX\",\"Tokyo Coin\",\"Stipend\",\"Pushi\",\"Ellerium\",\"Velox\",\"Ontology\",\"Bitspace\",\"Briacoin\",\"Ignition\",\"MedicCoin\",\"Bitcoin Green\",\"Deviant Coin\",\"Abjcoin\",\"Semux\",\"Carebit\",\"Zealium\",\"Proton\",\"iDealCash\",\"Bitcoin Incognito\",\"HollyWoodCoin\",\"Swisscoin\",\"Xt3ch\",\"TheVig\",\"EmaratCoin\",\"Dekado\",\"Lynx\",\"Poseidon Quark\",\"BitcoinWSpectrum\",\"Muse\",\"Trivechain\",\"Dystem\",\"Giant\",\"Peony Coin\",\"Absolute Coin\",\"Vitae\",\"TPCash\",\"ARENON\",\"EUNO\",\"MMOCoin\",\"Ketan\",\"XDNA\",\"PAXEX\",\"ThunderStake\",\"Kcash\",\"Bettex coin\",\"BitMoney\",\"Junson Ming Chan Coin\",\"HerbCoin\",\"PirateCash\",\"Oduwa\",\"Galilel\",\"Crypto Sports\",\"Credit\",\"Dash Platinum\",\"Nasdacoin\",\"Beetle Coin\",\"Titan Coin\",\"Award\",\"Insane Coin\",\"ALAX\",\"LiteDoge\",\"TruckCoin\",\"OrangeCoin\",\"BitstarCoin\",\"NeosCoin\",\"HyperCoin\",\"PinkCoin\",\"AudioCoin\",\"IncaKoin\",\"Piggy Coin\",\"Genstake\",\"XiaoMiCoin\",\"CapriCoin\",\" ClubCoin\",\"Radium\",\"Creditbit \",\"OKCash\",\"Lisk\",\"HiCoin\",\"WhiteCoin\",\"FriendshipCoin\",\"Triangles Coin\",\"EOS\",\"Oxycoin\",\"TigerCash\",\"Particl\",\"Nxt\",\"ZEPHYR\",\"Gapcoin\",\"BitcoinPlus\"],\"legendgroup\":\"0\",\"marker\":{\"color\":[0,0,0,0,0,0,0,0,0,0,0,0,0,0,0,0,0,0,0,0,0,0,0,0,0,0,0,0,0,0,0,0,0,0,0,0,0,0,0,0,0,0,0,0,0,0,0,0,0,0,0,0,0,0,0,0,0,0,0,0,0,0,0,0,0,0,0,0,0,0,0,0,0,0,0,0,0,0,0,0,0,0,0,0,0,0,0,0,0,0,0,0,0,0,0,0,0,0,0,0,0,0,0,0,0,0,0,0,0,0,0,0,0,0,0,0,0,0,0,0,0,0,0,0,0,0,0,0,0,0,0,0,0,0,0,0,0,0,0,0,0,0,0,0,0,0,0,0,0,0,0,0,0,0,0,0,0,0,0,0,0,0,0,0,0,0,0,0,0,0,0,0,0,0,0,0,0,0,0,0,0,0,0,0,0,0,0,0,0,0,0,0,0,0,0,0,0,0,0,0,0,0,0,0,0,0,0,0,0,0,0,0,0,0,0,0,0,0,0,0,0,0,0,0,0,0,0,0,0,0,0,0,0,0,0,0,0,0,0,0,0,0,0,0,0,0,0,0,0,0,0,0,0,0,0,0,0,0,0,0,0,0,0,0,0,0,0,0,0,0,0,0,0,0,0,0,0,0,0,0,0,0,0,0,0,0,0,0],\"coloraxis\":\"coloraxis\",\"symbol\":\"circle\"},\"mode\":\"markers\",\"name\":\"0\",\"scene\":\"scene\",\"showlegend\":true,\"x\":[-0.3375003926411108,-0.320863163976233,2.3083437630326333,-0.3837287592733422,-0.3191205470665361,-0.3108705990785408,-0.2817638876863204,-0.2453672919138742,-0.3371604909323518,-0.3297488203381004,-0.3359991431823583,-0.3374963355179199,-0.3374806401996938,0.6851495198035897,-0.37265600967725654,-0.37623019921588974,-0.33762150597500196,-0.33556218014890954,-0.33447492842303733,-0.38362360803253703,-0.39229042167776035,-0.04869122440878949,-0.2742340414345191,-0.30814517265466806,-0.2713386191469557,-0.2719599261072759,-0.3408785214705748,-0.33181159826863527,-0.33590461331617477,0.020121915450188623,-0.3543327069189021,-0.38399460526749263,-0.26051031651541423,-0.3246236411909491,-0.38390638940366617,-0.3127709963783224,-0.33617987053330606,-0.32928059974534013,-0.3838709095739503,-0.26097721341941893,-0.27174110719619604,-0.3286180453806062,0.08776646806520601,-0.4328629442637564,-0.3100835318593077,-0.37207840396602154,-0.3081254342023288,-0.27203522323186413,-0.30278803800538545,-0.33748248717298085,-0.2719874747210267,-0.35477693932973525,-0.33721728664110007,-0.3839761609396573,-0.3712105741476778,-0.3948368167814343,-0.3285075629092714,-0.30652945291065614,-0.27150987108339086,-0.3034397206341029,-0.2478046679205864,-0.025488075914197217,-0.31084155519679235,-0.061955378764696686,-0.3109051384162711,-0.22924293845906352,-0.33709338298344727,-0.30639888666763865,-0.3811500972982172,0.8431808478489093,-0.310705539590015,-0.044498001922938124,-0.375913964973314,-0.3818224076586803,-0.3094512055623167,-0.3071233169761763,-0.35042578593353607,-0.3827134155227752,-0.37248325920009456,-0.3134274196229787,-0.3371314292729642,-0.33557278697968645,-0.24162508880744626,-0.34228691811913464,-0.38345091178337093,-0.3363368844162023,-0.3108861353145879,-0.3839653731391141,-0.33732027871096515,-0.3374767286319744,-0.30638811600117205,-0.24676802009212928,0.050921153962867186,-0.37487264506790297,-0.33709144494855847,-0.37015028897157043,-0.3742022016395659,-0.24305329285620755,-0.4331806197723055,-0.3739519361559411,-0.26312816636536424,3.7567262315410277,-0.38355855146368334,0.8585362424596629,-0.3839203497264862,-0.3753356830320069,-0.3370191685939415,-0.33717327663825897,-0.375913964973314,-0.38349596434493727,-0.3107490057297413,-0.33701989421277184,-0.3482836960338466,-0.3371670628905791,-0.3327625239308859,-0.3839493034511311,-0.33637910234754653,0.334139728541394,-0.3373660252439553,-0.3374364780873807,-0.368651963185761,-0.3476141841993348,-0.3336695352089292,-0.310862583209352,-0.38385939273060626,-0.33721463937228485,-0.33734141161586456,-0.30803217088370854,-0.3260330620102548,-0.24282150343112816,-0.3182243287404731,-0.3077736428612828,-0.38312635290615865,-0.3885013935469611,-0.3818665694466131,-0.3741632104649136,-0.38302438618891976,-0.36857172062995575,-0.3789719195071581,-0.3372847791933319,-0.3372839825921218,-0.3304172873717955,0.2500033725725208,-0.3835020717530849,-0.29070267156266466,-0.3759482260419035,-0.3364967509587072,0.8847765001265544,-0.28045650862514054,-0.3712634917688031,0.5517963565294263,-0.3519590758456015,-0.35046365802308566,-0.40055482704158596,-0.271673058589482,0.12668957267445502,-0.27174370990178137,-0.38974432687298727,-0.4000604304381096,-0.38377401051894355,-0.3081062031258473,4.414817158966507,-0.37581474667910253,-0.33692054916022524,-0.33741943397892726,-0.37709464334971105,0.6434554258572951,-0.38371495306104286,-0.33588567118671353,-0.3373751326584226,-0.3321140084640701,0.43058469318391973,-0.3092113824072408,-0.3367499816595632,-0.3892090025077643,-0.3373255521442248,-0.39613970597333087,-0.34071525292141197,-0.33719612908665164,-0.10851409978596314,-0.38250955087958644,3.7615745790697437,0.20667234874570634,-0.26841970585773695,-0.3346604074747772,-0.32267964849821634,-0.3685380407121807,0.0762656114823817,-0.33633613368964516,-0.3830896935100466,-0.367704154035311,-0.32392116667888615,-0.3374415330513568,-0.3547489111727384,-0.3727647528220829,-0.284456298574953,-0.3063251416186612,-0.33299362467611865,-0.2346304501879944,-0.3388227225471878,-0.3837912560901702,-0.28894988016735934,-0.3072675804921066,-0.38238844480229406,-0.3515586836747241,-0.3374688464461913,-0.33745058725865995,-0.3016577762072859,-0.36900831433647563,-0.375409835935762,-0.3371675504311278,3.967902496986956,-0.3948096664993388,-0.3755982180747103,-0.3201413733984995,-0.2841229117505843,-0.23361492004517492,-0.3078008705914983,-0.14088453340629278,-0.30805259227953535,-0.32833636726698917,-0.33664243329962934,-0.218106135752157,2.2028101831946625,-0.3642532350738382,-0.28058388601109874,1.0244752125286332,-0.34852228510459055,-0.3686514095528836,-0.3978210934137025,-0.18898447724996353,-0.3610857798605826,-0.36737292945551325,-0.33035746559994056,-0.35432698740103896,-0.3832653976198556,-0.30530241998640517,-0.3746995326712311,-0.32600223255614147,-0.35418863962562436,-0.1971838340791133,-0.40325195145225096,-0.25989963097802227,0.5877214820530847,-0.1450064321358141,-0.3971168255130524,-0.27051341904045617,-0.33717150412863706,-0.3975722254502743,-0.3687682040895408,0.5679043256029741,-0.354803145233568,-0.3366552766079447,-0.28341425405676635,-0.2831297476880195,-0.38083417161387284,-0.38349227218352355,3.773797706916742,0.09707083024743364,-0.38103545108495757,-0.3360418422421711,-0.3368654082305712,-0.2817964835047548,-0.33738290188184,-0.37513302018421385,-0.251227811516625,-0.09084963567100938,-0.3708883495228378,-0.3366622948628385,-0.32973731063038825,-0.3800661541987067,-0.3351039831086846,-0.37618917760952447,-0.37649806448485285,-0.30938795277790215,3.7571174208465603,-0.11563089759504762,-0.33230306095142953,-0.3405050122724755,-0.2721422528804588,3.766971324198743,3.76821364895954,-0.2627226173458686,-0.3761251368672316,-0.36673035356136413,2.4869498031269575,-0.33554899711281505,-0.308448416906638],\"y\":[1.0418829604287558,1.0419426638256426,1.6100365704777613,1.2472165827169972,1.4305769192633977,0.7963972099206827,0.5396353847623718,1.9028774276527571,1.041879939701749,1.0420889358353636,1.041922851775216,1.0418827088832179,1.0418827665585102,0.5506756002319921,0.9012672821195484,1.523958208034245,0.3882549920141123,1.0418482111315537,0.9909990929168971,1.2472193768038715,2.012913316142563,0.7920151407351279,0.7956476987105894,0.785109280835104,1.7672953668413334,1.7672788574249179,0.5892187788446696,1.0417322427345947,1.0418549247752107,1.0513857279810506,0.990471430496846,1.2472253307221581,-0.003025878044242726,1.4912950428027634,1.2472204878813975,1.04139004976092,1.0418461730915807,0.383014931257741,1.2472246650913805,-0.0029664080822032414,1.7672846718978814,1.0414002190492202,1.086435368888105,1.3672752004340047,0.796385060795499,0.9012857784885617,0.7851214349254754,1.7672682314580175,0.7849038787157031,1.0418834362444196,1.7672709377627767,0.9904452510424933,1.041876107896875,1.2472258215450225,2.2013730528672872,2.049217817586172,1.0426115709258494,0.7850919670807706,1.7672548781304136,0.7958917127739192,1.903045326797548,0.9954565854930918,0.7963979816769465,1.2366994030125538,0.7964045579227326,1.5561429905170348,1.0418635874702524,0.7850084282441845,1.2470249106168596,0.7445564154321507,0.7963886581452708,0.5584943695280726,1.5239522357583928,1.2472291439562238,0.796290652285688,0.7961352447852095,1.5528582218136315,1.2471594671417878,1.4020933972795626,1.0410851017017202,1.0418608993859633,1.0418623045625373,1.510399085101412,0.9903192842915433,1.2472038403147974,1.0418491885448418,0.7963975158544474,1.2472239519078132,1.0418726524198345,1.0418835892608145,0.7851675990785612,0.4136248537610724,1.931316742154117,1.52394109254457,1.041893827048533,1.2465150579419702,1.5239833456623781,1.510503090519794,1.8662782347300417,1.523802398304339,1.9319520346546655,1.9931140247394457,1.2472153553814282,1.796707539458789,1.2472245349329836,1.5239460389959258,1.0418680464235637,1.0418614645299014,1.5239522357583928,1.247195455536406,0.7964018784361659,1.0418720090939573,0.7838362059320194,1.0418716923356397,1.0415411847206972,1.2472229413851492,1.0418092534801444,0.7788172082573852,1.041877186950039,1.0418822755322004,1.3712442258876225,0.4871758685370232,1.041625372385046,0.7963981416828022,1.2472222010020457,1.0418761782403059,1.0418714200286598,0.7850843811151643,0.19785908163165392,1.5105006067071298,1.0416764016885218,0.7851060382846007,1.2471765263270151,1.8188363008804738,1.247202813751903,1.5239338597347085,1.2471792357944809,1.5238742041870732,1.2469994127211825,1.0418734432508507,1.0418681542780275,1.041352409452415,0.49986724301033075,1.247209668526395,0.7841468662657408,1.5239441377323844,1.0418341591013769,1.8684705186122574,0.5395352958023247,1.402078011239328,1.8121859989110338,1.5528749802219968,1.5528356525587874,1.9305672360092352,1.7672649171759378,1.0182792607073838,1.767271019404959,1.3820483903324605,1.9305803731538722,1.2472243596191024,0.7851094352101796,2.975309347090177,1.523924971644569,1.041863686312482,1.0418820928906822,1.4315586998699104,1.3500007667875613,1.24721335575761,0.5890666534565153,1.0418749803262375,0.5647635594356599,1.0443234808976272,0.7963852351755171,1.5524237884921674,1.7487309857672788,1.0418725122937598,1.62792292735306,1.4077475163599273,1.0418804160957276,0.5377791015927124,1.2471612904296658,1.9929733189689622,1.5461632503490093,1.76722198802679,1.041807484360235,1.2960981825221092,1.3712436592252402,1.016939391325886,1.04180608266368,1.2472134386345843,1.371193940943718,1.0415969012544766,1.0418816494251926,0.9904452770450145,1.4020920269018697,-0.05871592403991982,0.4057087549944654,1.0418359614370118,1.5101536888824227,0.9731562247834287,1.2472127657552923,1.5974173540424055,0.785055103166,1.4191217950288246,1.5528568689205904,1.041881642415386,1.041880690072273,0.7849339121192785,1.4113725224441818,1.5239167555738873,1.0418702418530241,2.0360917483486043,1.6279582692644299,1.5239174999797824,0.600411786044749,1.0396198377408559,1.3928275841756332,0.785111371395286,1.0397760611985878,0.7850917448783412,1.935542482207748,1.0418453820593243,1.646246612596948,0.29513764719369123,1.3709046942007463,0.5396036595596005,1.7047296336992268,0.8571727383526053,1.3712399280158447,1.62801829980908,0.7761545242390742,0.8215153137172498,1.371217117545278,1.0413539990411458,0.9904320504659169,1.2472087698114422,0.785009569682097,1.5238479406202527,0.9025714934913623,0.9904033822815195,1.0326737140054145,1.5368794361393985,1.3406543879480015,1.454699426706256,0.9960336643970458,1.6280019027758859,-0.11056248690387235,1.0418766056694975,1.6280149327127806,1.3712423087104075,1.0121779102430792,0.9904447703263449,1.0418450407859465,1.5972481910426959,1.933221773241349,1.2470074299207679,1.2472171165595665,1.9929387309510784,1.0282736865832076,1.247303962313836,1.0417779644074234,1.041860835977972,0.539628409131257,1.0418860824324474,1.2471014202497437,1.0366283819640767,0.8021228715882662,1.2468548280528555,1.0418944490002915,1.0418017361420318,1.2471802156696836,1.0418316358255892,1.5239528291891007,0.6223402517142251,0.7963769495148971,1.9930993213690478,0.7830424255930265,1.0418054352093764,0.5891881668134096,1.7672739263721948,1.993476103609013,1.9935091147582669,0.5394315715872015,1.5239547938515714,1.9378647385454104,0.8276369705538794,1.0417551221348982,0.7851121338403488],\"z\":[-0.6007946920870924,-0.6011879090998924,-0.6796113284643244,-0.49479172111570074,-0.11271726563300102,-0.35207660587110223,-0.03680039161735043,-0.6288168226209666,-0.600802192142471,-0.6010003106101719,-0.6008345142945327,-0.6007947545009183,-0.6007951256261741,-0.3421238318328287,-0.4248359563223319,-0.13578646561406402,-0.25203156471444954,-0.6008352549404071,-0.1800510603992769,-0.49479451036175237,-0.5252102488002418,-0.29240649669426133,-0.35283167678491295,-0.28552274783195025,-0.6395884659860629,-0.6395719851725963,-0.3441829827983398,-0.6009076173936037,-0.6008281607574921,-0.6102809958466009,-0.1795243121666772,-0.49478665839680797,0.1689098043939582,-0.18735835150218055,-0.4947880943170222,-0.6013059950105663,-0.6008206784359059,-0.3233025545166197,-0.4947894423409085,0.1689131474424158,-0.6395777895718496,-0.6009398868159329,-0.16392788303350073,-0.11917560841652285,-0.35209332438416524,-0.42485167394894463,-0.2855247343907334,-0.6395689028127194,-0.28562110498917276,-0.6007951670520627,-0.6395703502291945,-0.1795107200643196,-0.6008003933965317,-0.4947871477422103,-0.17619562394940574,-0.9067098882689764,-0.3330862543440642,-0.28555802757715754,-0.6395794024114797,-0.35218528808891547,-0.6287814374255276,-0.4743442181454119,-0.35207737629027985,-0.5009284654752781,-0.3520767294951655,-0.5632417864885122,-0.6008016908568683,-0.2855505455517242,-0.4948273912101362,-0.30711287236660934,-0.3520793567077724,-0.3261917504781612,-0.13579304568079928,-0.4948374968803075,-0.35209610745183295,-0.35213052578266213,-0.5600191477031717,-0.49480807516811437,-0.049214355782623107,-0.6012524151905948,-0.6008004706623449,-0.6008367819587132,-0.32430940550251974,-0.17978443410974687,-0.4947965595836797,-0.600817417667084,-0.35207628417505515,-0.49478716264351325,-0.6007975710059597,-0.6007953198033532,-0.28557081856334676,-0.38652353202880435,-0.775909857061048,-0.13581578516065093,-0.6008055398538656,-0.4950182652146902,-0.13583664361766626,-0.3242893786014821,-0.6782345688132928,-0.13581968286012555,-0.7687090643260782,-0.036117998903733704,-0.49479551270470873,-0.6694827161362691,-0.4947882797796079,-0.1358056726475878,-0.6008039723197209,-0.6007995715945612,-0.13579304568079928,-0.49479446032985275,-0.352080012098725,-0.6008044539919476,-0.14239581450959354,-0.600801002283551,-0.6008615371213188,-0.4947874080711514,-0.6008114151786144,-0.2996215269809891,-0.6007970808817926,-0.6007960876813371,-0.22285602306670416,-0.3157083799311559,-0.6008511001813489,-0.3520769089191476,-0.49478939936319505,-0.6008004636180908,-0.6007969260428448,-0.2855222352645832,-0.3730037444676199,-0.3242944397959677,-0.6012155909623695,-0.2855309532269813,-0.494800647906719,-0.7065476924837741,-0.4948331607857697,-0.13583132235141265,-0.4948033526799695,-0.13595344721512007,-0.4948746810639426,-0.6007984934878737,-0.6007978466155706,-0.6008921600503697,-0.04412579340189669,-0.4947961067000248,-0.28580605374194884,-0.13579123268255006,-0.6008118207590906,-0.6506890190926954,-0.03681811007318874,-0.049240698534033185,-0.7749639918197837,-0.559985709095283,-0.5600154305433083,-0.7016326868064444,-0.6395768820686435,-0.6085868750000971,-0.6395760117813769,-0.0005934854776172523,-0.7016458011906713,-0.49479165035660616,-0.28552367069566015,4.955088860078736,-0.13579191613133917,-0.6008057101556383,-0.6007964598447681,-0.11149673832099333,-0.03205021166392845,-0.49479163524596353,-0.344279596714424,-0.6007965921535245,-0.04933344090339959,-0.6189084786211597,-0.35211356565483387,-0.5602815477967188,-0.5018968546956839,-0.6007974311226565,-0.5381593136516576,-0.16559395640020028,-0.6008014258603808,-0.04058338372046945,-0.494813030795973,-0.03621269932453305,-0.572092329673328,-0.6396469052545686,-0.6008510377088309,-0.24471161546356077,-0.22285859288494744,-0.6072493269735576,-0.6008120124543073,-0.49480614127415407,-0.22287167071890904,-0.6010735182872798,-0.6007958917276376,-0.17951137312156507,-0.04920765743106167,0.15313024548908996,-0.4567737372340667,-0.6008932616434358,-0.32444069430260813,-0.622455132282592,-0.4947897920662907,-0.5998472929868741,-0.28553627792455527,-0.07330924500277268,-0.5599927131630892,-0.6007952576302021,-0.6007955611365936,-0.2856510863591758,-0.10287300802647607,-0.13580026975117435,-0.6008008085134785,-0.18659877301150787,-0.5381945943323417,-0.1357959960691755,-0.06579646023577619,-0.6017474647382449,-0.438146381036468,-0.2855309928899689,-0.6050878607775255,-0.28552268817235427,-0.767648990418727,-0.6008098551777474,-0.3135143029982697,-0.3822455994511979,-0.22291528798288968,-0.036823757038154506,-0.0627594547580172,-0.38108939114525325,-0.22285549523973405,-0.5381323311088076,-0.28715880327150106,-0.3646115166241647,-0.22288226517098653,-0.6008937468851008,-0.1795194908501405,-0.4948014805398569,-0.28557610889773977,-0.13580808019348034,-0.45114289493417625,-0.17951909182387138,-0.6028891968037932,-0.07145058586993272,-0.2845696262238412,-0.4512915275972901,-0.18507690936689467,-0.5381465956807154,0.05070181939749685,-0.6008015174065254,-0.5381376771258153,-0.22285308703841192,-0.6180481696631658,-0.17951005205109144,-0.6008095144956337,-0.5999543469665712,-0.7684050910273802,-0.4948325163916222,-0.49479727083156494,-0.036491721118200766,-0.6091574886898501,-0.4948651531303192,-0.6008152979022857,-0.6008066299410676,-0.03679875841975823,-0.6007978086555082,-0.4949765118620811,-0.6021337649029161,-0.35789770045831737,-0.4950438967789297,-0.6008155672246882,-0.6009644484066109,-0.49487205763310765,-0.6008437923425073,-0.13578673998586036,-0.020965621713095663,-0.3521084298481846,-0.0361252183280177,-0.2897258655552294,-0.6009054310878346,-0.34418779106712194,-0.6395671379150105,-0.03640106299146466,-0.036434016948131635,-0.03721619258009176,-0.13578847181378464,-0.18250113834574336,-0.010956106158924978,-0.600823850193231,-0.28551607651972716],\"type\":\"scatter3d\"},{\"customdata\":[[\"SHA-256\"],[\"Ethash\"],[\"Scrypt\"],[\"CryptoNight-V7\"],[\"Ethash\"],[\"Equihash\"],[\"Multiple\"],[\"Scrypt\"],[\"X11\"],[\"Scrypt\"],[\"Multiple\"],[\"Scrypt\"],[\"SHA-256\"],[\"Scrypt\"],[\"Scrypt\"],[\"Quark\"],[\"Groestl\"],[\"Scrypt\"],[\"Scrypt\"],[\"Scrypt\"],[\"X11\"],[\"Multiple\"],[\"SHA-256\"],[\"Scrypt\"],[\"Scrypt\"],[\"Scrypt\"],[\"Scrypt\"],[\"Scrypt\"],[\"NeoScrypt\"],[\"Scrypt\"],[\"Scrypt\"],[\"Scrypt\"],[\"Scrypt\"],[\"SHA-256\"],[\"Scrypt\"],[\"Scrypt\"],[\"Scrypt\"],[\"Scrypt\"],[\"HybridScryptHash256\"],[\"Scrypt\"],[\"Scrypt\"],[\"SHA-256\"],[\"Scrypt\"],[\"Scrypt\"],[\"Scrypt\"],[\"Scrypt\"],[\"SHA-256\"],[\"SHA-256\"],[\"SHA-256\"],[\"SHA-256\"],[\"SHA-256\"],[\"X11\"],[\"Scrypt\"],[\"Lyra2REv2\"],[\"Scrypt\"],[\"SHA-256\"],[\"CryptoNight\"],[\"CryptoNight\"],[\"Scrypt\"],[\"Scrypt\"],[\"Scrypt\"],[\"Scrypt\"],[\"Scrypt\"],[\"Scrypt\"],[\"Stanford Folding\"],[\"Multiple\"],[\"QuBit\"],[\"Scrypt\"],[\"Scrypt\"],[\"M7 POW\"],[\"Scrypt\"],[\"SHA-256\"],[\"Scrypt\"],[\"X11\"],[\"Lyra2RE\"],[\"SHA-256\"],[\"X11\"],[\"Scrypt\"],[\"Scrypt\"],[\"Ethash\"],[\"Blake2b\"],[\"X11\"],[\"SHA-256\"],[\"Scrypt\"],[\"1GB AES Pattern Search\"],[\"Scrypt\"],[\"SHA-256\"],[\"X11\"],[\"Dagger\"],[\"Scrypt\"],[\"X11GOST\"],[\"Scrypt\"],[\"X11\"],[\"Scrypt\"],[\"X11\"],[\"Equihash\"],[\"CryptoNight\"],[\"SHA-256\"],[\"Multiple\"],[\"Scrypt\"],[\"SHA-256\"],[\"Scrypt\"],[\"Lyra2Z\"],[\"Ethash\"],[\"Equihash\"],[\"Scrypt\"],[\"X11\"],[\"X11\"],[\"CryptoNight\"],[\"Scrypt\"],[\"CryptoNight\"],[\"Lyra2RE\"],[\"X11\"],[\"CryptoNight-V7\"],[\"Scrypt\"],[\"X11\"],[\"Equihash\"],[\"Scrypt\"],[\"Lyra2RE\"],[\"Dagger-Hashimoto\"],[\"Scrypt\"],[\"NIST5\"],[\"Scrypt\"],[\"SHA-256\"],[\"Scrypt\"],[\"CryptoNight-V7\"],[\"Argon2d\"],[\"Blake2b\"],[\"Cloverhash\"],[\"CryptoNight\"],[\"X11\"],[\"Scrypt\"],[\"Scrypt\"],[\"X11\"],[\"X11\"],[\"CryptoNight\"],[\"Time Travel\"],[\"Scrypt\"],[\"Keccak\"],[\"X11\"],[\"SHA-256\"],[\"Scrypt\"],[\"Scrypt\"],[\"Scrypt\"],[\"Scrypt\"],[\"Scrypt\"],[\"Scrypt\"],[\"CryptoNight\"],[\"Equihash\"],[\"X11\"],[\"NeoScrypt\"],[\"Equihash\"],[\"Dagger\"],[\"Scrypt\"],[\"X11\"],[\"NeoScrypt\"],[\"Ethash\"],[\"NeoScrypt\"],[\"Multiple\"],[\"CryptoNight\"],[\"CryptoNight\"],[\"Ethash\"],[\"X11\"],[\"CryptoNight-V7\"],[\"Scrypt\"],[\"BLAKE256\"],[\"X11\"],[\"NeoScrypt\"],[\"NeoScrypt\"],[\"Scrypt\"],[\"X11\"],[\"SHA-256\"],[\"C11\"],[\"CryptoNight\"],[\"SkunkHash\"],[\"CryptoNight\"],[\"Scrypt\"],[\"Dagger\"],[\"Lyra2REv2\"],[\"Scrypt\"],[\"Scrypt\"],[\"X11\"],[\"Ethash\"],[\"CryptoNight\"],[\"Scrypt\"],[\"IMesh\"],[\"Equihash\"],[\"Lyra2Z\"],[\"X11\"],[\"CryptoNight\"],[\"NIST5\"],[\"Lyra2RE\"],[\"Tribus\"],[\"Lyra2Z\"],[\"CryptoNight\"],[\"CryptoNight Heavy\"],[\"CryptoNight\"],[\"Jump Consistent Hash\"],[\"CryptoNight\"],[\"X16R\"],[\"HMQ1725\"],[\"X11\"],[\"Scrypt\"],[\"CryptoNight-V7\"],[\"Cryptonight-GPU\"],[\"XEVAN\"],[\"CryptoNight Heavy\"],[\"SHA-256\"],[\"X11\"],[\"X16R\"],[\"Equihash\"],[\"Lyra2Z\"],[\"SHA-256\"],[\"CryptoNight\"],[\"Blake\"],[\"Blake\"],[\"Exosis\"],[\"Scrypt\"],[\"Equihash\"],[\"Equihash\"],[\"QuBit\"],[\"SHA-256\"],[\"X13\"],[\"SHA-256\"],[\"Scrypt\"],[\"NeoScrypt\"],[\"Blake\"],[\"Scrypt\"],[\"SHA-256\"],[\"Scrypt\"],[\"Groestl\"],[\"Scrypt\"],[\"Scrypt\"],[\"Multiple\"],[\"Equihash+Scrypt\"],[\"Ethash\"],[\"CryptoNight\"],[\"Equihash\"]],\"hovertemplate\":\"<b>%{hovertext}</b><br><br>Class=%{marker.color}<br>PC 1=%{x}<br>PC 2=%{y}<br>PC 3=%{z}<br>Algorithm=%{customdata[0]}<extra></extra>\",\"hovertext\":[\"Bitcoin\",\"Ethereum\",\"Litecoin\",\"Monero\",\"Ethereum Classic\",\"ZCash\",\"DigiByte\",\"ProsperCoin\",\"Spreadcoin\",\"Argentum\",\"MyriadCoin\",\"MoonCoin\",\"ZetaCoin\",\"SexCoin\",\"Quatloo\",\"QuarkCoin\",\"Riecoin\",\"Digitalcoin \",\"Catcoin\",\"CannaCoin\",\"CryptCoin\",\"Verge\",\"DevCoin\",\"EarthCoin\",\"E-Gulden\",\"Einsteinium\",\"Emerald\",\"Franko\",\"FeatherCoin\",\"GrandCoin\",\"GlobalCoin\",\"GoldCoin\",\"Infinite Coin\",\"IXcoin\",\"KrugerCoin\",\"LuckyCoin\",\"Litebar \",\"MegaCoin\",\"MediterraneanCoin\",\"MinCoin\",\"NobleCoin\",\"Namecoin\",\"NyanCoin\",\"RonPaulCoin\",\"StableCoin\",\"SmartCoin\",\"SysCoin\",\"TigerCoin\",\"TerraCoin\",\"UnbreakableCoin\",\"Unobtanium\",\"UroCoin\",\"ViaCoin\",\"Vertcoin\",\"WorldCoin\",\"JouleCoin\",\"ByteCoin\",\"DigitalNote \",\"MonaCoin\",\"Gulden\",\"PesetaCoin\",\"Wild Beast Coin\",\"Flo\",\"ArtByte\",\"Folding Coin\",\"Unitus\",\"CypherPunkCoin\",\"OmniCron\",\"GreenCoin\",\"Cryptonite\",\"MasterCoin\",\"SoonCoin\",\"1Credit\",\"MarsCoin \",\"Crypto\",\"Anarchists Prime\",\"BowsCoin\",\"Song Coin\",\"BitZeny\",\"Expanse\",\"Siacoin\",\"MindCoin\",\"I0coin\",\"Revolution VR\",\"HOdlcoin\",\"Gamecredits\",\"CarpeDiemCoin\",\"Adzcoin\",\"SoilCoin\",\"YoCoin\",\"SibCoin\",\"Francs\",\"BolivarCoin\",\"Omni\",\"PizzaCoin\",\"Komodo\",\"Karbo\",\"ZayedCoin\",\"Circuits of Value\",\"DopeCoin\",\"DollarCoin\",\"Shilling\",\"ZCoin\",\"Elementrem\",\"ZClassic\",\"KiloCoin\",\"ArtexCoin\",\"Kurrent\",\"Cannabis Industry Coin\",\"OsmiumCoin\",\"Bikercoins\",\"HexxCoin\",\"PacCoin\",\"Citadel\",\"BeaverCoin\",\"VaultCoin\",\"Zero\",\"Canada eCoin\",\"Zoin\",\"DubaiCoin\",\"EB3coin\",\"Coinonat\",\"BenjiRolls\",\"ILCoin\",\"EquiTrader\",\"Quantum Resistant Ledger\",\"Dynamic\",\"Nano\",\"ChanCoin\",\"Dinastycoin\",\"DigitalPrice\",\"Unify\",\"SocialCoin\",\"ArcticCoin\",\"DAS\",\"LeviarCoin\",\"Bitcore\",\"gCn Coin\",\"SmartCash\",\"Onix\",\"Bitcoin Cash\",\"Sojourn Coin\",\"NewYorkCoin\",\"FrazCoin\",\"Kronecoin\",\"AdCoin\",\"Linx\",\"Sumokoin\",\"BitcoinZ\",\"Elements\",\"VIVO Coin\",\"Bitcoin Gold\",\"Pirl\",\"eBoost\",\"Pura\",\"Innova\",\"Ellaism\",\"GoByte\",\"SHIELD\",\"UltraNote\",\"BitCoal\",\"DaxxCoin\",\"AC3\",\"Lethean\",\"PopularCoin\",\"Photon\",\"Sucre\",\"SparksPay\",\"GunCoin\",\"IrishCoin\",\"Pioneer Coin\",\"UnitedBitcoin\",\"Interzone\",\"TurtleCoin\",\"MUNcoin\",\"Niobio Cash\",\"ShareChain\",\"Travelflex\",\"KREDS\",\"BitFlip\",\"LottoCoin\",\"Crypto Improvement Fund\",\"Callisto Network\",\"BitTube\",\"Poseidon\",\"Aidos Kuneen\",\"Bitrolium\",\"Alpenschillling\",\"FuturoCoin\",\"Monero Classic\",\"Jumpcoin\",\"Infinex\",\"KEYCO\",\"GINcoin\",\"PlatinCoin\",\"Loki\",\"Newton Coin\",\"MassGrid\",\"PluraCoin\",\"Motion\",\"PlusOneCoin\",\"Axe\",\"HexCoin\",\"Webchain\",\"Ryo\",\"Urals Coin\",\"Qwertycoin\",\"Project Pai\",\"Azart\",\"Xchange\",\"CrypticCoin\",\"Actinium\",\"Bitcoin SV\",\"FREDEnergy\",\"Universal Molecule\",\"Lithium\",\"Exosis\",\"Block-Logic\",\"Beam\",\"Bithereum\",\"SLICE\",\"BLAST\",\"Bitcoin Rhodium\",\"GlobalToken\",\"SolarCoin\",\"UFO Coin\",\"BlakeCoin\",\"Crypto Escudo\",\"Crown Coin\",\"SmileyCoin\",\"Groestlcoin\",\"Bata\",\"Pakcoin\",\"JoinCoin\",\"Vollar\",\"Reality Clash\",\"Beldex\",\"Horizen\"],\"legendgroup\":\"3\",\"marker\":{\"color\":[3,3,3,3,3,3,3,3,3,3,3,3,3,3,3,3,3,3,3,3,3,3,3,3,3,3,3,3,3,3,3,3,3,3,3,3,3,3,3,3,3,3,3,3,3,3,3,3,3,3,3,3,3,3,3,3,3,3,3,3,3,3,3,3,3,3,3,3,3,3,3,3,3,3,3,3,3,3,3,3,3,3,3,3,3,3,3,3,3,3,3,3,3,3,3,3,3,3,3,3,3,3,3,3,3,3,3,3,3,3,3,3,3,3,3,3,3,3,3,3,3,3,3,3,3,3,3,3,3,3,3,3,3,3,3,3,3,3,3,3,3,3,3,3,3,3,3,3,3,3,3,3,3,3,3,3,3,3,3,3,3,3,3,3,3,3,3,3,3,3,3,3,3,3,3,3,3,3,3,3,3,3,3,3,3,3,3,3,3,3,3,3,3,3,3,3,3,3,3,3,3,3,3,3,3,3,3,3,3,3,3,3,3,3,3,3,3,3,3,3,3,3,3,3,3,3,3,3,3,3,3,3,3,3,3,3,3,3],\"coloraxis\":\"coloraxis\",\"symbol\":\"diamond\"},\"mode\":\"markers\",\"name\":\"3\",\"scene\":\"scene\",\"showlegend\":true,\"x\":[-0.1447266202066885,-0.14626909172685937,-0.170188821374694,-0.13483706979443885,-0.14471368483696145,-0.13427746472849714,0.16246989906381556,-0.1713333242335612,-0.2177689861878589,-0.17095048169256863,-0.09054324428909868,2.5460182068896953,-0.14181595425652654,-0.16821009952008673,-0.17075485049869554,-0.22706730157542332,-0.20558031985164957,-0.1708034652629391,-0.17131561551169514,-0.17140193455439756,-0.2178581979291179,0.18619274535896307,0.23254658508942225,0.0769514546406925,-0.1711486040356191,-0.16676064513634692,-0.17108800268055055,-0.1714588531421423,-0.17007296553752085,-0.15071314369753855,-0.17025577352522042,-0.17053282975835224,1.5748073442544657,-0.14468804466216037,-0.16782640589205616,-0.17117500629802718,-0.1715292834019594,-0.1707896565783404,-0.13490961727614334,-0.17141073342178365,-0.03653343059737318,-0.14476554465648925,-0.16508422082889682,-0.17139022250213287,-0.16948765527259835,-0.1708777470970754,-0.13193737494725938,-0.14423012003393637,-0.1445169074898818,-0.14449998018637583,-0.1450897118084434,-0.21803181452745796,-0.17110711908961648,-0.1944531441724114,-0.16821483255057576,-0.14429731559585013,3.8533187530386157,0.45742344607030105,-0.16997646358678334,-0.15459993368653038,-0.16869720864420606,-0.17153149170363882,-0.16856242957555329,-0.154807094763415,-0.12633004923525393,-0.12449804821595055,-0.18251511689405261,-0.17140475135434458,-0.044540430204455285,-0.08489166706718682,-0.17154036822227037,-0.14479328263095315,0.4795333693800102,-0.21741992849095995,-0.17101036812936002,-0.1445335701720861,-0.2177044015585094,-0.1696671734745368,-0.1688606319995566,-0.14733505863333485,0.393129635006488,-0.2177397395333917,-0.14468916541566607,-0.16750433573113516,-0.12362067583884252,-0.17010590612450321,0.2731625751812326,-0.21690177055606893,-0.1635176334912042,-0.17035312182372744,-0.155671958579657,-0.17133061152452242,-0.21770305046208985,-0.1715404266287465,-0.2178528081189965,-0.20584752387500665,0.3025657130002384,-0.14494886129163728,-0.10460090315386047,-0.16871150627818055,-0.1449075513563495,-0.1712043553562928,-0.14634784707024068,-0.14707759815683896,-0.13429905103815615,-0.0983875934569415,-0.20445601537327673,-0.21568439215621404,0.3025600662082701,-0.1715221940253139,0.3026905894474492,-0.17154994920310865,0.4962047879629081,-0.1336038459737279,-0.1714905273647509,-0.21059886105283582,-0.13431140142880196,-0.16962661312032365,-0.17126874856919508,-0.155911062421515,-0.1424623716547465,-0.18566767548669,-0.17105358190407768,-0.1113261372268994,-0.17087596216837567,-0.13346164746783545,-0.16821804515597064,-0.006604725108298505,-0.14062074840477337,0.3386273246394428,-0.2169101795176603,-0.1711946793799862,-0.17095849184126247,-0.21730422986174813,-0.2178807904097116,0.30295443563512364,-0.1504663067089758,3.2329676183992135,-0.09997809939256526,-0.20876774793159872,-0.14472578561243082,-0.09723782139321598,1.57299437218402,-0.17129238901653931,-0.1707449214659992,-0.17044634929431654,-0.1704332988036608,0.3031377246058507,0.07767703064844783,-0.17233563727915358,-0.1747545060825577,-0.13415767845767165,-0.1622787103859963,-0.16962482482162397,-0.21343212182535765,-0.1746001686895859,-0.1454455603254675,-0.17470020868108288,-0.11474488565198919,1.1391651342206022,0.30254287496657406,-0.07045828320452863,-0.21317440688954067,-0.12259073304466109,-0.08780775498366877,1.1441811897817311,-0.2178548275316087,-0.17475205790213752,-0.1678006502002111,-0.17054453053688667,-0.21778034653378942,-0.1447052108737641,-0.1728406254030239,8.0276620068645,-0.1640786673904932,0.3064112407876662,0.02120833778208496,-0.16178253548554758,-0.1800334729825961,-0.17111739836048742,0.13549073529507694,-0.21193040711622527,-0.09856155653305815,0.3104530465908675,-0.1713540394280039,-0.12199534778499756,-0.13315028812616433,-0.14413499057881354,-0.21695089404277879,0.30272512419897957,-0.18572700539442244,-0.1713954357357178,-0.11765080996464222,-0.1464320848484469,0.3066467525993723,0.6021760034054324,2.1083229731858215,-0.12728613615775386,0.3163090442810225,-0.1833534530706872,-0.13048602942034043,-0.21783701516294526,-0.17137858827411226,-0.1224720823203603,-0.1614077993630879,-0.12176547063994109,3.1208303797900143,-0.10461419610321297,-0.21780842838002293,-0.18278212358155682,-0.029066526866811083,-0.14583082003520037,-0.14472582312453447,0.38235804053349637,-0.14558710498021302,-0.14597843400745442,-0.12090562412281837,-0.17027262821732644,-0.132220956745262,-0.1339907518548484,-0.18172738425185606,-0.14400306802106827,-0.1061675971667937,-0.14287279476630665,0.5233798748170077,-0.10003082503419929,-0.09652631677414338,-0.15495746706378205,-0.14451627883477555,0.543194824538484,-0.20514197973373233,-0.1714552878640112,-0.16941420940344243,-0.12523189504030321,-0.1488073257723786,-0.14711070662803596,0.32426669365172145,-0.13427852017576045],\"y\":[-1.35621647474485,-1.9545299547935535,-1.1107607937766981,-2.170138950698895,-1.9546395648051837,-2.0063691533124723,-1.9062956939642584,-1.1107459234738357,-0.9054012779150591,-1.1107666573968353,-1.8993622660186025,-1.314530464166586,-1.356246081191025,-1.1108275298221566,-1.1107873345673958,-0.5246474436274121,-1.2513795917903527,-1.110751369958529,-1.1107454529163139,-1.1107420971088988,-0.9054022109286698,-1.9024704234608432,-1.3612704883619888,-1.1138366988044992,-1.1107410150745045,-1.1108248038261943,-1.110747311172709,-1.110742240893265,-1.5635105517056147,-1.1112039912083043,-1.1107525101408444,-1.1107614862283381,-1.1294522476503037,-1.3562154497125136,-1.1108284181987118,-1.11074099787363,-1.1107370068067854,-1.1107465711353501,-2.127879332109559,-1.1107400739946685,-1.1179303736561552,-1.3562175090483335,-1.1108070011855669,-1.1107474353790114,-1.1108614771320364,-1.1107555245105947,-1.3564998061711757,-1.3562219781656404,-1.3562259962827214,-1.3562528595144752,-1.3562112084934916,-0.9053938865334387,-1.1107413502609746,-1.331108746146045,-1.1108387395018067,-1.3562223175614723,-2.358897048726927,-2.3237321553305454,-1.1107703312811912,-1.1114937117174541,-1.1107803746048306,-1.110737984066117,-1.1107722032192457,-1.111010457016257,-2.254467353402302,-1.8988269880335924,-1.665409636473057,-1.1107351505955372,-1.1145493171394323,-2.461041589258273,-1.1107367762806974,-1.356218246103928,-1.1595622214470485,-0.9054013466567756,-2.2374741449567424,-1.3562348917073836,-0.9054002805311375,-1.110837669253829,-1.1108448158213189,-1.9545704314548946,-2.1274154994684973,-0.9053976257154017,-1.3562154794932626,-1.110780025659367,-2.2668146124261033,-1.1107585905462822,-1.360641384552771,-0.9054242350793074,-2.094569899299915,-1.1108257882439558,-2.277822989663161,-1.1107451326276965,-0.9054031196850011,-1.1107367756548245,-0.9054070990569979,-1.2779164166247312,-2.3206665963280044,-1.356214283996356,-1.899160796152627,-1.1108049150498898,-1.3562138348447355,-1.1107489653773217,-2.223490770526997,-1.9545702740821547,-2.0063697269055556,-1.1159801481098055,-0.9053925312651383,-0.9054953887975407,-2.320674652777075,-1.1107377990267473,-2.320674059558809,-2.237448383558952,-0.9582915190496811,-2.1702391526882248,-1.1107374216936678,-0.9059151413464998,-2.0063671800257854,-1.1107573549568572,-2.237448817876842,-2.204986391262632,-1.1128387235590549,-0.5997630000661054,-1.1107489268773558,-1.3571107700611564,-1.1107704273689003,-2.1701778730725367,-2.29620382368371,-2.1382818543371527,-2.1575484760166472,-2.321138704417917,-0.9054359587440897,-1.110741000818281,-1.1107747766452032,-0.9054176789271731,-0.9054034581452478,-2.320687892768521,-2.3583717566280966,-1.1640242476017528,-1.2517825214319884,-0.9059383612501148,-1.3562164525679519,-1.1163089781906637,-1.0643804194998974,-1.1107441169762697,-1.1107755705111673,-1.1107791370496254,-1.110778790270982,-2.320708099270474,-2.0158160284258635,-0.9054734190769003,-1.5634128519395893,-2.0063659703424555,-2.094627763250096,-1.1107573074380466,-0.9055232304834948,-1.5634216886233503,-1.9547093257248278,-1.5634148592112156,-1.899042210371335,-2.3595241495783243,-2.3206690000915575,-1.9597031424032678,-0.9056601352274516,-2.1705319312531968,-1.1121052006989467,-1.1951657169507368,-0.9054034151450933,-1.5634084743033976,-1.563568048834781,-1.1107558704314517,-0.9054037360745224,-1.3562153064053806,-1.1794651104283296,-2.8341513802513494,-2.344748267782115,-2.320798729674464,-1.112802235811156,-2.0945741076098163,-1.3314558495789228,-1.1107538423875842,-1.1158081481301425,-0.905591141378365,-1.957934231358248,-2.321168589679363,-1.1107464739195783,-1.884764818108237,-2.006374421316403,-2.2236322179355907,-0.9054370406135875,-2.3206683980574834,-0.5997449888332138,-2.23745597929099,-2.2549595876136816,-2.2234851743740314,-2.320982225658692,-2.189824701600151,-2.404929231534191,-2.209101402546859,-2.3210129836575892,-1.2954241124841264,-2.1433552523326465,-0.9054038043500514,-1.11074792065647,-2.171068223993626,-2.2398825249125056,-0.5552772175572366,-2.255381371774928,-1.3566449143143524,-0.9054059197951551,-1.2954649402408873,-2.0090209911990087,-2.223522026660261,-1.356216453564726,-2.3243467725247444,-2.1961468259797785,-2.196099801499274,-2.124146282339592,-1.1107888961962926,-2.0064883047168958,-2.006368640455083,-1.6654605811631442,-1.3562281553049291,-0.385346399477546,-1.356272873034771,-1.1627815880617287,-1.5642829372084321,-2.199798969259529,-1.111014452720607,-1.3562259795780496,-1.1276825236879997,-1.2513830382233033,-1.110737664079613,-1.110810649582613,-1.8988485004066569,-2.197887713425214,-1.9545699192978494,-2.3210891979196333,-2.0063691813578983],\"z\":[0.23130390963268294,0.421203128540931,-0.017437462594034378,0.3975812324410161,0.42118085769811886,0.31881901257609213,0.4313181553455921,-0.017412799847986986,0.08859359021941601,-0.017419067137274865,0.4363116354317154,-0.05477446474900392,0.23124015510538284,-0.017474940732815386,-0.017421001382259122,0.04514786241987541,0.15852713414089206,-0.017424398591916062,-0.01741326959025685,-0.017411690579433647,0.088595775816107,0.43028697070801447,0.22319324089443843,-0.02278005721151957,-0.017417699743401457,-0.01750888684508509,-0.017418312650848446,-0.017410352928939842,0.2391040097733024,-0.017833220599190902,-0.01743695248145892,-0.017429400223208297,-0.055540955244276505,0.23130288637623053,-0.017483724275588423,-0.01741708981470119,-0.017409378556144335,-0.01742532240381496,0.5824427699479323,-0.0174117410952805,-0.01963412440804661,0.2313049421442032,-0.017549991483402378,-0.017411290562222074,-0.017441052237442016,-0.017422153858422943,0.23104305467663028,0.2312930914194055,0.23130024557900522,0.2313032324781708,0.23131166482553023,0.08859875363901698,-0.0174186193371982,0.2187589753594461,-0.017473420854391904,0.23129469193190416,0.33581644520179726,0.4101209684599743,-0.017441185960716723,-0.017706665690021356,-0.01746957993212368,-0.017409204423448787,-0.01747373250143569,-0.017762655294851538,0.42288492092230806,0.4370314843763143,0.2676928151754084,-0.017412499131439562,-0.0198738242954515,0.36087750350545944,-0.017409150572659342,0.2313056779228315,-0.026361087363116445,0.08858550654497423,0.47647864100580783,0.2313017508987945,0.08859196746371162,-0.01743988538093019,-0.017457684682050247,0.42123293307777515,0.3209115221440436,0.08859245274637574,0.2313029161053832,-0.017497278602574863,0.442122954939104,-0.01743966200730103,0.22217248697578026,0.08857637322430557,0.4219585321642892,-0.017425477412373498,0.34739194493373166,-0.017412962224192655,0.08859229329957888,-0.01740914929733573,0.08859626577722078,0.05602758884115665,0.4133254473522418,0.2313087863315578,0.4366121944361871,-0.017466161335761166,0.2313077721272307,-0.017415407112635516,0.5005658898342168,0.4212269444878411,0.31881958517541265,-0.01844547227311112,0.08828385083174715,0.08855710129960506,0.41332659174581293,-0.017409443252164224,0.41332349115621586,0.476487909572869,0.07869476237230784,0.39756524736987225,-0.017410224858608606,0.08849200559194868,0.3188195511072674,-0.017450929052422928,0.476481445040152,0.4721024232475089,-0.017818855588506755,0.023394445018000518,-0.01741890738749203,0.23064207522172142,-0.017420320494965977,0.39755424190446853,0.5873677880023603,0.33154565980396594,0.4072739886171054,0.41254880895360263,0.08857804298118087,-0.017416633356595313,-0.017417860053208223,0.08858487882543424,0.08859645648205638,0.4133191145061229,0.5641792836148548,-0.0896335673655434,0.13106832821212774,0.08845247528913837,0.23130388749419817,-0.01843076178504197,-0.06368480540947158,-0.01741397611597968,-0.01742271146060173,-0.017429184697638423,-0.017429530875479344,0.4133174071860597,0.3150935945990953,0.08754936879727962,0.23920025310456886,0.3188158351206458,0.42193708894028864,-0.01745097648890628,0.08850838857676009,0.2391977866826373,0.421206600771162,0.23919924681963553,0.43683244798549176,0.3988184691922917,0.413326279201784,0.42009635574237014,0.08851963617525327,0.39734675751453447,-0.019178207376528714,0.09055262665460455,0.08859584916660433,0.2391996456513783,0.2390585629244143,-0.017429835413989254,0.08859416282073897,0.2313032663185918,-0.03906990139978961,0.2988271039003779,0.4512904107272593,0.41325291724827073,-0.021617878764572048,0.42191883619901427,0.21846834405713872,-0.017416809549647215,-0.02388918941654011,0.0884821168483197,0.4205253585860228,0.4132057422121427,-0.01741225035590448,0.46207748303990925,0.31879354356415707,0.5005323821848379,0.08857912297631489,0.41332197832208123,0.023393554713031367,0.47648528296017545,0.38395899850599,0.5005671387642541,0.4132705406562507,0.3560761743754558,0.3820620081578383,0.3255274954863404,0.4130504057814317,0.20231161386009736,0.4786495348820269,0.08859548517752684,-0.01741149923569536,0.39741147114357583,0.5096358940414243,-0.01648072275336348,0.3059322357449898,0.23042786649046854,0.08859508855847642,0.2023035045708979,0.3167134669044346,0.5005578353696485,0.23130388848924588,0.4119385523816389,0.4615672886110255,0.4615704453558979,0.373807984204385,-0.017431984454400532,0.3187863248225739,0.3188123010988752,0.26768096162523064,0.23128860466562837,-0.05618186149035836,0.2312680265444635,-0.02697260699763586,0.23757736352825853,0.4608893267784492,-0.017758666513152385,0.23130022890327456,-0.03184736229385785,0.1585174055075631,-0.01741101133623216,-0.017449148942317288,0.437051203599323,0.6849265163568902,0.421227667421644,0.41287550849220667,0.3188190405729293],\"type\":\"scatter3d\"},{\"customdata\":[[\"Proof-of-BibleHash\"],[\"SHA-256 + Hive\"],[\"Proof-of-Authority\"],[\"ECC 256K1\"],[\"Leased POS\"]],\"hovertemplate\":\"<b>%{hovertext}</b><br><br>Class=%{marker.color}<br>PC 1=%{x}<br>PC 2=%{y}<br>PC 3=%{z}<br>Algorithm=%{customdata[0]}<extra></extra>\",\"hovertext\":[\"BiblePay\",\"LitecoinCash\",\"Poa Network\",\"Acute Angle Cloud\",\"Waves\"],\"legendgroup\":\"1\",\"marker\":{\"color\":[1,1,1,1,1],\"coloraxis\":\"coloraxis\",\"symbol\":\"square\"},\"mode\":\"markers\",\"name\":\"1\",\"scene\":\"scene\",\"showlegend\":true,\"x\":[-0.3524432100870391,-0.3152560327927177,-0.36558139904925036,-0.40443253996564943,-0.2569763428609053],\"y\":[1.6384646653765622,3.8218308855701384,3.296556893495777,3.088417318374149,4.636294366135786],\"z\":[16.23167922838303,9.750316471527393,16.33747963364286,12.585358144307103,13.464121980112195],\"type\":\"scatter3d\"},{\"customdata\":[[\"TRC10\"]],\"hovertemplate\":\"<b>%{hovertext}</b><br><br>Class=%{marker.color}<br>PC 1=%{x}<br>PC 2=%{y}<br>PC 3=%{z}<br>Algorithm=%{customdata[0]}<extra></extra>\",\"hovertext\":[\"BitTorrent\"],\"legendgroup\":\"2\",\"marker\":{\"color\":[2],\"coloraxis\":\"coloraxis\",\"symbol\":\"x\"},\"mode\":\"markers\",\"name\":\"2\",\"scene\":\"scene\",\"showlegend\":true,\"x\":[34.03097222609275],\"y\":[1.5683437773706383],\"z\":[-0.858332142216266],\"type\":\"scatter3d\"}],                        {\"template\":{\"data\":{\"histogram2dcontour\":[{\"type\":\"histogram2dcontour\",\"colorbar\":{\"outlinewidth\":0,\"ticks\":\"\"},\"colorscale\":[[0.0,\"#0d0887\"],[0.1111111111111111,\"#46039f\"],[0.2222222222222222,\"#7201a8\"],[0.3333333333333333,\"#9c179e\"],[0.4444444444444444,\"#bd3786\"],[0.5555555555555556,\"#d8576b\"],[0.6666666666666666,\"#ed7953\"],[0.7777777777777778,\"#fb9f3a\"],[0.8888888888888888,\"#fdca26\"],[1.0,\"#f0f921\"]]}],\"choropleth\":[{\"type\":\"choropleth\",\"colorbar\":{\"outlinewidth\":0,\"ticks\":\"\"}}],\"histogram2d\":[{\"type\":\"histogram2d\",\"colorbar\":{\"outlinewidth\":0,\"ticks\":\"\"},\"colorscale\":[[0.0,\"#0d0887\"],[0.1111111111111111,\"#46039f\"],[0.2222222222222222,\"#7201a8\"],[0.3333333333333333,\"#9c179e\"],[0.4444444444444444,\"#bd3786\"],[0.5555555555555556,\"#d8576b\"],[0.6666666666666666,\"#ed7953\"],[0.7777777777777778,\"#fb9f3a\"],[0.8888888888888888,\"#fdca26\"],[1.0,\"#f0f921\"]]}],\"heatmap\":[{\"type\":\"heatmap\",\"colorbar\":{\"outlinewidth\":0,\"ticks\":\"\"},\"colorscale\":[[0.0,\"#0d0887\"],[0.1111111111111111,\"#46039f\"],[0.2222222222222222,\"#7201a8\"],[0.3333333333333333,\"#9c179e\"],[0.4444444444444444,\"#bd3786\"],[0.5555555555555556,\"#d8576b\"],[0.6666666666666666,\"#ed7953\"],[0.7777777777777778,\"#fb9f3a\"],[0.8888888888888888,\"#fdca26\"],[1.0,\"#f0f921\"]]}],\"heatmapgl\":[{\"type\":\"heatmapgl\",\"colorbar\":{\"outlinewidth\":0,\"ticks\":\"\"},\"colorscale\":[[0.0,\"#0d0887\"],[0.1111111111111111,\"#46039f\"],[0.2222222222222222,\"#7201a8\"],[0.3333333333333333,\"#9c179e\"],[0.4444444444444444,\"#bd3786\"],[0.5555555555555556,\"#d8576b\"],[0.6666666666666666,\"#ed7953\"],[0.7777777777777778,\"#fb9f3a\"],[0.8888888888888888,\"#fdca26\"],[1.0,\"#f0f921\"]]}],\"contourcarpet\":[{\"type\":\"contourcarpet\",\"colorbar\":{\"outlinewidth\":0,\"ticks\":\"\"}}],\"contour\":[{\"type\":\"contour\",\"colorbar\":{\"outlinewidth\":0,\"ticks\":\"\"},\"colorscale\":[[0.0,\"#0d0887\"],[0.1111111111111111,\"#46039f\"],[0.2222222222222222,\"#7201a8\"],[0.3333333333333333,\"#9c179e\"],[0.4444444444444444,\"#bd3786\"],[0.5555555555555556,\"#d8576b\"],[0.6666666666666666,\"#ed7953\"],[0.7777777777777778,\"#fb9f3a\"],[0.8888888888888888,\"#fdca26\"],[1.0,\"#f0f921\"]]}],\"surface\":[{\"type\":\"surface\",\"colorbar\":{\"outlinewidth\":0,\"ticks\":\"\"},\"colorscale\":[[0.0,\"#0d0887\"],[0.1111111111111111,\"#46039f\"],[0.2222222222222222,\"#7201a8\"],[0.3333333333333333,\"#9c179e\"],[0.4444444444444444,\"#bd3786\"],[0.5555555555555556,\"#d8576b\"],[0.6666666666666666,\"#ed7953\"],[0.7777777777777778,\"#fb9f3a\"],[0.8888888888888888,\"#fdca26\"],[1.0,\"#f0f921\"]]}],\"mesh3d\":[{\"type\":\"mesh3d\",\"colorbar\":{\"outlinewidth\":0,\"ticks\":\"\"}}],\"scatter\":[{\"fillpattern\":{\"fillmode\":\"overlay\",\"size\":10,\"solidity\":0.2},\"type\":\"scatter\"}],\"parcoords\":[{\"type\":\"parcoords\",\"line\":{\"colorbar\":{\"outlinewidth\":0,\"ticks\":\"\"}}}],\"scatterpolargl\":[{\"type\":\"scatterpolargl\",\"marker\":{\"colorbar\":{\"outlinewidth\":0,\"ticks\":\"\"}}}],\"bar\":[{\"error_x\":{\"color\":\"#2a3f5f\"},\"error_y\":{\"color\":\"#2a3f5f\"},\"marker\":{\"line\":{\"color\":\"#E5ECF6\",\"width\":0.5},\"pattern\":{\"fillmode\":\"overlay\",\"size\":10,\"solidity\":0.2}},\"type\":\"bar\"}],\"scattergeo\":[{\"type\":\"scattergeo\",\"marker\":{\"colorbar\":{\"outlinewidth\":0,\"ticks\":\"\"}}}],\"scatterpolar\":[{\"type\":\"scatterpolar\",\"marker\":{\"colorbar\":{\"outlinewidth\":0,\"ticks\":\"\"}}}],\"histogram\":[{\"marker\":{\"pattern\":{\"fillmode\":\"overlay\",\"size\":10,\"solidity\":0.2}},\"type\":\"histogram\"}],\"scattergl\":[{\"type\":\"scattergl\",\"marker\":{\"colorbar\":{\"outlinewidth\":0,\"ticks\":\"\"}}}],\"scatter3d\":[{\"type\":\"scatter3d\",\"line\":{\"colorbar\":{\"outlinewidth\":0,\"ticks\":\"\"}},\"marker\":{\"colorbar\":{\"outlinewidth\":0,\"ticks\":\"\"}}}],\"scattermapbox\":[{\"type\":\"scattermapbox\",\"marker\":{\"colorbar\":{\"outlinewidth\":0,\"ticks\":\"\"}}}],\"scatterternary\":[{\"type\":\"scatterternary\",\"marker\":{\"colorbar\":{\"outlinewidth\":0,\"ticks\":\"\"}}}],\"scattercarpet\":[{\"type\":\"scattercarpet\",\"marker\":{\"colorbar\":{\"outlinewidth\":0,\"ticks\":\"\"}}}],\"carpet\":[{\"aaxis\":{\"endlinecolor\":\"#2a3f5f\",\"gridcolor\":\"white\",\"linecolor\":\"white\",\"minorgridcolor\":\"white\",\"startlinecolor\":\"#2a3f5f\"},\"baxis\":{\"endlinecolor\":\"#2a3f5f\",\"gridcolor\":\"white\",\"linecolor\":\"white\",\"minorgridcolor\":\"white\",\"startlinecolor\":\"#2a3f5f\"},\"type\":\"carpet\"}],\"table\":[{\"cells\":{\"fill\":{\"color\":\"#EBF0F8\"},\"line\":{\"color\":\"white\"}},\"header\":{\"fill\":{\"color\":\"#C8D4E3\"},\"line\":{\"color\":\"white\"}},\"type\":\"table\"}],\"barpolar\":[{\"marker\":{\"line\":{\"color\":\"#E5ECF6\",\"width\":0.5},\"pattern\":{\"fillmode\":\"overlay\",\"size\":10,\"solidity\":0.2}},\"type\":\"barpolar\"}],\"pie\":[{\"automargin\":true,\"type\":\"pie\"}]},\"layout\":{\"autotypenumbers\":\"strict\",\"colorway\":[\"#636efa\",\"#EF553B\",\"#00cc96\",\"#ab63fa\",\"#FFA15A\",\"#19d3f3\",\"#FF6692\",\"#B6E880\",\"#FF97FF\",\"#FECB52\"],\"font\":{\"color\":\"#2a3f5f\"},\"hovermode\":\"closest\",\"hoverlabel\":{\"align\":\"left\"},\"paper_bgcolor\":\"white\",\"plot_bgcolor\":\"#E5ECF6\",\"polar\":{\"bgcolor\":\"#E5ECF6\",\"angularaxis\":{\"gridcolor\":\"white\",\"linecolor\":\"white\",\"ticks\":\"\"},\"radialaxis\":{\"gridcolor\":\"white\",\"linecolor\":\"white\",\"ticks\":\"\"}},\"ternary\":{\"bgcolor\":\"#E5ECF6\",\"aaxis\":{\"gridcolor\":\"white\",\"linecolor\":\"white\",\"ticks\":\"\"},\"baxis\":{\"gridcolor\":\"white\",\"linecolor\":\"white\",\"ticks\":\"\"},\"caxis\":{\"gridcolor\":\"white\",\"linecolor\":\"white\",\"ticks\":\"\"}},\"coloraxis\":{\"colorbar\":{\"outlinewidth\":0,\"ticks\":\"\"}},\"colorscale\":{\"sequential\":[[0.0,\"#0d0887\"],[0.1111111111111111,\"#46039f\"],[0.2222222222222222,\"#7201a8\"],[0.3333333333333333,\"#9c179e\"],[0.4444444444444444,\"#bd3786\"],[0.5555555555555556,\"#d8576b\"],[0.6666666666666666,\"#ed7953\"],[0.7777777777777778,\"#fb9f3a\"],[0.8888888888888888,\"#fdca26\"],[1.0,\"#f0f921\"]],\"sequentialminus\":[[0.0,\"#0d0887\"],[0.1111111111111111,\"#46039f\"],[0.2222222222222222,\"#7201a8\"],[0.3333333333333333,\"#9c179e\"],[0.4444444444444444,\"#bd3786\"],[0.5555555555555556,\"#d8576b\"],[0.6666666666666666,\"#ed7953\"],[0.7777777777777778,\"#fb9f3a\"],[0.8888888888888888,\"#fdca26\"],[1.0,\"#f0f921\"]],\"diverging\":[[0,\"#8e0152\"],[0.1,\"#c51b7d\"],[0.2,\"#de77ae\"],[0.3,\"#f1b6da\"],[0.4,\"#fde0ef\"],[0.5,\"#f7f7f7\"],[0.6,\"#e6f5d0\"],[0.7,\"#b8e186\"],[0.8,\"#7fbc41\"],[0.9,\"#4d9221\"],[1,\"#276419\"]]},\"xaxis\":{\"gridcolor\":\"white\",\"linecolor\":\"white\",\"ticks\":\"\",\"title\":{\"standoff\":15},\"zerolinecolor\":\"white\",\"automargin\":true,\"zerolinewidth\":2},\"yaxis\":{\"gridcolor\":\"white\",\"linecolor\":\"white\",\"ticks\":\"\",\"title\":{\"standoff\":15},\"zerolinecolor\":\"white\",\"automargin\":true,\"zerolinewidth\":2},\"scene\":{\"xaxis\":{\"backgroundcolor\":\"#E5ECF6\",\"gridcolor\":\"white\",\"linecolor\":\"white\",\"showbackground\":true,\"ticks\":\"\",\"zerolinecolor\":\"white\",\"gridwidth\":2},\"yaxis\":{\"backgroundcolor\":\"#E5ECF6\",\"gridcolor\":\"white\",\"linecolor\":\"white\",\"showbackground\":true,\"ticks\":\"\",\"zerolinecolor\":\"white\",\"gridwidth\":2},\"zaxis\":{\"backgroundcolor\":\"#E5ECF6\",\"gridcolor\":\"white\",\"linecolor\":\"white\",\"showbackground\":true,\"ticks\":\"\",\"zerolinecolor\":\"white\",\"gridwidth\":2}},\"shapedefaults\":{\"line\":{\"color\":\"#2a3f5f\"}},\"annotationdefaults\":{\"arrowcolor\":\"#2a3f5f\",\"arrowhead\":0,\"arrowwidth\":1},\"geo\":{\"bgcolor\":\"white\",\"landcolor\":\"#E5ECF6\",\"subunitcolor\":\"white\",\"showland\":true,\"showlakes\":true,\"lakecolor\":\"white\"},\"title\":{\"x\":0.05},\"mapbox\":{\"style\":\"light\"}}},\"scene\":{\"domain\":{\"x\":[0.0,1.0],\"y\":[0.0,1.0]},\"xaxis\":{\"title\":{\"text\":\"PC 1\"}},\"yaxis\":{\"title\":{\"text\":\"PC 2\"}},\"zaxis\":{\"title\":{\"text\":\"PC 3\"}}},\"coloraxis\":{\"colorbar\":{\"title\":{\"text\":\"Class\"}},\"colorscale\":[[0.0,\"#0d0887\"],[0.1111111111111111,\"#46039f\"],[0.2222222222222222,\"#7201a8\"],[0.3333333333333333,\"#9c179e\"],[0.4444444444444444,\"#bd3786\"],[0.5555555555555556,\"#d8576b\"],[0.6666666666666666,\"#ed7953\"],[0.7777777777777778,\"#fb9f3a\"],[0.8888888888888888,\"#fdca26\"],[1.0,\"#f0f921\"]]},\"legend\":{\"title\":{\"text\":\"Class\"},\"tracegroupgap\":0,\"x\":0,\"y\":1},\"margin\":{\"t\":60},\"width\":800},                        {\"responsive\": true}                    ).then(function(){\n",
       "                            \n",
       "var gd = document.getElementById('31a71baa-59ac-4bbb-a943-ae9d3c0a8cc9');\n",
       "var x = new MutationObserver(function (mutations, observer) {{\n",
       "        var display = window.getComputedStyle(gd).display;\n",
       "        if (!display || display === 'none') {{\n",
       "            console.log([gd, 'removed!']);\n",
       "            Plotly.purge(gd);\n",
       "            observer.disconnect();\n",
       "        }}\n",
       "}});\n",
       "\n",
       "// Listen for the removal of the full notebook cells\n",
       "var notebookContainer = gd.closest('#notebook-container');\n",
       "if (notebookContainer) {{\n",
       "    x.observe(notebookContainer, {childList: true});\n",
       "}}\n",
       "\n",
       "// Listen for the clearing of the current output cell\n",
       "var outputEl = gd.closest('.output');\n",
       "if (outputEl) {{\n",
       "    x.observe(outputEl, {childList: true});\n",
       "}}\n",
       "\n",
       "                        })                };                });            </script>        </div>"
      ]
     },
     "metadata": {},
     "output_type": "display_data"
    }
   ],
   "source": [
    "# Creating a 3D-Scatter with the PCA data and the clusters\n",
    "fig = px.scatter_3d(\n",
    "    clustered_df,\n",
    "    x=\"PC 1\",\n",
    "    y=\"PC 2\",\n",
    "    z=\"PC 3\",\n",
    "    color=\"Class\",\n",
    "    symbol=\"Class\",\n",
    "    width=800,\n",
    "    hover_data = ['Algorithm'],\n",
    "    hover_name = 'CoinName',\n",
    "    \n",
    ")\n",
    "fig.update_layout(legend=dict(x=0, y=1))\n",
    "fig.show()\n"
   ]
  },
  {
   "cell_type": "code",
   "execution_count": 60,
   "metadata": {},
   "outputs": [
    {
     "data": {},
     "metadata": {},
     "output_type": "display_data"
    },
    {
     "data": {
      "application/vnd.holoviews_exec.v0+json": "",
      "text/html": [
       "<div id='2394'>\n",
       "  <div class=\"bk-root\" id=\"68ef5ce1-2eb9-4f85-961d-692ba9576f8c\" data-root-id=\"2394\"></div>\n",
       "</div>\n",
       "<script type=\"application/javascript\">(function(root) {\n",
       "  function embed_document(root) {\n",
       "    var docs_json = {\"f8b4c4d5-9263-4af0-92e3-8a53ad6ce164\":{\"defs\":[{\"extends\":null,\"module\":null,\"name\":\"ReactiveHTML1\",\"overrides\":[],\"properties\":[]},{\"extends\":null,\"module\":null,\"name\":\"FlexBox1\",\"overrides\":[],\"properties\":[{\"default\":\"flex-start\",\"kind\":null,\"name\":\"align_content\"},{\"default\":\"flex-start\",\"kind\":null,\"name\":\"align_items\"},{\"default\":\"row\",\"kind\":null,\"name\":\"flex_direction\"},{\"default\":\"wrap\",\"kind\":null,\"name\":\"flex_wrap\"},{\"default\":\"flex-start\",\"kind\":null,\"name\":\"justify_content\"}]},{\"extends\":null,\"module\":null,\"name\":\"GridStack1\",\"overrides\":[],\"properties\":[{\"default\":\"warn\",\"kind\":null,\"name\":\"mode\"},{\"default\":null,\"kind\":null,\"name\":\"ncols\"},{\"default\":null,\"kind\":null,\"name\":\"nrows\"},{\"default\":true,\"kind\":null,\"name\":\"allow_resize\"},{\"default\":true,\"kind\":null,\"name\":\"allow_drag\"},{\"default\":[],\"kind\":null,\"name\":\"state\"}]},{\"extends\":null,\"module\":null,\"name\":\"click1\",\"overrides\":[],\"properties\":[{\"default\":\"\",\"kind\":null,\"name\":\"terminal_output\"},{\"default\":\"\",\"kind\":null,\"name\":\"debug_name\"},{\"default\":0,\"kind\":null,\"name\":\"clears\"}]},{\"extends\":null,\"module\":null,\"name\":\"NotificationAreaBase1\",\"overrides\":[],\"properties\":[{\"default\":\"bottom-right\",\"kind\":null,\"name\":\"position\"},{\"default\":0,\"kind\":null,\"name\":\"_clear\"}]},{\"extends\":null,\"module\":null,\"name\":\"NotificationArea1\",\"overrides\":[],\"properties\":[{\"default\":[],\"kind\":null,\"name\":\"notifications\"},{\"default\":\"bottom-right\",\"kind\":null,\"name\":\"position\"},{\"default\":0,\"kind\":null,\"name\":\"_clear\"},{\"default\":[{\"background\":\"#ffc107\",\"icon\":{\"className\":\"fas fa-exclamation-triangle\",\"color\":\"white\",\"tagName\":\"i\"},\"type\":\"warning\"},{\"background\":\"#007bff\",\"icon\":{\"className\":\"fas fa-info-circle\",\"color\":\"white\",\"tagName\":\"i\"},\"type\":\"info\"}],\"kind\":null,\"name\":\"types\"}]},{\"extends\":null,\"module\":null,\"name\":\"Notification\",\"overrides\":[],\"properties\":[{\"default\":null,\"kind\":null,\"name\":\"background\"},{\"default\":3000,\"kind\":null,\"name\":\"duration\"},{\"default\":null,\"kind\":null,\"name\":\"icon\"},{\"default\":\"\",\"kind\":null,\"name\":\"message\"},{\"default\":null,\"kind\":null,\"name\":\"notification_type\"},{\"default\":false,\"kind\":null,\"name\":\"_destroyed\"}]},{\"extends\":null,\"module\":null,\"name\":\"TemplateActions1\",\"overrides\":[],\"properties\":[{\"default\":0,\"kind\":null,\"name\":\"open_modal\"},{\"default\":0,\"kind\":null,\"name\":\"close_modal\"}]},{\"extends\":null,\"module\":null,\"name\":\"MaterialTemplateActions1\",\"overrides\":[],\"properties\":[{\"default\":0,\"kind\":null,\"name\":\"open_modal\"},{\"default\":0,\"kind\":null,\"name\":\"close_modal\"}]}],\"roots\":{\"references\":[{\"attributes\":{\"editor\":{\"id\":\"2404\"},\"field\":\"Algorithm\",\"formatter\":{\"id\":\"2403\"},\"title\":\"Algorithm\"},\"id\":\"2405\",\"type\":\"TableColumn\"},{\"attributes\":{\"data\":{\"Algorithm\":[\"Scrypt\",\"Scrypt\",\"X13\",\"SHA-256\",\"Ethash\",\"Scrypt\",\"X11\",\"CryptoNight-V7\",\"Ethash\",\"Equihash\",\"SHA-512\",\"Multiple\",\"SHA-256\",\"SHA-256\",\"Scrypt\",\"X15\",\"X11\",\"Scrypt\",\"Scrypt\",\"Scrypt\",\"Multiple\",\"Scrypt\",\"SHA-256\",\"Scrypt\",\"Scrypt\",\"Scrypt\",\"Quark\",\"Groestl\",\"Scrypt\",\"Scrypt\",\"Scrypt\",\"Scrypt\",\"Scrypt\",\"X11\",\"Scrypt\",\"Groestl\",\"Multiple\",\"SHA-256\",\"Scrypt\",\"Scrypt\",\"Scrypt\",\"Scrypt\",\"PoS\",\"Scrypt\",\"Scrypt\",\"NeoScrypt\",\"Scrypt\",\"Scrypt\",\"Scrypt\",\"Scrypt\",\"X11\",\"Scrypt\",\"X11\",\"SHA-256\",\"Scrypt\",\"Scrypt\",\"Scrypt\",\"SHA3\",\"Scrypt\",\"HybridScryptHash256\",\"Scrypt\",\"Scrypt\",\"SHA-256\",\"Scrypt\",\"X13\",\"Scrypt\",\"SHA-256\",\"Scrypt\",\"X13\",\"NeoScrypt\",\"Scrypt\",\"Scrypt\",\"Scrypt\",\"Scrypt\",\"Scrypt\",\"Scrypt\",\"X11\",\"X11\",\"SHA-256\",\"Multiple\",\"SHA-256\",\"PHI1612\",\"X11\",\"SHA-256\",\"SHA-256\",\"SHA-256\",\"X11\",\"Scrypt\",\"Scrypt\",\"Scrypt\",\"Scrypt\",\"Lyra2REv2\",\"Scrypt\",\"X11\",\"Multiple\",\"SHA-256\",\"X13\",\"Scrypt\",\"CryptoNight\",\"CryptoNight\",\"Shabal256\",\"Counterparty\",\"Scrypt\",\"SHA-256\",\"Groestl\",\"Scrypt\",\"Scrypt\",\"Scrypt\",\"X13\",\"Scrypt\",\"Scrypt\",\"Scrypt\",\"Scrypt\",\"X13\",\"Scrypt\",\"Stanford Folding\",\"X11\",\"Multiple\",\"QuBit\",\"Scrypt\",\"Scrypt\",\"Scrypt\",\"M7 POW\",\"Scrypt\",\"SHA-256\",\"Scrypt\",\"X11\",\"SHA3\",\"X11\",\"Lyra2RE\",\"SHA-256\",\"QUAIT\",\"X11\",\"X11\",\"Scrypt\",\"Scrypt\",\"Scrypt\",\"Ethash\",\"X13\",\"Blake2b\",\"SHA-256\",\"X15\",\"X11\",\"SHA-256\",\"BLAKE256\",\"Scrypt\",\"1GB AES Pattern Search\",\"SHA-256\",\"X11\",\"Scrypt\",\"SHA-256\",\"SHA-256\",\"NIST5\",\"Scrypt\",\"Scrypt\",\"X11\",\"Dagger\",\"Scrypt\",\"X11GOST\",\"X11\",\"Scrypt\",\"SHA-256\",\"Scrypt\",\"PoS\",\"Scrypt\",\"X11\",\"X11\",\"SHA-256\",\"SHA-256\",\"NIST5\",\"X11\",\"Scrypt\",\"POS 3.0\",\"Scrypt\",\"Scrypt\",\"Scrypt\",\"X13\",\"X11\",\"X11\",\"Equihash\",\"X11\",\"Scrypt\",\"CryptoNight\",\"SHA-256\",\"SHA-256\",\"X11\",\"Scrypt\",\"Multiple\",\"Scrypt\",\"Scrypt\",\"Scrypt\",\"SHA-256\",\"Scrypt\",\"Scrypt\",\"SHA-256D\",\"PoS\",\"Scrypt\",\"X11\",\"Lyra2Z\",\"PoS\",\"X13\",\"X14\",\"PoS\",\"SHA-256D\",\"Ethash\",\"Equihash\",\"DPoS\",\"X11\",\"Scrypt\",\"X11\",\"X13\",\"X11\",\"PoS\",\"Scrypt\",\"Scrypt\",\"X11\",\"PoS\",\"X11\",\"SHA-256\",\"Scrypt\",\"X11\",\"Scrypt\",\"Scrypt\",\"X11\",\"CryptoNight\",\"Scrypt\",\"Scrypt\",\"Scrypt\",\"Scrypt\",\"Quark\",\"QuBit\",\"Scrypt\",\"CryptoNight\",\"Lyra2RE\",\"Scrypt\",\"SHA-256\",\"X11\",\"Scrypt\",\"X11\",\"Scrypt\",\"CryptoNight-V7\",\"Scrypt\",\"Scrypt\",\"Scrypt\",\"X13\",\"X11\",\"Equihash\",\"Scrypt\",\"Scrypt\",\"Lyra2RE\",\"Scrypt\",\"Dagger-Hashimoto\",\"X11\",\"Blake2S\",\"X11\",\"Scrypt\",\"PoS\",\"X11\",\"NIST5\",\"PoS\",\"X11\",\"Scrypt\",\"Scrypt\",\"Scrypt\",\"SHA-256\",\"X11\",\"Scrypt\",\"Scrypt\",\"SHA-256\",\"PoS\",\"Scrypt\",\"X15\",\"SHA-256\",\"Scrypt\",\"POS 3.0\",\"CryptoNight-V7\",\"536\",\"Argon2d\",\"Blake2b\",\"Cloverhash\",\"CryptoNight\",\"NIST5\",\"X11\",\"NIST5\",\"Skein\",\"Scrypt\",\"X13\",\"Scrypt\",\"X11\",\"X11\",\"Scrypt\",\"CryptoNight\",\"X13\",\"Time Travel\",\"Scrypt\",\"Keccak\",\"SkunkHash v2 Raptor\",\"X11\",\"Skein\",\"SHA-256\",\"X11\",\"Scrypt\",\"VeChainThor Authority\",\"Scrypt\",\"PoS\",\"Scrypt\",\"Scrypt\",\"Scrypt\",\"Scrypt\",\"Scrypt\",\"Scrypt\",\"Scrypt\",\"CryptoNight\",\"SHA-512\",\"Ouroboros\",\"X11\",\"Equihash\",\"NeoScrypt\",\"X11\",\"Scrypt\",\"NeoScrypt\",\"Lyra2REv2\",\"Equihash\",\"Scrypt\",\"SHA-256\",\"NIST5\",\"PHI1612\",\"Dagger\",\"Scrypt\",\"Quark\",\"Scrypt\",\"POS 2.0\",\"Scrypt\",\"SHA-256\",\"X11\",\"NeoScrypt\",\"Ethash\",\"NeoScrypt\",\"X11\",\"DPoS\",\"NIST5\",\"X13\",\"Multiple\",\"Scrypt\",\"CryptoNight\",\"CryptoNight\",\"Ethash\",\"NIST5\",\"Quark\",\"X11\",\"CryptoNight-V7\",\"Scrypt\",\"Scrypt\",\"Scrypt\",\"X11\",\"BLAKE256\",\"X11\",\"NeoScrypt\",\"Quark\",\"NeoScrypt\",\"Scrypt\",\"Scrypt\",\"Scrypt\",\"X11\",\"X11\",\"SHA-256\",\"C11\",\"POS 3.0\",\"Ethash\",\"Scrypt\",\"CryptoNight\",\"SkunkHash\",\"Scrypt\",\"CryptoNight\",\"Scrypt\",\"Dagger\",\"Lyra2REv2\",\"X13\",\"Proof-of-BibleHash\",\"SHA-256 + Hive\",\"Scrypt\",\"Scrypt\",\"X11\",\"C11\",\"Proof-of-Authority\",\"X11\",\"XEVAN\",\"Scrypt\",\"VBFT\",\"Ethash\",\"CryptoNight\",\"Scrypt\",\"IMesh\",\"NIST5\",\"Scrypt\",\"Scrypt\",\"Equihash\",\"Scrypt\",\"Lyra2Z\",\"Green Protocol\",\"PoS\",\"Scrypt\",\"Semux BFT consensus\",\"X11\",\"Quark\",\"PoS\",\"CryptoNight\",\"X16R\",\"Scrypt\",\"NIST5\",\"Lyra2RE\",\"XEVAN\",\"Tribus\",\"Scrypt\",\"Lyra2Z\",\"CryptoNight\",\"CryptoNight Heavy\",\"CryptoNight\",\"Scrypt\",\"Scrypt\",\"Jump Consistent Hash\",\"SHA-256D\",\"CryptoNight\",\"Scrypt\",\"X15\",\"Scrypt\",\"Quark\",\"SHA-256\",\"DPoS\",\"X16R\",\"HMQ1725\",\"X11\",\"X16R\",\"Quark\",\"Quark\",\"Scrypt\",\"Lyra2REv2\",\"Quark\",\"Scrypt\",\"Scrypt\",\"CryptoNight-V7\",\"Cryptonight-GPU\",\"XEVAN\",\"CryptoNight Heavy\",\"X11\",\"X11\",\"Scrypt\",\"PoS\",\"SHA-256\",\"Keccak\",\"X11\",\"X11\",\"Scrypt\",\"SHA-512\",\"X16R\",\"ECC 256K1\",\"Equihash\",\"XEVAN\",\"Lyra2Z\",\"SHA-256\",\"XEVAN\",\"X11\",\"CryptoNight\",\"Quark\",\"Blake\",\"Blake\",\"Equihash\",\"Exosis\",\"Scrypt\",\"Scrypt\",\"Equihash\",\"Quark\",\"Equihash\",\"Quark\",\"Scrypt\",\"QuBit\",\"X11\",\"Scrypt\",\"XEVAN\",\"SHA-256D\",\"X11\",\"SHA-256\",\"X13\",\"SHA-256\",\"X11\",\"DPoS\",\"Scrypt\",\"Scrypt\",\"X11\",\"NeoScrypt\",\"Scrypt\",\"Blake\",\"Scrypt\",\"SHA-256\",\"Scrypt\",\"X11\",\"Scrypt\",\"Scrypt\",\"SHA-256\",\"X11\",\"SHA-256\",\"Scrypt\",\"Scrypt\",\"Scrypt\",\"Groestl\",\"X11\",\"Scrypt\",\"PoS\",\"Scrypt\",\"Scrypt\",\"X11\",\"SHA-256\",\"DPoS\",\"Scrypt\",\"Scrypt\",\"NeoScrypt\",\"Multiple\",\"X13\",\"Equihash+Scrypt\",\"DPoS\",\"Ethash\",\"DPoS\",\"SHA-256\",\"Leased POS\",\"PoS\",\"TRC10\",\"PoS\",\"SHA-256\",\"Scrypt\",\"CryptoNight\",\"Equihash\",\"Scrypt\"],\"Class\":{\"__ndarray__\":\"AAAAAAAAAAAAAAAAAwAAAAMAAAADAAAAAAAAAAMAAAADAAAAAwAAAAAAAAADAAAAAAAAAAAAAAADAAAAAAAAAAMAAAADAAAAAAAAAAAAAAADAAAAAwAAAAMAAAADAAAAAwAAAAAAAAADAAAAAwAAAAMAAAAAAAAAAwAAAAAAAAADAAAAAwAAAAAAAAAAAAAAAwAAAAMAAAADAAAAAwAAAAMAAAADAAAAAAAAAAAAAAADAAAAAwAAAAMAAAADAAAAAwAAAAAAAAAAAAAAAwAAAAAAAAADAAAAAwAAAAMAAAADAAAAAAAAAAMAAAADAAAAAAAAAAMAAAAAAAAAAAAAAAAAAAADAAAAAwAAAAMAAAAAAAAAAAAAAAAAAAAAAAAAAAAAAAMAAAADAAAAAwAAAAAAAAAAAAAAAwAAAAAAAAADAAAAAAAAAAAAAAADAAAAAwAAAAMAAAADAAAAAAAAAAAAAAADAAAAAAAAAAMAAAADAAAAAAAAAAAAAAADAAAAAAAAAAAAAAADAAAAAwAAAAAAAAAAAAAAAwAAAAAAAAAAAAAAAwAAAAAAAAADAAAAAAAAAAMAAAAAAAAAAwAAAAAAAAAAAAAAAwAAAAMAAAAAAAAAAwAAAAMAAAADAAAAAAAAAAMAAAADAAAAAwAAAAMAAAADAAAAAAAAAAAAAAADAAAAAwAAAAMAAAAAAAAAAwAAAAAAAAADAAAAAwAAAAAAAAADAAAAAAAAAAMAAAAAAAAAAAAAAAMAAAADAAAAAAAAAAMAAAADAAAAAAAAAAAAAAADAAAAAAAAAAMAAAAAAAAAAAAAAAAAAAADAAAAAwAAAAMAAAADAAAAAAAAAAAAAAAAAAAAAAAAAAAAAAADAAAAAwAAAAAAAAAAAAAAAAAAAAAAAAAAAAAAAwAAAAAAAAAAAAAAAAAAAAAAAAAAAAAAAwAAAAAAAAADAAAAAAAAAAAAAAADAAAAAAAAAAMAAAAAAAAAAAAAAAMAAAAAAAAAAwAAAAAAAAADAAAAAAAAAAMAAAAAAAAAAAAAAAAAAAAAAAAAAwAAAAAAAAAAAAAAAAAAAAAAAAAAAAAAAwAAAAMAAAAAAAAAAAAAAAMAAAADAAAAAAAAAAAAAAAAAAAAAAAAAAAAAAADAAAAAAAAAAAAAAAAAAAAAAAAAAAAAAAAAAAAAAAAAAAAAAADAAAAAAAAAAAAAAAAAAAAAAAAAAAAAAAAAAAAAwAAAAMAAAADAAAAAAAAAAAAAAAAAAAAAAAAAAMAAAAAAAAAAwAAAAAAAAAAAAAAAwAAAAAAAAADAAAAAwAAAAAAAAADAAAAAwAAAAAAAAADAAAAAAAAAAAAAAAAAAAAAwAAAAAAAAAAAAAAAwAAAAAAAAAAAAAAAAAAAAAAAAAAAAAAAAAAAAAAAAADAAAAAAAAAAMAAAAAAAAAAAAAAAAAAAAAAAAAAwAAAAAAAAADAAAAAAAAAAMAAAADAAAAAwAAAAMAAAAAAAAAAwAAAAAAAAAAAAAAAwAAAAAAAAADAAAAAwAAAAMAAAAAAAAAAwAAAAAAAAADAAAAAwAAAAMAAAAAAAAAAwAAAAAAAAADAAAAAAAAAAAAAAAAAAAAAwAAAAAAAAADAAAAAwAAAAMAAAADAAAAAwAAAAAAAAAAAAAAAwAAAAAAAAAAAAAAAAAAAAMAAAAAAAAAAwAAAAAAAAADAAAAAAAAAAMAAAAAAAAAAAAAAAAAAAAAAAAAAwAAAAAAAAAAAAAAAwAAAAAAAAAAAAAAAAAAAAMAAAADAAAAAwAAAAMAAAAAAAAAAAAAAAAAAAAAAAAAAwAAAAAAAAADAAAAAwAAAAMAAAAAAAAAAAAAAAMAAAADAAAAAAAAAAAAAAADAAAAAAAAAAMAAAADAAAAAwAAAAAAAAADAAAAAwAAAAAAAAAAAAAAAAAAAAMAAAADAAAAAwAAAAAAAAAAAAAAAAAAAAMAAAADAAAAAAAAAAMAAAADAAAAAwAAAAMAAAAAAAAAAQAAAAEAAAADAAAAAwAAAAMAAAAAAAAAAQAAAAAAAAAAAAAAAAAAAAAAAAADAAAAAwAAAAMAAAADAAAAAAAAAAAAAAAAAAAAAwAAAAAAAAADAAAAAAAAAAAAAAAAAAAAAAAAAAMAAAAAAAAAAAAAAAMAAAAAAAAAAAAAAAMAAAADAAAAAAAAAAMAAAAAAAAAAwAAAAMAAAADAAAAAwAAAAAAAAAAAAAAAwAAAAAAAAADAAAAAAAAAAAAAAAAAAAAAAAAAAAAAAAAAAAAAwAAAAMAAAADAAAAAAAAAAAAAAAAAAAAAAAAAAAAAAAAAAAAAwAAAAAAAAADAAAAAwAAAAMAAAADAAAAAAAAAAAAAAAAAAAAAAAAAAMAAAAAAAAAAAAAAAMAAAAAAAAAAAAAAAMAAAABAAAAAwAAAAAAAAADAAAAAwAAAAAAAAAAAAAAAwAAAAAAAAADAAAAAwAAAAAAAAADAAAAAwAAAAAAAAADAAAAAAAAAAMAAAAAAAAAAAAAAAMAAAAAAAAAAAAAAAAAAAAAAAAAAAAAAAMAAAADAAAAAwAAAAAAAAAAAAAAAAAAAAMAAAAAAAAAAwAAAAAAAAADAAAAAAAAAAAAAAAAAAAAAAAAAAMAAAAAAAAAAAAAAAAAAAADAAAAAAAAAAMAAAAAAAAAAwAAAAAAAAAAAAAAAAAAAAMAAAADAAAAAAAAAAAAAAAAAAAAAAAAAAAAAAAAAAAAAwAAAAAAAAADAAAAAAAAAAMAAAAAAAAAAAAAAAEAAAAAAAAAAgAAAAAAAAAAAAAAAAAAAAMAAAADAAAAAAAAAA==\",\"dtype\":\"int32\",\"order\":\"little\",\"shape\":[532]},\"CoinName\":[\"42 Coin\",\"404Coin\",\"EliteCoin\",\"Bitcoin\",\"Ethereum\",\"Litecoin\",\"Dash\",\"Monero\",\"Ethereum Classic\",\"ZCash\",\"Bitshares\",\"DigiByte\",\"BitcoinDark\",\"PayCoin\",\"ProsperCoin\",\"KoboCoin\",\"Spreadcoin\",\"Argentum\",\"Aurora Coin\",\"BlueCoin\",\"MyriadCoin\",\"MoonCoin\",\"ZetaCoin\",\"SexCoin\",\"Quatloo\",\"EnergyCoin\",\"QuarkCoin\",\"Riecoin\",\"Digitalcoin \",\"BitBar\",\"Catcoin\",\"CryptoBullion\",\"CannaCoin\",\"CryptCoin\",\"CasinoCoin\",\"Diamond\",\"Verge\",\"DevCoin\",\"EarthCoin\",\"E-Gulden\",\"Einsteinium\",\"Emerald\",\"Exclusive Coin\",\"FlutterCoin\",\"Franko\",\"FeatherCoin\",\"GrandCoin\",\"GlobalCoin\",\"GoldCoin\",\"HoboNickels\",\"HyperStake\",\"Infinite Coin\",\"IOCoin\",\"IXcoin\",\"KrugerCoin\",\"LuckyCoin\",\"Litebar \",\"MaxCoin\",\"MegaCoin\",\"MediterraneanCoin\",\"MintCoin\",\"MinCoin\",\"MazaCoin\",\"Nautilus Coin\",\"NavCoin\",\"NobleCoin\",\"Namecoin\",\"NyanCoin\",\"OpalCoin\",\"Orbitcoin\",\"PotCoin\",\"PhoenixCoin\",\"Reddcoin\",\"RonPaulCoin\",\"StableCoin\",\"SmartCoin\",\"SuperCoin\",\"SyncCoin\",\"SysCoin\",\"TeslaCoin\",\"TigerCoin\",\"TittieCoin\",\"TorCoin\",\"TerraCoin\",\"UnbreakableCoin\",\"Unobtanium\",\"UroCoin\",\"UnitaryStatus Dollar\",\"UltraCoin\",\"ViaCoin\",\"VeriCoin\",\"Vertcoin\",\"WorldCoin\",\"X11 Coin\",\"Crypti\",\"JouleCoin\",\"StealthCoin\",\"ZCC Coin\",\"ByteCoin\",\"DigitalNote \",\"BurstCoin\",\"StorjCoin\",\"MonaCoin\",\"Neutron\",\"FairCoin\",\"Gulden\",\"RubyCoin\",\"PesetaCoin\",\"Kore\",\"Wild Beast Coin\",\"Dnotes\",\"Flo\",\"8BIT Coin\",\"Sativa Coin\",\"ArtByte\",\"Folding Coin\",\"Ucoin\",\"Unitus\",\"CypherPunkCoin\",\"OmniCron\",\"Vtorrent\",\"GreenCoin\",\"Cryptonite\",\"MasterCoin\",\"SoonCoin\",\"1Credit\",\"IslaCoin\",\"Nexus\",\"MarsCoin \",\"Crypto\",\"Anarchists Prime\",\"Droidz\",\"BowsCoin\",\"Squall Coin\",\"Song Coin\",\"BitZeny\",\"Diggits\",\"Expanse\",\"Paycon\",\"Siacoin\",\"Emercoin\",\"EverGreenCoin\",\"MindCoin\",\"I0coin\",\"Decred\",\"Revolution VR\",\"HOdlcoin\",\"EDRCoin\",\"Hitcoin\",\"Gamecredits\",\"DubaiCoin\",\"CarpeDiemCoin\",\"PWR Coin\",\"BillaryCoin\",\"GPU Coin\",\"Adzcoin\",\"SoilCoin\",\"YoCoin\",\"SibCoin\",\"EuropeCoin\",\"ZeitCoin\",\"SwingCoin\",\"SafeExchangeCoin\",\"Nebuchadnezzar\",\"Francs\",\"BolivarCoin\",\"Ratecoin\",\"Revenu\",\"Clockcoin\",\"VIP Tokens\",\"BitSend\",\"Omni\",\"Let it Ride\",\"PutinCoin\",\"iBankCoin\",\"Frankywillcoin\",\"MudraCoin\",\"PizzaCoin\",\"Lutetium Coin\",\"Komodo\",\"GoldBlocks\",\"CarterCoin\",\"Karbo\",\"BitTokens\",\"ZayedCoin\",\"MustangCoin\",\"ZoneCoin\",\"Circuits of Value\",\"RootCoin\",\"DopeCoin\",\"BitCurrency\",\"DollarCoin\",\"Swiscoin\",\"Shilling\",\"BuzzCoin\",\"Opair\",\"PesoBit\",\"Halloween Coin\",\"ZCoin\",\"CoffeeCoin\",\"RoyalCoin\",\"GanjaCoin V2\",\"TeamUP\",\"LanaCoin\",\"Elementrem\",\"ZClassic\",\"ARK\",\"InsaneCoin\",\"KiloCoin\",\"ArtexCoin\",\"EmberCoin\",\"XenixCoin\",\"FreeCoin\",\"PLNCoin\",\"AquariusCoin\",\"Kurrent\",\"Creatio\",\"Eternity\",\"Eurocoin\",\"BitcoinFast\",\"Stakenet\",\"BitConnect Coin\",\"MoneyCoin\",\"Enigma\",\"Cannabis Industry Coin\",\"Russiacoin\",\"PandaCoin\",\"GameUnits\",\"GAKHcoin\",\"Allsafe\",\"LiteCreed\",\"OsmiumCoin\",\"Bikercoins\",\"HexxCoin\",\"Klingon Empire Darsek\",\"Internet of People\",\"KushCoin\",\"Printerium\",\"PacCoin\",\"Impeach\",\"Citadel\",\"Zilbercoin\",\"FirstCoin\",\"BeaverCoin\",\"FindCoin\",\"VaultCoin\",\"Zero\",\"OpenChat\",\"Canada eCoin\",\"Zoin\",\"RenosCoin\",\"DubaiCoin\",\"VirtacoinPlus\",\"TajCoin\",\"Impact\",\"EB3coin\",\"Atmos\",\"HappyCoin\",\"Coinonat\",\"MacronCoin\",\"Condensate\",\"Independent Money System\",\"ArgusCoin\",\"LomoCoin\",\"ProCurrency\",\"GoldReserve\",\"BenjiRolls\",\"GrowthCoin\",\"ILCoin\",\"Phreak\",\"Degas Coin\",\"HTML5 Coin\",\"Ultimate Secure Cash\",\"EquiTrader\",\"QTUM\",\"Quantum Resistant Ledger\",\"Espers\",\"Dynamic\",\"Nano\",\"ChanCoin\",\"Dinastycoin\",\"Denarius\",\"DigitalPrice\",\"Virta Unique Coin\",\"Bitcoin Planet\",\"Unify\",\"BritCoin\",\"SocialCoin\",\"ArcticCoin\",\"DAS\",\"Linda\",\"LeviarCoin\",\"DeepOnion\",\"Bitcore\",\"gCn Coin\",\"SmartCash\",\"Signatum\",\"Onix\",\"Cream\",\"Bitcoin Cash\",\"Monoeci\",\"Draftcoin\",\"Vechain\",\"Sojourn Coin\",\"Stakecoin\",\"NewYorkCoin\",\"FrazCoin\",\"Kronecoin\",\"AdCoin\",\"Linx\",\"CoinonatX\",\"Ethereum Dark\",\"Sumokoin\",\"Obsidian\",\"Cardano\",\"Regalcoin\",\"BitcoinZ\",\"TrezarCoin\",\"Elements\",\"TerraNovaCoin\",\"VIVO Coin\",\"Rupee\",\"Bitcoin Gold\",\"WomenCoin\",\"Theresa May Coin\",\"NamoCoin\",\"LUXCoin\",\"Pirl\",\"Xios\",\"Bitcloud 2.0\",\"eBoost\",\"KekCoin\",\"BlackholeCoin\",\"Infinity Economics\",\"Pura\",\"Innova\",\"Ellaism\",\"GoByte\",\"Magnet\",\"Lamden Tau\",\"Electra\",\"Bitcoin Diamond\",\"SHIELD\",\"Cash & Back Coin\",\"UltraNote\",\"BitCoal\",\"DaxxCoin\",\"Bulwark\",\"Kalkulus\",\"AC3\",\"Lethean\",\"GermanCoin\",\"LiteCoin Ultra\",\"PopularCoin\",\"PhantomX\",\"Photon\",\"Sucre\",\"SparksPay\",\"Digiwage\",\"GunCoin\",\"IrishCoin\",\"Trollcoin\",\"Litecoin Plus\",\"Monkey Project\",\"Pioneer Coin\",\"UnitedBitcoin\",\"Interzone\",\"TokenPay\",\"1717 Masonic Commemorative Token\",\"My Big Coin\",\"TurtleCoin\",\"MUNcoin\",\"Unified Society USDEX\",\"Niobio Cash\",\"ShareChain\",\"Travelflex\",\"KREDS\",\"Tokyo Coin\",\"BiblePay\",\"LitecoinCash\",\"BitFlip\",\"LottoCoin\",\"Crypto Improvement Fund\",\"Stipend\",\"Poa Network\",\"Pushi\",\"Ellerium\",\"Velox\",\"Ontology\",\"Callisto Network\",\"BitTube\",\"Poseidon\",\"Aidos Kuneen\",\"Bitspace\",\"Briacoin\",\"Ignition\",\"Bitrolium\",\"MedicCoin\",\"Alpenschillling\",\"Bitcoin Green\",\"Deviant Coin\",\"Abjcoin\",\"Semux\",\"FuturoCoin\",\"Carebit\",\"Zealium\",\"Monero Classic\",\"Proton\",\"iDealCash\",\"Jumpcoin\",\"Infinex\",\"Bitcoin Incognito\",\"KEYCO\",\"HollyWoodCoin\",\"GINcoin\",\"PlatinCoin\",\"Loki\",\"Newton Coin\",\"Swisscoin\",\"Xt3ch\",\"MassGrid\",\"TheVig\",\"PluraCoin\",\"EmaratCoin\",\"Dekado\",\"Lynx\",\"Poseidon Quark\",\"BitcoinWSpectrum\",\"Muse\",\"Motion\",\"PlusOneCoin\",\"Axe\",\"Trivechain\",\"Dystem\",\"Giant\",\"Peony Coin\",\"Absolute Coin\",\"Vitae\",\"HexCoin\",\"TPCash\",\"Webchain\",\"Ryo\",\"Urals Coin\",\"Qwertycoin\",\"ARENON\",\"EUNO\",\"MMOCoin\",\"Ketan\",\"Project Pai\",\"XDNA\",\"PAXEX\",\"Azart\",\"ThunderStake\",\"Kcash\",\"Xchange\",\"Acute Angle Cloud\",\"CrypticCoin\",\"Bettex coin\",\"Actinium\",\"Bitcoin SV\",\"BitMoney\",\"Junson Ming Chan Coin\",\"FREDEnergy\",\"HerbCoin\",\"Universal Molecule\",\"Lithium\",\"PirateCash\",\"Exosis\",\"Block-Logic\",\"Oduwa\",\"Beam\",\"Galilel\",\"Bithereum\",\"Crypto Sports\",\"Credit\",\"SLICE\",\"Dash Platinum\",\"Nasdacoin\",\"Beetle Coin\",\"Titan Coin\",\"Award\",\"BLAST\",\"Bitcoin Rhodium\",\"GlobalToken\",\"Insane Coin\",\"ALAX\",\"LiteDoge\",\"SolarCoin\",\"TruckCoin\",\"UFO Coin\",\"OrangeCoin\",\"BlakeCoin\",\"BitstarCoin\",\"NeosCoin\",\"HyperCoin\",\"PinkCoin\",\"Crypto Escudo\",\"AudioCoin\",\"IncaKoin\",\"Piggy Coin\",\"Crown Coin\",\"Genstake\",\"SmileyCoin\",\"XiaoMiCoin\",\"Groestlcoin\",\"CapriCoin\",\" ClubCoin\",\"Radium\",\"Bata\",\"Pakcoin\",\"Creditbit \",\"OKCash\",\"Lisk\",\"HiCoin\",\"WhiteCoin\",\"FriendshipCoin\",\"JoinCoin\",\"Triangles Coin\",\"Vollar\",\"EOS\",\"Reality Clash\",\"Oxycoin\",\"TigerCash\",\"Waves\",\"Particl\",\"BitTorrent\",\"Nxt\",\"ZEPHYR\",\"Gapcoin\",\"Beldex\",\"Horizen\",\"BitcoinPlus\"],\"ProofType\":[\"PoW/PoS\",\"PoW/PoS\",\"PoW/PoS\",\"PoW\",\"PoW\",\"PoW\",\"PoW/PoS\",\"PoW\",\"PoW\",\"PoW\",\"PoS\",\"PoW\",\"PoW/PoS\",\"PoS\",\"PoW\",\"PoW/PoS\",\"PoW\",\"PoW\",\"PoW/PoS\",\"PoW/PoS\",\"PoW\",\"PoW\",\"PoW\",\"PoW\",\"PoW\",\"PoW/PoS\",\"PoW\",\"PoW\",\"PoW\",\"PoW/PoS\",\"PoW\",\"PoW/PoS\",\"PoW\",\"PoW\",\"PoC\",\"PoW/PoS\",\"PoW\",\"PoW\",\"PoW\",\"PoW\",\"PoW\",\"PoW\",\"PoS\",\"PoS/PoW/PoT\",\"PoW\",\"PoW\",\"PoW\",\"PoW\",\"PoW\",\"PoW/PoS\",\"PoS\",\"PoW\",\"PoW/PoS\",\"PoW\",\"PoW\",\"PoW\",\"PoW\",\"PoW/PoS\",\"PoW\",\"PoW\",\"PoS\",\"PoW\",\"PoW/PoS\",\"PoS\",\"PoW/PoS\",\"PoW\",\"PoW\",\"PoW\",\"PoW/PoS\",\"PoW/PoS\",\"PoW/PoS\",\"PoW/PoS\",\"PoW/PoS\",\"PoW\",\"PoW\",\"PoW\",\"PoS\",\"PoW/PoS\",\"PoW\",\"PoS\",\"PoW\",\"PoS\",\"PoW/PoS\",\"PoW\",\"PoW\",\"PoW\",\"PoW\",\"PoW/PoS\",\"PoW/PoS\",\"PoW\",\"PoST\",\"PoW\",\"PoW\",\"PoW/PoS\",\"PoS\",\"PoW\",\"PoW/PoS\",\"PoW/PoS\",\"PoW\",\"PoW\",\"PoC\",\"PoS\",\"PoW\",\"PoW/PoS\",\"PoW/PoS\",\"PoW\",\"PoS\",\"PoW\",\"PoW/PoS\",\"PoW\",\"PoS\",\"PoW\",\"PoW/PoS\",\"PoW/PoS\",\"PoW\",\"PoW\",\"PoS\",\"PoW\",\"PoW\",\"PoW\",\"PoW/PoS\",\"PoW\",\"PoW\",\"PoW\",\"PoW\",\"PoW\",\"PoW/PoS\",\"PoW/nPoS\",\"PoW\",\"PoW\",\"PoW\",\"PoW/PoS\",\"PoW\",\"PoS/PoW\",\"PoW\",\"PoW\",\"PoS\",\"PoW\",\"PoW/PoS\",\"PoW\",\"PoW/PoS\",\"PoW/PoS\",\"PoW\",\"PoW\",\"PoW/PoS\",\"PoW\",\"PoW\",\"PoW/PoS\",\"PoW/PoS\",\"PoW\",\"PoW/PoS\",\"PoW\",\"PoW/PoS\",\"PoW/PoS\",\"PoS\",\"PoW\",\"PoW\",\"PoW\",\"PoW\",\"PoW/PoS\",\"PoS\",\"PoW/PoS\",\"PoC\",\"PoS\",\"PoW\",\"PoW\",\"PoW/PoS\",\"PoW/PoS\",\"PoW/PoS\",\"PoW/PoS\",\"PoW/PoS\",\"PoW\",\"PoS\",\"PoW/PoS\",\"PoW/PoS\",\"PoW/PoS\",\"PoS\",\"PoW\",\"PoS\",\"dPoW/PoW\",\"PoW/PoS\",\"PoW/PoS\",\"PoW\",\"PoW/PoS\",\"PoW\",\"PoW/PoS\",\"PoW/PoS\",\"PoW\",\"PoW/PoS\",\"PoW\",\"PoS\",\"PoW\",\"PoW/PoW\",\"PoW\",\"PoW/PoS\",\"PoS\",\"PoW/PoS\",\"PoW/PoS\",\"PoW\",\"PoS\",\"PoS\",\"PoW/PoS\",\"PoS\",\"PoW/PoS\",\"PoW\",\"PoW\",\"DPoS\",\"PoW/PoS\",\"PoW\",\"PoW\",\"PoW/PoS\",\"PoW/PoS\",\"PoS\",\"PoW/PoS\",\"PoW/PoS\",\"PoW\",\"PoS\",\"PoW/PoS\",\"PoW/PoS\",\"PoW/PoS\",\"TPoS\",\"PoW/PoS\",\"PoW/PoS\",\"PoW/PoS\",\"PoW\",\"PoW/PoS\",\"PoS\",\"PoW/PoS\",\"PoW/PoS\",\"PoS\",\"PoW/PoS\",\"PoW\",\"PoW\",\"PoW\",\"PoW/PoS\",\"PoW/PoS\",\"PoW/PoS\",\"PoW/PoS\",\"PoW\",\"PoW/PoS\",\"PoW\",\"PoS\",\"PoW/PoS \",\"PoW\",\"PoS\",\"PoW\",\"PoW\",\"PoW/PoS\",\"PoW\",\"PoW\",\"PoS\",\"PoW\",\"PoW/PoS\",\"PoW/PoS\",\"PoW/PoS\",\"PoW\",\"PoS\",\"PoW/PoS\",\"PoW\",\"PoS\",\"PoW/PoS\",\"PoW/PoS\",\"PoW/PoS\",\"PoW/PoS\",\"PoS\",\"PoW/PoS\",\"PoW\",\"PoS\",\"PoW\",\"PoS\",\"PoW/PoS\",\"PoW/PoS\",\"PoS\",\"PoW\",\"PoS\",\"PoW\",\"PoW/PoS\",\"PoW\",\"PoW\",\"PoW\",\"PoW\",\"PoW/PoS\",\"PoW\",\"PoW/PoS\",\"PoW/PoS\",\"PoW\",\"PoW/PoS\",\"PoW\",\"PoW\",\"PoW\",\"PoW/PoS\",\"PoW\",\"PoW/PoS\",\"PoW\",\"PoW\",\"PoW\",\"PoS\",\"PoW\",\"PoW/PoS\",\"PoW\",\"PoW/PoS\",\"PoS\",\"Proof of Authority\",\"PoW\",\"PoS\",\"PoW\",\"PoW\",\"PoW\",\"PoW\",\"PoW\",\"PoW/PoS\",\"PoW/PoS\",\"PoW\",\"PoS\",\"PoS\",\"PoW/PoS\",\"PoW\",\"PoW/PoS\",\"PoW\",\"PoW/PoS\",\"PoW\",\"PoS\",\"PoW\",\"PoW/PoS\",\"PoW/PoS\",\"PoW/PoS\",\"PoW/PoS\",\"PoW\",\"PoW/PoS\",\"PoW/PoS\",\"PoW\",\"PoS\",\"PoW/PoS\",\"PoS\",\"PoW\",\"PoW\",\"PoW\",\"PoW\",\"PoW/PoS\",\"DPoS\",\"PoW/PoS\",\"PoW/PoS\",\"PoW\",\"PoW/PoS\",\"PoW\",\"PoW\",\"PoW\",\"PoS\",\"PoS\",\"PoW\",\"PoW\",\"PoW/PoS\",\"PoW/PoS\",\"PoW\",\"PoW/PoS\",\"PoW\",\"PoW\",\"PoW\",\"PoS\",\"PoW\",\"PoW\",\"PoW/PoS\",\"PoW/PoS\",\"PoS\",\"PoW\",\"PoW\",\"PoW\",\"PoS\",\"PoS\",\"PoW and PoS\",\"PoW\",\"PoW\",\"PoW/PoS\",\"PoW\",\"PoW\",\"PoW\",\"PoW\",\"PoS\",\"POBh\",\"PoW + Hive\",\"PoW\",\"PoW\",\"PoW\",\"PoW/PoS\",\"PoA\",\"PoW/PoS\",\"PoW/PoS\",\"PoS\",\"PoS\",\"PoW\",\"PoW\",\"PoW\",\"PoW\",\"PoW/PoS\",\"PoW/PoS\",\"PoW/PoS\",\"PoW\",\"PoS\",\"PoW\",\"PoS\",\"PoS\",\"PoW/PoS\",\"DPoS\",\"PoW\",\"PoW/PoS\",\"PoS\",\"PoW\",\"PoS\",\"PoW/PoS\",\"PoW\",\"PoW\",\"PoS/PoW\",\"PoW\",\"PoS\",\"PoW\",\"PoW\",\"PoW\",\"PoW\",\"PoW/PoS\",\"PoS\",\"PoW\",\"PoW/PoS\",\"PoW\",\"PoW/PoS\",\"PoS\",\"HPoW\",\"PoS\",\"PoS\",\"PoS\",\"PoW\",\"PoW\",\"PoW\",\"PoW/PoS\",\"PoS\",\"PoW/PoS\",\"PoS\",\"PoW/PoS\",\"PoS\",\"PoW\",\"PoW/PoS\",\"PoW\",\"PoW\",\"PoW\",\"PoW\",\"PoS\",\"PoW/PoS\",\"PoS\",\"PoS\",\"PoW\",\"PoW/PoS\",\"PoS\",\"PoW\",\"PoW/PoS\",\"Zero-Knowledge Proof\",\"PoW\",\"DPOS\",\"PoW\",\"PoS\",\"PoW\",\"PoW\",\"Pos\",\"PoS\",\"PoW\",\"PoW/PoS\",\"PoW\",\"PoW\",\"PoS\",\"PoW\",\"PoW\",\"PoW/PoS\",\"PoW\",\"PoW/PoS\",\"PoW\",\"PoS\",\"PoW/PoS\",\"PoW\",\"PoS\",\"PoW/PoS\",\"PoW/PoS\",\"PoW/PoS\",\"PoW/PoS\",\"PoW\",\"PoW\",\"PoW\",\"PoW/PoS\",\"DPoS\",\"PoW/PoS\",\"PoW\",\"PoW/PoS\",\"PoW\",\"PoW/PoS\",\"PoW\",\"PoW/PoS\",\"PoS\",\"PoW/PoS\",\"PoW/PoS\",\"PoW\",\"PoW/PoS\",\"PoW/PoS\",\"PoW/PoS\",\"PoW\",\"PoW/PoS\",\"PoW\",\"PoW/PoS\",\"PoW\",\"PoW/PoS\",\"PoW/PoS\",\"PoS\",\"PoW\",\"PoW\",\"Proof of Trust\",\"PoW/PoS\",\"DPoS\",\"PoS\",\"PoW/PoS\",\"PoW/PoS\",\"PoW\",\"PoW/PoS\",\"PoW\",\"DPoS\",\"PoW\",\"DPoS\",\"PoS\",\"LPoS\",\"PoS\",\"DPoS\",\"PoS/LPoS\",\"DPoS\",\"PoW/PoS\",\"PoW\",\"PoW\",\"PoS\"],\"TotalCoinSupply\":[\"42\",\"532000000\",\"314159265359\",\"21000000\",\"0\",\"84000000\",\"22000000\",\"0\",\"210000000\",\"21000000\",\"3600570502\",\"21000000000\",\"22000000\",\"12500000\",\"21000000\",\"350000000\",\"20000000\",\"64000000\",\"16768584\",\"0\",\"2000000000\",\"384000000000\",\"169795588\",\"250000000\",\"100000000\",\"0\",\"247000000\",\"84000000\",\"48166000\",\"500000\",\"21000000 \",\"1000000\",\"13140000\",\"18000000\",\"40000000000\",\"4380000\",\"16555000000\",\"21000000000\",\"13500000000\",\"21000000 \",\"299792458\",\"32000000\",\"0\",\"0\",\"11235813\",\"336000000\",\"1420609614\",\"70000000\",\"72245700\",\"120000000\",\"0\",\"90600000000\",\"22000000\",\"21000000\",\"265420800\",\"20000000\",\"1350000\",\"100000000\",\"42000000\",\"200000000\",\"0\",\"10000000\",\"2419200000\",\"16180000\",\"0\",\"15000000000\",\"21000000\",\"337000000\",\"0\",\"3770000\",\"420000000\",\"98000000\",\"0\",\"21000000\",\"250000000\",\"51200000\",\"0\",\"1000\",\"888000000\",\"100000000\",\"47011968\",\"2300000000\",\"10000000\",\"42000000\",\"80000000\",\"250000\",\"0\",\"1600000000\",\"100000000\",\"23000000\",\"0\",\"84000000\",\"265420800\",\"5500000\",\"0\",\"45000000\",\"0\",\"1000000000\",\"184467440735\",\"10000000000\",\"2158812800\",\"500000000\",\"105120000\",\"68000000\",\"0\",\"1680000000\",\"0\",\"166386000\",\"12000000\",\"2628000\",\"500000000\",\"160000000\",\"0\",\"10000000\",\"1000000000\",\"1000000000\",\"20000000\",\"0\",\"0\",\"3371337\",\"20000000\",\"10000000000\",\"1840000000\",\"619478\",\"21000000\",\"92000000000\",\"0\",\"78000000\",\"33000000\",\"65789100\",\"53760000\",\"5060000\",\"21000000\",\"0\",\"210240000\",\"250000000\",\"100000000\",\"16906397\",\"50000000\",\"0\",\"1000000000\",\"26298000\",\"16000000\",\"21000000\",\"21000000\",\"210000000\",\"81962100\",\"22000000\",\"26550000000\",\"84000000\",\"10500000\",\"21626280000 \",\"0\",\"42000000\",\"221052632\",\"84000000\",\"30000000\",\"168351300\",\"24000000\",\"384000000\",\" 99000000000\",\"40000000\",\"2147483647\",\"20000000\",\"20000000\",\"25000000\",\"75000000\",\"222725000\",\"525000000\",\"90000000\",\"139000000\",\"616448\",\"33500000\",\"2000000000\",\"44333333\",\"100000000\",\"200000000\",\"25000000\",\"657000000\",\"200000000\",\"50000000\",\"90000000\",\"10000000\",\"21000000\",\"9736000\",\"3000000\",\"21000000\",\"1200000000\",\"0\",\"200000000\",\"0\",\"10638298\",\"3100000000\",\"30000000\",\"20000000000\",\"74000000\",\"0\",\"1500000000\",\"21400000\",\"39999898\",\"2500124\",\"100000000\",\"301000000\",\"7506000000\",\"26205539\",\"21000000\",\"125000000\",\"30000000\",\"10000000000\",\"500000000\",\"850000000\",\"3853326.77707314\",\"50000000\",\"38540000 \",\"42000000\",\"228000000\",\"20000000\",\"60000000\",\"20000000\",\"33000000\",\"76500000\",\"28000000\",\"650659833\",\"5000000\",\"21000000\",\"144000000\",\"32514916898\",\"13000000\",\"3315789\",\"15000000\",\"78835200\",\"2714286\",\"25000000\",\"9999999\",\"500000000\",\"21000000\",\"9354000\",\"20000000\",\"100000000000\",\"21933333\",\"185000000\",\"55000000\",\"110000000\",\"3360000\",\"14524851.4827\",\"1000000000\",\"17000000\",\"1000000000\",\"100000000 \",\"21000000\",\"34426423\",\"2232901\",\"100000000\",\"36900000\",\"110000000\",\"4000000000\",\"110290030\",\"100000000\",\"48252000\",\"400000000\",\"500000000\",\"21212121\",\"28600000\",\"1000000000\",\"75000000000\",\"40000000\",\"35520400\",\"2000000000\",\"2500000000\",\"30000000\",\"105000000\",\"90000000000\",\"200084200\",\"72000000\",\"100000000\",\"105000000\",\"50000000000\",\"0\",\"340282367\",\"30000000\",\"2000000000\",\"10000000\",\"100000000\",\"120000000\",\"100000000\",\"19276800\",\"30000000\",\" 75000000\",\"60000000\",\"18900000\",\"50000000000\",\"54000000\",\"18898187.6216583\",\"21000000\",\"200000000000\",\"5000000000\",\"137500000\",\"1100000000\",\"100000000\",\"21000000\",\"9507271\",\"17405891.19707116\",\"86712634466\",\"10500000000\",\"61599965\",\"0\",\"20000000\",\"84000000\",\"100000000\",\"100000000\",\"48252000\",\"4200000\",\"88888888\",\"91388946\",\"45000000000\",\"27000000\",\"21000000000\",\"400000000\",\"1800000000\",\"15733333\",\"27000000\",\"24000000\",\"21000000\",\"25000000000\",\"100000000\",\"1200000000\",\"60000000\",\"156306732.71\",\"21000000\",\"200000000\",\"100000000\",\"21000000\",\"14788275.991\",\"9000000000\",\"350000000\",\"45000000\",\"280000000\",\"31800000\",\"144000000\",\"500000000\",\"30000000000\",\"210000000\",\"660000000\",\"210000000\",\"85000000000\",\"12500000\",\"10000000000\",\"27716121\",\"20000000\",\"550000000\",\"999481516\",\"50000000000\",\"150000000\",\"4999999999\",\"50000000\",\" 90000000000\",\"19800000\",\"21000000\",\"120000000\",\"500000000\",\"64000000\",\"900000000\",\"4000000\",\"21000000\",\"23000000\",\"20166000\",\"23000000\",\"25000000\",\"1618033\",\"30000000\",\"1000000000000\",\"16600000\",\"232000000\",\"336000000\",\"10000000000\",\"100000000\",\"1100000000\",\"800000000\",\"5200000000\",\"840000000\",\"40000000\",\"18406979840\",\"500000000\",\"19340594\",\"252460800\",\"25000000\",\"60000000\",\"124000000\",\"1000000000\",\"6500000000\",\"1000000000\",\"21000000\",\"25000000\",\"50000000\",\"3000000\",\"5000000\",\"70000000\",\"500000000\",\"300000000\",\"21000000\",\"88000000\",\"30000000\",\"100000000\",\"100000000\",\"200000000\",\"80000000\",\"18400000\",\"45000000\",\"5121951220\",\"21000000\",\"26280000\",\"21000000\",\"18000000\",\"26000000\",\"10500000\",\"600000518\",\"150000000\",\"184000000000\",\"10200000000\",\"44000000\",\"168000000\",\"100000000\",\"1000000000\",\"84000000\",\"90000000\",\"92000000000\",\"650000000 \",\"100262205\",\"18081806 \",\"22075700\",\"21000000\",\"21000000\",\"82546564\",\"21000000\",\"5151000\",\"16880000000\",\"52500000\",\"100000000\",\"22105263\",\"1000000000\",\"1750000000\",\"88188888\",\"210000000\",\"184470000000\",\"55000000\",\"50000000\",\"260000000\",\"210000000\",\"2100000000\",\"366000000\",\"100000000\",\"25000000\",\"18000000000\",\"1000000000\",\"100000000\",\"1000000000\",\"7600000000\",\"50000000\",\"84000000\",\"21000000\",\"70000000000\",\"0\",\"8080000000\",\"54000000\",\"105120001.44\",\"25228800\",\"105000000\",\"21000000\",\"120000000\",\"21000000\",\"262800000\",\"19035999\",\"30886000\",\"13370000\",\"74800000000\",\"100000000\",\"19700000\",\"84000000\",\"500000000\",\"5000000000\",\"420000000\",\"64000000\",\"2100000\",\"168000000\",\"30000000\",\"1000000000\",\"35000000000\",\"98100000000\",\"0\",\"4000000000\",\"200000000\",\"7000000000\",\"54256119\",\"21000000\",\"0\",\"500000000\",\"1000000000\",\"10500000000\",\"190000000\",\"1000000000\",\"42000000\",\"15000000\",\"50000000000\",\"400000000\",\"105000000\",\"208000000\",\"160000000\",\"9000000\",\"5000000\",\"182000000\",\"16504333\",\"105000000\",\"159918400\",\"10008835635\",\"300000000\",\"60168145\",\"2800000\",\"120000\",\"2100000000\",\"0\",\"24487944\",\"0\",\"1000000000\",\"100000000\",\"8634140\",\"990000000000\",\"1000000000\",\"2000000000\",\"250000000\",\"1400222610\",\"21000000\",\"1000000\"],\"TotalCoinsMined\":{\"__ndarray__\":\"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\",\"dtype\":\"float64\",\"order\":\"little\",\"shape\":[532]}},\"selected\":{\"id\":\"2397\"},\"selection_policy\":{\"id\":\"2431\"}},\"id\":\"2396\",\"type\":\"ColumnDataSource\"},{\"attributes\":{},\"id\":\"2399\",\"type\":\"StringEditor\"},{\"attributes\":{\"editor\":{\"id\":\"2424\"},\"field\":\"Class\",\"formatter\":{\"id\":\"2423\"},\"title\":\"Class\"},\"id\":\"2425\",\"type\":\"TableColumn\"},{\"attributes\":{\"columns\":[{\"id\":\"2400\"},{\"id\":\"2405\"},{\"id\":\"2410\"},{\"id\":\"2415\"},{\"id\":\"2420\"},{\"id\":\"2425\"}],\"height\":300,\"reorderable\":false,\"source\":{\"id\":\"2396\"},\"view\":{\"id\":\"2430\"},\"width\":700},\"id\":\"2428\",\"type\":\"DataTable\"},{\"attributes\":{},\"id\":\"2404\",\"type\":\"StringEditor\"},{\"attributes\":{\"format\":\"0,0.0[00000]\"},\"id\":\"2418\",\"type\":\"NumberFormatter\"},{\"attributes\":{\"editor\":{\"id\":\"2414\"},\"field\":\"TotalCoinSupply\",\"formatter\":{\"id\":\"2413\"},\"title\":\"TotalCoinSupply\"},\"id\":\"2415\",\"type\":\"TableColumn\"},{\"attributes\":{\"editor\":{\"id\":\"2419\"},\"field\":\"TotalCoinsMined\",\"formatter\":{\"id\":\"2418\"},\"title\":\"TotalCoinsMined\"},\"id\":\"2420\",\"type\":\"TableColumn\"},{\"attributes\":{\"margin\":[5,5,5,5],\"name\":\"HSpacer02359\",\"sizing_mode\":\"stretch_width\"},\"id\":\"2395\",\"type\":\"Spacer\"},{\"attributes\":{},\"id\":\"2398\",\"type\":\"StringFormatter\"},{\"attributes\":{\"margin\":[5,5,5,5],\"name\":\"HSpacer02360\",\"sizing_mode\":\"stretch_width\"},\"id\":\"2433\",\"type\":\"Spacer\"},{\"attributes\":{},\"id\":\"2409\",\"type\":\"StringEditor\"},{\"attributes\":{},\"id\":\"2431\",\"type\":\"UnionRenderers\"},{\"attributes\":{\"children\":[{\"id\":\"2395\"},{\"id\":\"2428\"},{\"id\":\"2433\"}],\"margin\":[0,0,0,0],\"name\":\"Row02355\",\"tags\":[\"embedded\"]},\"id\":\"2394\",\"type\":\"Row\"},{\"attributes\":{},\"id\":\"2423\",\"type\":\"NumberFormatter\"},{\"attributes\":{},\"id\":\"2424\",\"type\":\"IntEditor\"},{\"attributes\":{},\"id\":\"2397\",\"type\":\"Selection\"},{\"attributes\":{},\"id\":\"2414\",\"type\":\"StringEditor\"},{\"attributes\":{},\"id\":\"2408\",\"type\":\"StringFormatter\"},{\"attributes\":{},\"id\":\"2413\",\"type\":\"StringFormatter\"},{\"attributes\":{},\"id\":\"2403\",\"type\":\"StringFormatter\"},{\"attributes\":{\"source\":{\"id\":\"2396\"}},\"id\":\"2430\",\"type\":\"CDSView\"},{\"attributes\":{\"editor\":{\"id\":\"2399\"},\"field\":\"CoinName\",\"formatter\":{\"id\":\"2398\"},\"title\":\"CoinName\"},\"id\":\"2400\",\"type\":\"TableColumn\"},{\"attributes\":{},\"id\":\"2419\",\"type\":\"NumberEditor\"},{\"attributes\":{\"editor\":{\"id\":\"2409\"},\"field\":\"ProofType\",\"formatter\":{\"id\":\"2408\"},\"title\":\"ProofType\"},\"id\":\"2410\",\"type\":\"TableColumn\"}],\"root_ids\":[\"2394\"]},\"title\":\"Bokeh Application\",\"version\":\"2.4.3\"}};\n",
       "    var render_items = [{\"docid\":\"f8b4c4d5-9263-4af0-92e3-8a53ad6ce164\",\"root_ids\":[\"2394\"],\"roots\":{\"2394\":\"68ef5ce1-2eb9-4f85-961d-692ba9576f8c\"}}];\n",
       "    root.Bokeh.embed.embed_items_notebook(docs_json, render_items);\n",
       "    for (const render_item of render_items) {\n",
       "      for (const root_id of render_item.root_ids) {\n",
       "\tconst id_el = document.getElementById(root_id)\n",
       "\tif (id_el.children.length && (id_el.children[0].className === 'bk-root')) {\n",
       "\t  const root_el = id_el.children[0]\n",
       "\t  root_el.id = root_el.id + '-rendered'\n",
       "\t}\n",
       "      }\n",
       "    }\n",
       "  }\n",
       "  if (root.Bokeh !== undefined && root.Bokeh.Panel !== undefined) {\n",
       "    embed_document(root);\n",
       "  } else {\n",
       "    var attempts = 0;\n",
       "    var timer = setInterval(function(root) {\n",
       "      if (root.Bokeh !== undefined && root.Bokeh.Panel !== undefined) {\n",
       "        clearInterval(timer);\n",
       "        embed_document(root);\n",
       "      } else if (document.readyState == \"complete\") {\n",
       "        attempts++;\n",
       "        if (attempts > 200) {\n",
       "          clearInterval(timer);\n",
       "          console.log(\"Bokeh: ERROR: Unable to run BokehJS code because BokehJS library is missing\");\n",
       "        }\n",
       "      }\n",
       "    }, 25, root)\n",
       "  }\n",
       "})(window);</script>"
      ],
      "text/plain": [
       ":Table   [CoinName,Algorithm,ProofType,TotalCoinSupply,TotalCoinsMined,Class]"
      ]
     },
     "execution_count": 60,
     "metadata": {
      "application/vnd.holoviews_exec.v0+json": {
       "id": "2394"
      }
     },
     "output_type": "execute_result"
    }
   ],
   "source": [
    "# Create a table with tradable cryptocurrencies.\n",
    "clustered_df_table = clustered_df.hvplot.table(columns=[\"CoinName\",\"Algorithm\",\"ProofType\",\"TotalCoinSupply\",\"TotalCoinsMined\",\"Class\"])\n",
    "clustered_df_table"
   ]
  },
  {
   "cell_type": "code",
   "execution_count": 61,
   "metadata": {},
   "outputs": [
    {
     "name": "stdout",
     "output_type": "stream",
     "text": [
      "There are 532 tradable cryptocurrencies.\n"
     ]
    }
   ],
   "source": [
    "# Print the total number of tradable cryptocurrencies.\n",
    "print(f'There are {len(clustered_df_table[\"CoinName\"])} tradable cryptocurrencies.')"
   ]
  },
  {
   "cell_type": "code",
   "execution_count": 62,
   "metadata": {},
   "outputs": [
    {
     "data": {
      "text/plain": [
       "array([[4.20000000e-11, 0.00000000e+00],\n",
       "       [5.32000000e-04, 1.06585544e-03],\n",
       "       [3.14159265e-01, 2.95755135e-02],\n",
       "       ...,\n",
       "       [1.40022261e-03, 9.90135079e-04],\n",
       "       [2.10000000e-05, 7.37028150e-06],\n",
       "       [1.00000000e-06, 1.29582282e-07]])"
      ]
     },
     "execution_count": 62,
     "metadata": {},
     "output_type": "execute_result"
    }
   ],
   "source": [
    "# Scaling data to create the scatter plot with tradable cryptocurrencies.\n",
    "totalcoinsupply_totalcoinsmined = pd.DataFrame(clustered_df[\"TotalCoinSupply\"],columns=[\"TotalCoinSupply\"])\n",
    "totalcoinsupply_totalcoinsmined[\"TotalCoinsMined\"] = clustered_df[\"TotalCoinsMined\"]\n",
    "totalcoinsupply_totalcoinsmined_scaled = MinMaxScaler().fit_transform(totalcoinsupply_totalcoinsmined)\n",
    "totalcoinsupply_totalcoinsmined_scaled"
   ]
  },
  {
   "cell_type": "code",
   "execution_count": 63,
   "metadata": {},
   "outputs": [
    {
     "data": {
      "text/html": [
       "<div>\n",
       "<style scoped>\n",
       "    .dataframe tbody tr th:only-of-type {\n",
       "        vertical-align: middle;\n",
       "    }\n",
       "\n",
       "    .dataframe tbody tr th {\n",
       "        vertical-align: top;\n",
       "    }\n",
       "\n",
       "    .dataframe thead th {\n",
       "        text-align: right;\n",
       "    }\n",
       "</style>\n",
       "<table border=\"1\" class=\"dataframe\">\n",
       "  <thead>\n",
       "    <tr style=\"text-align: right;\">\n",
       "      <th></th>\n",
       "      <th>TotalCoinSupply</th>\n",
       "      <th>TotalCoinsMined</th>\n",
       "      <th>CoinName</th>\n",
       "      <th>Class</th>\n",
       "    </tr>\n",
       "  </thead>\n",
       "  <tbody>\n",
       "    <tr>\n",
       "      <th>42</th>\n",
       "      <td>4.200000e-11</td>\n",
       "      <td>0.000000</td>\n",
       "      <td>42 Coin</td>\n",
       "      <td>0</td>\n",
       "    </tr>\n",
       "    <tr>\n",
       "      <th>404</th>\n",
       "      <td>5.320000e-04</td>\n",
       "      <td>0.001066</td>\n",
       "      <td>404Coin</td>\n",
       "      <td>0</td>\n",
       "    </tr>\n",
       "    <tr>\n",
       "      <th>1337</th>\n",
       "      <td>3.141593e-01</td>\n",
       "      <td>0.029576</td>\n",
       "      <td>EliteCoin</td>\n",
       "      <td>0</td>\n",
       "    </tr>\n",
       "    <tr>\n",
       "      <th>BTC</th>\n",
       "      <td>2.100000e-05</td>\n",
       "      <td>0.000018</td>\n",
       "      <td>Bitcoin</td>\n",
       "      <td>3</td>\n",
       "    </tr>\n",
       "    <tr>\n",
       "      <th>ETH</th>\n",
       "      <td>0.000000e+00</td>\n",
       "      <td>0.000109</td>\n",
       "      <td>Ethereum</td>\n",
       "      <td>3</td>\n",
       "    </tr>\n",
       "    <tr>\n",
       "      <th>LTC</th>\n",
       "      <td>8.400000e-05</td>\n",
       "      <td>0.000064</td>\n",
       "      <td>Litecoin</td>\n",
       "      <td>3</td>\n",
       "    </tr>\n",
       "    <tr>\n",
       "      <th>DASH</th>\n",
       "      <td>2.200000e-05</td>\n",
       "      <td>0.000009</td>\n",
       "      <td>Dash</td>\n",
       "      <td>0</td>\n",
       "    </tr>\n",
       "    <tr>\n",
       "      <th>XMR</th>\n",
       "      <td>0.000000e+00</td>\n",
       "      <td>0.000017</td>\n",
       "      <td>Monero</td>\n",
       "      <td>3</td>\n",
       "    </tr>\n",
       "    <tr>\n",
       "      <th>ETC</th>\n",
       "      <td>2.100000e-04</td>\n",
       "      <td>0.000115</td>\n",
       "      <td>Ethereum Classic</td>\n",
       "      <td>3</td>\n",
       "    </tr>\n",
       "    <tr>\n",
       "      <th>ZEC</th>\n",
       "      <td>2.100000e-05</td>\n",
       "      <td>0.000007</td>\n",
       "      <td>ZCash</td>\n",
       "      <td>3</td>\n",
       "    </tr>\n",
       "  </tbody>\n",
       "</table>\n",
       "</div>"
      ],
      "text/plain": [
       "      TotalCoinSupply  TotalCoinsMined          CoinName  Class\n",
       "42       4.200000e-11         0.000000           42 Coin      0\n",
       "404      5.320000e-04         0.001066           404Coin      0\n",
       "1337     3.141593e-01         0.029576         EliteCoin      0\n",
       "BTC      2.100000e-05         0.000018           Bitcoin      3\n",
       "ETH      0.000000e+00         0.000109          Ethereum      3\n",
       "LTC      8.400000e-05         0.000064          Litecoin      3\n",
       "DASH     2.200000e-05         0.000009              Dash      0\n",
       "XMR      0.000000e+00         0.000017            Monero      3\n",
       "ETC      2.100000e-04         0.000115  Ethereum Classic      3\n",
       "ZEC      2.100000e-05         0.000007             ZCash      3"
      ]
     },
     "execution_count": 63,
     "metadata": {},
     "output_type": "execute_result"
    }
   ],
   "source": [
    "# Create a new DataFrame that has the scaled data with the clustered_df DataFrame index.\n",
    "plot_df = pd.DataFrame(data =totalcoinsupply_totalcoinsmined_scaled, columns=[\"TotalCoinSupply\",\"TotalCoinsMined\"], index = clustered_df.index)\n",
    "\n",
    "# Add the \"CoinName\" column from the clustered_df DataFrame to the new DataFrame.\n",
    "plot_df[\"CoinName\"] = clustered_df[\"CoinName\"]\n",
    "\n",
    "# Add the \"Class\" column from the clustered_df DataFrame to the new DataFrame. \n",
    "plot_df[\"Class\"] = clustered_df[\"Class\"]\n",
    "\n",
    "plot_df.head(10)"
   ]
  },
  {
   "cell_type": "code",
   "execution_count": 64,
   "metadata": {},
   "outputs": [
    {
     "data": {},
     "metadata": {},
     "output_type": "display_data"
    },
    {
     "data": {
      "application/vnd.holoviews_exec.v0+json": "",
      "text/html": [
       "<div id='2445'>\n",
       "  <div class=\"bk-root\" id=\"07b066d6-f016-4f4d-8c8b-b0b2b09fe828\" data-root-id=\"2445\"></div>\n",
       "</div>\n",
       "<script type=\"application/javascript\">(function(root) {\n",
       "  function embed_document(root) {\n",
       "    var docs_json = {\"c85d26ed-d975-49f4-b823-e5e4919b2134\":{\"defs\":[{\"extends\":null,\"module\":null,\"name\":\"ReactiveHTML1\",\"overrides\":[],\"properties\":[]},{\"extends\":null,\"module\":null,\"name\":\"FlexBox1\",\"overrides\":[],\"properties\":[{\"default\":\"flex-start\",\"kind\":null,\"name\":\"align_content\"},{\"default\":\"flex-start\",\"kind\":null,\"name\":\"align_items\"},{\"default\":\"row\",\"kind\":null,\"name\":\"flex_direction\"},{\"default\":\"wrap\",\"kind\":null,\"name\":\"flex_wrap\"},{\"default\":\"flex-start\",\"kind\":null,\"name\":\"justify_content\"}]},{\"extends\":null,\"module\":null,\"name\":\"GridStack1\",\"overrides\":[],\"properties\":[{\"default\":\"warn\",\"kind\":null,\"name\":\"mode\"},{\"default\":null,\"kind\":null,\"name\":\"ncols\"},{\"default\":null,\"kind\":null,\"name\":\"nrows\"},{\"default\":true,\"kind\":null,\"name\":\"allow_resize\"},{\"default\":true,\"kind\":null,\"name\":\"allow_drag\"},{\"default\":[],\"kind\":null,\"name\":\"state\"}]},{\"extends\":null,\"module\":null,\"name\":\"click1\",\"overrides\":[],\"properties\":[{\"default\":\"\",\"kind\":null,\"name\":\"terminal_output\"},{\"default\":\"\",\"kind\":null,\"name\":\"debug_name\"},{\"default\":0,\"kind\":null,\"name\":\"clears\"}]},{\"extends\":null,\"module\":null,\"name\":\"NotificationAreaBase1\",\"overrides\":[],\"properties\":[{\"default\":\"bottom-right\",\"kind\":null,\"name\":\"position\"},{\"default\":0,\"kind\":null,\"name\":\"_clear\"}]},{\"extends\":null,\"module\":null,\"name\":\"NotificationArea1\",\"overrides\":[],\"properties\":[{\"default\":[],\"kind\":null,\"name\":\"notifications\"},{\"default\":\"bottom-right\",\"kind\":null,\"name\":\"position\"},{\"default\":0,\"kind\":null,\"name\":\"_clear\"},{\"default\":[{\"background\":\"#ffc107\",\"icon\":{\"className\":\"fas fa-exclamation-triangle\",\"color\":\"white\",\"tagName\":\"i\"},\"type\":\"warning\"},{\"background\":\"#007bff\",\"icon\":{\"className\":\"fas fa-info-circle\",\"color\":\"white\",\"tagName\":\"i\"},\"type\":\"info\"}],\"kind\":null,\"name\":\"types\"}]},{\"extends\":null,\"module\":null,\"name\":\"Notification\",\"overrides\":[],\"properties\":[{\"default\":null,\"kind\":null,\"name\":\"background\"},{\"default\":3000,\"kind\":null,\"name\":\"duration\"},{\"default\":null,\"kind\":null,\"name\":\"icon\"},{\"default\":\"\",\"kind\":null,\"name\":\"message\"},{\"default\":null,\"kind\":null,\"name\":\"notification_type\"},{\"default\":false,\"kind\":null,\"name\":\"_destroyed\"}]},{\"extends\":null,\"module\":null,\"name\":\"TemplateActions1\",\"overrides\":[],\"properties\":[{\"default\":0,\"kind\":null,\"name\":\"open_modal\"},{\"default\":0,\"kind\":null,\"name\":\"close_modal\"}]},{\"extends\":null,\"module\":null,\"name\":\"MaterialTemplateActions1\",\"overrides\":[],\"properties\":[{\"default\":0,\"kind\":null,\"name\":\"open_modal\"},{\"default\":0,\"kind\":null,\"name\":\"close_modal\"}]}],\"roots\":{\"references\":[{\"attributes\":{},\"id\":\"2490\",\"type\":\"Selection\"},{\"attributes\":{},\"id\":\"2511\",\"type\":\"Selection\"},{\"attributes\":{\"fill_alpha\":{\"value\":0.1},\"fill_color\":{\"value\":\"#30a2da\"},\"hatch_alpha\":{\"value\":0.1},\"hatch_color\":{\"value\":\"#30a2da\"},\"line_alpha\":{\"value\":0.1},\"line_color\":{\"value\":\"#30a2da\"},\"size\":{\"value\":5.477225575051661},\"x\":{\"field\":\"TotalCoinsMined\"},\"y\":{\"field\":\"TotalCoinSupply\"}},\"id\":\"2493\",\"type\":\"Scatter\"},{\"attributes\":{\"fill_alpha\":{\"value\":0.2},\"fill_color\":{\"value\":\"#30a2da\"},\"hatch_alpha\":{\"value\":0.2},\"hatch_color\":{\"value\":\"#30a2da\"},\"line_alpha\":{\"value\":0.2},\"line_color\":{\"value\":\"#30a2da\"},\"size\":{\"value\":5.477225575051661},\"x\":{\"field\":\"TotalCoinsMined\"},\"y\":{\"field\":\"TotalCoinSupply\"}},\"id\":\"2494\",\"type\":\"Scatter\"},{\"attributes\":{\"angle\":{\"value\":0.0},\"fill_alpha\":{\"value\":1.0},\"fill_color\":{\"value\":\"#e5ae38\"},\"hatch_alpha\":{\"value\":1.0},\"hatch_color\":{\"value\":\"#e5ae38\"},\"hatch_scale\":{\"value\":12.0},\"hatch_weight\":{\"value\":1.0},\"line_alpha\":{\"value\":1.0},\"line_cap\":{\"value\":\"butt\"},\"line_color\":{\"value\":\"#e5ae38\"},\"line_dash\":{\"value\":[]},\"line_dash_offset\":{\"value\":0},\"line_join\":{\"value\":\"bevel\"},\"line_width\":{\"value\":1},\"marker\":{\"value\":\"circle\"},\"size\":{\"value\":5.477225575051661},\"x\":{\"field\":\"TotalCoinsMined\"},\"y\":{\"field\":\"TotalCoinSupply\"}},\"id\":\"2555\",\"type\":\"Scatter\"},{\"attributes\":{\"source\":{\"id\":\"2489\"}},\"id\":\"2496\",\"type\":\"CDSView\"},{\"attributes\":{\"fill_alpha\":{\"value\":0.1},\"fill_color\":{\"value\":\"#6d904f\"},\"hatch_alpha\":{\"value\":0.1},\"hatch_color\":{\"value\":\"#6d904f\"},\"line_alpha\":{\"value\":0.1},\"line_color\":{\"value\":\"#6d904f\"},\"size\":{\"value\":5.477225575051661},\"x\":{\"field\":\"TotalCoinsMined\"},\"y\":{\"field\":\"TotalCoinSupply\"}},\"id\":\"2560\",\"type\":\"Scatter\"},{\"attributes\":{\"label\":{\"value\":\"0\"},\"renderers\":[{\"id\":\"2495\"}]},\"id\":\"2508\",\"type\":\"LegendItem\"},{\"attributes\":{\"coordinates\":null,\"data_source\":{\"id\":\"2489\"},\"glyph\":{\"id\":\"2492\"},\"group\":null,\"hover_glyph\":null,\"muted_glyph\":{\"id\":\"2494\"},\"nonselection_glyph\":{\"id\":\"2493\"},\"selection_glyph\":{\"id\":\"2509\"},\"view\":{\"id\":\"2496\"}},\"id\":\"2495\",\"type\":\"GlyphRenderer\"},{\"attributes\":{\"click_policy\":\"mute\",\"coordinates\":null,\"group\":null,\"items\":[{\"id\":\"2508\"},{\"id\":\"2530\"},{\"id\":\"2554\"},{\"id\":\"2580\"}],\"location\":[0,0],\"title\":\"Class\"},\"id\":\"2507\",\"type\":\"Legend\"},{\"attributes\":{\"margin\":[5,5,5,5],\"name\":\"HSpacer02533\",\"sizing_mode\":\"stretch_width\"},\"id\":\"2598\",\"type\":\"Spacer\"},{\"attributes\":{\"data\":{\"Class\":[1,1,1,1,1],\"CoinName\":[\"BiblePay\",\"LitecoinCash\",\"Poa Network\",\"Acute Angle Cloud\",\"Waves\"],\"TotalCoinSupply\":{\"__ndarray__\":\"lPYGX5hMdT+8eapDboZLP4RaKOGWizA//Knx0k1iUD8sQxzr4jYaPw==\",\"dtype\":\"float64\",\"order\":\"little\",\"shape\":[5]},\"TotalCoinsMined\":{\"__ndarray__\":\"j1gNkdpTXT+QpMXySiFFP5wZJXiPEis/ekNDBbiMUD/7RX5gv3oaPw==\",\"dtype\":\"float64\",\"order\":\"little\",\"shape\":[5]}},\"selected\":{\"id\":\"2511\"},\"selection_policy\":{\"id\":\"2527\"}},\"id\":\"2510\",\"type\":\"ColumnDataSource\"},{\"attributes\":{\"fill_alpha\":{\"value\":0.2},\"fill_color\":{\"value\":\"#6d904f\"},\"hatch_alpha\":{\"value\":0.2},\"hatch_color\":{\"value\":\"#6d904f\"},\"line_alpha\":{\"value\":0.2},\"line_color\":{\"value\":\"#6d904f\"},\"size\":{\"value\":5.477225575051661},\"x\":{\"field\":\"TotalCoinsMined\"},\"y\":{\"field\":\"TotalCoinSupply\"}},\"id\":\"2561\",\"type\":\"Scatter\"},{\"attributes\":{\"source\":{\"id\":\"2556\"}},\"id\":\"2563\",\"type\":\"CDSView\"},{\"attributes\":{},\"id\":\"2458\",\"type\":\"LinearScale\"},{\"attributes\":{\"angle\":{\"value\":0.0},\"fill_alpha\":{\"value\":1.0},\"fill_color\":{\"value\":\"#fc4f30\"},\"hatch_alpha\":{\"value\":1.0},\"hatch_color\":{\"value\":\"#fc4f30\"},\"hatch_scale\":{\"value\":12.0},\"hatch_weight\":{\"value\":1.0},\"line_alpha\":{\"value\":1.0},\"line_cap\":{\"value\":\"butt\"},\"line_color\":{\"value\":\"#fc4f30\"},\"line_dash\":{\"value\":[]},\"line_dash_offset\":{\"value\":0},\"line_join\":{\"value\":\"bevel\"},\"line_width\":{\"value\":1},\"marker\":{\"value\":\"circle\"},\"size\":{\"value\":5.477225575051661},\"x\":{\"field\":\"TotalCoinsMined\"},\"y\":{\"field\":\"TotalCoinSupply\"}},\"id\":\"2531\",\"type\":\"Scatter\"},{\"attributes\":{\"callback\":null,\"renderers\":[{\"id\":\"2495\"},{\"id\":\"2516\"},{\"id\":\"2538\"},{\"id\":\"2562\"}],\"tags\":[\"hv_created\"],\"tooltips\":[[\"Class\",\"@{Class}\"],[\"TotalCoinsMined\",\"@{TotalCoinsMined}\"],[\"TotalCoinSupply\",\"@{TotalCoinSupply}\"],[\"CoinName\",\"@{CoinName}\"]]},\"id\":\"2449\",\"type\":\"HoverTool\"},{\"attributes\":{\"fill_alpha\":{\"value\":0.1},\"fill_color\":{\"value\":\"#e5ae38\"},\"hatch_alpha\":{\"value\":0.1},\"hatch_color\":{\"value\":\"#e5ae38\"},\"line_alpha\":{\"value\":0.1},\"line_color\":{\"value\":\"#e5ae38\"},\"size\":{\"value\":5.477225575051661},\"x\":{\"field\":\"TotalCoinsMined\"},\"y\":{\"field\":\"TotalCoinSupply\"}},\"id\":\"2536\",\"type\":\"Scatter\"},{\"attributes\":{},\"id\":\"2488\",\"type\":\"AllLabels\"},{\"attributes\":{},\"id\":\"2557\",\"type\":\"Selection\"},{\"attributes\":{\"end\":1.1,\"reset_end\":1.1,\"reset_start\":-0.1,\"start\":-0.1,\"tags\":[[[\"TotalCoinSupply\",\"TotalCoinSupply\",null]]]},\"id\":\"2448\",\"type\":\"Range1d\"},{\"attributes\":{},\"id\":\"2577\",\"type\":\"UnionRenderers\"},{\"attributes\":{\"fill_color\":{\"value\":\"#30a2da\"},\"hatch_color\":{\"value\":\"#30a2da\"},\"line_color\":{\"value\":\"#30a2da\"},\"size\":{\"value\":5.477225575051661},\"x\":{\"field\":\"TotalCoinsMined\"},\"y\":{\"field\":\"TotalCoinSupply\"}},\"id\":\"2492\",\"type\":\"Scatter\"},{\"attributes\":{\"fill_alpha\":{\"value\":0.2},\"fill_color\":{\"value\":\"#e5ae38\"},\"hatch_alpha\":{\"value\":0.2},\"hatch_color\":{\"value\":\"#e5ae38\"},\"line_alpha\":{\"value\":0.2},\"line_color\":{\"value\":\"#e5ae38\"},\"size\":{\"value\":5.477225575051661},\"x\":{\"field\":\"TotalCoinsMined\"},\"y\":{\"field\":\"TotalCoinSupply\"}},\"id\":\"2537\",\"type\":\"Scatter\"},{\"attributes\":{\"end\":1.042857142857143,\"reset_end\":1.042857142857143,\"reset_start\":-0.04285714285714286,\"start\":-0.04285714285714286,\"tags\":[[[\"TotalCoinsMined\",\"TotalCoinsMined\",null]]]},\"id\":\"2447\",\"type\":\"Range1d\"},{\"attributes\":{\"coordinates\":null,\"data_source\":{\"id\":\"2556\"},\"glyph\":{\"id\":\"2559\"},\"group\":null,\"hover_glyph\":null,\"muted_glyph\":{\"id\":\"2561\"},\"nonselection_glyph\":{\"id\":\"2560\"},\"selection_glyph\":{\"id\":\"2581\"},\"view\":{\"id\":\"2563\"}},\"id\":\"2562\",\"type\":\"GlyphRenderer\"},{\"attributes\":{\"source\":{\"id\":\"2532\"}},\"id\":\"2539\",\"type\":\"CDSView\"},{\"attributes\":{\"label\":{\"value\":\"3\"},\"renderers\":[{\"id\":\"2562\"}]},\"id\":\"2580\",\"type\":\"LegendItem\"},{\"attributes\":{\"angle\":{\"value\":0.0},\"fill_alpha\":{\"value\":1.0},\"fill_color\":{\"value\":\"#30a2da\"},\"hatch_alpha\":{\"value\":1.0},\"hatch_color\":{\"value\":\"#30a2da\"},\"hatch_scale\":{\"value\":12.0},\"hatch_weight\":{\"value\":1.0},\"line_alpha\":{\"value\":1.0},\"line_cap\":{\"value\":\"butt\"},\"line_color\":{\"value\":\"#30a2da\"},\"line_dash\":{\"value\":[]},\"line_dash_offset\":{\"value\":0},\"line_join\":{\"value\":\"bevel\"},\"line_width\":{\"value\":1},\"marker\":{\"value\":\"circle\"},\"size\":{\"value\":5.477225575051661},\"x\":{\"field\":\"TotalCoinsMined\"},\"y\":{\"field\":\"TotalCoinSupply\"}},\"id\":\"2509\",\"type\":\"Scatter\"},{\"attributes\":{\"label\":{\"value\":\"1\"},\"renderers\":[{\"id\":\"2516\"}]},\"id\":\"2530\",\"type\":\"LegendItem\"},{\"attributes\":{},\"id\":\"2460\",\"type\":\"LinearScale\"},{\"attributes\":{\"data\":{\"Class\":[2],\"CoinName\":[\"BitTorrent\"],\"TotalCoinSupply\":{\"__ndarray__\":\"rkfhehSu7z8=\",\"dtype\":\"float64\",\"order\":\"little\",\"shape\":[1]},\"TotalCoinsMined\":{\"__ndarray__\":\"AAAAAAAA8D8=\",\"dtype\":\"float64\",\"order\":\"little\",\"shape\":[1]}},\"selected\":{\"id\":\"2533\"},\"selection_policy\":{\"id\":\"2551\"}},\"id\":\"2532\",\"type\":\"ColumnDataSource\"},{\"attributes\":{},\"id\":\"2533\",\"type\":\"Selection\"},{\"attributes\":{\"below\":[{\"id\":\"2462\"}],\"center\":[{\"id\":\"2465\"},{\"id\":\"2469\"}],\"height\":300,\"left\":[{\"id\":\"2466\"}],\"margin\":[5,5,5,5],\"min_border_bottom\":10,\"min_border_left\":10,\"min_border_right\":10,\"min_border_top\":10,\"renderers\":[{\"id\":\"2495\"},{\"id\":\"2516\"},{\"id\":\"2538\"},{\"id\":\"2562\"}],\"right\":[{\"id\":\"2507\"}],\"sizing_mode\":\"fixed\",\"title\":{\"id\":\"2454\"},\"toolbar\":{\"id\":\"2476\"},\"width\":700,\"x_range\":{\"id\":\"2447\"},\"x_scale\":{\"id\":\"2458\"},\"y_range\":{\"id\":\"2448\"},\"y_scale\":{\"id\":\"2460\"}},\"id\":\"2453\",\"subtype\":\"Figure\",\"type\":\"Plot\"},{\"attributes\":{\"coordinates\":null,\"group\":null,\"text_color\":\"black\",\"text_font_size\":\"12pt\"},\"id\":\"2454\",\"type\":\"Title\"},{\"attributes\":{\"axis_label\":\"TotalCoinsMined\",\"coordinates\":null,\"formatter\":{\"id\":\"2484\"},\"group\":null,\"major_label_policy\":{\"id\":\"2485\"},\"ticker\":{\"id\":\"2463\"}},\"id\":\"2462\",\"type\":\"LinearAxis\"},{\"attributes\":{\"coordinates\":null,\"data_source\":{\"id\":\"2510\"},\"glyph\":{\"id\":\"2513\"},\"group\":null,\"hover_glyph\":null,\"muted_glyph\":{\"id\":\"2515\"},\"nonselection_glyph\":{\"id\":\"2514\"},\"selection_glyph\":{\"id\":\"2531\"},\"view\":{\"id\":\"2517\"}},\"id\":\"2516\",\"type\":\"GlyphRenderer\"},{\"attributes\":{},\"id\":\"2463\",\"type\":\"BasicTicker\"},{\"attributes\":{\"fill_color\":{\"value\":\"#6d904f\"},\"hatch_color\":{\"value\":\"#6d904f\"},\"line_color\":{\"value\":\"#6d904f\"},\"size\":{\"value\":5.477225575051661},\"x\":{\"field\":\"TotalCoinsMined\"},\"y\":{\"field\":\"TotalCoinSupply\"}},\"id\":\"2559\",\"type\":\"Scatter\"},{\"attributes\":{\"axis\":{\"id\":\"2462\"},\"coordinates\":null,\"grid_line_color\":null,\"group\":null,\"ticker\":null},\"id\":\"2465\",\"type\":\"Grid\"},{\"attributes\":{\"fill_alpha\":{\"value\":0.2},\"fill_color\":{\"value\":\"#fc4f30\"},\"hatch_alpha\":{\"value\":0.2},\"hatch_color\":{\"value\":\"#fc4f30\"},\"line_alpha\":{\"value\":0.2},\"line_color\":{\"value\":\"#fc4f30\"},\"size\":{\"value\":5.477225575051661},\"x\":{\"field\":\"TotalCoinsMined\"},\"y\":{\"field\":\"TotalCoinSupply\"}},\"id\":\"2515\",\"type\":\"Scatter\"},{\"attributes\":{\"data\":{\"Class\":[3,3,3,3,3,3,3,3,3,3,3,3,3,3,3,3,3,3,3,3,3,3,3,3,3,3,3,3,3,3,3,3,3,3,3,3,3,3,3,3,3,3,3,3,3,3,3,3,3,3,3,3,3,3,3,3,3,3,3,3,3,3,3,3,3,3,3,3,3,3,3,3,3,3,3,3,3,3,3,3,3,3,3,3,3,3,3,3,3,3,3,3,3,3,3,3,3,3,3,3,3,3,3,3,3,3,3,3,3,3,3,3,3,3,3,3,3,3,3,3,3,3,3,3,3,3,3,3,3,3,3,3,3,3,3,3,3,3,3,3,3,3,3,3,3,3,3,3,3,3,3,3,3,3,3,3,3,3,3,3,3,3,3,3,3,3,3,3,3,3,3,3,3,3,3,3,3,3,3,3,3,3,3,3,3,3,3,3,3,3,3,3,3,3,3,3,3,3,3,3,3,3,3,3,3,3,3,3,3,3,3,3,3,3,3,3,3,3,3,3,3,3,3,3,3,3,3,3,3,3,3,3,3,3,3,3,3,3],\"CoinName\":[\"Bitcoin\",\"Ethereum\",\"Litecoin\",\"Monero\",\"Ethereum Classic\",\"ZCash\",\"DigiByte\",\"ProsperCoin\",\"Spreadcoin\",\"Argentum\",\"MyriadCoin\",\"MoonCoin\",\"ZetaCoin\",\"SexCoin\",\"Quatloo\",\"QuarkCoin\",\"Riecoin\",\"Digitalcoin \",\"Catcoin\",\"CannaCoin\",\"CryptCoin\",\"Verge\",\"DevCoin\",\"EarthCoin\",\"E-Gulden\",\"Einsteinium\",\"Emerald\",\"Franko\",\"FeatherCoin\",\"GrandCoin\",\"GlobalCoin\",\"GoldCoin\",\"Infinite Coin\",\"IXcoin\",\"KrugerCoin\",\"LuckyCoin\",\"Litebar \",\"MegaCoin\",\"MediterraneanCoin\",\"MinCoin\",\"NobleCoin\",\"Namecoin\",\"NyanCoin\",\"RonPaulCoin\",\"StableCoin\",\"SmartCoin\",\"SysCoin\",\"TigerCoin\",\"TerraCoin\",\"UnbreakableCoin\",\"Unobtanium\",\"UroCoin\",\"ViaCoin\",\"Vertcoin\",\"WorldCoin\",\"JouleCoin\",\"ByteCoin\",\"DigitalNote \",\"MonaCoin\",\"Gulden\",\"PesetaCoin\",\"Wild Beast Coin\",\"Flo\",\"ArtByte\",\"Folding Coin\",\"Unitus\",\"CypherPunkCoin\",\"OmniCron\",\"GreenCoin\",\"Cryptonite\",\"MasterCoin\",\"SoonCoin\",\"1Credit\",\"MarsCoin \",\"Crypto\",\"Anarchists Prime\",\"BowsCoin\",\"Song Coin\",\"BitZeny\",\"Expanse\",\"Siacoin\",\"MindCoin\",\"I0coin\",\"Revolution VR\",\"HOdlcoin\",\"Gamecredits\",\"CarpeDiemCoin\",\"Adzcoin\",\"SoilCoin\",\"YoCoin\",\"SibCoin\",\"Francs\",\"BolivarCoin\",\"Omni\",\"PizzaCoin\",\"Komodo\",\"Karbo\",\"ZayedCoin\",\"Circuits of Value\",\"DopeCoin\",\"DollarCoin\",\"Shilling\",\"ZCoin\",\"Elementrem\",\"ZClassic\",\"KiloCoin\",\"ArtexCoin\",\"Kurrent\",\"Cannabis Industry Coin\",\"OsmiumCoin\",\"Bikercoins\",\"HexxCoin\",\"PacCoin\",\"Citadel\",\"BeaverCoin\",\"VaultCoin\",\"Zero\",\"Canada eCoin\",\"Zoin\",\"DubaiCoin\",\"EB3coin\",\"Coinonat\",\"BenjiRolls\",\"ILCoin\",\"EquiTrader\",\"Quantum Resistant Ledger\",\"Dynamic\",\"Nano\",\"ChanCoin\",\"Dinastycoin\",\"DigitalPrice\",\"Unify\",\"SocialCoin\",\"ArcticCoin\",\"DAS\",\"LeviarCoin\",\"Bitcore\",\"gCn Coin\",\"SmartCash\",\"Onix\",\"Bitcoin Cash\",\"Sojourn Coin\",\"NewYorkCoin\",\"FrazCoin\",\"Kronecoin\",\"AdCoin\",\"Linx\",\"Sumokoin\",\"BitcoinZ\",\"Elements\",\"VIVO Coin\",\"Bitcoin Gold\",\"Pirl\",\"eBoost\",\"Pura\",\"Innova\",\"Ellaism\",\"GoByte\",\"SHIELD\",\"UltraNote\",\"BitCoal\",\"DaxxCoin\",\"AC3\",\"Lethean\",\"PopularCoin\",\"Photon\",\"Sucre\",\"SparksPay\",\"GunCoin\",\"IrishCoin\",\"Pioneer Coin\",\"UnitedBitcoin\",\"Interzone\",\"TurtleCoin\",\"MUNcoin\",\"Niobio Cash\",\"ShareChain\",\"Travelflex\",\"KREDS\",\"BitFlip\",\"LottoCoin\",\"Crypto Improvement Fund\",\"Callisto Network\",\"BitTube\",\"Poseidon\",\"Aidos Kuneen\",\"Bitrolium\",\"Alpenschillling\",\"FuturoCoin\",\"Monero Classic\",\"Jumpcoin\",\"Infinex\",\"KEYCO\",\"GINcoin\",\"PlatinCoin\",\"Loki\",\"Newton Coin\",\"MassGrid\",\"PluraCoin\",\"Motion\",\"PlusOneCoin\",\"Axe\",\"HexCoin\",\"Webchain\",\"Ryo\",\"Urals Coin\",\"Qwertycoin\",\"Project Pai\",\"Azart\",\"Xchange\",\"CrypticCoin\",\"Actinium\",\"Bitcoin SV\",\"FREDEnergy\",\"Universal Molecule\",\"Lithium\",\"Exosis\",\"Block-Logic\",\"Beam\",\"Bithereum\",\"SLICE\",\"BLAST\",\"Bitcoin Rhodium\",\"GlobalToken\",\"SolarCoin\",\"UFO Coin\",\"BlakeCoin\",\"Crypto Escudo\",\"Crown Coin\",\"SmileyCoin\",\"Groestlcoin\",\"Bata\",\"Pakcoin\",\"JoinCoin\",\"Vollar\",\"Reality Clash\",\"Beldex\",\"Horizen\"],\"TotalCoinSupply\":{\"__ndarray__\":\"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\",\"dtype\":\"float64\",\"order\":\"little\",\"shape\":[238]},\"TotalCoinsMined\":{\"__ndarray__\":\"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\",\"dtype\":\"float64\",\"order\":\"little\",\"shape\":[238]}},\"selected\":{\"id\":\"2557\"},\"selection_policy\":{\"id\":\"2577\"}},\"id\":\"2556\",\"type\":\"ColumnDataSource\"},{\"attributes\":{\"coordinates\":null,\"data_source\":{\"id\":\"2532\"},\"glyph\":{\"id\":\"2535\"},\"group\":null,\"hover_glyph\":null,\"muted_glyph\":{\"id\":\"2537\"},\"nonselection_glyph\":{\"id\":\"2536\"},\"selection_glyph\":{\"id\":\"2555\"},\"view\":{\"id\":\"2539\"}},\"id\":\"2538\",\"type\":\"GlyphRenderer\"},{\"attributes\":{},\"id\":\"2471\",\"type\":\"PanTool\"},{\"attributes\":{\"label\":{\"value\":\"2\"},\"renderers\":[{\"id\":\"2538\"}]},\"id\":\"2554\",\"type\":\"LegendItem\"},{\"attributes\":{\"axis_label\":\"TotalCoinSupply\",\"coordinates\":null,\"formatter\":{\"id\":\"2487\"},\"group\":null,\"major_label_policy\":{\"id\":\"2488\"},\"ticker\":{\"id\":\"2467\"}},\"id\":\"2466\",\"type\":\"LinearAxis\"},{\"attributes\":{\"axis\":{\"id\":\"2466\"},\"coordinates\":null,\"dimension\":1,\"grid_line_color\":null,\"group\":null,\"ticker\":null},\"id\":\"2469\",\"type\":\"Grid\"},{\"attributes\":{},\"id\":\"2467\",\"type\":\"BasicTicker\"},{\"attributes\":{},\"id\":\"2472\",\"type\":\"WheelZoomTool\"},{\"attributes\":{},\"id\":\"2504\",\"type\":\"UnionRenderers\"},{\"attributes\":{\"children\":[{\"id\":\"2446\"},{\"id\":\"2453\"},{\"id\":\"2598\"}],\"margin\":[0,0,0,0],\"name\":\"Row02528\",\"tags\":[\"embedded\"]},\"id\":\"2445\",\"type\":\"Row\"},{\"attributes\":{},\"id\":\"2470\",\"type\":\"SaveTool\"},{\"attributes\":{\"margin\":[5,5,5,5],\"name\":\"HSpacer02532\",\"sizing_mode\":\"stretch_width\"},\"id\":\"2446\",\"type\":\"Spacer\"},{\"attributes\":{\"overlay\":{\"id\":\"2475\"}},\"id\":\"2473\",\"type\":\"BoxZoomTool\"},{\"attributes\":{},\"id\":\"2474\",\"type\":\"ResetTool\"},{\"attributes\":{},\"id\":\"2551\",\"type\":\"UnionRenderers\"},{\"attributes\":{\"data\":{\"Class\":[0,0,0,0,0,0,0,0,0,0,0,0,0,0,0,0,0,0,0,0,0,0,0,0,0,0,0,0,0,0,0,0,0,0,0,0,0,0,0,0,0,0,0,0,0,0,0,0,0,0,0,0,0,0,0,0,0,0,0,0,0,0,0,0,0,0,0,0,0,0,0,0,0,0,0,0,0,0,0,0,0,0,0,0,0,0,0,0,0,0,0,0,0,0,0,0,0,0,0,0,0,0,0,0,0,0,0,0,0,0,0,0,0,0,0,0,0,0,0,0,0,0,0,0,0,0,0,0,0,0,0,0,0,0,0,0,0,0,0,0,0,0,0,0,0,0,0,0,0,0,0,0,0,0,0,0,0,0,0,0,0,0,0,0,0,0,0,0,0,0,0,0,0,0,0,0,0,0,0,0,0,0,0,0,0,0,0,0,0,0,0,0,0,0,0,0,0,0,0,0,0,0,0,0,0,0,0,0,0,0,0,0,0,0,0,0,0,0,0,0,0,0,0,0,0,0,0,0,0,0,0,0,0,0,0,0,0,0,0,0,0,0,0,0,0,0,0,0,0,0,0,0,0,0,0,0,0,0,0,0,0,0,0,0,0,0,0,0,0,0,0,0,0,0,0,0,0,0,0,0,0,0,0,0,0,0,0,0],\"CoinName\":[\"42 Coin\",\"404Coin\",\"EliteCoin\",\"Dash\",\"Bitshares\",\"BitcoinDark\",\"PayCoin\",\"KoboCoin\",\"Aurora Coin\",\"BlueCoin\",\"EnergyCoin\",\"BitBar\",\"CryptoBullion\",\"CasinoCoin\",\"Diamond\",\"Exclusive Coin\",\"FlutterCoin\",\"HoboNickels\",\"HyperStake\",\"IOCoin\",\"MaxCoin\",\"MintCoin\",\"MazaCoin\",\"Nautilus Coin\",\"NavCoin\",\"OpalCoin\",\"Orbitcoin\",\"PotCoin\",\"PhoenixCoin\",\"Reddcoin\",\"SuperCoin\",\"SyncCoin\",\"TeslaCoin\",\"TittieCoin\",\"TorCoin\",\"UnitaryStatus Dollar\",\"UltraCoin\",\"VeriCoin\",\"X11 Coin\",\"Crypti\",\"StealthCoin\",\"ZCC Coin\",\"BurstCoin\",\"StorjCoin\",\"Neutron\",\"FairCoin\",\"RubyCoin\",\"Kore\",\"Dnotes\",\"8BIT Coin\",\"Sativa Coin\",\"Ucoin\",\"Vtorrent\",\"IslaCoin\",\"Nexus\",\"Droidz\",\"Squall Coin\",\"Diggits\",\"Paycon\",\"Emercoin\",\"EverGreenCoin\",\"Decred\",\"EDRCoin\",\"Hitcoin\",\"DubaiCoin\",\"PWR Coin\",\"BillaryCoin\",\"GPU Coin\",\"EuropeCoin\",\"ZeitCoin\",\"SwingCoin\",\"SafeExchangeCoin\",\"Nebuchadnezzar\",\"Ratecoin\",\"Revenu\",\"Clockcoin\",\"VIP Tokens\",\"BitSend\",\"Let it Ride\",\"PutinCoin\",\"iBankCoin\",\"Frankywillcoin\",\"MudraCoin\",\"Lutetium Coin\",\"GoldBlocks\",\"CarterCoin\",\"BitTokens\",\"MustangCoin\",\"ZoneCoin\",\"RootCoin\",\"BitCurrency\",\"Swiscoin\",\"BuzzCoin\",\"Opair\",\"PesoBit\",\"Halloween Coin\",\"CoffeeCoin\",\"RoyalCoin\",\"GanjaCoin V2\",\"TeamUP\",\"LanaCoin\",\"ARK\",\"InsaneCoin\",\"EmberCoin\",\"XenixCoin\",\"FreeCoin\",\"PLNCoin\",\"AquariusCoin\",\"Creatio\",\"Eternity\",\"Eurocoin\",\"BitcoinFast\",\"Stakenet\",\"BitConnect Coin\",\"MoneyCoin\",\"Enigma\",\"Russiacoin\",\"PandaCoin\",\"GameUnits\",\"GAKHcoin\",\"Allsafe\",\"LiteCreed\",\"Klingon Empire Darsek\",\"Internet of People\",\"KushCoin\",\"Printerium\",\"Impeach\",\"Zilbercoin\",\"FirstCoin\",\"FindCoin\",\"OpenChat\",\"RenosCoin\",\"VirtacoinPlus\",\"TajCoin\",\"Impact\",\"Atmos\",\"HappyCoin\",\"MacronCoin\",\"Condensate\",\"Independent Money System\",\"ArgusCoin\",\"LomoCoin\",\"ProCurrency\",\"GoldReserve\",\"GrowthCoin\",\"Phreak\",\"Degas Coin\",\"HTML5 Coin\",\"Ultimate Secure Cash\",\"QTUM\",\"Espers\",\"Denarius\",\"Virta Unique Coin\",\"Bitcoin Planet\",\"BritCoin\",\"Linda\",\"DeepOnion\",\"Signatum\",\"Cream\",\"Monoeci\",\"Draftcoin\",\"Vechain\",\"Stakecoin\",\"CoinonatX\",\"Ethereum Dark\",\"Obsidian\",\"Cardano\",\"Regalcoin\",\"TrezarCoin\",\"TerraNovaCoin\",\"Rupee\",\"WomenCoin\",\"Theresa May Coin\",\"NamoCoin\",\"LUXCoin\",\"Xios\",\"Bitcloud 2.0\",\"KekCoin\",\"BlackholeCoin\",\"Infinity Economics\",\"Magnet\",\"Lamden Tau\",\"Electra\",\"Bitcoin Diamond\",\"Cash & Back Coin\",\"Bulwark\",\"Kalkulus\",\"GermanCoin\",\"LiteCoin Ultra\",\"PhantomX\",\"Digiwage\",\"Trollcoin\",\"Litecoin Plus\",\"Monkey Project\",\"TokenPay\",\"1717 Masonic Commemorative Token\",\"My Big Coin\",\"Unified Society USDEX\",\"Tokyo Coin\",\"Stipend\",\"Pushi\",\"Ellerium\",\"Velox\",\"Ontology\",\"Bitspace\",\"Briacoin\",\"Ignition\",\"MedicCoin\",\"Bitcoin Green\",\"Deviant Coin\",\"Abjcoin\",\"Semux\",\"Carebit\",\"Zealium\",\"Proton\",\"iDealCash\",\"Bitcoin Incognito\",\"HollyWoodCoin\",\"Swisscoin\",\"Xt3ch\",\"TheVig\",\"EmaratCoin\",\"Dekado\",\"Lynx\",\"Poseidon Quark\",\"BitcoinWSpectrum\",\"Muse\",\"Trivechain\",\"Dystem\",\"Giant\",\"Peony Coin\",\"Absolute Coin\",\"Vitae\",\"TPCash\",\"ARENON\",\"EUNO\",\"MMOCoin\",\"Ketan\",\"XDNA\",\"PAXEX\",\"ThunderStake\",\"Kcash\",\"Bettex coin\",\"BitMoney\",\"Junson Ming Chan Coin\",\"HerbCoin\",\"PirateCash\",\"Oduwa\",\"Galilel\",\"Crypto Sports\",\"Credit\",\"Dash Platinum\",\"Nasdacoin\",\"Beetle Coin\",\"Titan Coin\",\"Award\",\"Insane Coin\",\"ALAX\",\"LiteDoge\",\"TruckCoin\",\"OrangeCoin\",\"BitstarCoin\",\"NeosCoin\",\"HyperCoin\",\"PinkCoin\",\"AudioCoin\",\"IncaKoin\",\"Piggy Coin\",\"Genstake\",\"XiaoMiCoin\",\"CapriCoin\",\" ClubCoin\",\"Radium\",\"Creditbit \",\"OKCash\",\"Lisk\",\"HiCoin\",\"WhiteCoin\",\"FriendshipCoin\",\"Triangles Coin\",\"EOS\",\"Oxycoin\",\"TigerCash\",\"Particl\",\"Nxt\",\"ZEPHYR\",\"Gapcoin\",\"BitcoinPlus\"],\"TotalCoinSupply\":{\"__ndarray__\":\"NkOMefkWxz3VCP1MvW5BP1XynHYvG9Q/oib6fJQR9z7McLKR8X5tP6Im+nyUEfc+LEMc6+I26j7HuriNBvA2P03ubVFIlfE+AAAAAAAAAAAAAAAAAAAAAI3ttaD3xqA+je21oPfGsD57FK5H4XqkP/WHfzv9XtI+AAAAAAAAAAAAAAAAAAAAAGkdVU0QdR8/AAAAAAAAAACiJvp8lBH3PixDHOviNho/AAAAAAAAAABoTT0cbtFjP8naMiJJ9/A+AAAAAAAAAAAAAAAAAAAAAIF+GWsDoM8+vHmqQ26GOz/AkxYuq7AZPwAAAAAAAAAAAAAAAAAAAACV1iboCy4RPixDHOviNho/SFD8GHPXYj/waOOItfjkPixDHOviNlo/LEMc6+I2Gj8AAAAAAAAAAKIm+nyUEdc+AAAAAAAAAAAAAAAAAAAAAPyp8dJNYlA/UFX5y1uvYT/8qfHSTWJAP2ZMwRpn0xE/AAAAAAAAAAAAAAAAAAAAAFTkEHFzKuk+/Knx0k1iQD8AAAAAAAAAAPBo44i1+OQ+8GjjiLX49D7waOOItfj0PgAAAAAAAAAAhLndy31yFD+V+ok1IjnVPgAAAAAAAAAALEMc6+I2Gj8sQxzr4jYKP/yp8dJNYlA/3JaYzFCT+z7Jx+4CJQX2PqIm+nyUEfc+q8/VVuwvmz/Jx+4CJQXmPgAAAAAAAAAAycfuAiUFBj/1DnimS/ksP1TkEHFzKjk/8tJNYhBYuT/waOOItfgEP966CoGZl2E/8GjjiLX49D5hMlUwKqkTPwDDly5pMS0/FYxK6gQ0QT8O1v85zJcXP/ePhegQOCI/sHQ+PEuQAT/8qfHSTWJgPzFyDblRPgc/LEMc6+I2Gj8sQxzr4jYqP1RzucFQh0U/LEMc6+I2Cj8O1v85zJcXP8nH7gIlBfY+VOQQcXMqyT7Jx+4CJQX2PgAAAAAAAAAAAAAAAAAAAAATYcPTK2VpP3sUrkfhepQ/q1rSUQ5mEz8AAAAAAAAAAPp+arx0k1g/NNSvB7L4BD+CPVa0+fjEPixDHOviNho/T+j1J/G5Mz/xYmGInL5+P/yp8dJNYiA/aR1VTRB1/z5fB84ZUdpLPxF0NWZ6KdA+LEMc6+I2Cj/xbRNRwDQEP8nH7gIlBQY/8GjjiLX49D5pHVVNEHUPP/Bo44i1+PQ++py7XS9NAT/zdRn+0w0UP7dfPlkxXP0+/h0OWiFSRT/waOOItfjUPj+rzJTW3yI/7gprkculoD8FoidlUkPrPqm2xkea0Ms+aR1VTRB17z5t609siqoUP/yp8dJNYkA/ycfuAiUF9j7l2IT4453jPvBo44i1+PQ+Asu1Kq//9j5LsDic+dUMP0uwOJz51Rw/8zIaY/h17j78qfHSTWJQP+I/IeOiDAI/LEMc6+I2Gj9U/IRYolgDP0uwOJz51Rw/kqumSXDpHD8sQxzr4jYaPyxDHOviNjo//Knx0k1iQD9/VgfbFT72PtPL3ghB/f0+/Knx0k1iUD8zMzMzMzOzP/Bo44i1+AQ//Knx0k1iYD9pHVVNEHX/Prx5qkNuhhs/CtejcD0Ktz8pV94wtjkqPyxDHOviNho/mZmZmZmZqT/waOOItfjkPmkdVU0QdR8/LEMc6+I2Gj9pHVVNEHX/PpmZmZmZmak/x+CKkPHQ8z4vbqMBvAUiPyxDHOviNho/FtJpYC3w4z5bLjW8W0DyPvp0LpnMMrY/RwInV+clED/K8IEYRkwJPwfTizW3ndE+edgbIwL1Fz8K16NwPQqnP94AM9/BT/w+LEMc6+I2Oj+PGDxpYn/wPlTkEHFzKvk+mZmZmZmZmT8sQxzr4jYaP2EyVTAqqVM/aR1VTRB1Dz/Jx+4CJQX2PixDHOviNio/ycfuAiUF9j4QCgUtZQPvPjvfT42XboI/P6vMlNbfIj/8qfHSTWJAP7gehetRuJ4/vHmqQ26GKz+8eapDboYrP23BD1X9D/0+8GjjiLX49D6ZmZmZmZmpP2EyVTAqqSM/LEMc6+I2Cj9pHVVNEHUfP5LLf0i/fU0/je21oPfG0D7Jx+4CJQX2PixDHOviNvo+ffj9GGYluz5pHVVNEHX/PpC+SdOgaC4/LEMc6+I2Sj8ohtt/s0f0PixDHOviNvo+aR1VTRB1Dz8hPrDjv0AgP/yp8dJNYlA/LEMc6+I2Cj9U5BBxcyrJPvBo44i1+NQ+/Knx0k1iQD/Jx+4CJQX2PqIm+nyUERc/aR1VTRB1/z4sQxzr4jYaPyxDHOviNio/8GjjiLX4FD8O1v85zJcHP9uptE/B+nQ/ycfuAiUF9j4FoidlUkP7PoeFWtO844Q/oib6fJQRBz8sQxzr4jYaP8nH7gIlBRY/Dtb/OcyXFz9aZDvfT423P5T2Bl+YTEU/CVblkHtIGj8dySs/zPXyPlnHzSuboxU/ycfuAiUF9j56V0IZ2JrVPn5v05/9SJE/vHmqQ26GCz8sQxzr4jYaP/yp8dJNYlA/S7A4nPnVDD8sQxzr4jYKP0PFOH8TCjE/vHmqQ26GKz+gGcQHdvw3PyxDHOviNho/O99PjZdukj/8qfHSTWJQPyxDHOviNgo/61G4HoXrsT8AAAAAAAAAAN4AM9/BTww/vHmqQ26GGz/Jx+4CJQX2Pm8G8+Pv9fM+FuPTzvYJ7D4Spb3BFyazP+MyE7EtqPQ+ycfuAiUFFj/8qfHSTWJAP3sUrkfhenQ/vHmqQ26GOz9pHVVNEHX/Pvyp8dJNYlA/61G4HoXroT8AAAAAAAAAACxDHOviNio/EXy/DSJyDD/Jx+4CJQX2PgAAAAAAAAAA/Knx0k1iQD8bL90kBoGFP50MjpJX5yg//Knx0k1iUD9pHVVNEHXvPixDHOviNjo/BaInZVJDKz/waOOItfgkPz+rzJTW3+I+cMysIFlO8T68eapDboYbP/M1l5j49SQ/RXPJLYN/hD9hMlUwKqkzP3jJZLihiw8/K2mkKSsbgD4AAAAAAAAAAAAAAAAAAAAA/Knx0k1iUD9TVG0qaxviPvyp8dJNYlA//Knx0k1iYD/8qfHSTWIwP43ttaD3xrA+\",\"dtype\":\"float64\",\"order\":\"little\",\"shape\":[288]},\"TotalCoinsMined\":{\"__ndarray__\":\"AAAAAAAAAADVQ6eRhXZRP0gFXx0LSZ4/fb2YAaYh4z6ruJV6oa9mP4fxacJq17U+W7PlNwxp6T7W0pn52A37PoFADD9SNfM+Y2BMhDkIRT+TanQDD0sgP35ukl9tEWc+7S9W9+ubsT49x1z95a+kP28YHhABAMw+ye+KsSkQ2D76DhvNkpI+P1ecpQYuoxc/Ypyz9GrHWz/7kyPDCLLyPpO8/kFBRRA/0/9nDoYGlj/8i/ixXrVaP7x4IiUyI/E+j6uxX+B/ET9yUL0Vow3wPvxfgvURSss+cvkNgl17LT+LzHsEg5UTPwaytCCdUp4/8TiBm6/aCj9doxA1Q7ITPkOS6FanQBU/dL+NX1fZWj+VBQyzwkO4PlcDUAL0L1I/fTIxK6KaCj/j5byfQfUAPxuOVInTct0++0V+YL96Gj9FarAorYYBPzHwJWnxlyM/L/f3qVABXj+Tp6kxyxkLP8ZkQxXrtwQ/ibYLlr8rDD876RpKEMv8PqXMCj0KI8E+Y9QbIWkfJz/NWTdK5t+4PhEtw1ouEd4+SuSuQabKxj5dOKHlN5XoPj9ykiLfprk+IXp/RSnbED9yRrm5bCbiPvbV3K8TUJY++0V+YL96Gj+usZO2/Wf4PjQmLIvTzQY/1efNMZmp7D5+56xI8fTlPuaDOXY0GM8+uMNU6Ym/hj8I144k4rrVPosWSaGt1IQ/AkyV+P4P4z7jP4drq28FPzwUggjXC+Y+7L0e6OUeoz9rTh5jVovSPvn/Em4kxWE/kQBSK/0u9T7vjyYFktAhP3lc7dd7QrQ+QPXFzhym8T4+Nd5F5BgWP9J6jnO41Pk+ObDN1M5vBD+HQ9Dqr+lKP3YCdaw0LdM++0V+YL96Gj/CsEps9C7VPlS9UGUMv0U/pqRxDiJ88D7oqXRGKNwGP54PeOINLqQ+9FiPodBJpj5CAX3zt+DFPsR5KJfqb8A+T/4f/1R0Jj9wy+L1hwRGP4Iw9VQZQJQ/QVxHa5CaEz9q4x6W3sABP+anRel4hTE//jSGyJGwIz9a3dieLS/FPvtFfmC/eho/0CaSSobf8j7om9ie0ehRP4yfDBK/phw/2bdahaRt8z5pi0xWDNe3PzoFWd5FU9A+qVTopb56Cj8Kl7V81RnyPnWw/lSIwcQ+kQBSK/0u9T4WN5ZE6rbZPjz585B5Teo+mJbD7Cdx9T4t+OpgFAQUP+s1WKcNeec+4Jew0N0e5z5bwhuTX5yrPv5ylEtMv+E+qgjVT8Z8oT9eSCgLgW3NPrZMGtKEGMw+gWG4BsRH5j7bwMkrHwIAP/7gqRozYvk+ycQ2iXpnxT4Swqe2z/nXPmWo1pTmCuk+NMilXEnjlD75z9m7pMPIPrZ+M2OfIB0/oIVe/s3E7j56Q0MFuIxQP8DjwNiFFwM/Yojc8CLi6z6/xleSd8/pPjaSA+NaSx0/RxRsP55tHT8TzIbUfsv2PvWgsIfWkjo/vX+hfbIbID9qIh3CGb/WPtzbifm0dbM+ClzCLAnyoD4HdZcEvp8aP4T+AFYCMPI+MqZkmp+JMz9Xk1ir5SDoPkAjePZqn/Y+EiXgvSYHpT8A2wc5DOnlPvtFfmC/eho/PAT7udKVlz/kKuRSPKzRPvzVMe6uqhA/LSuoRvfT3D741RgF1Yb2PjQa6ZQatoI/cEzD1ck29z5MptGTM5ccP79RNfoAEQk/A/IJ6Umg6j460UXAisTzPs2g4AcRrqw/mO9bzlry0D6EUc3xJbL0PqB8WFRGy9E+B3K8ML16+j57/PtlW9GaP8LmK5XBxN4+Bh/umUwuKD8wD8hOyFSzPrzBQMmWa/k+rp7aV+kPqT9CUqMh5F8YP74vR7jljUI/McZWDzOY4T6jQtQrAzfCPh9wp4i2QwA/xDTgUPke6j4Qs5xlsVTxPkgxPBFPnoI/fiLM5MQ6BD+6ihEDPBIzP7lLXILzX50/YrqCwqdMKD/hujF22WIdP2ulizrsD+w+x4lPZ4v18T5woSpeKVJ0P4cZ6sLR1eE+fhwrH33sBz9y9oQbTOr8Pnc7MYj+j0M/CEcxCKQ4xT7hpgdtD6zSPrvcymHip/U+bnHiGX5ruz5EiFexPenjPhJgttbRFy8/7udFeLF9Lj/nOkeZlNXnPrvl+hZcXsI+vca2dTVrnD7QEgJQTBX7PhibEdXsikU/2hcymSE17T7w5ZzyEKmsPnSoVAx5CLQ+uGecINyxMT/aDqH1hMTkPudS3lPTK/c+kN9ciizu5D6aEdS4Bt20PlUpjj1MgCI/om+TfxZ25z7Dc6nzUKjSPkY1wU0FPVc/khOeM70Z5z6hJAmaq38EPy7wHhTRGYU/9Mfa+rkp4D4qKRjnQpoBP7ykOGGm4PY+cjI/RMYJAD98JpgkCCO0PyvK//sHBMc+Nkl3o7idDj/AqyC6i0XzPoY/nsDYjQM/NenvfYQB3j6sMcXCOxTZPkaEeyF8qLE+Oa21oUE+7D6HoWrpn30RP30oAUPr5NY+Vm0Mo+po9D6Kjxo7yksAP5v6hHEKiRw/xGg1vBTC4z7uib9lw8vTPoubEauvFdM+621cOLqKUT96Q0MFuIxQP4+k9xWTwdw+5euiMmKbKz+rIOPFGc2RP8i3xbVxswI/mEbyFfiL7D4iaVq+103vPuP3bPWLWPM+B9lw/alkwD6KKu/wfeKfP+LWzRFFQag+QFZaGS7D9T6ibFc7wlYqPyMwTKxCq00/KMFsei9V8D4Lko001y75PnpDQwW4jFA/YPWlPLqwjz/MI0ph3w4wP60dyfSx+M0+Y6xly1DL9T5/YchLzJvSPmRjNDD6ZuQ+Ixhnf9TiPD+c0yyFFjtQP5xDyy5ZjpI/icG10+pbQD8fxlKrfsYPPzi4r4Xmwzo/YwABvf2oKj8YJJT4Q3AbP0v2HFN6MNA+w+lGFrPm8T6YkizpGcYTPzLjHxJSxx8/8bDGPwewhD9bofnStK4wP6T0YBN//LI+q0k3U4sUgz5Fb5ScwuNQPxHCato3k1I/ekNDBbiMUD+zRUkYOarjPnpDQwW4jFA/BxxxCriMYD85whSEFaHvPkIO5c1pZIE+\",\"dtype\":\"float64\",\"order\":\"little\",\"shape\":[288]}},\"selected\":{\"id\":\"2490\"},\"selection_policy\":{\"id\":\"2504\"}},\"id\":\"2489\",\"type\":\"ColumnDataSource\"},{\"attributes\":{\"fill_color\":{\"value\":\"#e5ae38\"},\"hatch_color\":{\"value\":\"#e5ae38\"},\"line_color\":{\"value\":\"#e5ae38\"},\"size\":{\"value\":5.477225575051661},\"x\":{\"field\":\"TotalCoinsMined\"},\"y\":{\"field\":\"TotalCoinSupply\"}},\"id\":\"2535\",\"type\":\"Scatter\"},{\"attributes\":{\"bottom_units\":\"screen\",\"coordinates\":null,\"fill_alpha\":0.5,\"fill_color\":\"lightgrey\",\"group\":null,\"left_units\":\"screen\",\"level\":\"overlay\",\"line_alpha\":1.0,\"line_color\":\"black\",\"line_dash\":[4,4],\"line_width\":2,\"right_units\":\"screen\",\"syncable\":false,\"top_units\":\"screen\"},\"id\":\"2475\",\"type\":\"BoxAnnotation\"},{\"attributes\":{\"tools\":[{\"id\":\"2449\"},{\"id\":\"2470\"},{\"id\":\"2471\"},{\"id\":\"2472\"},{\"id\":\"2473\"},{\"id\":\"2474\"}]},\"id\":\"2476\",\"type\":\"Toolbar\"},{\"attributes\":{\"angle\":{\"value\":0.0},\"fill_alpha\":{\"value\":1.0},\"fill_color\":{\"value\":\"#6d904f\"},\"hatch_alpha\":{\"value\":1.0},\"hatch_color\":{\"value\":\"#6d904f\"},\"hatch_scale\":{\"value\":12.0},\"hatch_weight\":{\"value\":1.0},\"line_alpha\":{\"value\":1.0},\"line_cap\":{\"value\":\"butt\"},\"line_color\":{\"value\":\"#6d904f\"},\"line_dash\":{\"value\":[]},\"line_dash_offset\":{\"value\":0},\"line_join\":{\"value\":\"bevel\"},\"line_width\":{\"value\":1},\"marker\":{\"value\":\"circle\"},\"size\":{\"value\":5.477225575051661},\"x\":{\"field\":\"TotalCoinsMined\"},\"y\":{\"field\":\"TotalCoinSupply\"}},\"id\":\"2581\",\"type\":\"Scatter\"},{\"attributes\":{},\"id\":\"2527\",\"type\":\"UnionRenderers\"},{\"attributes\":{\"fill_alpha\":{\"value\":0.1},\"fill_color\":{\"value\":\"#fc4f30\"},\"hatch_alpha\":{\"value\":0.1},\"hatch_color\":{\"value\":\"#fc4f30\"},\"line_alpha\":{\"value\":0.1},\"line_color\":{\"value\":\"#fc4f30\"},\"size\":{\"value\":5.477225575051661},\"x\":{\"field\":\"TotalCoinsMined\"},\"y\":{\"field\":\"TotalCoinSupply\"}},\"id\":\"2514\",\"type\":\"Scatter\"},{\"attributes\":{},\"id\":\"2487\",\"type\":\"BasicTickFormatter\"},{\"attributes\":{},\"id\":\"2484\",\"type\":\"BasicTickFormatter\"},{\"attributes\":{},\"id\":\"2485\",\"type\":\"AllLabels\"},{\"attributes\":{\"fill_color\":{\"value\":\"#fc4f30\"},\"hatch_color\":{\"value\":\"#fc4f30\"},\"line_color\":{\"value\":\"#fc4f30\"},\"size\":{\"value\":5.477225575051661},\"x\":{\"field\":\"TotalCoinsMined\"},\"y\":{\"field\":\"TotalCoinSupply\"}},\"id\":\"2513\",\"type\":\"Scatter\"},{\"attributes\":{\"source\":{\"id\":\"2510\"}},\"id\":\"2517\",\"type\":\"CDSView\"}],\"root_ids\":[\"2445\"]},\"title\":\"Bokeh Application\",\"version\":\"2.4.3\"}};\n",
       "    var render_items = [{\"docid\":\"c85d26ed-d975-49f4-b823-e5e4919b2134\",\"root_ids\":[\"2445\"],\"roots\":{\"2445\":\"07b066d6-f016-4f4d-8c8b-b0b2b09fe828\"}}];\n",
       "    root.Bokeh.embed.embed_items_notebook(docs_json, render_items);\n",
       "    for (const render_item of render_items) {\n",
       "      for (const root_id of render_item.root_ids) {\n",
       "\tconst id_el = document.getElementById(root_id)\n",
       "\tif (id_el.children.length && (id_el.children[0].className === 'bk-root')) {\n",
       "\t  const root_el = id_el.children[0]\n",
       "\t  root_el.id = root_el.id + '-rendered'\n",
       "\t}\n",
       "      }\n",
       "    }\n",
       "  }\n",
       "  if (root.Bokeh !== undefined && root.Bokeh.Panel !== undefined) {\n",
       "    embed_document(root);\n",
       "  } else {\n",
       "    var attempts = 0;\n",
       "    var timer = setInterval(function(root) {\n",
       "      if (root.Bokeh !== undefined && root.Bokeh.Panel !== undefined) {\n",
       "        clearInterval(timer);\n",
       "        embed_document(root);\n",
       "      } else if (document.readyState == \"complete\") {\n",
       "        attempts++;\n",
       "        if (attempts > 200) {\n",
       "          clearInterval(timer);\n",
       "          console.log(\"Bokeh: ERROR: Unable to run BokehJS code because BokehJS library is missing\");\n",
       "        }\n",
       "      }\n",
       "    }, 25, root)\n",
       "  }\n",
       "})(window);</script>"
      ],
      "text/plain": [
       ":NdOverlay   [Class]\n",
       "   :Scatter   [TotalCoinsMined]   (TotalCoinSupply,CoinName)"
      ]
     },
     "execution_count": 64,
     "metadata": {
      "application/vnd.holoviews_exec.v0+json": {
       "id": "2445"
      }
     },
     "output_type": "execute_result"
    }
   ],
   "source": [
    "# Create a hvplot.scatter plot using x=\"TotalCoinsMined\" and y=\"TotalCoinSupply\".\n",
    "plot_df.hvplot.scatter(\n",
    "    x=\"TotalCoinsMined\",\n",
    "    y=\"TotalCoinSupply\",\n",
    "    by = \"Class\",\n",
    "    hover_cols = \"CoinName\"\n",
    ")\n"
   ]
  },
  {
   "cell_type": "code",
   "execution_count": null,
   "metadata": {},
   "outputs": [],
   "source": []
  }
 ],
 "metadata": {
  "file_extension": ".py",
  "kernelspec": {
   "display_name": "mlenv",
   "language": "python",
   "name": "mlenv"
  },
  "language_info": {
   "codemirror_mode": {
    "name": "ipython",
    "version": 3
   },
   "file_extension": ".py",
   "mimetype": "text/x-python",
   "name": "python",
   "nbconvert_exporter": "python",
   "pygments_lexer": "ipython3",
   "version": "3.9.16"
  },
  "latex_envs": {
   "LaTeX_envs_menu_present": true,
   "autoclose": false,
   "autocomplete": true,
   "bibliofile": "biblio.bib",
   "cite_by": "apalike",
   "current_citInitial": 1,
   "eqLabelWithNumbers": true,
   "eqNumInitial": 1,
   "hotkeys": {
    "equation": "Ctrl-E",
    "itemize": "Ctrl-I"
   },
   "labels_anchors": false,
   "latex_user_defs": false,
   "report_style_numbering": false,
   "user_envs_cfg": false
  },
  "mimetype": "text/x-python",
  "name": "python",
  "npconvert_exporter": "python",
  "pygments_lexer": "ipython3",
  "version": 3
 },
 "nbformat": 4,
 "nbformat_minor": 2
}
