{
 "cells": [
  {
   "cell_type": "markdown",
   "metadata": {},
   "source": [
    "# Clustering Crypto"
   ]
  },
  {
   "cell_type": "code",
   "execution_count": 162,
   "metadata": {},
   "outputs": [],
   "source": [
    "# Initial imports\n",
    "import pandas as pd\n",
    "import numpy as np\n",
    "import hvplot.pandas\n",
    "from pathlib import Path\n",
    "import plotly.express as px\n",
    "from sklearn.preprocessing import StandardScaler, MinMaxScaler\n",
    "from sklearn.decomposition import PCA\n",
    "from sklearn.cluster import KMeans\n",
    "import matplotlib.pyplot as plt"
   ]
  },
  {
   "cell_type": "markdown",
   "metadata": {},
   "source": [
    "### Deliverable 1: Preprocessing the Data for PCA"
   ]
  },
  {
   "cell_type": "code",
   "execution_count": 163,
   "metadata": {},
   "outputs": [
    {
     "data": {
      "text/html": [
       "<div>\n",
       "<style scoped>\n",
       "    .dataframe tbody tr th:only-of-type {\n",
       "        vertical-align: middle;\n",
       "    }\n",
       "\n",
       "    .dataframe tbody tr th {\n",
       "        vertical-align: top;\n",
       "    }\n",
       "\n",
       "    .dataframe thead th {\n",
       "        text-align: right;\n",
       "    }\n",
       "</style>\n",
       "<table border=\"1\" class=\"dataframe\">\n",
       "  <thead>\n",
       "    <tr style=\"text-align: right;\">\n",
       "      <th></th>\n",
       "      <th>CoinName</th>\n",
       "      <th>Algorithm</th>\n",
       "      <th>IsTrading</th>\n",
       "      <th>ProofType</th>\n",
       "      <th>TotalCoinsMined</th>\n",
       "      <th>TotalCoinSupply</th>\n",
       "    </tr>\n",
       "  </thead>\n",
       "  <tbody>\n",
       "    <tr>\n",
       "      <th>42</th>\n",
       "      <td>42 Coin</td>\n",
       "      <td>Scrypt</td>\n",
       "      <td>True</td>\n",
       "      <td>PoW/PoS</td>\n",
       "      <td>4.199995e+01</td>\n",
       "      <td>42</td>\n",
       "    </tr>\n",
       "    <tr>\n",
       "      <th>365</th>\n",
       "      <td>365Coin</td>\n",
       "      <td>X11</td>\n",
       "      <td>True</td>\n",
       "      <td>PoW/PoS</td>\n",
       "      <td>NaN</td>\n",
       "      <td>2300000000</td>\n",
       "    </tr>\n",
       "    <tr>\n",
       "      <th>404</th>\n",
       "      <td>404Coin</td>\n",
       "      <td>Scrypt</td>\n",
       "      <td>True</td>\n",
       "      <td>PoW/PoS</td>\n",
       "      <td>1.055185e+09</td>\n",
       "      <td>532000000</td>\n",
       "    </tr>\n",
       "    <tr>\n",
       "      <th>611</th>\n",
       "      <td>SixEleven</td>\n",
       "      <td>SHA-256</td>\n",
       "      <td>True</td>\n",
       "      <td>PoW</td>\n",
       "      <td>NaN</td>\n",
       "      <td>611000</td>\n",
       "    </tr>\n",
       "    <tr>\n",
       "      <th>808</th>\n",
       "      <td>808</td>\n",
       "      <td>SHA-256</td>\n",
       "      <td>True</td>\n",
       "      <td>PoW/PoS</td>\n",
       "      <td>0.000000e+00</td>\n",
       "      <td>0</td>\n",
       "    </tr>\n",
       "    <tr>\n",
       "      <th>1337</th>\n",
       "      <td>EliteCoin</td>\n",
       "      <td>X13</td>\n",
       "      <td>True</td>\n",
       "      <td>PoW/PoS</td>\n",
       "      <td>2.927942e+10</td>\n",
       "      <td>314159265359</td>\n",
       "    </tr>\n",
       "    <tr>\n",
       "      <th>2015</th>\n",
       "      <td>2015 coin</td>\n",
       "      <td>X11</td>\n",
       "      <td>True</td>\n",
       "      <td>PoW/PoS</td>\n",
       "      <td>NaN</td>\n",
       "      <td>0</td>\n",
       "    </tr>\n",
       "    <tr>\n",
       "      <th>BTC</th>\n",
       "      <td>Bitcoin</td>\n",
       "      <td>SHA-256</td>\n",
       "      <td>True</td>\n",
       "      <td>PoW</td>\n",
       "      <td>1.792718e+07</td>\n",
       "      <td>21000000</td>\n",
       "    </tr>\n",
       "    <tr>\n",
       "      <th>ETH</th>\n",
       "      <td>Ethereum</td>\n",
       "      <td>Ethash</td>\n",
       "      <td>True</td>\n",
       "      <td>PoW</td>\n",
       "      <td>1.076842e+08</td>\n",
       "      <td>0</td>\n",
       "    </tr>\n",
       "    <tr>\n",
       "      <th>LTC</th>\n",
       "      <td>Litecoin</td>\n",
       "      <td>Scrypt</td>\n",
       "      <td>True</td>\n",
       "      <td>PoW</td>\n",
       "      <td>6.303924e+07</td>\n",
       "      <td>84000000</td>\n",
       "    </tr>\n",
       "  </tbody>\n",
       "</table>\n",
       "</div>"
      ],
      "text/plain": [
       "       CoinName Algorithm  IsTrading ProofType  TotalCoinsMined  \\\n",
       "42      42 Coin    Scrypt       True   PoW/PoS     4.199995e+01   \n",
       "365     365Coin       X11       True   PoW/PoS              NaN   \n",
       "404     404Coin    Scrypt       True   PoW/PoS     1.055185e+09   \n",
       "611   SixEleven   SHA-256       True       PoW              NaN   \n",
       "808         808   SHA-256       True   PoW/PoS     0.000000e+00   \n",
       "1337  EliteCoin       X13       True   PoW/PoS     2.927942e+10   \n",
       "2015  2015 coin       X11       True   PoW/PoS              NaN   \n",
       "BTC     Bitcoin   SHA-256       True       PoW     1.792718e+07   \n",
       "ETH    Ethereum    Ethash       True       PoW     1.076842e+08   \n",
       "LTC    Litecoin    Scrypt       True       PoW     6.303924e+07   \n",
       "\n",
       "     TotalCoinSupply  \n",
       "42                42  \n",
       "365       2300000000  \n",
       "404        532000000  \n",
       "611           611000  \n",
       "808                0  \n",
       "1337    314159265359  \n",
       "2015               0  \n",
       "BTC         21000000  \n",
       "ETH                0  \n",
       "LTC         84000000  "
      ]
     },
     "execution_count": 163,
     "metadata": {},
     "output_type": "execute_result"
    }
   ],
   "source": [
    "# Load the crypto_data.csv dataset.\n",
    "file = Path('./Resources/crypto_data.csv')\n",
    "crypto_df = pd.read_csv(file).set_index('Unnamed: 0')\n",
    "crypto_df.index.name = None\n",
    "crypto_df.head(10)"
   ]
  },
  {
   "cell_type": "code",
   "execution_count": 164,
   "metadata": {},
   "outputs": [
    {
     "name": "stdout",
     "output_type": "stream",
     "text": [
      "(1144, 6)\n"
     ]
    },
    {
     "data": {
      "text/html": [
       "<div>\n",
       "<style scoped>\n",
       "    .dataframe tbody tr th:only-of-type {\n",
       "        vertical-align: middle;\n",
       "    }\n",
       "\n",
       "    .dataframe tbody tr th {\n",
       "        vertical-align: top;\n",
       "    }\n",
       "\n",
       "    .dataframe thead th {\n",
       "        text-align: right;\n",
       "    }\n",
       "</style>\n",
       "<table border=\"1\" class=\"dataframe\">\n",
       "  <thead>\n",
       "    <tr style=\"text-align: right;\">\n",
       "      <th></th>\n",
       "      <th>CoinName</th>\n",
       "      <th>Algorithm</th>\n",
       "      <th>IsTrading</th>\n",
       "      <th>ProofType</th>\n",
       "      <th>TotalCoinsMined</th>\n",
       "      <th>TotalCoinSupply</th>\n",
       "    </tr>\n",
       "  </thead>\n",
       "  <tbody>\n",
       "    <tr>\n",
       "      <th>42</th>\n",
       "      <td>42 Coin</td>\n",
       "      <td>Scrypt</td>\n",
       "      <td>True</td>\n",
       "      <td>PoW/PoS</td>\n",
       "      <td>4.199995e+01</td>\n",
       "      <td>42</td>\n",
       "    </tr>\n",
       "    <tr>\n",
       "      <th>365</th>\n",
       "      <td>365Coin</td>\n",
       "      <td>X11</td>\n",
       "      <td>True</td>\n",
       "      <td>PoW/PoS</td>\n",
       "      <td>NaN</td>\n",
       "      <td>2300000000</td>\n",
       "    </tr>\n",
       "    <tr>\n",
       "      <th>404</th>\n",
       "      <td>404Coin</td>\n",
       "      <td>Scrypt</td>\n",
       "      <td>True</td>\n",
       "      <td>PoW/PoS</td>\n",
       "      <td>1.055185e+09</td>\n",
       "      <td>532000000</td>\n",
       "    </tr>\n",
       "    <tr>\n",
       "      <th>611</th>\n",
       "      <td>SixEleven</td>\n",
       "      <td>SHA-256</td>\n",
       "      <td>True</td>\n",
       "      <td>PoW</td>\n",
       "      <td>NaN</td>\n",
       "      <td>611000</td>\n",
       "    </tr>\n",
       "    <tr>\n",
       "      <th>808</th>\n",
       "      <td>808</td>\n",
       "      <td>SHA-256</td>\n",
       "      <td>True</td>\n",
       "      <td>PoW/PoS</td>\n",
       "      <td>0.000000e+00</td>\n",
       "      <td>0</td>\n",
       "    </tr>\n",
       "    <tr>\n",
       "      <th>1337</th>\n",
       "      <td>EliteCoin</td>\n",
       "      <td>X13</td>\n",
       "      <td>True</td>\n",
       "      <td>PoW/PoS</td>\n",
       "      <td>2.927942e+10</td>\n",
       "      <td>314159265359</td>\n",
       "    </tr>\n",
       "    <tr>\n",
       "      <th>2015</th>\n",
       "      <td>2015 coin</td>\n",
       "      <td>X11</td>\n",
       "      <td>True</td>\n",
       "      <td>PoW/PoS</td>\n",
       "      <td>NaN</td>\n",
       "      <td>0</td>\n",
       "    </tr>\n",
       "    <tr>\n",
       "      <th>BTC</th>\n",
       "      <td>Bitcoin</td>\n",
       "      <td>SHA-256</td>\n",
       "      <td>True</td>\n",
       "      <td>PoW</td>\n",
       "      <td>1.792718e+07</td>\n",
       "      <td>21000000</td>\n",
       "    </tr>\n",
       "    <tr>\n",
       "      <th>ETH</th>\n",
       "      <td>Ethereum</td>\n",
       "      <td>Ethash</td>\n",
       "      <td>True</td>\n",
       "      <td>PoW</td>\n",
       "      <td>1.076842e+08</td>\n",
       "      <td>0</td>\n",
       "    </tr>\n",
       "    <tr>\n",
       "      <th>LTC</th>\n",
       "      <td>Litecoin</td>\n",
       "      <td>Scrypt</td>\n",
       "      <td>True</td>\n",
       "      <td>PoW</td>\n",
       "      <td>6.303924e+07</td>\n",
       "      <td>84000000</td>\n",
       "    </tr>\n",
       "  </tbody>\n",
       "</table>\n",
       "</div>"
      ],
      "text/plain": [
       "       CoinName Algorithm  IsTrading ProofType  TotalCoinsMined  \\\n",
       "42      42 Coin    Scrypt       True   PoW/PoS     4.199995e+01   \n",
       "365     365Coin       X11       True   PoW/PoS              NaN   \n",
       "404     404Coin    Scrypt       True   PoW/PoS     1.055185e+09   \n",
       "611   SixEleven   SHA-256       True       PoW              NaN   \n",
       "808         808   SHA-256       True   PoW/PoS     0.000000e+00   \n",
       "1337  EliteCoin       X13       True   PoW/PoS     2.927942e+10   \n",
       "2015  2015 coin       X11       True   PoW/PoS              NaN   \n",
       "BTC     Bitcoin   SHA-256       True       PoW     1.792718e+07   \n",
       "ETH    Ethereum    Ethash       True       PoW     1.076842e+08   \n",
       "LTC    Litecoin    Scrypt       True       PoW     6.303924e+07   \n",
       "\n",
       "     TotalCoinSupply  \n",
       "42                42  \n",
       "365       2300000000  \n",
       "404        532000000  \n",
       "611           611000  \n",
       "808                0  \n",
       "1337    314159265359  \n",
       "2015               0  \n",
       "BTC         21000000  \n",
       "ETH                0  \n",
       "LTC         84000000  "
      ]
     },
     "execution_count": 164,
     "metadata": {},
     "output_type": "execute_result"
    }
   ],
   "source": [
    "# Keep all the cryptocurrencies that are being traded.\n",
    "crypto_df = crypto_df[crypto_df['IsTrading']==True]\n",
    "print(crypto_df.shape)\n",
    "crypto_df.head(10)"
   ]
  },
  {
   "cell_type": "code",
   "execution_count": 165,
   "metadata": {},
   "outputs": [
    {
     "name": "stdout",
     "output_type": "stream",
     "text": [
      "(1144, 5)\n"
     ]
    },
    {
     "data": {
      "text/html": [
       "<div>\n",
       "<style scoped>\n",
       "    .dataframe tbody tr th:only-of-type {\n",
       "        vertical-align: middle;\n",
       "    }\n",
       "\n",
       "    .dataframe tbody tr th {\n",
       "        vertical-align: top;\n",
       "    }\n",
       "\n",
       "    .dataframe thead th {\n",
       "        text-align: right;\n",
       "    }\n",
       "</style>\n",
       "<table border=\"1\" class=\"dataframe\">\n",
       "  <thead>\n",
       "    <tr style=\"text-align: right;\">\n",
       "      <th></th>\n",
       "      <th>CoinName</th>\n",
       "      <th>Algorithm</th>\n",
       "      <th>ProofType</th>\n",
       "      <th>TotalCoinsMined</th>\n",
       "      <th>TotalCoinSupply</th>\n",
       "    </tr>\n",
       "  </thead>\n",
       "  <tbody>\n",
       "    <tr>\n",
       "      <th>42</th>\n",
       "      <td>42 Coin</td>\n",
       "      <td>Scrypt</td>\n",
       "      <td>PoW/PoS</td>\n",
       "      <td>4.199995e+01</td>\n",
       "      <td>42</td>\n",
       "    </tr>\n",
       "    <tr>\n",
       "      <th>365</th>\n",
       "      <td>365Coin</td>\n",
       "      <td>X11</td>\n",
       "      <td>PoW/PoS</td>\n",
       "      <td>NaN</td>\n",
       "      <td>2300000000</td>\n",
       "    </tr>\n",
       "    <tr>\n",
       "      <th>404</th>\n",
       "      <td>404Coin</td>\n",
       "      <td>Scrypt</td>\n",
       "      <td>PoW/PoS</td>\n",
       "      <td>1.055185e+09</td>\n",
       "      <td>532000000</td>\n",
       "    </tr>\n",
       "    <tr>\n",
       "      <th>611</th>\n",
       "      <td>SixEleven</td>\n",
       "      <td>SHA-256</td>\n",
       "      <td>PoW</td>\n",
       "      <td>NaN</td>\n",
       "      <td>611000</td>\n",
       "    </tr>\n",
       "    <tr>\n",
       "      <th>808</th>\n",
       "      <td>808</td>\n",
       "      <td>SHA-256</td>\n",
       "      <td>PoW/PoS</td>\n",
       "      <td>0.000000e+00</td>\n",
       "      <td>0</td>\n",
       "    </tr>\n",
       "    <tr>\n",
       "      <th>1337</th>\n",
       "      <td>EliteCoin</td>\n",
       "      <td>X13</td>\n",
       "      <td>PoW/PoS</td>\n",
       "      <td>2.927942e+10</td>\n",
       "      <td>314159265359</td>\n",
       "    </tr>\n",
       "    <tr>\n",
       "      <th>2015</th>\n",
       "      <td>2015 coin</td>\n",
       "      <td>X11</td>\n",
       "      <td>PoW/PoS</td>\n",
       "      <td>NaN</td>\n",
       "      <td>0</td>\n",
       "    </tr>\n",
       "    <tr>\n",
       "      <th>BTC</th>\n",
       "      <td>Bitcoin</td>\n",
       "      <td>SHA-256</td>\n",
       "      <td>PoW</td>\n",
       "      <td>1.792718e+07</td>\n",
       "      <td>21000000</td>\n",
       "    </tr>\n",
       "    <tr>\n",
       "      <th>ETH</th>\n",
       "      <td>Ethereum</td>\n",
       "      <td>Ethash</td>\n",
       "      <td>PoW</td>\n",
       "      <td>1.076842e+08</td>\n",
       "      <td>0</td>\n",
       "    </tr>\n",
       "    <tr>\n",
       "      <th>LTC</th>\n",
       "      <td>Litecoin</td>\n",
       "      <td>Scrypt</td>\n",
       "      <td>PoW</td>\n",
       "      <td>6.303924e+07</td>\n",
       "      <td>84000000</td>\n",
       "    </tr>\n",
       "  </tbody>\n",
       "</table>\n",
       "</div>"
      ],
      "text/plain": [
       "       CoinName Algorithm ProofType  TotalCoinsMined TotalCoinSupply\n",
       "42      42 Coin    Scrypt   PoW/PoS     4.199995e+01              42\n",
       "365     365Coin       X11   PoW/PoS              NaN      2300000000\n",
       "404     404Coin    Scrypt   PoW/PoS     1.055185e+09       532000000\n",
       "611   SixEleven   SHA-256       PoW              NaN          611000\n",
       "808         808   SHA-256   PoW/PoS     0.000000e+00               0\n",
       "1337  EliteCoin       X13   PoW/PoS     2.927942e+10    314159265359\n",
       "2015  2015 coin       X11   PoW/PoS              NaN               0\n",
       "BTC     Bitcoin   SHA-256       PoW     1.792718e+07        21000000\n",
       "ETH    Ethereum    Ethash       PoW     1.076842e+08               0\n",
       "LTC    Litecoin    Scrypt       PoW     6.303924e+07        84000000"
      ]
     },
     "execution_count": 165,
     "metadata": {},
     "output_type": "execute_result"
    }
   ],
   "source": [
    "# Remove the \"IsTrading\" column. \n",
    "crypto_df.drop(['IsTrading'],axis=1,inplace=True)\n",
    "print(crypto_df.shape)\n",
    "crypto_df.head(10)"
   ]
  },
  {
   "cell_type": "code",
   "execution_count": 166,
   "metadata": {},
   "outputs": [
    {
     "name": "stdout",
     "output_type": "stream",
     "text": [
      "(685, 5)\n"
     ]
    },
    {
     "data": {
      "text/html": [
       "<div>\n",
       "<style scoped>\n",
       "    .dataframe tbody tr th:only-of-type {\n",
       "        vertical-align: middle;\n",
       "    }\n",
       "\n",
       "    .dataframe tbody tr th {\n",
       "        vertical-align: top;\n",
       "    }\n",
       "\n",
       "    .dataframe thead th {\n",
       "        text-align: right;\n",
       "    }\n",
       "</style>\n",
       "<table border=\"1\" class=\"dataframe\">\n",
       "  <thead>\n",
       "    <tr style=\"text-align: right;\">\n",
       "      <th></th>\n",
       "      <th>CoinName</th>\n",
       "      <th>Algorithm</th>\n",
       "      <th>ProofType</th>\n",
       "      <th>TotalCoinsMined</th>\n",
       "      <th>TotalCoinSupply</th>\n",
       "    </tr>\n",
       "  </thead>\n",
       "  <tbody>\n",
       "    <tr>\n",
       "      <th>42</th>\n",
       "      <td>42 Coin</td>\n",
       "      <td>Scrypt</td>\n",
       "      <td>PoW/PoS</td>\n",
       "      <td>4.199995e+01</td>\n",
       "      <td>42</td>\n",
       "    </tr>\n",
       "    <tr>\n",
       "      <th>404</th>\n",
       "      <td>404Coin</td>\n",
       "      <td>Scrypt</td>\n",
       "      <td>PoW/PoS</td>\n",
       "      <td>1.055185e+09</td>\n",
       "      <td>532000000</td>\n",
       "    </tr>\n",
       "    <tr>\n",
       "      <th>808</th>\n",
       "      <td>808</td>\n",
       "      <td>SHA-256</td>\n",
       "      <td>PoW/PoS</td>\n",
       "      <td>0.000000e+00</td>\n",
       "      <td>0</td>\n",
       "    </tr>\n",
       "    <tr>\n",
       "      <th>1337</th>\n",
       "      <td>EliteCoin</td>\n",
       "      <td>X13</td>\n",
       "      <td>PoW/PoS</td>\n",
       "      <td>2.927942e+10</td>\n",
       "      <td>314159265359</td>\n",
       "    </tr>\n",
       "    <tr>\n",
       "      <th>BTC</th>\n",
       "      <td>Bitcoin</td>\n",
       "      <td>SHA-256</td>\n",
       "      <td>PoW</td>\n",
       "      <td>1.792718e+07</td>\n",
       "      <td>21000000</td>\n",
       "    </tr>\n",
       "    <tr>\n",
       "      <th>ETH</th>\n",
       "      <td>Ethereum</td>\n",
       "      <td>Ethash</td>\n",
       "      <td>PoW</td>\n",
       "      <td>1.076842e+08</td>\n",
       "      <td>0</td>\n",
       "    </tr>\n",
       "    <tr>\n",
       "      <th>LTC</th>\n",
       "      <td>Litecoin</td>\n",
       "      <td>Scrypt</td>\n",
       "      <td>PoW</td>\n",
       "      <td>6.303924e+07</td>\n",
       "      <td>84000000</td>\n",
       "    </tr>\n",
       "    <tr>\n",
       "      <th>DASH</th>\n",
       "      <td>Dash</td>\n",
       "      <td>X11</td>\n",
       "      <td>PoW/PoS</td>\n",
       "      <td>9.031294e+06</td>\n",
       "      <td>22000000</td>\n",
       "    </tr>\n",
       "    <tr>\n",
       "      <th>XMR</th>\n",
       "      <td>Monero</td>\n",
       "      <td>CryptoNight-V7</td>\n",
       "      <td>PoW</td>\n",
       "      <td>1.720114e+07</td>\n",
       "      <td>0</td>\n",
       "    </tr>\n",
       "    <tr>\n",
       "      <th>ETC</th>\n",
       "      <td>Ethereum Classic</td>\n",
       "      <td>Ethash</td>\n",
       "      <td>PoW</td>\n",
       "      <td>1.133597e+08</td>\n",
       "      <td>210000000</td>\n",
       "    </tr>\n",
       "  </tbody>\n",
       "</table>\n",
       "</div>"
      ],
      "text/plain": [
       "              CoinName       Algorithm ProofType  TotalCoinsMined  \\\n",
       "42             42 Coin          Scrypt   PoW/PoS     4.199995e+01   \n",
       "404            404Coin          Scrypt   PoW/PoS     1.055185e+09   \n",
       "808                808         SHA-256   PoW/PoS     0.000000e+00   \n",
       "1337         EliteCoin             X13   PoW/PoS     2.927942e+10   \n",
       "BTC            Bitcoin         SHA-256       PoW     1.792718e+07   \n",
       "ETH           Ethereum          Ethash       PoW     1.076842e+08   \n",
       "LTC           Litecoin          Scrypt       PoW     6.303924e+07   \n",
       "DASH              Dash             X11   PoW/PoS     9.031294e+06   \n",
       "XMR             Monero  CryptoNight-V7       PoW     1.720114e+07   \n",
       "ETC   Ethereum Classic          Ethash       PoW     1.133597e+08   \n",
       "\n",
       "     TotalCoinSupply  \n",
       "42                42  \n",
       "404        532000000  \n",
       "808                0  \n",
       "1337    314159265359  \n",
       "BTC         21000000  \n",
       "ETH                0  \n",
       "LTC         84000000  \n",
       "DASH        22000000  \n",
       "XMR                0  \n",
       "ETC        210000000  "
      ]
     },
     "execution_count": 166,
     "metadata": {},
     "output_type": "execute_result"
    }
   ],
   "source": [
    "# Remove rows that have at least 1 null value.\n",
    "crypto_df.dropna(inplace=True)\n",
    "print(crypto_df.shape)\n",
    "crypto_df.head(10)"
   ]
  },
  {
   "cell_type": "code",
   "execution_count": 167,
   "metadata": {},
   "outputs": [
    {
     "name": "stdout",
     "output_type": "stream",
     "text": [
      "(532, 5)\n"
     ]
    },
    {
     "data": {
      "text/html": [
       "<div>\n",
       "<style scoped>\n",
       "    .dataframe tbody tr th:only-of-type {\n",
       "        vertical-align: middle;\n",
       "    }\n",
       "\n",
       "    .dataframe tbody tr th {\n",
       "        vertical-align: top;\n",
       "    }\n",
       "\n",
       "    .dataframe thead th {\n",
       "        text-align: right;\n",
       "    }\n",
       "</style>\n",
       "<table border=\"1\" class=\"dataframe\">\n",
       "  <thead>\n",
       "    <tr style=\"text-align: right;\">\n",
       "      <th></th>\n",
       "      <th>CoinName</th>\n",
       "      <th>Algorithm</th>\n",
       "      <th>ProofType</th>\n",
       "      <th>TotalCoinsMined</th>\n",
       "      <th>TotalCoinSupply</th>\n",
       "    </tr>\n",
       "  </thead>\n",
       "  <tbody>\n",
       "    <tr>\n",
       "      <th>42</th>\n",
       "      <td>42 Coin</td>\n",
       "      <td>Scrypt</td>\n",
       "      <td>PoW/PoS</td>\n",
       "      <td>4.199995e+01</td>\n",
       "      <td>42</td>\n",
       "    </tr>\n",
       "    <tr>\n",
       "      <th>404</th>\n",
       "      <td>404Coin</td>\n",
       "      <td>Scrypt</td>\n",
       "      <td>PoW/PoS</td>\n",
       "      <td>1.055185e+09</td>\n",
       "      <td>532000000</td>\n",
       "    </tr>\n",
       "    <tr>\n",
       "      <th>1337</th>\n",
       "      <td>EliteCoin</td>\n",
       "      <td>X13</td>\n",
       "      <td>PoW/PoS</td>\n",
       "      <td>2.927942e+10</td>\n",
       "      <td>314159265359</td>\n",
       "    </tr>\n",
       "    <tr>\n",
       "      <th>BTC</th>\n",
       "      <td>Bitcoin</td>\n",
       "      <td>SHA-256</td>\n",
       "      <td>PoW</td>\n",
       "      <td>1.792718e+07</td>\n",
       "      <td>21000000</td>\n",
       "    </tr>\n",
       "    <tr>\n",
       "      <th>ETH</th>\n",
       "      <td>Ethereum</td>\n",
       "      <td>Ethash</td>\n",
       "      <td>PoW</td>\n",
       "      <td>1.076842e+08</td>\n",
       "      <td>0</td>\n",
       "    </tr>\n",
       "    <tr>\n",
       "      <th>LTC</th>\n",
       "      <td>Litecoin</td>\n",
       "      <td>Scrypt</td>\n",
       "      <td>PoW</td>\n",
       "      <td>6.303924e+07</td>\n",
       "      <td>84000000</td>\n",
       "    </tr>\n",
       "    <tr>\n",
       "      <th>DASH</th>\n",
       "      <td>Dash</td>\n",
       "      <td>X11</td>\n",
       "      <td>PoW/PoS</td>\n",
       "      <td>9.031294e+06</td>\n",
       "      <td>22000000</td>\n",
       "    </tr>\n",
       "    <tr>\n",
       "      <th>XMR</th>\n",
       "      <td>Monero</td>\n",
       "      <td>CryptoNight-V7</td>\n",
       "      <td>PoW</td>\n",
       "      <td>1.720114e+07</td>\n",
       "      <td>0</td>\n",
       "    </tr>\n",
       "    <tr>\n",
       "      <th>ETC</th>\n",
       "      <td>Ethereum Classic</td>\n",
       "      <td>Ethash</td>\n",
       "      <td>PoW</td>\n",
       "      <td>1.133597e+08</td>\n",
       "      <td>210000000</td>\n",
       "    </tr>\n",
       "    <tr>\n",
       "      <th>ZEC</th>\n",
       "      <td>ZCash</td>\n",
       "      <td>Equihash</td>\n",
       "      <td>PoW</td>\n",
       "      <td>7.383056e+06</td>\n",
       "      <td>21000000</td>\n",
       "    </tr>\n",
       "  </tbody>\n",
       "</table>\n",
       "</div>"
      ],
      "text/plain": [
       "              CoinName       Algorithm ProofType  TotalCoinsMined  \\\n",
       "42             42 Coin          Scrypt   PoW/PoS     4.199995e+01   \n",
       "404            404Coin          Scrypt   PoW/PoS     1.055185e+09   \n",
       "1337         EliteCoin             X13   PoW/PoS     2.927942e+10   \n",
       "BTC            Bitcoin         SHA-256       PoW     1.792718e+07   \n",
       "ETH           Ethereum          Ethash       PoW     1.076842e+08   \n",
       "LTC           Litecoin          Scrypt       PoW     6.303924e+07   \n",
       "DASH              Dash             X11   PoW/PoS     9.031294e+06   \n",
       "XMR             Monero  CryptoNight-V7       PoW     1.720114e+07   \n",
       "ETC   Ethereum Classic          Ethash       PoW     1.133597e+08   \n",
       "ZEC              ZCash        Equihash       PoW     7.383056e+06   \n",
       "\n",
       "     TotalCoinSupply  \n",
       "42                42  \n",
       "404        532000000  \n",
       "1337    314159265359  \n",
       "BTC         21000000  \n",
       "ETH                0  \n",
       "LTC         84000000  \n",
       "DASH        22000000  \n",
       "XMR                0  \n",
       "ETC        210000000  \n",
       "ZEC         21000000  "
      ]
     },
     "execution_count": 167,
     "metadata": {},
     "output_type": "execute_result"
    }
   ],
   "source": [
    "# Keep the rows where coins are mined.\n",
    "crypto_df = crypto_df[crypto_df[\"TotalCoinsMined\"]>0]\n",
    "print(crypto_df.shape)\n",
    "crypto_df.head(10)"
   ]
  },
  {
   "cell_type": "code",
   "execution_count": 168,
   "metadata": {},
   "outputs": [
    {
     "name": "stdout",
     "output_type": "stream",
     "text": [
      "(532, 1)\n"
     ]
    },
    {
     "data": {
      "text/html": [
       "<div>\n",
       "<style scoped>\n",
       "    .dataframe tbody tr th:only-of-type {\n",
       "        vertical-align: middle;\n",
       "    }\n",
       "\n",
       "    .dataframe tbody tr th {\n",
       "        vertical-align: top;\n",
       "    }\n",
       "\n",
       "    .dataframe thead th {\n",
       "        text-align: right;\n",
       "    }\n",
       "</style>\n",
       "<table border=\"1\" class=\"dataframe\">\n",
       "  <thead>\n",
       "    <tr style=\"text-align: right;\">\n",
       "      <th></th>\n",
       "      <th>CoinName</th>\n",
       "    </tr>\n",
       "  </thead>\n",
       "  <tbody>\n",
       "    <tr>\n",
       "      <th>42</th>\n",
       "      <td>42 Coin</td>\n",
       "    </tr>\n",
       "    <tr>\n",
       "      <th>404</th>\n",
       "      <td>404Coin</td>\n",
       "    </tr>\n",
       "    <tr>\n",
       "      <th>1337</th>\n",
       "      <td>EliteCoin</td>\n",
       "    </tr>\n",
       "    <tr>\n",
       "      <th>BTC</th>\n",
       "      <td>Bitcoin</td>\n",
       "    </tr>\n",
       "    <tr>\n",
       "      <th>ETH</th>\n",
       "      <td>Ethereum</td>\n",
       "    </tr>\n",
       "  </tbody>\n",
       "</table>\n",
       "</div>"
      ],
      "text/plain": [
       "       CoinName\n",
       "42      42 Coin\n",
       "404     404Coin\n",
       "1337  EliteCoin\n",
       "BTC     Bitcoin\n",
       "ETH    Ethereum"
      ]
     },
     "execution_count": 168,
     "metadata": {},
     "output_type": "execute_result"
    }
   ],
   "source": [
    "# Create a new DataFrame that holds only the cryptocurrencies names.\n",
    "crypto_name_df = crypto_df.drop(columns = [\"Algorithm\",\"ProofType\",\"TotalCoinsMined\",\"TotalCoinSupply\"])\n",
    "print(crypto_name_df.shape)\n",
    "crypto_name_df.head()"
   ]
  },
  {
   "cell_type": "code",
   "execution_count": 169,
   "metadata": {},
   "outputs": [
    {
     "name": "stdout",
     "output_type": "stream",
     "text": [
      "(532, 4)\n"
     ]
    },
    {
     "data": {
      "text/html": [
       "<div>\n",
       "<style scoped>\n",
       "    .dataframe tbody tr th:only-of-type {\n",
       "        vertical-align: middle;\n",
       "    }\n",
       "\n",
       "    .dataframe tbody tr th {\n",
       "        vertical-align: top;\n",
       "    }\n",
       "\n",
       "    .dataframe thead th {\n",
       "        text-align: right;\n",
       "    }\n",
       "</style>\n",
       "<table border=\"1\" class=\"dataframe\">\n",
       "  <thead>\n",
       "    <tr style=\"text-align: right;\">\n",
       "      <th></th>\n",
       "      <th>Algorithm</th>\n",
       "      <th>ProofType</th>\n",
       "      <th>TotalCoinsMined</th>\n",
       "      <th>TotalCoinSupply</th>\n",
       "    </tr>\n",
       "  </thead>\n",
       "  <tbody>\n",
       "    <tr>\n",
       "      <th>42</th>\n",
       "      <td>Scrypt</td>\n",
       "      <td>PoW/PoS</td>\n",
       "      <td>4.199995e+01</td>\n",
       "      <td>42</td>\n",
       "    </tr>\n",
       "    <tr>\n",
       "      <th>404</th>\n",
       "      <td>Scrypt</td>\n",
       "      <td>PoW/PoS</td>\n",
       "      <td>1.055185e+09</td>\n",
       "      <td>532000000</td>\n",
       "    </tr>\n",
       "    <tr>\n",
       "      <th>1337</th>\n",
       "      <td>X13</td>\n",
       "      <td>PoW/PoS</td>\n",
       "      <td>2.927942e+10</td>\n",
       "      <td>314159265359</td>\n",
       "    </tr>\n",
       "    <tr>\n",
       "      <th>BTC</th>\n",
       "      <td>SHA-256</td>\n",
       "      <td>PoW</td>\n",
       "      <td>1.792718e+07</td>\n",
       "      <td>21000000</td>\n",
       "    </tr>\n",
       "    <tr>\n",
       "      <th>ETH</th>\n",
       "      <td>Ethash</td>\n",
       "      <td>PoW</td>\n",
       "      <td>1.076842e+08</td>\n",
       "      <td>0</td>\n",
       "    </tr>\n",
       "    <tr>\n",
       "      <th>LTC</th>\n",
       "      <td>Scrypt</td>\n",
       "      <td>PoW</td>\n",
       "      <td>6.303924e+07</td>\n",
       "      <td>84000000</td>\n",
       "    </tr>\n",
       "    <tr>\n",
       "      <th>DASH</th>\n",
       "      <td>X11</td>\n",
       "      <td>PoW/PoS</td>\n",
       "      <td>9.031294e+06</td>\n",
       "      <td>22000000</td>\n",
       "    </tr>\n",
       "    <tr>\n",
       "      <th>XMR</th>\n",
       "      <td>CryptoNight-V7</td>\n",
       "      <td>PoW</td>\n",
       "      <td>1.720114e+07</td>\n",
       "      <td>0</td>\n",
       "    </tr>\n",
       "    <tr>\n",
       "      <th>ETC</th>\n",
       "      <td>Ethash</td>\n",
       "      <td>PoW</td>\n",
       "      <td>1.133597e+08</td>\n",
       "      <td>210000000</td>\n",
       "    </tr>\n",
       "    <tr>\n",
       "      <th>ZEC</th>\n",
       "      <td>Equihash</td>\n",
       "      <td>PoW</td>\n",
       "      <td>7.383056e+06</td>\n",
       "      <td>21000000</td>\n",
       "    </tr>\n",
       "  </tbody>\n",
       "</table>\n",
       "</div>"
      ],
      "text/plain": [
       "           Algorithm ProofType  TotalCoinsMined TotalCoinSupply\n",
       "42            Scrypt   PoW/PoS     4.199995e+01              42\n",
       "404           Scrypt   PoW/PoS     1.055185e+09       532000000\n",
       "1337             X13   PoW/PoS     2.927942e+10    314159265359\n",
       "BTC          SHA-256       PoW     1.792718e+07        21000000\n",
       "ETH           Ethash       PoW     1.076842e+08               0\n",
       "LTC           Scrypt       PoW     6.303924e+07        84000000\n",
       "DASH             X11   PoW/PoS     9.031294e+06        22000000\n",
       "XMR   CryptoNight-V7       PoW     1.720114e+07               0\n",
       "ETC           Ethash       PoW     1.133597e+08       210000000\n",
       "ZEC         Equihash       PoW     7.383056e+06        21000000"
      ]
     },
     "execution_count": 169,
     "metadata": {},
     "output_type": "execute_result"
    }
   ],
   "source": [
    "# Drop the 'CoinName' column since it's not going to be used on the clustering algorithm.\n",
    "crypto_df.drop(columns = [\"CoinName\"],inplace=True)\n",
    "print(crypto_df.shape)\n",
    "crypto_df.head(10)"
   ]
  },
  {
   "cell_type": "code",
   "execution_count": 170,
   "metadata": {},
   "outputs": [
    {
     "name": "stdout",
     "output_type": "stream",
     "text": [
      "(532, 98)\n"
     ]
    },
    {
     "data": {
      "text/html": [
       "<div>\n",
       "<style scoped>\n",
       "    .dataframe tbody tr th:only-of-type {\n",
       "        vertical-align: middle;\n",
       "    }\n",
       "\n",
       "    .dataframe tbody tr th {\n",
       "        vertical-align: top;\n",
       "    }\n",
       "\n",
       "    .dataframe thead th {\n",
       "        text-align: right;\n",
       "    }\n",
       "</style>\n",
       "<table border=\"1\" class=\"dataframe\">\n",
       "  <thead>\n",
       "    <tr style=\"text-align: right;\">\n",
       "      <th></th>\n",
       "      <th>TotalCoinsMined</th>\n",
       "      <th>TotalCoinSupply</th>\n",
       "      <th>Algorithm_1GB AES Pattern Search</th>\n",
       "      <th>Algorithm_536</th>\n",
       "      <th>Algorithm_Argon2d</th>\n",
       "      <th>Algorithm_BLAKE256</th>\n",
       "      <th>Algorithm_Blake</th>\n",
       "      <th>Algorithm_Blake2S</th>\n",
       "      <th>Algorithm_Blake2b</th>\n",
       "      <th>Algorithm_C11</th>\n",
       "      <th>...</th>\n",
       "      <th>ProofType_PoW/PoS</th>\n",
       "      <th>ProofType_PoW/PoS</th>\n",
       "      <th>ProofType_PoW/PoW</th>\n",
       "      <th>ProofType_PoW/nPoS</th>\n",
       "      <th>ProofType_Pos</th>\n",
       "      <th>ProofType_Proof of Authority</th>\n",
       "      <th>ProofType_Proof of Trust</th>\n",
       "      <th>ProofType_TPoS</th>\n",
       "      <th>ProofType_Zero-Knowledge Proof</th>\n",
       "      <th>ProofType_dPoW/PoW</th>\n",
       "    </tr>\n",
       "  </thead>\n",
       "  <tbody>\n",
       "    <tr>\n",
       "      <th>42</th>\n",
       "      <td>4.199995e+01</td>\n",
       "      <td>42</td>\n",
       "      <td>0</td>\n",
       "      <td>0</td>\n",
       "      <td>0</td>\n",
       "      <td>0</td>\n",
       "      <td>0</td>\n",
       "      <td>0</td>\n",
       "      <td>0</td>\n",
       "      <td>0</td>\n",
       "      <td>...</td>\n",
       "      <td>1</td>\n",
       "      <td>0</td>\n",
       "      <td>0</td>\n",
       "      <td>0</td>\n",
       "      <td>0</td>\n",
       "      <td>0</td>\n",
       "      <td>0</td>\n",
       "      <td>0</td>\n",
       "      <td>0</td>\n",
       "      <td>0</td>\n",
       "    </tr>\n",
       "    <tr>\n",
       "      <th>404</th>\n",
       "      <td>1.055185e+09</td>\n",
       "      <td>532000000</td>\n",
       "      <td>0</td>\n",
       "      <td>0</td>\n",
       "      <td>0</td>\n",
       "      <td>0</td>\n",
       "      <td>0</td>\n",
       "      <td>0</td>\n",
       "      <td>0</td>\n",
       "      <td>0</td>\n",
       "      <td>...</td>\n",
       "      <td>1</td>\n",
       "      <td>0</td>\n",
       "      <td>0</td>\n",
       "      <td>0</td>\n",
       "      <td>0</td>\n",
       "      <td>0</td>\n",
       "      <td>0</td>\n",
       "      <td>0</td>\n",
       "      <td>0</td>\n",
       "      <td>0</td>\n",
       "    </tr>\n",
       "    <tr>\n",
       "      <th>1337</th>\n",
       "      <td>2.927942e+10</td>\n",
       "      <td>314159265359</td>\n",
       "      <td>0</td>\n",
       "      <td>0</td>\n",
       "      <td>0</td>\n",
       "      <td>0</td>\n",
       "      <td>0</td>\n",
       "      <td>0</td>\n",
       "      <td>0</td>\n",
       "      <td>0</td>\n",
       "      <td>...</td>\n",
       "      <td>1</td>\n",
       "      <td>0</td>\n",
       "      <td>0</td>\n",
       "      <td>0</td>\n",
       "      <td>0</td>\n",
       "      <td>0</td>\n",
       "      <td>0</td>\n",
       "      <td>0</td>\n",
       "      <td>0</td>\n",
       "      <td>0</td>\n",
       "    </tr>\n",
       "    <tr>\n",
       "      <th>BTC</th>\n",
       "      <td>1.792718e+07</td>\n",
       "      <td>21000000</td>\n",
       "      <td>0</td>\n",
       "      <td>0</td>\n",
       "      <td>0</td>\n",
       "      <td>0</td>\n",
       "      <td>0</td>\n",
       "      <td>0</td>\n",
       "      <td>0</td>\n",
       "      <td>0</td>\n",
       "      <td>...</td>\n",
       "      <td>0</td>\n",
       "      <td>0</td>\n",
       "      <td>0</td>\n",
       "      <td>0</td>\n",
       "      <td>0</td>\n",
       "      <td>0</td>\n",
       "      <td>0</td>\n",
       "      <td>0</td>\n",
       "      <td>0</td>\n",
       "      <td>0</td>\n",
       "    </tr>\n",
       "    <tr>\n",
       "      <th>ETH</th>\n",
       "      <td>1.076842e+08</td>\n",
       "      <td>0</td>\n",
       "      <td>0</td>\n",
       "      <td>0</td>\n",
       "      <td>0</td>\n",
       "      <td>0</td>\n",
       "      <td>0</td>\n",
       "      <td>0</td>\n",
       "      <td>0</td>\n",
       "      <td>0</td>\n",
       "      <td>...</td>\n",
       "      <td>0</td>\n",
       "      <td>0</td>\n",
       "      <td>0</td>\n",
       "      <td>0</td>\n",
       "      <td>0</td>\n",
       "      <td>0</td>\n",
       "      <td>0</td>\n",
       "      <td>0</td>\n",
       "      <td>0</td>\n",
       "      <td>0</td>\n",
       "    </tr>\n",
       "    <tr>\n",
       "      <th>LTC</th>\n",
       "      <td>6.303924e+07</td>\n",
       "      <td>84000000</td>\n",
       "      <td>0</td>\n",
       "      <td>0</td>\n",
       "      <td>0</td>\n",
       "      <td>0</td>\n",
       "      <td>0</td>\n",
       "      <td>0</td>\n",
       "      <td>0</td>\n",
       "      <td>0</td>\n",
       "      <td>...</td>\n",
       "      <td>0</td>\n",
       "      <td>0</td>\n",
       "      <td>0</td>\n",
       "      <td>0</td>\n",
       "      <td>0</td>\n",
       "      <td>0</td>\n",
       "      <td>0</td>\n",
       "      <td>0</td>\n",
       "      <td>0</td>\n",
       "      <td>0</td>\n",
       "    </tr>\n",
       "    <tr>\n",
       "      <th>DASH</th>\n",
       "      <td>9.031294e+06</td>\n",
       "      <td>22000000</td>\n",
       "      <td>0</td>\n",
       "      <td>0</td>\n",
       "      <td>0</td>\n",
       "      <td>0</td>\n",
       "      <td>0</td>\n",
       "      <td>0</td>\n",
       "      <td>0</td>\n",
       "      <td>0</td>\n",
       "      <td>...</td>\n",
       "      <td>1</td>\n",
       "      <td>0</td>\n",
       "      <td>0</td>\n",
       "      <td>0</td>\n",
       "      <td>0</td>\n",
       "      <td>0</td>\n",
       "      <td>0</td>\n",
       "      <td>0</td>\n",
       "      <td>0</td>\n",
       "      <td>0</td>\n",
       "    </tr>\n",
       "    <tr>\n",
       "      <th>XMR</th>\n",
       "      <td>1.720114e+07</td>\n",
       "      <td>0</td>\n",
       "      <td>0</td>\n",
       "      <td>0</td>\n",
       "      <td>0</td>\n",
       "      <td>0</td>\n",
       "      <td>0</td>\n",
       "      <td>0</td>\n",
       "      <td>0</td>\n",
       "      <td>0</td>\n",
       "      <td>...</td>\n",
       "      <td>0</td>\n",
       "      <td>0</td>\n",
       "      <td>0</td>\n",
       "      <td>0</td>\n",
       "      <td>0</td>\n",
       "      <td>0</td>\n",
       "      <td>0</td>\n",
       "      <td>0</td>\n",
       "      <td>0</td>\n",
       "      <td>0</td>\n",
       "    </tr>\n",
       "    <tr>\n",
       "      <th>ETC</th>\n",
       "      <td>1.133597e+08</td>\n",
       "      <td>210000000</td>\n",
       "      <td>0</td>\n",
       "      <td>0</td>\n",
       "      <td>0</td>\n",
       "      <td>0</td>\n",
       "      <td>0</td>\n",
       "      <td>0</td>\n",
       "      <td>0</td>\n",
       "      <td>0</td>\n",
       "      <td>...</td>\n",
       "      <td>0</td>\n",
       "      <td>0</td>\n",
       "      <td>0</td>\n",
       "      <td>0</td>\n",
       "      <td>0</td>\n",
       "      <td>0</td>\n",
       "      <td>0</td>\n",
       "      <td>0</td>\n",
       "      <td>0</td>\n",
       "      <td>0</td>\n",
       "    </tr>\n",
       "    <tr>\n",
       "      <th>ZEC</th>\n",
       "      <td>7.383056e+06</td>\n",
       "      <td>21000000</td>\n",
       "      <td>0</td>\n",
       "      <td>0</td>\n",
       "      <td>0</td>\n",
       "      <td>0</td>\n",
       "      <td>0</td>\n",
       "      <td>0</td>\n",
       "      <td>0</td>\n",
       "      <td>0</td>\n",
       "      <td>...</td>\n",
       "      <td>0</td>\n",
       "      <td>0</td>\n",
       "      <td>0</td>\n",
       "      <td>0</td>\n",
       "      <td>0</td>\n",
       "      <td>0</td>\n",
       "      <td>0</td>\n",
       "      <td>0</td>\n",
       "      <td>0</td>\n",
       "      <td>0</td>\n",
       "    </tr>\n",
       "  </tbody>\n",
       "</table>\n",
       "<p>10 rows × 98 columns</p>\n",
       "</div>"
      ],
      "text/plain": [
       "      TotalCoinsMined TotalCoinSupply  Algorithm_1GB AES Pattern Search  \\\n",
       "42       4.199995e+01              42                                 0   \n",
       "404      1.055185e+09       532000000                                 0   \n",
       "1337     2.927942e+10    314159265359                                 0   \n",
       "BTC      1.792718e+07        21000000                                 0   \n",
       "ETH      1.076842e+08               0                                 0   \n",
       "LTC      6.303924e+07        84000000                                 0   \n",
       "DASH     9.031294e+06        22000000                                 0   \n",
       "XMR      1.720114e+07               0                                 0   \n",
       "ETC      1.133597e+08       210000000                                 0   \n",
       "ZEC      7.383056e+06        21000000                                 0   \n",
       "\n",
       "      Algorithm_536  Algorithm_Argon2d  Algorithm_BLAKE256  Algorithm_Blake  \\\n",
       "42                0                  0                   0                0   \n",
       "404               0                  0                   0                0   \n",
       "1337              0                  0                   0                0   \n",
       "BTC               0                  0                   0                0   \n",
       "ETH               0                  0                   0                0   \n",
       "LTC               0                  0                   0                0   \n",
       "DASH              0                  0                   0                0   \n",
       "XMR               0                  0                   0                0   \n",
       "ETC               0                  0                   0                0   \n",
       "ZEC               0                  0                   0                0   \n",
       "\n",
       "      Algorithm_Blake2S  Algorithm_Blake2b  Algorithm_C11  ...  \\\n",
       "42                    0                  0              0  ...   \n",
       "404                   0                  0              0  ...   \n",
       "1337                  0                  0              0  ...   \n",
       "BTC                   0                  0              0  ...   \n",
       "ETH                   0                  0              0  ...   \n",
       "LTC                   0                  0              0  ...   \n",
       "DASH                  0                  0              0  ...   \n",
       "XMR                   0                  0              0  ...   \n",
       "ETC                   0                  0              0  ...   \n",
       "ZEC                   0                  0              0  ...   \n",
       "\n",
       "      ProofType_PoW/PoS  ProofType_PoW/PoS   ProofType_PoW/PoW  \\\n",
       "42                    1                   0                  0   \n",
       "404                   1                   0                  0   \n",
       "1337                  1                   0                  0   \n",
       "BTC                   0                   0                  0   \n",
       "ETH                   0                   0                  0   \n",
       "LTC                   0                   0                  0   \n",
       "DASH                  1                   0                  0   \n",
       "XMR                   0                   0                  0   \n",
       "ETC                   0                   0                  0   \n",
       "ZEC                   0                   0                  0   \n",
       "\n",
       "      ProofType_PoW/nPoS  ProofType_Pos  ProofType_Proof of Authority  \\\n",
       "42                     0              0                             0   \n",
       "404                    0              0                             0   \n",
       "1337                   0              0                             0   \n",
       "BTC                    0              0                             0   \n",
       "ETH                    0              0                             0   \n",
       "LTC                    0              0                             0   \n",
       "DASH                   0              0                             0   \n",
       "XMR                    0              0                             0   \n",
       "ETC                    0              0                             0   \n",
       "ZEC                    0              0                             0   \n",
       "\n",
       "      ProofType_Proof of Trust  ProofType_TPoS  \\\n",
       "42                           0               0   \n",
       "404                          0               0   \n",
       "1337                         0               0   \n",
       "BTC                          0               0   \n",
       "ETH                          0               0   \n",
       "LTC                          0               0   \n",
       "DASH                         0               0   \n",
       "XMR                          0               0   \n",
       "ETC                          0               0   \n",
       "ZEC                          0               0   \n",
       "\n",
       "      ProofType_Zero-Knowledge Proof  ProofType_dPoW/PoW  \n",
       "42                                 0                   0  \n",
       "404                                0                   0  \n",
       "1337                               0                   0  \n",
       "BTC                                0                   0  \n",
       "ETH                                0                   0  \n",
       "LTC                                0                   0  \n",
       "DASH                               0                   0  \n",
       "XMR                                0                   0  \n",
       "ETC                                0                   0  \n",
       "ZEC                                0                   0  \n",
       "\n",
       "[10 rows x 98 columns]"
      ]
     },
     "execution_count": 170,
     "metadata": {},
     "output_type": "execute_result"
    }
   ],
   "source": [
    "# Use get_dummies() to create variables for text features.\n",
    "X = pd.get_dummies(crypto_df, columns=[\"Algorithm\",\"ProofType\"], dtype=np.int64)\n",
    "print(X.shape)\n",
    "X.head(10)"
   ]
  },
  {
   "cell_type": "code",
   "execution_count": 171,
   "metadata": {},
   "outputs": [
    {
     "data": {
      "text/plain": [
       "array([[-0.11710817, -0.1528703 , -0.0433963 , ..., -0.0433963 ,\n",
       "        -0.0433963 , -0.0433963 ],\n",
       "       [-0.09396955, -0.145009  , -0.0433963 , ..., -0.0433963 ,\n",
       "        -0.0433963 , -0.0433963 ],\n",
       "       [ 0.52494561,  4.48942416, -0.0433963 , ..., -0.0433963 ,\n",
       "        -0.0433963 , -0.0433963 ],\n",
       "       ...,\n",
       "       [-0.09561336, -0.13217937, -0.0433963 , ..., -0.0433963 ,\n",
       "        -0.0433963 , -0.0433963 ],\n",
       "       [-0.11694817, -0.15255998, -0.0433963 , ..., -0.0433963 ,\n",
       "        -0.0433963 , -0.0433963 ],\n",
       "       [-0.11710536, -0.15285552, -0.0433963 , ..., -0.0433963 ,\n",
       "        -0.0433963 , -0.0433963 ]])"
      ]
     },
     "execution_count": 171,
     "metadata": {},
     "output_type": "execute_result"
    }
   ],
   "source": [
    "# Standardize the data with StandardScaler().\n",
    "X_scaled = StandardScaler().fit_transform(X)\n",
    "X_scaled"
   ]
  },
  {
   "cell_type": "markdown",
   "metadata": {},
   "source": [
    "### Deliverable 2: Reducing Data Dimensions Using PCA"
   ]
  },
  {
   "cell_type": "code",
   "execution_count": 172,
   "metadata": {},
   "outputs": [
    {
     "data": {
      "text/plain": [
       "array([[-0.34898918,  1.01013822, -0.48709847],\n",
       "       [-0.33229919,  1.01038222, -0.48738748],\n",
       "       [ 2.29605267,  1.58242169, -0.58393633],\n",
       "       ...,\n",
       "       [ 0.33160056, -2.32056349,  0.30465934],\n",
       "       [-0.14141238, -2.01846806,  0.41324055],\n",
       "       [-0.27031517,  0.90455001, -0.25325697]])"
      ]
     },
     "execution_count": 172,
     "metadata": {},
     "output_type": "execute_result"
    }
   ],
   "source": [
    "# Using PCA to reduce dimension to three principal components.\n",
    "pca = PCA(n_components=3)\n",
    "X_pca = pca.fit_transform(X_scaled)\n",
    "X_pca"
   ]
  },
  {
   "cell_type": "code",
   "execution_count": 173,
   "metadata": {},
   "outputs": [
    {
     "name": "stdout",
     "output_type": "stream",
     "text": [
      "(532, 3)\n"
     ]
    },
    {
     "data": {
      "text/html": [
       "<div>\n",
       "<style scoped>\n",
       "    .dataframe tbody tr th:only-of-type {\n",
       "        vertical-align: middle;\n",
       "    }\n",
       "\n",
       "    .dataframe tbody tr th {\n",
       "        vertical-align: top;\n",
       "    }\n",
       "\n",
       "    .dataframe thead th {\n",
       "        text-align: right;\n",
       "    }\n",
       "</style>\n",
       "<table border=\"1\" class=\"dataframe\">\n",
       "  <thead>\n",
       "    <tr style=\"text-align: right;\">\n",
       "      <th></th>\n",
       "      <th>PC 1</th>\n",
       "      <th>PC 2</th>\n",
       "      <th>PC 3</th>\n",
       "    </tr>\n",
       "  </thead>\n",
       "  <tbody>\n",
       "    <tr>\n",
       "      <th>42</th>\n",
       "      <td>-0.348989</td>\n",
       "      <td>1.010138</td>\n",
       "      <td>-0.487098</td>\n",
       "    </tr>\n",
       "    <tr>\n",
       "      <th>404</th>\n",
       "      <td>-0.332299</td>\n",
       "      <td>1.010382</td>\n",
       "      <td>-0.487387</td>\n",
       "    </tr>\n",
       "    <tr>\n",
       "      <th>1337</th>\n",
       "      <td>2.296053</td>\n",
       "      <td>1.582422</td>\n",
       "      <td>-0.583936</td>\n",
       "    </tr>\n",
       "    <tr>\n",
       "      <th>BTC</th>\n",
       "      <td>-0.144652</td>\n",
       "      <td>-1.355199</td>\n",
       "      <td>0.137224</td>\n",
       "    </tr>\n",
       "    <tr>\n",
       "      <th>ETH</th>\n",
       "      <td>-0.146113</td>\n",
       "      <td>-2.023783</td>\n",
       "      <td>0.313150</td>\n",
       "    </tr>\n",
       "    <tr>\n",
       "      <th>LTC</th>\n",
       "      <td>-0.166380</td>\n",
       "      <td>-1.104429</td>\n",
       "      <td>-0.008003</td>\n",
       "    </tr>\n",
       "    <tr>\n",
       "      <th>DASH</th>\n",
       "      <td>-0.412639</td>\n",
       "      <td>1.166418</td>\n",
       "      <td>-0.422307</td>\n",
       "    </tr>\n",
       "    <tr>\n",
       "      <th>XMR</th>\n",
       "      <td>-0.155801</td>\n",
       "      <td>-2.213564</td>\n",
       "      <td>0.360602</td>\n",
       "    </tr>\n",
       "    <tr>\n",
       "      <th>ETC</th>\n",
       "      <td>-0.144551</td>\n",
       "      <td>-2.023875</td>\n",
       "      <td>0.313134</td>\n",
       "    </tr>\n",
       "    <tr>\n",
       "      <th>ZEC</th>\n",
       "      <td>-0.141411</td>\n",
       "      <td>-2.018468</td>\n",
       "      <td>0.413241</td>\n",
       "    </tr>\n",
       "  </tbody>\n",
       "</table>\n",
       "</div>"
      ],
      "text/plain": [
       "          PC 1      PC 2      PC 3\n",
       "42   -0.348989  1.010138 -0.487098\n",
       "404  -0.332299  1.010382 -0.487387\n",
       "1337  2.296053  1.582422 -0.583936\n",
       "BTC  -0.144652 -1.355199  0.137224\n",
       "ETH  -0.146113 -2.023783  0.313150\n",
       "LTC  -0.166380 -1.104429 -0.008003\n",
       "DASH -0.412639  1.166418 -0.422307\n",
       "XMR  -0.155801 -2.213564  0.360602\n",
       "ETC  -0.144551 -2.023875  0.313134\n",
       "ZEC  -0.141411 -2.018468  0.413241"
      ]
     },
     "execution_count": 173,
     "metadata": {},
     "output_type": "execute_result"
    }
   ],
   "source": [
    "# Create a DataFrame with the three principal components.\n",
    "pcs_df = pd.DataFrame(\n",
    "    data=X_pca, columns=[\"PC 1\", \"PC 2\", \"PC 3\"],index=crypto_df.index\n",
    ")\n",
    "print(pcs_df.shape)\n",
    "pcs_df.head(10)"
   ]
  },
  {
   "cell_type": "markdown",
   "metadata": {},
   "source": [
    "### Deliverable 3: Clustering Crytocurrencies Using K-Means\n",
    "\n",
    "#### Finding the Best Value for `k` Using the Elbow Curve"
   ]
  },
  {
   "cell_type": "code",
   "execution_count": 174,
   "metadata": {},
   "outputs": [
    {
     "data": {
      "image/png": "[encoded data removed]",
      "text/plain": [
       "<Figure size 640x480 with 1 Axes>"
      ]
     },
     "metadata": {},
     "output_type": "display_data"
    },
    {
     "data": {},
     "metadata": {},
     "output_type": "display_data"
    },
    {
     "data": {
      "application/vnd.holoviews_exec.v0+json": "",
      "text/html": [
       "<div id='301776'>\n",
       "  <div class=\"bk-root\" id=\"b0d8ce64-ceb9-4ff0-b7f4-ea9b74f70ff8\" data-root-id=\"301776\"></div>\n",
       "</div>\n",
       "<script type=\"application/javascript\">(function(root) {\n",
       "  function embed_document(root) {\n",
       "    var docs_json = {\"75ebeafb-edea-4434-8373-10a95da7b122\":{\"defs\":[{\"extends\":null,\"module\":null,\"name\":\"ReactiveHTML1\",\"overrides\":[],\"properties\":[]},{\"extends\":null,\"module\":null,\"name\":\"FlexBox1\",\"overrides\":[],\"properties\":[{\"default\":\"flex-start\",\"kind\":null,\"name\":\"align_content\"},{\"default\":\"flex-start\",\"kind\":null,\"name\":\"align_items\"},{\"default\":\"row\",\"kind\":null,\"name\":\"flex_direction\"},{\"default\":\"wrap\",\"kind\":null,\"name\":\"flex_wrap\"},{\"default\":\"flex-start\",\"kind\":null,\"name\":\"justify_content\"}]},{\"extends\":null,\"module\":null,\"name\":\"GridStack1\",\"overrides\":[],\"properties\":[{\"default\":\"warn\",\"kind\":null,\"name\":\"mode\"},{\"default\":null,\"kind\":null,\"name\":\"ncols\"},{\"default\":null,\"kind\":null,\"name\":\"nrows\"},{\"default\":true,\"kind\":null,\"name\":\"allow_resize\"},{\"default\":true,\"kind\":null,\"name\":\"allow_drag\"},{\"default\":[],\"kind\":null,\"name\":\"state\"}]},{\"extends\":null,\"module\":null,\"name\":\"click1\",\"overrides\":[],\"properties\":[{\"default\":\"\",\"kind\":null,\"name\":\"terminal_output\"},{\"default\":\"\",\"kind\":null,\"name\":\"debug_name\"},{\"default\":0,\"kind\":null,\"name\":\"clears\"}]},{\"extends\":null,\"module\":null,\"name\":\"NotificationAreaBase1\",\"overrides\":[],\"properties\":[{\"default\":\"bottom-right\",\"kind\":null,\"name\":\"position\"},{\"default\":0,\"kind\":null,\"name\":\"_clear\"}]},{\"extends\":null,\"module\":null,\"name\":\"NotificationArea1\",\"overrides\":[],\"properties\":[{\"default\":[],\"kind\":null,\"name\":\"notifications\"},{\"default\":\"bottom-right\",\"kind\":null,\"name\":\"position\"},{\"default\":0,\"kind\":null,\"name\":\"_clear\"},{\"default\":[{\"background\":\"#ffc107\",\"icon\":{\"className\":\"fas fa-exclamation-triangle\",\"color\":\"white\",\"tagName\":\"i\"},\"type\":\"warning\"},{\"background\":\"#007bff\",\"icon\":{\"className\":\"fas fa-info-circle\",\"color\":\"white\",\"tagName\":\"i\"},\"type\":\"info\"}],\"kind\":null,\"name\":\"types\"}]},{\"extends\":null,\"module\":null,\"name\":\"Notification\",\"overrides\":[],\"properties\":[{\"default\":null,\"kind\":null,\"name\":\"background\"},{\"default\":3000,\"kind\":null,\"name\":\"duration\"},{\"default\":null,\"kind\":null,\"name\":\"icon\"},{\"default\":\"\",\"kind\":null,\"name\":\"message\"},{\"default\":null,\"kind\":null,\"name\":\"notification_type\"},{\"default\":false,\"kind\":null,\"name\":\"_destroyed\"}]},{\"extends\":null,\"module\":null,\"name\":\"TemplateActions1\",\"overrides\":[],\"properties\":[{\"default\":0,\"kind\":null,\"name\":\"open_modal\"},{\"default\":0,\"kind\":null,\"name\":\"close_modal\"}]},{\"extends\":null,\"module\":null,\"name\":\"MaterialTemplateActions1\",\"overrides\":[],\"properties\":[{\"default\":0,\"kind\":null,\"name\":\"open_modal\"},{\"default\":0,\"kind\":null,\"name\":\"close_modal\"}]}],\"roots\":{\"references\":[{\"attributes\":{\"click_policy\":\"mute\",\"coordinates\":null,\"group\":null,\"items\":[{\"id\":\"301837\"},{\"id\":\"301859\"},{\"id\":\"301883\"}],\"location\":[0,0],\"title\":\"Variable\"},\"id\":\"301836\",\"type\":\"Legend\"},{\"attributes\":{\"data\":{\"Variable\":[\"PC 3\",\"PC 3\",\"PC 3\",\"PC 3\",\"PC 3\",\"PC 3\",\"PC 3\",\"PC 3\",\"PC 3\",\"PC 3\",\"PC 3\",\"PC 3\",\"PC 3\",\"PC 3\",\"PC 3\",\"PC 3\",\"PC 3\",\"PC 3\",\"PC 3\",\"PC 3\",\"PC 3\",\"PC 3\",\"PC 3\",\"PC 3\",\"PC 3\",\"PC 3\",\"PC 3\",\"PC 3\",\"PC 3\",\"PC 3\",\"PC 3\",\"PC 3\",\"PC 3\",\"PC 3\",\"PC 3\",\"PC 3\",\"PC 3\",\"PC 3\",\"PC 3\",\"PC 3\",\"PC 3\",\"PC 3\",\"PC 3\",\"PC 3\",\"PC 3\",\"PC 3\",\"PC 3\",\"PC 3\",\"PC 3\",\"PC 3\",\"PC 3\",\"PC 3\",\"PC 3\",\"PC 3\",\"PC 3\",\"PC 3\",\"PC 3\",\"PC 3\",\"PC 3\",\"PC 3\",\"PC 3\",\"PC 3\",\"PC 3\",\"PC 3\",\"PC 3\",\"PC 3\",\"PC 3\",\"PC 3\",\"PC 3\",\"PC 3\",\"PC 3\",\"PC 3\",\"PC 3\",\"PC 3\",\"PC 3\",\"PC 3\",\"PC 3\",\"PC 3\",\"PC 3\",\"PC 3\",\"PC 3\",\"PC 3\",\"PC 3\",\"PC 3\",\"PC 3\",\"PC 3\",\"PC 3\",\"PC 3\",\"PC 3\",\"PC 3\",\"PC 3\",\"PC 3\",\"PC 3\",\"PC 3\",\"PC 3\",\"PC 3\",\"PC 3\",\"PC 3\",\"PC 3\",\"PC 3\",\"PC 3\",\"PC 3\",\"PC 3\",\"PC 3\",\"PC 3\",\"PC 3\",\"PC 3\",\"PC 3\",\"PC 3\",\"PC 3\",\"PC 3\",\"PC 3\",\"PC 3\",\"PC 3\",\"PC 3\",\"PC 3\",\"PC 3\",\"PC 3\",\"PC 3\",\"PC 3\",\"PC 3\",\"PC 3\",\"PC 3\",\"PC 3\",\"PC 3\",\"PC 3\",\"PC 3\",\"PC 3\",\"PC 3\",\"PC 3\",\"PC 3\",\"PC 3\",\"PC 3\",\"PC 3\",\"PC 3\",\"PC 3\",\"PC 3\",\"PC 3\",\"PC 3\",\"PC 3\",\"PC 3\",\"PC 3\",\"PC 3\",\"PC 3\",\"PC 3\",\"PC 3\",\"PC 3\",\"PC 3\",\"PC 3\",\"PC 3\",\"PC 3\",\"PC 3\",\"PC 3\",\"PC 3\",\"PC 3\",\"PC 3\",\"PC 3\",\"PC 3\",\"PC 3\",\"PC 3\",\"PC 3\",\"PC 3\",\"PC 3\",\"PC 3\",\"PC 3\",\"PC 3\",\"PC 3\",\"PC 3\",\"PC 3\",\"PC 3\",\"PC 3\",\"PC 3\",\"PC 3\",\"PC 3\",\"PC 3\",\"PC 3\",\"PC 3\",\"PC 3\",\"PC 3\",\"PC 3\",\"PC 3\",\"PC 3\",\"PC 3\",\"PC 3\",\"PC 3\",\"PC 3\",\"PC 3\",\"PC 3\",\"PC 3\",\"PC 3\",\"PC 3\",\"PC 3\",\"PC 3\",\"PC 3\",\"PC 3\",\"PC 3\",\"PC 3\",\"PC 3\",\"PC 3\",\"PC 3\",\"PC 3\",\"PC 3\",\"PC 3\",\"PC 3\",\"PC 3\",\"PC 3\",\"PC 3\",\"PC 3\",\"PC 3\",\"PC 3\",\"PC 3\",\"PC 3\",\"PC 3\",\"PC 3\",\"PC 3\",\"PC 3\",\"PC 3\",\"PC 3\",\"PC 3\",\"PC 3\",\"PC 3\",\"PC 3\",\"PC 3\",\"PC 3\",\"PC 3\",\"PC 3\",\"PC 3\",\"PC 3\",\"PC 3\",\"PC 3\",\"PC 3\",\"PC 3\",\"PC 3\",\"PC 3\",\"PC 3\",\"PC 3\",\"PC 3\",\"PC 3\",\"PC 3\",\"PC 3\",\"PC 3\",\"PC 3\",\"PC 3\",\"PC 3\",\"PC 3\",\"PC 3\",\"PC 3\",\"PC 3\",\"PC 3\",\"PC 3\",\"PC 3\",\"PC 3\",\"PC 3\",\"PC 3\",\"PC 3\",\"PC 3\",\"PC 3\",\"PC 3\",\"PC 3\",\"PC 3\",\"PC 3\",\"PC 3\",\"PC 3\",\"PC 3\",\"PC 3\",\"PC 3\",\"PC 3\",\"PC 3\",\"PC 3\",\"PC 3\",\"PC 3\",\"PC 3\",\"PC 3\",\"PC 3\",\"PC 3\",\"PC 3\",\"PC 3\",\"PC 3\",\"PC 3\",\"PC 3\",\"PC 3\",\"PC 3\",\"PC 3\",\"PC 3\",\"PC 3\",\"PC 3\",\"PC 3\",\"PC 3\",\"PC 3\",\"PC 3\",\"PC 3\",\"PC 3\",\"PC 3\",\"PC 3\",\"PC 3\",\"PC 3\",\"PC 3\",\"PC 3\",\"PC 3\",\"PC 3\",\"PC 3\",\"PC 3\",\"PC 3\",\"PC 3\",\"PC 3\",\"PC 3\",\"PC 3\",\"PC 3\",\"PC 3\",\"PC 3\",\"PC 3\",\"PC 3\",\"PC 3\",\"PC 3\",\"PC 3\",\"PC 3\",\"PC 3\",\"PC 3\",\"PC 3\",\"PC 3\",\"PC 3\",\"PC 3\",\"PC 3\",\"PC 3\",\"PC 3\",\"PC 3\",\"PC 3\",\"PC 3\",\"PC 3\",\"PC 3\",\"PC 3\",\"PC 3\",\"PC 3\",\"PC 3\",\"PC 3\",\"PC 3\",\"PC 3\",\"PC 3\",\"PC 3\",\"PC 3\",\"PC 3\",\"PC 3\",\"PC 3\",\"PC 3\",\"PC 3\",\"PC 3\",\"PC 3\",\"PC 3\",\"PC 3\",\"PC 3\",\"PC 3\",\"PC 3\",\"PC 3\",\"PC 3\",\"PC 3\",\"PC 3\",\"PC 3\",\"PC 3\",\"PC 3\",\"PC 3\",\"PC 3\",\"PC 3\",\"PC 3\",\"PC 3\",\"PC 3\",\"PC 3\",\"PC 3\",\"PC 3\",\"PC 3\",\"PC 3\",\"PC 3\",\"PC 3\",\"PC 3\",\"PC 3\",\"PC 3\",\"PC 3\",\"PC 3\",\"PC 3\",\"PC 3\",\"PC 3\",\"PC 3\",\"PC 3\",\"PC 3\",\"PC 3\",\"PC 3\",\"PC 3\",\"PC 3\",\"PC 3\",\"PC 3\",\"PC 3\",\"PC 3\",\"PC 3\",\"PC 3\",\"PC 3\",\"PC 3\",\"PC 3\",\"PC 3\",\"PC 3\",\"PC 3\",\"PC 3\",\"PC 3\",\"PC 3\",\"PC 3\",\"PC 3\",\"PC 3\",\"PC 3\",\"PC 3\",\"PC 3\",\"PC 3\",\"PC 3\",\"PC 3\",\"PC 3\",\"PC 3\",\"PC 3\",\"PC 3\",\"PC 3\",\"PC 3\",\"PC 3\",\"PC 3\",\"PC 3\",\"PC 3\",\"PC 3\",\"PC 3\",\"PC 3\",\"PC 3\",\"PC 3\",\"PC 3\",\"PC 3\",\"PC 3\",\"PC 3\",\"PC 3\",\"PC 3\",\"PC 3\",\"PC 3\",\"PC 3\",\"PC 3\",\"PC 3\",\"PC 3\",\"PC 3\",\"PC 3\",\"PC 3\",\"PC 3\",\"PC 3\",\"PC 3\",\"PC 3\",\"PC 3\",\"PC 3\",\"PC 3\",\"PC 3\",\"PC 3\",\"PC 3\",\"PC 3\",\"PC 3\",\"PC 3\",\"PC 3\",\"PC 3\",\"PC 3\",\"PC 3\",\"PC 3\",\"PC 3\",\"PC 3\",\"PC 3\",\"PC 3\",\"PC 3\",\"PC 3\",\"PC 3\",\"PC 3\",\"PC 3\",\"PC 3\",\"PC 3\",\"PC 3\",\"PC 3\",\"PC 3\",\"PC 3\",\"PC 3\",\"PC 3\",\"PC 3\",\"PC 3\",\"PC 3\",\"PC 3\",\"PC 3\",\"PC 3\",\"PC 3\",\"PC 3\",\"PC 3\",\"PC 3\",\"PC 3\",\"PC 3\",\"PC 3\",\"PC 3\",\"PC 3\",\"PC 3\",\"PC 3\",\"PC 3\",\"PC 3\",\"PC 3\",\"PC 3\",\"PC 3\",\"PC 3\",\"PC 3\",\"PC 3\",\"PC 3\",\"PC 3\",\"PC 3\",\"PC 3\",\"PC 3\",\"PC 3\",\"PC 3\",\"PC 3\",\"PC 3\",\"PC 3\",\"PC 3\",\"PC 3\",\"PC 3\",\"PC 3\",\"PC 3\",\"PC 3\",\"PC 3\",\"PC 3\",\"PC 3\",\"PC 3\",\"PC 3\",\"PC 3\",\"PC 3\",\"PC 3\",\"PC 3\",\"PC 3\",\"PC 3\",\"PC 3\",\"PC 3\",\"PC 3\",\"PC 3\"],\"index\":[\"42\",\"404\",\"1337\",\"BTC\",\"ETH\",\"LTC\",\"DASH\",\"XMR\",\"ETC\",\"ZEC\",\"BTS\",\"DGB\",\"BTCD\",\"XPY\",\"PRC\",\"KOBO\",\"SPR\",\"ARG\",\"AUR\",\"BLU\",\"XMY\",\"MOON\",\"ZET\",\"SXC\",\"QTL\",\"ENRG\",\"QRK\",\"RIC\",\"DGC\",\"BTB\",\"CAT\",\"CBX\",\"CCN\",\"CRYPT\",\"CSC\",\"DMD\",\"XVG\",\"DVC\",\"EAC\",\"EFL\",\"EMC2\",\"EMD\",\"EXCL\",\"FLT\",\"FRK\",\"FTC\",\"GDC\",\"GLC\",\"GLD\",\"HBN\",\"HYP\",\"IFC\",\"IOC\",\"IXC\",\"KGC\",\"LKY\",\"LTB\",\"MAX\",\"MEC\",\"MED\",\"MINT\",\"MINC\",\"MZC\",\"NAUT\",\"NAV\",\"NOBL\",\"NMC\",\"NYAN\",\"OPAL\",\"ORB\",\"POT\",\"PXC\",\"RDD\",\"RPC\",\"SBC\",\"SMC\",\"SUPER\",\"SYNC\",\"SYS\",\"TES\",\"TGC\",\"TIT\",\"TOR\",\"TRC\",\"UNB\",\"UNO\",\"URO\",\"USDE\",\"UTC\",\"VIA\",\"VRC\",\"VTC\",\"WDC\",\"XC\",\"XCR\",\"XJO\",\"XST\",\"ZCC\",\"BCN\",\"XDN\",\"BURST\",\"SJCX\",\"MONA\",\"NTRN\",\"FAIR\",\"NLG\",\"RBY\",\"PTC\",\"KORE\",\"WBB\",\"NOTE\",\"FLO\",\"8BIT\",\"STV\",\"ABY\",\"FLDC\",\"U\",\"UIS\",\"CYP\",\"OMC\",\"VTR\",\"GRE\",\"XCN\",\"MSC\",\"SOON\",\"1CR\",\"ISL\",\"NXS\",\"MARS\",\"CTO\",\"ACP\",\"DRZ\",\"BSC\",\"SQL\",\"SONG\",\"ZNY\",\"DIGS\",\"EXP\",\"CON\",\"SC\",\"EMC\",\"EGC\",\"MND\",\"I0C\",\"DCR\",\"RVR\",\"HODL\",\"EDRC\",\"HTC\",\"GAME\",\"DBIC\",\"DIEM\",\"PWR\",\"BLRY\",\"GPU\",\"ADZ\",\"SOIL\",\"YOC\",\"SIB\",\"ERC\",\"ZEIT\",\"SWING\",\"SAFEX\",\"NEBU\",\"FRN\",\"BOLI\",\"XRA\",\"REV\",\"CKC\",\"VIP\",\"BSD\",\"OMNI\",\"LIR\",\"PUT\",\"IBANK\",\"FRWC\",\"MUDRA\",\"PIZZA\",\"LC\",\"KMD\",\"GB\",\"CTC\",\"KRB\",\"BXT\",\"ZYD\",\"MST\",\"ZNE\",\"COVAL\",\"ROOT\",\"DOPE\",\"BTCR\",\"DLC\",\"SCN\",\"SH\",\"BUZZ\",\"XPO\",\"PSB\",\"HALLO\",\"XZC\",\"CFC\",\"ROYAL\",\"GNJ\",\"TEAM\",\"LANA\",\"ELE\",\"ZCL\",\"ARK\",\"INSANE\",\"KLC\",\"ATX\",\"EMB\",\"XEN\",\"FRE\",\"PLNC\",\"ARCO\",\"KURT\",\"XCRE\",\"ENT\",\"EUC\",\"BCF\",\"XSN\",\"BCCOIN\",\"MONEY\",\"XNG\",\"XCI\",\"RC\",\"PND\",\"UNITS\",\"GAKH\",\"ASAFE2\",\"LTCR\",\"OS76\",\"BIC\",\"HXX\",\"KED\",\"IOP\",\"KUSH\",\"PRX\",\"PAC\",\"IMPCH\",\"CTL\",\"ZBC\",\"FRST\",\"BVC\",\"FIND\",\"VLTC\",\"ZER\",\"CHAT\",\"CDN\",\"ZOI\",\"RNS\",\"DBIX\",\"XVP\",\"TAJ\",\"IMX\",\"EB3\",\"ATMOS\",\"HPC\",\"CXT\",\"MCRN\",\"RAIN\",\"IMS\",\"ARGUS\",\"LMC\",\"PROC\",\"XGR\",\"BENJI\",\"GRW\",\"ILC\",\"PHR\",\"DEA\",\"HTML5\",\"USC\",\"EQT\",\"QTUM\",\"QRL\",\"ESP\",\"DYN\",\"NANO\",\"CHAN\",\"DCY\",\"DNR\",\"DP\",\"VUC\",\"BTPL\",\"UNIFY\",\"BRIT\",\"SOCC\",\"ARC\",\"DAS\",\"LINDA\",\"XLC\",\"ONION\",\"BTX\",\"GCN\",\"SMART\",\"SIGT\",\"ONX\",\"CRM\",\"BCH\",\"XMCC\",\"DFT\",\"VET\",\"SOJ\",\"STCN\",\"NYC\",\"FRAZ\",\"KRONE\",\"ACC\",\"LINX\",\"XCXT\",\"ETHD\",\"SUMO\",\"ODN\",\"ADA\",\"REC\",\"BTCZ\",\"TZC\",\"ELM\",\"TER\",\"VIVO\",\"RUP\",\"BTG\",\"WOMEN\",\"MAY\",\"NAMO\",\"LUX\",\"PIRL\",\"XIOS\",\"BTDX\",\"EBST\",\"KEK\",\"BLHC\",\"XIN\",\"PURA\",\"INN\",\"ELLA\",\"GBX\",\"MAG\",\"TAU\",\"ECA\",\"BCD\",\"XSH\",\"CNBC\",\"XUN\",\"COAL\",\"DAXX\",\"BWK\",\"KLKS\",\"AC3\",\"LTHN\",\"GER\",\"LTCU\",\"POP\",\"PNX\",\"PHO\",\"SUCR\",\"SPK\",\"WAGE\",\"GUN\",\"IRL\",\"TROLL\",\"LCP\",\"MONK\",\"PCOIN\",\"UBTC\",\"ITZ\",\"TPAY\",\"MCT\",\"MBC\",\"TRTL\",\"MUN\",\"USX\",\"NBR\",\"SSS\",\"TRF\",\"KREDS\",\"TOKC\",\"BBP\",\"LCC\",\"FLIP\",\"LOT\",\"CIF\",\"SPD\",\"POA\",\"PUSHI\",\"ELP\",\"VLX\",\"ONT\",\"CLO\",\"TUBE\",\"PSD\",\"ADK\",\"BSX\",\"BRIA\",\"IC\",\"BTL\",\"MEDIC\",\"ALPS\",\"BITG\",\"DEV\",\"ABJ\",\"SEM\",\"FTO\",\"CARE\",\"NZL\",\"XMC\",\"PROTON\",\"DEAL\",\"JUMP\",\"INFX\",\"XBI\",\"KEC\",\"HWC\",\"GIN\",\"PLTC\",\"LOKI\",\"NCP\",\"SIC\",\"XT3\",\"MGD\",\"VIG\",\"PLURA\",\"EMAR\",\"DKD\",\"LYNX\",\"POSQ\",\"BWS\",\"MUSE\",\"XMN\",\"PLUS1\",\"AXE\",\"TRVC\",\"DTEM\",\"GIC\",\"PNY\",\"ABS\",\"VITAE\",\"HEX\",\"TPC\",\"WEBC\",\"RYO\",\"URALS\",\"QWC\",\"ARE\",\"EUNO\",\"MMO\",\"KETAN\",\"PPAI\",\"XDNA\",\"PAXEX\",\"AZART\",\"TSC\",\"KCASH\",\"XCG\",\"AAC\",\"CRYP\",\"BTXC\",\"ACM\",\"BSV\",\"BITM\",\"JMC\",\"FRED\",\"HERB\",\"UMO\",\"LIT\",\"PIRATE\",\"EXO\",\"BLTG\",\"OWC\",\"BEAM\",\"GALI\",\"BTH\",\"CSPN\",\"CREDIT\",\"SLC\",\"DASHP\",\"NSD\",\"BEET\",\"TTN\",\"AWR\",\"BLAST\",\"XRC\",\"GLT\",\"INSN\",\"ALX\",\"LDOGE\",\"SLR\",\"TRK\",\"UFO\",\"OC\",\"BLC\",\"BITS\",\"NEOS\",\"HYPER\",\"PINK\",\"CESC\",\"ADC\",\"NKA\",\"PIGGY\",\"CRW\",\"GEN\",\"SMLY\",\"MI\",\"GRS\",\"CPC\",\"CLUB\",\"RADS\",\"BTA\",\"PAK\",\"CRB\",\"OK\",\"LSK\",\"XHI\",\"XWC\",\"FSC\",\"J\",\"TRI\",\"VOLLAR\",\"EOS\",\"RCC\",\"OXY\",\"TCH\",\"WAVES\",\"PART\",\"BTT\",\"NXT\",\"ZEPH\",\"GAP\",\"BDX\",\"ZEN\",\"XBC\"],\"value\":{\"__ndarray__\":\"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\",\"dtype\":\"float64\",\"order\":\"little\",\"shape\":[532]}},\"selected\":{\"id\":\"301862\"},\"selection_policy\":{\"id\":\"301880\"}},\"id\":\"301861\",\"type\":\"ColumnDataSource\"},{\"attributes\":{\"source\":{\"id\":\"301839\"}},\"id\":\"301846\",\"type\":\"CDSView\"},{\"attributes\":{\"line_color\":\"#30a2da\",\"line_width\":2,\"x\":{\"field\":\"index\"},\"y\":{\"field\":\"value\"}},\"id\":\"301821\",\"type\":\"Line\"},{\"attributes\":{},\"id\":\"301833\",\"type\":\"UnionRenderers\"},{\"attributes\":{},\"id\":\"301880\",\"type\":\"UnionRenderers\"},{\"attributes\":{\"line_alpha\":0.1,\"line_color\":\"#fc4f30\",\"line_width\":2,\"x\":{\"field\":\"index\"},\"y\":{\"field\":\"value\"}},\"id\":\"301843\",\"type\":\"Line\"},{\"attributes\":{\"coordinates\":null,\"data_source\":{\"id\":\"301839\"},\"glyph\":{\"id\":\"301842\"},\"group\":null,\"hover_glyph\":null,\"muted_glyph\":{\"id\":\"301844\"},\"nonselection_glyph\":{\"id\":\"301843\"},\"selection_glyph\":{\"id\":\"301860\"},\"view\":{\"id\":\"301846\"}},\"id\":\"301845\",\"type\":\"GlyphRenderer\"},{\"attributes\":{\"coordinates\":null,\"data_source\":{\"id\":\"301861\"},\"glyph\":{\"id\":\"301864\"},\"group\":null,\"hover_glyph\":null,\"muted_glyph\":{\"id\":\"301866\"},\"nonselection_glyph\":{\"id\":\"301865\"},\"selection_glyph\":{\"id\":\"301884\"},\"view\":{\"id\":\"301868\"}},\"id\":\"301867\",\"type\":\"GlyphRenderer\"},{\"attributes\":{},\"id\":\"301799\",\"type\":\"SaveTool\"},{\"attributes\":{\"line_alpha\":0.1,\"line_color\":\"#30a2da\",\"line_width\":2,\"x\":{\"field\":\"index\"},\"y\":{\"field\":\"value\"}},\"id\":\"301822\",\"type\":\"Line\"},{\"attributes\":{\"line_color\":\"#e5ae38\",\"line_width\":2,\"x\":{\"field\":\"index\"},\"y\":{\"field\":\"value\"}},\"id\":\"301864\",\"type\":\"Line\"},{\"attributes\":{\"label\":{\"value\":\"PC 1\"},\"renderers\":[{\"id\":\"301824\"}]},\"id\":\"301837\",\"type\":\"LegendItem\"},{\"attributes\":{\"label\":{\"value\":\"PC 2\"},\"renderers\":[{\"id\":\"301845\"}]},\"id\":\"301859\",\"type\":\"LegendItem\"},{\"attributes\":{\"line_alpha\":0.2,\"line_color\":\"#30a2da\",\"line_width\":2,\"x\":{\"field\":\"index\"},\"y\":{\"field\":\"value\"}},\"id\":\"301823\",\"type\":\"Line\"},{\"attributes\":{\"line_color\":\"#e5ae38\",\"line_width\":2,\"x\":{\"field\":\"index\"},\"y\":{\"field\":\"value\"}},\"id\":\"301884\",\"type\":\"Line\"},{\"attributes\":{\"line_alpha\":0.1,\"line_color\":\"#e5ae38\",\"line_width\":2,\"x\":{\"field\":\"index\"},\"y\":{\"field\":\"value\"}},\"id\":\"301865\",\"type\":\"Line\"},{\"attributes\":{},\"id\":\"301856\",\"type\":\"UnionRenderers\"},{\"attributes\":{\"coordinates\":null,\"data_source\":{\"id\":\"301818\"},\"glyph\":{\"id\":\"301821\"},\"group\":null,\"hover_glyph\":null,\"muted_glyph\":{\"id\":\"301823\"},\"nonselection_glyph\":{\"id\":\"301822\"},\"selection_glyph\":{\"id\":\"301838\"},\"view\":{\"id\":\"301825\"}},\"id\":\"301824\",\"type\":\"GlyphRenderer\"},{\"attributes\":{\"source\":{\"id\":\"301818\"}},\"id\":\"301825\",\"type\":\"CDSView\"},{\"attributes\":{\"children\":[{\"id\":\"301777\"},{\"id\":\"301783\"},{\"id\":\"301899\"}],\"margin\":[0,0,0,0],\"name\":\"Row19509\",\"tags\":[\"embedded\"]},\"id\":\"301776\",\"type\":\"Row\"},{\"attributes\":{\"margin\":[5,5,5,5],\"name\":\"HSpacer19513\",\"sizing_mode\":\"stretch_width\"},\"id\":\"301777\",\"type\":\"Spacer\"},{\"attributes\":{},\"id\":\"301790\",\"type\":\"LinearScale\"},{\"attributes\":{},\"id\":\"301817\",\"type\":\"AllLabels\"},{\"attributes\":{\"line_alpha\":0.2,\"line_color\":\"#e5ae38\",\"line_width\":2,\"x\":{\"field\":\"index\"},\"y\":{\"field\":\"value\"}},\"id\":\"301866\",\"type\":\"Line\"},{\"attributes\":{},\"id\":\"301793\",\"type\":\"CategoricalTicker\"},{\"attributes\":{},\"id\":\"301813\",\"type\":\"CategoricalTickFormatter\"},{\"attributes\":{\"data\":{\"Variable\":[\"PC 2\",\"PC 2\",\"PC 2\",\"PC 2\",\"PC 2\",\"PC 2\",\"PC 2\",\"PC 2\",\"PC 2\",\"PC 2\",\"PC 2\",\"PC 2\",\"PC 2\",\"PC 2\",\"PC 2\",\"PC 2\",\"PC 2\",\"PC 2\",\"PC 2\",\"PC 2\",\"PC 2\",\"PC 2\",\"PC 2\",\"PC 2\",\"PC 2\",\"PC 2\",\"PC 2\",\"PC 2\",\"PC 2\",\"PC 2\",\"PC 2\",\"PC 2\",\"PC 2\",\"PC 2\",\"PC 2\",\"PC 2\",\"PC 2\",\"PC 2\",\"PC 2\",\"PC 2\",\"PC 2\",\"PC 2\",\"PC 2\",\"PC 2\",\"PC 2\",\"PC 2\",\"PC 2\",\"PC 2\",\"PC 2\",\"PC 2\",\"PC 2\",\"PC 2\",\"PC 2\",\"PC 2\",\"PC 2\",\"PC 2\",\"PC 2\",\"PC 2\",\"PC 2\",\"PC 2\",\"PC 2\",\"PC 2\",\"PC 2\",\"PC 2\",\"PC 2\",\"PC 2\",\"PC 2\",\"PC 2\",\"PC 2\",\"PC 2\",\"PC 2\",\"PC 2\",\"PC 2\",\"PC 2\",\"PC 2\",\"PC 2\",\"PC 2\",\"PC 2\",\"PC 2\",\"PC 2\",\"PC 2\",\"PC 2\",\"PC 2\",\"PC 2\",\"PC 2\",\"PC 2\",\"PC 2\",\"PC 2\",\"PC 2\",\"PC 2\",\"PC 2\",\"PC 2\",\"PC 2\",\"PC 2\",\"PC 2\",\"PC 2\",\"PC 2\",\"PC 2\",\"PC 2\",\"PC 2\",\"PC 2\",\"PC 2\",\"PC 2\",\"PC 2\",\"PC 2\",\"PC 2\",\"PC 2\",\"PC 2\",\"PC 2\",\"PC 2\",\"PC 2\",\"PC 2\",\"PC 2\",\"PC 2\",\"PC 2\",\"PC 2\",\"PC 2\",\"PC 2\",\"PC 2\",\"PC 2\",\"PC 2\",\"PC 2\",\"PC 2\",\"PC 2\",\"PC 2\",\"PC 2\",\"PC 2\",\"PC 2\",\"PC 2\",\"PC 2\",\"PC 2\",\"PC 2\",\"PC 2\",\"PC 2\",\"PC 2\",\"PC 2\",\"PC 2\",\"PC 2\",\"PC 2\",\"PC 2\",\"PC 2\",\"PC 2\",\"PC 2\",\"PC 2\",\"PC 2\",\"PC 2\",\"PC 2\",\"PC 2\",\"PC 2\",\"PC 2\",\"PC 2\",\"PC 2\",\"PC 2\",\"PC 2\",\"PC 2\",\"PC 2\",\"PC 2\",\"PC 2\",\"PC 2\",\"PC 2\",\"PC 2\",\"PC 2\",\"PC 2\",\"PC 2\",\"PC 2\",\"PC 2\",\"PC 2\",\"PC 2\",\"PC 2\",\"PC 2\",\"PC 2\",\"PC 2\",\"PC 2\",\"PC 2\",\"PC 2\",\"PC 2\",\"PC 2\",\"PC 2\",\"PC 2\",\"PC 2\",\"PC 2\",\"PC 2\",\"PC 2\",\"PC 2\",\"PC 2\",\"PC 2\",\"PC 2\",\"PC 2\",\"PC 2\",\"PC 2\",\"PC 2\",\"PC 2\",\"PC 2\",\"PC 2\",\"PC 2\",\"PC 2\",\"PC 2\",\"PC 2\",\"PC 2\",\"PC 2\",\"PC 2\",\"PC 2\",\"PC 2\",\"PC 2\",\"PC 2\",\"PC 2\",\"PC 2\",\"PC 2\",\"PC 2\",\"PC 2\",\"PC 2\",\"PC 2\",\"PC 2\",\"PC 2\",\"PC 2\",\"PC 2\",\"PC 2\",\"PC 2\",\"PC 2\",\"PC 2\",\"PC 2\",\"PC 2\",\"PC 2\",\"PC 2\",\"PC 2\",\"PC 2\",\"PC 2\",\"PC 2\",\"PC 2\",\"PC 2\",\"PC 2\",\"PC 2\",\"PC 2\",\"PC 2\",\"PC 2\",\"PC 2\",\"PC 2\",\"PC 2\",\"PC 2\",\"PC 2\",\"PC 2\",\"PC 2\",\"PC 2\",\"PC 2\",\"PC 2\",\"PC 2\",\"PC 2\",\"PC 2\",\"PC 2\",\"PC 2\",\"PC 2\",\"PC 2\",\"PC 2\",\"PC 2\",\"PC 2\",\"PC 2\",\"PC 2\",\"PC 2\",\"PC 2\",\"PC 2\",\"PC 2\",\"PC 2\",\"PC 2\",\"PC 2\",\"PC 2\",\"PC 2\",\"PC 2\",\"PC 2\",\"PC 2\",\"PC 2\",\"PC 2\",\"PC 2\",\"PC 2\",\"PC 2\",\"PC 2\",\"PC 2\",\"PC 2\",\"PC 2\",\"PC 2\",\"PC 2\",\"PC 2\",\"PC 2\",\"PC 2\",\"PC 2\",\"PC 2\",\"PC 2\",\"PC 2\",\"PC 2\",\"PC 2\",\"PC 2\",\"PC 2\",\"PC 2\",\"PC 2\",\"PC 2\",\"PC 2\",\"PC 2\",\"PC 2\",\"PC 2\",\"PC 2\",\"PC 2\",\"PC 2\",\"PC 2\",\"PC 2\",\"PC 2\",\"PC 2\",\"PC 2\",\"PC 2\",\"PC 2\",\"PC 2\",\"PC 2\",\"PC 2\",\"PC 2\",\"PC 2\",\"PC 2\",\"PC 2\",\"PC 2\",\"PC 2\",\"PC 2\",\"PC 2\",\"PC 2\",\"PC 2\",\"PC 2\",\"PC 2\",\"PC 2\",\"PC 2\",\"PC 2\",\"PC 2\",\"PC 2\",\"PC 2\",\"PC 2\",\"PC 2\",\"PC 2\",\"PC 2\",\"PC 2\",\"PC 2\",\"PC 2\",\"PC 2\",\"PC 2\",\"PC 2\",\"PC 2\",\"PC 2\",\"PC 2\",\"PC 2\",\"PC 2\",\"PC 2\",\"PC 2\",\"PC 2\",\"PC 2\",\"PC 2\",\"PC 2\",\"PC 2\",\"PC 2\",\"PC 2\",\"PC 2\",\"PC 2\",\"PC 2\",\"PC 2\",\"PC 2\",\"PC 2\",\"PC 2\",\"PC 2\",\"PC 2\",\"PC 2\",\"PC 2\",\"PC 2\",\"PC 2\",\"PC 2\",\"PC 2\",\"PC 2\",\"PC 2\",\"PC 2\",\"PC 2\",\"PC 2\",\"PC 2\",\"PC 2\",\"PC 2\",\"PC 2\",\"PC 2\",\"PC 2\",\"PC 2\",\"PC 2\",\"PC 2\",\"PC 2\",\"PC 2\",\"PC 2\",\"PC 2\",\"PC 2\",\"PC 2\",\"PC 2\",\"PC 2\",\"PC 2\",\"PC 2\",\"PC 2\",\"PC 2\",\"PC 2\",\"PC 2\",\"PC 2\",\"PC 2\",\"PC 2\",\"PC 2\",\"PC 2\",\"PC 2\",\"PC 2\",\"PC 2\",\"PC 2\",\"PC 2\",\"PC 2\",\"PC 2\",\"PC 2\",\"PC 2\",\"PC 2\",\"PC 2\",\"PC 2\",\"PC 2\",\"PC 2\",\"PC 2\",\"PC 2\",\"PC 2\",\"PC 2\",\"PC 2\",\"PC 2\",\"PC 2\",\"PC 2\",\"PC 2\",\"PC 2\",\"PC 2\",\"PC 2\",\"PC 2\",\"PC 2\",\"PC 2\",\"PC 2\",\"PC 2\",\"PC 2\",\"PC 2\",\"PC 2\",\"PC 2\",\"PC 2\",\"PC 2\",\"PC 2\",\"PC 2\",\"PC 2\",\"PC 2\",\"PC 2\",\"PC 2\",\"PC 2\",\"PC 2\",\"PC 2\",\"PC 2\",\"PC 2\",\"PC 2\",\"PC 2\",\"PC 2\",\"PC 2\",\"PC 2\",\"PC 2\",\"PC 2\",\"PC 2\",\"PC 2\",\"PC 2\",\"PC 2\",\"PC 2\",\"PC 2\",\"PC 2\",\"PC 2\",\"PC 2\",\"PC 2\",\"PC 2\",\"PC 2\",\"PC 2\",\"PC 2\",\"PC 2\",\"PC 2\",\"PC 2\",\"PC 2\",\"PC 2\",\"PC 2\",\"PC 2\",\"PC 2\",\"PC 2\",\"PC 2\",\"PC 2\",\"PC 2\",\"PC 2\",\"PC 2\",\"PC 2\",\"PC 2\",\"PC 2\",\"PC 2\",\"PC 2\",\"PC 2\",\"PC 2\",\"PC 2\",\"PC 2\",\"PC 2\",\"PC 2\",\"PC 2\",\"PC 2\",\"PC 2\",\"PC 2\",\"PC 2\",\"PC 2\",\"PC 2\",\"PC 2\",\"PC 2\",\"PC 2\",\"PC 2\",\"PC 2\",\"PC 2\",\"PC 2\",\"PC 2\",\"PC 2\",\"PC 2\",\"PC 2\",\"PC 2\",\"PC 2\",\"PC 2\",\"PC 2\",\"PC 2\",\"PC 2\",\"PC 2\",\"PC 2\",\"PC 2\",\"PC 2\",\"PC 2\",\"PC 2\",\"PC 2\",\"PC 2\",\"PC 2\",\"PC 2\",\"PC 2\",\"PC 2\",\"PC 2\"],\"index\":[\"42\",\"404\",\"1337\",\"BTC\",\"ETH\",\"LTC\",\"DASH\",\"XMR\",\"ETC\",\"ZEC\",\"BTS\",\"DGB\",\"BTCD\",\"XPY\",\"PRC\",\"KOBO\",\"SPR\",\"ARG\",\"AUR\",\"BLU\",\"XMY\",\"MOON\",\"ZET\",\"SXC\",\"QTL\",\"ENRG\",\"QRK\",\"RIC\",\"DGC\",\"BTB\",\"CAT\",\"CBX\",\"CCN\",\"CRYPT\",\"CSC\",\"DMD\",\"XVG\",\"DVC\",\"EAC\",\"EFL\",\"EMC2\",\"EMD\",\"EXCL\",\"FLT\",\"FRK\",\"FTC\",\"GDC\",\"GLC\",\"GLD\",\"HBN\",\"HYP\",\"IFC\",\"IOC\",\"IXC\",\"KGC\",\"LKY\",\"LTB\",\"MAX\",\"MEC\",\"MED\",\"MINT\",\"MINC\",\"MZC\",\"NAUT\",\"NAV\",\"NOBL\",\"NMC\",\"NYAN\",\"OPAL\",\"ORB\",\"POT\",\"PXC\",\"RDD\",\"RPC\",\"SBC\",\"SMC\",\"SUPER\",\"SYNC\",\"SYS\",\"TES\",\"TGC\",\"TIT\",\"TOR\",\"TRC\",\"UNB\",\"UNO\",\"URO\",\"USDE\",\"UTC\",\"VIA\",\"VRC\",\"VTC\",\"WDC\",\"XC\",\"XCR\",\"XJO\",\"XST\",\"ZCC\",\"BCN\",\"XDN\",\"BURST\",\"SJCX\",\"MONA\",\"NTRN\",\"FAIR\",\"NLG\",\"RBY\",\"PTC\",\"KORE\",\"WBB\",\"NOTE\",\"FLO\",\"8BIT\",\"STV\",\"ABY\",\"FLDC\",\"U\",\"UIS\",\"CYP\",\"OMC\",\"VTR\",\"GRE\",\"XCN\",\"MSC\",\"SOON\",\"1CR\",\"ISL\",\"NXS\",\"MARS\",\"CTO\",\"ACP\",\"DRZ\",\"BSC\",\"SQL\",\"SONG\",\"ZNY\",\"DIGS\",\"EXP\",\"CON\",\"SC\",\"EMC\",\"EGC\",\"MND\",\"I0C\",\"DCR\",\"RVR\",\"HODL\",\"EDRC\",\"HTC\",\"GAME\",\"DBIC\",\"DIEM\",\"PWR\",\"BLRY\",\"GPU\",\"ADZ\",\"SOIL\",\"YOC\",\"SIB\",\"ERC\",\"ZEIT\",\"SWING\",\"SAFEX\",\"NEBU\",\"FRN\",\"BOLI\",\"XRA\",\"REV\",\"CKC\",\"VIP\",\"BSD\",\"OMNI\",\"LIR\",\"PUT\",\"IBANK\",\"FRWC\",\"MUDRA\",\"PIZZA\",\"LC\",\"KMD\",\"GB\",\"CTC\",\"KRB\",\"BXT\",\"ZYD\",\"MST\",\"ZNE\",\"COVAL\",\"ROOT\",\"DOPE\",\"BTCR\",\"DLC\",\"SCN\",\"SH\",\"BUZZ\",\"XPO\",\"PSB\",\"HALLO\",\"XZC\",\"CFC\",\"ROYAL\",\"GNJ\",\"TEAM\",\"LANA\",\"ELE\",\"ZCL\",\"ARK\",\"INSANE\",\"KLC\",\"ATX\",\"EMB\",\"XEN\",\"FRE\",\"PLNC\",\"ARCO\",\"KURT\",\"XCRE\",\"ENT\",\"EUC\",\"BCF\",\"XSN\",\"BCCOIN\",\"MONEY\",\"XNG\",\"XCI\",\"RC\",\"PND\",\"UNITS\",\"GAKH\",\"ASAFE2\",\"LTCR\",\"OS76\",\"BIC\",\"HXX\",\"KED\",\"IOP\",\"KUSH\",\"PRX\",\"PAC\",\"IMPCH\",\"CTL\",\"ZBC\",\"FRST\",\"BVC\",\"FIND\",\"VLTC\",\"ZER\",\"CHAT\",\"CDN\",\"ZOI\",\"RNS\",\"DBIX\",\"XVP\",\"TAJ\",\"IMX\",\"EB3\",\"ATMOS\",\"HPC\",\"CXT\",\"MCRN\",\"RAIN\",\"IMS\",\"ARGUS\",\"LMC\",\"PROC\",\"XGR\",\"BENJI\",\"GRW\",\"ILC\",\"PHR\",\"DEA\",\"HTML5\",\"USC\",\"EQT\",\"QTUM\",\"QRL\",\"ESP\",\"DYN\",\"NANO\",\"CHAN\",\"DCY\",\"DNR\",\"DP\",\"VUC\",\"BTPL\",\"UNIFY\",\"BRIT\",\"SOCC\",\"ARC\",\"DAS\",\"LINDA\",\"XLC\",\"ONION\",\"BTX\",\"GCN\",\"SMART\",\"SIGT\",\"ONX\",\"CRM\",\"BCH\",\"XMCC\",\"DFT\",\"VET\",\"SOJ\",\"STCN\",\"NYC\",\"FRAZ\",\"KRONE\",\"ACC\",\"LINX\",\"XCXT\",\"ETHD\",\"SUMO\",\"ODN\",\"ADA\",\"REC\",\"BTCZ\",\"TZC\",\"ELM\",\"TER\",\"VIVO\",\"RUP\",\"BTG\",\"WOMEN\",\"MAY\",\"NAMO\",\"LUX\",\"PIRL\",\"XIOS\",\"BTDX\",\"EBST\",\"KEK\",\"BLHC\",\"XIN\",\"PURA\",\"INN\",\"ELLA\",\"GBX\",\"MAG\",\"TAU\",\"ECA\",\"BCD\",\"XSH\",\"CNBC\",\"XUN\",\"COAL\",\"DAXX\",\"BWK\",\"KLKS\",\"AC3\",\"LTHN\",\"GER\",\"LTCU\",\"POP\",\"PNX\",\"PHO\",\"SUCR\",\"SPK\",\"WAGE\",\"GUN\",\"IRL\",\"TROLL\",\"LCP\",\"MONK\",\"PCOIN\",\"UBTC\",\"ITZ\",\"TPAY\",\"MCT\",\"MBC\",\"TRTL\",\"MUN\",\"USX\",\"NBR\",\"SSS\",\"TRF\",\"KREDS\",\"TOKC\",\"BBP\",\"LCC\",\"FLIP\",\"LOT\",\"CIF\",\"SPD\",\"POA\",\"PUSHI\",\"ELP\",\"VLX\",\"ONT\",\"CLO\",\"TUBE\",\"PSD\",\"ADK\",\"BSX\",\"BRIA\",\"IC\",\"BTL\",\"MEDIC\",\"ALPS\",\"BITG\",\"DEV\",\"ABJ\",\"SEM\",\"FTO\",\"CARE\",\"NZL\",\"XMC\",\"PROTON\",\"DEAL\",\"JUMP\",\"INFX\",\"XBI\",\"KEC\",\"HWC\",\"GIN\",\"PLTC\",\"LOKI\",\"NCP\",\"SIC\",\"XT3\",\"MGD\",\"VIG\",\"PLURA\",\"EMAR\",\"DKD\",\"LYNX\",\"POSQ\",\"BWS\",\"MUSE\",\"XMN\",\"PLUS1\",\"AXE\",\"TRVC\",\"DTEM\",\"GIC\",\"PNY\",\"ABS\",\"VITAE\",\"HEX\",\"TPC\",\"WEBC\",\"RYO\",\"URALS\",\"QWC\",\"ARE\",\"EUNO\",\"MMO\",\"KETAN\",\"PPAI\",\"XDNA\",\"PAXEX\",\"AZART\",\"TSC\",\"KCASH\",\"XCG\",\"AAC\",\"CRYP\",\"BTXC\",\"ACM\",\"BSV\",\"BITM\",\"JMC\",\"FRED\",\"HERB\",\"UMO\",\"LIT\",\"PIRATE\",\"EXO\",\"BLTG\",\"OWC\",\"BEAM\",\"GALI\",\"BTH\",\"CSPN\",\"CREDIT\",\"SLC\",\"DASHP\",\"NSD\",\"BEET\",\"TTN\",\"AWR\",\"BLAST\",\"XRC\",\"GLT\",\"INSN\",\"ALX\",\"LDOGE\",\"SLR\",\"TRK\",\"UFO\",\"OC\",\"BLC\",\"BITS\",\"NEOS\",\"HYPER\",\"PINK\",\"CESC\",\"ADC\",\"NKA\",\"PIGGY\",\"CRW\",\"GEN\",\"SMLY\",\"MI\",\"GRS\",\"CPC\",\"CLUB\",\"RADS\",\"BTA\",\"PAK\",\"CRB\",\"OK\",\"LSK\",\"XHI\",\"XWC\",\"FSC\",\"J\",\"TRI\",\"VOLLAR\",\"EOS\",\"RCC\",\"OXY\",\"TCH\",\"WAVES\",\"PART\",\"BTT\",\"NXT\",\"ZEPH\",\"GAP\",\"BDX\",\"ZEN\",\"XBC\"],\"value\":{\"__ndarray__\":\"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\",\"dtype\":\"float64\",\"order\":\"little\",\"shape\":[532]}},\"selected\":{\"id\":\"301840\"},\"selection_policy\":{\"id\":\"301856\"}},\"id\":\"301839\",\"type\":\"ColumnDataSource\"},{\"attributes\":{\"bottom_units\":\"screen\",\"coordinates\":null,\"fill_alpha\":0.5,\"fill_color\":\"lightgrey\",\"group\":null,\"left_units\":\"screen\",\"level\":\"overlay\",\"line_alpha\":1.0,\"line_color\":\"black\",\"line_dash\":[4,4],\"line_width\":2,\"right_units\":\"screen\",\"syncable\":false,\"top_units\":\"screen\"},\"id\":\"301804\",\"type\":\"BoxAnnotation\"},{\"attributes\":{},\"id\":\"301840\",\"type\":\"Selection\"},{\"attributes\":{\"overlay\":{\"id\":\"301804\"}},\"id\":\"301802\",\"type\":\"BoxZoomTool\"},{\"attributes\":{},\"id\":\"301803\",\"type\":\"ResetTool\"},{\"attributes\":{\"line_color\":\"#fc4f30\",\"line_width\":2,\"x\":{\"field\":\"index\"},\"y\":{\"field\":\"value\"}},\"id\":\"301860\",\"type\":\"Line\"},{\"attributes\":{},\"id\":\"301814\",\"type\":\"AllLabels\"},{\"attributes\":{\"axis_label\":\"\",\"coordinates\":null,\"formatter\":{\"id\":\"301813\"},\"group\":null,\"major_label_policy\":{\"id\":\"301814\"},\"ticker\":{\"id\":\"301793\"}},\"id\":\"301792\",\"type\":\"CategoricalAxis\"},{\"attributes\":{\"below\":[{\"id\":\"301792\"}],\"center\":[{\"id\":\"301794\"},{\"id\":\"301798\"}],\"height\":300,\"left\":[{\"id\":\"301795\"}],\"margin\":[5,5,5,5],\"min_border_bottom\":10,\"min_border_left\":10,\"min_border_right\":10,\"min_border_top\":10,\"renderers\":[{\"id\":\"301824\"},{\"id\":\"301845\"},{\"id\":\"301867\"}],\"right\":[{\"id\":\"301836\"}],\"sizing_mode\":\"fixed\",\"title\":{\"id\":\"301784\"},\"toolbar\":{\"id\":\"301805\"},\"width\":700,\"x_range\":{\"id\":\"301778\"},\"x_scale\":{\"id\":\"301788\"},\"y_range\":{\"id\":\"301779\"},\"y_scale\":{\"id\":\"301790\"}},\"id\":\"301783\",\"subtype\":\"Figure\",\"type\":\"Plot\"},{\"attributes\":{},\"id\":\"301819\",\"type\":\"Selection\"},{\"attributes\":{\"line_color\":\"#30a2da\",\"line_width\":2,\"x\":{\"field\":\"index\"},\"y\":{\"field\":\"value\"}},\"id\":\"301838\",\"type\":\"Line\"},{\"attributes\":{},\"id\":\"301800\",\"type\":\"PanTool\"},{\"attributes\":{},\"id\":\"301796\",\"type\":\"BasicTicker\"},{\"attributes\":{\"label\":{\"value\":\"PC 3\"},\"renderers\":[{\"id\":\"301867\"}]},\"id\":\"301883\",\"type\":\"LegendItem\"},{\"attributes\":{},\"id\":\"301862\",\"type\":\"Selection\"},{\"attributes\":{\"data\":{\"Variable\":[\"PC 1\",\"PC 1\",\"PC 1\",\"PC 1\",\"PC 1\",\"PC 1\",\"PC 1\",\"PC 1\",\"PC 1\",\"PC 1\",\"PC 1\",\"PC 1\",\"PC 1\",\"PC 1\",\"PC 1\",\"PC 1\",\"PC 1\",\"PC 1\",\"PC 1\",\"PC 1\",\"PC 1\",\"PC 1\",\"PC 1\",\"PC 1\",\"PC 1\",\"PC 1\",\"PC 1\",\"PC 1\",\"PC 1\",\"PC 1\",\"PC 1\",\"PC 1\",\"PC 1\",\"PC 1\",\"PC 1\",\"PC 1\",\"PC 1\",\"PC 1\",\"PC 1\",\"PC 1\",\"PC 1\",\"PC 1\",\"PC 1\",\"PC 1\",\"PC 1\",\"PC 1\",\"PC 1\",\"PC 1\",\"PC 1\",\"PC 1\",\"PC 1\",\"PC 1\",\"PC 1\",\"PC 1\",\"PC 1\",\"PC 1\",\"PC 1\",\"PC 1\",\"PC 1\",\"PC 1\",\"PC 1\",\"PC 1\",\"PC 1\",\"PC 1\",\"PC 1\",\"PC 1\",\"PC 1\",\"PC 1\",\"PC 1\",\"PC 1\",\"PC 1\",\"PC 1\",\"PC 1\",\"PC 1\",\"PC 1\",\"PC 1\",\"PC 1\",\"PC 1\",\"PC 1\",\"PC 1\",\"PC 1\",\"PC 1\",\"PC 1\",\"PC 1\",\"PC 1\",\"PC 1\",\"PC 1\",\"PC 1\",\"PC 1\",\"PC 1\",\"PC 1\",\"PC 1\",\"PC 1\",\"PC 1\",\"PC 1\",\"PC 1\",\"PC 1\",\"PC 1\",\"PC 1\",\"PC 1\",\"PC 1\",\"PC 1\",\"PC 1\",\"PC 1\",\"PC 1\",\"PC 1\",\"PC 1\",\"PC 1\",\"PC 1\",\"PC 1\",\"PC 1\",\"PC 1\",\"PC 1\",\"PC 1\",\"PC 1\",\"PC 1\",\"PC 1\",\"PC 1\",\"PC 1\",\"PC 1\",\"PC 1\",\"PC 1\",\"PC 1\",\"PC 1\",\"PC 1\",\"PC 1\",\"PC 1\",\"PC 1\",\"PC 1\",\"PC 1\",\"PC 1\",\"PC 1\",\"PC 1\",\"PC 1\",\"PC 1\",\"PC 1\",\"PC 1\",\"PC 1\",\"PC 1\",\"PC 1\",\"PC 1\",\"PC 1\",\"PC 1\",\"PC 1\",\"PC 1\",\"PC 1\",\"PC 1\",\"PC 1\",\"PC 1\",\"PC 1\",\"PC 1\",\"PC 1\",\"PC 1\",\"PC 1\",\"PC 1\",\"PC 1\",\"PC 1\",\"PC 1\",\"PC 1\",\"PC 1\",\"PC 1\",\"PC 1\",\"PC 1\",\"PC 1\",\"PC 1\",\"PC 1\",\"PC 1\",\"PC 1\",\"PC 1\",\"PC 1\",\"PC 1\",\"PC 1\",\"PC 1\",\"PC 1\",\"PC 1\",\"PC 1\",\"PC 1\",\"PC 1\",\"PC 1\",\"PC 1\",\"PC 1\",\"PC 1\",\"PC 1\",\"PC 1\",\"PC 1\",\"PC 1\",\"PC 1\",\"PC 1\",\"PC 1\",\"PC 1\",\"PC 1\",\"PC 1\",\"PC 1\",\"PC 1\",\"PC 1\",\"PC 1\",\"PC 1\",\"PC 1\",\"PC 1\",\"PC 1\",\"PC 1\",\"PC 1\",\"PC 1\",\"PC 1\",\"PC 1\",\"PC 1\",\"PC 1\",\"PC 1\",\"PC 1\",\"PC 1\",\"PC 1\",\"PC 1\",\"PC 1\",\"PC 1\",\"PC 1\",\"PC 1\",\"PC 1\",\"PC 1\",\"PC 1\",\"PC 1\",\"PC 1\",\"PC 1\",\"PC 1\",\"PC 1\",\"PC 1\",\"PC 1\",\"PC 1\",\"PC 1\",\"PC 1\",\"PC 1\",\"PC 1\",\"PC 1\",\"PC 1\",\"PC 1\",\"PC 1\",\"PC 1\",\"PC 1\",\"PC 1\",\"PC 1\",\"PC 1\",\"PC 1\",\"PC 1\",\"PC 1\",\"PC 1\",\"PC 1\",\"PC 1\",\"PC 1\",\"PC 1\",\"PC 1\",\"PC 1\",\"PC 1\",\"PC 1\",\"PC 1\",\"PC 1\",\"PC 1\",\"PC 1\",\"PC 1\",\"PC 1\",\"PC 1\",\"PC 1\",\"PC 1\",\"PC 1\",\"PC 1\",\"PC 1\",\"PC 1\",\"PC 1\",\"PC 1\",\"PC 1\",\"PC 1\",\"PC 1\",\"PC 1\",\"PC 1\",\"PC 1\",\"PC 1\",\"PC 1\",\"PC 1\",\"PC 1\",\"PC 1\",\"PC 1\",\"PC 1\",\"PC 1\",\"PC 1\",\"PC 1\",\"PC 1\",\"PC 1\",\"PC 1\",\"PC 1\",\"PC 1\",\"PC 1\",\"PC 1\",\"PC 1\",\"PC 1\",\"PC 1\",\"PC 1\",\"PC 1\",\"PC 1\",\"PC 1\",\"PC 1\",\"PC 1\",\"PC 1\",\"PC 1\",\"PC 1\",\"PC 1\",\"PC 1\",\"PC 1\",\"PC 1\",\"PC 1\",\"PC 1\",\"PC 1\",\"PC 1\",\"PC 1\",\"PC 1\",\"PC 1\",\"PC 1\",\"PC 1\",\"PC 1\",\"PC 1\",\"PC 1\",\"PC 1\",\"PC 1\",\"PC 1\",\"PC 1\",\"PC 1\",\"PC 1\",\"PC 1\",\"PC 1\",\"PC 1\",\"PC 1\",\"PC 1\",\"PC 1\",\"PC 1\",\"PC 1\",\"PC 1\",\"PC 1\",\"PC 1\",\"PC 1\",\"PC 1\",\"PC 1\",\"PC 1\",\"PC 1\",\"PC 1\",\"PC 1\",\"PC 1\",\"PC 1\",\"PC 1\",\"PC 1\",\"PC 1\",\"PC 1\",\"PC 1\",\"PC 1\",\"PC 1\",\"PC 1\",\"PC 1\",\"PC 1\",\"PC 1\",\"PC 1\",\"PC 1\",\"PC 1\",\"PC 1\",\"PC 1\",\"PC 1\",\"PC 1\",\"PC 1\",\"PC 1\",\"PC 1\",\"PC 1\",\"PC 1\",\"PC 1\",\"PC 1\",\"PC 1\",\"PC 1\",\"PC 1\",\"PC 1\",\"PC 1\",\"PC 1\",\"PC 1\",\"PC 1\",\"PC 1\",\"PC 1\",\"PC 1\",\"PC 1\",\"PC 1\",\"PC 1\",\"PC 1\",\"PC 1\",\"PC 1\",\"PC 1\",\"PC 1\",\"PC 1\",\"PC 1\",\"PC 1\",\"PC 1\",\"PC 1\",\"PC 1\",\"PC 1\",\"PC 1\",\"PC 1\",\"PC 1\",\"PC 1\",\"PC 1\",\"PC 1\",\"PC 1\",\"PC 1\",\"PC 1\",\"PC 1\",\"PC 1\",\"PC 1\",\"PC 1\",\"PC 1\",\"PC 1\",\"PC 1\",\"PC 1\",\"PC 1\",\"PC 1\",\"PC 1\",\"PC 1\",\"PC 1\",\"PC 1\",\"PC 1\",\"PC 1\",\"PC 1\",\"PC 1\",\"PC 1\",\"PC 1\",\"PC 1\",\"PC 1\",\"PC 1\",\"PC 1\",\"PC 1\",\"PC 1\",\"PC 1\",\"PC 1\",\"PC 1\",\"PC 1\",\"PC 1\",\"PC 1\",\"PC 1\",\"PC 1\",\"PC 1\",\"PC 1\",\"PC 1\",\"PC 1\",\"PC 1\",\"PC 1\",\"PC 1\",\"PC 1\",\"PC 1\",\"PC 1\",\"PC 1\",\"PC 1\",\"PC 1\",\"PC 1\",\"PC 1\",\"PC 1\",\"PC 1\",\"PC 1\",\"PC 1\",\"PC 1\",\"PC 1\",\"PC 1\",\"PC 1\",\"PC 1\",\"PC 1\",\"PC 1\",\"PC 1\",\"PC 1\",\"PC 1\",\"PC 1\",\"PC 1\",\"PC 1\",\"PC 1\",\"PC 1\",\"PC 1\",\"PC 1\",\"PC 1\",\"PC 1\",\"PC 1\",\"PC 1\",\"PC 1\",\"PC 1\",\"PC 1\",\"PC 1\",\"PC 1\",\"PC 1\",\"PC 1\",\"PC 1\",\"PC 1\",\"PC 1\",\"PC 1\",\"PC 1\",\"PC 1\",\"PC 1\",\"PC 1\",\"PC 1\",\"PC 1\",\"PC 1\",\"PC 1\",\"PC 1\",\"PC 1\",\"PC 1\",\"PC 1\",\"PC 1\",\"PC 1\",\"PC 1\",\"PC 1\",\"PC 1\",\"PC 1\",\"PC 1\",\"PC 1\",\"PC 1\",\"PC 1\",\"PC 1\",\"PC 1\",\"PC 1\",\"PC 1\",\"PC 1\",\"PC 1\",\"PC 1\",\"PC 1\",\"PC 1\",\"PC 1\",\"PC 1\",\"PC 1\",\"PC 1\",\"PC 1\",\"PC 1\",\"PC 1\",\"PC 1\",\"PC 1\",\"PC 1\",\"PC 1\",\"PC 1\"],\"index\":[\"42\",\"404\",\"1337\",\"BTC\",\"ETH\",\"LTC\",\"DASH\",\"XMR\",\"ETC\",\"ZEC\",\"BTS\",\"DGB\",\"BTCD\",\"XPY\",\"PRC\",\"KOBO\",\"SPR\",\"ARG\",\"AUR\",\"BLU\",\"XMY\",\"MOON\",\"ZET\",\"SXC\",\"QTL\",\"ENRG\",\"QRK\",\"RIC\",\"DGC\",\"BTB\",\"CAT\",\"CBX\",\"CCN\",\"CRYPT\",\"CSC\",\"DMD\",\"XVG\",\"DVC\",\"EAC\",\"EFL\",\"EMC2\",\"EMD\",\"EXCL\",\"FLT\",\"FRK\",\"FTC\",\"GDC\",\"GLC\",\"GLD\",\"HBN\",\"HYP\",\"IFC\",\"IOC\",\"IXC\",\"KGC\",\"LKY\",\"LTB\",\"MAX\",\"MEC\",\"MED\",\"MINT\",\"MINC\",\"MZC\",\"NAUT\",\"NAV\",\"NOBL\",\"NMC\",\"NYAN\",\"OPAL\",\"ORB\",\"POT\",\"PXC\",\"RDD\",\"RPC\",\"SBC\",\"SMC\",\"SUPER\",\"SYNC\",\"SYS\",\"TES\",\"TGC\",\"TIT\",\"TOR\",\"TRC\",\"UNB\",\"UNO\",\"URO\",\"USDE\",\"UTC\",\"VIA\",\"VRC\",\"VTC\",\"WDC\",\"XC\",\"XCR\",\"XJO\",\"XST\",\"ZCC\",\"BCN\",\"XDN\",\"BURST\",\"SJCX\",\"MONA\",\"NTRN\",\"FAIR\",\"NLG\",\"RBY\",\"PTC\",\"KORE\",\"WBB\",\"NOTE\",\"FLO\",\"8BIT\",\"STV\",\"ABY\",\"FLDC\",\"U\",\"UIS\",\"CYP\",\"OMC\",\"VTR\",\"GRE\",\"XCN\",\"MSC\",\"SOON\",\"1CR\",\"ISL\",\"NXS\",\"MARS\",\"CTO\",\"ACP\",\"DRZ\",\"BSC\",\"SQL\",\"SONG\",\"ZNY\",\"DIGS\",\"EXP\",\"CON\",\"SC\",\"EMC\",\"EGC\",\"MND\",\"I0C\",\"DCR\",\"RVR\",\"HODL\",\"EDRC\",\"HTC\",\"GAME\",\"DBIC\",\"DIEM\",\"PWR\",\"BLRY\",\"GPU\",\"ADZ\",\"SOIL\",\"YOC\",\"SIB\",\"ERC\",\"ZEIT\",\"SWING\",\"SAFEX\",\"NEBU\",\"FRN\",\"BOLI\",\"XRA\",\"REV\",\"CKC\",\"VIP\",\"BSD\",\"OMNI\",\"LIR\",\"PUT\",\"IBANK\",\"FRWC\",\"MUDRA\",\"PIZZA\",\"LC\",\"KMD\",\"GB\",\"CTC\",\"KRB\",\"BXT\",\"ZYD\",\"MST\",\"ZNE\",\"COVAL\",\"ROOT\",\"DOPE\",\"BTCR\",\"DLC\",\"SCN\",\"SH\",\"BUZZ\",\"XPO\",\"PSB\",\"HALLO\",\"XZC\",\"CFC\",\"ROYAL\",\"GNJ\",\"TEAM\",\"LANA\",\"ELE\",\"ZCL\",\"ARK\",\"INSANE\",\"KLC\",\"ATX\",\"EMB\",\"XEN\",\"FRE\",\"PLNC\",\"ARCO\",\"KURT\",\"XCRE\",\"ENT\",\"EUC\",\"BCF\",\"XSN\",\"BCCOIN\",\"MONEY\",\"XNG\",\"XCI\",\"RC\",\"PND\",\"UNITS\",\"GAKH\",\"ASAFE2\",\"LTCR\",\"OS76\",\"BIC\",\"HXX\",\"KED\",\"IOP\",\"KUSH\",\"PRX\",\"PAC\",\"IMPCH\",\"CTL\",\"ZBC\",\"FRST\",\"BVC\",\"FIND\",\"VLTC\",\"ZER\",\"CHAT\",\"CDN\",\"ZOI\",\"RNS\",\"DBIX\",\"XVP\",\"TAJ\",\"IMX\",\"EB3\",\"ATMOS\",\"HPC\",\"CXT\",\"MCRN\",\"RAIN\",\"IMS\",\"ARGUS\",\"LMC\",\"PROC\",\"XGR\",\"BENJI\",\"GRW\",\"ILC\",\"PHR\",\"DEA\",\"HTML5\",\"USC\",\"EQT\",\"QTUM\",\"QRL\",\"ESP\",\"DYN\",\"NANO\",\"CHAN\",\"DCY\",\"DNR\",\"DP\",\"VUC\",\"BTPL\",\"UNIFY\",\"BRIT\",\"SOCC\",\"ARC\",\"DAS\",\"LINDA\",\"XLC\",\"ONION\",\"BTX\",\"GCN\",\"SMART\",\"SIGT\",\"ONX\",\"CRM\",\"BCH\",\"XMCC\",\"DFT\",\"VET\",\"SOJ\",\"STCN\",\"NYC\",\"FRAZ\",\"KRONE\",\"ACC\",\"LINX\",\"XCXT\",\"ETHD\",\"SUMO\",\"ODN\",\"ADA\",\"REC\",\"BTCZ\",\"TZC\",\"ELM\",\"TER\",\"VIVO\",\"RUP\",\"BTG\",\"WOMEN\",\"MAY\",\"NAMO\",\"LUX\",\"PIRL\",\"XIOS\",\"BTDX\",\"EBST\",\"KEK\",\"BLHC\",\"XIN\",\"PURA\",\"INN\",\"ELLA\",\"GBX\",\"MAG\",\"TAU\",\"ECA\",\"BCD\",\"XSH\",\"CNBC\",\"XUN\",\"COAL\",\"DAXX\",\"BWK\",\"KLKS\",\"AC3\",\"LTHN\",\"GER\",\"LTCU\",\"POP\",\"PNX\",\"PHO\",\"SUCR\",\"SPK\",\"WAGE\",\"GUN\",\"IRL\",\"TROLL\",\"LCP\",\"MONK\",\"PCOIN\",\"UBTC\",\"ITZ\",\"TPAY\",\"MCT\",\"MBC\",\"TRTL\",\"MUN\",\"USX\",\"NBR\",\"SSS\",\"TRF\",\"KREDS\",\"TOKC\",\"BBP\",\"LCC\",\"FLIP\",\"LOT\",\"CIF\",\"SPD\",\"POA\",\"PUSHI\",\"ELP\",\"VLX\",\"ONT\",\"CLO\",\"TUBE\",\"PSD\",\"ADK\",\"BSX\",\"BRIA\",\"IC\",\"BTL\",\"MEDIC\",\"ALPS\",\"BITG\",\"DEV\",\"ABJ\",\"SEM\",\"FTO\",\"CARE\",\"NZL\",\"XMC\",\"PROTON\",\"DEAL\",\"JUMP\",\"INFX\",\"XBI\",\"KEC\",\"HWC\",\"GIN\",\"PLTC\",\"LOKI\",\"NCP\",\"SIC\",\"XT3\",\"MGD\",\"VIG\",\"PLURA\",\"EMAR\",\"DKD\",\"LYNX\",\"POSQ\",\"BWS\",\"MUSE\",\"XMN\",\"PLUS1\",\"AXE\",\"TRVC\",\"DTEM\",\"GIC\",\"PNY\",\"ABS\",\"VITAE\",\"HEX\",\"TPC\",\"WEBC\",\"RYO\",\"URALS\",\"QWC\",\"ARE\",\"EUNO\",\"MMO\",\"KETAN\",\"PPAI\",\"XDNA\",\"PAXEX\",\"AZART\",\"TSC\",\"KCASH\",\"XCG\",\"AAC\",\"CRYP\",\"BTXC\",\"ACM\",\"BSV\",\"BITM\",\"JMC\",\"FRED\",\"HERB\",\"UMO\",\"LIT\",\"PIRATE\",\"EXO\",\"BLTG\",\"OWC\",\"BEAM\",\"GALI\",\"BTH\",\"CSPN\",\"CREDIT\",\"SLC\",\"DASHP\",\"NSD\",\"BEET\",\"TTN\",\"AWR\",\"BLAST\",\"XRC\",\"GLT\",\"INSN\",\"ALX\",\"LDOGE\",\"SLR\",\"TRK\",\"UFO\",\"OC\",\"BLC\",\"BITS\",\"NEOS\",\"HYPER\",\"PINK\",\"CESC\",\"ADC\",\"NKA\",\"PIGGY\",\"CRW\",\"GEN\",\"SMLY\",\"MI\",\"GRS\",\"CPC\",\"CLUB\",\"RADS\",\"BTA\",\"PAK\",\"CRB\",\"OK\",\"LSK\",\"XHI\",\"XWC\",\"FSC\",\"J\",\"TRI\",\"VOLLAR\",\"EOS\",\"RCC\",\"OXY\",\"TCH\",\"WAVES\",\"PART\",\"BTT\",\"NXT\",\"ZEPH\",\"GAP\",\"BDX\",\"ZEN\",\"XBC\"],\"value\":{\"__ndarray__\":\"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\",\"dtype\":\"float64\",\"order\":\"little\",\"shape\":[532]}},\"selected\":{\"id\":\"301819\"},\"selection_policy\":{\"id\":\"301833\"}},\"id\":\"301818\",\"type\":\"ColumnDataSource\"},{\"attributes\":{\"margin\":[5,5,5,5],\"name\":\"HSpacer19514\",\"sizing_mode\":\"stretch_width\"},\"id\":\"301899\",\"type\":\"Spacer\"},{\"attributes\":{\"line_color\":\"#fc4f30\",\"line_width\":2,\"x\":{\"field\":\"index\"},\"y\":{\"field\":\"value\"}},\"id\":\"301842\",\"type\":\"Line\"},{\"attributes\":{\"axis\":{\"id\":\"301795\"},\"coordinates\":null,\"dimension\":1,\"grid_line_color\":null,\"group\":null,\"ticker\":null},\"id\":\"301798\",\"type\":\"Grid\"},{\"attributes\":{\"axis_label\":\"\",\"coordinates\":null,\"formatter\":{\"id\":\"301816\"},\"group\":null,\"major_label_policy\":{\"id\":\"301817\"},\"ticker\":{\"id\":\"301796\"}},\"id\":\"301795\",\"type\":\"LinearAxis\"},{\"attributes\":{\"callback\":null,\"renderers\":[{\"id\":\"301824\"},{\"id\":\"301845\"},{\"id\":\"301867\"}],\"tags\":[\"hv_created\"],\"tooltips\":[[\"Variable\",\"@{Variable}\"],[\"index\",\"@{index}\"],[\"value\",\"@{value}\"]]},\"id\":\"301780\",\"type\":\"HoverTool\"},{\"attributes\":{\"axis\":{\"id\":\"301792\"},\"coordinates\":null,\"grid_line_color\":null,\"group\":null,\"ticker\":null},\"id\":\"301794\",\"type\":\"Grid\"},{\"attributes\":{\"coordinates\":null,\"group\":null,\"text_color\":\"black\",\"text_font_size\":\"12pt\"},\"id\":\"301784\",\"type\":\"Title\"},{\"attributes\":{\"end\":37.77010253830531,\"reset_end\":37.77010253830531,\"reset_start\":-6.428129308499736,\"start\":-6.428129308499736,\"tags\":[[[\"value\",\"value\",null]]]},\"id\":\"301779\",\"type\":\"Range1d\"},{\"attributes\":{\"line_alpha\":0.2,\"line_color\":\"#fc4f30\",\"line_width\":2,\"x\":{\"field\":\"index\"},\"y\":{\"field\":\"value\"}},\"id\":\"301844\",\"type\":\"Line\"},{\"attributes\":{},\"id\":\"301816\",\"type\":\"BasicTickFormatter\"},{\"attributes\":{},\"id\":\"301801\",\"type\":\"WheelZoomTool\"},{\"attributes\":{\"source\":{\"id\":\"301861\"}},\"id\":\"301868\",\"type\":\"CDSView\"},{\"attributes\":{\"factors\":[\"42\",\"404\",\"1337\",\"BTC\",\"ETH\",\"LTC\",\"DASH\",\"XMR\",\"ETC\",\"ZEC\",\"BTS\",\"DGB\",\"BTCD\",\"XPY\",\"PRC\",\"KOBO\",\"SPR\",\"ARG\",\"AUR\",\"BLU\",\"XMY\",\"MOON\",\"ZET\",\"SXC\",\"QTL\",\"ENRG\",\"QRK\",\"RIC\",\"DGC\",\"BTB\",\"CAT\",\"CBX\",\"CCN\",\"CRYPT\",\"CSC\",\"DMD\",\"XVG\",\"DVC\",\"EAC\",\"EFL\",\"EMC2\",\"EMD\",\"EXCL\",\"FLT\",\"FRK\",\"FTC\",\"GDC\",\"GLC\",\"GLD\",\"HBN\",\"HYP\",\"IFC\",\"IOC\",\"IXC\",\"KGC\",\"LKY\",\"LTB\",\"MAX\",\"MEC\",\"MED\",\"MINT\",\"MINC\",\"MZC\",\"NAUT\",\"NAV\",\"NOBL\",\"NMC\",\"NYAN\",\"OPAL\",\"ORB\",\"POT\",\"PXC\",\"RDD\",\"RPC\",\"SBC\",\"SMC\",\"SUPER\",\"SYNC\",\"SYS\",\"TES\",\"TGC\",\"TIT\",\"TOR\",\"TRC\",\"UNB\",\"UNO\",\"URO\",\"USDE\",\"UTC\",\"VIA\",\"VRC\",\"VTC\",\"WDC\",\"XC\",\"XCR\",\"XJO\",\"XST\",\"ZCC\",\"BCN\",\"XDN\",\"BURST\",\"SJCX\",\"MONA\",\"NTRN\",\"FAIR\",\"NLG\",\"RBY\",\"PTC\",\"KORE\",\"WBB\",\"NOTE\",\"FLO\",\"8BIT\",\"STV\",\"ABY\",\"FLDC\",\"U\",\"UIS\",\"CYP\",\"OMC\",\"VTR\",\"GRE\",\"XCN\",\"MSC\",\"SOON\",\"1CR\",\"ISL\",\"NXS\",\"MARS\",\"CTO\",\"ACP\",\"DRZ\",\"BSC\",\"SQL\",\"SONG\",\"ZNY\",\"DIGS\",\"EXP\",\"CON\",\"SC\",\"EMC\",\"EGC\",\"MND\",\"I0C\",\"DCR\",\"RVR\",\"HODL\",\"EDRC\",\"HTC\",\"GAME\",\"DBIC\",\"DIEM\",\"PWR\",\"BLRY\",\"GPU\",\"ADZ\",\"SOIL\",\"YOC\",\"SIB\",\"ERC\",\"ZEIT\",\"SWING\",\"SAFEX\",\"NEBU\",\"FRN\",\"BOLI\",\"XRA\",\"REV\",\"CKC\",\"VIP\",\"BSD\",\"OMNI\",\"LIR\",\"PUT\",\"IBANK\",\"FRWC\",\"MUDRA\",\"PIZZA\",\"LC\",\"KMD\",\"GB\",\"CTC\",\"KRB\",\"BXT\",\"ZYD\",\"MST\",\"ZNE\",\"COVAL\",\"ROOT\",\"DOPE\",\"BTCR\",\"DLC\",\"SCN\",\"SH\",\"BUZZ\",\"XPO\",\"PSB\",\"HALLO\",\"XZC\",\"CFC\",\"ROYAL\",\"GNJ\",\"TEAM\",\"LANA\",\"ELE\",\"ZCL\",\"ARK\",\"INSANE\",\"KLC\",\"ATX\",\"EMB\",\"XEN\",\"FRE\",\"PLNC\",\"ARCO\",\"KURT\",\"XCRE\",\"ENT\",\"EUC\",\"BCF\",\"XSN\",\"BCCOIN\",\"MONEY\",\"XNG\",\"XCI\",\"RC\",\"PND\",\"UNITS\",\"GAKH\",\"ASAFE2\",\"LTCR\",\"OS76\",\"BIC\",\"HXX\",\"KED\",\"IOP\",\"KUSH\",\"PRX\",\"PAC\",\"IMPCH\",\"CTL\",\"ZBC\",\"FRST\",\"BVC\",\"FIND\",\"VLTC\",\"ZER\",\"CHAT\",\"CDN\",\"ZOI\",\"RNS\",\"DBIX\",\"XVP\",\"TAJ\",\"IMX\",\"EB3\",\"ATMOS\",\"HPC\",\"CXT\",\"MCRN\",\"RAIN\",\"IMS\",\"ARGUS\",\"LMC\",\"PROC\",\"XGR\",\"BENJI\",\"GRW\",\"ILC\",\"PHR\",\"DEA\",\"HTML5\",\"USC\",\"EQT\",\"QTUM\",\"QRL\",\"ESP\",\"DYN\",\"NANO\",\"CHAN\",\"DCY\",\"DNR\",\"DP\",\"VUC\",\"BTPL\",\"UNIFY\",\"BRIT\",\"SOCC\",\"ARC\",\"DAS\",\"LINDA\",\"XLC\",\"ONION\",\"BTX\",\"GCN\",\"SMART\",\"SIGT\",\"ONX\",\"CRM\",\"BCH\",\"XMCC\",\"DFT\",\"VET\",\"SOJ\",\"STCN\",\"NYC\",\"FRAZ\",\"KRONE\",\"ACC\",\"LINX\",\"XCXT\",\"ETHD\",\"SUMO\",\"ODN\",\"ADA\",\"REC\",\"BTCZ\",\"TZC\",\"ELM\",\"TER\",\"VIVO\",\"RUP\",\"BTG\",\"WOMEN\",\"MAY\",\"NAMO\",\"LUX\",\"PIRL\",\"XIOS\",\"BTDX\",\"EBST\",\"KEK\",\"BLHC\",\"XIN\",\"PURA\",\"INN\",\"ELLA\",\"GBX\",\"MAG\",\"TAU\",\"ECA\",\"BCD\",\"XSH\",\"CNBC\",\"XUN\",\"COAL\",\"DAXX\",\"BWK\",\"KLKS\",\"AC3\",\"LTHN\",\"GER\",\"LTCU\",\"POP\",\"PNX\",\"PHO\",\"SUCR\",\"SPK\",\"WAGE\",\"GUN\",\"IRL\",\"TROLL\",\"LCP\",\"MONK\",\"PCOIN\",\"UBTC\",\"ITZ\",\"TPAY\",\"MCT\",\"MBC\",\"TRTL\",\"MUN\",\"USX\",\"NBR\",\"SSS\",\"TRF\",\"KREDS\",\"TOKC\",\"BBP\",\"LCC\",\"FLIP\",\"LOT\",\"CIF\",\"SPD\",\"POA\",\"PUSHI\",\"ELP\",\"VLX\",\"ONT\",\"CLO\",\"TUBE\",\"PSD\",\"ADK\",\"BSX\",\"BRIA\",\"IC\",\"BTL\",\"MEDIC\",\"ALPS\",\"BITG\",\"DEV\",\"ABJ\",\"SEM\",\"FTO\",\"CARE\",\"NZL\",\"XMC\",\"PROTON\",\"DEAL\",\"JUMP\",\"INFX\",\"XBI\",\"KEC\",\"HWC\",\"GIN\",\"PLTC\",\"LOKI\",\"NCP\",\"SIC\",\"XT3\",\"MGD\",\"VIG\",\"PLURA\",\"EMAR\",\"DKD\",\"LYNX\",\"POSQ\",\"BWS\",\"MUSE\",\"XMN\",\"PLUS1\",\"AXE\",\"TRVC\",\"DTEM\",\"GIC\",\"PNY\",\"ABS\",\"VITAE\",\"HEX\",\"TPC\",\"WEBC\",\"RYO\",\"URALS\",\"QWC\",\"ARE\",\"EUNO\",\"MMO\",\"KETAN\",\"PPAI\",\"XDNA\",\"PAXEX\",\"AZART\",\"TSC\",\"KCASH\",\"XCG\",\"AAC\",\"CRYP\",\"BTXC\",\"ACM\",\"BSV\",\"BITM\",\"JMC\",\"FRED\",\"HERB\",\"UMO\",\"LIT\",\"PIRATE\",\"EXO\",\"BLTG\",\"OWC\",\"BEAM\",\"GALI\",\"BTH\",\"CSPN\",\"CREDIT\",\"SLC\",\"DASHP\",\"NSD\",\"BEET\",\"TTN\",\"AWR\",\"BLAST\",\"XRC\",\"GLT\",\"INSN\",\"ALX\",\"LDOGE\",\"SLR\",\"TRK\",\"UFO\",\"OC\",\"BLC\",\"BITS\",\"NEOS\",\"HYPER\",\"PINK\",\"CESC\",\"ADC\",\"NKA\",\"PIGGY\",\"CRW\",\"GEN\",\"SMLY\",\"MI\",\"GRS\",\"CPC\",\"CLUB\",\"RADS\",\"BTA\",\"PAK\",\"CRB\",\"OK\",\"LSK\",\"XHI\",\"XWC\",\"FSC\",\"J\",\"TRI\",\"VOLLAR\",\"EOS\",\"RCC\",\"OXY\",\"TCH\",\"WAVES\",\"PART\",\"BTT\",\"NXT\",\"ZEPH\",\"GAP\",\"BDX\",\"ZEN\",\"XBC\"],\"tags\":[[[\"index\",\"index\",null]]]},\"id\":\"301778\",\"type\":\"FactorRange\"},{\"attributes\":{},\"id\":\"301788\",\"type\":\"CategoricalScale\"},{\"attributes\":{\"tools\":[{\"id\":\"301780\"},{\"id\":\"301799\"},{\"id\":\"301800\"},{\"id\":\"301801\"},{\"id\":\"301802\"},{\"id\":\"301803\"}]},\"id\":\"301805\",\"type\":\"Toolbar\"}],\"root_ids\":[\"301776\"]},\"title\":\"Bokeh Application\",\"version\":\"2.4.3\"}};\n",
       "    var render_items = [{\"docid\":\"75ebeafb-edea-4434-8373-10a95da7b122\",\"root_ids\":[\"301776\"],\"roots\":{\"301776\":\"b0d8ce64-ceb9-4ff0-b7f4-ea9b74f70ff8\"}}];\n",
       "    root.Bokeh.embed.embed_items_notebook(docs_json, render_items);\n",
       "    for (const render_item of render_items) {\n",
       "      for (const root_id of render_item.root_ids) {\n",
       "\tconst id_el = document.getElementById(root_id)\n",
       "\tif (id_el.children.length && (id_el.children[0].className === 'bk-root')) {\n",
       "\t  const root_el = id_el.children[0]\n",
       "\t  root_el.id = root_el.id + '-rendered'\n",
       "\t}\n",
       "      }\n",
       "    }\n",
       "  }\n",
       "  if (root.Bokeh !== undefined && root.Bokeh.Panel !== undefined) {\n",
       "    embed_document(root);\n",
       "  } else {\n",
       "    var attempts = 0;\n",
       "    var timer = setInterval(function(root) {\n",
       "      if (root.Bokeh !== undefined && root.Bokeh.Panel !== undefined) {\n",
       "        clearInterval(timer);\n",
       "        embed_document(root);\n",
       "      } else if (document.readyState == \"complete\") {\n",
       "        attempts++;\n",
       "        if (attempts > 200) {\n",
       "          clearInterval(timer);\n",
       "          console.log(\"Bokeh: ERROR: Unable to run BokehJS code because BokehJS library is missing\");\n",
       "        }\n",
       "      }\n",
       "    }, 25, root)\n",
       "  }\n",
       "})(window);</script>"
      ],
      "text/plain": [
       ":NdOverlay   [Variable]\n",
       "   :Curve   [index]   (value)"
      ]
     },
     "execution_count": 174,
     "metadata": {
      "application/vnd.holoviews_exec.v0+json": {
       "id": "301776"
      }
     },
     "output_type": "execute_result"
    }
   ],
   "source": [
    "# Create an elbow curve to find the best value for K.\n",
    "inertia = []\n",
    "k = list(range(1,11))\n",
    "\n",
    "# Calculate the inertia for the range of k values\n",
    "for i in k:\n",
    "    km = KMeans(n_clusters=i, random_state=0)\n",
    "    km.fit(pcs_df)\n",
    "    inertia.append(km.inertia_)\n",
    "\n",
    "# Creating the Elbow Curve\n",
    "elbow_data = {\"k\": k, \"inertia\": inertia}\n",
    "df_elbow = pd.DataFrame(elbow_data)\n",
    "\n",
    "plt.plot(df_elbow['k'], df_elbow['inertia'])\n",
    "plt.xticks(list(range(11)))\n",
    "plt.title('Elbow Curve')\n",
    "plt.xlabel('Number of clusters')\n",
    "plt.ylabel('Inertia')\n",
    "plt.show()\n",
    "pcs_df.hvplot()"
   ]
  },
  {
   "cell_type": "markdown",
   "metadata": {},
   "source": [
    "Running K-Means with `k=4`"
   ]
  },
  {
   "cell_type": "code",
   "execution_count": 175,
   "metadata": {},
   "outputs": [],
   "source": [
    "# Initialize the k-means model\n",
    "model = KMeans(n_clusters=4, random_state=0)\n",
    "\n",
    "# Fit the model\n",
    "model.fit(pcs_df)\n",
    "\n",
    "# Predict clusters\n",
    "predictions = model.predict(pcs_df)"
   ]
  },
  {
   "cell_type": "code",
   "execution_count": 176,
   "metadata": {},
   "outputs": [
    {
     "name": "stdout",
     "output_type": "stream",
     "text": [
      "(532, 9)\n"
     ]
    },
    {
     "data": {
      "text/html": [
       "<div>\n",
       "<style scoped>\n",
       "    .dataframe tbody tr th:only-of-type {\n",
       "        vertical-align: middle;\n",
       "    }\n",
       "\n",
       "    .dataframe tbody tr th {\n",
       "        vertical-align: top;\n",
       "    }\n",
       "\n",
       "    .dataframe thead th {\n",
       "        text-align: right;\n",
       "    }\n",
       "</style>\n",
       "<table border=\"1\" class=\"dataframe\">\n",
       "  <thead>\n",
       "    <tr style=\"text-align: right;\">\n",
       "      <th></th>\n",
       "      <th>Algorithm</th>\n",
       "      <th>ProofType</th>\n",
       "      <th>TotalCoinsMined</th>\n",
       "      <th>TotalCoinSupply</th>\n",
       "      <th>PC 1</th>\n",
       "      <th>PC 2</th>\n",
       "      <th>PC 3</th>\n",
       "      <th>CoinName</th>\n",
       "      <th>Class</th>\n",
       "    </tr>\n",
       "  </thead>\n",
       "  <tbody>\n",
       "    <tr>\n",
       "      <th>42</th>\n",
       "      <td>Scrypt</td>\n",
       "      <td>PoW/PoS</td>\n",
       "      <td>4.199995e+01</td>\n",
       "      <td>42</td>\n",
       "      <td>-0.348989</td>\n",
       "      <td>1.010138</td>\n",
       "      <td>-0.487098</td>\n",
       "      <td>42 Coin</td>\n",
       "      <td>0</td>\n",
       "    </tr>\n",
       "    <tr>\n",
       "      <th>404</th>\n",
       "      <td>Scrypt</td>\n",
       "      <td>PoW/PoS</td>\n",
       "      <td>1.055185e+09</td>\n",
       "      <td>532000000</td>\n",
       "      <td>-0.332299</td>\n",
       "      <td>1.010382</td>\n",
       "      <td>-0.487387</td>\n",
       "      <td>404Coin</td>\n",
       "      <td>0</td>\n",
       "    </tr>\n",
       "    <tr>\n",
       "      <th>1337</th>\n",
       "      <td>X13</td>\n",
       "      <td>PoW/PoS</td>\n",
       "      <td>2.927942e+10</td>\n",
       "      <td>314159265359</td>\n",
       "      <td>2.296053</td>\n",
       "      <td>1.582422</td>\n",
       "      <td>-0.583936</td>\n",
       "      <td>EliteCoin</td>\n",
       "      <td>0</td>\n",
       "    </tr>\n",
       "    <tr>\n",
       "      <th>BTC</th>\n",
       "      <td>SHA-256</td>\n",
       "      <td>PoW</td>\n",
       "      <td>1.792718e+07</td>\n",
       "      <td>21000000</td>\n",
       "      <td>-0.144652</td>\n",
       "      <td>-1.355199</td>\n",
       "      <td>0.137224</td>\n",
       "      <td>Bitcoin</td>\n",
       "      <td>1</td>\n",
       "    </tr>\n",
       "    <tr>\n",
       "      <th>ETH</th>\n",
       "      <td>Ethash</td>\n",
       "      <td>PoW</td>\n",
       "      <td>1.076842e+08</td>\n",
       "      <td>0</td>\n",
       "      <td>-0.146113</td>\n",
       "      <td>-2.023783</td>\n",
       "      <td>0.313150</td>\n",
       "      <td>Ethereum</td>\n",
       "      <td>1</td>\n",
       "    </tr>\n",
       "    <tr>\n",
       "      <th>LTC</th>\n",
       "      <td>Scrypt</td>\n",
       "      <td>PoW</td>\n",
       "      <td>6.303924e+07</td>\n",
       "      <td>84000000</td>\n",
       "      <td>-0.166380</td>\n",
       "      <td>-1.104429</td>\n",
       "      <td>-0.008003</td>\n",
       "      <td>Litecoin</td>\n",
       "      <td>1</td>\n",
       "    </tr>\n",
       "    <tr>\n",
       "      <th>DASH</th>\n",
       "      <td>X11</td>\n",
       "      <td>PoW/PoS</td>\n",
       "      <td>9.031294e+06</td>\n",
       "      <td>22000000</td>\n",
       "      <td>-0.412639</td>\n",
       "      <td>1.166418</td>\n",
       "      <td>-0.422307</td>\n",
       "      <td>Dash</td>\n",
       "      <td>0</td>\n",
       "    </tr>\n",
       "    <tr>\n",
       "      <th>XMR</th>\n",
       "      <td>CryptoNight-V7</td>\n",
       "      <td>PoW</td>\n",
       "      <td>1.720114e+07</td>\n",
       "      <td>0</td>\n",
       "      <td>-0.155801</td>\n",
       "      <td>-2.213564</td>\n",
       "      <td>0.360602</td>\n",
       "      <td>Monero</td>\n",
       "      <td>1</td>\n",
       "    </tr>\n",
       "    <tr>\n",
       "      <th>ETC</th>\n",
       "      <td>Ethash</td>\n",
       "      <td>PoW</td>\n",
       "      <td>1.133597e+08</td>\n",
       "      <td>210000000</td>\n",
       "      <td>-0.144551</td>\n",
       "      <td>-2.023875</td>\n",
       "      <td>0.313134</td>\n",
       "      <td>Ethereum Classic</td>\n",
       "      <td>1</td>\n",
       "    </tr>\n",
       "    <tr>\n",
       "      <th>ZEC</th>\n",
       "      <td>Equihash</td>\n",
       "      <td>PoW</td>\n",
       "      <td>7.383056e+06</td>\n",
       "      <td>21000000</td>\n",
       "      <td>-0.141411</td>\n",
       "      <td>-2.018468</td>\n",
       "      <td>0.413241</td>\n",
       "      <td>ZCash</td>\n",
       "      <td>1</td>\n",
       "    </tr>\n",
       "  </tbody>\n",
       "</table>\n",
       "</div>"
      ],
      "text/plain": [
       "           Algorithm ProofType  TotalCoinsMined TotalCoinSupply      PC 1  \\\n",
       "42            Scrypt   PoW/PoS     4.199995e+01              42 -0.348989   \n",
       "404           Scrypt   PoW/PoS     1.055185e+09       532000000 -0.332299   \n",
       "1337             X13   PoW/PoS     2.927942e+10    314159265359  2.296053   \n",
       "BTC          SHA-256       PoW     1.792718e+07        21000000 -0.144652   \n",
       "ETH           Ethash       PoW     1.076842e+08               0 -0.146113   \n",
       "LTC           Scrypt       PoW     6.303924e+07        84000000 -0.166380   \n",
       "DASH             X11   PoW/PoS     9.031294e+06        22000000 -0.412639   \n",
       "XMR   CryptoNight-V7       PoW     1.720114e+07               0 -0.155801   \n",
       "ETC           Ethash       PoW     1.133597e+08       210000000 -0.144551   \n",
       "ZEC         Equihash       PoW     7.383056e+06        21000000 -0.141411   \n",
       "\n",
       "          PC 2      PC 3          CoinName  Class  \n",
       "42    1.010138 -0.487098           42 Coin      0  \n",
       "404   1.010382 -0.487387           404Coin      0  \n",
       "1337  1.582422 -0.583936         EliteCoin      0  \n",
       "BTC  -1.355199  0.137224           Bitcoin      1  \n",
       "ETH  -2.023783  0.313150          Ethereum      1  \n",
       "LTC  -1.104429 -0.008003          Litecoin      1  \n",
       "DASH  1.166418 -0.422307              Dash      0  \n",
       "XMR  -2.213564  0.360602            Monero      1  \n",
       "ETC  -2.023875  0.313134  Ethereum Classic      1  \n",
       "ZEC  -2.018468  0.413241             ZCash      1  "
      ]
     },
     "execution_count": 176,
     "metadata": {},
     "output_type": "execute_result"
    }
   ],
   "source": [
    "# Create a new DataFrame including predicted clusters and cryptocurrencies features.\n",
    "# Concatentate the crypto_df and pcs_df DataFrames on the same columns.\n",
    "clustered_df = crypto_df.join(pcs_df,how='inner')\n",
    "\n",
    "#  Add a new column, \"CoinName\" to the clustered_df DataFrame that holds the names of the cryptocurrencies. \n",
    "clustered_df['CoinName'] = crypto_name_df['CoinName']\n",
    "\n",
    "#  Add a new column, \"Class\" to the clustered_df DataFrame that holds the predictions.\n",
    "clustered_df['Class'] = predictions\n",
    "\n",
    "# Print the shape of the clustered_df\n",
    "print(clustered_df.shape)\n",
    "clustered_df.head(10)"
   ]
  },
  {
   "cell_type": "markdown",
   "metadata": {},
   "source": [
    "### Deliverable 4: Visualizing Cryptocurrencies Results\n",
    "\n",
    "#### 3D-Scatter with Clusters"
   ]
  },
  {
   "cell_type": "code",
   "execution_count": 177,
   "metadata": {},
   "outputs": [
    {
     "data": {
      "application/vnd.plotly.v1+json": {
       "config": {
        "plotlyServerURL": "https://plot.ly"
       },
       "data": [
        {
         "customdata": [
          [
           "Scrypt"
          ],
          [
           "Scrypt"
          ],
          [
           "X13"
          ],
          [
           "X11"
          ],
          [
           "SHA-512"
          ],
          [
           "SHA-256"
          ],
          [
           "SHA-256"
          ],
          [
           "X15"
          ],
          [
           "Scrypt"
          ],
          [
           "Scrypt"
          ],
          [
           "Scrypt"
          ],
          [
           "Scrypt"
          ],
          [
           "Scrypt"
          ],
          [
           "Scrypt"
          ],
          [
           "Groestl"
          ],
          [
           "PoS"
          ],
          [
           "Scrypt"
          ],
          [
           "Scrypt"
          ],
          [
           "X11"
          ],
          [
           "X11"
          ],
          [
           "SHA3"
          ],
          [
           "Scrypt"
          ],
          [
           "SHA-256"
          ],
          [
           "Scrypt"
          ],
          [
           "X13"
          ],
          [
           "X13"
          ],
          [
           "NeoScrypt"
          ],
          [
           "Scrypt"
          ],
          [
           "Scrypt"
          ],
          [
           "Scrypt"
          ],
          [
           "X11"
          ],
          [
           "X11"
          ],
          [
           "Multiple"
          ],
          [
           "PHI1612"
          ],
          [
           "X11"
          ],
          [
           "Scrypt"
          ],
          [
           "Scrypt"
          ],
          [
           "Scrypt"
          ],
          [
           "X11"
          ],
          [
           "Multiple"
          ],
          [
           "X13"
          ],
          [
           "Scrypt"
          ],
          [
           "Shabal256"
          ],
          [
           "Counterparty"
          ],
          [
           "SHA-256"
          ],
          [
           "Groestl"
          ],
          [
           "Scrypt"
          ],
          [
           "X13"
          ],
          [
           "Scrypt"
          ],
          [
           "Scrypt"
          ],
          [
           "X13"
          ],
          [
           "X11"
          ],
          [
           "Scrypt"
          ],
          [
           "X11"
          ],
          [
           "SHA3"
          ],
          [
           "QUAIT"
          ],
          [
           "X11"
          ],
          [
           "Scrypt"
          ],
          [
           "X13"
          ],
          [
           "SHA-256"
          ],
          [
           "X15"
          ],
          [
           "BLAKE256"
          ],
          [
           "SHA-256"
          ],
          [
           "X11"
          ],
          [
           "SHA-256"
          ],
          [
           "NIST5"
          ],
          [
           "Scrypt"
          ],
          [
           "Scrypt"
          ],
          [
           "X11"
          ],
          [
           "Scrypt"
          ],
          [
           "SHA-256"
          ],
          [
           "Scrypt"
          ],
          [
           "PoS"
          ],
          [
           "X11"
          ],
          [
           "SHA-256"
          ],
          [
           "SHA-256"
          ],
          [
           "NIST5"
          ],
          [
           "X11"
          ],
          [
           "POS 3.0"
          ],
          [
           "Scrypt"
          ],
          [
           "Scrypt"
          ],
          [
           "Scrypt"
          ],
          [
           "X13"
          ],
          [
           "X11"
          ],
          [
           "X11"
          ],
          [
           "Scrypt"
          ],
          [
           "SHA-256"
          ],
          [
           "X11"
          ],
          [
           "Scrypt"
          ],
          [
           "Scrypt"
          ],
          [
           "Scrypt"
          ],
          [
           "Scrypt"
          ],
          [
           "SHA-256D"
          ],
          [
           "PoS"
          ],
          [
           "Scrypt"
          ],
          [
           "X11"
          ],
          [
           "PoS"
          ],
          [
           "X13"
          ],
          [
           "X14"
          ],
          [
           "PoS"
          ],
          [
           "SHA-256D"
          ],
          [
           "DPoS"
          ],
          [
           "X11"
          ],
          [
           "X13"
          ],
          [
           "X11"
          ],
          [
           "PoS"
          ],
          [
           "Scrypt"
          ],
          [
           "Scrypt"
          ],
          [
           "PoS"
          ],
          [
           "X11"
          ],
          [
           "SHA-256"
          ],
          [
           "Scrypt"
          ],
          [
           "X11"
          ],
          [
           "Scrypt"
          ],
          [
           "Scrypt"
          ],
          [
           "X11"
          ],
          [
           "Scrypt"
          ],
          [
           "Scrypt"
          ],
          [
           "Scrypt"
          ],
          [
           "Scrypt"
          ],
          [
           "Quark"
          ],
          [
           "QuBit"
          ],
          [
           "Scrypt"
          ],
          [
           "SHA-256"
          ],
          [
           "X11"
          ],
          [
           "Scrypt"
          ],
          [
           "Scrypt"
          ],
          [
           "Scrypt"
          ],
          [
           "Scrypt"
          ],
          [
           "X13"
          ],
          [
           "Scrypt"
          ],
          [
           "Scrypt"
          ],
          [
           "X11"
          ],
          [
           "Blake2S"
          ],
          [
           "X11"
          ],
          [
           "PoS"
          ],
          [
           "X11"
          ],
          [
           "PoS"
          ],
          [
           "X11"
          ],
          [
           "Scrypt"
          ],
          [
           "Scrypt"
          ],
          [
           "Scrypt"
          ],
          [
           "SHA-256"
          ],
          [
           "X11"
          ],
          [
           "Scrypt"
          ],
          [
           "PoS"
          ],
          [
           "Scrypt"
          ],
          [
           "X15"
          ],
          [
           "SHA-256"
          ],
          [
           "POS 3.0"
          ],
          [
           "536"
          ],
          [
           "NIST5"
          ],
          [
           "NIST5"
          ],
          [
           "Skein"
          ],
          [
           "X13"
          ],
          [
           "Scrypt"
          ],
          [
           "X13"
          ],
          [
           "SkunkHash v2 Raptor"
          ],
          [
           "Skein"
          ],
          [
           "X11"
          ],
          [
           "Scrypt"
          ],
          [
           "VeChainThor Authority"
          ],
          [
           "PoS"
          ],
          [
           "Scrypt"
          ],
          [
           "Scrypt"
          ],
          [
           "SHA-512"
          ],
          [
           "Ouroboros"
          ],
          [
           "X11"
          ],
          [
           "NeoScrypt"
          ],
          [
           "Scrypt"
          ],
          [
           "Lyra2REv2"
          ],
          [
           "Scrypt"
          ],
          [
           "SHA-256"
          ],
          [
           "NIST5"
          ],
          [
           "PHI1612"
          ],
          [
           "Scrypt"
          ],
          [
           "Quark"
          ],
          [
           "POS 2.0"
          ],
          [
           "Scrypt"
          ],
          [
           "SHA-256"
          ],
          [
           "X11"
          ],
          [
           "DPoS"
          ],
          [
           "NIST5"
          ],
          [
           "X13"
          ],
          [
           "Scrypt"
          ],
          [
           "NIST5"
          ],
          [
           "Quark"
          ],
          [
           "Scrypt"
          ],
          [
           "Scrypt"
          ],
          [
           "X11"
          ],
          [
           "Quark"
          ],
          [
           "Scrypt"
          ],
          [
           "Scrypt"
          ],
          [
           "X11"
          ],
          [
           "POS 3.0"
          ],
          [
           "Ethash"
          ],
          [
           "Scrypt"
          ],
          [
           "Scrypt"
          ],
          [
           "X13"
          ],
          [
           "Proof-of-BibleHash"
          ],
          [
           "C11"
          ],
          [
           "X11"
          ],
          [
           "XEVAN"
          ],
          [
           "Scrypt"
          ],
          [
           "VBFT"
          ],
          [
           "NIST5"
          ],
          [
           "Scrypt"
          ],
          [
           "Scrypt"
          ],
          [
           "Scrypt"
          ],
          [
           "Green Protocol"
          ],
          [
           "PoS"
          ],
          [
           "Scrypt"
          ],
          [
           "Semux BFT consensus"
          ],
          [
           "Quark"
          ],
          [
           "PoS"
          ],
          [
           "X16R"
          ],
          [
           "Scrypt"
          ],
          [
           "XEVAN"
          ],
          [
           "Scrypt"
          ],
          [
           "Scrypt"
          ],
          [
           "Scrypt"
          ],
          [
           "SHA-256D"
          ],
          [
           "Scrypt"
          ],
          [
           "X15"
          ],
          [
           "Scrypt"
          ],
          [
           "Quark"
          ],
          [
           "SHA-256"
          ],
          [
           "DPoS"
          ],
          [
           "X16R"
          ],
          [
           "Quark"
          ],
          [
           "Quark"
          ],
          [
           "Scrypt"
          ],
          [
           "Lyra2REv2"
          ],
          [
           "Quark"
          ],
          [
           "Scrypt"
          ],
          [
           "X11"
          ],
          [
           "X11"
          ],
          [
           "Scrypt"
          ],
          [
           "PoS"
          ],
          [
           "Keccak"
          ],
          [
           "X11"
          ],
          [
           "Scrypt"
          ],
          [
           "SHA-512"
          ],
          [
           "ECC 256K1"
          ],
          [
           "XEVAN"
          ],
          [
           "XEVAN"
          ],
          [
           "X11"
          ],
          [
           "Quark"
          ],
          [
           "Equihash"
          ],
          [
           "Scrypt"
          ],
          [
           "Quark"
          ],
          [
           "Quark"
          ],
          [
           "Scrypt"
          ],
          [
           "X11"
          ],
          [
           "Scrypt"
          ],
          [
           "XEVAN"
          ],
          [
           "SHA-256D"
          ],
          [
           "X11"
          ],
          [
           "X11"
          ],
          [
           "DPoS"
          ],
          [
           "Scrypt"
          ],
          [
           "X11"
          ],
          [
           "Scrypt"
          ],
          [
           "Scrypt"
          ],
          [
           "SHA-256"
          ],
          [
           "Scrypt"
          ],
          [
           "X11"
          ],
          [
           "Scrypt"
          ],
          [
           "SHA-256"
          ],
          [
           "X11"
          ],
          [
           "Scrypt"
          ],
          [
           "Scrypt"
          ],
          [
           "X11"
          ],
          [
           "Scrypt"
          ],
          [
           "PoS"
          ],
          [
           "X11"
          ],
          [
           "SHA-256"
          ],
          [
           "DPoS"
          ],
          [
           "Scrypt"
          ],
          [
           "Scrypt"
          ],
          [
           "NeoScrypt"
          ],
          [
           "X13"
          ],
          [
           "DPoS"
          ],
          [
           "DPoS"
          ],
          [
           "SHA-256"
          ],
          [
           "PoS"
          ],
          [
           "PoS"
          ],
          [
           "SHA-256"
          ],
          [
           "Scrypt"
          ],
          [
           "Scrypt"
          ]
         ],
         "hovertemplate": "<b>%{hovertext}</b><br><br>Class=%{marker.color}<br>PC 1=%{x}<br>PC 2=%{y}<br>PC 3=%{z}<br>Algorithm=%{customdata[0]}<extra></extra>",
         "hovertext": [
          "42 Coin",
          "404Coin",
          "EliteCoin",
          "Dash",
          "Bitshares",
          "BitcoinDark",
          "PayCoin",
          "KoboCoin",
          "Aurora Coin",
          "BlueCoin",
          "EnergyCoin",
          "BitBar",
          "CryptoBullion",
          "CasinoCoin",
          "Diamond",
          "Exclusive Coin",
          "FlutterCoin",
          "HoboNickels",
          "HyperStake",
          "IOCoin",
          "MaxCoin",
          "MintCoin",
          "MazaCoin",
          "Nautilus Coin",
          "NavCoin",
          "OpalCoin",
          "Orbitcoin",
          "PotCoin",
          "PhoenixCoin",
          "Reddcoin",
          "SuperCoin",
          "SyncCoin",
          "TeslaCoin",
          "TittieCoin",
          "TorCoin",
          "UnitaryStatus Dollar",
          "UltraCoin",
          "VeriCoin",
          "X11 Coin",
          "Crypti",
          "StealthCoin",
          "ZCC Coin",
          "BurstCoin",
          "StorjCoin",
          "Neutron",
          "FairCoin",
          "RubyCoin",
          "Kore",
          "Dnotes",
          "8BIT Coin",
          "Sativa Coin",
          "Ucoin",
          "Vtorrent",
          "IslaCoin",
          "Nexus",
          "Droidz",
          "Squall Coin",
          "Diggits",
          "Paycon",
          "Emercoin",
          "EverGreenCoin",
          "Decred",
          "EDRCoin",
          "Hitcoin",
          "DubaiCoin",
          "PWR Coin",
          "BillaryCoin",
          "GPU Coin",
          "EuropeCoin",
          "ZeitCoin",
          "SwingCoin",
          "SafeExchangeCoin",
          "Nebuchadnezzar",
          "Ratecoin",
          "Revenu",
          "Clockcoin",
          "VIP Tokens",
          "BitSend",
          "Let it Ride",
          "PutinCoin",
          "iBankCoin",
          "Frankywillcoin",
          "MudraCoin",
          "Lutetium Coin",
          "GoldBlocks",
          "CarterCoin",
          "BitTokens",
          "MustangCoin",
          "ZoneCoin",
          "RootCoin",
          "BitCurrency",
          "Swiscoin",
          "BuzzCoin",
          "Opair",
          "PesoBit",
          "Halloween Coin",
          "CoffeeCoin",
          "RoyalCoin",
          "GanjaCoin V2",
          "TeamUP",
          "LanaCoin",
          "ARK",
          "InsaneCoin",
          "EmberCoin",
          "XenixCoin",
          "FreeCoin",
          "PLNCoin",
          "AquariusCoin",
          "Creatio",
          "Eternity",
          "Eurocoin",
          "BitcoinFast",
          "Stakenet",
          "BitConnect Coin",
          "MoneyCoin",
          "Enigma",
          "Russiacoin",
          "PandaCoin",
          "GameUnits",
          "GAKHcoin",
          "Allsafe",
          "LiteCreed",
          "Klingon Empire Darsek",
          "Internet of People",
          "KushCoin",
          "Printerium",
          "Impeach",
          "Zilbercoin",
          "FirstCoin",
          "FindCoin",
          "OpenChat",
          "RenosCoin",
          "VirtacoinPlus",
          "TajCoin",
          "Impact",
          "Atmos",
          "HappyCoin",
          "MacronCoin",
          "Condensate",
          "Independent Money System",
          "ArgusCoin",
          "LomoCoin",
          "ProCurrency",
          "GoldReserve",
          "GrowthCoin",
          "Phreak",
          "Degas Coin",
          "HTML5 Coin",
          "Ultimate Secure Cash",
          "QTUM",
          "Espers",
          "Denarius",
          "Virta Unique Coin",
          "Bitcoin Planet",
          "BritCoin",
          "Linda",
          "DeepOnion",
          "Signatum",
          "Cream",
          "Monoeci",
          "Draftcoin",
          "Vechain",
          "Stakecoin",
          "CoinonatX",
          "Ethereum Dark",
          "Obsidian",
          "Cardano",
          "Regalcoin",
          "TrezarCoin",
          "TerraNovaCoin",
          "Rupee",
          "WomenCoin",
          "Theresa May Coin",
          "NamoCoin",
          "LUXCoin",
          "Xios",
          "Bitcloud 2.0",
          "KekCoin",
          "BlackholeCoin",
          "Infinity Economics",
          "Magnet",
          "Lamden Tau",
          "Electra",
          "Bitcoin Diamond",
          "Cash & Back Coin",
          "Bulwark",
          "Kalkulus",
          "GermanCoin",
          "LiteCoin Ultra",
          "PhantomX",
          "Digiwage",
          "Trollcoin",
          "Litecoin Plus",
          "Monkey Project",
          "TokenPay",
          "1717 Masonic Commemorative Token",
          "My Big Coin",
          "Unified Society USDEX",
          "Tokyo Coin",
          "BiblePay",
          "Stipend",
          "Pushi",
          "Ellerium",
          "Velox",
          "Ontology",
          "Bitspace",
          "Briacoin",
          "Ignition",
          "MedicCoin",
          "Bitcoin Green",
          "Deviant Coin",
          "Abjcoin",
          "Semux",
          "Carebit",
          "Zealium",
          "Proton",
          "iDealCash",
          "Bitcoin Incognito",
          "HollyWoodCoin",
          "Swisscoin",
          "Xt3ch",
          "TheVig",
          "EmaratCoin",
          "Dekado",
          "Lynx",
          "Poseidon Quark",
          "BitcoinWSpectrum",
          "Muse",
          "Trivechain",
          "Dystem",
          "Giant",
          "Peony Coin",
          "Absolute Coin",
          "Vitae",
          "TPCash",
          "ARENON",
          "EUNO",
          "MMOCoin",
          "Ketan",
          "XDNA",
          "PAXEX",
          "ThunderStake",
          "Kcash",
          "Acute Angle Cloud",
          "Bettex coin",
          "BitMoney",
          "Junson Ming Chan Coin",
          "HerbCoin",
          "PirateCash",
          "Oduwa",
          "Galilel",
          "Crypto Sports",
          "Credit",
          "Dash Platinum",
          "Nasdacoin",
          "Beetle Coin",
          "Titan Coin",
          "Award",
          "Insane Coin",
          "ALAX",
          "LiteDoge",
          "TruckCoin",
          "OrangeCoin",
          "BitstarCoin",
          "NeosCoin",
          "HyperCoin",
          "PinkCoin",
          "AudioCoin",
          "IncaKoin",
          "Piggy Coin",
          "Genstake",
          "XiaoMiCoin",
          "CapriCoin",
          " ClubCoin",
          "Radium",
          "Creditbit ",
          "OKCash",
          "Lisk",
          "HiCoin",
          "WhiteCoin",
          "FriendshipCoin",
          "Triangles Coin",
          "EOS",
          "Oxycoin",
          "TigerCash",
          "Particl",
          "Nxt",
          "ZEPHYR",
          "Gapcoin",
          "BitcoinPlus"
         ],
         "legendgroup": "0",
         "marker": {
          "color": [
           0,
           0,
           0,
           0,
           0,
           0,
           0,
           0,
           0,
           0,
           0,
           0,
           0,
           0,
           0,
           0,
           0,
           0,
           0,
           0,
           0,
           0,
           0,
           0,
           0,
           0,
           0,
           0,
           0,
           0,
           0,
           0,
           0,
           0,
           0,
           0,
           0,
           0,
           0,
           0,
           0,
           0,
           0,
           0,
           0,
           0,
           0,
           0,
           0,
           0,
           0,
           0,
           0,
           0,
           0,
           0,
           0,
           0,
           0,
           0,
           0,
           0,
           0,
           0,
           0,
           0,
           0,
           0,
           0,
           0,
           0,
           0,
           0,
           0,
           0,
           0,
           0,
           0,
           0,
           0,
           0,
           0,
           0,
           0,
           0,
           0,
           0,
           0,
           0,
           0,
           0,
           0,
           0,
           0,
           0,
           0,
           0,
           0,
           0,
           0,
           0,
           0,
           0,
           0,
           0,
           0,
           0,
           0,
           0,
           0,
           0,
           0,
           0,
           0,
           0,
           0,
           0,
           0,
           0,
           0,
           0,
           0,
           0,
           0,
           0,
           0,
           0,
           0,
           0,
           0,
           0,
           0,
           0,
           0,
           0,
           0,
           0,
           0,
           0,
           0,
           0,
           0,
           0,
           0,
           0,
           0,
           0,
           0,
           0,
           0,
           0,
           0,
           0,
           0,
           0,
           0,
           0,
           0,
           0,
           0,
           0,
           0,
           0,
           0,
           0,
           0,
           0,
           0,
           0,
           0,
           0,
           0,
           0,
           0,
           0,
           0,
           0,
           0,
           0,
           0,
           0,
           0,
           0,
           0,
           0,
           0,
           0,
           0,
           0,
           0,
           0,
           0,
           0,
           0,
           0,
           0,
           0,
           0,
           0,
           0,
           0,
           0,
           0,
           0,
           0,
           0,
           0,
           0,
           0,
           0,
           0,
           0,
           0,
           0,
           0,
           0,
           0,
           0,
           0,
           0,
           0,
           0,
           0,
           0,
           0,
           0,
           0,
           0,
           0,
           0,
           0,
           0,
           0,
           0,
           0,
           0,
           0,
           0,
           0,
           0,
           0,
           0,
           0,
           0,
           0,
           0,
           0,
           0,
           0,
           0,
           0,
           0,
           0,
           0,
           0,
           0,
           0,
           0,
           0,
           0,
           0,
           0,
           0,
           0,
           0,
           0,
           0,
           0,
           0,
           0,
           0,
           0,
           0,
           0,
           0,
           0,
           0,
           0,
           0,
           0,
           0,
           0,
           0,
           0,
           0,
           0,
           0,
           0,
           0,
           0
          ],
          "coloraxis": "coloraxis",
          "symbol": "circle"
         },
         "mode": "markers",
         "name": "0",
         "scene": "scene",
         "showlegend": true,
         "type": "scatter3d",
         "x": [
          -0.348989184983578,
          -0.3322991945773617,
          2.296052665458638,
          -0.41263858559644057,
          -0.2828615466749301,
          -0.3260894069219662,
          -0.24736057552356283,
          -0.26582775397593633,
          -0.34864816181311264,
          -0.341214858908978,
          -0.34748352879493477,
          -0.3489851122623844,
          -0.34896936718338145,
          0.6462909198577426,
          -0.39179866654687917,
          -0.29344143152604635,
          -0.26792455505256313,
          -0.3470443977195659,
          -0.3137035876165551,
          -0.41253312569730666,
          -0.44730715973387236,
          -0.009795502541001332,
          -0.28932762006931967,
          -0.27001092605154475,
          -0.2935200016306509,
          -0.29414313235991746,
          -0.3680786096771162,
          -0.34328059299599617,
          -0.3473879983783867,
          0.00968287870605113,
          -0.3336196561398621,
          -0.4129053742626908,
          -0.21570653471640727,
          -0.2855727024979729,
          -0.41281682567696903,
          -0.32417539344795004,
          -0.34766404882215846,
          -0.29668296745150885,
          -0.41278127490282945,
          -0.21617553996421257,
          -0.2939236711332668,
          -0.3400733864400903,
          -0.04554387267561317,
          -0.2851967157432565,
          -0.3252996899651701,
          -0.3912193976630448,
          -0.26999124903973715,
          -0.29421856197065255,
          -0.26463449645179193,
          -0.34897122695649035,
          -0.2941706880565536,
          -0.3340650449741719,
          -0.34870510039633057,
          -0.4128868758012138,
          -0.45708985078737246,
          -0.4431163821382942,
          -0.34671291895909906,
          -0.26838984511812863,
          -0.2936913873426064,
          -0.3186295001213611,
          -0.26827467295377905,
          -0.08401718643536762,
          -0.32606027778553204,
          -0.08972494898095316,
          -0.3261241324956287,
          -0.2594399272960896,
          -0.3485806707131914,
          -0.26825800245608783,
          -0.4100496833501697,
          0.8854249967581673,
          -0.32592373011320624,
          -0.08577767680893737,
          -0.2931241214521105,
          -0.4107262470768931,
          -0.32466436595163484,
          -0.32232741387504327,
          -0.3809778278332451,
          -0.4116193981744176,
          -0.2904663550673101,
          -0.3248307922358969,
          -0.3486188114668932,
          -0.34705518325062545,
          -0.2141810242977072,
          -0.32153366091359586,
          -0.41235971592852183,
          -0.3478215973823161,
          -0.3261049961409557,
          -0.4128760341996418,
          -0.34880838740828457,
          -0.3489654515120064,
          -0.26824883115808773,
          -0.24653998123059287,
          0.007688734237865705,
          -0.29207934645604444,
          -0.34857903687648095,
          -0.3990093523193763,
          -0.2914071858864867,
          -0.21561487786698066,
          -0.44293967020497876,
          -0.29115426005246253,
          -0.3073746226435442,
          3.666497728886657,
          -0.4124678191369219,
          0.8396777379718613,
          -0.41283087233034294,
          -0.29254392068854007,
          -0.3485062640054081,
          -0.3486607988858438,
          -0.2931241214521105,
          -0.4124048269536252,
          -0.32596747140761057,
          -0.3485070326297779,
          -0.39698505013893814,
          -0.348654670194163,
          -0.34423260811283973,
          -0.4128599025845722,
          -0.34786354081293114,
          0.37439910643671226,
          -0.34885432725060816,
          -0.348925058352206,
          -0.32704520768313217,
          -0.3654602382521317,
          -0.34514339341699546,
          -0.32608137490145783,
          -0.4127696958174059,
          -0.3487024453567887,
          -0.3488295754598092,
          -0.26989730615384466,
          -0.26960652682496794,
          -0.21538231933140758,
          -0.3296491603435091,
          -0.2696381710519712,
          -0.41203383543614086,
          -0.4336872837658256,
          -0.4107702802570384,
          -0.29136756163904665,
          -0.41193156940834436,
          -0.2857575211280689,
          -0.4078642559118948,
          -0.3487727821211685,
          -0.34877192867192225,
          -0.3418779098813199,
          0.2865208985625577,
          -0.41241109985456226,
          -0.2525025875318047,
          -0.2931584093071577,
          -0.34798182251913834,
          0.8682948952088951,
          -0.24604797476898768,
          -0.28924251650666427,
          0.5699696539609451,
          -0.382516208787279,
          -0.3810155897436972,
          -0.4278581090550498,
          -0.2938552014304865,
          0.11693226511202127,
          -0.29392614204297435,
          -0.28082715567895156,
          -0.42736226121212123,
          -0.412684061846056,
          -0.269971833087594,
          4.4393044931446015,
          -0.29302430497951987,
          -0.3484072834289787,
          -0.34890795768896066,
          -0.3410317103373204,
          0.707692539208401,
          -0.4126247019664156,
          -0.3630681800160592,
          -0.3488634412315036,
          -0.2839601001465737,
          0.42153497520441496,
          -0.32442474432295687,
          -0.3672536900729786,
          -0.39990092436675606,
          -0.3488136763210485,
          -0.40414902331172237,
          -0.2940137700442209,
          -0.3486839191899939,
          -0.07353592238235174,
          -0.4114148982207287,
          3.6713630749822674,
          0.17797628264845233,
          -0.2905909708010164,
          -0.34613931396077796,
          -0.3036139536399133,
          -0.3269309139130515,
          0.06636029068260454,
          -0.347820401756327,
          -0.4119974373440927,
          -0.3260938416397604,
          -0.33536345846412097,
          -0.3489301231061088,
          -0.3340369271657598,
          -0.29074873769388593,
          -0.2499741245872584,
          -0.2785845287528125,
          -0.34446747620770535,
          -0.20716142683292316,
          -0.11021935734063319,
          -0.38937504440320986,
          -0.41270124373007616,
          -0.30326578626822587,
          -0.26912996230255437,
          -0.27878822468611336,
          -0.38211434618470286,
          -0.3489575240542636,
          -0.34893919651264316,
          -0.2635009169114162,
          -0.2943543460477454,
          -0.2926180108848919,
          -0.34865514440930057,
          3.867291520302713,
          -0.40281507967304964,
          -0.29280700502217216,
          -0.2922297873370422,
          -0.2954172300658371,
          -0.23722614736394287,
          -0.2696655408781499,
          -0.1517209261818748,
          -0.26991786865501793,
          -0.37282887748512444,
          -0.3481280874358874,
          -0.18895174345963592,
          2.2327748081280783,
          -0.322628882457601,
          -0.24617646256825854,
          1.0097215742582606,
          -0.3702304816201099,
          -0.32704460815555797,
          -0.40583678390195577,
          -0.15037602361942046,
          -0.36255345526277966,
          -0.3257617923568529,
          -0.341817912510129,
          -0.33361351402861483,
          -0.41217365721136057,
          -0.2671580298700043,
          -0.29190472246582205,
          -0.36280885320401157,
          -0.33347442812876676,
          -0.20812793596707405,
          -0.42640600177407406,
          -0.28686484722770594,
          -0.22459358649957886,
          0.5966786593492497,
          -0.12367893023355393,
          -0.40513008829012576,
          -0.24331524085750106,
          -0.34865917611676006,
          -0.4055870829705468,
          -0.32716180182412863,
          0.5596251297331777,
          -0.33409133001563984,
          -0.34814096844412956,
          -0.29771066458325757,
          -0.32745340603545264,
          -0.40973256468799457,
          -0.4124013453022167,
          3.6836257714251186,
          0.08711590662558964,
          -0.4099375338601927,
          -0.34752487753994193,
          -0.348351936340048,
          -0.24739320430771555,
          -0.34887134934517106,
          -0.4040140879796782,
          -0.26238588971829324,
          -0.10542135992096374,
          -0.3997532684865683,
          -0.34814851640036687,
          -0.3412003641108362,
          -0.4089638570453883,
          -0.3465845605686717,
          -0.2934002231015161,
          -0.39833078690619766,
          -0.3246017961025638,
          3.666890324116646,
          -0.0768578209537798,
          -0.3437743836976214,
          -0.3677035879691025,
          -0.29432599344516885,
          3.676771972450841,
          3.678017943900739,
          -0.22825612587881547,
          -0.29333599707503777,
          -0.2649807794836425,
          2.4459991579493723,
          -0.34703021681215224,
          -0.2703151724411536
         ],
         "y": [
          1.0101382206200504,
          1.0103822194457701,
          1.582421692962238,
          1.1664178986260516,
          1.6255232394607966,
          0.7593511277784422,
          0.6537724710793198,
          1.8057674452280834,
          1.0101389913524847,
          1.0104289587833286,
          1.0101945279962463,
          1.0101380156649336,
          1.0101382471934628,
          0.6366446855605039,
          0.83569964370856,
          1.7420920469653407,
          0.4240136110702682,
          1.0101251998219325,
          1.0616038285946554,
          1.166421842532431,
          1.9542103336182304,
          0.9142934350585656,
          0.7590129079604877,
          0.9045505412487737,
          1.7100730515392932,
          1.7100497481862729,
          0.4679187991411657,
          1.0100515794989418,
          1.0101280710310578,
          1.0235515564493687,
          1.0608590231248425,
          1.1664236416750877,
          0.20136698691897212,
          1.685860655131087,
          1.1664198079889732,
          1.009922847940962,
          1.0101163183394155,
          0.43324607823542854,
          1.1664243531308558,
          0.20142090614031574,
          1.7100579554246558,
          1.0097570595651042,
          1.2445136293163372,
          1.7261432308525853,
          0.7593477899852362,
          0.835724436642308,
          0.9045628391335961,
          1.710038352283708,
          0.9044058732006308,
          1.0101388922302386,
          1.7100415718089186,
          1.060828075081284,
          1.0101345528799084,
          1.1664243341805907,
          2.1874575932914397,
          1.7957010648649148,
          0.7061183650931478,
          0.9045512684674037,
          1.7100309128358036,
          0.7589312413152873,
          1.8059072505523066,
          0.8626589938390261,
          0.7593522171269809,
          1.159537402086144,
          0.759358046890487,
          1.4447441802843497,
          1.0101234852869778,
          0.9044696963653854,
          1.1662560358233904,
          0.8770280636478064,
          0.7593444610615137,
          0.6363162800302733,
          1.7420896217358117,
          1.1664515416415298,
          0.7592609848428232,
          0.7591323785208628,
          1.440134688610576,
          1.1663724067041916,
          1.6414587728999865,
          1.0096125030092455,
          1.010120391559382,
          1.0101390882152839,
          1.604367506598915,
          1.060841521940625,
          1.1664083191355812,
          1.0101175723333298,
          0.7593512593721967,
          1.1664225958649572,
          1.0101299756463467,
          1.0101391082157696,
          0.9046280007073992,
          0.45535681024914365,
          1.8511928669101736,
          1.7420901057057312,
          1.0101535590464554,
          1.1658714342292538,
          1.7421395386727248,
          1.6044550153358563,
          1.9246932575006523,
          1.7419624900860966,
          1.8483384265644902,
          1.6837483814011245,
          1.1664185681189596,
          1.7518440904832489,
          1.1664236750167183,
          1.742089882014491,
          1.0101287403619204,
          1.0101204887165853,
          1.7420896217358117,
          1.1663994862378564,
          0.7593571170011417,
          1.0101326704300888,
          0.6910109541509031,
          1.01013072213209,
          1.0098511502432084,
          1.1664217699681967,
          1.01007741606206,
          0.9054265025031623,
          1.010133974321112,
          1.010138249387325,
          1.5636042548773197,
          0.5255080697230304,
          1.0099247489849512,
          0.7593521427407375,
          1.1664220321376733,
          1.01013465217099,
          1.010128516324527,
          0.9045270500448302,
          0.3775503587943195,
          1.6044551196618628,
          1.0101468965756673,
          0.9045514425884917,
          1.1663847768025801,
          1.7844695032823583,
          1.1664248843745024,
          1.7420907920870239,
          1.1663886012670717,
          1.742093568961019,
          1.1662548726157054,
          1.010131155605944,
          1.0101259082394787,
          1.0096895754164197,
          0.6201530498709072,
          1.1664135433910008,
          0.9037876921285584,
          1.7420811935944902,
          1.0101008615530342,
          1.7841177380202653,
          0.6536875134391974,
          1.6414570210094392,
          1.88229467498837,
          1.4401343244179912,
          1.4401118388071017,
          1.8207733327514886,
          1.710039078387519,
          0.9918330292661001,
          1.7100443586182783,
          1.5689725713803209,
          1.8207918760792132,
          1.1664251250841153,
          0.9045511272106536,
          3.0632805919474,
          1.7420636277950807,
          1.010125501889692,
          1.0101382570587008,
          1.6258554533213907,
          1.7339645389540999,
          1.1664148448995892,
          0.467823034399909,
          1.0101316802790972,
          0.7601623828816045,
          1.021088999597271,
          0.7593576437269011,
          1.439854741432768,
          1.791715457518172,
          1.0101297778557456,
          1.669118272600926,
          1.715189568421664,
          1.0101390692287948,
          0.6538506771386218,
          1.1663764814971134,
          1.683662361623076,
          1.4396647145046524,
          1.7100325258383564,
          1.0100947345929163,
          1.3345427049946654,
          1.5636049562103196,
          0.989941778333207,
          1.0100747418199287,
          1.1664218673452065,
          1.5635648016701682,
          1.0100046564587428,
          1.0101375710512814,
          1.060828412021865,
          1.6414542865669852,
          -0.014861868902072778,
          0.43955381257380466,
          1.0101415357501948,
          1.6042012677202881,
          3.4242539340912024,
          0.8593913698465819,
          1.1664134116251166,
          1.3439258026754353,
          0.9045064400563325,
          1.6602498268031618,
          1.4401207694752804,
          1.010137260919277,
          1.0101365171440504,
          0.9044482659169019,
          1.7266343813937237,
          1.7420599569374824,
          1.0101292752235487,
          1.778734676848153,
          1.6691681583761897,
          1.7420586057802148,
          0.8121312481953973,
          1.0084815821844813,
          0.8836426793685855,
          0.9045564404464969,
          1.0102267153707003,
          0.9045341415227685,
          1.8511828519333586,
          1.0101103979819601,
          1.7002985022611226,
          0.4536536381333018,
          1.5633156503217673,
          0.6537540398642407,
          1.6406506141875676,
          0.9177170934807363,
          1.563599989775332,
          1.6691943916409395,
          0.8969738848919643,
          0.8657325288611456,
          1.563591511130307,
          1.0096918191509292,
          1.0608199505317482,
          1.1664152772131795,
          0.9044830009881416,
          1.7419994523097113,
          0.8688005154866953,
          1.060792995537,
          1.0025434709312677,
          1.6737478998331385,
          3.6324379258005517,
          1.2383453854047093,
          0.9082623937982096,
          1.0687102213072812,
          1.6691859132220872,
          -0.00953216070758506,
          1.010135555732896,
          1.6691938077187425,
          1.5636010593583032,
          0.9906667486305032,
          1.0608273064701044,
          1.0101099162681433,
          1.343819130420456,
          1.849378291304693,
          1.1662421700418661,
          1.166421054055159,
          1.6837636587479694,
          1.0014367871576964,
          1.1665346313513123,
          1.0100500642467887,
          1.0101232812505698,
          0.6537651768632894,
          1.0101426273746088,
          1.1663988581684883,
          1.0058737779523577,
          0.7674834472456983,
          1.1662009073914195,
          1.010158940506065,
          1.01014366600518,
          1.1664224100327203,
          1.0101138129657916,
          1.7420871567616258,
          0.65119308961223,
          0.7593474495481303,
          1.6837381111303484,
          0.9046333062972574,
          1.0101188635555336,
          0.4678925225207733,
          1.710042823940745,
          1.684221932871382,
          1.6842685287319068,
          0.653781269495342,
          1.7420898200748995,
          2.0365336500565463,
          0.6968945226931733,
          1.0100328338243132,
          0.9045500107138367
         ],
         "z": [
          -0.4870984726372133,
          -0.4873874815333551,
          -0.5839363261187084,
          -0.42230667770885827,
          -0.035093147128609385,
          -0.341888784295062,
          -0.10804901357475624,
          -0.5832094543179305,
          -0.48710400107711577,
          -0.4872489268391822,
          -0.4871276111522369,
          -0.4870985195149255,
          -0.4870987922815921,
          -0.1508583959278502,
          -0.46940334661383476,
          -0.19951942642025483,
          -0.07322299490961474,
          -0.48712844317485354,
          -0.1888587494441613,
          -0.42230871864263037,
          -0.4457489414898012,
          -0.25829879309163656,
          -0.34244707601867735,
          -0.2532618884170423,
          -0.5538915589917384,
          -0.5538794997297493,
          -0.27829801953218836,
          -0.4871821170848411,
          -0.4871231990717952,
          -0.49403974544357143,
          -0.18847331974725423,
          -0.4223029200613478,
          0.08448580581644652,
          -0.23632099072351495,
          -0.4223039949169972,
          -0.48747646850978366,
          -0.4871177289779173,
          -0.3119949977277919,
          -0.4223049704085582,
          0.08448849370983862,
          -0.5538837468970039,
          -0.48720713116918735,
          0.1780548753239013,
          -0.02702061704780835,
          -0.3419011286830877,
          -0.469414836852442,
          -0.25326330289977567,
          -0.5538772733282014,
          -0.25333502740288505,
          -0.48709882017620526,
          -0.5538783275901813,
          -0.18846342254593196,
          -0.4871026927187719,
          -0.4223032781204074,
          -0.1718739069106001,
          -0.6380802012382272,
          -0.2711899982319583,
          -0.2532879057648455,
          -0.5538850479032859,
          -0.34197067288576616,
          -0.5831827799343129,
          -0.26853726943824846,
          -0.34188934802249715,
          -0.4268611541215653,
          -0.341888846953264,
          -0.5435788389375782,
          -0.48710369527171554,
          -0.2532827236783178,
          -0.4223336531366756,
          -0.26929898857388895,
          -0.34189084063622505,
          -0.13910914718524842,
          -0.19952428950200196,
          -0.422340300651352,
          -0.34190353911892835,
          -0.3419294542366618,
          -0.5412210026625529,
          -0.4223189270465919,
          -0.12666667048522212,
          -0.48743823027609723,
          -0.48710280807727435,
          -0.48712951217059014,
          -0.3200502120744463,
          -0.18866524312323305,
          -0.4223102857750068,
          -0.4871153188503571,
          -0.34188854648782974,
          -0.4223032962759369,
          -0.487100629949984,
          -0.48709893194664916,
          -0.2532970233901038,
          -0.1982266249129127,
          -0.6120666385840832,
          -0.19954105886176052,
          -0.4871064101131194,
          -0.42247601630126047,
          -0.1995562391223502,
          -0.320035080661938,
          -0.4847671819762127,
          -0.19954445960387981,
          -0.6067675067292511,
          -0.2324021530103999,
          -0.42230947141094094,
          -0.5757676914426776,
          -0.4223041157641964,
          -0.1995336013659267,
          -0.48710535628880464,
          -0.4871021445752381,
          -0.19952428950200196,
          -0.4223087738924358,
          -0.3418912718489642,
          -0.4871056953436402,
          -0.18560536100112035,
          -0.4871031575893865,
          -0.48714895703160804,
          -0.4223034806937534,
          -0.487111057274551,
          -0.2636567401363993,
          -0.48710025197995593,
          -0.4870995018300424,
          -0.22835941038886676,
          -0.3232889277066277,
          -0.4871409559678301,
          -0.3418890036225884,
          -0.42230494827753867,
          -0.48710274410095544,
          -0.4871001602768419,
          -0.2532616072048264,
          -0.21436367191910077,
          -0.32003881308280635,
          -0.4874088680883083,
          -0.2532679365372435,
          -0.4223133981301674,
          -0.5657147185616292,
          -0.42233721247188794,
          -0.19955251538598726,
          -0.4223153772539106,
          -0.19964257633444404,
          -0.4223685362536805,
          -0.4871013054568057,
          -0.4871008499895115,
          -0.48717220876860406,
          -0.11359039178397375,
          -0.42230993021974844,
          -0.2534739832290178,
          -0.19952298707699287,
          -0.48711125976770936,
          -0.5994303877898302,
          -0.10806243189322913,
          -0.12668610663035398,
          -0.34379179203644034,
          -0.5411963417371778,
          -0.54121835528031,
          -0.5170357058941403,
          -0.5538831553832895,
          -0.4929209984256315,
          -0.5538824917440028,
          -0.08309444377018574,
          -0.5170453018886301,
          -0.4223065957341771,
          -0.2532625666538566,
          5.786570679210158,
          -0.19952356355472026,
          -0.48710665136699144,
          -0.4870997762851263,
          -0.03419158583882042,
          0.046698102388980076,
          -0.4223066269633577,
          -0.2783696712271831,
          -0.48709990097743977,
          0.08667324796243203,
          -0.5004130393591182,
          -0.34191601688370055,
          -0.5414156880507721,
          -0.469615529230278,
          -0.48710052759524264,
          -0.4622194175158243,
          -0.1943948294527548,
          -0.4871034355897734,
          -0.11083881229972004,
          -0.42232256524160017,
          -0.23247235325165788,
          -0.5501274362477996,
          -0.5539348275350594,
          -0.48714020922723344,
          -0.3073581884988875,
          -0.22836130285067674,
          -0.4919422941821955,
          -0.4871115088143018,
          -0.4223172968437239,
          -0.2283711138347486,
          -0.4873046696161699,
          -0.4870993601017092,
          -0.18846390281519518,
          -0.12666174865207436,
          0.06790052766538181,
          -0.28684175618092594,
          -0.4871711583041453,
          -0.32014772849099227,
          5.210026672794656,
          -0.29538404032659865,
          -0.4223052734460655,
          -0.5261874166746744,
          -0.25327204922924135,
          -0.17695748471910652,
          -0.5412015634137542,
          -0.4870988937056276,
          -0.4870991206205516,
          -0.2533569652275193,
          -0.1472735133822254,
          -0.19952973984331648,
          -0.487103020639555,
          0.024961707805092288,
          -0.46224523292671954,
          -0.19952659338645148,
          0.08447572096946336,
          -0.48780801237942784,
          -0.3750740289350057,
          -0.25326794518972856,
          -0.4902645063583181,
          -0.25326191201359766,
          -0.6059739317033275,
          -0.48710977075779915,
          -0.34934983001531156,
          -0.36613863419513326,
          -0.2284043104405185,
          -0.10806632255975147,
          -0.21114593943247748,
          -0.14937634938027247,
          -0.22835903867387916,
          -0.4621992029624313,
          -0.2544997806578228,
          -0.14716793075106613,
          -0.22837881760974799,
          -0.4871733698797222,
          -0.1884699248702637,
          -0.42231388651352025,
          -0.25330152291659225,
          -0.1995357497782372,
          -0.34004355893132543,
          -0.1884697416769562,
          -0.48867456572283074,
          0.19517136245932568,
          6.1958329426753975,
          -0.29234658192255636,
          -0.50182594343059,
          -0.1925362396081614,
          -0.46220975865137487,
          0.16795797449927302,
          -0.4871035175913274,
          -0.4622031482891813,
          -0.22835725811202637,
          -0.4999039217195269,
          -0.18846293302528647,
          -0.48710952147551245,
          -0.52626681333003,
          -0.606539026988056,
          -0.42233749033418316,
          -0.42231075785911343,
          -0.2326777264135747,
          -0.49330226504993807,
          -0.42236035584983356,
          -0.4871140336935632,
          -0.48710733890198077,
          -0.10804783908661397,
          -0.4871007530776418,
          -0.42244304739815747,
          -0.4881036746586126,
          -0.346148573892614,
          -0.4224935626369947,
          -0.4871137835530239,
          -0.4872236528550181,
          -0.42236591078623575,
          -0.48713478681546385,
          -0.19951964893833074,
          -0.06443753631038798,
          -0.34191227102252636,
          -0.2324075199826332,
          -0.2563615292535906,
          -0.48718022725088234,
          -0.2783016741490933,
          -0.5538759532076979,
          -0.23260897314309842,
          -0.23263308605462707,
          -0.10835564858903572,
          -0.19952091525876622,
          -0.3797973383817284,
          -0.12989307486624926,
          -0.48712041240196485,
          -0.2532569702211602
         ]
        },
        {
         "customdata": [
          [
           "SHA-256"
          ],
          [
           "Ethash"
          ],
          [
           "Scrypt"
          ],
          [
           "CryptoNight-V7"
          ],
          [
           "Ethash"
          ],
          [
           "Equihash"
          ],
          [
           "Multiple"
          ],
          [
           "Scrypt"
          ],
          [
           "X11"
          ],
          [
           "Scrypt"
          ],
          [
           "Multiple"
          ],
          [
           "Scrypt"
          ],
          [
           "SHA-256"
          ],
          [
           "Scrypt"
          ],
          [
           "Scrypt"
          ],
          [
           "Quark"
          ],
          [
           "Groestl"
          ],
          [
           "Scrypt"
          ],
          [
           "Scrypt"
          ],
          [
           "Scrypt"
          ],
          [
           "X11"
          ],
          [
           "Multiple"
          ],
          [
           "SHA-256"
          ],
          [
           "Scrypt"
          ],
          [
           "Scrypt"
          ],
          [
           "Scrypt"
          ],
          [
           "Scrypt"
          ],
          [
           "Scrypt"
          ],
          [
           "NeoScrypt"
          ],
          [
           "Scrypt"
          ],
          [
           "Scrypt"
          ],
          [
           "Scrypt"
          ],
          [
           "Scrypt"
          ],
          [
           "SHA-256"
          ],
          [
           "Scrypt"
          ],
          [
           "Scrypt"
          ],
          [
           "Scrypt"
          ],
          [
           "Scrypt"
          ],
          [
           "HybridScryptHash256"
          ],
          [
           "Scrypt"
          ],
          [
           "Scrypt"
          ],
          [
           "SHA-256"
          ],
          [
           "Scrypt"
          ],
          [
           "Scrypt"
          ],
          [
           "Scrypt"
          ],
          [
           "Scrypt"
          ],
          [
           "SHA-256"
          ],
          [
           "SHA-256"
          ],
          [
           "SHA-256"
          ],
          [
           "SHA-256"
          ],
          [
           "SHA-256"
          ],
          [
           "X11"
          ],
          [
           "Scrypt"
          ],
          [
           "Lyra2REv2"
          ],
          [
           "Scrypt"
          ],
          [
           "SHA-256"
          ],
          [
           "CryptoNight"
          ],
          [
           "CryptoNight"
          ],
          [
           "Scrypt"
          ],
          [
           "Scrypt"
          ],
          [
           "Scrypt"
          ],
          [
           "Scrypt"
          ],
          [
           "Scrypt"
          ],
          [
           "Scrypt"
          ],
          [
           "Stanford Folding"
          ],
          [
           "Multiple"
          ],
          [
           "QuBit"
          ],
          [
           "Scrypt"
          ],
          [
           "Scrypt"
          ],
          [
           "M7 POW"
          ],
          [
           "Scrypt"
          ],
          [
           "SHA-256"
          ],
          [
           "Scrypt"
          ],
          [
           "X11"
          ],
          [
           "Lyra2RE"
          ],
          [
           "SHA-256"
          ],
          [
           "X11"
          ],
          [
           "Scrypt"
          ],
          [
           "Scrypt"
          ],
          [
           "Ethash"
          ],
          [
           "Blake2b"
          ],
          [
           "X11"
          ],
          [
           "SHA-256"
          ],
          [
           "Scrypt"
          ],
          [
           "1GB AES Pattern Search"
          ],
          [
           "Scrypt"
          ],
          [
           "SHA-256"
          ],
          [
           "X11"
          ],
          [
           "Dagger"
          ],
          [
           "Scrypt"
          ],
          [
           "X11GOST"
          ],
          [
           "Scrypt"
          ],
          [
           "X11"
          ],
          [
           "Scrypt"
          ],
          [
           "X11"
          ],
          [
           "Equihash"
          ],
          [
           "CryptoNight"
          ],
          [
           "SHA-256"
          ],
          [
           "Multiple"
          ],
          [
           "Scrypt"
          ],
          [
           "SHA-256"
          ],
          [
           "Scrypt"
          ],
          [
           "Lyra2Z"
          ],
          [
           "Ethash"
          ],
          [
           "Equihash"
          ],
          [
           "Scrypt"
          ],
          [
           "X11"
          ],
          [
           "X11"
          ],
          [
           "CryptoNight"
          ],
          [
           "Scrypt"
          ],
          [
           "CryptoNight"
          ],
          [
           "Lyra2RE"
          ],
          [
           "X11"
          ],
          [
           "CryptoNight-V7"
          ],
          [
           "Scrypt"
          ],
          [
           "X11"
          ],
          [
           "Equihash"
          ],
          [
           "Scrypt"
          ],
          [
           "Lyra2RE"
          ],
          [
           "Dagger-Hashimoto"
          ],
          [
           "Scrypt"
          ],
          [
           "NIST5"
          ],
          [
           "Scrypt"
          ],
          [
           "SHA-256"
          ],
          [
           "Scrypt"
          ],
          [
           "CryptoNight-V7"
          ],
          [
           "Argon2d"
          ],
          [
           "Blake2b"
          ],
          [
           "Cloverhash"
          ],
          [
           "CryptoNight"
          ],
          [
           "X11"
          ],
          [
           "Scrypt"
          ],
          [
           "Scrypt"
          ],
          [
           "X11"
          ],
          [
           "X11"
          ],
          [
           "CryptoNight"
          ],
          [
           "Time Travel"
          ],
          [
           "Scrypt"
          ],
          [
           "Keccak"
          ],
          [
           "X11"
          ],
          [
           "SHA-256"
          ],
          [
           "Scrypt"
          ],
          [
           "Scrypt"
          ],
          [
           "Scrypt"
          ],
          [
           "Scrypt"
          ],
          [
           "Scrypt"
          ],
          [
           "Scrypt"
          ],
          [
           "CryptoNight"
          ],
          [
           "Equihash"
          ],
          [
           "X11"
          ],
          [
           "NeoScrypt"
          ],
          [
           "Equihash"
          ],
          [
           "Dagger"
          ],
          [
           "Scrypt"
          ],
          [
           "X11"
          ],
          [
           "NeoScrypt"
          ],
          [
           "Ethash"
          ],
          [
           "NeoScrypt"
          ],
          [
           "Multiple"
          ],
          [
           "CryptoNight"
          ],
          [
           "CryptoNight"
          ],
          [
           "Ethash"
          ],
          [
           "X11"
          ],
          [
           "CryptoNight-V7"
          ],
          [
           "Scrypt"
          ],
          [
           "BLAKE256"
          ],
          [
           "X11"
          ],
          [
           "NeoScrypt"
          ],
          [
           "NeoScrypt"
          ],
          [
           "Scrypt"
          ],
          [
           "X11"
          ],
          [
           "SHA-256"
          ],
          [
           "C11"
          ],
          [
           "CryptoNight"
          ],
          [
           "SkunkHash"
          ],
          [
           "CryptoNight"
          ],
          [
           "Scrypt"
          ],
          [
           "Dagger"
          ],
          [
           "Lyra2REv2"
          ],
          [
           "Scrypt"
          ],
          [
           "Scrypt"
          ],
          [
           "X11"
          ],
          [
           "Ethash"
          ],
          [
           "CryptoNight"
          ],
          [
           "Scrypt"
          ],
          [
           "IMesh"
          ],
          [
           "Equihash"
          ],
          [
           "Lyra2Z"
          ],
          [
           "X11"
          ],
          [
           "CryptoNight"
          ],
          [
           "NIST5"
          ],
          [
           "Lyra2RE"
          ],
          [
           "Tribus"
          ],
          [
           "Lyra2Z"
          ],
          [
           "CryptoNight"
          ],
          [
           "CryptoNight Heavy"
          ],
          [
           "CryptoNight"
          ],
          [
           "Jump Consistent Hash"
          ],
          [
           "CryptoNight"
          ],
          [
           "X16R"
          ],
          [
           "HMQ1725"
          ],
          [
           "X11"
          ],
          [
           "Scrypt"
          ],
          [
           "CryptoNight-V7"
          ],
          [
           "Cryptonight-GPU"
          ],
          [
           "XEVAN"
          ],
          [
           "CryptoNight Heavy"
          ],
          [
           "SHA-256"
          ],
          [
           "X11"
          ],
          [
           "X16R"
          ],
          [
           "Equihash"
          ],
          [
           "Lyra2Z"
          ],
          [
           "SHA-256"
          ],
          [
           "CryptoNight"
          ],
          [
           "Blake"
          ],
          [
           "Blake"
          ],
          [
           "Exosis"
          ],
          [
           "Scrypt"
          ],
          [
           "Equihash"
          ],
          [
           "Equihash"
          ],
          [
           "QuBit"
          ],
          [
           "SHA-256"
          ],
          [
           "X13"
          ],
          [
           "SHA-256"
          ],
          [
           "Scrypt"
          ],
          [
           "NeoScrypt"
          ],
          [
           "Blake"
          ],
          [
           "Scrypt"
          ],
          [
           "SHA-256"
          ],
          [
           "Scrypt"
          ],
          [
           "Groestl"
          ],
          [
           "Scrypt"
          ],
          [
           "Scrypt"
          ],
          [
           "Multiple"
          ],
          [
           "Equihash+Scrypt"
          ],
          [
           "Ethash"
          ],
          [
           "CryptoNight"
          ],
          [
           "Equihash"
          ]
         ],
         "hovertemplate": "<b>%{hovertext}</b><br><br>Class=%{marker.color}<br>PC 1=%{x}<br>PC 2=%{y}<br>PC 3=%{z}<br>Algorithm=%{customdata[0]}<extra></extra>",
         "hovertext": [
          "Bitcoin",
          "Ethereum",
          "Litecoin",
          "Monero",
          "Ethereum Classic",
          "ZCash",
          "DigiByte",
          "ProsperCoin",
          "Spreadcoin",
          "Argentum",
          "MyriadCoin",
          "MoonCoin",
          "ZetaCoin",
          "SexCoin",
          "Quatloo",
          "QuarkCoin",
          "Riecoin",
          "Digitalcoin ",
          "Catcoin",
          "CannaCoin",
          "CryptCoin",
          "Verge",
          "DevCoin",
          "EarthCoin",
          "E-Gulden",
          "Einsteinium",
          "Emerald",
          "Franko",
          "FeatherCoin",
          "GrandCoin",
          "GlobalCoin",
          "GoldCoin",
          "Infinite Coin",
          "IXcoin",
          "KrugerCoin",
          "LuckyCoin",
          "Litebar ",
          "MegaCoin",
          "MediterraneanCoin",
          "MinCoin",
          "NobleCoin",
          "Namecoin",
          "NyanCoin",
          "RonPaulCoin",
          "StableCoin",
          "SmartCoin",
          "SysCoin",
          "TigerCoin",
          "TerraCoin",
          "UnbreakableCoin",
          "Unobtanium",
          "UroCoin",
          "ViaCoin",
          "Vertcoin",
          "WorldCoin",
          "JouleCoin",
          "ByteCoin",
          "DigitalNote ",
          "MonaCoin",
          "Gulden",
          "PesetaCoin",
          "Wild Beast Coin",
          "Flo",
          "ArtByte",
          "Folding Coin",
          "Unitus",
          "CypherPunkCoin",
          "OmniCron",
          "GreenCoin",
          "Cryptonite",
          "MasterCoin",
          "SoonCoin",
          "1Credit",
          "MarsCoin ",
          "Crypto",
          "Anarchists Prime",
          "BowsCoin",
          "Song Coin",
          "BitZeny",
          "Expanse",
          "Siacoin",
          "MindCoin",
          "I0coin",
          "Revolution VR",
          "HOdlcoin",
          "Gamecredits",
          "CarpeDiemCoin",
          "Adzcoin",
          "SoilCoin",
          "YoCoin",
          "SibCoin",
          "Francs",
          "BolivarCoin",
          "Omni",
          "PizzaCoin",
          "Komodo",
          "Karbo",
          "ZayedCoin",
          "Circuits of Value",
          "DopeCoin",
          "DollarCoin",
          "Shilling",
          "ZCoin",
          "Elementrem",
          "ZClassic",
          "KiloCoin",
          "ArtexCoin",
          "Kurrent",
          "Cannabis Industry Coin",
          "OsmiumCoin",
          "Bikercoins",
          "HexxCoin",
          "PacCoin",
          "Citadel",
          "BeaverCoin",
          "VaultCoin",
          "Zero",
          "Canada eCoin",
          "Zoin",
          "DubaiCoin",
          "EB3coin",
          "Coinonat",
          "BenjiRolls",
          "ILCoin",
          "EquiTrader",
          "Quantum Resistant Ledger",
          "Dynamic",
          "Nano",
          "ChanCoin",
          "Dinastycoin",
          "DigitalPrice",
          "Unify",
          "SocialCoin",
          "ArcticCoin",
          "DAS",
          "LeviarCoin",
          "Bitcore",
          "gCn Coin",
          "SmartCash",
          "Onix",
          "Bitcoin Cash",
          "Sojourn Coin",
          "NewYorkCoin",
          "FrazCoin",
          "Kronecoin",
          "AdCoin",
          "Linx",
          "Sumokoin",
          "BitcoinZ",
          "Elements",
          "VIVO Coin",
          "Bitcoin Gold",
          "Pirl",
          "eBoost",
          "Pura",
          "Innova",
          "Ellaism",
          "GoByte",
          "SHIELD",
          "UltraNote",
          "BitCoal",
          "DaxxCoin",
          "AC3",
          "Lethean",
          "PopularCoin",
          "Photon",
          "Sucre",
          "SparksPay",
          "GunCoin",
          "IrishCoin",
          "Pioneer Coin",
          "UnitedBitcoin",
          "Interzone",
          "TurtleCoin",
          "MUNcoin",
          "Niobio Cash",
          "ShareChain",
          "Travelflex",
          "KREDS",
          "BitFlip",
          "LottoCoin",
          "Crypto Improvement Fund",
          "Callisto Network",
          "BitTube",
          "Poseidon",
          "Aidos Kuneen",
          "Bitrolium",
          "Alpenschillling",
          "FuturoCoin",
          "Monero Classic",
          "Jumpcoin",
          "Infinex",
          "KEYCO",
          "GINcoin",
          "PlatinCoin",
          "Loki",
          "Newton Coin",
          "MassGrid",
          "PluraCoin",
          "Motion",
          "PlusOneCoin",
          "Axe",
          "HexCoin",
          "Webchain",
          "Ryo",
          "Urals Coin",
          "Qwertycoin",
          "Project Pai",
          "Azart",
          "Xchange",
          "CrypticCoin",
          "Actinium",
          "Bitcoin SV",
          "FREDEnergy",
          "Universal Molecule",
          "Lithium",
          "Exosis",
          "Block-Logic",
          "Beam",
          "Bithereum",
          "SLICE",
          "BLAST",
          "Bitcoin Rhodium",
          "GlobalToken",
          "SolarCoin",
          "UFO Coin",
          "BlakeCoin",
          "Crypto Escudo",
          "Crown Coin",
          "SmileyCoin",
          "Groestlcoin",
          "Bata",
          "Pakcoin",
          "JoinCoin",
          "Vollar",
          "Reality Clash",
          "Beldex",
          "Horizen"
         ],
         "legendgroup": "1",
         "marker": {
          "color": [
           1,
           1,
           1,
           1,
           1,
           1,
           1,
           1,
           1,
           1,
           1,
           1,
           1,
           1,
           1,
           1,
           1,
           1,
           1,
           1,
           1,
           1,
           1,
           1,
           1,
           1,
           1,
           1,
           1,
           1,
           1,
           1,
           1,
           1,
           1,
           1,
           1,
           1,
           1,
           1,
           1,
           1,
           1,
           1,
           1,
           1,
           1,
           1,
           1,
           1,
           1,
           1,
           1,
           1,
           1,
           1,
           1,
           1,
           1,
           1,
           1,
           1,
           1,
           1,
           1,
           1,
           1,
           1,
           1,
           1,
           1,
           1,
           1,
           1,
           1,
           1,
           1,
           1,
           1,
           1,
           1,
           1,
           1,
           1,
           1,
           1,
           1,
           1,
           1,
           1,
           1,
           1,
           1,
           1,
           1,
           1,
           1,
           1,
           1,
           1,
           1,
           1,
           1,
           1,
           1,
           1,
           1,
           1,
           1,
           1,
           1,
           1,
           1,
           1,
           1,
           1,
           1,
           1,
           1,
           1,
           1,
           1,
           1,
           1,
           1,
           1,
           1,
           1,
           1,
           1,
           1,
           1,
           1,
           1,
           1,
           1,
           1,
           1,
           1,
           1,
           1,
           1,
           1,
           1,
           1,
           1,
           1,
           1,
           1,
           1,
           1,
           1,
           1,
           1,
           1,
           1,
           1,
           1,
           1,
           1,
           1,
           1,
           1,
           1,
           1,
           1,
           1,
           1,
           1,
           1,
           1,
           1,
           1,
           1,
           1,
           1,
           1,
           1,
           1,
           1,
           1,
           1,
           1,
           1,
           1,
           1,
           1,
           1,
           1,
           1,
           1,
           1,
           1,
           1,
           1,
           1,
           1,
           1,
           1,
           1,
           1,
           1,
           1,
           1,
           1,
           1,
           1,
           1,
           1,
           1,
           1,
           1,
           1,
           1,
           1,
           1,
           1,
           1,
           1,
           1,
           1,
           1,
           1,
           1,
           1,
           1,
           1,
           1,
           1,
           1,
           1,
           1,
           1,
           1,
           1,
           1,
           1,
           1
          ],
          "coloraxis": "coloraxis",
          "symbol": "diamond"
         },
         "mode": "markers",
         "name": "1",
         "scene": "scene",
         "showlegend": true,
         "type": "scatter3d",
         "x": [
          -0.1446523121566952,
          -0.14611262100211148,
          -0.16638044335013502,
          -0.15580056361377312,
          -0.144551098974456,
          -0.14141132530229222,
          0.17393816952147642,
          -0.16752877058468937,
          -0.23138624470887062,
          -0.16714448699195528,
          -0.07995784929168331,
          2.560632304383468,
          -0.14173200445738876,
          -0.16439468841315005,
          -0.1669480159296969,
          -0.2197745528365733,
          -0.20942653107122533,
          -0.16699715584138033,
          -0.16751100988108303,
          -0.167597640295695,
          -0.23147573307657413,
          0.1976978548894752,
          0.23388312006663853,
          0.08158426883778588,
          -0.16734350816368804,
          -0.16294061195534285,
          -0.16728264776002327,
          -0.16765474001043384,
          -0.1819637957151567,
          -0.14683773539774958,
          -0.1664476953260126,
          -0.16672554825373226,
          1.5844057913126837,
          -0.14461362337847777,
          -0.16400975472170384,
          -0.16736999530490104,
          -0.1677254499496043,
          -0.16698335211748194,
          -0.15530232679527195,
          -0.16760648815880203,
          -0.032222669706167,
          -0.14469135086435603,
          -0.16125899218679302,
          -0.16758583587101872,
          -0.16567599427093593,
          -0.16707163333490951,
          -0.13181912871204174,
          -0.14415416264659167,
          -0.1444418289108956,
          -0.1444245715454189,
          -0.14501662266743148,
          -0.23164999211347484,
          -0.16730188668728452,
          -0.1806260294966261,
          -0.16439932155814357,
          -0.14422157029750976,
          3.872362426201165,
          0.46521162626585894,
          -0.16616730638356264,
          -0.15073402072264316,
          -0.1648838443113022,
          -0.16772765530405762,
          -0.16474871673312105,
          -0.15094680711368857,
          -0.12811794502934543,
          -0.11402707982823734,
          -0.18507169654932984,
          -0.16760053743976921,
          -0.04029006417408992,
          -0.11510103593728592,
          -0.16773657269800363,
          -0.14471917026017794,
          0.4859271061130829,
          -0.23103606647930253,
          -0.15918854466182963,
          -0.1444584537359509,
          -0.231321463121149,
          -0.1658563327858534,
          -0.16504713044942596,
          -0.1471815921814028,
          0.37080010695975363,
          -0.23135694171755494,
          -0.14461474742181538,
          -0.1636871480732969,
          -0.1371266900995074,
          -0.16629728471258798,
          0.2746229541806119,
          -0.2305160112651373,
          -0.1475613861886338,
          -0.1665446037165473,
          -0.1296933928972231,
          -0.16752605729109507,
          -0.23132007854570372,
          -0.16773663129828068,
          -0.23147027579749907,
          -0.2333447145043648,
          0.3098256188252549,
          -0.14487528871133235,
          -0.09406267526770672,
          -0.16489793590126894,
          -0.14483385085849965,
          -0.16739935673103187,
          -0.14986185589821457,
          -0.14692330735033557,
          -0.1414329749758658,
          -0.09429528904582095,
          -0.218030653765842,
          -0.22929399693326397,
          0.30982003661872526,
          -0.16771832969691897,
          0.30995097250561454,
          -0.1597301212350456,
          0.4854209889561359,
          -0.15456235484001588,
          -0.1676865653185831,
          -0.22418784186991197,
          -0.1414453911325913,
          -0.16581646675148,
          -0.15944801401091044,
          -0.1388801870613584,
          -0.13854371282446568,
          -0.20093097018602452,
          -0.1672480999712257,
          -0.11113549551919792,
          -0.16706968969890837,
          -0.15442032918920198,
          -0.15756074557392985,
          -0.030105112727534376,
          -0.1628982389357724,
          0.34600776756231644,
          -0.23052432685797974,
          -0.16738973147069366,
          -0.16715243949254907,
          -0.23091982901812616,
          -0.23149838523413505,
          0.31021580715042507,
          -0.1474902254478993,
          3.248240569696991,
          -0.12128163518834321,
          -0.22235061591863436,
          -0.14465147511259188,
          -0.0931384528384713,
          1.5819190268793983,
          -0.1674877225857158,
          -0.16693817580377068,
          -0.16663860915858128,
          -0.166625520359841,
          0.31039989156240755,
          0.07132012458634134,
          -0.18580639857378917,
          -0.18666135822068652,
          -0.14129118741383648,
          -0.14631789445519275,
          -0.165814673203453,
          -0.22703421519622233,
          -0.18650643498085243,
          -0.14528460631361076,
          -0.1866068660203129,
          -0.1042404184208285,
          1.1495078516647161,
          0.30980273219905347,
          -0.07000549669629694,
          -0.22677426811785353,
          -0.14351090483541895,
          -0.08372128609273356,
          1.1045548143246833,
          -0.23147233950481114,
          -0.1866589471235153,
          -0.17968360024501231,
          -0.1667373442173816,
          -0.2313976162668887,
          -0.1446308461328219,
          -0.20810027217089047,
          8.064976156588697,
          -0.1303521293718934,
          0.3136848399926576,
          0.025651701105224686,
          -0.14582067854119488,
          -0.16615653484883905,
          -0.16731207070120313,
          0.14033158922256808,
          -0.22552698565178794,
          -0.09821708759183966,
          0.31774340917825006,
          -0.1675495465859969,
          -0.14966308434607573,
          -0.14028047847901237,
          -0.147640448259048,
          -0.23056516089549928,
          0.30998555993305804,
          -0.2009906753217053,
          -0.15957503409455256,
          -0.14573332001356593,
          -0.1499464213689573,
          0.31392299098506027,
          0.5788757283292961,
          2.122240980382316,
          -0.14030918440081458,
          0.32361659641788704,
          -0.18977183490614624,
          -0.14344558095564836,
          -0.2314544659962499,
          -0.16757415933725464,
          -0.14338636830413012,
          -0.14786182103927223,
          -0.12078409267552494,
          3.106283261316483,
          -0.10440680363615575,
          -0.23142576578734725,
          -0.18919825340472715,
          -0.03583563402538943,
          -0.14934284931566666,
          -0.14465151273480759,
          0.3899117093463335,
          -0.14029780941170616,
          -0.14069087659468832,
          -0.15007537715553115,
          -0.16646423057982107,
          -0.13934699663289796,
          -0.14112369787732296,
          -0.18428091379011308,
          -0.14392631880874662,
          -0.11305869687783648,
          -0.1427919604387478,
          0.5299473248910348,
          -0.11168902130561002,
          -0.09104213715563989,
          -0.15109762081315364,
          -0.14444119841045083,
          0.549465544480657,
          -0.2089867493171459,
          -0.1676512102763415,
          -0.16560283453247904,
          -0.11476306010910915,
          -0.13487452185645565,
          -0.1469565256801801,
          0.3316005574215599,
          -0.14141238384768892
         ],
         "y": [
          -1.355199411274698,
          -2.023783393069302,
          -1.1044292419789927,
          -2.2135638211100264,
          -2.0238750597890864,
          -2.018468024121074,
          -1.8118030686166444,
          -1.104427167230128,
          -0.9481388351202144,
          -1.1044435233401506,
          -1.8077209172267983,
          -1.2767879877675967,
          -1.3551965273126285,
          -1.1044736017372738,
          -1.1044619010057466,
          -0.44535671696637597,
          -1.2788735374399984,
          -1.1044266987933653,
          -1.1044265030293008,
          -1.1044241261107564,
          -0.9481407525616055,
          -1.8077381828912746,
          -1.3560345637777007,
          -1.1047429532987418,
          -1.1044202389317865,
          -1.104454804377868,
          -1.1044258233804565,
          -1.104424900773507,
          -1.6466949281097432,
          -1.1046535231528558,
          -1.104421752795992,
          -1.1044337484695634,
          -1.1036362817605367,
          -1.3551979644221885,
          -1.1044702257946455,
          -1.1044205148899584,
          -1.104420480853688,
          -1.104421776428445,
          -2.1390825868443444,
          -1.104422213192664,
          -1.1100708963573889,
          -1.3552008712135846,
          -1.104418504513925,
          -1.1044293013128337,
          -1.104521519006199,
          -1.1044316521013893,
          -1.3553390329941502,
          -1.3551993696880167,
          -1.3552065461170466,
          -1.3552330550497682,
          -1.3551982077902098,
          -0.948134406796096,
          -1.1044201115787573,
          -1.2488228972597968,
          -1.1044847945088618,
          -1.3552004528199464,
          -2.318966339701572,
          -2.321712102214923,
          -1.104436363330037,
          -1.1049845903934095,
          -1.1044321453184585,
          -1.1044214765701232,
          -1.104422528570274,
          -1.1045066287780785,
          -2.2119993308652246,
          -1.8075658373043113,
          -1.589026062262544,
          -1.1044172538952297,
          -1.1067996588918285,
          -2.2664462814443613,
          -1.1044203747918826,
          -1.355201911581474,
          -1.1457167458020165,
          -0.9481350290625493,
          -2.20517634934227,
          -1.3552155713835723,
          -0.9481371270564455,
          -1.1044998511807576,
          -1.104498001251504,
          -2.023835450706229,
          -2.202887306409833,
          -0.9481348809215553,
          -1.3551980064582767,
          -1.1044185582156905,
          -2.2287074768360666,
          -1.1044261320776572,
          -1.3549585391109262,
          -0.9481520243891003,
          -2.2425416500079334,
          -1.1044956574708156,
          -2.2897113419884554,
          -1.1044263511733998,
          -0.948139933625614,
          -1.1044203748181707,
          -0.94814555058433,
          -1.3132983832647906,
          -2.320384380725577,
          -1.355199700867363,
          -1.8076767287310227,
          -1.104456692435708,
          -1.355198795977645,
          -1.104428758796565,
          -2.213578519609084,
          -2.023832436620205,
          -2.0184688337585426,
          -1.1088193038250573,
          -0.9479823750440304,
          -0.9482092250015931,
          -2.320392449942735,
          -1.1044211894772642,
          -2.320390411653831,
          -2.2051567366247493,
          -0.9927766609113587,
          -2.213649714166945,
          -1.1044204629969203,
          -0.9485699302771118,
          -2.0184664397397762,
          -1.104419584219363,
          -2.205154047059515,
          -2.2323514018173527,
          -1.1061865489350016,
          -0.6744387234416215,
          -1.1044270470218722,
          -1.3557174371625376,
          -1.1044464428266654,
          -2.2135872358346935,
          -2.218735494271463,
          -2.2181232059600253,
          -2.1249195934776433,
          -2.320453297523596,
          -0.9481637687628307,
          -1.1044207361781708,
          -1.1044516811997025,
          -0.9481499759572952,
          -0.9481422428175786,
          -2.3204012306021666,
          -2.2254896133780355,
          -1.1195893266785202,
          -1.2468149316341681,
          -0.948572681856475,
          -1.3551993799715762,
          -1.109133334928258,
          -1.0389876878338746,
          -1.104424917562232,
          -1.1044500996187263,
          -1.1044503300546196,
          -1.1044498405700167,
          -2.3204192775076597,
          -2.025503783576961,
          -0.9477062409280509,
          -1.6466497964420574,
          -2.0184635312987904,
          -2.242585404044747,
          -1.104419517145664,
          -0.9482118950883298,
          -1.6466568653125015,
          -2.0239525120173316,
          -1.6466511886037158,
          -1.80767147092795,
          -2.3497153631698824,
          -2.3203870230893977,
          -2.0280830697609646,
          -0.948345091213506,
          -2.2138184387209443,
          -1.104850930036527,
          -1.278526053931727,
          -0.9481419119082717,
          -1.6466454187510928,
          -1.6467268474382784,
          -1.1044282973348203,
          -0.9481414041461235,
          -1.3551980125395633,
          -1.255168569168458,
          -2.7449433212659824,
          -2.2131907672229976,
          -2.32047301200424,
          -1.1043336206066279,
          -2.2425265734896858,
          -1.2490077989786743,
          -1.1044326404133382,
          -1.1060524317394467,
          -0.9482627169692279,
          -2.02663704977524,
          -2.320795718664989,
          -1.1044279441946883,
          -2.221048075690833,
          -2.018460748369101,
          -2.2136945291212746,
          -0.9481652958420564,
          -2.3203844019055033,
          -0.674421482319469,
          -2.205162570276653,
          -2.1653091735841477,
          -2.2135738931225832,
          -2.3206527571873705,
          -2.1989866311121022,
          -2.384081978217012,
          -2.2769981729012296,
          -2.320576077826929,
          -1.1968275396905104,
          -2.219852742902775,
          -0.9481421009933826,
          -1.1044296544496968,
          -2.21435009223468,
          -2.224892105131667,
          -0.7706935739454753,
          -2.2361813273497213,
          -1.3551799679913301,
          -0.9481438860339707,
          -1.1968617730407334,
          -2.0199356431289552,
          -2.2136038433619873,
          -1.3551993813785423,
          -2.3231561020490488,
          -2.2370146911905096,
          -2.2369723015853404,
          -2.2252787327083334,
          -1.1044581005238128,
          -2.0185636111434837,
          -2.0184643320649576,
          -1.5890679479015422,
          -1.3552029883919898,
          -0.4045161945614589,
          -1.3552348836088963,
          -1.1484294936340438,
          -1.6466850945201343,
          -2.240099658649617,
          -1.1045122687902205,
          -1.3552065225380872,
          -1.113327926709578,
          -1.2788720971570462,
          -1.1044203127397088,
          -1.1044701911124835,
          -1.8075953617600267,
          -2.1431828124813435,
          -2.0238324515219404,
          -2.3205634938488786,
          -2.018468063707722
         ],
         "z": [
          0.13722388366296195,
          0.31315046018814285,
          -0.008003048881322717,
          0.3606016839656477,
          0.31313365663224946,
          0.4132405285612103,
          0.32554038769829324,
          -0.007984850482371433,
          0.056809501849274836,
          -0.007989540298913642,
          0.32924012251292123,
          -0.036251156863089586,
          0.13717687381576035,
          -0.008030873484134306,
          -0.007991042639628932,
          0.016839470831372154,
          0.009696376290947724,
          -0.007993403129242864,
          -0.007985194199938052,
          -0.007984019813402316,
          0.05681110591830948,
          0.32479659928308846,
          0.13123847056456117,
          -0.011944737686032051,
          -0.007988435810404221,
          -0.008055832736297397,
          -0.007988910874845698,
          -0.007983036431115424,
          0.20074541074322746,
          -0.00829586207508357,
          -0.00800264178143862,
          -0.007997121107779497,
          -0.03610276216207913,
          0.13722313493064983,
          -0.008037337813345246,
          -0.00798798709895374,
          -0.007982299570346562,
          -0.007994064191149931,
          0.4956228397120924,
          -0.007984049186169639,
          -0.00964643679405009,
          0.13722463916735642,
          -0.008085999568878375,
          -0.007983746115011903,
          -0.008006076756414899,
          -0.007991767957798266,
          0.13703091628890302,
          0.13721590493193683,
          0.1372211518550039,
          0.13722324555566534,
          0.1372296084153752,
          0.05681332834875794,
          -0.007989113525857338,
          0.3319373242811915,
          -0.008029798643276558,
          0.1372170809148957,
          0.2478315140896967,
          0.30262301145703907,
          -0.008005824379598271,
          -0.008203886957028008,
          -0.00802674878125783,
          -0.007982175244163857,
          -0.008029771842278436,
          -0.008243211611855877,
          0.36253241252240226,
          0.32977168161840187,
          0.15583905998553632,
          -0.007984587829031697,
          -0.009809742150633887,
          0.19181414250638873,
          -0.007982130985441947,
          0.1372251775477746,
          -0.014754793101854331,
          0.05680355547626711,
          0.3530642082880974,
          0.13722222489248467,
          0.05680831203689407,
          -0.00800512683632471,
          -0.008018246969217588,
          0.3131722277527606,
          0.20702096027824288,
          0.056808679212301955,
          0.1372231566839232,
          -0.00804712174974816,
          0.39620756266752444,
          -0.00800465822548145,
          0.13049005545877962,
          0.056796749202236034,
          0.3867582911723398,
          -0.007994483047280789,
          0.42935277921034665,
          -0.007984966878172297,
          0.05680854078659743,
          -0.007982130044943614,
          0.05681144750893412,
          0.761630768402434,
          0.30499192664586233,
          0.13722747924665182,
          0.32946197998160004,
          -0.008024328598736847,
          0.13722673495675275,
          -0.007986780013644662,
          0.37747649574396847,
          0.31316782333119714,
          0.4132409475408453,
          -0.00876459524177703,
          0.05658170050321464,
          0.05678229954477455,
          0.3049927374253148,
          -0.007982350207351468,
          0.30499045900736876,
          0.3530711251008559,
          0.04932469327054999,
          0.36058954023802126,
          -0.007982923681590058,
          0.0567328018387458,
          0.4132409322820239,
          -0.008012941171273468,
          0.35306636831316246,
          0.4700083292378129,
          -0.00829158624089207,
          -0.06208403309949538,
          -0.00798935456269996,
          0.13673361676880674,
          -0.0079904767385251,
          0.36058168075869734,
          0.3919222939236517,
          0.2148012980372592,
          0.4224256455501041,
          0.30441883800613645,
          0.05679793231131437,
          -0.007987651353392067,
          -0.007988683647871454,
          0.056803030896157194,
          0.056811601796335987,
          0.3049871864430492,
          0.4559106391774547,
          -0.06131330217170992,
          0.13820231564715565,
          0.05670363518071102,
          0.1372238674639002,
          -0.008755040023654468,
          -0.04184273027232378,
          -0.00798570875822048,
          -0.007992255252538397,
          -0.007997030496010877,
          -0.007997283799604665,
          0.3049858528326871,
          0.4104638701717245,
          0.05604112628098633,
          0.2008165804111326,
          0.413238203568711,
          0.3867422955127784,
          -0.008012975881270252,
          0.05674636078880568,
          0.20081473218056173,
          0.31315232401672977,
          0.20081583249390472,
          0.3296244482184741,
          0.2941715002862977,
          0.3049925292794807,
          0.3123164442938341,
          0.056754107359834514,
          0.3604276990078021,
          -0.009288661968044109,
          0.19683310319073927,
          0.05681115523877302,
          0.20081615043242804,
          0.20071176014866107,
          -0.007997419610838122,
          0.0568099135783566,
          0.1372234149563181,
          0.18373206668263975,
          0.21879443101316692,
          0.45894735861373587,
          0.30493806721242,
          -0.011085893343595653,
          0.38672907581674876,
          0.33172220891787924,
          -0.007987830371542616,
          -0.012768168434270883,
          0.056726774764398906,
          0.3126388128911824,
          0.3049019434071179,
          -0.007984448410653556,
          0.4019905955767899,
          0.413221774047991,
          0.3774513042162259,
          0.056798722560187316,
          0.304989367998055,
          -0.062084618671847586,
          0.35306916381408854,
          0.4745363314645534,
          0.3774774359540831,
          0.3049503243492751,
          0.2830115271927593,
          0.2816712261500549,
          0.2286785251294501,
          0.3047882813771346,
          0.3297514548191028,
          0.42019931858276627,
          0.05681088600161906,
          -0.007983901476363624,
          0.3604732366967628,
          0.29646911397438824,
          -0.04708531770139068,
          0.24587488024777018,
          0.13657784391657166,
          0.056810586120065974,
          0.3297453327593009,
          0.41168154773745724,
          0.377470450844222,
          0.1372238681919915,
          0.30395760656143594,
          0.33058800827830115,
          0.33059051124072886,
          0.23747242754607764,
          -0.00799912746742888,
          0.41321602592184414,
          0.4132355937733872,
          0.15583014482853796,
          0.1372125808400827,
          -0.07475980881509997,
          0.13719727211237967,
          -0.01521699709543922,
          0.19961948332339788,
          0.3300752660224452,
          -0.00824029295959226,
          0.13722113965311816,
          -0.01866765568282821,
          0.009689206937774872,
          -0.007983503123671479,
          -0.008011836859475714,
          0.3297861037053784,
          0.41910340444797767,
          0.313168356464872,
          0.3046593388953417,
          0.4132405490469218
         ]
        },
        {
         "customdata": [
          [
           "SHA-256 + Hive"
          ],
          [
           "Proof-of-Authority"
          ],
          [
           "Leased POS"
          ]
         ],
         "hovertemplate": "<b>%{hovertext}</b><br><br>Class=%{marker.color}<br>PC 1=%{x}<br>PC 2=%{y}<br>PC 3=%{z}<br>Algorithm=%{customdata[0]}<extra></extra>",
         "hovertext": [
          "LitecoinCash",
          "Poa Network",
          "Waves"
         ],
         "legendgroup": "3",
         "marker": {
          "color": [
           3,
           3,
           3
          ],
          "coloraxis": "coloraxis",
          "symbol": "square"
         },
         "mode": "markers",
         "name": "3",
         "scene": "scene",
         "showlegend": true,
         "type": "scatter3d",
         "x": [
          -0.4690004009029497,
          -0.3995729848888705,
          -0.3426475729103632
         ],
         "y": [
          2.631574264338281,
          2.761642203693289,
          3.757921346818266
         ],
         "z": [
          25.214349950347373,
          13.589252407445029,
          9.574894835644765
         ]
        },
        {
         "customdata": [
          [
           "TRC10"
          ]
         ],
         "hovertemplate": "<b>%{hovertext}</b><br><br>Class=%{marker.color}<br>PC 1=%{x}<br>PC 2=%{y}<br>PC 3=%{z}<br>Algorithm=%{customdata[0]}<extra></extra>",
         "hovertext": [
          "BitTorrent"
         ],
         "legendgroup": "2",
         "marker": {
          "color": [
           2
          ],
          "coloraxis": "coloraxis",
          "symbol": "x"
         },
         "mode": "markers",
         "name": "2",
         "scene": "scene",
         "showlegend": true,
         "type": "scatter3d",
         "x": [
          34.08691655107155
         ],
         "y": [
          1.755912571988987
         ],
         "z": [
          -0.7446408819918724
         ]
        }
       ],
       "layout": {
        "coloraxis": {
         "colorbar": {
          "title": {
           "text": "Class"
          }
         },
         "colorscale": [
          [
           0,
           "#0d0887"
          ],
          [
           0.1111111111111111,
           "#46039f"
          ],
          [
           0.2222222222222222,
           "#7201a8"
          ],
          [
           0.3333333333333333,
           "#9c179e"
          ],
          [
           0.4444444444444444,
           "#bd3786"
          ],
          [
           0.5555555555555556,
           "#d8576b"
          ],
          [
           0.6666666666666666,
           "#ed7953"
          ],
          [
           0.7777777777777778,
           "#fb9f3a"
          ],
          [
           0.8888888888888888,
           "#fdca26"
          ],
          [
           1,
           "#f0f921"
          ]
         ]
        },
        "legend": {
         "title": {
          "text": "Class"
         },
         "tracegroupgap": 0,
         "x": 0,
         "y": 1
        },
        "margin": {
         "t": 60
        },
        "scene": {
         "domain": {
          "x": [
           0,
           1
          ],
          "y": [
           0,
           1
          ]
         },
         "xaxis": {
          "title": {
           "text": "PC 1"
          }
         },
         "yaxis": {
          "title": {
           "text": "PC 2"
          }
         },
         "zaxis": {
          "title": {
           "text": "PC 3"
          }
         }
        },
        "template": {
         "data": {
          "bar": [
           {
            "error_x": {
             "color": "#2a3f5f"
            },
            "error_y": {
             "color": "#2a3f5f"
            },
            "marker": {
             "line": {
              "color": "#E5ECF6",
              "width": 0.5
             },
             "pattern": {
              "fillmode": "overlay",
              "size": 10,
              "solidity": 0.2
             }
            },
            "type": "bar"
           }
          ],
          "barpolar": [
           {
            "marker": {
             "line": {
              "color": "#E5ECF6",
              "width": 0.5
             },
             "pattern": {
              "fillmode": "overlay",
              "size": 10,
              "solidity": 0.2
             }
            },
            "type": "barpolar"
           }
          ],
          "carpet": [
           {
            "aaxis": {
             "endlinecolor": "#2a3f5f",
             "gridcolor": "white",
             "linecolor": "white",
             "minorgridcolor": "white",
             "startlinecolor": "#2a3f5f"
            },
            "baxis": {
             "endlinecolor": "#2a3f5f",
             "gridcolor": "white",
             "linecolor": "white",
             "minorgridcolor": "white",
             "startlinecolor": "#2a3f5f"
            },
            "type": "carpet"
           }
          ],
          "choropleth": [
           {
            "colorbar": {
             "outlinewidth": 0,
             "ticks": ""
            },
            "type": "choropleth"
           }
          ],
          "contour": [
           {
            "colorbar": {
             "outlinewidth": 0,
             "ticks": ""
            },
            "colorscale": [
             [
              0,
              "#0d0887"
             ],
             [
              0.1111111111111111,
              "#46039f"
             ],
             [
              0.2222222222222222,
              "#7201a8"
             ],
             [
              0.3333333333333333,
              "#9c179e"
             ],
             [
              0.4444444444444444,
              "#bd3786"
             ],
             [
              0.5555555555555556,
              "#d8576b"
             ],
             [
              0.6666666666666666,
              "#ed7953"
             ],
             [
              0.7777777777777778,
              "#fb9f3a"
             ],
             [
              0.8888888888888888,
              "#fdca26"
             ],
             [
              1,
              "#f0f921"
             ]
            ],
            "type": "contour"
           }
          ],
          "contourcarpet": [
           {
            "colorbar": {
             "outlinewidth": 0,
             "ticks": ""
            },
            "type": "contourcarpet"
           }
          ],
          "heatmap": [
           {
            "colorbar": {
             "outlinewidth": 0,
             "ticks": ""
            },
            "colorscale": [
             [
              0,
              "#0d0887"
             ],
             [
              0.1111111111111111,
              "#46039f"
             ],
             [
              0.2222222222222222,
              "#7201a8"
             ],
             [
              0.3333333333333333,
              "#9c179e"
             ],
             [
              0.4444444444444444,
              "#bd3786"
             ],
             [
              0.5555555555555556,
              "#d8576b"
             ],
             [
              0.6666666666666666,
              "#ed7953"
             ],
             [
              0.7777777777777778,
              "#fb9f3a"
             ],
             [
              0.8888888888888888,
              "#fdca26"
             ],
             [
              1,
              "#f0f921"
             ]
            ],
            "type": "heatmap"
           }
          ],
          "heatmapgl": [
           {
            "colorbar": {
             "outlinewidth": 0,
             "ticks": ""
            },
            "colorscale": [
             [
              0,
              "#0d0887"
             ],
             [
              0.1111111111111111,
              "#46039f"
             ],
             [
              0.2222222222222222,
              "#7201a8"
             ],
             [
              0.3333333333333333,
              "#9c179e"
             ],
             [
              0.4444444444444444,
              "#bd3786"
             ],
             [
              0.5555555555555556,
              "#d8576b"
             ],
             [
              0.6666666666666666,
              "#ed7953"
             ],
             [
              0.7777777777777778,
              "#fb9f3a"
             ],
             [
              0.8888888888888888,
              "#fdca26"
             ],
             [
              1,
              "#f0f921"
             ]
            ],
            "type": "heatmapgl"
           }
          ],
          "histogram": [
           {
            "marker": {
             "pattern": {
              "fillmode": "overlay",
              "size": 10,
              "solidity": 0.2
             }
            },
            "type": "histogram"
           }
          ],
          "histogram2d": [
           {
            "colorbar": {
             "outlinewidth": 0,
             "ticks": ""
            },
            "colorscale": [
             [
              0,
              "#0d0887"
             ],
             [
              0.1111111111111111,
              "#46039f"
             ],
             [
              0.2222222222222222,
              "#7201a8"
             ],
             [
              0.3333333333333333,
              "#9c179e"
             ],
             [
              0.4444444444444444,
              "#bd3786"
             ],
             [
              0.5555555555555556,
              "#d8576b"
             ],
             [
              0.6666666666666666,
              "#ed7953"
             ],
             [
              0.7777777777777778,
              "#fb9f3a"
             ],
             [
              0.8888888888888888,
              "#fdca26"
             ],
             [
              1,
              "#f0f921"
             ]
            ],
            "type": "histogram2d"
           }
          ],
          "histogram2dcontour": [
           {
            "colorbar": {
             "outlinewidth": 0,
             "ticks": ""
            },
            "colorscale": [
             [
              0,
              "#0d0887"
             ],
             [
              0.1111111111111111,
              "#46039f"
             ],
             [
              0.2222222222222222,
              "#7201a8"
             ],
             [
              0.3333333333333333,
              "#9c179e"
             ],
             [
              0.4444444444444444,
              "#bd3786"
             ],
             [
              0.5555555555555556,
              "#d8576b"
             ],
             [
              0.6666666666666666,
              "#ed7953"
             ],
             [
              0.7777777777777778,
              "#fb9f3a"
             ],
             [
              0.8888888888888888,
              "#fdca26"
             ],
             [
              1,
              "#f0f921"
             ]
            ],
            "type": "histogram2dcontour"
           }
          ],
          "mesh3d": [
           {
            "colorbar": {
             "outlinewidth": 0,
             "ticks": ""
            },
            "type": "mesh3d"
           }
          ],
          "parcoords": [
           {
            "line": {
             "colorbar": {
              "outlinewidth": 0,
              "ticks": ""
             }
            },
            "type": "parcoords"
           }
          ],
          "pie": [
           {
            "automargin": true,
            "type": "pie"
           }
          ],
          "scatter": [
           {
            "fillpattern": {
             "fillmode": "overlay",
             "size": 10,
             "solidity": 0.2
            },
            "type": "scatter"
           }
          ],
          "scatter3d": [
           {
            "line": {
             "colorbar": {
              "outlinewidth": 0,
              "ticks": ""
             }
            },
            "marker": {
             "colorbar": {
              "outlinewidth": 0,
              "ticks": ""
             }
            },
            "type": "scatter3d"
           }
          ],
          "scattercarpet": [
           {
            "marker": {
             "colorbar": {
              "outlinewidth": 0,
              "ticks": ""
             }
            },
            "type": "scattercarpet"
           }
          ],
          "scattergeo": [
           {
            "marker": {
             "colorbar": {
              "outlinewidth": 0,
              "ticks": ""
             }
            },
            "type": "scattergeo"
           }
          ],
          "scattergl": [
           {
            "marker": {
             "colorbar": {
              "outlinewidth": 0,
              "ticks": ""
             }
            },
            "type": "scattergl"
           }
          ],
          "scattermapbox": [
           {
            "marker": {
             "colorbar": {
              "outlinewidth": 0,
              "ticks": ""
             }
            },
            "type": "scattermapbox"
           }
          ],
          "scatterpolar": [
           {
            "marker": {
             "colorbar": {
              "outlinewidth": 0,
              "ticks": ""
             }
            },
            "type": "scatterpolar"
           }
          ],
          "scatterpolargl": [
           {
            "marker": {
             "colorbar": {
              "outlinewidth": 0,
              "ticks": ""
             }
            },
            "type": "scatterpolargl"
           }
          ],
          "scatterternary": [
           {
            "marker": {
             "colorbar": {
              "outlinewidth": 0,
              "ticks": ""
             }
            },
            "type": "scatterternary"
           }
          ],
          "surface": [
           {
            "colorbar": {
             "outlinewidth": 0,
             "ticks": ""
            },
            "colorscale": [
             [
              0,
              "#0d0887"
             ],
             [
              0.1111111111111111,
              "#46039f"
             ],
             [
              0.2222222222222222,
              "#7201a8"
             ],
             [
              0.3333333333333333,
              "#9c179e"
             ],
             [
              0.4444444444444444,
              "#bd3786"
             ],
             [
              0.5555555555555556,
              "#d8576b"
             ],
             [
              0.6666666666666666,
              "#ed7953"
             ],
             [
              0.7777777777777778,
              "#fb9f3a"
             ],
             [
              0.8888888888888888,
              "#fdca26"
             ],
             [
              1,
              "#f0f921"
             ]
            ],
            "type": "surface"
           }
          ],
          "table": [
           {
            "cells": {
             "fill": {
              "color": "#EBF0F8"
             },
             "line": {
              "color": "white"
             }
            },
            "header": {
             "fill": {
              "color": "#C8D4E3"
             },
             "line": {
              "color": "white"
             }
            },
            "type": "table"
           }
          ]
         },
         "layout": {
          "annotationdefaults": {
           "arrowcolor": "#2a3f5f",
           "arrowhead": 0,
           "arrowwidth": 1
          },
          "autotypenumbers": "strict",
          "coloraxis": {
           "colorbar": {
            "outlinewidth": 0,
            "ticks": ""
           }
          },
          "colorscale": {
           "diverging": [
            [
             0,
             "#8e0152"
            ],
            [
             0.1,
             "#c51b7d"
            ],
            [
             0.2,
             "#de77ae"
            ],
            [
             0.3,
             "#f1b6da"
            ],
            [
             0.4,
             "#fde0ef"
            ],
            [
             0.5,
             "#f7f7f7"
            ],
            [
             0.6,
             "#e6f5d0"
            ],
            [
             0.7,
             "#b8e186"
            ],
            [
             0.8,
             "#7fbc41"
            ],
            [
             0.9,
             "#4d9221"
            ],
            [
             1,
             "#276419"
            ]
           ],
           "sequential": [
            [
             0,
             "#0d0887"
            ],
            [
             0.1111111111111111,
             "#46039f"
            ],
            [
             0.2222222222222222,
             "#7201a8"
            ],
            [
             0.3333333333333333,
             "#9c179e"
            ],
            [
             0.4444444444444444,
             "#bd3786"
            ],
            [
             0.5555555555555556,
             "#d8576b"
            ],
            [
             0.6666666666666666,
             "#ed7953"
            ],
            [
             0.7777777777777778,
             "#fb9f3a"
            ],
            [
             0.8888888888888888,
             "#fdca26"
            ],
            [
             1,
             "#f0f921"
            ]
           ],
           "sequentialminus": [
            [
             0,
             "#0d0887"
            ],
            [
             0.1111111111111111,
             "#46039f"
            ],
            [
             0.2222222222222222,
             "#7201a8"
            ],
            [
             0.3333333333333333,
             "#9c179e"
            ],
            [
             0.4444444444444444,
             "#bd3786"
            ],
            [
             0.5555555555555556,
             "#d8576b"
            ],
            [
             0.6666666666666666,
             "#ed7953"
            ],
            [
             0.7777777777777778,
             "#fb9f3a"
            ],
            [
             0.8888888888888888,
             "#fdca26"
            ],
            [
             1,
             "#f0f921"
            ]
           ]
          },
          "colorway": [
           "#636efa",
           "#EF553B",
           "#00cc96",
           "#ab63fa",
           "#FFA15A",
           "#19d3f3",
           "#FF6692",
           "#B6E880",
           "#FF97FF",
           "#FECB52"
          ],
          "font": {
           "color": "#2a3f5f"
          },
          "geo": {
           "bgcolor": "white",
           "lakecolor": "white",
           "landcolor": "#E5ECF6",
           "showlakes": true,
           "showland": true,
           "subunitcolor": "white"
          },
          "hoverlabel": {
           "align": "left"
          },
          "hovermode": "closest",
          "mapbox": {
           "style": "light"
          },
          "paper_bgcolor": "white",
          "plot_bgcolor": "#E5ECF6",
          "polar": {
           "angularaxis": {
            "gridcolor": "white",
            "linecolor": "white",
            "ticks": ""
           },
           "bgcolor": "#E5ECF6",
           "radialaxis": {
            "gridcolor": "white",
            "linecolor": "white",
            "ticks": ""
           }
          },
          "scene": {
           "xaxis": {
            "backgroundcolor": "#E5ECF6",
            "gridcolor": "white",
            "gridwidth": 2,
            "linecolor": "white",
            "showbackground": true,
            "ticks": "",
            "zerolinecolor": "white"
           },
           "yaxis": {
            "backgroundcolor": "#E5ECF6",
            "gridcolor": "white",
            "gridwidth": 2,
            "linecolor": "white",
            "showbackground": true,
            "ticks": "",
            "zerolinecolor": "white"
           },
           "zaxis": {
            "backgroundcolor": "#E5ECF6",
            "gridcolor": "white",
            "gridwidth": 2,
            "linecolor": "white",
            "showbackground": true,
            "ticks": "",
            "zerolinecolor": "white"
           }
          },
          "shapedefaults": {
           "line": {
            "color": "#2a3f5f"
           }
          },
          "ternary": {
           "aaxis": {
            "gridcolor": "white",
            "linecolor": "white",
            "ticks": ""
           },
           "baxis": {
            "gridcolor": "white",
            "linecolor": "white",
            "ticks": ""
           },
           "bgcolor": "#E5ECF6",
           "caxis": {
            "gridcolor": "white",
            "linecolor": "white",
            "ticks": ""
           }
          },
          "title": {
           "x": 0.05
          },
          "xaxis": {
           "automargin": true,
           "gridcolor": "white",
           "linecolor": "white",
           "ticks": "",
           "title": {
            "standoff": 15
           },
           "zerolinecolor": "white",
           "zerolinewidth": 2
          },
          "yaxis": {
           "automargin": true,
           "gridcolor": "white",
           "linecolor": "white",
           "ticks": "",
           "title": {
            "standoff": 15
           },
           "zerolinecolor": "white",
           "zerolinewidth": 2
          }
         }
        },
        "width": 800
       }
      },
      "text/html": [
       "<div>                            <div id=\"0a2de073-e49e-486d-a55c-9074fc828e0d\" class=\"plotly-graph-div\" style=\"height:525px; width:800px;\"></div>            <script type=\"text/javascript\">                require([\"plotly\"], function(Plotly) {                    window.PLOTLYENV=window.PLOTLYENV || {};                                    if (document.getElementById(\"0a2de073-e49e-486d-a55c-9074fc828e0d\")) {                    Plotly.newPlot(                        \"0a2de073-e49e-486d-a55c-9074fc828e0d\",                        [{\"customdata\":[[\"Scrypt\"],[\"Scrypt\"],[\"X13\"],[\"X11\"],[\"SHA-512\"],[\"SHA-256\"],[\"SHA-256\"],[\"X15\"],[\"Scrypt\"],[\"Scrypt\"],[\"Scrypt\"],[\"Scrypt\"],[\"Scrypt\"],[\"Scrypt\"],[\"Groestl\"],[\"PoS\"],[\"Scrypt\"],[\"Scrypt\"],[\"X11\"],[\"X11\"],[\"SHA3\"],[\"Scrypt\"],[\"SHA-256\"],[\"Scrypt\"],[\"X13\"],[\"X13\"],[\"NeoScrypt\"],[\"Scrypt\"],[\"Scrypt\"],[\"Scrypt\"],[\"X11\"],[\"X11\"],[\"Multiple\"],[\"PHI1612\"],[\"X11\"],[\"Scrypt\"],[\"Scrypt\"],[\"Scrypt\"],[\"X11\"],[\"Multiple\"],[\"X13\"],[\"Scrypt\"],[\"Shabal256\"],[\"Counterparty\"],[\"SHA-256\"],[\"Groestl\"],[\"Scrypt\"],[\"X13\"],[\"Scrypt\"],[\"Scrypt\"],[\"X13\"],[\"X11\"],[\"Scrypt\"],[\"X11\"],[\"SHA3\"],[\"QUAIT\"],[\"X11\"],[\"Scrypt\"],[\"X13\"],[\"SHA-256\"],[\"X15\"],[\"BLAKE256\"],[\"SHA-256\"],[\"X11\"],[\"SHA-256\"],[\"NIST5\"],[\"Scrypt\"],[\"Scrypt\"],[\"X11\"],[\"Scrypt\"],[\"SHA-256\"],[\"Scrypt\"],[\"PoS\"],[\"X11\"],[\"SHA-256\"],[\"SHA-256\"],[\"NIST5\"],[\"X11\"],[\"POS 3.0\"],[\"Scrypt\"],[\"Scrypt\"],[\"Scrypt\"],[\"X13\"],[\"X11\"],[\"X11\"],[\"Scrypt\"],[\"SHA-256\"],[\"X11\"],[\"Scrypt\"],[\"Scrypt\"],[\"Scrypt\"],[\"Scrypt\"],[\"SHA-256D\"],[\"PoS\"],[\"Scrypt\"],[\"X11\"],[\"PoS\"],[\"X13\"],[\"X14\"],[\"PoS\"],[\"SHA-256D\"],[\"DPoS\"],[\"X11\"],[\"X13\"],[\"X11\"],[\"PoS\"],[\"Scrypt\"],[\"Scrypt\"],[\"PoS\"],[\"X11\"],[\"SHA-256\"],[\"Scrypt\"],[\"X11\"],[\"Scrypt\"],[\"Scrypt\"],[\"X11\"],[\"Scrypt\"],[\"Scrypt\"],[\"Scrypt\"],[\"Scrypt\"],[\"Quark\"],[\"QuBit\"],[\"Scrypt\"],[\"SHA-256\"],[\"X11\"],[\"Scrypt\"],[\"Scrypt\"],[\"Scrypt\"],[\"Scrypt\"],[\"X13\"],[\"Scrypt\"],[\"Scrypt\"],[\"X11\"],[\"Blake2S\"],[\"X11\"],[\"PoS\"],[\"X11\"],[\"PoS\"],[\"X11\"],[\"Scrypt\"],[\"Scrypt\"],[\"Scrypt\"],[\"SHA-256\"],[\"X11\"],[\"Scrypt\"],[\"PoS\"],[\"Scrypt\"],[\"X15\"],[\"SHA-256\"],[\"POS 3.0\"],[\"536\"],[\"NIST5\"],[\"NIST5\"],[\"Skein\"],[\"X13\"],[\"Scrypt\"],[\"X13\"],[\"SkunkHash v2 Raptor\"],[\"Skein\"],[\"X11\"],[\"Scrypt\"],[\"VeChainThor Authority\"],[\"PoS\"],[\"Scrypt\"],[\"Scrypt\"],[\"SHA-512\"],[\"Ouroboros\"],[\"X11\"],[\"NeoScrypt\"],[\"Scrypt\"],[\"Lyra2REv2\"],[\"Scrypt\"],[\"SHA-256\"],[\"NIST5\"],[\"PHI1612\"],[\"Scrypt\"],[\"Quark\"],[\"POS 2.0\"],[\"Scrypt\"],[\"SHA-256\"],[\"X11\"],[\"DPoS\"],[\"NIST5\"],[\"X13\"],[\"Scrypt\"],[\"NIST5\"],[\"Quark\"],[\"Scrypt\"],[\"Scrypt\"],[\"X11\"],[\"Quark\"],[\"Scrypt\"],[\"Scrypt\"],[\"X11\"],[\"POS 3.0\"],[\"Ethash\"],[\"Scrypt\"],[\"Scrypt\"],[\"X13\"],[\"Proof-of-BibleHash\"],[\"C11\"],[\"X11\"],[\"XEVAN\"],[\"Scrypt\"],[\"VBFT\"],[\"NIST5\"],[\"Scrypt\"],[\"Scrypt\"],[\"Scrypt\"],[\"Green Protocol\"],[\"PoS\"],[\"Scrypt\"],[\"Semux BFT consensus\"],[\"Quark\"],[\"PoS\"],[\"X16R\"],[\"Scrypt\"],[\"XEVAN\"],[\"Scrypt\"],[\"Scrypt\"],[\"Scrypt\"],[\"SHA-256D\"],[\"Scrypt\"],[\"X15\"],[\"Scrypt\"],[\"Quark\"],[\"SHA-256\"],[\"DPoS\"],[\"X16R\"],[\"Quark\"],[\"Quark\"],[\"Scrypt\"],[\"Lyra2REv2\"],[\"Quark\"],[\"Scrypt\"],[\"X11\"],[\"X11\"],[\"Scrypt\"],[\"PoS\"],[\"Keccak\"],[\"X11\"],[\"Scrypt\"],[\"SHA-512\"],[\"ECC 256K1\"],[\"XEVAN\"],[\"XEVAN\"],[\"X11\"],[\"Quark\"],[\"Equihash\"],[\"Scrypt\"],[\"Quark\"],[\"Quark\"],[\"Scrypt\"],[\"X11\"],[\"Scrypt\"],[\"XEVAN\"],[\"SHA-256D\"],[\"X11\"],[\"X11\"],[\"DPoS\"],[\"Scrypt\"],[\"X11\"],[\"Scrypt\"],[\"Scrypt\"],[\"SHA-256\"],[\"Scrypt\"],[\"X11\"],[\"Scrypt\"],[\"SHA-256\"],[\"X11\"],[\"Scrypt\"],[\"Scrypt\"],[\"X11\"],[\"Scrypt\"],[\"PoS\"],[\"X11\"],[\"SHA-256\"],[\"DPoS\"],[\"Scrypt\"],[\"Scrypt\"],[\"NeoScrypt\"],[\"X13\"],[\"DPoS\"],[\"DPoS\"],[\"SHA-256\"],[\"PoS\"],[\"PoS\"],[\"SHA-256\"],[\"Scrypt\"],[\"Scrypt\"]],\"hovertemplate\":\"<b>%{hovertext}</b><br><br>Class=%{marker.color}<br>PC 1=%{x}<br>PC 2=%{y}<br>PC 3=%{z}<br>Algorithm=%{customdata[0]}<extra></extra>\",\"hovertext\":[\"42 Coin\",\"404Coin\",\"EliteCoin\",\"Dash\",\"Bitshares\",\"BitcoinDark\",\"PayCoin\",\"KoboCoin\",\"Aurora Coin\",\"BlueCoin\",\"EnergyCoin\",\"BitBar\",\"CryptoBullion\",\"CasinoCoin\",\"Diamond\",\"Exclusive Coin\",\"FlutterCoin\",\"HoboNickels\",\"HyperStake\",\"IOCoin\",\"MaxCoin\",\"MintCoin\",\"MazaCoin\",\"Nautilus Coin\",\"NavCoin\",\"OpalCoin\",\"Orbitcoin\",\"PotCoin\",\"PhoenixCoin\",\"Reddcoin\",\"SuperCoin\",\"SyncCoin\",\"TeslaCoin\",\"TittieCoin\",\"TorCoin\",\"UnitaryStatus Dollar\",\"UltraCoin\",\"VeriCoin\",\"X11 Coin\",\"Crypti\",\"StealthCoin\",\"ZCC Coin\",\"BurstCoin\",\"StorjCoin\",\"Neutron\",\"FairCoin\",\"RubyCoin\",\"Kore\",\"Dnotes\",\"8BIT Coin\",\"Sativa Coin\",\"Ucoin\",\"Vtorrent\",\"IslaCoin\",\"Nexus\",\"Droidz\",\"Squall Coin\",\"Diggits\",\"Paycon\",\"Emercoin\",\"EverGreenCoin\",\"Decred\",\"EDRCoin\",\"Hitcoin\",\"DubaiCoin\",\"PWR Coin\",\"BillaryCoin\",\"GPU Coin\",\"EuropeCoin\",\"ZeitCoin\",\"SwingCoin\",\"SafeExchangeCoin\",\"Nebuchadnezzar\",\"Ratecoin\",\"Revenu\",\"Clockcoin\",\"VIP Tokens\",\"BitSend\",\"Let it Ride\",\"PutinCoin\",\"iBankCoin\",\"Frankywillcoin\",\"MudraCoin\",\"Lutetium Coin\",\"GoldBlocks\",\"CarterCoin\",\"BitTokens\",\"MustangCoin\",\"ZoneCoin\",\"RootCoin\",\"BitCurrency\",\"Swiscoin\",\"BuzzCoin\",\"Opair\",\"PesoBit\",\"Halloween Coin\",\"CoffeeCoin\",\"RoyalCoin\",\"GanjaCoin V2\",\"TeamUP\",\"LanaCoin\",\"ARK\",\"InsaneCoin\",\"EmberCoin\",\"XenixCoin\",\"FreeCoin\",\"PLNCoin\",\"AquariusCoin\",\"Creatio\",\"Eternity\",\"Eurocoin\",\"BitcoinFast\",\"Stakenet\",\"BitConnect Coin\",\"MoneyCoin\",\"Enigma\",\"Russiacoin\",\"PandaCoin\",\"GameUnits\",\"GAKHcoin\",\"Allsafe\",\"LiteCreed\",\"Klingon Empire Darsek\",\"Internet of People\",\"KushCoin\",\"Printerium\",\"Impeach\",\"Zilbercoin\",\"FirstCoin\",\"FindCoin\",\"OpenChat\",\"RenosCoin\",\"VirtacoinPlus\",\"TajCoin\",\"Impact\",\"Atmos\",\"HappyCoin\",\"MacronCoin\",\"Condensate\",\"Independent Money System\",\"ArgusCoin\",\"LomoCoin\",\"ProCurrency\",\"GoldReserve\",\"GrowthCoin\",\"Phreak\",\"Degas Coin\",\"HTML5 Coin\",\"Ultimate Secure Cash\",\"QTUM\",\"Espers\",\"Denarius\",\"Virta Unique Coin\",\"Bitcoin Planet\",\"BritCoin\",\"Linda\",\"DeepOnion\",\"Signatum\",\"Cream\",\"Monoeci\",\"Draftcoin\",\"Vechain\",\"Stakecoin\",\"CoinonatX\",\"Ethereum Dark\",\"Obsidian\",\"Cardano\",\"Regalcoin\",\"TrezarCoin\",\"TerraNovaCoin\",\"Rupee\",\"WomenCoin\",\"Theresa May Coin\",\"NamoCoin\",\"LUXCoin\",\"Xios\",\"Bitcloud 2.0\",\"KekCoin\",\"BlackholeCoin\",\"Infinity Economics\",\"Magnet\",\"Lamden Tau\",\"Electra\",\"Bitcoin Diamond\",\"Cash & Back Coin\",\"Bulwark\",\"Kalkulus\",\"GermanCoin\",\"LiteCoin Ultra\",\"PhantomX\",\"Digiwage\",\"Trollcoin\",\"Litecoin Plus\",\"Monkey Project\",\"TokenPay\",\"1717 Masonic Commemorative Token\",\"My Big Coin\",\"Unified Society USDEX\",\"Tokyo Coin\",\"BiblePay\",\"Stipend\",\"Pushi\",\"Ellerium\",\"Velox\",\"Ontology\",\"Bitspace\",\"Briacoin\",\"Ignition\",\"MedicCoin\",\"Bitcoin Green\",\"Deviant Coin\",\"Abjcoin\",\"Semux\",\"Carebit\",\"Zealium\",\"Proton\",\"iDealCash\",\"Bitcoin Incognito\",\"HollyWoodCoin\",\"Swisscoin\",\"Xt3ch\",\"TheVig\",\"EmaratCoin\",\"Dekado\",\"Lynx\",\"Poseidon Quark\",\"BitcoinWSpectrum\",\"Muse\",\"Trivechain\",\"Dystem\",\"Giant\",\"Peony Coin\",\"Absolute Coin\",\"Vitae\",\"TPCash\",\"ARENON\",\"EUNO\",\"MMOCoin\",\"Ketan\",\"XDNA\",\"PAXEX\",\"ThunderStake\",\"Kcash\",\"Acute Angle Cloud\",\"Bettex coin\",\"BitMoney\",\"Junson Ming Chan Coin\",\"HerbCoin\",\"PirateCash\",\"Oduwa\",\"Galilel\",\"Crypto Sports\",\"Credit\",\"Dash Platinum\",\"Nasdacoin\",\"Beetle Coin\",\"Titan Coin\",\"Award\",\"Insane Coin\",\"ALAX\",\"LiteDoge\",\"TruckCoin\",\"OrangeCoin\",\"BitstarCoin\",\"NeosCoin\",\"HyperCoin\",\"PinkCoin\",\"AudioCoin\",\"IncaKoin\",\"Piggy Coin\",\"Genstake\",\"XiaoMiCoin\",\"CapriCoin\",\" ClubCoin\",\"Radium\",\"Creditbit \",\"OKCash\",\"Lisk\",\"HiCoin\",\"WhiteCoin\",\"FriendshipCoin\",\"Triangles Coin\",\"EOS\",\"Oxycoin\",\"TigerCash\",\"Particl\",\"Nxt\",\"ZEPHYR\",\"Gapcoin\",\"BitcoinPlus\"],\"legendgroup\":\"0\",\"marker\":{\"color\":[0,0,0,0,0,0,0,0,0,0,0,0,0,0,0,0,0,0,0,0,0,0,0,0,0,0,0,0,0,0,0,0,0,0,0,0,0,0,0,0,0,0,0,0,0,0,0,0,0,0,0,0,0,0,0,0,0,0,0,0,0,0,0,0,0,0,0,0,0,0,0,0,0,0,0,0,0,0,0,0,0,0,0,0,0,0,0,0,0,0,0,0,0,0,0,0,0,0,0,0,0,0,0,0,0,0,0,0,0,0,0,0,0,0,0,0,0,0,0,0,0,0,0,0,0,0,0,0,0,0,0,0,0,0,0,0,0,0,0,0,0,0,0,0,0,0,0,0,0,0,0,0,0,0,0,0,0,0,0,0,0,0,0,0,0,0,0,0,0,0,0,0,0,0,0,0,0,0,0,0,0,0,0,0,0,0,0,0,0,0,0,0,0,0,0,0,0,0,0,0,0,0,0,0,0,0,0,0,0,0,0,0,0,0,0,0,0,0,0,0,0,0,0,0,0,0,0,0,0,0,0,0,0,0,0,0,0,0,0,0,0,0,0,0,0,0,0,0,0,0,0,0,0,0,0,0,0,0,0,0,0,0,0,0,0,0,0,0,0,0,0,0,0,0,0,0,0,0,0,0,0,0,0,0,0,0,0,0,0,0],\"coloraxis\":\"coloraxis\",\"symbol\":\"circle\"},\"mode\":\"markers\",\"name\":\"0\",\"scene\":\"scene\",\"showlegend\":true,\"x\":[-0.348989184983578,-0.3322991945773617,2.296052665458638,-0.41263858559644057,-0.2828615466749301,-0.3260894069219662,-0.24736057552356283,-0.26582775397593633,-0.34864816181311264,-0.341214858908978,-0.34748352879493477,-0.3489851122623844,-0.34896936718338145,0.6462909198577426,-0.39179866654687917,-0.29344143152604635,-0.26792455505256313,-0.3470443977195659,-0.3137035876165551,-0.41253312569730666,-0.44730715973387236,-0.009795502541001332,-0.28932762006931967,-0.27001092605154475,-0.2935200016306509,-0.29414313235991746,-0.3680786096771162,-0.34328059299599617,-0.3473879983783867,0.00968287870605113,-0.3336196561398621,-0.4129053742626908,-0.21570653471640727,-0.2855727024979729,-0.41281682567696903,-0.32417539344795004,-0.34766404882215846,-0.29668296745150885,-0.41278127490282945,-0.21617553996421257,-0.2939236711332668,-0.3400733864400903,-0.04554387267561317,-0.2851967157432565,-0.3252996899651701,-0.3912193976630448,-0.26999124903973715,-0.29421856197065255,-0.26463449645179193,-0.34897122695649035,-0.2941706880565536,-0.3340650449741719,-0.34870510039633057,-0.4128868758012138,-0.45708985078737246,-0.4431163821382942,-0.34671291895909906,-0.26838984511812863,-0.2936913873426064,-0.3186295001213611,-0.26827467295377905,-0.08401718643536762,-0.32606027778553204,-0.08972494898095316,-0.3261241324956287,-0.2594399272960896,-0.3485806707131914,-0.26825800245608783,-0.4100496833501697,0.8854249967581673,-0.32592373011320624,-0.08577767680893737,-0.2931241214521105,-0.4107262470768931,-0.32466436595163484,-0.32232741387504327,-0.3809778278332451,-0.4116193981744176,-0.2904663550673101,-0.3248307922358969,-0.3486188114668932,-0.34705518325062545,-0.2141810242977072,-0.32153366091359586,-0.41235971592852183,-0.3478215973823161,-0.3261049961409557,-0.4128760341996418,-0.34880838740828457,-0.3489654515120064,-0.26824883115808773,-0.24653998123059287,0.007688734237865705,-0.29207934645604444,-0.34857903687648095,-0.3990093523193763,-0.2914071858864867,-0.21561487786698066,-0.44293967020497876,-0.29115426005246253,-0.3073746226435442,3.666497728886657,-0.4124678191369219,0.8396777379718613,-0.41283087233034294,-0.29254392068854007,-0.3485062640054081,-0.3486607988858438,-0.2931241214521105,-0.4124048269536252,-0.32596747140761057,-0.3485070326297779,-0.39698505013893814,-0.348654670194163,-0.34423260811283973,-0.4128599025845722,-0.34786354081293114,0.37439910643671226,-0.34885432725060816,-0.348925058352206,-0.32704520768313217,-0.3654602382521317,-0.34514339341699546,-0.32608137490145783,-0.4127696958174059,-0.3487024453567887,-0.3488295754598092,-0.26989730615384466,-0.26960652682496794,-0.21538231933140758,-0.3296491603435091,-0.2696381710519712,-0.41203383543614086,-0.4336872837658256,-0.4107702802570384,-0.29136756163904665,-0.41193156940834436,-0.2857575211280689,-0.4078642559118948,-0.3487727821211685,-0.34877192867192225,-0.3418779098813199,0.2865208985625577,-0.41241109985456226,-0.2525025875318047,-0.2931584093071577,-0.34798182251913834,0.8682948952088951,-0.24604797476898768,-0.28924251650666427,0.5699696539609451,-0.382516208787279,-0.3810155897436972,-0.4278581090550498,-0.2938552014304865,0.11693226511202127,-0.29392614204297435,-0.28082715567895156,-0.42736226121212123,-0.412684061846056,-0.269971833087594,4.4393044931446015,-0.29302430497951987,-0.3484072834289787,-0.34890795768896066,-0.3410317103373204,0.707692539208401,-0.4126247019664156,-0.3630681800160592,-0.3488634412315036,-0.2839601001465737,0.42153497520441496,-0.32442474432295687,-0.3672536900729786,-0.39990092436675606,-0.3488136763210485,-0.40414902331172237,-0.2940137700442209,-0.3486839191899939,-0.07353592238235174,-0.4114148982207287,3.6713630749822674,0.17797628264845233,-0.2905909708010164,-0.34613931396077796,-0.3036139536399133,-0.3269309139130515,0.06636029068260454,-0.347820401756327,-0.4119974373440927,-0.3260938416397604,-0.33536345846412097,-0.3489301231061088,-0.3340369271657598,-0.29074873769388593,-0.2499741245872584,-0.2785845287528125,-0.34446747620770535,-0.20716142683292316,-0.11021935734063319,-0.38937504440320986,-0.41270124373007616,-0.30326578626822587,-0.26912996230255437,-0.27878822468611336,-0.38211434618470286,-0.3489575240542636,-0.34893919651264316,-0.2635009169114162,-0.2943543460477454,-0.2926180108848919,-0.34865514440930057,3.867291520302713,-0.40281507967304964,-0.29280700502217216,-0.2922297873370422,-0.2954172300658371,-0.23722614736394287,-0.2696655408781499,-0.1517209261818748,-0.26991786865501793,-0.37282887748512444,-0.3481280874358874,-0.18895174345963592,2.2327748081280783,-0.322628882457601,-0.24617646256825854,1.0097215742582606,-0.3702304816201099,-0.32704460815555797,-0.40583678390195577,-0.15037602361942046,-0.36255345526277966,-0.3257617923568529,-0.341817912510129,-0.33361351402861483,-0.41217365721136057,-0.2671580298700043,-0.29190472246582205,-0.36280885320401157,-0.33347442812876676,-0.20812793596707405,-0.42640600177407406,-0.28686484722770594,-0.22459358649957886,0.5966786593492497,-0.12367893023355393,-0.40513008829012576,-0.24331524085750106,-0.34865917611676006,-0.4055870829705468,-0.32716180182412863,0.5596251297331777,-0.33409133001563984,-0.34814096844412956,-0.29771066458325757,-0.32745340603545264,-0.40973256468799457,-0.4124013453022167,3.6836257714251186,0.08711590662558964,-0.4099375338601927,-0.34752487753994193,-0.348351936340048,-0.24739320430771555,-0.34887134934517106,-0.4040140879796782,-0.26238588971829324,-0.10542135992096374,-0.3997532684865683,-0.34814851640036687,-0.3412003641108362,-0.4089638570453883,-0.3465845605686717,-0.2934002231015161,-0.39833078690619766,-0.3246017961025638,3.666890324116646,-0.0768578209537798,-0.3437743836976214,-0.3677035879691025,-0.29432599344516885,3.676771972450841,3.678017943900739,-0.22825612587881547,-0.29333599707503777,-0.2649807794836425,2.4459991579493723,-0.34703021681215224,-0.2703151724411536],\"y\":[1.0101382206200504,1.0103822194457701,1.582421692962238,1.1664178986260516,1.6255232394607966,0.7593511277784422,0.6537724710793198,1.8057674452280834,1.0101389913524847,1.0104289587833286,1.0101945279962463,1.0101380156649336,1.0101382471934628,0.6366446855605039,0.83569964370856,1.7420920469653407,0.4240136110702682,1.0101251998219325,1.0616038285946554,1.166421842532431,1.9542103336182304,0.9142934350585656,0.7590129079604877,0.9045505412487737,1.7100730515392932,1.7100497481862729,0.4679187991411657,1.0100515794989418,1.0101280710310578,1.0235515564493687,1.0608590231248425,1.1664236416750877,0.20136698691897212,1.685860655131087,1.1664198079889732,1.009922847940962,1.0101163183394155,0.43324607823542854,1.1664243531308558,0.20142090614031574,1.7100579554246558,1.0097570595651042,1.2445136293163372,1.7261432308525853,0.7593477899852362,0.835724436642308,0.9045628391335961,1.710038352283708,0.9044058732006308,1.0101388922302386,1.7100415718089186,1.060828075081284,1.0101345528799084,1.1664243341805907,2.1874575932914397,1.7957010648649148,0.7061183650931478,0.9045512684674037,1.7100309128358036,0.7589312413152873,1.8059072505523066,0.8626589938390261,0.7593522171269809,1.159537402086144,0.759358046890487,1.4447441802843497,1.0101234852869778,0.9044696963653854,1.1662560358233904,0.8770280636478064,0.7593444610615137,0.6363162800302733,1.7420896217358117,1.1664515416415298,0.7592609848428232,0.7591323785208628,1.440134688610576,1.1663724067041916,1.6414587728999865,1.0096125030092455,1.010120391559382,1.0101390882152839,1.604367506598915,1.060841521940625,1.1664083191355812,1.0101175723333298,0.7593512593721967,1.1664225958649572,1.0101299756463467,1.0101391082157696,0.9046280007073992,0.45535681024914365,1.8511928669101736,1.7420901057057312,1.0101535590464554,1.1658714342292538,1.7421395386727248,1.6044550153358563,1.9246932575006523,1.7419624900860966,1.8483384265644902,1.6837483814011245,1.1664185681189596,1.7518440904832489,1.1664236750167183,1.742089882014491,1.0101287403619204,1.0101204887165853,1.7420896217358117,1.1663994862378564,0.7593571170011417,1.0101326704300888,0.6910109541509031,1.01013072213209,1.0098511502432084,1.1664217699681967,1.01007741606206,0.9054265025031623,1.010133974321112,1.010138249387325,1.5636042548773197,0.5255080697230304,1.0099247489849512,0.7593521427407375,1.1664220321376733,1.01013465217099,1.010128516324527,0.9045270500448302,0.3775503587943195,1.6044551196618628,1.0101468965756673,0.9045514425884917,1.1663847768025801,1.7844695032823583,1.1664248843745024,1.7420907920870239,1.1663886012670717,1.742093568961019,1.1662548726157054,1.010131155605944,1.0101259082394787,1.0096895754164197,0.6201530498709072,1.1664135433910008,0.9037876921285584,1.7420811935944902,1.0101008615530342,1.7841177380202653,0.6536875134391974,1.6414570210094392,1.88229467498837,1.4401343244179912,1.4401118388071017,1.8207733327514886,1.710039078387519,0.9918330292661001,1.7100443586182783,1.5689725713803209,1.8207918760792132,1.1664251250841153,0.9045511272106536,3.0632805919474,1.7420636277950807,1.010125501889692,1.0101382570587008,1.6258554533213907,1.7339645389540999,1.1664148448995892,0.467823034399909,1.0101316802790972,0.7601623828816045,1.021088999597271,0.7593576437269011,1.439854741432768,1.791715457518172,1.0101297778557456,1.669118272600926,1.715189568421664,1.0101390692287948,0.6538506771386218,1.1663764814971134,1.683662361623076,1.4396647145046524,1.7100325258383564,1.0100947345929163,1.3345427049946654,1.5636049562103196,0.989941778333207,1.0100747418199287,1.1664218673452065,1.5635648016701682,1.0100046564587428,1.0101375710512814,1.060828412021865,1.6414542865669852,-0.014861868902072778,0.43955381257380466,1.0101415357501948,1.6042012677202881,3.4242539340912024,0.8593913698465819,1.1664134116251166,1.3439258026754353,0.9045064400563325,1.6602498268031618,1.4401207694752804,1.010137260919277,1.0101365171440504,0.9044482659169019,1.7266343813937237,1.7420599569374824,1.0101292752235487,1.778734676848153,1.6691681583761897,1.7420586057802148,0.8121312481953973,1.0084815821844813,0.8836426793685855,0.9045564404464969,1.0102267153707003,0.9045341415227685,1.8511828519333586,1.0101103979819601,1.7002985022611226,0.4536536381333018,1.5633156503217673,0.6537540398642407,1.6406506141875676,0.9177170934807363,1.563599989775332,1.6691943916409395,0.8969738848919643,0.8657325288611456,1.563591511130307,1.0096918191509292,1.0608199505317482,1.1664152772131795,0.9044830009881416,1.7419994523097113,0.8688005154866953,1.060792995537,1.0025434709312677,1.6737478998331385,3.6324379258005517,1.2383453854047093,0.9082623937982096,1.0687102213072812,1.6691859132220872,-0.00953216070758506,1.010135555732896,1.6691938077187425,1.5636010593583032,0.9906667486305032,1.0608273064701044,1.0101099162681433,1.343819130420456,1.849378291304693,1.1662421700418661,1.166421054055159,1.6837636587479694,1.0014367871576964,1.1665346313513123,1.0100500642467887,1.0101232812505698,0.6537651768632894,1.0101426273746088,1.1663988581684883,1.0058737779523577,0.7674834472456983,1.1662009073914195,1.010158940506065,1.01014366600518,1.1664224100327203,1.0101138129657916,1.7420871567616258,0.65119308961223,0.7593474495481303,1.6837381111303484,0.9046333062972574,1.0101188635555336,0.4678925225207733,1.710042823940745,1.684221932871382,1.6842685287319068,0.653781269495342,1.7420898200748995,2.0365336500565463,0.6968945226931733,1.0100328338243132,0.9045500107138367],\"z\":[-0.4870984726372133,-0.4873874815333551,-0.5839363261187084,-0.42230667770885827,-0.035093147128609385,-0.341888784295062,-0.10804901357475624,-0.5832094543179305,-0.48710400107711577,-0.4872489268391822,-0.4871276111522369,-0.4870985195149255,-0.4870987922815921,-0.1508583959278502,-0.46940334661383476,-0.19951942642025483,-0.07322299490961474,-0.48712844317485354,-0.1888587494441613,-0.42230871864263037,-0.4457489414898012,-0.25829879309163656,-0.34244707601867735,-0.2532618884170423,-0.5538915589917384,-0.5538794997297493,-0.27829801953218836,-0.4871821170848411,-0.4871231990717952,-0.49403974544357143,-0.18847331974725423,-0.4223029200613478,0.08448580581644652,-0.23632099072351495,-0.4223039949169972,-0.48747646850978366,-0.4871177289779173,-0.3119949977277919,-0.4223049704085582,0.08448849370983862,-0.5538837468970039,-0.48720713116918735,0.1780548753239013,-0.02702061704780835,-0.3419011286830877,-0.469414836852442,-0.25326330289977567,-0.5538772733282014,-0.25333502740288505,-0.48709882017620526,-0.5538783275901813,-0.18846342254593196,-0.4871026927187719,-0.4223032781204074,-0.1718739069106001,-0.6380802012382272,-0.2711899982319583,-0.2532879057648455,-0.5538850479032859,-0.34197067288576616,-0.5831827799343129,-0.26853726943824846,-0.34188934802249715,-0.4268611541215653,-0.341888846953264,-0.5435788389375782,-0.48710369527171554,-0.2532827236783178,-0.4223336531366756,-0.26929898857388895,-0.34189084063622505,-0.13910914718524842,-0.19952428950200196,-0.422340300651352,-0.34190353911892835,-0.3419294542366618,-0.5412210026625529,-0.4223189270465919,-0.12666667048522212,-0.48743823027609723,-0.48710280807727435,-0.48712951217059014,-0.3200502120744463,-0.18866524312323305,-0.4223102857750068,-0.4871153188503571,-0.34188854648782974,-0.4223032962759369,-0.487100629949984,-0.48709893194664916,-0.2532970233901038,-0.1982266249129127,-0.6120666385840832,-0.19954105886176052,-0.4871064101131194,-0.42247601630126047,-0.1995562391223502,-0.320035080661938,-0.4847671819762127,-0.19954445960387981,-0.6067675067292511,-0.2324021530103999,-0.42230947141094094,-0.5757676914426776,-0.4223041157641964,-0.1995336013659267,-0.48710535628880464,-0.4871021445752381,-0.19952428950200196,-0.4223087738924358,-0.3418912718489642,-0.4871056953436402,-0.18560536100112035,-0.4871031575893865,-0.48714895703160804,-0.4223034806937534,-0.487111057274551,-0.2636567401363993,-0.48710025197995593,-0.4870995018300424,-0.22835941038886676,-0.3232889277066277,-0.4871409559678301,-0.3418890036225884,-0.42230494827753867,-0.48710274410095544,-0.4871001602768419,-0.2532616072048264,-0.21436367191910077,-0.32003881308280635,-0.4874088680883083,-0.2532679365372435,-0.4223133981301674,-0.5657147185616292,-0.42233721247188794,-0.19955251538598726,-0.4223153772539106,-0.19964257633444404,-0.4223685362536805,-0.4871013054568057,-0.4871008499895115,-0.48717220876860406,-0.11359039178397375,-0.42230993021974844,-0.2534739832290178,-0.19952298707699287,-0.48711125976770936,-0.5994303877898302,-0.10806243189322913,-0.12668610663035398,-0.34379179203644034,-0.5411963417371778,-0.54121835528031,-0.5170357058941403,-0.5538831553832895,-0.4929209984256315,-0.5538824917440028,-0.08309444377018574,-0.5170453018886301,-0.4223065957341771,-0.2532625666538566,5.786570679210158,-0.19952356355472026,-0.48710665136699144,-0.4870997762851263,-0.03419158583882042,0.046698102388980076,-0.4223066269633577,-0.2783696712271831,-0.48709990097743977,0.08667324796243203,-0.5004130393591182,-0.34191601688370055,-0.5414156880507721,-0.469615529230278,-0.48710052759524264,-0.4622194175158243,-0.1943948294527548,-0.4871034355897734,-0.11083881229972004,-0.42232256524160017,-0.23247235325165788,-0.5501274362477996,-0.5539348275350594,-0.48714020922723344,-0.3073581884988875,-0.22836130285067674,-0.4919422941821955,-0.4871115088143018,-0.4223172968437239,-0.2283711138347486,-0.4873046696161699,-0.4870993601017092,-0.18846390281519518,-0.12666174865207436,0.06790052766538181,-0.28684175618092594,-0.4871711583041453,-0.32014772849099227,5.210026672794656,-0.29538404032659865,-0.4223052734460655,-0.5261874166746744,-0.25327204922924135,-0.17695748471910652,-0.5412015634137542,-0.4870988937056276,-0.4870991206205516,-0.2533569652275193,-0.1472735133822254,-0.19952973984331648,-0.487103020639555,0.024961707805092288,-0.46224523292671954,-0.19952659338645148,0.08447572096946336,-0.48780801237942784,-0.3750740289350057,-0.25326794518972856,-0.4902645063583181,-0.25326191201359766,-0.6059739317033275,-0.48710977075779915,-0.34934983001531156,-0.36613863419513326,-0.2284043104405185,-0.10806632255975147,-0.21114593943247748,-0.14937634938027247,-0.22835903867387916,-0.4621992029624313,-0.2544997806578228,-0.14716793075106613,-0.22837881760974799,-0.4871733698797222,-0.1884699248702637,-0.42231388651352025,-0.25330152291659225,-0.1995357497782372,-0.34004355893132543,-0.1884697416769562,-0.48867456572283074,0.19517136245932568,6.1958329426753975,-0.29234658192255636,-0.50182594343059,-0.1925362396081614,-0.46220975865137487,0.16795797449927302,-0.4871035175913274,-0.4622031482891813,-0.22835725811202637,-0.4999039217195269,-0.18846293302528647,-0.48710952147551245,-0.52626681333003,-0.606539026988056,-0.42233749033418316,-0.42231075785911343,-0.2326777264135747,-0.49330226504993807,-0.42236035584983356,-0.4871140336935632,-0.48710733890198077,-0.10804783908661397,-0.4871007530776418,-0.42244304739815747,-0.4881036746586126,-0.346148573892614,-0.4224935626369947,-0.4871137835530239,-0.4872236528550181,-0.42236591078623575,-0.48713478681546385,-0.19951964893833074,-0.06443753631038798,-0.34191227102252636,-0.2324075199826332,-0.2563615292535906,-0.48718022725088234,-0.2783016741490933,-0.5538759532076979,-0.23260897314309842,-0.23263308605462707,-0.10835564858903572,-0.19952091525876622,-0.3797973383817284,-0.12989307486624926,-0.48712041240196485,-0.2532569702211602],\"type\":\"scatter3d\"},{\"customdata\":[[\"SHA-256\"],[\"Ethash\"],[\"Scrypt\"],[\"CryptoNight-V7\"],[\"Ethash\"],[\"Equihash\"],[\"Multiple\"],[\"Scrypt\"],[\"X11\"],[\"Scrypt\"],[\"Multiple\"],[\"Scrypt\"],[\"SHA-256\"],[\"Scrypt\"],[\"Scrypt\"],[\"Quark\"],[\"Groestl\"],[\"Scrypt\"],[\"Scrypt\"],[\"Scrypt\"],[\"X11\"],[\"Multiple\"],[\"SHA-256\"],[\"Scrypt\"],[\"Scrypt\"],[\"Scrypt\"],[\"Scrypt\"],[\"Scrypt\"],[\"NeoScrypt\"],[\"Scrypt\"],[\"Scrypt\"],[\"Scrypt\"],[\"Scrypt\"],[\"SHA-256\"],[\"Scrypt\"],[\"Scrypt\"],[\"Scrypt\"],[\"Scrypt\"],[\"HybridScryptHash256\"],[\"Scrypt\"],[\"Scrypt\"],[\"SHA-256\"],[\"Scrypt\"],[\"Scrypt\"],[\"Scrypt\"],[\"Scrypt\"],[\"SHA-256\"],[\"SHA-256\"],[\"SHA-256\"],[\"SHA-256\"],[\"SHA-256\"],[\"X11\"],[\"Scrypt\"],[\"Lyra2REv2\"],[\"Scrypt\"],[\"SHA-256\"],[\"CryptoNight\"],[\"CryptoNight\"],[\"Scrypt\"],[\"Scrypt\"],[\"Scrypt\"],[\"Scrypt\"],[\"Scrypt\"],[\"Scrypt\"],[\"Stanford Folding\"],[\"Multiple\"],[\"QuBit\"],[\"Scrypt\"],[\"Scrypt\"],[\"M7 POW\"],[\"Scrypt\"],[\"SHA-256\"],[\"Scrypt\"],[\"X11\"],[\"Lyra2RE\"],[\"SHA-256\"],[\"X11\"],[\"Scrypt\"],[\"Scrypt\"],[\"Ethash\"],[\"Blake2b\"],[\"X11\"],[\"SHA-256\"],[\"Scrypt\"],[\"1GB AES Pattern Search\"],[\"Scrypt\"],[\"SHA-256\"],[\"X11\"],[\"Dagger\"],[\"Scrypt\"],[\"X11GOST\"],[\"Scrypt\"],[\"X11\"],[\"Scrypt\"],[\"X11\"],[\"Equihash\"],[\"CryptoNight\"],[\"SHA-256\"],[\"Multiple\"],[\"Scrypt\"],[\"SHA-256\"],[\"Scrypt\"],[\"Lyra2Z\"],[\"Ethash\"],[\"Equihash\"],[\"Scrypt\"],[\"X11\"],[\"X11\"],[\"CryptoNight\"],[\"Scrypt\"],[\"CryptoNight\"],[\"Lyra2RE\"],[\"X11\"],[\"CryptoNight-V7\"],[\"Scrypt\"],[\"X11\"],[\"Equihash\"],[\"Scrypt\"],[\"Lyra2RE\"],[\"Dagger-Hashimoto\"],[\"Scrypt\"],[\"NIST5\"],[\"Scrypt\"],[\"SHA-256\"],[\"Scrypt\"],[\"CryptoNight-V7\"],[\"Argon2d\"],[\"Blake2b\"],[\"Cloverhash\"],[\"CryptoNight\"],[\"X11\"],[\"Scrypt\"],[\"Scrypt\"],[\"X11\"],[\"X11\"],[\"CryptoNight\"],[\"Time Travel\"],[\"Scrypt\"],[\"Keccak\"],[\"X11\"],[\"SHA-256\"],[\"Scrypt\"],[\"Scrypt\"],[\"Scrypt\"],[\"Scrypt\"],[\"Scrypt\"],[\"Scrypt\"],[\"CryptoNight\"],[\"Equihash\"],[\"X11\"],[\"NeoScrypt\"],[\"Equihash\"],[\"Dagger\"],[\"Scrypt\"],[\"X11\"],[\"NeoScrypt\"],[\"Ethash\"],[\"NeoScrypt\"],[\"Multiple\"],[\"CryptoNight\"],[\"CryptoNight\"],[\"Ethash\"],[\"X11\"],[\"CryptoNight-V7\"],[\"Scrypt\"],[\"BLAKE256\"],[\"X11\"],[\"NeoScrypt\"],[\"NeoScrypt\"],[\"Scrypt\"],[\"X11\"],[\"SHA-256\"],[\"C11\"],[\"CryptoNight\"],[\"SkunkHash\"],[\"CryptoNight\"],[\"Scrypt\"],[\"Dagger\"],[\"Lyra2REv2\"],[\"Scrypt\"],[\"Scrypt\"],[\"X11\"],[\"Ethash\"],[\"CryptoNight\"],[\"Scrypt\"],[\"IMesh\"],[\"Equihash\"],[\"Lyra2Z\"],[\"X11\"],[\"CryptoNight\"],[\"NIST5\"],[\"Lyra2RE\"],[\"Tribus\"],[\"Lyra2Z\"],[\"CryptoNight\"],[\"CryptoNight Heavy\"],[\"CryptoNight\"],[\"Jump Consistent Hash\"],[\"CryptoNight\"],[\"X16R\"],[\"HMQ1725\"],[\"X11\"],[\"Scrypt\"],[\"CryptoNight-V7\"],[\"Cryptonight-GPU\"],[\"XEVAN\"],[\"CryptoNight Heavy\"],[\"SHA-256\"],[\"X11\"],[\"X16R\"],[\"Equihash\"],[\"Lyra2Z\"],[\"SHA-256\"],[\"CryptoNight\"],[\"Blake\"],[\"Blake\"],[\"Exosis\"],[\"Scrypt\"],[\"Equihash\"],[\"Equihash\"],[\"QuBit\"],[\"SHA-256\"],[\"X13\"],[\"SHA-256\"],[\"Scrypt\"],[\"NeoScrypt\"],[\"Blake\"],[\"Scrypt\"],[\"SHA-256\"],[\"Scrypt\"],[\"Groestl\"],[\"Scrypt\"],[\"Scrypt\"],[\"Multiple\"],[\"Equihash+Scrypt\"],[\"Ethash\"],[\"CryptoNight\"],[\"Equihash\"]],\"hovertemplate\":\"<b>%{hovertext}</b><br><br>Class=%{marker.color}<br>PC 1=%{x}<br>PC 2=%{y}<br>PC 3=%{z}<br>Algorithm=%{customdata[0]}<extra></extra>\",\"hovertext\":[\"Bitcoin\",\"Ethereum\",\"Litecoin\",\"Monero\",\"Ethereum Classic\",\"ZCash\",\"DigiByte\",\"ProsperCoin\",\"Spreadcoin\",\"Argentum\",\"MyriadCoin\",\"MoonCoin\",\"ZetaCoin\",\"SexCoin\",\"Quatloo\",\"QuarkCoin\",\"Riecoin\",\"Digitalcoin \",\"Catcoin\",\"CannaCoin\",\"CryptCoin\",\"Verge\",\"DevCoin\",\"EarthCoin\",\"E-Gulden\",\"Einsteinium\",\"Emerald\",\"Franko\",\"FeatherCoin\",\"GrandCoin\",\"GlobalCoin\",\"GoldCoin\",\"Infinite Coin\",\"IXcoin\",\"KrugerCoin\",\"LuckyCoin\",\"Litebar \",\"MegaCoin\",\"MediterraneanCoin\",\"MinCoin\",\"NobleCoin\",\"Namecoin\",\"NyanCoin\",\"RonPaulCoin\",\"StableCoin\",\"SmartCoin\",\"SysCoin\",\"TigerCoin\",\"TerraCoin\",\"UnbreakableCoin\",\"Unobtanium\",\"UroCoin\",\"ViaCoin\",\"Vertcoin\",\"WorldCoin\",\"JouleCoin\",\"ByteCoin\",\"DigitalNote \",\"MonaCoin\",\"Gulden\",\"PesetaCoin\",\"Wild Beast Coin\",\"Flo\",\"ArtByte\",\"Folding Coin\",\"Unitus\",\"CypherPunkCoin\",\"OmniCron\",\"GreenCoin\",\"Cryptonite\",\"MasterCoin\",\"SoonCoin\",\"1Credit\",\"MarsCoin \",\"Crypto\",\"Anarchists Prime\",\"BowsCoin\",\"Song Coin\",\"BitZeny\",\"Expanse\",\"Siacoin\",\"MindCoin\",\"I0coin\",\"Revolution VR\",\"HOdlcoin\",\"Gamecredits\",\"CarpeDiemCoin\",\"Adzcoin\",\"SoilCoin\",\"YoCoin\",\"SibCoin\",\"Francs\",\"BolivarCoin\",\"Omni\",\"PizzaCoin\",\"Komodo\",\"Karbo\",\"ZayedCoin\",\"Circuits of Value\",\"DopeCoin\",\"DollarCoin\",\"Shilling\",\"ZCoin\",\"Elementrem\",\"ZClassic\",\"KiloCoin\",\"ArtexCoin\",\"Kurrent\",\"Cannabis Industry Coin\",\"OsmiumCoin\",\"Bikercoins\",\"HexxCoin\",\"PacCoin\",\"Citadel\",\"BeaverCoin\",\"VaultCoin\",\"Zero\",\"Canada eCoin\",\"Zoin\",\"DubaiCoin\",\"EB3coin\",\"Coinonat\",\"BenjiRolls\",\"ILCoin\",\"EquiTrader\",\"Quantum Resistant Ledger\",\"Dynamic\",\"Nano\",\"ChanCoin\",\"Dinastycoin\",\"DigitalPrice\",\"Unify\",\"SocialCoin\",\"ArcticCoin\",\"DAS\",\"LeviarCoin\",\"Bitcore\",\"gCn Coin\",\"SmartCash\",\"Onix\",\"Bitcoin Cash\",\"Sojourn Coin\",\"NewYorkCoin\",\"FrazCoin\",\"Kronecoin\",\"AdCoin\",\"Linx\",\"Sumokoin\",\"BitcoinZ\",\"Elements\",\"VIVO Coin\",\"Bitcoin Gold\",\"Pirl\",\"eBoost\",\"Pura\",\"Innova\",\"Ellaism\",\"GoByte\",\"SHIELD\",\"UltraNote\",\"BitCoal\",\"DaxxCoin\",\"AC3\",\"Lethean\",\"PopularCoin\",\"Photon\",\"Sucre\",\"SparksPay\",\"GunCoin\",\"IrishCoin\",\"Pioneer Coin\",\"UnitedBitcoin\",\"Interzone\",\"TurtleCoin\",\"MUNcoin\",\"Niobio Cash\",\"ShareChain\",\"Travelflex\",\"KREDS\",\"BitFlip\",\"LottoCoin\",\"Crypto Improvement Fund\",\"Callisto Network\",\"BitTube\",\"Poseidon\",\"Aidos Kuneen\",\"Bitrolium\",\"Alpenschillling\",\"FuturoCoin\",\"Monero Classic\",\"Jumpcoin\",\"Infinex\",\"KEYCO\",\"GINcoin\",\"PlatinCoin\",\"Loki\",\"Newton Coin\",\"MassGrid\",\"PluraCoin\",\"Motion\",\"PlusOneCoin\",\"Axe\",\"HexCoin\",\"Webchain\",\"Ryo\",\"Urals Coin\",\"Qwertycoin\",\"Project Pai\",\"Azart\",\"Xchange\",\"CrypticCoin\",\"Actinium\",\"Bitcoin SV\",\"FREDEnergy\",\"Universal Molecule\",\"Lithium\",\"Exosis\",\"Block-Logic\",\"Beam\",\"Bithereum\",\"SLICE\",\"BLAST\",\"Bitcoin Rhodium\",\"GlobalToken\",\"SolarCoin\",\"UFO Coin\",\"BlakeCoin\",\"Crypto Escudo\",\"Crown Coin\",\"SmileyCoin\",\"Groestlcoin\",\"Bata\",\"Pakcoin\",\"JoinCoin\",\"Vollar\",\"Reality Clash\",\"Beldex\",\"Horizen\"],\"legendgroup\":\"1\",\"marker\":{\"color\":[1,1,1,1,1,1,1,1,1,1,1,1,1,1,1,1,1,1,1,1,1,1,1,1,1,1,1,1,1,1,1,1,1,1,1,1,1,1,1,1,1,1,1,1,1,1,1,1,1,1,1,1,1,1,1,1,1,1,1,1,1,1,1,1,1,1,1,1,1,1,1,1,1,1,1,1,1,1,1,1,1,1,1,1,1,1,1,1,1,1,1,1,1,1,1,1,1,1,1,1,1,1,1,1,1,1,1,1,1,1,1,1,1,1,1,1,1,1,1,1,1,1,1,1,1,1,1,1,1,1,1,1,1,1,1,1,1,1,1,1,1,1,1,1,1,1,1,1,1,1,1,1,1,1,1,1,1,1,1,1,1,1,1,1,1,1,1,1,1,1,1,1,1,1,1,1,1,1,1,1,1,1,1,1,1,1,1,1,1,1,1,1,1,1,1,1,1,1,1,1,1,1,1,1,1,1,1,1,1,1,1,1,1,1,1,1,1,1,1,1,1,1,1,1,1,1,1,1,1,1,1,1,1,1,1,1,1,1],\"coloraxis\":\"coloraxis\",\"symbol\":\"diamond\"},\"mode\":\"markers\",\"name\":\"1\",\"scene\":\"scene\",\"showlegend\":true,\"x\":[-0.1446523121566952,-0.14611262100211148,-0.16638044335013502,-0.15580056361377312,-0.144551098974456,-0.14141132530229222,0.17393816952147642,-0.16752877058468937,-0.23138624470887062,-0.16714448699195528,-0.07995784929168331,2.560632304383468,-0.14173200445738876,-0.16439468841315005,-0.1669480159296969,-0.2197745528365733,-0.20942653107122533,-0.16699715584138033,-0.16751100988108303,-0.167597640295695,-0.23147573307657413,0.1976978548894752,0.23388312006663853,0.08158426883778588,-0.16734350816368804,-0.16294061195534285,-0.16728264776002327,-0.16765474001043384,-0.1819637957151567,-0.14683773539774958,-0.1664476953260126,-0.16672554825373226,1.5844057913126837,-0.14461362337847777,-0.16400975472170384,-0.16736999530490104,-0.1677254499496043,-0.16698335211748194,-0.15530232679527195,-0.16760648815880203,-0.032222669706167,-0.14469135086435603,-0.16125899218679302,-0.16758583587101872,-0.16567599427093593,-0.16707163333490951,-0.13181912871204174,-0.14415416264659167,-0.1444418289108956,-0.1444245715454189,-0.14501662266743148,-0.23164999211347484,-0.16730188668728452,-0.1806260294966261,-0.16439932155814357,-0.14422157029750976,3.872362426201165,0.46521162626585894,-0.16616730638356264,-0.15073402072264316,-0.1648838443113022,-0.16772765530405762,-0.16474871673312105,-0.15094680711368857,-0.12811794502934543,-0.11402707982823734,-0.18507169654932984,-0.16760053743976921,-0.04029006417408992,-0.11510103593728592,-0.16773657269800363,-0.14471917026017794,0.4859271061130829,-0.23103606647930253,-0.15918854466182963,-0.1444584537359509,-0.231321463121149,-0.1658563327858534,-0.16504713044942596,-0.1471815921814028,0.37080010695975363,-0.23135694171755494,-0.14461474742181538,-0.1636871480732969,-0.1371266900995074,-0.16629728471258798,0.2746229541806119,-0.2305160112651373,-0.1475613861886338,-0.1665446037165473,-0.1296933928972231,-0.16752605729109507,-0.23132007854570372,-0.16773663129828068,-0.23147027579749907,-0.2333447145043648,0.3098256188252549,-0.14487528871133235,-0.09406267526770672,-0.16489793590126894,-0.14483385085849965,-0.16739935673103187,-0.14986185589821457,-0.14692330735033557,-0.1414329749758658,-0.09429528904582095,-0.218030653765842,-0.22929399693326397,0.30982003661872526,-0.16771832969691897,0.30995097250561454,-0.1597301212350456,0.4854209889561359,-0.15456235484001588,-0.1676865653185831,-0.22418784186991197,-0.1414453911325913,-0.16581646675148,-0.15944801401091044,-0.1388801870613584,-0.13854371282446568,-0.20093097018602452,-0.1672480999712257,-0.11113549551919792,-0.16706968969890837,-0.15442032918920198,-0.15756074557392985,-0.030105112727534376,-0.1628982389357724,0.34600776756231644,-0.23052432685797974,-0.16738973147069366,-0.16715243949254907,-0.23091982901812616,-0.23149838523413505,0.31021580715042507,-0.1474902254478993,3.248240569696991,-0.12128163518834321,-0.22235061591863436,-0.14465147511259188,-0.0931384528384713,1.5819190268793983,-0.1674877225857158,-0.16693817580377068,-0.16663860915858128,-0.166625520359841,0.31039989156240755,0.07132012458634134,-0.18580639857378917,-0.18666135822068652,-0.14129118741383648,-0.14631789445519275,-0.165814673203453,-0.22703421519622233,-0.18650643498085243,-0.14528460631361076,-0.1866068660203129,-0.1042404184208285,1.1495078516647161,0.30980273219905347,-0.07000549669629694,-0.22677426811785353,-0.14351090483541895,-0.08372128609273356,1.1045548143246833,-0.23147233950481114,-0.1866589471235153,-0.17968360024501231,-0.1667373442173816,-0.2313976162668887,-0.1446308461328219,-0.20810027217089047,8.064976156588697,-0.1303521293718934,0.3136848399926576,0.025651701105224686,-0.14582067854119488,-0.16615653484883905,-0.16731207070120313,0.14033158922256808,-0.22552698565178794,-0.09821708759183966,0.31774340917825006,-0.1675495465859969,-0.14966308434607573,-0.14028047847901237,-0.147640448259048,-0.23056516089549928,0.30998555993305804,-0.2009906753217053,-0.15957503409455256,-0.14573332001356593,-0.1499464213689573,0.31392299098506027,0.5788757283292961,2.122240980382316,-0.14030918440081458,0.32361659641788704,-0.18977183490614624,-0.14344558095564836,-0.2314544659962499,-0.16757415933725464,-0.14338636830413012,-0.14786182103927223,-0.12078409267552494,3.106283261316483,-0.10440680363615575,-0.23142576578734725,-0.18919825340472715,-0.03583563402538943,-0.14934284931566666,-0.14465151273480759,0.3899117093463335,-0.14029780941170616,-0.14069087659468832,-0.15007537715553115,-0.16646423057982107,-0.13934699663289796,-0.14112369787732296,-0.18428091379011308,-0.14392631880874662,-0.11305869687783648,-0.1427919604387478,0.5299473248910348,-0.11168902130561002,-0.09104213715563989,-0.15109762081315364,-0.14444119841045083,0.549465544480657,-0.2089867493171459,-0.1676512102763415,-0.16560283453247904,-0.11476306010910915,-0.13487452185645565,-0.1469565256801801,0.3316005574215599,-0.14141238384768892],\"y\":[-1.355199411274698,-2.023783393069302,-1.1044292419789927,-2.2135638211100264,-2.0238750597890864,-2.018468024121074,-1.8118030686166444,-1.104427167230128,-0.9481388351202144,-1.1044435233401506,-1.8077209172267983,-1.2767879877675967,-1.3551965273126285,-1.1044736017372738,-1.1044619010057466,-0.44535671696637597,-1.2788735374399984,-1.1044266987933653,-1.1044265030293008,-1.1044241261107564,-0.9481407525616055,-1.8077381828912746,-1.3560345637777007,-1.1047429532987418,-1.1044202389317865,-1.104454804377868,-1.1044258233804565,-1.104424900773507,-1.6466949281097432,-1.1046535231528558,-1.104421752795992,-1.1044337484695634,-1.1036362817605367,-1.3551979644221885,-1.1044702257946455,-1.1044205148899584,-1.104420480853688,-1.104421776428445,-2.1390825868443444,-1.104422213192664,-1.1100708963573889,-1.3552008712135846,-1.104418504513925,-1.1044293013128337,-1.104521519006199,-1.1044316521013893,-1.3553390329941502,-1.3551993696880167,-1.3552065461170466,-1.3552330550497682,-1.3551982077902098,-0.948134406796096,-1.1044201115787573,-1.2488228972597968,-1.1044847945088618,-1.3552004528199464,-2.318966339701572,-2.321712102214923,-1.104436363330037,-1.1049845903934095,-1.1044321453184585,-1.1044214765701232,-1.104422528570274,-1.1045066287780785,-2.2119993308652246,-1.8075658373043113,-1.589026062262544,-1.1044172538952297,-1.1067996588918285,-2.2664462814443613,-1.1044203747918826,-1.355201911581474,-1.1457167458020165,-0.9481350290625493,-2.20517634934227,-1.3552155713835723,-0.9481371270564455,-1.1044998511807576,-1.104498001251504,-2.023835450706229,-2.202887306409833,-0.9481348809215553,-1.3551980064582767,-1.1044185582156905,-2.2287074768360666,-1.1044261320776572,-1.3549585391109262,-0.9481520243891003,-2.2425416500079334,-1.1044956574708156,-2.2897113419884554,-1.1044263511733998,-0.948139933625614,-1.1044203748181707,-0.94814555058433,-1.3132983832647906,-2.320384380725577,-1.355199700867363,-1.8076767287310227,-1.104456692435708,-1.355198795977645,-1.104428758796565,-2.213578519609084,-2.023832436620205,-2.0184688337585426,-1.1088193038250573,-0.9479823750440304,-0.9482092250015931,-2.320392449942735,-1.1044211894772642,-2.320390411653831,-2.2051567366247493,-0.9927766609113587,-2.213649714166945,-1.1044204629969203,-0.9485699302771118,-2.0184664397397762,-1.104419584219363,-2.205154047059515,-2.2323514018173527,-1.1061865489350016,-0.6744387234416215,-1.1044270470218722,-1.3557174371625376,-1.1044464428266654,-2.2135872358346935,-2.218735494271463,-2.2181232059600253,-2.1249195934776433,-2.320453297523596,-0.9481637687628307,-1.1044207361781708,-1.1044516811997025,-0.9481499759572952,-0.9481422428175786,-2.3204012306021666,-2.2254896133780355,-1.1195893266785202,-1.2468149316341681,-0.948572681856475,-1.3551993799715762,-1.109133334928258,-1.0389876878338746,-1.104424917562232,-1.1044500996187263,-1.1044503300546196,-1.1044498405700167,-2.3204192775076597,-2.025503783576961,-0.9477062409280509,-1.6466497964420574,-2.0184635312987904,-2.242585404044747,-1.104419517145664,-0.9482118950883298,-1.6466568653125015,-2.0239525120173316,-1.6466511886037158,-1.80767147092795,-2.3497153631698824,-2.3203870230893977,-2.0280830697609646,-0.948345091213506,-2.2138184387209443,-1.104850930036527,-1.278526053931727,-0.9481419119082717,-1.6466454187510928,-1.6467268474382784,-1.1044282973348203,-0.9481414041461235,-1.3551980125395633,-1.255168569168458,-2.7449433212659824,-2.2131907672229976,-2.32047301200424,-1.1043336206066279,-2.2425265734896858,-1.2490077989786743,-1.1044326404133382,-1.1060524317394467,-0.9482627169692279,-2.02663704977524,-2.320795718664989,-1.1044279441946883,-2.221048075690833,-2.018460748369101,-2.2136945291212746,-0.9481652958420564,-2.3203844019055033,-0.674421482319469,-2.205162570276653,-2.1653091735841477,-2.2135738931225832,-2.3206527571873705,-2.1989866311121022,-2.384081978217012,-2.2769981729012296,-2.320576077826929,-1.1968275396905104,-2.219852742902775,-0.9481421009933826,-1.1044296544496968,-2.21435009223468,-2.224892105131667,-0.7706935739454753,-2.2361813273497213,-1.3551799679913301,-0.9481438860339707,-1.1968617730407334,-2.0199356431289552,-2.2136038433619873,-1.3551993813785423,-2.3231561020490488,-2.2370146911905096,-2.2369723015853404,-2.2252787327083334,-1.1044581005238128,-2.0185636111434837,-2.0184643320649576,-1.5890679479015422,-1.3552029883919898,-0.4045161945614589,-1.3552348836088963,-1.1484294936340438,-1.6466850945201343,-2.240099658649617,-1.1045122687902205,-1.3552065225380872,-1.113327926709578,-1.2788720971570462,-1.1044203127397088,-1.1044701911124835,-1.8075953617600267,-2.1431828124813435,-2.0238324515219404,-2.3205634938488786,-2.018468063707722],\"z\":[0.13722388366296195,0.31315046018814285,-0.008003048881322717,0.3606016839656477,0.31313365663224946,0.4132405285612103,0.32554038769829324,-0.007984850482371433,0.056809501849274836,-0.007989540298913642,0.32924012251292123,-0.036251156863089586,0.13717687381576035,-0.008030873484134306,-0.007991042639628932,0.016839470831372154,0.009696376290947724,-0.007993403129242864,-0.007985194199938052,-0.007984019813402316,0.05681110591830948,0.32479659928308846,0.13123847056456117,-0.011944737686032051,-0.007988435810404221,-0.008055832736297397,-0.007988910874845698,-0.007983036431115424,0.20074541074322746,-0.00829586207508357,-0.00800264178143862,-0.007997121107779497,-0.03610276216207913,0.13722313493064983,-0.008037337813345246,-0.00798798709895374,-0.007982299570346562,-0.007994064191149931,0.4956228397120924,-0.007984049186169639,-0.00964643679405009,0.13722463916735642,-0.008085999568878375,-0.007983746115011903,-0.008006076756414899,-0.007991767957798266,0.13703091628890302,0.13721590493193683,0.1372211518550039,0.13722324555566534,0.1372296084153752,0.05681332834875794,-0.007989113525857338,0.3319373242811915,-0.008029798643276558,0.1372170809148957,0.2478315140896967,0.30262301145703907,-0.008005824379598271,-0.008203886957028008,-0.00802674878125783,-0.007982175244163857,-0.008029771842278436,-0.008243211611855877,0.36253241252240226,0.32977168161840187,0.15583905998553632,-0.007984587829031697,-0.009809742150633887,0.19181414250638873,-0.007982130985441947,0.1372251775477746,-0.014754793101854331,0.05680355547626711,0.3530642082880974,0.13722222489248467,0.05680831203689407,-0.00800512683632471,-0.008018246969217588,0.3131722277527606,0.20702096027824288,0.056808679212301955,0.1372231566839232,-0.00804712174974816,0.39620756266752444,-0.00800465822548145,0.13049005545877962,0.056796749202236034,0.3867582911723398,-0.007994483047280789,0.42935277921034665,-0.007984966878172297,0.05680854078659743,-0.007982130044943614,0.05681144750893412,0.761630768402434,0.30499192664586233,0.13722747924665182,0.32946197998160004,-0.008024328598736847,0.13722673495675275,-0.007986780013644662,0.37747649574396847,0.31316782333119714,0.4132409475408453,-0.00876459524177703,0.05658170050321464,0.05678229954477455,0.3049927374253148,-0.007982350207351468,0.30499045900736876,0.3530711251008559,0.04932469327054999,0.36058954023802126,-0.007982923681590058,0.0567328018387458,0.4132409322820239,-0.008012941171273468,0.35306636831316246,0.4700083292378129,-0.00829158624089207,-0.06208403309949538,-0.00798935456269996,0.13673361676880674,-0.0079904767385251,0.36058168075869734,0.3919222939236517,0.2148012980372592,0.4224256455501041,0.30441883800613645,0.05679793231131437,-0.007987651353392067,-0.007988683647871454,0.056803030896157194,0.056811601796335987,0.3049871864430492,0.4559106391774547,-0.06131330217170992,0.13820231564715565,0.05670363518071102,0.1372238674639002,-0.008755040023654468,-0.04184273027232378,-0.00798570875822048,-0.007992255252538397,-0.007997030496010877,-0.007997283799604665,0.3049858528326871,0.4104638701717245,0.05604112628098633,0.2008165804111326,0.413238203568711,0.3867422955127784,-0.008012975881270252,0.05674636078880568,0.20081473218056173,0.31315232401672977,0.20081583249390472,0.3296244482184741,0.2941715002862977,0.3049925292794807,0.3123164442938341,0.056754107359834514,0.3604276990078021,-0.009288661968044109,0.19683310319073927,0.05681115523877302,0.20081615043242804,0.20071176014866107,-0.007997419610838122,0.0568099135783566,0.1372234149563181,0.18373206668263975,0.21879443101316692,0.45894735861373587,0.30493806721242,-0.011085893343595653,0.38672907581674876,0.33172220891787924,-0.007987830371542616,-0.012768168434270883,0.056726774764398906,0.3126388128911824,0.3049019434071179,-0.007984448410653556,0.4019905955767899,0.413221774047991,0.3774513042162259,0.056798722560187316,0.304989367998055,-0.062084618671847586,0.35306916381408854,0.4745363314645534,0.3774774359540831,0.3049503243492751,0.2830115271927593,0.2816712261500549,0.2286785251294501,0.3047882813771346,0.3297514548191028,0.42019931858276627,0.05681088600161906,-0.007983901476363624,0.3604732366967628,0.29646911397438824,-0.04708531770139068,0.24587488024777018,0.13657784391657166,0.056810586120065974,0.3297453327593009,0.41168154773745724,0.377470450844222,0.1372238681919915,0.30395760656143594,0.33058800827830115,0.33059051124072886,0.23747242754607764,-0.00799912746742888,0.41321602592184414,0.4132355937733872,0.15583014482853796,0.1372125808400827,-0.07475980881509997,0.13719727211237967,-0.01521699709543922,0.19961948332339788,0.3300752660224452,-0.00824029295959226,0.13722113965311816,-0.01866765568282821,0.009689206937774872,-0.007983503123671479,-0.008011836859475714,0.3297861037053784,0.41910340444797767,0.313168356464872,0.3046593388953417,0.4132405490469218],\"type\":\"scatter3d\"},{\"customdata\":[[\"SHA-256 + Hive\"],[\"Proof-of-Authority\"],[\"Leased POS\"]],\"hovertemplate\":\"<b>%{hovertext}</b><br><br>Class=%{marker.color}<br>PC 1=%{x}<br>PC 2=%{y}<br>PC 3=%{z}<br>Algorithm=%{customdata[0]}<extra></extra>\",\"hovertext\":[\"LitecoinCash\",\"Poa Network\",\"Waves\"],\"legendgroup\":\"3\",\"marker\":{\"color\":[3,3,3],\"coloraxis\":\"coloraxis\",\"symbol\":\"square\"},\"mode\":\"markers\",\"name\":\"3\",\"scene\":\"scene\",\"showlegend\":true,\"x\":[-0.4690004009029497,-0.3995729848888705,-0.3426475729103632],\"y\":[2.631574264338281,2.761642203693289,3.757921346818266],\"z\":[25.214349950347373,13.589252407445029,9.574894835644765],\"type\":\"scatter3d\"},{\"customdata\":[[\"TRC10\"]],\"hovertemplate\":\"<b>%{hovertext}</b><br><br>Class=%{marker.color}<br>PC 1=%{x}<br>PC 2=%{y}<br>PC 3=%{z}<br>Algorithm=%{customdata[0]}<extra></extra>\",\"hovertext\":[\"BitTorrent\"],\"legendgroup\":\"2\",\"marker\":{\"color\":[2],\"coloraxis\":\"coloraxis\",\"symbol\":\"x\"},\"mode\":\"markers\",\"name\":\"2\",\"scene\":\"scene\",\"showlegend\":true,\"x\":[34.08691655107155],\"y\":[1.755912571988987],\"z\":[-0.7446408819918724],\"type\":\"scatter3d\"}],                        {\"template\":{\"data\":{\"histogram2dcontour\":[{\"type\":\"histogram2dcontour\",\"colorbar\":{\"outlinewidth\":0,\"ticks\":\"\"},\"colorscale\":[[0.0,\"#0d0887\"],[0.1111111111111111,\"#46039f\"],[0.2222222222222222,\"#7201a8\"],[0.3333333333333333,\"#9c179e\"],[0.4444444444444444,\"#bd3786\"],[0.5555555555555556,\"#d8576b\"],[0.6666666666666666,\"#ed7953\"],[0.7777777777777778,\"#fb9f3a\"],[0.8888888888888888,\"#fdca26\"],[1.0,\"#f0f921\"]]}],\"choropleth\":[{\"type\":\"choropleth\",\"colorbar\":{\"outlinewidth\":0,\"ticks\":\"\"}}],\"histogram2d\":[{\"type\":\"histogram2d\",\"colorbar\":{\"outlinewidth\":0,\"ticks\":\"\"},\"colorscale\":[[0.0,\"#0d0887\"],[0.1111111111111111,\"#46039f\"],[0.2222222222222222,\"#7201a8\"],[0.3333333333333333,\"#9c179e\"],[0.4444444444444444,\"#bd3786\"],[0.5555555555555556,\"#d8576b\"],[0.6666666666666666,\"#ed7953\"],[0.7777777777777778,\"#fb9f3a\"],[0.8888888888888888,\"#fdca26\"],[1.0,\"#f0f921\"]]}],\"heatmap\":[{\"type\":\"heatmap\",\"colorbar\":{\"outlinewidth\":0,\"ticks\":\"\"},\"colorscale\":[[0.0,\"#0d0887\"],[0.1111111111111111,\"#46039f\"],[0.2222222222222222,\"#7201a8\"],[0.3333333333333333,\"#9c179e\"],[0.4444444444444444,\"#bd3786\"],[0.5555555555555556,\"#d8576b\"],[0.6666666666666666,\"#ed7953\"],[0.7777777777777778,\"#fb9f3a\"],[0.8888888888888888,\"#fdca26\"],[1.0,\"#f0f921\"]]}],\"heatmapgl\":[{\"type\":\"heatmapgl\",\"colorbar\":{\"outlinewidth\":0,\"ticks\":\"\"},\"colorscale\":[[0.0,\"#0d0887\"],[0.1111111111111111,\"#46039f\"],[0.2222222222222222,\"#7201a8\"],[0.3333333333333333,\"#9c179e\"],[0.4444444444444444,\"#bd3786\"],[0.5555555555555556,\"#d8576b\"],[0.6666666666666666,\"#ed7953\"],[0.7777777777777778,\"#fb9f3a\"],[0.8888888888888888,\"#fdca26\"],[1.0,\"#f0f921\"]]}],\"contourcarpet\":[{\"type\":\"contourcarpet\",\"colorbar\":{\"outlinewidth\":0,\"ticks\":\"\"}}],\"contour\":[{\"type\":\"contour\",\"colorbar\":{\"outlinewidth\":0,\"ticks\":\"\"},\"colorscale\":[[0.0,\"#0d0887\"],[0.1111111111111111,\"#46039f\"],[0.2222222222222222,\"#7201a8\"],[0.3333333333333333,\"#9c179e\"],[0.4444444444444444,\"#bd3786\"],[0.5555555555555556,\"#d8576b\"],[0.6666666666666666,\"#ed7953\"],[0.7777777777777778,\"#fb9f3a\"],[0.8888888888888888,\"#fdca26\"],[1.0,\"#f0f921\"]]}],\"surface\":[{\"type\":\"surface\",\"colorbar\":{\"outlinewidth\":0,\"ticks\":\"\"},\"colorscale\":[[0.0,\"#0d0887\"],[0.1111111111111111,\"#46039f\"],[0.2222222222222222,\"#7201a8\"],[0.3333333333333333,\"#9c179e\"],[0.4444444444444444,\"#bd3786\"],[0.5555555555555556,\"#d8576b\"],[0.6666666666666666,\"#ed7953\"],[0.7777777777777778,\"#fb9f3a\"],[0.8888888888888888,\"#fdca26\"],[1.0,\"#f0f921\"]]}],\"mesh3d\":[{\"type\":\"mesh3d\",\"colorbar\":{\"outlinewidth\":0,\"ticks\":\"\"}}],\"scatter\":[{\"fillpattern\":{\"fillmode\":\"overlay\",\"size\":10,\"solidity\":0.2},\"type\":\"scatter\"}],\"parcoords\":[{\"type\":\"parcoords\",\"line\":{\"colorbar\":{\"outlinewidth\":0,\"ticks\":\"\"}}}],\"scatterpolargl\":[{\"type\":\"scatterpolargl\",\"marker\":{\"colorbar\":{\"outlinewidth\":0,\"ticks\":\"\"}}}],\"bar\":[{\"error_x\":{\"color\":\"#2a3f5f\"},\"error_y\":{\"color\":\"#2a3f5f\"},\"marker\":{\"line\":{\"color\":\"#E5ECF6\",\"width\":0.5},\"pattern\":{\"fillmode\":\"overlay\",\"size\":10,\"solidity\":0.2}},\"type\":\"bar\"}],\"scattergeo\":[{\"type\":\"scattergeo\",\"marker\":{\"colorbar\":{\"outlinewidth\":0,\"ticks\":\"\"}}}],\"scatterpolar\":[{\"type\":\"scatterpolar\",\"marker\":{\"colorbar\":{\"outlinewidth\":0,\"ticks\":\"\"}}}],\"histogram\":[{\"marker\":{\"pattern\":{\"fillmode\":\"overlay\",\"size\":10,\"solidity\":0.2}},\"type\":\"histogram\"}],\"scattergl\":[{\"type\":\"scattergl\",\"marker\":{\"colorbar\":{\"outlinewidth\":0,\"ticks\":\"\"}}}],\"scatter3d\":[{\"type\":\"scatter3d\",\"line\":{\"colorbar\":{\"outlinewidth\":0,\"ticks\":\"\"}},\"marker\":{\"colorbar\":{\"outlinewidth\":0,\"ticks\":\"\"}}}],\"scattermapbox\":[{\"type\":\"scattermapbox\",\"marker\":{\"colorbar\":{\"outlinewidth\":0,\"ticks\":\"\"}}}],\"scatterternary\":[{\"type\":\"scatterternary\",\"marker\":{\"colorbar\":{\"outlinewidth\":0,\"ticks\":\"\"}}}],\"scattercarpet\":[{\"type\":\"scattercarpet\",\"marker\":{\"colorbar\":{\"outlinewidth\":0,\"ticks\":\"\"}}}],\"carpet\":[{\"aaxis\":{\"endlinecolor\":\"#2a3f5f\",\"gridcolor\":\"white\",\"linecolor\":\"white\",\"minorgridcolor\":\"white\",\"startlinecolor\":\"#2a3f5f\"},\"baxis\":{\"endlinecolor\":\"#2a3f5f\",\"gridcolor\":\"white\",\"linecolor\":\"white\",\"minorgridcolor\":\"white\",\"startlinecolor\":\"#2a3f5f\"},\"type\":\"carpet\"}],\"table\":[{\"cells\":{\"fill\":{\"color\":\"#EBF0F8\"},\"line\":{\"color\":\"white\"}},\"header\":{\"fill\":{\"color\":\"#C8D4E3\"},\"line\":{\"color\":\"white\"}},\"type\":\"table\"}],\"barpolar\":[{\"marker\":{\"line\":{\"color\":\"#E5ECF6\",\"width\":0.5},\"pattern\":{\"fillmode\":\"overlay\",\"size\":10,\"solidity\":0.2}},\"type\":\"barpolar\"}],\"pie\":[{\"automargin\":true,\"type\":\"pie\"}]},\"layout\":{\"autotypenumbers\":\"strict\",\"colorway\":[\"#636efa\",\"#EF553B\",\"#00cc96\",\"#ab63fa\",\"#FFA15A\",\"#19d3f3\",\"#FF6692\",\"#B6E880\",\"#FF97FF\",\"#FECB52\"],\"font\":{\"color\":\"#2a3f5f\"},\"hovermode\":\"closest\",\"hoverlabel\":{\"align\":\"left\"},\"paper_bgcolor\":\"white\",\"plot_bgcolor\":\"#E5ECF6\",\"polar\":{\"bgcolor\":\"#E5ECF6\",\"angularaxis\":{\"gridcolor\":\"white\",\"linecolor\":\"white\",\"ticks\":\"\"},\"radialaxis\":{\"gridcolor\":\"white\",\"linecolor\":\"white\",\"ticks\":\"\"}},\"ternary\":{\"bgcolor\":\"#E5ECF6\",\"aaxis\":{\"gridcolor\":\"white\",\"linecolor\":\"white\",\"ticks\":\"\"},\"baxis\":{\"gridcolor\":\"white\",\"linecolor\":\"white\",\"ticks\":\"\"},\"caxis\":{\"gridcolor\":\"white\",\"linecolor\":\"white\",\"ticks\":\"\"}},\"coloraxis\":{\"colorbar\":{\"outlinewidth\":0,\"ticks\":\"\"}},\"colorscale\":{\"sequential\":[[0.0,\"#0d0887\"],[0.1111111111111111,\"#46039f\"],[0.2222222222222222,\"#7201a8\"],[0.3333333333333333,\"#9c179e\"],[0.4444444444444444,\"#bd3786\"],[0.5555555555555556,\"#d8576b\"],[0.6666666666666666,\"#ed7953\"],[0.7777777777777778,\"#fb9f3a\"],[0.8888888888888888,\"#fdca26\"],[1.0,\"#f0f921\"]],\"sequentialminus\":[[0.0,\"#0d0887\"],[0.1111111111111111,\"#46039f\"],[0.2222222222222222,\"#7201a8\"],[0.3333333333333333,\"#9c179e\"],[0.4444444444444444,\"#bd3786\"],[0.5555555555555556,\"#d8576b\"],[0.6666666666666666,\"#ed7953\"],[0.7777777777777778,\"#fb9f3a\"],[0.8888888888888888,\"#fdca26\"],[1.0,\"#f0f921\"]],\"diverging\":[[0,\"#8e0152\"],[0.1,\"#c51b7d\"],[0.2,\"#de77ae\"],[0.3,\"#f1b6da\"],[0.4,\"#fde0ef\"],[0.5,\"#f7f7f7\"],[0.6,\"#e6f5d0\"],[0.7,\"#b8e186\"],[0.8,\"#7fbc41\"],[0.9,\"#4d9221\"],[1,\"#276419\"]]},\"xaxis\":{\"gridcolor\":\"white\",\"linecolor\":\"white\",\"ticks\":\"\",\"title\":{\"standoff\":15},\"zerolinecolor\":\"white\",\"automargin\":true,\"zerolinewidth\":2},\"yaxis\":{\"gridcolor\":\"white\",\"linecolor\":\"white\",\"ticks\":\"\",\"title\":{\"standoff\":15},\"zerolinecolor\":\"white\",\"automargin\":true,\"zerolinewidth\":2},\"scene\":{\"xaxis\":{\"backgroundcolor\":\"#E5ECF6\",\"gridcolor\":\"white\",\"linecolor\":\"white\",\"showbackground\":true,\"ticks\":\"\",\"zerolinecolor\":\"white\",\"gridwidth\":2},\"yaxis\":{\"backgroundcolor\":\"#E5ECF6\",\"gridcolor\":\"white\",\"linecolor\":\"white\",\"showbackground\":true,\"ticks\":\"\",\"zerolinecolor\":\"white\",\"gridwidth\":2},\"zaxis\":{\"backgroundcolor\":\"#E5ECF6\",\"gridcolor\":\"white\",\"linecolor\":\"white\",\"showbackground\":true,\"ticks\":\"\",\"zerolinecolor\":\"white\",\"gridwidth\":2}},\"shapedefaults\":{\"line\":{\"color\":\"#2a3f5f\"}},\"annotationdefaults\":{\"arrowcolor\":\"#2a3f5f\",\"arrowhead\":0,\"arrowwidth\":1},\"geo\":{\"bgcolor\":\"white\",\"landcolor\":\"#E5ECF6\",\"subunitcolor\":\"white\",\"showland\":true,\"showlakes\":true,\"lakecolor\":\"white\"},\"title\":{\"x\":0.05},\"mapbox\":{\"style\":\"light\"}}},\"scene\":{\"domain\":{\"x\":[0.0,1.0],\"y\":[0.0,1.0]},\"xaxis\":{\"title\":{\"text\":\"PC 1\"}},\"yaxis\":{\"title\":{\"text\":\"PC 2\"}},\"zaxis\":{\"title\":{\"text\":\"PC 3\"}}},\"coloraxis\":{\"colorbar\":{\"title\":{\"text\":\"Class\"}},\"colorscale\":[[0.0,\"#0d0887\"],[0.1111111111111111,\"#46039f\"],[0.2222222222222222,\"#7201a8\"],[0.3333333333333333,\"#9c179e\"],[0.4444444444444444,\"#bd3786\"],[0.5555555555555556,\"#d8576b\"],[0.6666666666666666,\"#ed7953\"],[0.7777777777777778,\"#fb9f3a\"],[0.8888888888888888,\"#fdca26\"],[1.0,\"#f0f921\"]]},\"legend\":{\"title\":{\"text\":\"Class\"},\"tracegroupgap\":0,\"x\":0,\"y\":1},\"margin\":{\"t\":60},\"width\":800},                        {\"responsive\": true}                    ).then(function(){\n",
       "                            \n",
       "var gd = document.getElementById('0a2de073-e49e-486d-a55c-9074fc828e0d');\n",
       "var x = new MutationObserver(function (mutations, observer) {{\n",
       "        var display = window.getComputedStyle(gd).display;\n",
       "        if (!display || display === 'none') {{\n",
       "            console.log([gd, 'removed!']);\n",
       "            Plotly.purge(gd);\n",
       "            observer.disconnect();\n",
       "        }}\n",
       "}});\n",
       "\n",
       "// Listen for the removal of the full notebook cells\n",
       "var notebookContainer = gd.closest('#notebook-container');\n",
       "if (notebookContainer) {{\n",
       "    x.observe(notebookContainer, {childList: true});\n",
       "}}\n",
       "\n",
       "// Listen for the clearing of the current output cell\n",
       "var outputEl = gd.closest('.output');\n",
       "if (outputEl) {{\n",
       "    x.observe(outputEl, {childList: true});\n",
       "}}\n",
       "\n",
       "                        })                };                });            </script>        </div>"
      ]
     },
     "metadata": {},
     "output_type": "display_data"
    }
   ],
   "source": [
    "# Creating a 3D-Scatter with the PCA data and the clusters\n",
    "fig = px.scatter_3d(\n",
    "    clustered_df,\n",
    "    x=\"PC 1\",\n",
    "    y=\"PC 2\",\n",
    "    z=\"PC 3\",\n",
    "    color=\"Class\",\n",
    "    symbol=\"Class\",\n",
    "    width=800,\n",
    "    hover_data = ['Algorithm'],\n",
    "    hover_name = 'CoinName',\n",
    "    \n",
    ")\n",
    "fig.update_layout(legend=dict(x=0, y=1))\n",
    "fig.show()\n"
   ]
  },
  {
   "cell_type": "code",
   "execution_count": 178,
   "metadata": {},
   "outputs": [
    {
     "data": {},
     "metadata": {},
     "output_type": "display_data"
    },
    {
     "data": {
      "application/vnd.holoviews_exec.v0+json": "",
      "text/html": [
       "<div id='301971'>\n",
       "  <div class=\"bk-root\" id=\"a8c7ef60-8451-4081-910d-854c475bd8d9\" data-root-id=\"301971\"></div>\n",
       "</div>\n",
       "<script type=\"application/javascript\">(function(root) {\n",
       "  function embed_document(root) {\n",
       "    var docs_json = {\"77de465f-2810-41dc-b92e-c5c9f94ac791\":{\"defs\":[{\"extends\":null,\"module\":null,\"name\":\"ReactiveHTML1\",\"overrides\":[],\"properties\":[]},{\"extends\":null,\"module\":null,\"name\":\"FlexBox1\",\"overrides\":[],\"properties\":[{\"default\":\"flex-start\",\"kind\":null,\"name\":\"align_content\"},{\"default\":\"flex-start\",\"kind\":null,\"name\":\"align_items\"},{\"default\":\"row\",\"kind\":null,\"name\":\"flex_direction\"},{\"default\":\"wrap\",\"kind\":null,\"name\":\"flex_wrap\"},{\"default\":\"flex-start\",\"kind\":null,\"name\":\"justify_content\"}]},{\"extends\":null,\"module\":null,\"name\":\"GridStack1\",\"overrides\":[],\"properties\":[{\"default\":\"warn\",\"kind\":null,\"name\":\"mode\"},{\"default\":null,\"kind\":null,\"name\":\"ncols\"},{\"default\":null,\"kind\":null,\"name\":\"nrows\"},{\"default\":true,\"kind\":null,\"name\":\"allow_resize\"},{\"default\":true,\"kind\":null,\"name\":\"allow_drag\"},{\"default\":[],\"kind\":null,\"name\":\"state\"}]},{\"extends\":null,\"module\":null,\"name\":\"click1\",\"overrides\":[],\"properties\":[{\"default\":\"\",\"kind\":null,\"name\":\"terminal_output\"},{\"default\":\"\",\"kind\":null,\"name\":\"debug_name\"},{\"default\":0,\"kind\":null,\"name\":\"clears\"}]},{\"extends\":null,\"module\":null,\"name\":\"NotificationAreaBase1\",\"overrides\":[],\"properties\":[{\"default\":\"bottom-right\",\"kind\":null,\"name\":\"position\"},{\"default\":0,\"kind\":null,\"name\":\"_clear\"}]},{\"extends\":null,\"module\":null,\"name\":\"NotificationArea1\",\"overrides\":[],\"properties\":[{\"default\":[],\"kind\":null,\"name\":\"notifications\"},{\"default\":\"bottom-right\",\"kind\":null,\"name\":\"position\"},{\"default\":0,\"kind\":null,\"name\":\"_clear\"},{\"default\":[{\"background\":\"#ffc107\",\"icon\":{\"className\":\"fas fa-exclamation-triangle\",\"color\":\"white\",\"tagName\":\"i\"},\"type\":\"warning\"},{\"background\":\"#007bff\",\"icon\":{\"className\":\"fas fa-info-circle\",\"color\":\"white\",\"tagName\":\"i\"},\"type\":\"info\"}],\"kind\":null,\"name\":\"types\"}]},{\"extends\":null,\"module\":null,\"name\":\"Notification\",\"overrides\":[],\"properties\":[{\"default\":null,\"kind\":null,\"name\":\"background\"},{\"default\":3000,\"kind\":null,\"name\":\"duration\"},{\"default\":null,\"kind\":null,\"name\":\"icon\"},{\"default\":\"\",\"kind\":null,\"name\":\"message\"},{\"default\":null,\"kind\":null,\"name\":\"notification_type\"},{\"default\":false,\"kind\":null,\"name\":\"_destroyed\"}]},{\"extends\":null,\"module\":null,\"name\":\"TemplateActions1\",\"overrides\":[],\"properties\":[{\"default\":0,\"kind\":null,\"name\":\"open_modal\"},{\"default\":0,\"kind\":null,\"name\":\"close_modal\"}]},{\"extends\":null,\"module\":null,\"name\":\"MaterialTemplateActions1\",\"overrides\":[],\"properties\":[{\"default\":0,\"kind\":null,\"name\":\"open_modal\"},{\"default\":0,\"kind\":null,\"name\":\"close_modal\"}]}],\"roots\":{\"references\":[{\"attributes\":{\"editor\":{\"id\":\"301996\"},\"field\":\"TotalCoinsMined\",\"formatter\":{\"id\":\"301995\"},\"title\":\"TotalCoinsMined\"},\"id\":\"301997\",\"type\":\"TableColumn\"},{\"attributes\":{},\"id\":\"301991\",\"type\":\"StringEditor\"},{\"attributes\":{\"columns\":[{\"id\":\"301977\"},{\"id\":\"301982\"},{\"id\":\"301987\"},{\"id\":\"301992\"},{\"id\":\"301997\"},{\"id\":\"302002\"}],\"height\":300,\"reorderable\":false,\"source\":{\"id\":\"301973\"},\"view\":{\"id\":\"302007\"},\"width\":700},\"id\":\"302005\",\"type\":\"DataTable\"},{\"attributes\":{\"editor\":{\"id\":\"301991\"},\"field\":\"TotalCoinSupply\",\"formatter\":{\"id\":\"301990\"},\"title\":\"TotalCoinSupply\"},\"id\":\"301992\",\"type\":\"TableColumn\"},{\"attributes\":{\"margin\":[5,5,5,5],\"name\":\"HSpacer19634\",\"sizing_mode\":\"stretch_width\"},\"id\":\"301972\",\"type\":\"Spacer\"},{\"attributes\":{},\"id\":\"301990\",\"type\":\"StringFormatter\"},{\"attributes\":{\"editor\":{\"id\":\"301986\"},\"field\":\"ProofType\",\"formatter\":{\"id\":\"301985\"},\"title\":\"ProofType\"},\"id\":\"301987\",\"type\":\"TableColumn\"},{\"attributes\":{},\"id\":\"301976\",\"type\":\"StringEditor\"},{\"attributes\":{},\"id\":\"301996\",\"type\":\"NumberEditor\"},{\"attributes\":{},\"id\":\"301985\",\"type\":\"StringFormatter\"},{\"attributes\":{},\"id\":\"301986\",\"type\":\"StringEditor\"},{\"attributes\":{\"editor\":{\"id\":\"302001\"},\"field\":\"Class\",\"formatter\":{\"id\":\"302000\"},\"title\":\"Class\"},\"id\":\"302002\",\"type\":\"TableColumn\"},{\"attributes\":{\"margin\":[5,5,5,5],\"name\":\"HSpacer19635\",\"sizing_mode\":\"stretch_width\"},\"id\":\"302010\",\"type\":\"Spacer\"},{\"attributes\":{},\"id\":\"302008\",\"type\":\"UnionRenderers\"},{\"attributes\":{\"format\":\"0,0.0[00000]\"},\"id\":\"301995\",\"type\":\"NumberFormatter\"},{\"attributes\":{},\"id\":\"301975\",\"type\":\"StringFormatter\"},{\"attributes\":{\"children\":[{\"id\":\"301972\"},{\"id\":\"302005\"},{\"id\":\"302010\"}],\"margin\":[0,0,0,0],\"name\":\"Row19630\",\"tags\":[\"embedded\"]},\"id\":\"301971\",\"type\":\"Row\"},{\"attributes\":{},\"id\":\"301980\",\"type\":\"StringFormatter\"},{\"attributes\":{},\"id\":\"302001\",\"type\":\"IntEditor\"},{\"attributes\":{},\"id\":\"301974\",\"type\":\"Selection\"},{\"attributes\":{},\"id\":\"302000\",\"type\":\"NumberFormatter\"},{\"attributes\":{\"editor\":{\"id\":\"301981\"},\"field\":\"Algorithm\",\"formatter\":{\"id\":\"301980\"},\"title\":\"Algorithm\"},\"id\":\"301982\",\"type\":\"TableColumn\"},{\"attributes\":{},\"id\":\"301981\",\"type\":\"StringEditor\"},{\"attributes\":{\"source\":{\"id\":\"301973\"}},\"id\":\"302007\",\"type\":\"CDSView\"},{\"attributes\":{\"editor\":{\"id\":\"301976\"},\"field\":\"CoinName\",\"formatter\":{\"id\":\"301975\"},\"title\":\"CoinName\"},\"id\":\"301977\",\"type\":\"TableColumn\"},{\"attributes\":{\"data\":{\"Algorithm\":[\"Scrypt\",\"Scrypt\",\"X13\",\"SHA-256\",\"Ethash\",\"Scrypt\",\"X11\",\"CryptoNight-V7\",\"Ethash\",\"Equihash\",\"SHA-512\",\"Multiple\",\"SHA-256\",\"SHA-256\",\"Scrypt\",\"X15\",\"X11\",\"Scrypt\",\"Scrypt\",\"Scrypt\",\"Multiple\",\"Scrypt\",\"SHA-256\",\"Scrypt\",\"Scrypt\",\"Scrypt\",\"Quark\",\"Groestl\",\"Scrypt\",\"Scrypt\",\"Scrypt\",\"Scrypt\",\"Scrypt\",\"X11\",\"Scrypt\",\"Groestl\",\"Multiple\",\"SHA-256\",\"Scrypt\",\"Scrypt\",\"Scrypt\",\"Scrypt\",\"PoS\",\"Scrypt\",\"Scrypt\",\"NeoScrypt\",\"Scrypt\",\"Scrypt\",\"Scrypt\",\"Scrypt\",\"X11\",\"Scrypt\",\"X11\",\"SHA-256\",\"Scrypt\",\"Scrypt\",\"Scrypt\",\"SHA3\",\"Scrypt\",\"HybridScryptHash256\",\"Scrypt\",\"Scrypt\",\"SHA-256\",\"Scrypt\",\"X13\",\"Scrypt\",\"SHA-256\",\"Scrypt\",\"X13\",\"NeoScrypt\",\"Scrypt\",\"Scrypt\",\"Scrypt\",\"Scrypt\",\"Scrypt\",\"Scrypt\",\"X11\",\"X11\",\"SHA-256\",\"Multiple\",\"SHA-256\",\"PHI1612\",\"X11\",\"SHA-256\",\"SHA-256\",\"SHA-256\",\"X11\",\"Scrypt\",\"Scrypt\",\"Scrypt\",\"Scrypt\",\"Lyra2REv2\",\"Scrypt\",\"X11\",\"Multiple\",\"SHA-256\",\"X13\",\"Scrypt\",\"CryptoNight\",\"CryptoNight\",\"Shabal256\",\"Counterparty\",\"Scrypt\",\"SHA-256\",\"Groestl\",\"Scrypt\",\"Scrypt\",\"Scrypt\",\"X13\",\"Scrypt\",\"Scrypt\",\"Scrypt\",\"Scrypt\",\"X13\",\"Scrypt\",\"Stanford Folding\",\"X11\",\"Multiple\",\"QuBit\",\"Scrypt\",\"Scrypt\",\"Scrypt\",\"M7 POW\",\"Scrypt\",\"SHA-256\",\"Scrypt\",\"X11\",\"SHA3\",\"X11\",\"Lyra2RE\",\"SHA-256\",\"QUAIT\",\"X11\",\"X11\",\"Scrypt\",\"Scrypt\",\"Scrypt\",\"Ethash\",\"X13\",\"Blake2b\",\"SHA-256\",\"X15\",\"X11\",\"SHA-256\",\"BLAKE256\",\"Scrypt\",\"1GB AES Pattern Search\",\"SHA-256\",\"X11\",\"Scrypt\",\"SHA-256\",\"SHA-256\",\"NIST5\",\"Scrypt\",\"Scrypt\",\"X11\",\"Dagger\",\"Scrypt\",\"X11GOST\",\"X11\",\"Scrypt\",\"SHA-256\",\"Scrypt\",\"PoS\",\"Scrypt\",\"X11\",\"X11\",\"SHA-256\",\"SHA-256\",\"NIST5\",\"X11\",\"Scrypt\",\"POS 3.0\",\"Scrypt\",\"Scrypt\",\"Scrypt\",\"X13\",\"X11\",\"X11\",\"Equihash\",\"X11\",\"Scrypt\",\"CryptoNight\",\"SHA-256\",\"SHA-256\",\"X11\",\"Scrypt\",\"Multiple\",\"Scrypt\",\"Scrypt\",\"Scrypt\",\"SHA-256\",\"Scrypt\",\"Scrypt\",\"SHA-256D\",\"PoS\",\"Scrypt\",\"X11\",\"Lyra2Z\",\"PoS\",\"X13\",\"X14\",\"PoS\",\"SHA-256D\",\"Ethash\",\"Equihash\",\"DPoS\",\"X11\",\"Scrypt\",\"X11\",\"X13\",\"X11\",\"PoS\",\"Scrypt\",\"Scrypt\",\"X11\",\"PoS\",\"X11\",\"SHA-256\",\"Scrypt\",\"X11\",\"Scrypt\",\"Scrypt\",\"X11\",\"CryptoNight\",\"Scrypt\",\"Scrypt\",\"Scrypt\",\"Scrypt\",\"Quark\",\"QuBit\",\"Scrypt\",\"CryptoNight\",\"Lyra2RE\",\"Scrypt\",\"SHA-256\",\"X11\",\"Scrypt\",\"X11\",\"Scrypt\",\"CryptoNight-V7\",\"Scrypt\",\"Scrypt\",\"Scrypt\",\"X13\",\"X11\",\"Equihash\",\"Scrypt\",\"Scrypt\",\"Lyra2RE\",\"Scrypt\",\"Dagger-Hashimoto\",\"X11\",\"Blake2S\",\"X11\",\"Scrypt\",\"PoS\",\"X11\",\"NIST5\",\"PoS\",\"X11\",\"Scrypt\",\"Scrypt\",\"Scrypt\",\"SHA-256\",\"X11\",\"Scrypt\",\"Scrypt\",\"SHA-256\",\"PoS\",\"Scrypt\",\"X15\",\"SHA-256\",\"Scrypt\",\"POS 3.0\",\"CryptoNight-V7\",\"536\",\"Argon2d\",\"Blake2b\",\"Cloverhash\",\"CryptoNight\",\"NIST5\",\"X11\",\"NIST5\",\"Skein\",\"Scrypt\",\"X13\",\"Scrypt\",\"X11\",\"X11\",\"Scrypt\",\"CryptoNight\",\"X13\",\"Time Travel\",\"Scrypt\",\"Keccak\",\"SkunkHash v2 Raptor\",\"X11\",\"Skein\",\"SHA-256\",\"X11\",\"Scrypt\",\"VeChainThor Authority\",\"Scrypt\",\"PoS\",\"Scrypt\",\"Scrypt\",\"Scrypt\",\"Scrypt\",\"Scrypt\",\"Scrypt\",\"Scrypt\",\"CryptoNight\",\"SHA-512\",\"Ouroboros\",\"X11\",\"Equihash\",\"NeoScrypt\",\"X11\",\"Scrypt\",\"NeoScrypt\",\"Lyra2REv2\",\"Equihash\",\"Scrypt\",\"SHA-256\",\"NIST5\",\"PHI1612\",\"Dagger\",\"Scrypt\",\"Quark\",\"Scrypt\",\"POS 2.0\",\"Scrypt\",\"SHA-256\",\"X11\",\"NeoScrypt\",\"Ethash\",\"NeoScrypt\",\"X11\",\"DPoS\",\"NIST5\",\"X13\",\"Multiple\",\"Scrypt\",\"CryptoNight\",\"CryptoNight\",\"Ethash\",\"NIST5\",\"Quark\",\"X11\",\"CryptoNight-V7\",\"Scrypt\",\"Scrypt\",\"Scrypt\",\"X11\",\"BLAKE256\",\"X11\",\"NeoScrypt\",\"Quark\",\"NeoScrypt\",\"Scrypt\",\"Scrypt\",\"Scrypt\",\"X11\",\"X11\",\"SHA-256\",\"C11\",\"POS 3.0\",\"Ethash\",\"Scrypt\",\"CryptoNight\",\"SkunkHash\",\"Scrypt\",\"CryptoNight\",\"Scrypt\",\"Dagger\",\"Lyra2REv2\",\"X13\",\"Proof-of-BibleHash\",\"SHA-256 + Hive\",\"Scrypt\",\"Scrypt\",\"X11\",\"C11\",\"Proof-of-Authority\",\"X11\",\"XEVAN\",\"Scrypt\",\"VBFT\",\"Ethash\",\"CryptoNight\",\"Scrypt\",\"IMesh\",\"NIST5\",\"Scrypt\",\"Scrypt\",\"Equihash\",\"Scrypt\",\"Lyra2Z\",\"Green Protocol\",\"PoS\",\"Scrypt\",\"Semux BFT consensus\",\"X11\",\"Quark\",\"PoS\",\"CryptoNight\",\"X16R\",\"Scrypt\",\"NIST5\",\"Lyra2RE\",\"XEVAN\",\"Tribus\",\"Scrypt\",\"Lyra2Z\",\"CryptoNight\",\"CryptoNight Heavy\",\"CryptoNight\",\"Scrypt\",\"Scrypt\",\"Jump Consistent Hash\",\"SHA-256D\",\"CryptoNight\",\"Scrypt\",\"X15\",\"Scrypt\",\"Quark\",\"SHA-256\",\"DPoS\",\"X16R\",\"HMQ1725\",\"X11\",\"X16R\",\"Quark\",\"Quark\",\"Scrypt\",\"Lyra2REv2\",\"Quark\",\"Scrypt\",\"Scrypt\",\"CryptoNight-V7\",\"Cryptonight-GPU\",\"XEVAN\",\"CryptoNight Heavy\",\"X11\",\"X11\",\"Scrypt\",\"PoS\",\"SHA-256\",\"Keccak\",\"X11\",\"X11\",\"Scrypt\",\"SHA-512\",\"X16R\",\"ECC 256K1\",\"Equihash\",\"XEVAN\",\"Lyra2Z\",\"SHA-256\",\"XEVAN\",\"X11\",\"CryptoNight\",\"Quark\",\"Blake\",\"Blake\",\"Equihash\",\"Exosis\",\"Scrypt\",\"Scrypt\",\"Equihash\",\"Quark\",\"Equihash\",\"Quark\",\"Scrypt\",\"QuBit\",\"X11\",\"Scrypt\",\"XEVAN\",\"SHA-256D\",\"X11\",\"SHA-256\",\"X13\",\"SHA-256\",\"X11\",\"DPoS\",\"Scrypt\",\"Scrypt\",\"X11\",\"NeoScrypt\",\"Scrypt\",\"Blake\",\"Scrypt\",\"SHA-256\",\"Scrypt\",\"X11\",\"Scrypt\",\"Scrypt\",\"SHA-256\",\"X11\",\"SHA-256\",\"Scrypt\",\"Scrypt\",\"Scrypt\",\"Groestl\",\"X11\",\"Scrypt\",\"PoS\",\"Scrypt\",\"Scrypt\",\"X11\",\"SHA-256\",\"DPoS\",\"Scrypt\",\"Scrypt\",\"NeoScrypt\",\"Multiple\",\"X13\",\"Equihash+Scrypt\",\"DPoS\",\"Ethash\",\"DPoS\",\"SHA-256\",\"Leased POS\",\"PoS\",\"TRC10\",\"PoS\",\"SHA-256\",\"Scrypt\",\"CryptoNight\",\"Equihash\",\"Scrypt\"],\"Class\":{\"__ndarray__\":\"AAAAAAAAAAAAAAAAAQAAAAEAAAABAAAAAAAAAAEAAAABAAAAAQAAAAAAAAABAAAAAAAAAAAAAAABAAAAAAAAAAEAAAABAAAAAAAAAAAAAAABAAAAAQAAAAEAAAABAAAAAQAAAAAAAAABAAAAAQAAAAEAAAAAAAAAAQAAAAAAAAABAAAAAQAAAAAAAAAAAAAAAQAAAAEAAAABAAAAAQAAAAEAAAABAAAAAAAAAAAAAAABAAAAAQAAAAEAAAABAAAAAQAAAAAAAAAAAAAAAQAAAAAAAAABAAAAAQAAAAEAAAABAAAAAAAAAAEAAAABAAAAAAAAAAEAAAAAAAAAAAAAAAAAAAABAAAAAQAAAAEAAAAAAAAAAAAAAAAAAAAAAAAAAAAAAAEAAAABAAAAAQAAAAAAAAAAAAAAAQAAAAAAAAABAAAAAAAAAAAAAAABAAAAAQAAAAEAAAABAAAAAAAAAAAAAAABAAAAAAAAAAEAAAABAAAAAAAAAAAAAAABAAAAAAAAAAAAAAABAAAAAQAAAAAAAAAAAAAAAQAAAAAAAAAAAAAAAQAAAAAAAAABAAAAAAAAAAEAAAAAAAAAAQAAAAAAAAAAAAAAAQAAAAEAAAAAAAAAAQAAAAEAAAABAAAAAAAAAAEAAAABAAAAAQAAAAEAAAABAAAAAAAAAAAAAAABAAAAAQAAAAEAAAAAAAAAAQAAAAAAAAABAAAAAQAAAAAAAAABAAAAAAAAAAEAAAAAAAAAAAAAAAEAAAABAAAAAAAAAAEAAAABAAAAAAAAAAAAAAABAAAAAAAAAAEAAAAAAAAAAAAAAAAAAAABAAAAAQAAAAEAAAABAAAAAAAAAAAAAAAAAAAAAAAAAAAAAAABAAAAAQAAAAAAAAAAAAAAAAAAAAAAAAAAAAAAAQAAAAAAAAAAAAAAAAAAAAAAAAAAAAAAAQAAAAAAAAABAAAAAAAAAAAAAAABAAAAAAAAAAEAAAAAAAAAAAAAAAEAAAAAAAAAAQAAAAAAAAABAAAAAAAAAAEAAAAAAAAAAAAAAAAAAAAAAAAAAQAAAAAAAAAAAAAAAAAAAAAAAAAAAAAAAQAAAAEAAAAAAAAAAAAAAAEAAAABAAAAAAAAAAAAAAAAAAAAAAAAAAAAAAABAAAAAAAAAAAAAAAAAAAAAAAAAAAAAAAAAAAAAAAAAAAAAAABAAAAAAAAAAAAAAAAAAAAAAAAAAAAAAAAAAAAAQAAAAEAAAABAAAAAAAAAAAAAAAAAAAAAAAAAAEAAAAAAAAAAQAAAAAAAAAAAAAAAQAAAAAAAAABAAAAAQAAAAAAAAABAAAAAQAAAAAAAAABAAAAAAAAAAAAAAAAAAAAAQAAAAAAAAAAAAAAAQAAAAAAAAAAAAAAAAAAAAAAAAAAAAAAAAAAAAAAAAABAAAAAAAAAAEAAAAAAAAAAAAAAAAAAAAAAAAAAQAAAAAAAAABAAAAAAAAAAEAAAABAAAAAQAAAAEAAAAAAAAAAQAAAAAAAAAAAAAAAQAAAAAAAAABAAAAAQAAAAEAAAAAAAAAAQAAAAAAAAABAAAAAQAAAAEAAAAAAAAAAQAAAAAAAAABAAAAAAAAAAAAAAAAAAAAAQAAAAAAAAABAAAAAQAAAAEAAAABAAAAAQAAAAAAAAAAAAAAAQAAAAAAAAAAAAAAAAAAAAEAAAAAAAAAAQAAAAAAAAABAAAAAAAAAAEAAAAAAAAAAAAAAAAAAAAAAAAAAQAAAAAAAAAAAAAAAQAAAAAAAAAAAAAAAAAAAAEAAAABAAAAAQAAAAEAAAAAAAAAAAAAAAAAAAAAAAAAAQAAAAAAAAABAAAAAQAAAAEAAAAAAAAAAAAAAAEAAAABAAAAAAAAAAAAAAABAAAAAAAAAAEAAAABAAAAAQAAAAAAAAABAAAAAQAAAAAAAAAAAAAAAAAAAAEAAAABAAAAAQAAAAAAAAAAAAAAAAAAAAEAAAABAAAAAAAAAAEAAAABAAAAAQAAAAEAAAAAAAAAAAAAAAMAAAABAAAAAQAAAAEAAAAAAAAAAwAAAAAAAAAAAAAAAAAAAAAAAAABAAAAAQAAAAEAAAABAAAAAAAAAAAAAAAAAAAAAQAAAAAAAAABAAAAAAAAAAAAAAAAAAAAAAAAAAEAAAAAAAAAAAAAAAEAAAAAAAAAAAAAAAEAAAABAAAAAAAAAAEAAAAAAAAAAQAAAAEAAAABAAAAAQAAAAAAAAAAAAAAAQAAAAAAAAABAAAAAAAAAAAAAAAAAAAAAAAAAAAAAAAAAAAAAQAAAAEAAAABAAAAAAAAAAAAAAAAAAAAAAAAAAAAAAAAAAAAAQAAAAAAAAABAAAAAQAAAAEAAAABAAAAAAAAAAAAAAAAAAAAAAAAAAEAAAAAAAAAAAAAAAEAAAAAAAAAAAAAAAEAAAAAAAAAAQAAAAAAAAABAAAAAQAAAAAAAAAAAAAAAQAAAAAAAAABAAAAAQAAAAAAAAABAAAAAQAAAAAAAAABAAAAAAAAAAEAAAAAAAAAAAAAAAEAAAAAAAAAAAAAAAAAAAAAAAAAAAAAAAEAAAABAAAAAQAAAAAAAAAAAAAAAAAAAAEAAAAAAAAAAQAAAAAAAAABAAAAAAAAAAAAAAAAAAAAAAAAAAEAAAAAAAAAAAAAAAAAAAABAAAAAAAAAAEAAAAAAAAAAQAAAAAAAAAAAAAAAAAAAAEAAAABAAAAAAAAAAAAAAAAAAAAAAAAAAAAAAAAAAAAAQAAAAAAAAABAAAAAAAAAAEAAAAAAAAAAAAAAAMAAAAAAAAAAgAAAAAAAAAAAAAAAAAAAAEAAAABAAAAAAAAAA==\",\"dtype\":\"int32\",\"order\":\"little\",\"shape\":[532]},\"CoinName\":[\"42 Coin\",\"404Coin\",\"EliteCoin\",\"Bitcoin\",\"Ethereum\",\"Litecoin\",\"Dash\",\"Monero\",\"Ethereum Classic\",\"ZCash\",\"Bitshares\",\"DigiByte\",\"BitcoinDark\",\"PayCoin\",\"ProsperCoin\",\"KoboCoin\",\"Spreadcoin\",\"Argentum\",\"Aurora Coin\",\"BlueCoin\",\"MyriadCoin\",\"MoonCoin\",\"ZetaCoin\",\"SexCoin\",\"Quatloo\",\"EnergyCoin\",\"QuarkCoin\",\"Riecoin\",\"Digitalcoin \",\"BitBar\",\"Catcoin\",\"CryptoBullion\",\"CannaCoin\",\"CryptCoin\",\"CasinoCoin\",\"Diamond\",\"Verge\",\"DevCoin\",\"EarthCoin\",\"E-Gulden\",\"Einsteinium\",\"Emerald\",\"Exclusive Coin\",\"FlutterCoin\",\"Franko\",\"FeatherCoin\",\"GrandCoin\",\"GlobalCoin\",\"GoldCoin\",\"HoboNickels\",\"HyperStake\",\"Infinite Coin\",\"IOCoin\",\"IXcoin\",\"KrugerCoin\",\"LuckyCoin\",\"Litebar \",\"MaxCoin\",\"MegaCoin\",\"MediterraneanCoin\",\"MintCoin\",\"MinCoin\",\"MazaCoin\",\"Nautilus Coin\",\"NavCoin\",\"NobleCoin\",\"Namecoin\",\"NyanCoin\",\"OpalCoin\",\"Orbitcoin\",\"PotCoin\",\"PhoenixCoin\",\"Reddcoin\",\"RonPaulCoin\",\"StableCoin\",\"SmartCoin\",\"SuperCoin\",\"SyncCoin\",\"SysCoin\",\"TeslaCoin\",\"TigerCoin\",\"TittieCoin\",\"TorCoin\",\"TerraCoin\",\"UnbreakableCoin\",\"Unobtanium\",\"UroCoin\",\"UnitaryStatus Dollar\",\"UltraCoin\",\"ViaCoin\",\"VeriCoin\",\"Vertcoin\",\"WorldCoin\",\"X11 Coin\",\"Crypti\",\"JouleCoin\",\"StealthCoin\",\"ZCC Coin\",\"ByteCoin\",\"DigitalNote \",\"BurstCoin\",\"StorjCoin\",\"MonaCoin\",\"Neutron\",\"FairCoin\",\"Gulden\",\"RubyCoin\",\"PesetaCoin\",\"Kore\",\"Wild Beast Coin\",\"Dnotes\",\"Flo\",\"8BIT Coin\",\"Sativa Coin\",\"ArtByte\",\"Folding Coin\",\"Ucoin\",\"Unitus\",\"CypherPunkCoin\",\"OmniCron\",\"Vtorrent\",\"GreenCoin\",\"Cryptonite\",\"MasterCoin\",\"SoonCoin\",\"1Credit\",\"IslaCoin\",\"Nexus\",\"MarsCoin \",\"Crypto\",\"Anarchists Prime\",\"Droidz\",\"BowsCoin\",\"Squall Coin\",\"Song Coin\",\"BitZeny\",\"Diggits\",\"Expanse\",\"Paycon\",\"Siacoin\",\"Emercoin\",\"EverGreenCoin\",\"MindCoin\",\"I0coin\",\"Decred\",\"Revolution VR\",\"HOdlcoin\",\"EDRCoin\",\"Hitcoin\",\"Gamecredits\",\"DubaiCoin\",\"CarpeDiemCoin\",\"PWR Coin\",\"BillaryCoin\",\"GPU Coin\",\"Adzcoin\",\"SoilCoin\",\"YoCoin\",\"SibCoin\",\"EuropeCoin\",\"ZeitCoin\",\"SwingCoin\",\"SafeExchangeCoin\",\"Nebuchadnezzar\",\"Francs\",\"BolivarCoin\",\"Ratecoin\",\"Revenu\",\"Clockcoin\",\"VIP Tokens\",\"BitSend\",\"Omni\",\"Let it Ride\",\"PutinCoin\",\"iBankCoin\",\"Frankywillcoin\",\"MudraCoin\",\"PizzaCoin\",\"Lutetium Coin\",\"Komodo\",\"GoldBlocks\",\"CarterCoin\",\"Karbo\",\"BitTokens\",\"ZayedCoin\",\"MustangCoin\",\"ZoneCoin\",\"Circuits of Value\",\"RootCoin\",\"DopeCoin\",\"BitCurrency\",\"DollarCoin\",\"Swiscoin\",\"Shilling\",\"BuzzCoin\",\"Opair\",\"PesoBit\",\"Halloween Coin\",\"ZCoin\",\"CoffeeCoin\",\"RoyalCoin\",\"GanjaCoin V2\",\"TeamUP\",\"LanaCoin\",\"Elementrem\",\"ZClassic\",\"ARK\",\"InsaneCoin\",\"KiloCoin\",\"ArtexCoin\",\"EmberCoin\",\"XenixCoin\",\"FreeCoin\",\"PLNCoin\",\"AquariusCoin\",\"Kurrent\",\"Creatio\",\"Eternity\",\"Eurocoin\",\"BitcoinFast\",\"Stakenet\",\"BitConnect Coin\",\"MoneyCoin\",\"Enigma\",\"Cannabis Industry Coin\",\"Russiacoin\",\"PandaCoin\",\"GameUnits\",\"GAKHcoin\",\"Allsafe\",\"LiteCreed\",\"OsmiumCoin\",\"Bikercoins\",\"HexxCoin\",\"Klingon Empire Darsek\",\"Internet of People\",\"KushCoin\",\"Printerium\",\"PacCoin\",\"Impeach\",\"Citadel\",\"Zilbercoin\",\"FirstCoin\",\"BeaverCoin\",\"FindCoin\",\"VaultCoin\",\"Zero\",\"OpenChat\",\"Canada eCoin\",\"Zoin\",\"RenosCoin\",\"DubaiCoin\",\"VirtacoinPlus\",\"TajCoin\",\"Impact\",\"EB3coin\",\"Atmos\",\"HappyCoin\",\"Coinonat\",\"MacronCoin\",\"Condensate\",\"Independent Money System\",\"ArgusCoin\",\"LomoCoin\",\"ProCurrency\",\"GoldReserve\",\"BenjiRolls\",\"GrowthCoin\",\"ILCoin\",\"Phreak\",\"Degas Coin\",\"HTML5 Coin\",\"Ultimate Secure Cash\",\"EquiTrader\",\"QTUM\",\"Quantum Resistant Ledger\",\"Espers\",\"Dynamic\",\"Nano\",\"ChanCoin\",\"Dinastycoin\",\"Denarius\",\"DigitalPrice\",\"Virta Unique Coin\",\"Bitcoin Planet\",\"Unify\",\"BritCoin\",\"SocialCoin\",\"ArcticCoin\",\"DAS\",\"Linda\",\"LeviarCoin\",\"DeepOnion\",\"Bitcore\",\"gCn Coin\",\"SmartCash\",\"Signatum\",\"Onix\",\"Cream\",\"Bitcoin Cash\",\"Monoeci\",\"Draftcoin\",\"Vechain\",\"Sojourn Coin\",\"Stakecoin\",\"NewYorkCoin\",\"FrazCoin\",\"Kronecoin\",\"AdCoin\",\"Linx\",\"CoinonatX\",\"Ethereum Dark\",\"Sumokoin\",\"Obsidian\",\"Cardano\",\"Regalcoin\",\"BitcoinZ\",\"TrezarCoin\",\"Elements\",\"TerraNovaCoin\",\"VIVO Coin\",\"Rupee\",\"Bitcoin Gold\",\"WomenCoin\",\"Theresa May Coin\",\"NamoCoin\",\"LUXCoin\",\"Pirl\",\"Xios\",\"Bitcloud 2.0\",\"eBoost\",\"KekCoin\",\"BlackholeCoin\",\"Infinity Economics\",\"Pura\",\"Innova\",\"Ellaism\",\"GoByte\",\"Magnet\",\"Lamden Tau\",\"Electra\",\"Bitcoin Diamond\",\"SHIELD\",\"Cash & Back Coin\",\"UltraNote\",\"BitCoal\",\"DaxxCoin\",\"Bulwark\",\"Kalkulus\",\"AC3\",\"Lethean\",\"GermanCoin\",\"LiteCoin Ultra\",\"PopularCoin\",\"PhantomX\",\"Photon\",\"Sucre\",\"SparksPay\",\"Digiwage\",\"GunCoin\",\"IrishCoin\",\"Trollcoin\",\"Litecoin Plus\",\"Monkey Project\",\"Pioneer Coin\",\"UnitedBitcoin\",\"Interzone\",\"TokenPay\",\"1717 Masonic Commemorative Token\",\"My Big Coin\",\"TurtleCoin\",\"MUNcoin\",\"Unified Society USDEX\",\"Niobio Cash\",\"ShareChain\",\"Travelflex\",\"KREDS\",\"Tokyo Coin\",\"BiblePay\",\"LitecoinCash\",\"BitFlip\",\"LottoCoin\",\"Crypto Improvement Fund\",\"Stipend\",\"Poa Network\",\"Pushi\",\"Ellerium\",\"Velox\",\"Ontology\",\"Callisto Network\",\"BitTube\",\"Poseidon\",\"Aidos Kuneen\",\"Bitspace\",\"Briacoin\",\"Ignition\",\"Bitrolium\",\"MedicCoin\",\"Alpenschillling\",\"Bitcoin Green\",\"Deviant Coin\",\"Abjcoin\",\"Semux\",\"FuturoCoin\",\"Carebit\",\"Zealium\",\"Monero Classic\",\"Proton\",\"iDealCash\",\"Jumpcoin\",\"Infinex\",\"Bitcoin Incognito\",\"KEYCO\",\"HollyWoodCoin\",\"GINcoin\",\"PlatinCoin\",\"Loki\",\"Newton Coin\",\"Swisscoin\",\"Xt3ch\",\"MassGrid\",\"TheVig\",\"PluraCoin\",\"EmaratCoin\",\"Dekado\",\"Lynx\",\"Poseidon Quark\",\"BitcoinWSpectrum\",\"Muse\",\"Motion\",\"PlusOneCoin\",\"Axe\",\"Trivechain\",\"Dystem\",\"Giant\",\"Peony Coin\",\"Absolute Coin\",\"Vitae\",\"HexCoin\",\"TPCash\",\"Webchain\",\"Ryo\",\"Urals Coin\",\"Qwertycoin\",\"ARENON\",\"EUNO\",\"MMOCoin\",\"Ketan\",\"Project Pai\",\"XDNA\",\"PAXEX\",\"Azart\",\"ThunderStake\",\"Kcash\",\"Xchange\",\"Acute Angle Cloud\",\"CrypticCoin\",\"Bettex coin\",\"Actinium\",\"Bitcoin SV\",\"BitMoney\",\"Junson Ming Chan Coin\",\"FREDEnergy\",\"HerbCoin\",\"Universal Molecule\",\"Lithium\",\"PirateCash\",\"Exosis\",\"Block-Logic\",\"Oduwa\",\"Beam\",\"Galilel\",\"Bithereum\",\"Crypto Sports\",\"Credit\",\"SLICE\",\"Dash Platinum\",\"Nasdacoin\",\"Beetle Coin\",\"Titan Coin\",\"Award\",\"BLAST\",\"Bitcoin Rhodium\",\"GlobalToken\",\"Insane Coin\",\"ALAX\",\"LiteDoge\",\"SolarCoin\",\"TruckCoin\",\"UFO Coin\",\"OrangeCoin\",\"BlakeCoin\",\"BitstarCoin\",\"NeosCoin\",\"HyperCoin\",\"PinkCoin\",\"Crypto Escudo\",\"AudioCoin\",\"IncaKoin\",\"Piggy Coin\",\"Crown Coin\",\"Genstake\",\"SmileyCoin\",\"XiaoMiCoin\",\"Groestlcoin\",\"CapriCoin\",\" ClubCoin\",\"Radium\",\"Bata\",\"Pakcoin\",\"Creditbit \",\"OKCash\",\"Lisk\",\"HiCoin\",\"WhiteCoin\",\"FriendshipCoin\",\"JoinCoin\",\"Triangles Coin\",\"Vollar\",\"EOS\",\"Reality Clash\",\"Oxycoin\",\"TigerCash\",\"Waves\",\"Particl\",\"BitTorrent\",\"Nxt\",\"ZEPHYR\",\"Gapcoin\",\"Beldex\",\"Horizen\",\"BitcoinPlus\"],\"ProofType\":[\"PoW/PoS\",\"PoW/PoS\",\"PoW/PoS\",\"PoW\",\"PoW\",\"PoW\",\"PoW/PoS\",\"PoW\",\"PoW\",\"PoW\",\"PoS\",\"PoW\",\"PoW/PoS\",\"PoS\",\"PoW\",\"PoW/PoS\",\"PoW\",\"PoW\",\"PoW/PoS\",\"PoW/PoS\",\"PoW\",\"PoW\",\"PoW\",\"PoW\",\"PoW\",\"PoW/PoS\",\"PoW\",\"PoW\",\"PoW\",\"PoW/PoS\",\"PoW\",\"PoW/PoS\",\"PoW\",\"PoW\",\"PoC\",\"PoW/PoS\",\"PoW\",\"PoW\",\"PoW\",\"PoW\",\"PoW\",\"PoW\",\"PoS\",\"PoS/PoW/PoT\",\"PoW\",\"PoW\",\"PoW\",\"PoW\",\"PoW\",\"PoW/PoS\",\"PoS\",\"PoW\",\"PoW/PoS\",\"PoW\",\"PoW\",\"PoW\",\"PoW\",\"PoW/PoS\",\"PoW\",\"PoW\",\"PoS\",\"PoW\",\"PoW/PoS\",\"PoS\",\"PoW/PoS\",\"PoW\",\"PoW\",\"PoW\",\"PoW/PoS\",\"PoW/PoS\",\"PoW/PoS\",\"PoW/PoS\",\"PoW/PoS\",\"PoW\",\"PoW\",\"PoW\",\"PoS\",\"PoW/PoS\",\"PoW\",\"PoS\",\"PoW\",\"PoS\",\"PoW/PoS\",\"PoW\",\"PoW\",\"PoW\",\"PoW\",\"PoW/PoS\",\"PoW/PoS\",\"PoW\",\"PoST\",\"PoW\",\"PoW\",\"PoW/PoS\",\"PoS\",\"PoW\",\"PoW/PoS\",\"PoW/PoS\",\"PoW\",\"PoW\",\"PoC\",\"PoS\",\"PoW\",\"PoW/PoS\",\"PoW/PoS\",\"PoW\",\"PoS\",\"PoW\",\"PoW/PoS\",\"PoW\",\"PoS\",\"PoW\",\"PoW/PoS\",\"PoW/PoS\",\"PoW\",\"PoW\",\"PoS\",\"PoW\",\"PoW\",\"PoW\",\"PoW/PoS\",\"PoW\",\"PoW\",\"PoW\",\"PoW\",\"PoW\",\"PoW/PoS\",\"PoW/nPoS\",\"PoW\",\"PoW\",\"PoW\",\"PoW/PoS\",\"PoW\",\"PoS/PoW\",\"PoW\",\"PoW\",\"PoS\",\"PoW\",\"PoW/PoS\",\"PoW\",\"PoW/PoS\",\"PoW/PoS\",\"PoW\",\"PoW\",\"PoW/PoS\",\"PoW\",\"PoW\",\"PoW/PoS\",\"PoW/PoS\",\"PoW\",\"PoW/PoS\",\"PoW\",\"PoW/PoS\",\"PoW/PoS\",\"PoS\",\"PoW\",\"PoW\",\"PoW\",\"PoW\",\"PoW/PoS\",\"PoS\",\"PoW/PoS\",\"PoC\",\"PoS\",\"PoW\",\"PoW\",\"PoW/PoS\",\"PoW/PoS\",\"PoW/PoS\",\"PoW/PoS\",\"PoW/PoS\",\"PoW\",\"PoS\",\"PoW/PoS\",\"PoW/PoS\",\"PoW/PoS\",\"PoS\",\"PoW\",\"PoS\",\"dPoW/PoW\",\"PoW/PoS\",\"PoW/PoS\",\"PoW\",\"PoW/PoS\",\"PoW\",\"PoW/PoS\",\"PoW/PoS\",\"PoW\",\"PoW/PoS\",\"PoW\",\"PoS\",\"PoW\",\"PoW/PoW\",\"PoW\",\"PoW/PoS\",\"PoS\",\"PoW/PoS\",\"PoW/PoS\",\"PoW\",\"PoS\",\"PoS\",\"PoW/PoS\",\"PoS\",\"PoW/PoS\",\"PoW\",\"PoW\",\"DPoS\",\"PoW/PoS\",\"PoW\",\"PoW\",\"PoW/PoS\",\"PoW/PoS\",\"PoS\",\"PoW/PoS\",\"PoW/PoS\",\"PoW\",\"PoS\",\"PoW/PoS\",\"PoW/PoS\",\"PoW/PoS\",\"TPoS\",\"PoW/PoS\",\"PoW/PoS\",\"PoW/PoS\",\"PoW\",\"PoW/PoS\",\"PoS\",\"PoW/PoS\",\"PoW/PoS\",\"PoS\",\"PoW/PoS\",\"PoW\",\"PoW\",\"PoW\",\"PoW/PoS\",\"PoW/PoS\",\"PoW/PoS\",\"PoW/PoS\",\"PoW\",\"PoW/PoS\",\"PoW\",\"PoS\",\"PoW/PoS \",\"PoW\",\"PoS\",\"PoW\",\"PoW\",\"PoW/PoS\",\"PoW\",\"PoW\",\"PoS\",\"PoW\",\"PoW/PoS\",\"PoW/PoS\",\"PoW/PoS\",\"PoW\",\"PoS\",\"PoW/PoS\",\"PoW\",\"PoS\",\"PoW/PoS\",\"PoW/PoS\",\"PoW/PoS\",\"PoW/PoS\",\"PoS\",\"PoW/PoS\",\"PoW\",\"PoS\",\"PoW\",\"PoS\",\"PoW/PoS\",\"PoW/PoS\",\"PoS\",\"PoW\",\"PoS\",\"PoW\",\"PoW/PoS\",\"PoW\",\"PoW\",\"PoW\",\"PoW\",\"PoW/PoS\",\"PoW\",\"PoW/PoS\",\"PoW/PoS\",\"PoW\",\"PoW/PoS\",\"PoW\",\"PoW\",\"PoW\",\"PoW/PoS\",\"PoW\",\"PoW/PoS\",\"PoW\",\"PoW\",\"PoW\",\"PoS\",\"PoW\",\"PoW/PoS\",\"PoW\",\"PoW/PoS\",\"PoS\",\"Proof of Authority\",\"PoW\",\"PoS\",\"PoW\",\"PoW\",\"PoW\",\"PoW\",\"PoW\",\"PoW/PoS\",\"PoW/PoS\",\"PoW\",\"PoS\",\"PoS\",\"PoW/PoS\",\"PoW\",\"PoW/PoS\",\"PoW\",\"PoW/PoS\",\"PoW\",\"PoS\",\"PoW\",\"PoW/PoS\",\"PoW/PoS\",\"PoW/PoS\",\"PoW/PoS\",\"PoW\",\"PoW/PoS\",\"PoW/PoS\",\"PoW\",\"PoS\",\"PoW/PoS\",\"PoS\",\"PoW\",\"PoW\",\"PoW\",\"PoW\",\"PoW/PoS\",\"DPoS\",\"PoW/PoS\",\"PoW/PoS\",\"PoW\",\"PoW/PoS\",\"PoW\",\"PoW\",\"PoW\",\"PoS\",\"PoS\",\"PoW\",\"PoW\",\"PoW/PoS\",\"PoW/PoS\",\"PoW\",\"PoW/PoS\",\"PoW\",\"PoW\",\"PoW\",\"PoS\",\"PoW\",\"PoW\",\"PoW/PoS\",\"PoW/PoS\",\"PoS\",\"PoW\",\"PoW\",\"PoW\",\"PoS\",\"PoS\",\"PoW and PoS\",\"PoW\",\"PoW\",\"PoW/PoS\",\"PoW\",\"PoW\",\"PoW\",\"PoW\",\"PoS\",\"POBh\",\"PoW + Hive\",\"PoW\",\"PoW\",\"PoW\",\"PoW/PoS\",\"PoA\",\"PoW/PoS\",\"PoW/PoS\",\"PoS\",\"PoS\",\"PoW\",\"PoW\",\"PoW\",\"PoW\",\"PoW/PoS\",\"PoW/PoS\",\"PoW/PoS\",\"PoW\",\"PoS\",\"PoW\",\"PoS\",\"PoS\",\"PoW/PoS\",\"DPoS\",\"PoW\",\"PoW/PoS\",\"PoS\",\"PoW\",\"PoS\",\"PoW/PoS\",\"PoW\",\"PoW\",\"PoS/PoW\",\"PoW\",\"PoS\",\"PoW\",\"PoW\",\"PoW\",\"PoW\",\"PoW/PoS\",\"PoS\",\"PoW\",\"PoW/PoS\",\"PoW\",\"PoW/PoS\",\"PoS\",\"HPoW\",\"PoS\",\"PoS\",\"PoS\",\"PoW\",\"PoW\",\"PoW\",\"PoW/PoS\",\"PoS\",\"PoW/PoS\",\"PoS\",\"PoW/PoS\",\"PoS\",\"PoW\",\"PoW/PoS\",\"PoW\",\"PoW\",\"PoW\",\"PoW\",\"PoS\",\"PoW/PoS\",\"PoS\",\"PoS\",\"PoW\",\"PoW/PoS\",\"PoS\",\"PoW\",\"PoW/PoS\",\"Zero-Knowledge Proof\",\"PoW\",\"DPOS\",\"PoW\",\"PoS\",\"PoW\",\"PoW\",\"Pos\",\"PoS\",\"PoW\",\"PoW/PoS\",\"PoW\",\"PoW\",\"PoS\",\"PoW\",\"PoW\",\"PoW/PoS\",\"PoW\",\"PoW/PoS\",\"PoW\",\"PoS\",\"PoW/PoS\",\"PoW\",\"PoS\",\"PoW/PoS\",\"PoW/PoS\",\"PoW/PoS\",\"PoW/PoS\",\"PoW\",\"PoW\",\"PoW\",\"PoW/PoS\",\"DPoS\",\"PoW/PoS\",\"PoW\",\"PoW/PoS\",\"PoW\",\"PoW/PoS\",\"PoW\",\"PoW/PoS\",\"PoS\",\"PoW/PoS\",\"PoW/PoS\",\"PoW\",\"PoW/PoS\",\"PoW/PoS\",\"PoW/PoS\",\"PoW\",\"PoW/PoS\",\"PoW\",\"PoW/PoS\",\"PoW\",\"PoW/PoS\",\"PoW/PoS\",\"PoS\",\"PoW\",\"PoW\",\"Proof of Trust\",\"PoW/PoS\",\"DPoS\",\"PoS\",\"PoW/PoS\",\"PoW/PoS\",\"PoW\",\"PoW/PoS\",\"PoW\",\"DPoS\",\"PoW\",\"DPoS\",\"PoS\",\"LPoS\",\"PoS\",\"DPoS\",\"PoS/LPoS\",\"DPoS\",\"PoW/PoS\",\"PoW\",\"PoW\",\"PoS\"],\"TotalCoinSupply\":[\"42\",\"532000000\",\"314159265359\",\"21000000\",\"0\",\"84000000\",\"22000000\",\"0\",\"210000000\",\"21000000\",\"3600570502\",\"21000000000\",\"22000000\",\"12500000\",\"21000000\",\"350000000\",\"20000000\",\"64000000\",\"16768584\",\"0\",\"2000000000\",\"384000000000\",\"169795588\",\"250000000\",\"100000000\",\"0\",\"247000000\",\"84000000\",\"48166000\",\"500000\",\"21000000 \",\"1000000\",\"13140000\",\"18000000\",\"40000000000\",\"4380000\",\"16555000000\",\"21000000000\",\"13500000000\",\"21000000 \",\"299792458\",\"32000000\",\"0\",\"0\",\"11235813\",\"336000000\",\"1420609614\",\"70000000\",\"72245700\",\"120000000\",\"0\",\"90600000000\",\"22000000\",\"21000000\",\"265420800\",\"20000000\",\"1350000\",\"100000000\",\"42000000\",\"200000000\",\"0\",\"10000000\",\"2419200000\",\"16180000\",\"0\",\"15000000000\",\"21000000\",\"337000000\",\"0\",\"3770000\",\"420000000\",\"98000000\",\"0\",\"21000000\",\"250000000\",\"51200000\",\"0\",\"1000\",\"888000000\",\"100000000\",\"47011968\",\"2300000000\",\"10000000\",\"42000000\",\"80000000\",\"250000\",\"0\",\"1600000000\",\"100000000\",\"23000000\",\"0\",\"84000000\",\"265420800\",\"5500000\",\"0\",\"45000000\",\"0\",\"1000000000\",\"184467440735\",\"10000000000\",\"2158812800\",\"500000000\",\"105120000\",\"68000000\",\"0\",\"1680000000\",\"0\",\"166386000\",\"12000000\",\"2628000\",\"500000000\",\"160000000\",\"0\",\"10000000\",\"1000000000\",\"1000000000\",\"20000000\",\"0\",\"0\",\"3371337\",\"20000000\",\"10000000000\",\"1840000000\",\"619478\",\"21000000\",\"92000000000\",\"0\",\"78000000\",\"33000000\",\"65789100\",\"53760000\",\"5060000\",\"21000000\",\"0\",\"210240000\",\"250000000\",\"100000000\",\"16906397\",\"50000000\",\"0\",\"1000000000\",\"26298000\",\"16000000\",\"21000000\",\"21000000\",\"210000000\",\"81962100\",\"22000000\",\"26550000000\",\"84000000\",\"10500000\",\"21626280000 \",\"0\",\"42000000\",\"221052632\",\"84000000\",\"30000000\",\"168351300\",\"24000000\",\"384000000\",\" 99000000000\",\"40000000\",\"2147483647\",\"20000000\",\"20000000\",\"25000000\",\"75000000\",\"222725000\",\"525000000\",\"90000000\",\"139000000\",\"616448\",\"33500000\",\"2000000000\",\"44333333\",\"100000000\",\"200000000\",\"25000000\",\"657000000\",\"200000000\",\"50000000\",\"90000000\",\"10000000\",\"21000000\",\"9736000\",\"3000000\",\"21000000\",\"1200000000\",\"0\",\"200000000\",\"0\",\"10638298\",\"3100000000\",\"30000000\",\"20000000000\",\"74000000\",\"0\",\"1500000000\",\"21400000\",\"39999898\",\"2500124\",\"100000000\",\"301000000\",\"7506000000\",\"26205539\",\"21000000\",\"125000000\",\"30000000\",\"10000000000\",\"500000000\",\"850000000\",\"3853326.77707314\",\"50000000\",\"38540000 \",\"42000000\",\"228000000\",\"20000000\",\"60000000\",\"20000000\",\"33000000\",\"76500000\",\"28000000\",\"650659833\",\"5000000\",\"21000000\",\"144000000\",\"32514916898\",\"13000000\",\"3315789\",\"15000000\",\"78835200\",\"2714286\",\"25000000\",\"9999999\",\"500000000\",\"21000000\",\"9354000\",\"20000000\",\"100000000000\",\"21933333\",\"185000000\",\"55000000\",\"110000000\",\"3360000\",\"14524851.4827\",\"1000000000\",\"17000000\",\"1000000000\",\"100000000 \",\"21000000\",\"34426423\",\"2232901\",\"100000000\",\"36900000\",\"110000000\",\"4000000000\",\"110290030\",\"100000000\",\"48252000\",\"400000000\",\"500000000\",\"21212121\",\"28600000\",\"1000000000\",\"75000000000\",\"40000000\",\"35520400\",\"2000000000\",\"2500000000\",\"30000000\",\"105000000\",\"90000000000\",\"200084200\",\"72000000\",\"100000000\",\"105000000\",\"50000000000\",\"0\",\"340282367\",\"30000000\",\"2000000000\",\"10000000\",\"100000000\",\"120000000\",\"100000000\",\"19276800\",\"30000000\",\" 75000000\",\"60000000\",\"18900000\",\"50000000000\",\"54000000\",\"18898187.6216583\",\"21000000\",\"200000000000\",\"5000000000\",\"137500000\",\"1100000000\",\"100000000\",\"21000000\",\"9507271\",\"17405891.19707116\",\"86712634466\",\"10500000000\",\"61599965\",\"0\",\"20000000\",\"84000000\",\"100000000\",\"100000000\",\"48252000\",\"4200000\",\"88888888\",\"91388946\",\"45000000000\",\"27000000\",\"21000000000\",\"400000000\",\"1800000000\",\"15733333\",\"27000000\",\"24000000\",\"21000000\",\"25000000000\",\"100000000\",\"1200000000\",\"60000000\",\"156306732.71\",\"21000000\",\"200000000\",\"100000000\",\"21000000\",\"14788275.991\",\"9000000000\",\"350000000\",\"45000000\",\"280000000\",\"31800000\",\"144000000\",\"500000000\",\"30000000000\",\"210000000\",\"660000000\",\"210000000\",\"85000000000\",\"12500000\",\"10000000000\",\"27716121\",\"20000000\",\"550000000\",\"999481516\",\"50000000000\",\"150000000\",\"4999999999\",\"50000000\",\" 90000000000\",\"19800000\",\"21000000\",\"120000000\",\"500000000\",\"64000000\",\"900000000\",\"4000000\",\"21000000\",\"23000000\",\"20166000\",\"23000000\",\"25000000\",\"1618033\",\"30000000\",\"1000000000000\",\"16600000\",\"232000000\",\"336000000\",\"10000000000\",\"100000000\",\"1100000000\",\"800000000\",\"5200000000\",\"840000000\",\"40000000\",\"18406979840\",\"500000000\",\"19340594\",\"252460800\",\"25000000\",\"60000000\",\"124000000\",\"1000000000\",\"6500000000\",\"1000000000\",\"21000000\",\"25000000\",\"50000000\",\"3000000\",\"5000000\",\"70000000\",\"500000000\",\"300000000\",\"21000000\",\"88000000\",\"30000000\",\"100000000\",\"100000000\",\"200000000\",\"80000000\",\"18400000\",\"45000000\",\"5121951220\",\"21000000\",\"26280000\",\"21000000\",\"18000000\",\"26000000\",\"10500000\",\"600000518\",\"150000000\",\"184000000000\",\"10200000000\",\"44000000\",\"168000000\",\"100000000\",\"1000000000\",\"84000000\",\"90000000\",\"92000000000\",\"650000000 \",\"100262205\",\"18081806 \",\"22075700\",\"21000000\",\"21000000\",\"82546564\",\"21000000\",\"5151000\",\"16880000000\",\"52500000\",\"100000000\",\"22105263\",\"1000000000\",\"1750000000\",\"88188888\",\"210000000\",\"184470000000\",\"55000000\",\"50000000\",\"260000000\",\"210000000\",\"2100000000\",\"366000000\",\"100000000\",\"25000000\",\"18000000000\",\"1000000000\",\"100000000\",\"1000000000\",\"7600000000\",\"50000000\",\"84000000\",\"21000000\",\"70000000000\",\"0\",\"8080000000\",\"54000000\",\"105120001.44\",\"25228800\",\"105000000\",\"21000000\",\"120000000\",\"21000000\",\"262800000\",\"19035999\",\"30886000\",\"13370000\",\"74800000000\",\"100000000\",\"19700000\",\"84000000\",\"500000000\",\"5000000000\",\"420000000\",\"64000000\",\"2100000\",\"168000000\",\"30000000\",\"1000000000\",\"35000000000\",\"98100000000\",\"0\",\"4000000000\",\"200000000\",\"7000000000\",\"54256119\",\"21000000\",\"0\",\"500000000\",\"1000000000\",\"10500000000\",\"190000000\",\"1000000000\",\"42000000\",\"15000000\",\"50000000000\",\"400000000\",\"105000000\",\"208000000\",\"160000000\",\"9000000\",\"5000000\",\"182000000\",\"16504333\",\"105000000\",\"159918400\",\"10008835635\",\"300000000\",\"60168145\",\"2800000\",\"120000\",\"2100000000\",\"0\",\"24487944\",\"0\",\"1000000000\",\"100000000\",\"8634140\",\"990000000000\",\"1000000000\",\"2000000000\",\"250000000\",\"1400222610\",\"21000000\",\"1000000\"],\"TotalCoinsMined\":{\"__ndarray__\":\"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\",\"dtype\":\"float64\",\"order\":\"little\",\"shape\":[532]}},\"selected\":{\"id\":\"301974\"},\"selection_policy\":{\"id\":\"302008\"}},\"id\":\"301973\",\"type\":\"ColumnDataSource\"}],\"root_ids\":[\"301971\"]},\"title\":\"Bokeh Application\",\"version\":\"2.4.3\"}};\n",
       "    var render_items = [{\"docid\":\"77de465f-2810-41dc-b92e-c5c9f94ac791\",\"root_ids\":[\"301971\"],\"roots\":{\"301971\":\"a8c7ef60-8451-4081-910d-854c475bd8d9\"}}];\n",
       "    root.Bokeh.embed.embed_items_notebook(docs_json, render_items);\n",
       "    for (const render_item of render_items) {\n",
       "      for (const root_id of render_item.root_ids) {\n",
       "\tconst id_el = document.getElementById(root_id)\n",
       "\tif (id_el.children.length && (id_el.children[0].className === 'bk-root')) {\n",
       "\t  const root_el = id_el.children[0]\n",
       "\t  root_el.id = root_el.id + '-rendered'\n",
       "\t}\n",
       "      }\n",
       "    }\n",
       "  }\n",
       "  if (root.Bokeh !== undefined && root.Bokeh.Panel !== undefined) {\n",
       "    embed_document(root);\n",
       "  } else {\n",
       "    var attempts = 0;\n",
       "    var timer = setInterval(function(root) {\n",
       "      if (root.Bokeh !== undefined && root.Bokeh.Panel !== undefined) {\n",
       "        clearInterval(timer);\n",
       "        embed_document(root);\n",
       "      } else if (document.readyState == \"complete\") {\n",
       "        attempts++;\n",
       "        if (attempts > 200) {\n",
       "          clearInterval(timer);\n",
       "          console.log(\"Bokeh: ERROR: Unable to run BokehJS code because BokehJS library is missing\");\n",
       "        }\n",
       "      }\n",
       "    }, 25, root)\n",
       "  }\n",
       "})(window);</script>"
      ],
      "text/plain": [
       ":Table   [CoinName,Algorithm,ProofType,TotalCoinSupply,TotalCoinsMined,Class]"
      ]
     },
     "execution_count": 178,
     "metadata": {
      "application/vnd.holoviews_exec.v0+json": {
       "id": "301971"
      }
     },
     "output_type": "execute_result"
    }
   ],
   "source": [
    "# Create a table with tradable cryptocurrencies.\n",
    "clustered_df_table = clustered_df.hvplot.table(columns=[\"CoinName\",\"Algorithm\",\"ProofType\",\"TotalCoinSupply\",\"TotalCoinsMined\",\"Class\"])\n",
    "clustered_df_table"
   ]
  },
  {
   "cell_type": "code",
   "execution_count": 179,
   "metadata": {},
   "outputs": [
    {
     "name": "stdout",
     "output_type": "stream",
     "text": [
      "There are 532 tradable cryptocurrencies.\n"
     ]
    }
   ],
   "source": [
    "# Print the total number of tradable cryptocurrencies.\n",
    "print(f'There are {len(clustered_df_table[\"CoinName\"])} tradable cryptocurrencies.')"
   ]
  },
  {
   "cell_type": "code",
   "execution_count": 180,
   "metadata": {},
   "outputs": [
    {
     "data": {
      "text/plain": [
       "array([[4.20000000e-11, 0.00000000e+00],\n",
       "       [5.32000000e-04, 1.06585544e-03],\n",
       "       [3.14159265e-01, 2.95755135e-02],\n",
       "       ...,\n",
       "       [1.40022261e-03, 9.90135079e-04],\n",
       "       [2.10000000e-05, 7.37028150e-06],\n",
       "       [1.00000000e-06, 1.29582282e-07]])"
      ]
     },
     "execution_count": 180,
     "metadata": {},
     "output_type": "execute_result"
    }
   ],
   "source": [
    "# Scaling data to create the scatter plot with tradable cryptocurrencies.\n",
    "totalcoinsupply_totalcoinsmined = pd.DataFrame(clustered_df[\"TotalCoinSupply\"],columns=[\"TotalCoinSupply\"])\n",
    "totalcoinsupply_totalcoinsmined[\"TotalCoinsMined\"] = clustered_df[\"TotalCoinsMined\"]\n",
    "totalcoinsupply_totalcoinsmined_scaled = MinMaxScaler().fit_transform(totalcoinsupply_totalcoinsmined)\n",
    "totalcoinsupply_totalcoinsmined_scaled"
   ]
  },
  {
   "cell_type": "code",
   "execution_count": 181,
   "metadata": {},
   "outputs": [
    {
     "data": {
      "text/html": [
       "<div>\n",
       "<style scoped>\n",
       "    .dataframe tbody tr th:only-of-type {\n",
       "        vertical-align: middle;\n",
       "    }\n",
       "\n",
       "    .dataframe tbody tr th {\n",
       "        vertical-align: top;\n",
       "    }\n",
       "\n",
       "    .dataframe thead th {\n",
       "        text-align: right;\n",
       "    }\n",
       "</style>\n",
       "<table border=\"1\" class=\"dataframe\">\n",
       "  <thead>\n",
       "    <tr style=\"text-align: right;\">\n",
       "      <th></th>\n",
       "      <th>TotalCoinSupply</th>\n",
       "      <th>TotalCoinsMined</th>\n",
       "      <th>CoinName</th>\n",
       "      <th>Class</th>\n",
       "    </tr>\n",
       "  </thead>\n",
       "  <tbody>\n",
       "    <tr>\n",
       "      <th>42</th>\n",
       "      <td>4.200000e-11</td>\n",
       "      <td>0.000000</td>\n",
       "      <td>42 Coin</td>\n",
       "      <td>0</td>\n",
       "    </tr>\n",
       "    <tr>\n",
       "      <th>404</th>\n",
       "      <td>5.320000e-04</td>\n",
       "      <td>0.001066</td>\n",
       "      <td>404Coin</td>\n",
       "      <td>0</td>\n",
       "    </tr>\n",
       "    <tr>\n",
       "      <th>1337</th>\n",
       "      <td>3.141593e-01</td>\n",
       "      <td>0.029576</td>\n",
       "      <td>EliteCoin</td>\n",
       "      <td>0</td>\n",
       "    </tr>\n",
       "    <tr>\n",
       "      <th>BTC</th>\n",
       "      <td>2.100000e-05</td>\n",
       "      <td>0.000018</td>\n",
       "      <td>Bitcoin</td>\n",
       "      <td>1</td>\n",
       "    </tr>\n",
       "    <tr>\n",
       "      <th>ETH</th>\n",
       "      <td>0.000000e+00</td>\n",
       "      <td>0.000109</td>\n",
       "      <td>Ethereum</td>\n",
       "      <td>1</td>\n",
       "    </tr>\n",
       "    <tr>\n",
       "      <th>LTC</th>\n",
       "      <td>8.400000e-05</td>\n",
       "      <td>0.000064</td>\n",
       "      <td>Litecoin</td>\n",
       "      <td>1</td>\n",
       "    </tr>\n",
       "    <tr>\n",
       "      <th>DASH</th>\n",
       "      <td>2.200000e-05</td>\n",
       "      <td>0.000009</td>\n",
       "      <td>Dash</td>\n",
       "      <td>0</td>\n",
       "    </tr>\n",
       "    <tr>\n",
       "      <th>XMR</th>\n",
       "      <td>0.000000e+00</td>\n",
       "      <td>0.000017</td>\n",
       "      <td>Monero</td>\n",
       "      <td>1</td>\n",
       "    </tr>\n",
       "    <tr>\n",
       "      <th>ETC</th>\n",
       "      <td>2.100000e-04</td>\n",
       "      <td>0.000115</td>\n",
       "      <td>Ethereum Classic</td>\n",
       "      <td>1</td>\n",
       "    </tr>\n",
       "    <tr>\n",
       "      <th>ZEC</th>\n",
       "      <td>2.100000e-05</td>\n",
       "      <td>0.000007</td>\n",
       "      <td>ZCash</td>\n",
       "      <td>1</td>\n",
       "    </tr>\n",
       "  </tbody>\n",
       "</table>\n",
       "</div>"
      ],
      "text/plain": [
       "      TotalCoinSupply  TotalCoinsMined          CoinName  Class\n",
       "42       4.200000e-11         0.000000           42 Coin      0\n",
       "404      5.320000e-04         0.001066           404Coin      0\n",
       "1337     3.141593e-01         0.029576         EliteCoin      0\n",
       "BTC      2.100000e-05         0.000018           Bitcoin      1\n",
       "ETH      0.000000e+00         0.000109          Ethereum      1\n",
       "LTC      8.400000e-05         0.000064          Litecoin      1\n",
       "DASH     2.200000e-05         0.000009              Dash      0\n",
       "XMR      0.000000e+00         0.000017            Monero      1\n",
       "ETC      2.100000e-04         0.000115  Ethereum Classic      1\n",
       "ZEC      2.100000e-05         0.000007             ZCash      1"
      ]
     },
     "execution_count": 181,
     "metadata": {},
     "output_type": "execute_result"
    }
   ],
   "source": [
    "# Create a new DataFrame that has the scaled data with the clustered_df DataFrame index.\n",
    "plot_df = pd.DataFrame(data =totalcoinsupply_totalcoinsmined_scaled, columns=[\"TotalCoinSupply\",\"TotalCoinsMined\"], index = clustered_df.index)\n",
    "\n",
    "# Add the \"CoinName\" column from the clustered_df DataFrame to the new DataFrame.\n",
    "plot_df[\"CoinName\"] = clustered_df[\"CoinName\"]\n",
    "\n",
    "# Add the \"Class\" column from the clustered_df DataFrame to the new DataFrame. \n",
    "plot_df[\"Class\"] = clustered_df[\"Class\"]\n",
    "\n",
    "plot_df.head(10)"
   ]
  },
  {
   "cell_type": "code",
   "execution_count": 182,
   "metadata": {},
   "outputs": [
    {
     "data": {},
     "metadata": {},
     "output_type": "display_data"
    },
    {
     "data": {
      "application/vnd.holoviews_exec.v0+json": "",
      "text/html": [
       "<div id='302022'>\n",
       "  <div class=\"bk-root\" id=\"35256672-49dc-492a-b78c-7e033dcf6495\" data-root-id=\"302022\"></div>\n",
       "</div>\n",
       "<script type=\"application/javascript\">(function(root) {\n",
       "  function embed_document(root) {\n",
       "    var docs_json = {\"1e1462b2-37b8-4beb-9918-609dfbdde7b4\":{\"defs\":[{\"extends\":null,\"module\":null,\"name\":\"ReactiveHTML1\",\"overrides\":[],\"properties\":[]},{\"extends\":null,\"module\":null,\"name\":\"FlexBox1\",\"overrides\":[],\"properties\":[{\"default\":\"flex-start\",\"kind\":null,\"name\":\"align_content\"},{\"default\":\"flex-start\",\"kind\":null,\"name\":\"align_items\"},{\"default\":\"row\",\"kind\":null,\"name\":\"flex_direction\"},{\"default\":\"wrap\",\"kind\":null,\"name\":\"flex_wrap\"},{\"default\":\"flex-start\",\"kind\":null,\"name\":\"justify_content\"}]},{\"extends\":null,\"module\":null,\"name\":\"GridStack1\",\"overrides\":[],\"properties\":[{\"default\":\"warn\",\"kind\":null,\"name\":\"mode\"},{\"default\":null,\"kind\":null,\"name\":\"ncols\"},{\"default\":null,\"kind\":null,\"name\":\"nrows\"},{\"default\":true,\"kind\":null,\"name\":\"allow_resize\"},{\"default\":true,\"kind\":null,\"name\":\"allow_drag\"},{\"default\":[],\"kind\":null,\"name\":\"state\"}]},{\"extends\":null,\"module\":null,\"name\":\"click1\",\"overrides\":[],\"properties\":[{\"default\":\"\",\"kind\":null,\"name\":\"terminal_output\"},{\"default\":\"\",\"kind\":null,\"name\":\"debug_name\"},{\"default\":0,\"kind\":null,\"name\":\"clears\"}]},{\"extends\":null,\"module\":null,\"name\":\"NotificationAreaBase1\",\"overrides\":[],\"properties\":[{\"default\":\"bottom-right\",\"kind\":null,\"name\":\"position\"},{\"default\":0,\"kind\":null,\"name\":\"_clear\"}]},{\"extends\":null,\"module\":null,\"name\":\"NotificationArea1\",\"overrides\":[],\"properties\":[{\"default\":[],\"kind\":null,\"name\":\"notifications\"},{\"default\":\"bottom-right\",\"kind\":null,\"name\":\"position\"},{\"default\":0,\"kind\":null,\"name\":\"_clear\"},{\"default\":[{\"background\":\"#ffc107\",\"icon\":{\"className\":\"fas fa-exclamation-triangle\",\"color\":\"white\",\"tagName\":\"i\"},\"type\":\"warning\"},{\"background\":\"#007bff\",\"icon\":{\"className\":\"fas fa-info-circle\",\"color\":\"white\",\"tagName\":\"i\"},\"type\":\"info\"}],\"kind\":null,\"name\":\"types\"}]},{\"extends\":null,\"module\":null,\"name\":\"Notification\",\"overrides\":[],\"properties\":[{\"default\":null,\"kind\":null,\"name\":\"background\"},{\"default\":3000,\"kind\":null,\"name\":\"duration\"},{\"default\":null,\"kind\":null,\"name\":\"icon\"},{\"default\":\"\",\"kind\":null,\"name\":\"message\"},{\"default\":null,\"kind\":null,\"name\":\"notification_type\"},{\"default\":false,\"kind\":null,\"name\":\"_destroyed\"}]},{\"extends\":null,\"module\":null,\"name\":\"TemplateActions1\",\"overrides\":[],\"properties\":[{\"default\":0,\"kind\":null,\"name\":\"open_modal\"},{\"default\":0,\"kind\":null,\"name\":\"close_modal\"}]},{\"extends\":null,\"module\":null,\"name\":\"MaterialTemplateActions1\",\"overrides\":[],\"properties\":[{\"default\":0,\"kind\":null,\"name\":\"open_modal\"},{\"default\":0,\"kind\":null,\"name\":\"close_modal\"}]}],\"roots\":{\"references\":[{\"attributes\":{\"coordinates\":null,\"data_source\":{\"id\":\"302109\"},\"glyph\":{\"id\":\"302112\"},\"group\":null,\"hover_glyph\":null,\"muted_glyph\":{\"id\":\"302114\"},\"nonselection_glyph\":{\"id\":\"302113\"},\"selection_glyph\":{\"id\":\"302132\"},\"view\":{\"id\":\"302116\"}},\"id\":\"302115\",\"type\":\"GlyphRenderer\"},{\"attributes\":{\"axis\":{\"id\":\"302039\"},\"coordinates\":null,\"grid_line_color\":null,\"group\":null,\"ticker\":null},\"id\":\"302042\",\"type\":\"Grid\"},{\"attributes\":{\"label\":{\"value\":\"2\"},\"renderers\":[{\"id\":\"302115\"}]},\"id\":\"302131\",\"type\":\"LegendItem\"},{\"attributes\":{},\"id\":\"302062\",\"type\":\"AllLabels\"},{\"attributes\":{},\"id\":\"302048\",\"type\":\"PanTool\"},{\"attributes\":{},\"id\":\"302128\",\"type\":\"UnionRenderers\"},{\"attributes\":{\"source\":{\"id\":\"302109\"}},\"id\":\"302116\",\"type\":\"CDSView\"},{\"attributes\":{\"axis_label\":\"TotalCoinSupply\",\"coordinates\":null,\"formatter\":{\"id\":\"302064\"},\"group\":null,\"major_label_policy\":{\"id\":\"302065\"},\"ticker\":{\"id\":\"302044\"}},\"id\":\"302043\",\"type\":\"LinearAxis\"},{\"attributes\":{\"axis\":{\"id\":\"302043\"},\"coordinates\":null,\"dimension\":1,\"grid_line_color\":null,\"group\":null,\"ticker\":null},\"id\":\"302046\",\"type\":\"Grid\"},{\"attributes\":{\"source\":{\"id\":\"302087\"}},\"id\":\"302094\",\"type\":\"CDSView\"},{\"attributes\":{},\"id\":\"302044\",\"type\":\"BasicTicker\"},{\"attributes\":{},\"id\":\"302049\",\"type\":\"WheelZoomTool\"},{\"attributes\":{},\"id\":\"302047\",\"type\":\"SaveTool\"},{\"attributes\":{\"children\":[{\"id\":\"302023\"},{\"id\":\"302030\"},{\"id\":\"302175\"}],\"margin\":[0,0,0,0],\"name\":\"Row19803\",\"tags\":[\"embedded\"]},\"id\":\"302022\",\"type\":\"Row\"},{\"attributes\":{\"coordinates\":null,\"data_source\":{\"id\":\"302087\"},\"glyph\":{\"id\":\"302090\"},\"group\":null,\"hover_glyph\":null,\"muted_glyph\":{\"id\":\"302092\"},\"nonselection_glyph\":{\"id\":\"302091\"},\"selection_glyph\":{\"id\":\"302108\"},\"view\":{\"id\":\"302094\"}},\"id\":\"302093\",\"type\":\"GlyphRenderer\"},{\"attributes\":{\"coordinates\":null,\"group\":null,\"text_color\":\"black\",\"text_font_size\":\"12pt\"},\"id\":\"302031\",\"type\":\"Title\"},{\"attributes\":{\"overlay\":{\"id\":\"302052\"}},\"id\":\"302050\",\"type\":\"BoxZoomTool\"},{\"attributes\":{\"margin\":[5,5,5,5],\"name\":\"HSpacer19807\",\"sizing_mode\":\"stretch_width\"},\"id\":\"302023\",\"type\":\"Spacer\"},{\"attributes\":{},\"id\":\"302051\",\"type\":\"ResetTool\"},{\"attributes\":{\"data\":{\"Class\":[0,0,0,0,0,0,0,0,0,0,0,0,0,0,0,0,0,0,0,0,0,0,0,0,0,0,0,0,0,0,0,0,0,0,0,0,0,0,0,0,0,0,0,0,0,0,0,0,0,0,0,0,0,0,0,0,0,0,0,0,0,0,0,0,0,0,0,0,0,0,0,0,0,0,0,0,0,0,0,0,0,0,0,0,0,0,0,0,0,0,0,0,0,0,0,0,0,0,0,0,0,0,0,0,0,0,0,0,0,0,0,0,0,0,0,0,0,0,0,0,0,0,0,0,0,0,0,0,0,0,0,0,0,0,0,0,0,0,0,0,0,0,0,0,0,0,0,0,0,0,0,0,0,0,0,0,0,0,0,0,0,0,0,0,0,0,0,0,0,0,0,0,0,0,0,0,0,0,0,0,0,0,0,0,0,0,0,0,0,0,0,0,0,0,0,0,0,0,0,0,0,0,0,0,0,0,0,0,0,0,0,0,0,0,0,0,0,0,0,0,0,0,0,0,0,0,0,0,0,0,0,0,0,0,0,0,0,0,0,0,0,0,0,0,0,0,0,0,0,0,0,0,0,0,0,0,0,0,0,0,0,0,0,0,0,0,0,0,0,0,0,0,0,0,0,0,0,0,0,0,0,0,0,0,0,0,0,0,0,0],\"CoinName\":[\"42 Coin\",\"404Coin\",\"EliteCoin\",\"Dash\",\"Bitshares\",\"BitcoinDark\",\"PayCoin\",\"KoboCoin\",\"Aurora Coin\",\"BlueCoin\",\"EnergyCoin\",\"BitBar\",\"CryptoBullion\",\"CasinoCoin\",\"Diamond\",\"Exclusive Coin\",\"FlutterCoin\",\"HoboNickels\",\"HyperStake\",\"IOCoin\",\"MaxCoin\",\"MintCoin\",\"MazaCoin\",\"Nautilus Coin\",\"NavCoin\",\"OpalCoin\",\"Orbitcoin\",\"PotCoin\",\"PhoenixCoin\",\"Reddcoin\",\"SuperCoin\",\"SyncCoin\",\"TeslaCoin\",\"TittieCoin\",\"TorCoin\",\"UnitaryStatus Dollar\",\"UltraCoin\",\"VeriCoin\",\"X11 Coin\",\"Crypti\",\"StealthCoin\",\"ZCC Coin\",\"BurstCoin\",\"StorjCoin\",\"Neutron\",\"FairCoin\",\"RubyCoin\",\"Kore\",\"Dnotes\",\"8BIT Coin\",\"Sativa Coin\",\"Ucoin\",\"Vtorrent\",\"IslaCoin\",\"Nexus\",\"Droidz\",\"Squall Coin\",\"Diggits\",\"Paycon\",\"Emercoin\",\"EverGreenCoin\",\"Decred\",\"EDRCoin\",\"Hitcoin\",\"DubaiCoin\",\"PWR Coin\",\"BillaryCoin\",\"GPU Coin\",\"EuropeCoin\",\"ZeitCoin\",\"SwingCoin\",\"SafeExchangeCoin\",\"Nebuchadnezzar\",\"Ratecoin\",\"Revenu\",\"Clockcoin\",\"VIP Tokens\",\"BitSend\",\"Let it Ride\",\"PutinCoin\",\"iBankCoin\",\"Frankywillcoin\",\"MudraCoin\",\"Lutetium Coin\",\"GoldBlocks\",\"CarterCoin\",\"BitTokens\",\"MustangCoin\",\"ZoneCoin\",\"RootCoin\",\"BitCurrency\",\"Swiscoin\",\"BuzzCoin\",\"Opair\",\"PesoBit\",\"Halloween Coin\",\"CoffeeCoin\",\"RoyalCoin\",\"GanjaCoin V2\",\"TeamUP\",\"LanaCoin\",\"ARK\",\"InsaneCoin\",\"EmberCoin\",\"XenixCoin\",\"FreeCoin\",\"PLNCoin\",\"AquariusCoin\",\"Creatio\",\"Eternity\",\"Eurocoin\",\"BitcoinFast\",\"Stakenet\",\"BitConnect Coin\",\"MoneyCoin\",\"Enigma\",\"Russiacoin\",\"PandaCoin\",\"GameUnits\",\"GAKHcoin\",\"Allsafe\",\"LiteCreed\",\"Klingon Empire Darsek\",\"Internet of People\",\"KushCoin\",\"Printerium\",\"Impeach\",\"Zilbercoin\",\"FirstCoin\",\"FindCoin\",\"OpenChat\",\"RenosCoin\",\"VirtacoinPlus\",\"TajCoin\",\"Impact\",\"Atmos\",\"HappyCoin\",\"MacronCoin\",\"Condensate\",\"Independent Money System\",\"ArgusCoin\",\"LomoCoin\",\"ProCurrency\",\"GoldReserve\",\"GrowthCoin\",\"Phreak\",\"Degas Coin\",\"HTML5 Coin\",\"Ultimate Secure Cash\",\"QTUM\",\"Espers\",\"Denarius\",\"Virta Unique Coin\",\"Bitcoin Planet\",\"BritCoin\",\"Linda\",\"DeepOnion\",\"Signatum\",\"Cream\",\"Monoeci\",\"Draftcoin\",\"Vechain\",\"Stakecoin\",\"CoinonatX\",\"Ethereum Dark\",\"Obsidian\",\"Cardano\",\"Regalcoin\",\"TrezarCoin\",\"TerraNovaCoin\",\"Rupee\",\"WomenCoin\",\"Theresa May Coin\",\"NamoCoin\",\"LUXCoin\",\"Xios\",\"Bitcloud 2.0\",\"KekCoin\",\"BlackholeCoin\",\"Infinity Economics\",\"Magnet\",\"Lamden Tau\",\"Electra\",\"Bitcoin Diamond\",\"Cash & Back Coin\",\"Bulwark\",\"Kalkulus\",\"GermanCoin\",\"LiteCoin Ultra\",\"PhantomX\",\"Digiwage\",\"Trollcoin\",\"Litecoin Plus\",\"Monkey Project\",\"TokenPay\",\"1717 Masonic Commemorative Token\",\"My Big Coin\",\"Unified Society USDEX\",\"Tokyo Coin\",\"BiblePay\",\"Stipend\",\"Pushi\",\"Ellerium\",\"Velox\",\"Ontology\",\"Bitspace\",\"Briacoin\",\"Ignition\",\"MedicCoin\",\"Bitcoin Green\",\"Deviant Coin\",\"Abjcoin\",\"Semux\",\"Carebit\",\"Zealium\",\"Proton\",\"iDealCash\",\"Bitcoin Incognito\",\"HollyWoodCoin\",\"Swisscoin\",\"Xt3ch\",\"TheVig\",\"EmaratCoin\",\"Dekado\",\"Lynx\",\"Poseidon Quark\",\"BitcoinWSpectrum\",\"Muse\",\"Trivechain\",\"Dystem\",\"Giant\",\"Peony Coin\",\"Absolute Coin\",\"Vitae\",\"TPCash\",\"ARENON\",\"EUNO\",\"MMOCoin\",\"Ketan\",\"XDNA\",\"PAXEX\",\"ThunderStake\",\"Kcash\",\"Acute Angle Cloud\",\"Bettex coin\",\"BitMoney\",\"Junson Ming Chan Coin\",\"HerbCoin\",\"PirateCash\",\"Oduwa\",\"Galilel\",\"Crypto Sports\",\"Credit\",\"Dash Platinum\",\"Nasdacoin\",\"Beetle Coin\",\"Titan Coin\",\"Award\",\"Insane Coin\",\"ALAX\",\"LiteDoge\",\"TruckCoin\",\"OrangeCoin\",\"BitstarCoin\",\"NeosCoin\",\"HyperCoin\",\"PinkCoin\",\"AudioCoin\",\"IncaKoin\",\"Piggy Coin\",\"Genstake\",\"XiaoMiCoin\",\"CapriCoin\",\" ClubCoin\",\"Radium\",\"Creditbit \",\"OKCash\",\"Lisk\",\"HiCoin\",\"WhiteCoin\",\"FriendshipCoin\",\"Triangles Coin\",\"EOS\",\"Oxycoin\",\"TigerCash\",\"Particl\",\"Nxt\",\"ZEPHYR\",\"Gapcoin\",\"BitcoinPlus\"],\"TotalCoinSupply\":{\"__ndarray__\":\"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\",\"dtype\":\"float64\",\"order\":\"little\",\"shape\":[290]},\"TotalCoinsMined\":{\"__ndarray__\":\"AAAAAAAAAADVQ6eRhXZRP0gFXx0LSZ4/fb2YAaYh4z6ruJV6oa9mP4fxacJq17U+W7PlNwxp6T7W0pn52A37PoFADD9SNfM+Y2BMhDkIRT+TanQDD0sgP35ukl9tEWc+7S9W9+ubsT49x1z95a+kP28YHhABAMw+ye+KsSkQ2D76DhvNkpI+P1ecpQYuoxc/Ypyz9GrHWz/7kyPDCLLyPpO8/kFBRRA/0/9nDoYGlj/8i/ixXrVaP7x4IiUyI/E+j6uxX+B/ET9yUL0Vow3wPvxfgvURSss+cvkNgl17LT+LzHsEg5UTPwaytCCdUp4/8TiBm6/aCj9doxA1Q7ITPkOS6FanQBU/dL+NX1fZWj+VBQyzwkO4PlcDUAL0L1I/fTIxK6KaCj/j5byfQfUAPxuOVInTct0++0V+YL96Gj9FarAorYYBPzHwJWnxlyM/L/f3qVABXj+Tp6kxyxkLP8ZkQxXrtwQ/ibYLlr8rDD876RpKEMv8PqXMCj0KI8E+Y9QbIWkfJz/NWTdK5t+4PhEtw1ouEd4+SuSuQabKxj5dOKHlN5XoPj9ykiLfprk+IXp/RSnbED9yRrm5bCbiPvbV3K8TUJY++0V+YL96Gj+usZO2/Wf4PjQmLIvTzQY/1efNMZmp7D5+56xI8fTlPuaDOXY0GM8+uMNU6Ym/hj8I144k4rrVPosWSaGt1IQ/AkyV+P4P4z7jP4drq28FPzwUggjXC+Y+7L0e6OUeoz9rTh5jVovSPvn/Em4kxWE/kQBSK/0u9T7vjyYFktAhP3lc7dd7QrQ+QPXFzhym8T4+Nd5F5BgWP9J6jnO41Pk+ObDN1M5vBD+HQ9Dqr+lKP3YCdaw0LdM++0V+YL96Gj/CsEps9C7VPlS9UGUMv0U/pqRxDiJ88D7oqXRGKNwGP54PeOINLqQ+9FiPodBJpj5CAX3zt+DFPsR5KJfqb8A+T/4f/1R0Jj9wy+L1hwRGP4Iw9VQZQJQ/QVxHa5CaEz9q4x6W3sABP+anRel4hTE//jSGyJGwIz9a3dieLS/FPvtFfmC/eho/0CaSSobf8j7om9ie0ehRP4yfDBK/phw/2bdahaRt8z5pi0xWDNe3PzoFWd5FU9A+qVTopb56Cj8Kl7V81RnyPnWw/lSIwcQ+kQBSK/0u9T4WN5ZE6rbZPjz585B5Teo+mJbD7Cdx9T4t+OpgFAQUP+s1WKcNeec+4Jew0N0e5z5bwhuTX5yrPv5ylEtMv+E+qgjVT8Z8oT9eSCgLgW3NPrZMGtKEGMw+gWG4BsRH5j7bwMkrHwIAP/7gqRozYvk+ycQ2iXpnxT4Swqe2z/nXPmWo1pTmCuk+NMilXEnjlD75z9m7pMPIPrZ+M2OfIB0/oIVe/s3E7j56Q0MFuIxQP8DjwNiFFwM/Yojc8CLi6z6/xleSd8/pPjaSA+NaSx0/RxRsP55tHT8TzIbUfsv2PvWgsIfWkjo/vX+hfbIbID9qIh3CGb/WPtzbifm0dbM+ClzCLAnyoD4HdZcEvp8aP4T+AFYCMPI+MqZkmp+JMz9Xk1ir5SDoPkAjePZqn/Y+EiXgvSYHpT8A2wc5DOnlPvtFfmC/eho/PAT7udKVlz/kKuRSPKzRPvzVMe6uqhA/LSuoRvfT3D741RgF1Yb2PjQa6ZQatoI/cEzD1ck29z5MptGTM5ccP79RNfoAEQk/A/IJ6Umg6j460UXAisTzPs2g4AcRrqw/mO9bzlry0D6EUc3xJbL0PqB8WFRGy9E+B3K8ML16+j57/PtlW9GaP8LmK5XBxN4+Bh/umUwuKD8wD8hOyFSzPrzBQMmWa/k+rp7aV+kPqT9CUqMh5F8YP74vR7jljUI/McZWDzOY4T6jQtQrAzfCPh9wp4i2QwA/xDTgUPke6j4Qs5xlsVTxPkgxPBFPnoI/fiLM5MQ6BD+6ihEDPBIzP7lLXILzX50/YrqCwqdMKD/hujF22WIdP2ulizrsD+w+x4lPZ4v18T5woSpeKVJ0P4cZ6sLR1eE+fhwrH33sBz9y9oQbTOr8Pnc7MYj+j0M/CEcxCKQ4xT7hpgdtD6zSPrvcymHip/U+bnHiGX5ruz5EiFexPenjPhJgttbRFy8/7udFeLF9Lj+PWA2R2lNdP+c6R5mU1ec+u+X6Flxewj69xrZ1NWucPtASAlBMFfs+GJsR1eyKRT/aFzKZITXtPvDlnPIQqaw+dKhUDHkItD64Z5wg3LExP9oOofWExOQ+51LeU9Mr9z6Q31yKLO7kPpoR1LgG3bQ+VSmOPUyAIj+ib5N/FnbnPsNzqfNQqNI+RjXBTQU9Vz+SE54zvRnnPqEkCZqrfwQ/LvAeFNEZhT/0x9r6uSngPiopGOdCmgE/vKQ4Yabg9j5yMj9ExgkAP3wmmCQII7Q/K8r/+wcExz42SXejuJ0OP8CrILqLRfM+hj+ewNiNAz816e99hAHePqwxxcI7FNk+RoR7IXyosT45rbWhQT7sPoehaumffRE/fSgBQ+vk1j5WbQyj6mj0PoqPGjvKSwA/m/qEcQqJHD/EaDW8FMLjPu6Jv2XDy9M+i5sRq68V0z7rbVw4uopRP3pDQwW4jFA/ekNDBbiMUD+PpPcVk8HcPuXrojJimys/qyDjxRnNkT/It8W1cbMCP5hG8hX4i+w+ImlavtdN7z7j92z1i1jzPgfZcP2pZMA+iirv8H3inz/i1s0RRUGoPkBWWhkuw/U+omxXO8JWKj8jMEysQqtNPyjBbHovVfA+C5KNNNcu+T56Q0MFuIxQP2D1pTy6sI8/zCNKYd8OMD+tHcn0sfjNPmOsZctQy/U+f2HIS8yb0j5kYzQw+mbkPiMYZ3/U4jw/nNMshRY7UD+cQ8suWY6SP4nBtdPqW0A/H8ZSq37GDz84uK+F5sM6P2MAAb39qCo/GCSU+ENwGz9L9hxTejDQPsPpRhaz5vE+mJIs6RnGEz8y4x8SUscfP/Gwxj8HsIQ/W6H50rSuMD+k9GATf/yyPqtJN1OLFIM+RW+UnMLjUD8RwmraN5NSP3pDQwW4jFA/s0VJGDmq4z56Q0MFuIxQPwcccQq4jGA/OcIUhBWh7z5CDuXNaWSBPg==\",\"dtype\":\"float64\",\"order\":\"little\",\"shape\":[290]}},\"selected\":{\"id\":\"302067\"},\"selection_policy\":{\"id\":\"302081\"}},\"id\":\"302066\",\"type\":\"ColumnDataSource\"},{\"attributes\":{\"fill_alpha\":{\"value\":0.2},\"fill_color\":{\"value\":\"#fc4f30\"},\"hatch_alpha\":{\"value\":0.2},\"hatch_color\":{\"value\":\"#fc4f30\"},\"line_alpha\":{\"value\":0.2},\"line_color\":{\"value\":\"#fc4f30\"},\"size\":{\"value\":5.477225575051661},\"x\":{\"field\":\"TotalCoinsMined\"},\"y\":{\"field\":\"TotalCoinSupply\"}},\"id\":\"302092\",\"type\":\"Scatter\"},{\"attributes\":{\"bottom_units\":\"screen\",\"coordinates\":null,\"fill_alpha\":0.5,\"fill_color\":\"lightgrey\",\"group\":null,\"left_units\":\"screen\",\"level\":\"overlay\",\"line_alpha\":1.0,\"line_color\":\"black\",\"line_dash\":[4,4],\"line_width\":2,\"right_units\":\"screen\",\"syncable\":false,\"top_units\":\"screen\"},\"id\":\"302052\",\"type\":\"BoxAnnotation\"},{\"attributes\":{},\"id\":\"302081\",\"type\":\"UnionRenderers\"},{\"attributes\":{\"fill_alpha\":{\"value\":0.1},\"fill_color\":{\"value\":\"#fc4f30\"},\"hatch_alpha\":{\"value\":0.1},\"hatch_color\":{\"value\":\"#fc4f30\"},\"line_alpha\":{\"value\":0.1},\"line_color\":{\"value\":\"#fc4f30\"},\"size\":{\"value\":5.477225575051661},\"x\":{\"field\":\"TotalCoinsMined\"},\"y\":{\"field\":\"TotalCoinSupply\"}},\"id\":\"302091\",\"type\":\"Scatter\"},{\"attributes\":{\"fill_color\":{\"value\":\"#fc4f30\"},\"hatch_color\":{\"value\":\"#fc4f30\"},\"line_color\":{\"value\":\"#fc4f30\"},\"size\":{\"value\":5.477225575051661},\"x\":{\"field\":\"TotalCoinsMined\"},\"y\":{\"field\":\"TotalCoinSupply\"}},\"id\":\"302090\",\"type\":\"Scatter\"},{\"attributes\":{\"angle\":{\"value\":0.0},\"fill_alpha\":{\"value\":1.0},\"fill_color\":{\"value\":\"#6d904f\"},\"hatch_alpha\":{\"value\":1.0},\"hatch_color\":{\"value\":\"#6d904f\"},\"hatch_scale\":{\"value\":12.0},\"hatch_weight\":{\"value\":1.0},\"line_alpha\":{\"value\":1.0},\"line_cap\":{\"value\":\"butt\"},\"line_color\":{\"value\":\"#6d904f\"},\"line_dash\":{\"value\":[]},\"line_dash_offset\":{\"value\":0},\"line_join\":{\"value\":\"bevel\"},\"line_width\":{\"value\":1},\"marker\":{\"value\":\"circle\"},\"size\":{\"value\":5.477225575051661},\"x\":{\"field\":\"TotalCoinsMined\"},\"y\":{\"field\":\"TotalCoinSupply\"}},\"id\":\"302158\",\"type\":\"Scatter\"},{\"attributes\":{},\"id\":\"302104\",\"type\":\"UnionRenderers\"},{\"attributes\":{\"data\":{\"Class\":[1,1,1,1,1,1,1,1,1,1,1,1,1,1,1,1,1,1,1,1,1,1,1,1,1,1,1,1,1,1,1,1,1,1,1,1,1,1,1,1,1,1,1,1,1,1,1,1,1,1,1,1,1,1,1,1,1,1,1,1,1,1,1,1,1,1,1,1,1,1,1,1,1,1,1,1,1,1,1,1,1,1,1,1,1,1,1,1,1,1,1,1,1,1,1,1,1,1,1,1,1,1,1,1,1,1,1,1,1,1,1,1,1,1,1,1,1,1,1,1,1,1,1,1,1,1,1,1,1,1,1,1,1,1,1,1,1,1,1,1,1,1,1,1,1,1,1,1,1,1,1,1,1,1,1,1,1,1,1,1,1,1,1,1,1,1,1,1,1,1,1,1,1,1,1,1,1,1,1,1,1,1,1,1,1,1,1,1,1,1,1,1,1,1,1,1,1,1,1,1,1,1,1,1,1,1,1,1,1,1,1,1,1,1,1,1,1,1,1,1,1,1,1,1,1,1,1,1,1,1,1,1,1,1,1,1,1,1],\"CoinName\":[\"Bitcoin\",\"Ethereum\",\"Litecoin\",\"Monero\",\"Ethereum Classic\",\"ZCash\",\"DigiByte\",\"ProsperCoin\",\"Spreadcoin\",\"Argentum\",\"MyriadCoin\",\"MoonCoin\",\"ZetaCoin\",\"SexCoin\",\"Quatloo\",\"QuarkCoin\",\"Riecoin\",\"Digitalcoin \",\"Catcoin\",\"CannaCoin\",\"CryptCoin\",\"Verge\",\"DevCoin\",\"EarthCoin\",\"E-Gulden\",\"Einsteinium\",\"Emerald\",\"Franko\",\"FeatherCoin\",\"GrandCoin\",\"GlobalCoin\",\"GoldCoin\",\"Infinite Coin\",\"IXcoin\",\"KrugerCoin\",\"LuckyCoin\",\"Litebar \",\"MegaCoin\",\"MediterraneanCoin\",\"MinCoin\",\"NobleCoin\",\"Namecoin\",\"NyanCoin\",\"RonPaulCoin\",\"StableCoin\",\"SmartCoin\",\"SysCoin\",\"TigerCoin\",\"TerraCoin\",\"UnbreakableCoin\",\"Unobtanium\",\"UroCoin\",\"ViaCoin\",\"Vertcoin\",\"WorldCoin\",\"JouleCoin\",\"ByteCoin\",\"DigitalNote \",\"MonaCoin\",\"Gulden\",\"PesetaCoin\",\"Wild Beast Coin\",\"Flo\",\"ArtByte\",\"Folding Coin\",\"Unitus\",\"CypherPunkCoin\",\"OmniCron\",\"GreenCoin\",\"Cryptonite\",\"MasterCoin\",\"SoonCoin\",\"1Credit\",\"MarsCoin \",\"Crypto\",\"Anarchists Prime\",\"BowsCoin\",\"Song Coin\",\"BitZeny\",\"Expanse\",\"Siacoin\",\"MindCoin\",\"I0coin\",\"Revolution VR\",\"HOdlcoin\",\"Gamecredits\",\"CarpeDiemCoin\",\"Adzcoin\",\"SoilCoin\",\"YoCoin\",\"SibCoin\",\"Francs\",\"BolivarCoin\",\"Omni\",\"PizzaCoin\",\"Komodo\",\"Karbo\",\"ZayedCoin\",\"Circuits of Value\",\"DopeCoin\",\"DollarCoin\",\"Shilling\",\"ZCoin\",\"Elementrem\",\"ZClassic\",\"KiloCoin\",\"ArtexCoin\",\"Kurrent\",\"Cannabis Industry Coin\",\"OsmiumCoin\",\"Bikercoins\",\"HexxCoin\",\"PacCoin\",\"Citadel\",\"BeaverCoin\",\"VaultCoin\",\"Zero\",\"Canada eCoin\",\"Zoin\",\"DubaiCoin\",\"EB3coin\",\"Coinonat\",\"BenjiRolls\",\"ILCoin\",\"EquiTrader\",\"Quantum Resistant Ledger\",\"Dynamic\",\"Nano\",\"ChanCoin\",\"Dinastycoin\",\"DigitalPrice\",\"Unify\",\"SocialCoin\",\"ArcticCoin\",\"DAS\",\"LeviarCoin\",\"Bitcore\",\"gCn Coin\",\"SmartCash\",\"Onix\",\"Bitcoin Cash\",\"Sojourn Coin\",\"NewYorkCoin\",\"FrazCoin\",\"Kronecoin\",\"AdCoin\",\"Linx\",\"Sumokoin\",\"BitcoinZ\",\"Elements\",\"VIVO Coin\",\"Bitcoin Gold\",\"Pirl\",\"eBoost\",\"Pura\",\"Innova\",\"Ellaism\",\"GoByte\",\"SHIELD\",\"UltraNote\",\"BitCoal\",\"DaxxCoin\",\"AC3\",\"Lethean\",\"PopularCoin\",\"Photon\",\"Sucre\",\"SparksPay\",\"GunCoin\",\"IrishCoin\",\"Pioneer Coin\",\"UnitedBitcoin\",\"Interzone\",\"TurtleCoin\",\"MUNcoin\",\"Niobio Cash\",\"ShareChain\",\"Travelflex\",\"KREDS\",\"BitFlip\",\"LottoCoin\",\"Crypto Improvement Fund\",\"Callisto Network\",\"BitTube\",\"Poseidon\",\"Aidos Kuneen\",\"Bitrolium\",\"Alpenschillling\",\"FuturoCoin\",\"Monero Classic\",\"Jumpcoin\",\"Infinex\",\"KEYCO\",\"GINcoin\",\"PlatinCoin\",\"Loki\",\"Newton Coin\",\"MassGrid\",\"PluraCoin\",\"Motion\",\"PlusOneCoin\",\"Axe\",\"HexCoin\",\"Webchain\",\"Ryo\",\"Urals Coin\",\"Qwertycoin\",\"Project Pai\",\"Azart\",\"Xchange\",\"CrypticCoin\",\"Actinium\",\"Bitcoin SV\",\"FREDEnergy\",\"Universal Molecule\",\"Lithium\",\"Exosis\",\"Block-Logic\",\"Beam\",\"Bithereum\",\"SLICE\",\"BLAST\",\"Bitcoin Rhodium\",\"GlobalToken\",\"SolarCoin\",\"UFO Coin\",\"BlakeCoin\",\"Crypto Escudo\",\"Crown Coin\",\"SmileyCoin\",\"Groestlcoin\",\"Bata\",\"Pakcoin\",\"JoinCoin\",\"Vollar\",\"Reality Clash\",\"Beldex\",\"Horizen\"],\"TotalCoinSupply\":{\"__ndarray__\":\"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\",\"dtype\":\"float64\",\"order\":\"little\",\"shape\":[238]},\"TotalCoinsMined\":{\"__ndarray__\":\"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\",\"dtype\":\"float64\",\"order\":\"little\",\"shape\":[238]}},\"selected\":{\"id\":\"302088\"},\"selection_policy\":{\"id\":\"302104\"}},\"id\":\"302087\",\"type\":\"ColumnDataSource\"},{\"attributes\":{\"label\":{\"value\":\"1\"},\"renderers\":[{\"id\":\"302093\"}]},\"id\":\"302107\",\"type\":\"LegendItem\"},{\"attributes\":{\"fill_alpha\":{\"value\":0.1},\"fill_color\":{\"value\":\"#e5ae38\"},\"hatch_alpha\":{\"value\":0.1},\"hatch_color\":{\"value\":\"#e5ae38\"},\"line_alpha\":{\"value\":0.1},\"line_color\":{\"value\":\"#e5ae38\"},\"size\":{\"value\":5.477225575051661},\"x\":{\"field\":\"TotalCoinsMined\"},\"y\":{\"field\":\"TotalCoinSupply\"}},\"id\":\"302113\",\"type\":\"Scatter\"},{\"attributes\":{\"tools\":[{\"id\":\"302026\"},{\"id\":\"302047\"},{\"id\":\"302048\"},{\"id\":\"302049\"},{\"id\":\"302050\"},{\"id\":\"302051\"}]},\"id\":\"302053\",\"type\":\"Toolbar\"},{\"attributes\":{\"angle\":{\"value\":0.0},\"fill_alpha\":{\"value\":1.0},\"fill_color\":{\"value\":\"#e5ae38\"},\"hatch_alpha\":{\"value\":1.0},\"hatch_color\":{\"value\":\"#e5ae38\"},\"hatch_scale\":{\"value\":12.0},\"hatch_weight\":{\"value\":1.0},\"line_alpha\":{\"value\":1.0},\"line_cap\":{\"value\":\"butt\"},\"line_color\":{\"value\":\"#e5ae38\"},\"line_dash\":{\"value\":[]},\"line_dash_offset\":{\"value\":0},\"line_join\":{\"value\":\"bevel\"},\"line_width\":{\"value\":1},\"marker\":{\"value\":\"circle\"},\"size\":{\"value\":5.477225575051661},\"x\":{\"field\":\"TotalCoinsMined\"},\"y\":{\"field\":\"TotalCoinSupply\"}},\"id\":\"302132\",\"type\":\"Scatter\"},{\"attributes\":{\"margin\":[5,5,5,5],\"name\":\"HSpacer19808\",\"sizing_mode\":\"stretch_width\"},\"id\":\"302175\",\"type\":\"Spacer\"},{\"attributes\":{},\"id\":\"302134\",\"type\":\"Selection\"},{\"attributes\":{\"fill_color\":{\"value\":\"#30a2da\"},\"hatch_color\":{\"value\":\"#30a2da\"},\"line_color\":{\"value\":\"#30a2da\"},\"size\":{\"value\":5.477225575051661},\"x\":{\"field\":\"TotalCoinsMined\"},\"y\":{\"field\":\"TotalCoinSupply\"}},\"id\":\"302069\",\"type\":\"Scatter\"},{\"attributes\":{\"fill_alpha\":{\"value\":0.2},\"fill_color\":{\"value\":\"#6d904f\"},\"hatch_alpha\":{\"value\":0.2},\"hatch_color\":{\"value\":\"#6d904f\"},\"line_alpha\":{\"value\":0.2},\"line_color\":{\"value\":\"#6d904f\"},\"size\":{\"value\":5.477225575051661},\"x\":{\"field\":\"TotalCoinsMined\"},\"y\":{\"field\":\"TotalCoinSupply\"}},\"id\":\"302138\",\"type\":\"Scatter\"},{\"attributes\":{\"coordinates\":null,\"data_source\":{\"id\":\"302066\"},\"glyph\":{\"id\":\"302069\"},\"group\":null,\"hover_glyph\":null,\"muted_glyph\":{\"id\":\"302071\"},\"nonselection_glyph\":{\"id\":\"302070\"},\"selection_glyph\":{\"id\":\"302086\"},\"view\":{\"id\":\"302073\"}},\"id\":\"302072\",\"type\":\"GlyphRenderer\"},{\"attributes\":{\"label\":{\"value\":\"0\"},\"renderers\":[{\"id\":\"302072\"}]},\"id\":\"302085\",\"type\":\"LegendItem\"},{\"attributes\":{},\"id\":\"302035\",\"type\":\"LinearScale\"},{\"attributes\":{\"click_policy\":\"mute\",\"coordinates\":null,\"group\":null,\"items\":[{\"id\":\"302085\"},{\"id\":\"302107\"},{\"id\":\"302131\"},{\"id\":\"302157\"}],\"location\":[0,0],\"title\":\"Class\"},\"id\":\"302084\",\"type\":\"Legend\"},{\"attributes\":{\"source\":{\"id\":\"302133\"}},\"id\":\"302140\",\"type\":\"CDSView\"},{\"attributes\":{\"callback\":null,\"renderers\":[{\"id\":\"302072\"},{\"id\":\"302093\"},{\"id\":\"302115\"},{\"id\":\"302139\"}],\"tags\":[\"hv_created\"],\"tooltips\":[[\"Class\",\"@{Class}\"],[\"TotalCoinsMined\",\"@{TotalCoinsMined}\"],[\"TotalCoinSupply\",\"@{TotalCoinSupply}\"],[\"CoinName\",\"@{CoinName}\"]]},\"id\":\"302026\",\"type\":\"HoverTool\"},{\"attributes\":{\"angle\":{\"value\":0.0},\"fill_alpha\":{\"value\":1.0},\"fill_color\":{\"value\":\"#fc4f30\"},\"hatch_alpha\":{\"value\":1.0},\"hatch_color\":{\"value\":\"#fc4f30\"},\"hatch_scale\":{\"value\":12.0},\"hatch_weight\":{\"value\":1.0},\"line_alpha\":{\"value\":1.0},\"line_cap\":{\"value\":\"butt\"},\"line_color\":{\"value\":\"#fc4f30\"},\"line_dash\":{\"value\":[]},\"line_dash_offset\":{\"value\":0},\"line_join\":{\"value\":\"bevel\"},\"line_width\":{\"value\":1},\"marker\":{\"value\":\"circle\"},\"size\":{\"value\":5.477225575051661},\"x\":{\"field\":\"TotalCoinsMined\"},\"y\":{\"field\":\"TotalCoinSupply\"}},\"id\":\"302108\",\"type\":\"Scatter\"},{\"attributes\":{},\"id\":\"302064\",\"type\":\"BasicTickFormatter\"},{\"attributes\":{\"end\":1.1,\"reset_end\":1.1,\"reset_start\":-0.1,\"start\":-0.1,\"tags\":[[[\"TotalCoinSupply\",\"TotalCoinSupply\",null]]]},\"id\":\"302025\",\"type\":\"Range1d\"},{\"attributes\":{},\"id\":\"302065\",\"type\":\"AllLabels\"},{\"attributes\":{\"fill_color\":{\"value\":\"#e5ae38\"},\"hatch_color\":{\"value\":\"#e5ae38\"},\"line_color\":{\"value\":\"#e5ae38\"},\"size\":{\"value\":5.477225575051661},\"x\":{\"field\":\"TotalCoinsMined\"},\"y\":{\"field\":\"TotalCoinSupply\"}},\"id\":\"302112\",\"type\":\"Scatter\"},{\"attributes\":{\"fill_alpha\":{\"value\":0.2},\"fill_color\":{\"value\":\"#e5ae38\"},\"hatch_alpha\":{\"value\":0.2},\"hatch_color\":{\"value\":\"#e5ae38\"},\"line_alpha\":{\"value\":0.2},\"line_color\":{\"value\":\"#e5ae38\"},\"size\":{\"value\":5.477225575051661},\"x\":{\"field\":\"TotalCoinsMined\"},\"y\":{\"field\":\"TotalCoinSupply\"}},\"id\":\"302114\",\"type\":\"Scatter\"},{\"attributes\":{\"coordinates\":null,\"data_source\":{\"id\":\"302133\"},\"glyph\":{\"id\":\"302136\"},\"group\":null,\"hover_glyph\":null,\"muted_glyph\":{\"id\":\"302138\"},\"nonselection_glyph\":{\"id\":\"302137\"},\"selection_glyph\":{\"id\":\"302158\"},\"view\":{\"id\":\"302140\"}},\"id\":\"302139\",\"type\":\"GlyphRenderer\"},{\"attributes\":{\"source\":{\"id\":\"302066\"}},\"id\":\"302073\",\"type\":\"CDSView\"},{\"attributes\":{\"fill_color\":{\"value\":\"#6d904f\"},\"hatch_color\":{\"value\":\"#6d904f\"},\"line_color\":{\"value\":\"#6d904f\"},\"size\":{\"value\":5.477225575051661},\"x\":{\"field\":\"TotalCoinsMined\"},\"y\":{\"field\":\"TotalCoinSupply\"}},\"id\":\"302136\",\"type\":\"Scatter\"},{\"attributes\":{\"end\":1.042857142857143,\"reset_end\":1.042857142857143,\"reset_start\":-0.04285714285714286,\"start\":-0.04285714285714286,\"tags\":[[[\"TotalCoinsMined\",\"TotalCoinsMined\",null]]]},\"id\":\"302024\",\"type\":\"Range1d\"},{\"attributes\":{\"fill_alpha\":{\"value\":0.2},\"fill_color\":{\"value\":\"#30a2da\"},\"hatch_alpha\":{\"value\":0.2},\"hatch_color\":{\"value\":\"#30a2da\"},\"line_alpha\":{\"value\":0.2},\"line_color\":{\"value\":\"#30a2da\"},\"size\":{\"value\":5.477225575051661},\"x\":{\"field\":\"TotalCoinsMined\"},\"y\":{\"field\":\"TotalCoinSupply\"}},\"id\":\"302071\",\"type\":\"Scatter\"},{\"attributes\":{\"fill_alpha\":{\"value\":0.1},\"fill_color\":{\"value\":\"#6d904f\"},\"hatch_alpha\":{\"value\":0.1},\"hatch_color\":{\"value\":\"#6d904f\"},\"line_alpha\":{\"value\":0.1},\"line_color\":{\"value\":\"#6d904f\"},\"size\":{\"value\":5.477225575051661},\"x\":{\"field\":\"TotalCoinsMined\"},\"y\":{\"field\":\"TotalCoinSupply\"}},\"id\":\"302137\",\"type\":\"Scatter\"},{\"attributes\":{\"label\":{\"value\":\"3\"},\"renderers\":[{\"id\":\"302139\"}]},\"id\":\"302157\",\"type\":\"LegendItem\"},{\"attributes\":{\"fill_alpha\":{\"value\":0.1},\"fill_color\":{\"value\":\"#30a2da\"},\"hatch_alpha\":{\"value\":0.1},\"hatch_color\":{\"value\":\"#30a2da\"},\"line_alpha\":{\"value\":0.1},\"line_color\":{\"value\":\"#30a2da\"},\"size\":{\"value\":5.477225575051661},\"x\":{\"field\":\"TotalCoinsMined\"},\"y\":{\"field\":\"TotalCoinSupply\"}},\"id\":\"302070\",\"type\":\"Scatter\"},{\"attributes\":{\"angle\":{\"value\":0.0},\"fill_alpha\":{\"value\":1.0},\"fill_color\":{\"value\":\"#30a2da\"},\"hatch_alpha\":{\"value\":1.0},\"hatch_color\":{\"value\":\"#30a2da\"},\"hatch_scale\":{\"value\":12.0},\"hatch_weight\":{\"value\":1.0},\"line_alpha\":{\"value\":1.0},\"line_cap\":{\"value\":\"butt\"},\"line_color\":{\"value\":\"#30a2da\"},\"line_dash\":{\"value\":[]},\"line_dash_offset\":{\"value\":0},\"line_join\":{\"value\":\"bevel\"},\"line_width\":{\"value\":1},\"marker\":{\"value\":\"circle\"},\"size\":{\"value\":5.477225575051661},\"x\":{\"field\":\"TotalCoinsMined\"},\"y\":{\"field\":\"TotalCoinSupply\"}},\"id\":\"302086\",\"type\":\"Scatter\"},{\"attributes\":{\"data\":{\"Class\":[2],\"CoinName\":[\"BitTorrent\"],\"TotalCoinSupply\":{\"__ndarray__\":\"rkfhehSu7z8=\",\"dtype\":\"float64\",\"order\":\"little\",\"shape\":[1]},\"TotalCoinsMined\":{\"__ndarray__\":\"AAAAAAAA8D8=\",\"dtype\":\"float64\",\"order\":\"little\",\"shape\":[1]}},\"selected\":{\"id\":\"302110\"},\"selection_policy\":{\"id\":\"302128\"}},\"id\":\"302109\",\"type\":\"ColumnDataSource\"},{\"attributes\":{},\"id\":\"302067\",\"type\":\"Selection\"},{\"attributes\":{},\"id\":\"302088\",\"type\":\"Selection\"},{\"attributes\":{},\"id\":\"302110\",\"type\":\"Selection\"},{\"attributes\":{},\"id\":\"302037\",\"type\":\"LinearScale\"},{\"attributes\":{\"below\":[{\"id\":\"302039\"}],\"center\":[{\"id\":\"302042\"},{\"id\":\"302046\"}],\"height\":300,\"left\":[{\"id\":\"302043\"}],\"margin\":[5,5,5,5],\"min_border_bottom\":10,\"min_border_left\":10,\"min_border_right\":10,\"min_border_top\":10,\"renderers\":[{\"id\":\"302072\"},{\"id\":\"302093\"},{\"id\":\"302115\"},{\"id\":\"302139\"}],\"right\":[{\"id\":\"302084\"}],\"sizing_mode\":\"fixed\",\"title\":{\"id\":\"302031\"},\"toolbar\":{\"id\":\"302053\"},\"width\":700,\"x_range\":{\"id\":\"302024\"},\"x_scale\":{\"id\":\"302035\"},\"y_range\":{\"id\":\"302025\"},\"y_scale\":{\"id\":\"302037\"}},\"id\":\"302030\",\"subtype\":\"Figure\",\"type\":\"Plot\"},{\"attributes\":{\"axis_label\":\"TotalCoinsMined\",\"coordinates\":null,\"formatter\":{\"id\":\"302061\"},\"group\":null,\"major_label_policy\":{\"id\":\"302062\"},\"ticker\":{\"id\":\"302040\"}},\"id\":\"302039\",\"type\":\"LinearAxis\"},{\"attributes\":{},\"id\":\"302061\",\"type\":\"BasicTickFormatter\"},{\"attributes\":{},\"id\":\"302154\",\"type\":\"UnionRenderers\"},{\"attributes\":{},\"id\":\"302040\",\"type\":\"BasicTicker\"},{\"attributes\":{\"data\":{\"Class\":[3,3,3],\"CoinName\":[\"LitecoinCash\",\"Poa Network\",\"Waves\"],\"TotalCoinSupply\":{\"__ndarray__\":\"vHmqQ26GSz+EWijhloswPyxDHOviNho/\",\"dtype\":\"float64\",\"order\":\"little\",\"shape\":[3]},\"TotalCoinsMined\":{\"__ndarray__\":\"kKTF8kohRT+cGSV4jxIrP/tFfmC/eho/\",\"dtype\":\"float64\",\"order\":\"little\",\"shape\":[3]}},\"selected\":{\"id\":\"302134\"},\"selection_policy\":{\"id\":\"302154\"}},\"id\":\"302133\",\"type\":\"ColumnDataSource\"}],\"root_ids\":[\"302022\"]},\"title\":\"Bokeh Application\",\"version\":\"2.4.3\"}};\n",
       "    var render_items = [{\"docid\":\"1e1462b2-37b8-4beb-9918-609dfbdde7b4\",\"root_ids\":[\"302022\"],\"roots\":{\"302022\":\"35256672-49dc-492a-b78c-7e033dcf6495\"}}];\n",
       "    root.Bokeh.embed.embed_items_notebook(docs_json, render_items);\n",
       "    for (const render_item of render_items) {\n",
       "      for (const root_id of render_item.root_ids) {\n",
       "\tconst id_el = document.getElementById(root_id)\n",
       "\tif (id_el.children.length && (id_el.children[0].className === 'bk-root')) {\n",
       "\t  const root_el = id_el.children[0]\n",
       "\t  root_el.id = root_el.id + '-rendered'\n",
       "\t}\n",
       "      }\n",
       "    }\n",
       "  }\n",
       "  if (root.Bokeh !== undefined && root.Bokeh.Panel !== undefined) {\n",
       "    embed_document(root);\n",
       "  } else {\n",
       "    var attempts = 0;\n",
       "    var timer = setInterval(function(root) {\n",
       "      if (root.Bokeh !== undefined && root.Bokeh.Panel !== undefined) {\n",
       "        clearInterval(timer);\n",
       "        embed_document(root);\n",
       "      } else if (document.readyState == \"complete\") {\n",
       "        attempts++;\n",
       "        if (attempts > 200) {\n",
       "          clearInterval(timer);\n",
       "          console.log(\"Bokeh: ERROR: Unable to run BokehJS code because BokehJS library is missing\");\n",
       "        }\n",
       "      }\n",
       "    }, 25, root)\n",
       "  }\n",
       "})(window);</script>"
      ],
      "text/plain": [
       ":NdOverlay   [Class]\n",
       "   :Scatter   [TotalCoinsMined]   (TotalCoinSupply,CoinName)"
      ]
     },
     "execution_count": 182,
     "metadata": {
      "application/vnd.holoviews_exec.v0+json": {
       "id": "302022"
      }
     },
     "output_type": "execute_result"
    }
   ],
   "source": [
    "# Create a hvplot.scatter plot using x=\"TotalCoinsMined\" and y=\"TotalCoinSupply\".\n",
    "plot_df.hvplot.scatter(\n",
    "    x=\"TotalCoinsMined\",\n",
    "    y=\"TotalCoinSupply\",\n",
    "    by = \"Class\",\n",
    "    hover_cols = \"CoinName\"\n",
    ")\n"
   ]
  },
  {
   "cell_type": "code",
   "execution_count": null,
   "metadata": {},
   "outputs": [],
   "source": []
  }
 ],
 "metadata": {
  "file_extension": ".py",
  "kernelspec": {
   "display_name": "mlenv",
   "language": "python",
   "name": "mlenv"
  },
  "language_info": {
   "codemirror_mode": {
    "name": "ipython",
    "version": 3
   },
   "file_extension": ".py",
   "mimetype": "text/x-python",
   "name": "python",
   "nbconvert_exporter": "python",
   "pygments_lexer": "ipython3",
   "version": "3.9.16"
  },
  "latex_envs": {
   "LaTeX_envs_menu_present": true,
   "autoclose": false,
   "autocomplete": true,
   "bibliofile": "biblio.bib",
   "cite_by": "apalike",
   "current_citInitial": 1,
   "eqLabelWithNumbers": true,
   "eqNumInitial": 1,
   "hotkeys": {
    "equation": "Ctrl-E",
    "itemize": "Ctrl-I"
   },
   "labels_anchors": false,
   "latex_user_defs": false,
   "report_style_numbering": false,
   "user_envs_cfg": false
  },
  "mimetype": "text/x-python",
  "name": "python",
  "npconvert_exporter": "python",
  "pygments_lexer": "ipython3",
  "version": 3
 },
 "nbformat": 4,
 "nbformat_minor": 2
}
